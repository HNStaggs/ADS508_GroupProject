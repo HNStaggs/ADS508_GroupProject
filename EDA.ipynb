{
 "cells": [
  {
   "cell_type": "markdown",
   "id": "5c793d1c",
   "metadata": {},
   "source": [
    "# Data Ingestion"
   ]
  },
  {
   "cell_type": "markdown",
   "id": "2323e27d",
   "metadata": {},
   "source": [
    "## Copy CSV files to S3"
   ]
  },
  {
   "cell_type": "code",
   "execution_count": 11,
   "id": "fe95d59a",
   "metadata": {
    "tags": []
   },
   "outputs": [],
   "source": [
    "# Assume all the pre-requisites were set up \n",
    "%store -r setup_instance_check_passed\n",
    "%store -r setup_dependencies_passed\n",
    "%store -r setup_s3_bucket_passed\n",
    "%store -r setup_iam_roles_passed\n"
   ]
  },
  {
   "cell_type": "code",
   "execution_count": 12,
   "id": "27abfe19",
   "metadata": {
    "tags": []
   },
   "outputs": [],
   "source": [
    "# Load Libraries\n",
    "import boto3\n",
    "import sagemaker\n",
    "import pandas as pd\n",
    "\n",
    "sess = sagemaker.Session()\n",
    "bucket = sess.default_bucket()\n",
    "role = sagemaker.get_execution_role()\n",
    "region = boto3.Session().region_name\n",
    "account_id = boto3.client(\"sts\").get_caller_identity().get(\"Account\")\n",
    "\n",
    "sm = boto3.Session().client(service_name=\"sagemaker\", region_name=region)"
   ]
  },
  {
   "cell_type": "code",
   "execution_count": 50,
   "id": "1a390ac1",
   "metadata": {
    "tags": []
   },
   "outputs": [
    {
     "name": "stdout",
     "output_type": "stream",
     "text": [
      "                           PRE cities/\n",
      "                           PRE nyt/\n",
      "                           PRE tweeter/\n",
      "copy: s3://ads508team5/tweeter/hashtag_donaldtrump.csv to s3://sagemaker-us-east-1-851725336500/ADS508_project/tweeter/hashtag_donaldtrump.csv\n",
      "copy: s3://ads508team5/tweeter/hashtag_joebiden.csv to s3://sagemaker-us-east-1-851725336500/ADS508_project/tweeter/hashtag_joebiden.csv\n",
      "copy: s3://ads508team5/nyt/nyt-comments-2020.csv to s3://sagemaker-us-east-1-851725336500/ADS508_project/nyt/nyt-comments-2020.csv\n",
      "copy: s3://ads508team5/cities/uscities.csv to s3://sagemaker-us-east-1-851725336500/ADS508_project/cities/uscities.csv\n"
     ]
    }
   ],
   "source": [
    "# Public Data\n",
    "!aws s3 ls s3://ads508team5/\n",
    "\n",
    "# Copy Datasets from :\n",
    "# Source of data\n",
    "s3_public_path_tweeter = \"s3://ads508team5/tweeter\"\n",
    "s3_public_path_nyt = \"s3://ads508team5/nyt\"\n",
    "s3_public_path_cities = \"s3://ads508team5/cities\"\n",
    "\n",
    "# Destination Data:\n",
    "s3_private_path_tweeter = \"s3://{}/ADS508_project/tweeter\".format(bucket)\n",
    "s3_private_path_nyt = \"s3://{}/ADS508_project/nyt\".format(bucket)\n",
    "s3_private_path_cities = \"s3://{}/ADS508_project/cities\".format(bucket)\n",
    "\n",
    "# Copy datasets\n",
    "!aws s3 cp --recursive $s3_public_path_tweeter/ $s3_private_path_tweeter/ --exclude \"*\" --include \"hashtag_donaldtrump.csv\"\n",
    "!aws s3 cp --recursive $s3_public_path_tweeter/ $s3_private_path_tweeter/ --exclude \"*\" --include \"hashtag_joebiden.csv\"\n",
    "!aws s3 cp --recursive $s3_public_path_nyt/ $s3_private_path_nyt/ --exclude \"*\" --include \"nyt-comments-2020.csv\"\n",
    "!aws s3 cp --recursive $s3_public_path_cities/ $s3_private_path_cities/ --exclude \"*\" --include \"uscities.csv\""
   ]
  },
  {
   "cell_type": "markdown",
   "id": "fbfd7b2f",
   "metadata": {},
   "source": [
    "## Create Database, Tables and Parquets\n",
    "### Database"
   ]
  },
  {
   "cell_type": "code",
   "execution_count": null,
   "id": "8ed3ea97",
   "metadata": {
    "tags": []
   },
   "outputs": [],
   "source": [
    "# Setup and check pre-requisites to create Database\n",
    "ingest_create_athena_db_passed = False\n",
    "\n",
    "!pip install --disable-pip-version-check -q PyAthena==2.1.0\n",
    "from pyathena import connect"
   ]
  },
  {
   "cell_type": "code",
   "execution_count": null,
   "id": "54ba41e8-462e-425b-a617-05641521dd0e",
   "metadata": {
    "tags": []
   },
   "outputs": [],
   "source": [
    "\n",
    "# Set S3 staging directory -- this is a temporary directory used for Athena queries\n",
    "s3_staging_dir = \"s3://{0}/athena/staging\".format(bucket)\n",
    "\n",
    "# Create Connection\n",
    "conn = connect(region_name=region, s3_staging_dir=s3_staging_dir)"
   ]
  },
  {
   "cell_type": "code",
   "execution_count": null,
   "id": "a6268521",
   "metadata": {
    "tags": []
   },
   "outputs": [],
   "source": [
    "# Create Database\n",
    "database_name = \"dbpoliticpulsecomment\"\n",
    "\n",
    "statement = \"CREATE DATABASE IF NOT EXISTS {}\".format(database_name)\n",
    "\n",
    "pd.read_sql(statement, conn)\n",
    "\n",
    "# Verify DB successfully created\n",
    "statement = \"SHOW DATABASES\"\n",
    "\n",
    "df_show = pd.read_sql(statement, conn)\n",
    "df_show.head(5)\n"
   ]
  },
  {
   "cell_type": "code",
   "execution_count": null,
   "id": "a58edb18",
   "metadata": {
    "tags": []
   },
   "outputs": [],
   "source": [
    "# End of Create Database\n",
    "if database_name in df_show.values:\n",
    "    ingest_create_athena_db_passed = True"
   ]
  },
  {
   "cell_type": "markdown",
   "id": "50b6701e",
   "metadata": {},
   "source": [
    "### Tables"
   ]
  },
  {
   "cell_type": "code",
   "execution_count": null,
   "id": "b366b2af",
   "metadata": {
    "tags": []
   },
   "outputs": [],
   "source": [
    "# Create Tweeter Tables\n",
    "table_name_csv = \"tweeter\"\n",
    "s3_private_path_tweeter = \"s3://{}/ADS508_project/tweeter\".format(bucket)\n",
    "\n",
    "statement = \"\"\"CREATE EXTERNAL TABLE IF NOT EXISTS {}.{}(\n",
    "  created_at TIMESTAMP,\n",
    "  tweet_id FLOAT,\n",
    "  tweet VARCHAR(250),\n",
    "  likes INT,\n",
    "  retweet_count INT,\n",
    "  source VARCHAR(45),\n",
    "  user_id INT,\n",
    "  user_name VARCHAR(250),\n",
    "  user_screen_name VARCHAR(45),\n",
    "  user_description VARCHAR(250),\n",
    "  user_join_date TIMESTAMP,\n",
    "  user_followers_count INT,\n",
    "  user_location VARCHAR(45),\n",
    "  lat FLOAT,\n",
    "  long FLOAT,\n",
    "  city VARCHAR(45),\n",
    "  country VARCHAR(45),\n",
    "  continent VARCHAR(45),\n",
    "  state VARCHAR(45),\n",
    "  state_code VARCHAR(45),\n",
    "  collected_at VARCHAR(45)\n",
    ")\n",
    "ROW FORMAT DELIMITED\n",
    "FIELDS TERMINATED BY ','\n",
    "LOCATION '{}'\n",
    "TBLPROPERTIES ('skip.header.line.count'='1')\"\"\".format(\n",
    "    database_name, table_name_csv, s3_private_path_tweeter\n",
    ")\n",
    "\n",
    "pd.read_sql(statement, conn)\n"
   ]
  },
  {
   "cell_type": "code",
   "execution_count": null,
   "id": "cb2f3816",
   "metadata": {
    "tags": []
   },
   "outputs": [],
   "source": [
    "# testing hashtag_donaldtrump.csv tweet\n",
    "tweet = \"You get a tie! And you get a tie! #Trump ‘s rally #Iowa https://t.co/jJalUUmh5D\"\n",
    "# testing hashtag_joebiden.csv tweet\n",
    "tweet = \"@chrislongview Watching and setting dvr. Let’s give him bonus ratings!! #JoeBiden\"\n",
    "\n",
    "\n",
    "statement = \"\"\"SELECT * FROM {}.{}\n",
    "    WHERE tweet = '{}' LIMIT 100\"\"\".format(\n",
    "    database_name, table_name_csv, tweet\n",
    ")\n",
    "\n",
    "df = pd.read_sql(statement, conn)\n",
    "df.head(5)\n"
   ]
  },
  {
   "cell_type": "code",
   "execution_count": null,
   "id": "ed105b9b",
   "metadata": {
    "tags": []
   },
   "outputs": [],
   "source": [
    "# Create NYT comment Table\n",
    "table_name_csv = \"nyt_comment\"\n",
    "s3_private_path_nyt = \"s3://{}/ADS508_project/nyt\".format(bucket)\n",
    "\n",
    "\n",
    "statement = \"\"\"CREATE EXTERNAL TABLE IF NOT EXISTS {}.{} (\n",
    "  commentID INT,\n",
    "  status VARCHAR(20),\n",
    "  commentSequence INT,\n",
    "  userID INT,\n",
    "  userDisplayName VARCHAR(45),\n",
    "  userLocation VARCHAR(45),\n",
    "  userTitle VARCHAR(10),\n",
    "  commentBody VARCHAR(500),\n",
    "  createDate TIMESTAMP,\n",
    "  updateDate TIMESTAMP,\n",
    "  approveDate TIMESTAMP,\n",
    "  recommendation INT,\n",
    "  replyCount INT,\n",
    "  editorsSelection VARCHAR(20),\n",
    "  parentID INT,\n",
    "  parentUserDisplayName VARCHAR(45),\n",
    "  depth INT,\n",
    "  commentType VARCHAR(20),\n",
    "  trusted VARCHAR(20),\n",
    "  recommendedFlag VARCHAR(20),\n",
    "  permID INT,\n",
    "  isAnonymous VARCHAR(20),\n",
    "  articleID VARCHAR(150)\n",
    ")\n",
    "ROW FORMAT DELIMITED\n",
    "FIELDS TERMINATED BY ','\n",
    "LOCATION '{}'\n",
    "TBLPROPERTIES ('skip.header.line.count'='1')\"\"\".format(\n",
    "    database_name, table_name_csv, s3_private_path_nyt\n",
    ")\n",
    "\n",
    "pd.read_sql(statement, conn)\n"
   ]
  },
  {
   "cell_type": "code",
   "execution_count": null,
   "id": "1f08d61f",
   "metadata": {
    "tags": []
   },
   "outputs": [],
   "source": [
    "statement = \"SHOW TABLES in {}\".format(database_name)\n",
    "\n",
    "df_show = pd.read_sql(statement, conn)\n",
    "df_show.head(5)"
   ]
  },
  {
   "cell_type": "code",
   "execution_count": null,
   "id": "5f118e12",
   "metadata": {
    "tags": []
   },
   "outputs": [],
   "source": [
    "commentBody = \"@Philip Brown Agree 110%.\"\n",
    "\n",
    "statement = \"\"\"SELECT * FROM {}.{}\n",
    "    WHERE commentBody = '{}' LIMIT 100\"\"\".format(\n",
    "    database_name, table_name_csv, commentBody\n",
    ")\n",
    "\n",
    "df = pd.read_sql(statement, conn)\n",
    "df.head(5)\n"
   ]
  },
  {
   "cell_type": "code",
   "execution_count": null,
   "id": "df721c6c-eb56-473c-991f-4a8a80486d15",
   "metadata": {
    "tags": []
   },
   "outputs": [],
   "source": [
    "# Create uscities table\n",
    "table_name = \"uscities\"\n",
    "s3_private_path_cities = \"s3://{}/ADS508_project/cities\".format(bucket)\n",
    "\n",
    "statement = \"\"\"\n",
    "CREATE EXTERNAL TABLE IF NOT EXISTS {}.{} (\n",
    "    city VARCHAR(45),\n",
    "    state_id VARCHAR(2),\n",
    "    state_name VARCHAR(30)\n",
    ")\n",
    "ROW FORMAT DELIMITED\n",
    "FIELDS TERMINATED BY ','\n",
    "LOCATION '{}'\n",
    "TBLPROPERTIES ('skip.header.line.count'='1')\n",
    "\"\"\".format(\n",
    "    database_name, table_name, s3_private_path_cities\n",
    ")\n",
    "\n",
    "pd.read_sql(statement, conn)\n"
   ]
  },
  {
   "cell_type": "markdown",
   "id": "d3ccd002",
   "metadata": {},
   "source": [
    "### Parquets\n",
    "#### Feature Selection and Creation\n",
    "Prior creating a parquet table, tweeter and NYT comment tables are going to be combined under Comment Table in Athena where a feature creation is going to be performed. When the table is combined, we selected some features that would be benefit to our goal."
   ]
  },
  {
   "cell_type": "markdown",
   "id": "878fc4ed-1442-4639-b29b-a1ec495856cd",
   "metadata": {},
   "source": [
    "Selected features which could help on train the model are comment_body, user_location, candidatepoll"
   ]
  },
  {
   "cell_type": "code",
   "execution_count": null,
   "id": "abcc6e5d",
   "metadata": {
    "tags": []
   },
   "outputs": [],
   "source": [
    "table_comment = \"comment\"\n",
    "table_tweeter = \"tweeter\"\n",
    "table_nyt_comment = \"nyt_comment\"\n",
    "\n",
    "# SQL Statement combine tweeter and NYT comment in the preparation to create parquet\n",
    "statement = \"\"\"\n",
    "CREATE TABLE IF NOT EXISTS {}.{} AS (\n",
    "SELECT DISTINCT\n",
    "    tweet_id AS comment_id,\n",
    "    tweet AS comment_body,\n",
    "    user_id AS user_id,\n",
    "    user_name AS user_name,\n",
    "    user_location AS user_location,\n",
    "    u.state_id AS user_state,\n",
    "    created_at AS create_date,\n",
    "    retweet_count AS reply_retweet,\n",
    "    likes AS recommendation_like,\n",
    "    'tweet' as source,\n",
    "    (LENGTH(tweet) - LENGTH(REPLACE(LOWER(tweet), 'trump', ''))) / LENGTH('trump') AS trump_count,\n",
    "    (LENGTH(tweet) - LENGTH(REPLACE(LOWER(tweet), 'biden', ''))) / LENGTH('biden') AS biden_count,\n",
    "    CASE \n",
    "        WHEN \n",
    "            (LENGTH(tweet) - LENGTH(REPLACE(LOWER(tweet), 'biden', ''))) / LENGTH('biden') > \n",
    "            (LENGTH(tweet) - LENGTH(REPLACE(LOWER(tweet), 'trump', ''))) / LENGTH('trump') \n",
    "        THEN 'Biden'\n",
    "        WHEN              \n",
    "            (LENGTH(tweet) - LENGTH(REPLACE(LOWER(tweet), 'biden', ''))) / LENGTH('biden') < \n",
    "            (LENGTH(tweet) - LENGTH(REPLACE(LOWER(tweet), 'trump', ''))) / LENGTH('trump') \n",
    "        THEN 'Trump'\n",
    "        ELSE NULL\n",
    "    END AS candidatepoll\n",
    "FROM\n",
    "    {}.{}\n",
    "LEFT JOIN\n",
    "    dbpoliticpulsecomment.uscities u ON lower(user_location) = lower(u.city) OR \n",
    "    lower(user_location) = lower(u.state_name) OR \n",
    "    lower(user_location) = lower(u.state_id)\n",
    "WHERE\n",
    "    LENGTH(tweet) > 3\n",
    "UNION\n",
    "SELECT DISTINCT\n",
    "    commentid AS comment_id,\n",
    "    commentbody AS comment_body,\n",
    "    userID AS user_id,\n",
    "    userDisplayName AS user_name,\n",
    "    userLocation AS user_location,\n",
    "    u.state_id as user_state,\n",
    "    createDate AS create_date,\n",
    "    replyCount AS reply_retweet,\n",
    "    recommendation AS recommendation_like,\n",
    "    'nyt_comment' as source,\n",
    "    (LENGTH(commentbody) - LENGTH(REPLACE(LOWER(commentbody), 'trump', ''))) / LENGTH('trump') AS trump_count,\n",
    "    (LENGTH(commentbody) - LENGTH(REPLACE(LOWER(commentbody), 'biden', ''))) / LENGTH('biden') AS biden_count,\n",
    "    CASE\n",
    "        WHEN\n",
    "            (LENGTH(commentbody) - LENGTH(REPLACE(LOWER(commentbody), 'biden', ''))) / LENGTH('biden') > \n",
    "            (LENGTH(commentbody) - LENGTH(REPLACE(LOWER(commentbody), 'trump', ''))) / LENGTH('trump') \n",
    "        THEN 'Biden'\n",
    "        WHEN\n",
    "            (LENGTH(commentbody) - LENGTH(REPLACE(LOWER(commentbody), 'biden', ''))) / LENGTH('biden') < \n",
    "            (LENGTH(commentbody) - LENGTH(REPLACE(LOWER(commentbody), 'trump', ''))) / LENGTH('trump') \n",
    "        THEN 'Trump'\n",
    "        ELSE NULL\n",
    "    END AS candidatepoll\n",
    "FROM \n",
    "    {}.{}\n",
    "LEFT JOIN\n",
    "    dbpoliticpulsecomment.uscities u ON lower(userLocation) = lower(u.city) OR \n",
    "    lower(userLocation) = lower(u.state_name) OR \n",
    "    lower(userLocation) = lower(u.state_id)\n",
    "WHERE LENGTH(commentbody) > 3\n",
    ")\"\"\".format(database_name, table_comment,database_name, table_tweeter,database_name, table_nyt_comment)\n",
    "\n",
    "pd.read_sql(statement, conn)"
   ]
  },
  {
   "cell_type": "code",
   "execution_count": null,
   "id": "b0cf2ca7",
   "metadata": {
    "tags": []
   },
   "outputs": [],
   "source": [
    "commentbody = \"Joe Biden\"\n",
    "source = \"nyt_comment\"\n",
    "\n",
    "statement = \"\"\"SELECT * FROM {}.{}\n",
    "    WHERE comment_body like '{}%' and source = '{}' LIMIT 100\"\"\".format(\n",
    "    database_name, table_comment, commentbody, source\n",
    ")\n",
    "\n",
    "df = pd.read_sql(statement, conn)\n",
    "df.head(5)\n"
   ]
  },
  {
   "cell_type": "code",
   "execution_count": null,
   "id": "24e266db",
   "metadata": {
    "tags": []
   },
   "outputs": [],
   "source": [
    "# Setup to create Parquet\n",
    "ingest_create_athena_table_parquet_passed = False\n",
    "\n",
    "# Set S3 path to Parquet data\n",
    "s3_path_parquet = \"s3://{}/ADS508_project/parquet\".format(bucket)\n",
    "\n",
    "table_parquet = \"comment_parquet\""
   ]
  },
  {
   "cell_type": "code",
   "execution_count": null,
   "id": "ae06efcb",
   "metadata": {
    "tags": []
   },
   "outputs": [],
   "source": [
    "# SQL statement to execute (remove comment_id, user_name,)\n",
    "statement = \"\"\"CREATE TABLE IF NOT EXISTS {}.{}\n",
    "WITH (format = 'PARQUET', external_location = '{}', partitioned_by = ARRAY['candidatepoll']) AS\n",
    "SELECT DISTINCT user_location,\n",
    "         user_state,\n",
    "         comment_body,\n",
    "         source,\n",
    "         candidatepoll\n",
    "FROM {}.{}\n",
    "where candidatepoll is not null AND Length(comment_body)>1 AND length(user_location)>1\"\"\".format(\n",
    "    database_name, table_parquet, s3_path_parquet, database_name, table_comment\n",
    ")\n",
    "pd.read_sql(statement, conn)"
   ]
  },
  {
   "cell_type": "code",
   "execution_count": null,
   "id": "435eaa44",
   "metadata": {
    "tags": []
   },
   "outputs": [],
   "source": [
    "#load the Parquet partitions\n",
    "statement = \"MSCK REPAIR TABLE {}.{}\".format(database_name, table_parquet)\n",
    "\n",
    "df = pd.read_sql(statement, conn)\n",
    "df.head(5)"
   ]
  },
  {
   "cell_type": "code",
   "execution_count": null,
   "id": "96e21991",
   "metadata": {
    "tags": []
   },
   "outputs": [],
   "source": [
    "statement = \"SHOW PARTITIONS {}.{}\".format(database_name, table_parquet)\n",
    "df_partitions = pd.read_sql(statement, conn)\n",
    "df_partitions.head(5)"
   ]
  },
  {
   "cell_type": "code",
   "execution_count": null,
   "id": "f282d08a",
   "metadata": {
    "tags": []
   },
   "outputs": [],
   "source": [
    "statement = \"SHOW TABLES in {}\".format(database_name)\n",
    "df_partitions = pd.read_sql(statement, conn)\n",
    "df_partitions.head(5)"
   ]
  },
  {
   "cell_type": "code",
   "execution_count": null,
   "id": "3dc60922",
   "metadata": {
    "tags": []
   },
   "outputs": [],
   "source": [
    "candidatepoll = \"Trump\"\n",
    "\n",
    "statement = \"\"\"SELECT * FROM {}.{}\n",
    "    Where candidatepoll = '{}' LIMIT 10\"\"\".format(\n",
    "    database_name, table_parquet, candidatepoll\n",
    ")\n",
    "df_parquet = pd.read_sql(statement, conn)\n",
    "df_parquet.head(5)"
   ]
  },
  {
   "cell_type": "markdown",
   "id": "3b8461c5",
   "metadata": {},
   "source": [
    "## Query Data"
   ]
  },
  {
   "cell_type": "code",
   "execution_count": null,
   "id": "6e00bda0",
   "metadata": {
    "scrolled": true,
    "tags": []
   },
   "outputs": [],
   "source": [
    "# Setup and check pre-requisites to create Database\n",
    "\n",
    "!pip install --disable-pip-version-check -q awswrangler\n",
    "import awswrangler as wr"
   ]
  },
  {
   "cell_type": "code",
   "execution_count": null,
   "id": "3b28f75b",
   "metadata": {
    "tags": []
   },
   "outputs": [],
   "source": [
    "t_filter = lambda x: x[\"candidatepoll\"] == \"Trump\"\n",
    "b_filter = lambda x: x[\"candidatepoll\"] == \"Biden\""
   ]
  },
  {
   "cell_type": "code",
   "execution_count": null,
   "id": "d208219a",
   "metadata": {
    "tags": []
   },
   "outputs": [],
   "source": [
    "path =  \"s3://{}/ADS508_project/parquet\".format(bucket)\n",
    "\n",
    "df_parquet_results = wr.s3.read_parquet(\n",
    "    path, columns=[\"comment_body\", \"source\", \"user_location\", \"candidatepoll\"], partition_filter=t_filter, dataset=True\n",
    ")\n",
    "\n",
    "#\"user_state\", \n"
   ]
  },
  {
   "cell_type": "code",
   "execution_count": null,
   "id": "40daa73f",
   "metadata": {
    "tags": []
   },
   "outputs": [],
   "source": [
    "df_parquet_results_trump = df_parquet_results.drop_duplicates(subset = ['comment_body'])\n",
    "df_parquet_results_trump.shape\n",
    "df_parquet_results_trump.head(5)"
   ]
  },
  {
   "cell_type": "code",
   "execution_count": null,
   "id": "076d4959",
   "metadata": {
    "tags": []
   },
   "outputs": [],
   "source": [
    "path =  \"s3://{}/ADS508_project/parquet\".format(bucket)\n",
    "\n",
    "# Call all public discourse data from \n",
    "df_parquet_results = wr.s3.read_parquet(\n",
    "    path, columns=[\"comment_body\", \"source\", \"user_location\", \"candidatepoll\"], partition_filter=b_filter, dataset=True\n",
    ")\n",
    "\n",
    "# \"user_state\",\n",
    "df_parquet_results_biden = df_parquet_results.drop_duplicates(subset = ['comment_body'])\n",
    "df_parquet_results_biden.shape\n",
    "df_parquet_results_biden.head(5)"
   ]
  },
  {
   "cell_type": "markdown",
   "id": "612a2655",
   "metadata": {},
   "source": [
    "# Data Exploration before Any Feature Transformation"
   ]
  },
  {
   "cell_type": "code",
   "execution_count": null,
   "id": "5accb614",
   "metadata": {
    "tags": []
   },
   "outputs": [],
   "source": [
    "# Checking for missing values from trump data\n",
    "df_parquet_results_trump.info()"
   ]
  },
  {
   "cell_type": "code",
   "execution_count": null,
   "id": "af933a9a",
   "metadata": {
    "tags": []
   },
   "outputs": [],
   "source": [
    "# Check for missing values from  biden data\n",
    "df_parquet_results_biden.info()"
   ]
  },
  {
   "cell_type": "code",
   "execution_count": null,
   "id": "23647e4c",
   "metadata": {
    "tags": []
   },
   "outputs": [],
   "source": [
    "# Data Distributions for Trump and Biden \n",
    "df_parquet_results_trump['source'].value_counts()\n"
   ]
  },
  {
   "cell_type": "code",
   "execution_count": null,
   "id": "7c82b8ed",
   "metadata": {
    "tags": []
   },
   "outputs": [],
   "source": [
    "# Data Distributions for Trump and Biden \n",
    "df_parquet_results_biden['source'].value_counts()"
   ]
  },
  {
   "cell_type": "code",
   "execution_count": null,
   "id": "685d75cf",
   "metadata": {
    "tags": []
   },
   "outputs": [],
   "source": [
    "# Filtering Data by Location \n",
    "df_parquet_results_trump['user_location'].value_counts()"
   ]
  },
  {
   "cell_type": "code",
   "execution_count": null,
   "id": "36f505d2",
   "metadata": {
    "tags": []
   },
   "outputs": [],
   "source": [
    "# Top 30 locations of social media activity\n",
    "df_parquet_results_trump['user_location'].value_counts().head(30)"
   ]
  },
  {
   "cell_type": "code",
   "execution_count": null,
   "id": "c3724bb2",
   "metadata": {
    "tags": []
   },
   "outputs": [],
   "source": [
    "df_parquet_results_biden['user_location'].value_counts()"
   ]
  },
  {
   "cell_type": "code",
   "execution_count": null,
   "id": "4138776c",
   "metadata": {
    "tags": []
   },
   "outputs": [],
   "source": [
    "# Top 30 locations of social media activity\n",
    "df_parquet_results_biden['user_location'].value_counts().head(30)"
   ]
  },
  {
   "cell_type": "markdown",
   "id": "14395879",
   "metadata": {},
   "source": [
    "# Create EDA Overview Data Visualization"
   ]
  },
  {
   "cell_type": "code",
   "execution_count": null,
   "id": "f766c5a8",
   "metadata": {
    "tags": []
   },
   "outputs": [],
   "source": [
    "# Data Sources for Each Candidate\n",
    "# Code from ChatGPT\n",
    "\n",
    "import matplotlib.pyplot as plt\n",
    "\n",
    "candidate = ['Trump','Biden']\n",
    "twitter_n = [df_parquet_results_trump['source'].value_counts()[0],df_parquet_results_biden['source'].value_counts()[0]]\n",
    "nyt_n = [df_parquet_results_trump['source'].value_counts()[1],df_parquet_results_biden['source'].value_counts()[1]]\n",
    "\n",
    "x = range(len(candidate))\n",
    "\n",
    "# Plotting the bars\n",
    "plt.bar(x, twitter_n, width=0.4, label='Twitter Mentions', align='center')\n",
    "plt.bar(x, nyt_n, width=0.4, label='NYT Mentions', align='edge')\n",
    "\n",
    "# Adding labels\n",
    "plt.xlabel('Candidates')\n",
    "plt.ylabel('Number of Mentions')\n",
    "plt.title('Twitter and NYT Mentions by Candidate')\n",
    "plt.xticks(x, candidate)\n",
    "plt.legend()\n",
    "\n",
    "# Show plot\n",
    "plt.savefig('DataDist.png')"
   ]
  },
  {
   "cell_type": "markdown",
   "id": "d7632eaa-5bd6-4c9a-9d97-343f65725f1d",
   "metadata": {},
   "source": [
    "## Standardizing Text Entries and Location Data"
   ]
  },
  {
   "cell_type": "code",
   "execution_count": null,
   "id": "8cfe9814-bf24-4c15-aef0-6b356d759407",
   "metadata": {
    "tags": []
   },
   "outputs": [],
   "source": [
    "!pip install emoji"
   ]
  },
  {
   "cell_type": "code",
   "execution_count": null,
   "id": "ee1d1b97-7d7f-4e69-9e39-6d0014cd81e3",
   "metadata": {},
   "outputs": [],
   "source": []
  },
  {
   "cell_type": "code",
   "execution_count": null,
   "id": "10ffe246-eea5-488d-aa14-a91557970a62",
   "metadata": {
    "tags": []
   },
   "outputs": [],
   "source": [
    "import re\n",
    "import emoji\n",
    "\n",
    "# Function to preprocess text data\n",
    "def preprocess_text(text):\n",
    "    # Remove punctuation\n",
    "    text = re.sub(r'[^\\w\\s]', ' ', text)\n",
    "    # Replace emojis with text labels\n",
    "    text = emoji.demojize(text)\n",
    "    # Remove URLs\n",
    "    text = re.sub(r'http\\S+', ' ', text)\n",
    "    # Remove \"#\" from hashtags\n",
    "    text = re.sub(r'#', '', text)\n",
    "    # Remove \"@\" from mentions\n",
    "    text = re.sub(r'@', '', text)\n",
    "    # Remove extra spaces while preserving at least one space between words\n",
    "    text = re.sub(r'\\s+', ' ', text)\n",
    "    # Check if the text consists only of numbers\n",
    "    if text.isdigit():\n",
    "        text = \"NA\"\n",
    "    return text\n",
    "\n"
   ]
  },
  {
   "cell_type": "code",
   "execution_count": null,
   "id": "77d70e6d-5659-4631-a6ff-60f784382f37",
   "metadata": {
    "tags": []
   },
   "outputs": [],
   "source": [
    "df_parquet_results_biden['user_location'] = df_parquet_results_biden['user_location'].astype(str)\n",
    "df_parquet_results_trump['user_location'] = df_parquet_results_trump['user_location'].astype(str)"
   ]
  },
  {
   "cell_type": "code",
   "execution_count": null,
   "id": "778319e7-81a4-4ac8-bc8f-422439ed78a2",
   "metadata": {
    "tags": []
   },
   "outputs": [],
   "source": [
    "# Apply preprocessing to text columns in the dataframe\n",
    "df_parquet_results_biden['clean_text'] = df_parquet_results_biden['comment_body'].apply(preprocess_text)"
   ]
  },
  {
   "cell_type": "code",
   "execution_count": null,
   "id": "9767cb35-9241-4867-a89e-58d591f9843b",
   "metadata": {
    "tags": []
   },
   "outputs": [],
   "source": [
    "df_parquet_results_biden['clean_location'] = df_parquet_results_biden['user_location'].apply(preprocess_text)"
   ]
  },
  {
   "cell_type": "code",
   "execution_count": null,
   "id": "cbfa3eb2-40b6-4a0e-b2d4-f94ab7e07518",
   "metadata": {
    "tags": []
   },
   "outputs": [],
   "source": [
    "df_parquet_results_trump['clean_text'] = df_parquet_results_trump['comment_body'].apply(preprocess_text)"
   ]
  },
  {
   "cell_type": "code",
   "execution_count": null,
   "id": "11bb3bcd-26f5-4f63-ae3f-a46bb458676c",
   "metadata": {
    "tags": []
   },
   "outputs": [],
   "source": [
    "df_parquet_results_trump['clean_location'] = df_parquet_results_trump['user_location'].apply(preprocess_text)"
   ]
  },
  {
   "cell_type": "code",
   "execution_count": null,
   "id": "752e1423-e301-4802-9ff6-02cd48c5786a",
   "metadata": {
    "tags": []
   },
   "outputs": [],
   "source": [
    "df_parquet_results_trump.head()"
   ]
  },
  {
   "cell_type": "code",
   "execution_count": null,
   "id": "2306e619-0424-4eb9-bcf7-7074732e4e5f",
   "metadata": {
    "tags": []
   },
   "outputs": [],
   "source": [
    "df_parquet_results_biden.head()"
   ]
  },
  {
   "cell_type": "markdown",
   "id": "a1175b11-6feb-497a-bdae-9aadd86b1216",
   "metadata": {},
   "source": [
    "# Word Clouds with Comment Body Text"
   ]
  },
  {
   "cell_type": "code",
   "execution_count": null,
   "id": "6167ad62",
   "metadata": {
    "tags": []
   },
   "outputs": [],
   "source": [
    "!pip install WordCloud\n",
    "from wordcloud import WordCloud\n",
    "import matplotlib.pyplot as plt\n",
    "import re\n",
    "\n",
    "# Sample a subset of comments for generating the word cloud\n",
    "sampled_trump_comments = df_parquet_results_trump['clean_text'].dropna().sample(n=10000, random_state=42)\n",
    "\n",
    "# Concatenate sampled comments for Trump\n",
    "trump_comments_text = ' '.join(sampled_trump_comments)\n",
    "\n",
    "# Define words and patterns to exclude\n",
    "words_to_exclude = ['trump', 'donald', 'donaldtrump', 'https', 'co', 'st'] \n",
    "patterns_to_exclude = [r'\\btrump\\b', r'\\bdonald\\b', r'\\bdonaldtrump\\b', r'https?://\\S+']\n",
    "\n",
    "# Combine words and patterns to exclude\n",
    "exclude_patterns = '|'.join(words_to_exclude + patterns_to_exclude)\n",
    "\n",
    "# Preprocess text to remove specific words and patterns\n",
    "trump_comments_text_cleaned = re.sub(exclude_patterns, '', trump_comments_text, flags=re.IGNORECASE)\n",
    "\n",
    "# Generate word cloud for Trump comments with a limit on the number of words\n",
    "wordcloud_trump = WordCloud(width=800, height=400, background_color='white', max_words=100).generate(trump_comments_text_cleaned)\n",
    "\n",
    "# Plot the word cloud for Trump\n",
    "plt.figure(figsize=(10, 6))\n",
    "plt.imshow(wordcloud_trump, interpolation='bilinear')\n",
    "plt.title('Word Cloud for Trump Comments (Excluding \"Trump\" and \"Donald\")')\n",
    "plt.axis('off')\n",
    "plt.show()"
   ]
  },
  {
   "cell_type": "code",
   "execution_count": null,
   "id": "f7ae0744",
   "metadata": {
    "tags": []
   },
   "outputs": [],
   "source": [
    "# Sample a subset of comments for Biden\n",
    "sampled_biden_comments = df_parquet_results_biden['clean_text'].dropna().sample(n=40000, random_state=42)\n",
    "\n",
    "# Concatenate sampled comments for Biden\n",
    "biden_comments_text = ' '.join(sampled_biden_comments)\n",
    "\n",
    "# Define words and patterns to exclude\n",
    "words_to_exclude = ['biden', 'joe', 'joebiden', 'president', 'election', 'https', 'co','amp']  # Exclude common words and URLs\n",
    "patterns_to_exclude = [r'\\bbiden\\b', r'\\bjoe\\b', r'\\bjoebiden\\b', r'https?://\\S+']\n",
    "\n",
    "# Combine words and patterns to exclude\n",
    "exclude_patterns = '|'.join(words_to_exclude + patterns_to_exclude)\n",
    "\n",
    "# Preprocess text to remove specific words and patterns\n",
    "biden_comments_text_cleaned = re.sub(exclude_patterns, '', biden_comments_text, flags=re.IGNORECASE)\n",
    "\n",
    "# Generate word cloud for Biden comments with a limit on the number of words\n",
    "wordcloud_biden = WordCloud(width=800, height=400, background_color='white', max_words=100).generate(biden_comments_text_cleaned)\n",
    "\n",
    "# Plot the word cloud for Biden\n",
    "plt.figure(figsize=(10, 6))\n",
    "plt.imshow(wordcloud_biden, interpolation='bilinear')\n",
    "plt.title('Word Cloud for Biden Comments (Excluding \"Biden\" and \"Joe\")')\n",
    "plt.axis('off')\n",
    "plt.show()"
   ]
  },
  {
   "cell_type": "markdown",
   "id": "15c3a9ea-b173-4900-8692-e7c1f1155e6e",
   "metadata": {},
   "source": [
    "# Feature Transformation and Data Cleaning"
   ]
  },
  {
   "cell_type": "markdown",
   "id": "1c8c2e43",
   "metadata": {},
   "source": [
    "### Sentiment Labels Using Textblob and Stripping Out Non-English Text Entries with Fasttext."
   ]
  },
  {
   "cell_type": "markdown",
   "id": "a85a8dcc-df72-421d-9fc3-3659e469f28d",
   "metadata": {},
   "source": [
    "### This code must be ran on Mac/Linux only. Windows is not compatible. Clean data from this code is stored in an S3 bucket and called below."
   ]
  },
  {
   "cell_type": "code",
   "execution_count": null,
   "id": "f5f114ed-2edd-4f25-9e22-7ce19c1e9fc2",
   "metadata": {},
   "outputs": [],
   "source": []
  },
  {
   "cell_type": "code",
   "execution_count": null,
   "id": "9c08286a-166b-4167-ac5c-93c1173cfc50",
   "metadata": {
    "tags": []
   },
   "outputs": [],
   "source": [
    "!pip install textblob\n",
    "from textblob import TextBlob\n",
    "def analyze_tweet_sentiment(tweet_text):\n",
    "    analysis = TextBlob(tweet_text)\n",
    "    # Return sentiment polarity (ranging from -1 to 1)\n",
    "    return analysis.sentiment.polarity"
   ]
  },
  {
   "cell_type": "code",
   "execution_count": null,
   "id": "7c5faf7e",
   "metadata": {
    "tags": []
   },
   "outputs": [],
   "source": [
    "# Apply sentiment labels to Trump Data\n",
    "if __name__ == \"__main__\":\n",
    "    # Assuming you have a DataFrame named df_tweets with a column 'text' containing tweet text\n",
    "    df_tweets_trump = df_parquet_results_trump[['clean_text']]\n",
    "    # Analyze sentiment for each tweet in the DataFrame\n",
    "    df_tweets_trump['sentiment_score'] = df_tweets_trump['clean_text'].apply(analyze_tweet_sentiment)\n",
    "\n",
    "# Add sentiment output to parent dataframe\n",
    "df_parquet_results_trump['sentiment'] = df_tweets_trump['sentiment_score']"
   ]
  },
  {
   "cell_type": "code",
   "execution_count": null,
   "id": "3e6ce372",
   "metadata": {
    "tags": []
   },
   "outputs": [],
   "source": [
    " # Apply Sentiment labels to Biden Data       \n",
    "if __name__ == \"__main__\":\n",
    "    # Assuming you have a DataFrame named df_tweets with a column 'text' containing tweet text\n",
    "    df_tweets_biden = df_parquet_results_biden[['clean_text']]\n",
    "    # Analyze sentiment for each tweet in the DataFrame\n",
    "    df_tweets_biden['sentiment_score'] = df_tweets_biden['clean_text'].apply(analyze_tweet_sentiment)\n",
    "\n",
    "# Add sentiment output to parent dataframe\n",
    "df_parquet_results_biden['sentiment'] = df_tweets_biden['sentiment_score']\n"
   ]
  },
  {
   "cell_type": "code",
   "execution_count": null,
   "id": "6f9f32e3-4a20-4ebf-af29-3118266a6e4c",
   "metadata": {
    "tags": []
   },
   "outputs": [],
   "source": [
    "df_parquet_results_trump.head(5)"
   ]
  },
  {
   "cell_type": "code",
   "execution_count": null,
   "id": "bd892e56-316f-4da2-aaea-5d37972e390d",
   "metadata": {
    "tags": []
   },
   "outputs": [],
   "source": [
    "df_parquet_results_biden.head(5)"
   ]
  },
  {
   "cell_type": "markdown",
   "id": "a2f675ba-cb4c-4681-a8ed-4095613c30c2",
   "metadata": {},
   "source": [
    "## Combine candidate data"
   ]
  },
  {
   "cell_type": "code",
   "execution_count": null,
   "id": "823a470b-897c-4ee4-8c73-91797cd5dd95",
   "metadata": {
    "tags": []
   },
   "outputs": [],
   "source": [
    "df_combined = pd.concat([df_parquet_results_biden, df_parquet_results_trump], ignore_index=True)"
   ]
  },
  {
   "cell_type": "markdown",
   "id": "6a3bed61-bf06-4962-a3d9-b2ee380a869b",
   "metadata": {},
   "source": [
    "### Create sentiment labels"
   ]
  },
  {
   "cell_type": "code",
   "execution_count": null,
   "id": "4ac638a3-e39f-464a-9d5d-e62610c83c20",
   "metadata": {
    "tags": []
   },
   "outputs": [],
   "source": [
    "df_combined['sentiment_category'] = df_combined['sentiment'].apply(lambda x: 'negative' if x < 0 else ('positive' if x > 0 else 'neutral'))"
   ]
  },
  {
   "cell_type": "code",
   "execution_count": null,
   "id": "70d1b4b6-22ee-4ea8-ac8b-d09370bd2643",
   "metadata": {
    "tags": []
   },
   "outputs": [],
   "source": [
    "\n",
    "df_combined.head()\n"
   ]
  },
  {
   "cell_type": "code",
   "execution_count": null,
   "id": "8e80dc4e-6650-4296-a0b8-4d3f6de3d721",
   "metadata": {
    "tags": []
   },
   "outputs": [],
   "source": [
    "df_combined.shape"
   ]
  },
  {
   "cell_type": "markdown",
   "id": "577fd5f2-190d-4d58-af7c-5cbd2e9e6283",
   "metadata": {},
   "source": [
    "# Additional EDA with Clean Language Data"
   ]
  },
  {
   "cell_type": "markdown",
   "id": "28f8f6a5-f04b-440e-92e2-e74251399309",
   "metadata": {},
   "source": [
    "## Trump Data"
   ]
  },
  {
   "cell_type": "code",
   "execution_count": null,
   "id": "7e6888f0",
   "metadata": {
    "tags": []
   },
   "outputs": [],
   "source": [
    "# Examine Trump Sentiment distribution\n",
    "df_combined[df_combined['candidatepoll'] == 'Trump']['sentiment'].value_counts()"
   ]
  },
  {
   "cell_type": "code",
   "execution_count": null,
   "id": "32f86222-5614-403e-9196-6721f3af0c7d",
   "metadata": {
    "tags": []
   },
   "outputs": [],
   "source": [
    "df_combined[(df_combined['candidatepoll'] == 'Trump') & (df_combined['sentiment'] < 0)].head(5)"
   ]
  },
  {
   "cell_type": "code",
   "execution_count": null,
   "id": "6147c1f4-5e6a-4d13-ae45-65b611fa39f9",
   "metadata": {
    "tags": []
   },
   "outputs": [],
   "source": [
    "df_combined[(df_combined['candidatepoll'] == 'Trump') & (df_combined['sentiment'] == 0)].head(5)"
   ]
  },
  {
   "cell_type": "code",
   "execution_count": null,
   "id": "a2a426e1-a2b3-4d05-acc1-08998daafbd8",
   "metadata": {
    "tags": []
   },
   "outputs": [],
   "source": [
    "df_combined[(df_combined['candidatepoll'] == 'Trump') & (df_combined['sentiment'] > 0)].head(5)"
   ]
  },
  {
   "cell_type": "code",
   "execution_count": null,
   "id": "99336874-a3d8-48e2-9ded-7ccbdd43742a",
   "metadata": {
    "tags": []
   },
   "outputs": [],
   "source": [
    "plt.hist(df_combined[df_combined['candidatepoll'] == 'Trump']['sentiment'], bins=30, edgecolor='black')\n",
    "\n",
    "# Adding labels\n",
    "plt.xlabel('Sentiment Score')\n",
    "plt.ylabel('Frequency')\n",
    "plt.title('Distribution of Sentiment Scores for Trump')\n",
    "\n",
    "# Show plot\n",
    "plt.savefig('TrumpSentDist.png')"
   ]
  },
  {
   "cell_type": "markdown",
   "id": "299af5c5-43e8-4ce6-bd79-da2b8655e8fa",
   "metadata": {},
   "source": [
    "### Biden Data"
   ]
  },
  {
   "cell_type": "code",
   "execution_count": null,
   "id": "9e8e76cf-ee32-4e92-b30d-e8a8b93a02c9",
   "metadata": {
    "tags": []
   },
   "outputs": [],
   "source": [
    "df_combined[df_combined['candidatepoll'] == 'Biden']['sentiment'].value_counts()"
   ]
  },
  {
   "cell_type": "code",
   "execution_count": null,
   "id": "d244e68a-0598-4e64-9045-935a278343d6",
   "metadata": {
    "tags": []
   },
   "outputs": [],
   "source": [
    "df_combined[(df_combined['candidatepoll'] == 'Biden') & (df_combined['sentiment'] < 0)].head(5)"
   ]
  },
  {
   "cell_type": "code",
   "execution_count": null,
   "id": "1e4f9bd3-dd1c-4f2a-adb1-c14b1fffbf1a",
   "metadata": {
    "tags": []
   },
   "outputs": [],
   "source": [
    "df_combined[(df_combined['candidatepoll'] == 'Biden') & (df_combined['sentiment'] == 0)].head(5)"
   ]
  },
  {
   "cell_type": "code",
   "execution_count": null,
   "id": "a688224a-92ab-4847-a543-2aa62a4a5d00",
   "metadata": {
    "tags": []
   },
   "outputs": [],
   "source": [
    "df_combined[(df_combined['candidatepoll'] == 'Biden') & (df_combined['sentiment'] > 0)].head(5)"
   ]
  },
  {
   "cell_type": "code",
   "execution_count": null,
   "id": "4cc073d8-90f7-41b1-a35a-c9808fefe863",
   "metadata": {
    "tags": []
   },
   "outputs": [],
   "source": [
    "plt.hist(df_combined[df_combined['candidatepoll'] == 'Biden']['sentiment'], bins=30, edgecolor='black')\n",
    "\n",
    "# Adding labels\n",
    "plt.xlabel('Sentiment Score')\n",
    "plt.ylabel('Frequency')\n",
    "plt.title('Distribution of Sentiment Scores for Biden')\n",
    "\n",
    "# Show plot\n",
    "plt.savefig('BidenSentDist.png')"
   ]
  },
  {
   "cell_type": "markdown",
   "id": "4fd63b6a-94d5-4cd2-b0bd-b264ce307a9d",
   "metadata": {},
   "source": [
    "## Data Source Proportions with Clean Data"
   ]
  },
  {
   "cell_type": "code",
   "execution_count": null,
   "id": "3dc59399-dbf4-4568-9134-7c1541267549",
   "metadata": {
    "tags": []
   },
   "outputs": [],
   "source": [
    "candidate = ['Trump','Biden']\n",
    "twitter_n = [df_combined[df_combined['candidatepoll'] == 'Trump']['source'].value_counts()[0], \n",
    "             df_combined[df_combined['candidatepoll'] == 'Biden']['source'].value_counts()[0]]\n",
    "nyt_n = [df_combined[df_combined['candidatepoll'] == 'Trump']['source'].value_counts()[1], \n",
    "         df_combined[df_combined['candidatepoll'] == 'Biden']['source'].value_counts()[1]]\n",
    "\n",
    "x = range(len(candidate))\n",
    "\n",
    "# Plotting the bars\n",
    "plt.bar(x, twitter_n, width=0.4, label='Twitter Mentions', align='center')\n",
    "plt.bar(x, nyt_n, width=0.4, label='NYT Mentions', align='edge')\n",
    "\n",
    "# Adding labels\n",
    "plt.xlabel('Candidates')\n",
    "plt.ylabel('Number of Mentions')\n",
    "plt.title('Twitter and NYT Mentions by Candidate')\n",
    "plt.xticks(x, candidate)\n",
    "plt.legend()\n",
    "\n",
    "# Show plot\n",
    "plt.savefig('DataDist.png')"
   ]
  },
  {
   "cell_type": "markdown",
   "id": "4ed86825-ea70-4071-a61b-d33d32377e10",
   "metadata": {},
   "source": [
    "# Additional Feature Engineering"
   ]
  },
  {
   "cell_type": "markdown",
   "id": "089e0065-555e-423a-b885-1f1a201b4790",
   "metadata": {},
   "source": [
    "## Create Outcome Variable"
   ]
  },
  {
   "cell_type": "code",
   "execution_count": null,
   "id": "82621bac-f971-49d0-8414-9b9a4beef5c8",
   "metadata": {
    "tags": []
   },
   "outputs": [],
   "source": [
    "df_combined['SentimentOutcome'] = df_combined['candidatepoll']+\"_\"+df_combined['sentiment_category']"
   ]
  },
  {
   "cell_type": "code",
   "execution_count": null,
   "id": "db276d11-b4de-4d84-9ffa-691f2d31d622",
   "metadata": {
    "tags": []
   },
   "outputs": [],
   "source": [
    "import matplotlib.pyplot as plt\n",
    "category_counts = df_combined['SentimentOutcome'].value_counts()\n",
    "plt.bar(category_counts.index, category_counts.values)\n",
    "plt.xlabel('Candidate Sentiment Categories')\n",
    "plt.xticks(rotation=45)  # Rotate x-axis labels by 45 degrees\n",
    "plt.ylabel('Count')\n",
    "plt.title('Frequency of Each Possible Sentiment Outcome')\n",
    "plt.show()"
   ]
  },
  {
   "cell_type": "markdown",
   "id": "8cbaa582-21c3-4a70-b0bf-13b2d72c1c07",
   "metadata": {},
   "source": [
    "## Smallest category is Biden_negative. When using train/test/split with 90/5/5 ratio, we will need balancing."
   ]
  },
  {
   "cell_type": "code",
   "execution_count": null,
   "id": "26da0cb8-cac5-41a3-9bc6-9281e8cd4f53",
   "metadata": {
    "tags": []
   },
   "outputs": [],
   "source": [
    " df_combined[df_combined['candidatepoll'] == 'Biden']['SentimentOutcome'].value_counts()"
   ]
  },
  {
   "cell_type": "code",
   "execution_count": null,
   "id": "b75960b0-12b4-4fe3-8bef-ab345510ed2a",
   "metadata": {
    "tags": []
   },
   "outputs": [],
   "source": [
    " df_combined[df_combined['candidatepoll'] == 'Trump']['SentimentOutcome'].value_counts()"
   ]
  },
  {
   "cell_type": "code",
   "execution_count": null,
   "id": "4e4881c3-1007-4683-bff2-49bad3cd4873",
   "metadata": {
    "tags": []
   },
   "outputs": [],
   "source": [
    "df_combined.head(5)\n"
   ]
  },
  {
   "cell_type": "code",
   "execution_count": null,
   "id": "e9382803-5b54-4bec-a507-42d58cc4492f",
   "metadata": {},
   "outputs": [],
   "source": []
  },
  {
   "cell_type": "markdown",
   "id": "292aae2a-b305-4315-ba4c-72ff14256dfd",
   "metadata": {},
   "source": [
    "# Save Data to S3 bucket"
   ]
  },
  {
   "cell_type": "code",
   "execution_count": null,
   "id": "9888eb3b-afa5-4a99-9c30-ecdc342517da",
   "metadata": {
    "tags": []
   },
   "outputs": [],
   "source": [
    "# Specify the S3 bucket name\n",
    "prefix = \"ADS508_project/cleandata/\"\n",
    "\n",
    "# List of corresponding file names\n",
    "file_name = \"cleandata.csv\"\n",
    "\n",
    "# Create an S3 client\n",
    "s3 = boto3.client('s3')\n",
    "\n",
    "#refine df_combined\n",
    "df_combined_ref = df_combined[['source', 'clean_text', 'clean_location', 'candidatepoll', 'SentimentOutcome']]\n",
    "df_combined_ref.head()"
   ]
  },
  {
   "cell_type": "code",
   "execution_count": null,
   "id": "4d6d6d42-96cd-484e-be60-df59c4aef981",
   "metadata": {
    "tags": []
   },
   "outputs": [],
   "source": [
    "# Upload each file to S3\n",
    "df_combined_ref.to_csv(file_name, index=False)\n",
    "s3.upload_file(file_name, bucket, prefix + file_name)"
   ]
  },
  {
   "cell_type": "code",
   "execution_count": null,
   "id": "f969c20e-7615-49e2-80cf-c51dddcaeffd",
   "metadata": {
    "tags": []
   },
   "outputs": [],
   "source": [
    "# Create temp table of df_combined\n",
    "temp_table = \"temp_table\"\n",
    "s3_private_path_cleandata = \"s3://{}/ADS508_project/cleandata\".format(bucket)\n",
    "\n",
    "statement = \"\"\"\n",
    "CREATE EXTERNAL TABLE IF NOT EXISTS {}.{} (\n",
    "    source VARCHAR(20),\n",
    "    clean_text VARCHAR(250),\n",
    "    clean_location VARCHAR(25),\n",
    "    candidatepoll VARCHAR(10),\n",
    "    SentimentOutcome VARCHAR(10)\n",
    ")\n",
    "ROW FORMAT DELIMITED\n",
    "FIELDS TERMINATED BY ','\n",
    "LOCATION '{}'\n",
    "TBLPROPERTIES ('skip.header.line.count'='1')\n",
    "\"\"\".format(\n",
    "    database_name, temp_table, s3_private_path_cleandata\n",
    ")\n",
    "\n",
    "pd.read_sql(statement, conn)"
   ]
  },
  {
   "cell_type": "code",
   "execution_count": null,
   "id": "3887cc49-19b4-43ee-bfb5-5780d3f997ad",
   "metadata": {
    "tags": []
   },
   "outputs": [],
   "source": [
    "# map df_combined/ cleandata with uscities by city\n",
    "temp_table = \"temp_table_city\"\n",
    "import time\n",
    "from datetime import datetime\n",
    "from time import strftime\n",
    "timestamp = datetime.now().strftime(\"%Y-%m-%dT%H:%M:%SZ\")\n",
    "print(f\"start: {timestamp}\\n\")\n",
    "\n",
    "statement = \"\"\"\n",
    "CREATE TABLE IF NOT EXISTS {}.{} AS (\n",
    "SELECT DISTINCT \n",
    "    t.source, \n",
    "    t.clean_text, \n",
    "    t.clean_location, \n",
    "    t.candidatepoll, \n",
    "    t.SentimentOutcome, \n",
    "    u.state_id\n",
    "    FROM  dbpoliticpulsecomment.temp_table t\n",
    "    LEFT JOIN dbpoliticpulsecomment.uscities u\n",
    "        ON lower(t.clean_location) = lower(u.city)\n",
    "    where state_id <> ''\n",
    ")\n",
    "\"\"\".format(database_name, temp_table)\n",
    "pd.read_sql(statement, conn)\n",
    "\n",
    "timestamp = datetime.now().strftime(\"%Y-%m-%dT%H:%M:%SZ\")\n",
    "print(f\"end: {timestamp}\\n\")"
   ]
  },
  {
   "cell_type": "code",
   "execution_count": null,
   "id": "d4ca32b5-2eb6-4ee4-9436-564471413d1c",
   "metadata": {
    "tags": []
   },
   "outputs": [],
   "source": [
    "# map df_combined/ cleandata with uscities by statename\n",
    "temp_table = \"temp_table_statename\"\n",
    "import time\n",
    "from datetime import datetime\n",
    "from time import strftime\n",
    "timestamp = datetime.now().strftime(\"%Y-%m-%dT%H:%M:%SZ\")\n",
    "print(f\"start: {timestamp}\\n\")\n",
    "\n",
    "statement = \"\"\"\n",
    "CREATE TABLE IF NOT EXISTS {}.{} AS (\n",
    "SELECT DISTINCT \n",
    "    t.source, \n",
    "    t.clean_text, \n",
    "    t.clean_location, \n",
    "    t.candidatepoll, \n",
    "    t.SentimentOutcome, \n",
    "    u.state_id\n",
    "    FROM  dbpoliticpulsecomment.temp_table t\n",
    "    LEFT JOIN dbpoliticpulsecomment.uscities u\n",
    "        ON lower(t.clean_location) = lower(u.state_name)\n",
    "    where state_id <> ''\n",
    ")\n",
    "\"\"\".format(database_name, temp_table)\n",
    "pd.read_sql(statement, conn)\n",
    "\n",
    "timestamp = datetime.now().strftime(\"%Y-%m-%dT%H:%M:%SZ\")\n",
    "print(f\"end: {timestamp}\\n\")"
   ]
  },
  {
   "cell_type": "code",
   "execution_count": null,
   "id": "9366df17-d9ec-43b2-96cf-77fa14457e53",
   "metadata": {
    "tags": []
   },
   "outputs": [],
   "source": [
    "# map df_combined/ cleandata with uscities by stateid\n",
    "temp_table = \"temp_table_stateid\"\n",
    "import time\n",
    "from datetime import datetime\n",
    "from time import strftime\n",
    "timestamp = datetime.now().strftime(\"%Y-%m-%dT%H:%M:%SZ\")\n",
    "print(f\"start: {timestamp}\\n\")\n",
    "\n",
    "statement = \"\"\"\n",
    "CREATE TABLE IF NOT EXISTS {}.{} AS (\n",
    "SELECT DISTINCT \n",
    "    t.source, \n",
    "    t.clean_text, \n",
    "    t.clean_location, \n",
    "    t.candidatepoll, \n",
    "    t.SentimentOutcome, \n",
    "    u.state_id\n",
    "    FROM  dbpoliticpulsecomment.temp_table t\n",
    "    LEFT JOIN dbpoliticpulsecomment.uscities u\n",
    "        ON lower(t.clean_location) = lower(u.state_id)\n",
    "    where state_id <> ''\n",
    ")\n",
    "\"\"\".format(database_name, temp_table)\n",
    "pd.read_sql(statement, conn)\n",
    "\n",
    "timestamp = datetime.now().strftime(\"%Y-%m-%dT%H:%M:%SZ\")\n",
    "print(f\"end: {timestamp}\\n\")"
   ]
  },
  {
   "cell_type": "code",
   "execution_count": null,
   "id": "fdb53375-29bb-45e1-aa6d-9a5de7cbc444",
   "metadata": {
    "tags": []
   },
   "outputs": [],
   "source": [
    "# Create a combine of temp_table_state_id, _statename, _city\n",
    "table_name = \"cleandata\"\n",
    "import time\n",
    "from datetime import datetime\n",
    "from time import strftime\n",
    "timestamp = datetime.now().strftime(\"%Y-%m-%dT%H:%M:%SZ\")\n",
    "print(f\"start: {timestamp}\\n\")\n",
    "\n",
    "statement = \"\"\"\n",
    "CREATE TABLE IF NOT EXISTS {}.{} AS (\n",
    "SELECT DISTINCT \n",
    "    source, \n",
    "    clean_text, \n",
    "    clean_location, \n",
    "    candidatepoll, \n",
    "    SentimentOutcome, \n",
    "    state_id\n",
    "    FROM  dbpoliticpulsecomment.temp_table_stateid\n",
    "UNION\n",
    "SELECT DISTINCT \n",
    "    source, \n",
    "    clean_text, \n",
    "    clean_location, \n",
    "    candidatepoll, \n",
    "    SentimentOutcome, \n",
    "    state_id\n",
    "    FROM  dbpoliticpulsecomment.temp_table_city\n",
    "UNION\n",
    "SELECT DISTINCT \n",
    "    source, \n",
    "    clean_text, \n",
    "    clean_location, \n",
    "    candidatepoll, \n",
    "    SentimentOutcome, \n",
    "    state_id\n",
    "    FROM  dbpoliticpulsecomment.temp_table_statename\n",
    ")\n",
    "\"\"\".format(database_name, table_name)\n",
    "pd.read_sql(statement, conn)\n",
    "timestamp = datetime.now().strftime(\"%Y-%m-%dT%H:%M:%SZ\")\n",
    "print(f\"end: {timestamp}\\n\")"
   ]
  },
  {
   "cell_type": "code",
   "execution_count": null,
   "id": "2e8f8e0c-7861-44f7-b8a6-83e7245484ad",
   "metadata": {
    "tags": []
   },
   "outputs": [],
   "source": [
    "# Drop all unused tables from Athena\n",
    "drop_table_names = [\"temp_table\", \"temp_table_statename\", \"temp_table_stateid\", \"temp_table_city\"]\n",
    "\n",
    "for table_name in drop_table_names:\n",
    "    table_name = table_name\n",
    "\n",
    "    statement = \"\"\"\n",
    "    DROP TABLE {}.{}\n",
    "    \"\"\".format(database_name, table_name)\n",
    "    \n",
    "    pd.read_sql(statement, conn)"
   ]
  },
  {
   "cell_type": "code",
   "execution_count": null,
   "id": "eb4d8ed8-db2f-4ac0-a48f-e0c4c8b3e827",
   "metadata": {
    "tags": []
   },
   "outputs": [],
   "source": [
    "#==> SHOULD CREATE ANOTHER PARQUET OR READING FROM THIS? \n",
    "table_name = \"cleandata\"\n",
    "statement = \"\"\"SELECT * FROM {}.{}\"\"\".format(\n",
    "    database_name, table_name\n",
    ")\n",
    "df_combined_clean = pd.read_sql(statement, conn)\n",
    "df_combined_clean.head(5)"
   ]
  },
  {
   "cell_type": "code",
   "execution_count": null,
   "id": "8a01d3f5-67b0-4464-9a89-5592907eb9c2",
   "metadata": {
    "tags": []
   },
   "outputs": [],
   "source": [
    "df_combined_clean.shape"
   ]
  },
  {
   "cell_type": "markdown",
   "id": "98258a41-a25c-46eb-b0a2-90bf9df379b8",
   "metadata": {},
   "source": [
    "# Examine State IDs by Outcome"
   ]
  },
  {
   "cell_type": "code",
   "execution_count": null,
   "id": "539929ea-ea45-4e0f-ac6c-9cedc27d746c",
   "metadata": {
    "tags": []
   },
   "outputs": [],
   "source": [
    "df_final = df_combined_clean[['clean_text', 'state_id', 'sentimentoutcome']]"
   ]
  },
  {
   "cell_type": "code",
   "execution_count": null,
   "id": "fd7d7e14-cd85-4d5b-9a5a-1379b2bae87f",
   "metadata": {
    "tags": []
   },
   "outputs": [],
   "source": [
    "df_final['state_id'].value_counts()"
   ]
  },
  {
   "cell_type": "code",
   "execution_count": null,
   "id": "1d53367b-6e65-4987-8cc7-8d5f9e674d7f",
   "metadata": {
    "tags": []
   },
   "outputs": [],
   "source": [
    "# Step 1: Filter the DataFrame for the top 10 states\n",
    "top_5_states = df_final['state_id'].value_counts().head(5).index\n",
    "filtered_df = df_final[df_final['state_id'].isin(top_5_states)]\n",
    "\n",
    "# Step 2: Create a cross-tabulation (crosstab) with 'state_id' and 'sentimentoutcome'\n",
    "cross_tab = pd.crosstab(filtered_df['state_id'], filtered_df['sentimentoutcome'])\n",
    "\n",
    "# Display the cross-tabulation\n",
    "print(cross_tab)"
   ]
  },
  {
   "cell_type": "code",
   "execution_count": null,
   "id": "f11048e6-07b2-473b-b05b-119613469fc8",
   "metadata": {
    "tags": []
   },
   "outputs": [],
   "source": [
    "df_final.head()"
   ]
  },
  {
   "cell_type": "markdown",
   "id": "f729516d-f171-46ca-a061-b9f6ba020efd",
   "metadata": {},
   "source": [
    "# Upload Final Data to S3"
   ]
  },
  {
   "cell_type": "code",
   "execution_count": null,
   "id": "0492cc0a-9011-444e-81d3-38ccd197b556",
   "metadata": {
    "tags": []
   },
   "outputs": [],
   "source": [
    "# Specify the S3 bucket name\n",
    "prefix = \"ADS508_project/cleandata/\"\n",
    "\n",
    "# List of corresponding file names\n",
    "file_name = \"final_data.csv\"\n",
    "\n",
    "# Create an S3 client\n",
    "s3 = boto3.client('s3')\n",
    "\n",
    "df_final.to_csv(file_name, index=False)\n",
    "s3.upload_file(file_name, bucket, prefix + file_name)"
   ]
  },
  {
   "cell_type": "code",
   "execution_count": null,
   "id": "6236b793-9419-4e37-8b79-70284e4718b7",
   "metadata": {},
   "outputs": [],
   "source": []
  },
  {
   "cell_type": "markdown",
   "id": "51555eeb-fa23-4cf0-af8c-9f3759e36a3a",
   "metadata": {},
   "source": [
    "# Load Final Data from S3 Bucket for Modeling"
   ]
  },
  {
   "cell_type": "code",
   "execution_count": 4,
   "id": "6ee90830-3b4f-4608-b5a0-2dad7d9b6973",
   "metadata": {
    "tags": []
   },
   "outputs": [
    {
     "data": {
      "text/html": [
       "<div>\n",
       "<style scoped>\n",
       "    .dataframe tbody tr th:only-of-type {\n",
       "        vertical-align: middle;\n",
       "    }\n",
       "\n",
       "    .dataframe tbody tr th {\n",
       "        vertical-align: top;\n",
       "    }\n",
       "\n",
       "    .dataframe thead th {\n",
       "        text-align: right;\n",
       "    }\n",
       "</style>\n",
       "<table border=\"1\" class=\"dataframe\">\n",
       "  <thead>\n",
       "    <tr style=\"text-align: right;\">\n",
       "      <th></th>\n",
       "      <th>clean_text</th>\n",
       "      <th>state_id</th>\n",
       "      <th>sentimentoutcome</th>\n",
       "    </tr>\n",
       "  </thead>\n",
       "  <tbody>\n",
       "    <tr>\n",
       "      <th>0</th>\n",
       "      <td>H A Hyde Agreed I wonder how many trumpers kn...</td>\n",
       "      <td>NY</td>\n",
       "      <td>Trump_posi</td>\n",
       "    </tr>\n",
       "    <tr>\n",
       "      <th>1</th>\n",
       "      <td>FunkyIrishman I would love that but if SCOTUS...</td>\n",
       "      <td>LA</td>\n",
       "      <td>Trump_posi</td>\n",
       "    </tr>\n",
       "    <tr>\n",
       "      <th>2</th>\n",
       "      <td>Remember when Trump said What have you got to...</td>\n",
       "      <td>CT</td>\n",
       "      <td>Trump_neut</td>\n",
       "    </tr>\n",
       "    <tr>\n",
       "      <th>3</th>\n",
       "      <td>Seems to me that current events mean that Tru...</td>\n",
       "      <td>CA</td>\n",
       "      <td>Trump_nega</td>\n",
       "    </tr>\n",
       "    <tr>\n",
       "      <th>4</th>\n",
       "      <td>One of the reasons we have Donald Trump in off...</td>\n",
       "      <td>NJ</td>\n",
       "      <td>Trump_posi</td>\n",
       "    </tr>\n",
       "  </tbody>\n",
       "</table>\n",
       "</div>"
      ],
      "text/plain": [
       "                                          clean_text state_id sentimentoutcome\n",
       "0   H A Hyde Agreed I wonder how many trumpers kn...       NY       Trump_posi\n",
       "1   FunkyIrishman I would love that but if SCOTUS...       LA       Trump_posi\n",
       "2   Remember when Trump said What have you got to...       CT       Trump_neut\n",
       "3   Seems to me that current events mean that Tru...       CA       Trump_nega\n",
       "4  One of the reasons we have Donald Trump in off...       NJ       Trump_posi"
      ]
     },
     "execution_count": 4,
     "metadata": {},
     "output_type": "execute_result"
    }
   ],
   "source": [
    "# Specify the S3 bucket name and file path\n",
    "bucket_name = bucket\n",
    "file_path = 'ADS508_project/cleandata/final_data.csv'\n",
    "\n",
    "# Read CSV file from S3 bucket into DataFrame\n",
    "df_final = pd.read_csv(f's3://{bucket_name}/{file_path}')\n",
    "\n",
    "df_final.head()"
   ]
  },
  {
   "cell_type": "code",
   "execution_count": 5,
   "id": "4a4865af-17d4-4add-a91c-2dbbdcf3e36f",
   "metadata": {
    "tags": []
   },
   "outputs": [
    {
     "data": {
      "text/plain": [
       "(330248, 3)"
      ]
     },
     "execution_count": 5,
     "metadata": {},
     "output_type": "execute_result"
    }
   ],
   "source": [
    "df_final.shape"
   ]
  },
  {
   "cell_type": "markdown",
   "id": "8bddbfcd-fc4e-4de7-a49a-d2f86f6d6742",
   "metadata": {
    "tags": []
   },
   "source": [
    "## Autopilot "
   ]
  },
  {
   "cell_type": "code",
   "execution_count": null,
   "id": "39a315da-70a7-47c4-b886-45c0bf832273",
   "metadata": {},
   "outputs": [],
   "source": []
  },
  {
   "cell_type": "code",
   "execution_count": null,
   "id": "c5f9f288-d742-4422-99b9-58f6946ebbfc",
   "metadata": {
    "tags": []
   },
   "outputs": [],
   "source": [
    "# # Sample about 10% of the data without replacement ---just to test------\n",
    "# df_sampled = df_final.sample(frac=0.1, random_state=42)\n",
    "# # Save the sampled DataFrame to a CSV file, without the index\n",
    "# df_sampled.to_csv(\"df_sampled.csv\", index=False)"
   ]
  },
  {
   "cell_type": "code",
   "execution_count": null,
   "id": "9b538ccc-83d7-4883-a3aa-fa356114e24d",
   "metadata": {
    "tags": []
   },
   "outputs": [],
   "source": [
    "# Save the DataFrame to a CSV file, without the index\n",
    "df_final.to_csv(\"df_final.csv\", index=False)"
   ]
  },
  {
   "cell_type": "code",
   "execution_count": null,
   "id": "ebc8b52f-752c-4727-9b2a-9be1fc50670f",
   "metadata": {
    "tags": []
   },
   "outputs": [],
   "source": [
    "import boto3\n",
    "from botocore.exceptions import NoCredentialsError\n",
    "\n",
    "bucket_name = '508group'  # Replace with your bucket name\n",
    "file_name = \"df_final.csv\"  \n",
    "key = 'ADS508_project/cleandata/df_final.csv'  \n",
    "\n",
    "try:\n",
    "    s3.upload_file(file_name, bucket_name, key)\n",
    "    print(f\"File uploaded successfully to s3://{bucket_name}/{key}\")\n",
    "except FileNotFoundError:\n",
    "    print(\"The file was not found\")\n",
    "except NoCredentialsError:\n",
    "    print(\"Credentials not available\")"
   ]
  },
  {
   "cell_type": "code",
   "execution_count": null,
   "id": "e8e21949-2cbd-4cf0-9ced-719399d5ed6f",
   "metadata": {
    "tags": []
   },
   "outputs": [],
   "source": []
  },
  {
   "cell_type": "code",
   "execution_count": null,
   "id": "d3e4ff34-d035-45da-996d-14faae391ba7",
   "metadata": {
    "tags": []
   },
   "outputs": [],
   "source": [
    "import sagemaker\n",
    "from sagemaker import get_execution_role\n",
    "from sagemaker.automl.automl import AutoML\n",
    "\n",
    "role = get_execution_role()\n",
    "session = sagemaker.Session()\n",
    "\n",
    "# Replace 'your_dataset.csv' with the name of your CSV file\n",
    "input_data = 's3://508group/ADS508_project/cleandata/df_final.csv'\n",
    "\n",
    "autopilot_job = AutoML(\n",
    "    role=role,\n",
    "    target_attribute_name='sentimentoutcome',  # This is the column you're predicting\n",
    "    output_path='s3://508group/ADS508_project/output/autopilot/',\n",
    "    max_candidates=20,\n",
    "    sagemaker_session=session,\n",
    "    problem_type='MulticlassClassification',  # Assuming sentimentoutcome is multiclass\n",
    "    job_objective={'MetricName': 'Accuracy'}  # You can choose another metric if it fits better\n",
    ")\n",
    "\n",
    "autopilot_job.fit(inputs=input_data, wait=False, logs=True)\n"
   ]
  },
  {
   "cell_type": "code",
   "execution_count": null,
   "id": "94feeb6c-5710-40aa-add8-21333a57a0e2",
   "metadata": {},
   "outputs": [],
   "source": [
    "import boto3\n",
    "import tarfile\n",
    "import os\n",
    "\n",
    "# Initialize the S3 client\n",
    "s3 = boto3.client('s3')\n",
    "\n",
    "# S3 bucket and object key\n",
    "bucket_name = '508group'\n",
    "object_key = 'ADS508_project/output/autopilot/automl-2024-03-30-19-51-00-981/data-processor-models/automl-2024-03-30-19-51-00-981-dpp9-1-89acfb1b856c4754873c58ddd/output/model.tar.gz'\n",
    "\n",
    "# Local directory to extract the contents\n",
    "extract_dir = \"ADS508_project/output/autopilot/automl-2024-03-30-19-51-00-981/data-processor-models/automl-2024-03-30-19-51-00-981-dpp9-1-89acfb1b856c4754873c58ddd/output/model.tar.gz\"\n",
    "\n",
    "# Create the directory if it doesn't exist\n",
    "os.makedirs(extract_dir, exist_ok=True)\n",
    "\n",
    "# Download the file from S3\n",
    "local_file_path = os.path.join(extract_dir, 'model.tar.gz')\n",
    "s3.download_file(bucket_name, object_key, local_file_path)\n",
    "\n",
    "# Open the tar file and extract the contents\n",
    "with tarfile.open(local_file_path, \"r:gz\") as tar:\n",
    "    tar.extractall(path=extract_dir)\n",
    "\n",
    "# After extraction, you can further process or use the contents of the extracted files\n",
    "# For example, list the extracted files\n",
    "extracted_files = os.listdir(extract_dir)\n",
    "print(\"Extracted files:\", extracted_files)\n"
   ]
  },
  {
   "cell_type": "code",
   "execution_count": null,
   "id": "7afa5f57-4ea1-4f18-bf70-6d1d232ad1bb",
   "metadata": {
    "tags": []
   },
   "outputs": [],
   "source": [
    "# pip install -U scikit-learn"
   ]
  },
  {
   "cell_type": "code",
   "execution_count": null,
   "id": "a6873f18-501e-4edd-82d8-bca02cadce96",
   "metadata": {
    "tags": []
   },
   "outputs": [],
   "source": [
    "# Download the file from S3\n",
    "local_file_path = os.path.join(extract_dir, 'model.tar.gz')\n",
    "s3.download_file(bucket_name, object_key, local_file_path)\n",
    "\n",
    "# Extract the contents of the tar.gz file\n",
    "with tarfile.open(local_file_path, \"r:gz\") as tar:\n",
    "    tar.extractall(path=extract_dir)\n",
    "\n"
   ]
  },
  {
   "cell_type": "code",
   "execution_count": 17,
   "id": "ccc47c7d-67af-4ba9-ba7c-7c57c5c2025b",
   "metadata": {
    "tags": []
   },
   "outputs": [
    {
     "name": "stdout",
     "output_type": "stream",
     "text": [
      "start: 2024-04-01T18:34:14Z\n",
      "\n",
      ".................................................................................................................................................................................................................................................................................................................................................................................................................................................................................................................................................................................................................................\n",
      "..start: 2024-04-01T20:16:24Z\n",
      "\n"
     ]
    }
   ],
   "source": [
    "import sagemaker\n",
    "from sagemaker import get_execution_role\n",
    "from sagemaker.automl.automl import AutoML\n",
    "import time\n",
    "from datetime import datetime\n",
    "from time import strftime\n",
    "timestamp = datetime.now().strftime(\"%Y-%m-%dT%H:%M:%SZ\")\n",
    "print(f\"start: {timestamp}\\n\")\n",
    "role = get_execution_role()\n",
    "session = sagemaker.Session()\n",
    "# Replace 'your_dataset.csv' with the name of your CSV file\n",
    "#input_data = 's3://508group/ADS508_project/cleandata/df_final.csv'\n",
    "input_data = 's3://sagemaker-us-east-1-851725336500/ADS508_project/cleandata/final_data.csv'\n",
    "autopilot_job = AutoML(\n",
    "    role=role,\n",
    "    target_attribute_name='sentimentoutcome',  # This is the column you're predicting\n",
    "    #output_path='s3://508group/ADS508_project/output/autopilot/',\n",
    "    output_path= 's3://sagemaker-us-east-1-851725336500/ADS508_project/output/autopilot/',\n",
    "    max_candidates=20,\n",
    "    sagemaker_session=session,\n",
    "    problem_type='MulticlassClassification',  # Assuming sentimentoutcome is multiclass\n",
    "    job_objective={'MetricName': 'Accuracy'}  # You can choose another metric if it fits better\n",
    ")\n",
    "autopilot_job.fit(inputs=input_data, wait=True, logs=True)\n",
    "timestamp = datetime.now().strftime(\"%Y-%m-%dT%H:%M:%SZ\")\n",
    "print(f\"start: {timestamp}\\n\")\n"
   ]
  },
  {
   "cell_type": "markdown",
   "id": "389f77cb-b4d0-4fd3-8f43-c3fcf4c9e258",
   "metadata": {
    "tags": []
   },
   "source": [
    "# Top Model Object Keys"
   ]
  },
  {
   "cell_type": "code",
   "execution_count": null,
   "id": "5cfceb6d-0f2e-422d-bba1-60e70834b791",
   "metadata": {
    "tags": []
   },
   "outputs": [],
   "source": [
    "# XGBoost 1: Key Term \"R-002\"\n",
    "683313688378.dkr.ecr.us-east-1.amazonaws.com/sagemaker-xgboost:1.3-1-cpu-py3\n",
    "s3://sagemaker-us-east-1-851725336500/ADS508_project/output/autopilot/automl-2024-04-01-18-34-15-211/tuning/automl-202-dpp6-xgb/automl-2024-04-01-18-34-15-211xR-002-6a1fdd29/output/model.tar.gz"
   ]
  },
  {
   "cell_type": "code",
   "execution_count": null,
   "id": "9a19cc9c-f2d0-4ae0-8710-b1007b659040",
   "metadata": {},
   "outputs": [],
   "source": [
    "# R-001\n",
    "Name\n",
    "automl-2024-04-01-18-34-15-211xR-001-416b37f8-aws-training-job\n",
    "ARN\n",
    "arn:aws:sagemaker:us-east-1:851725336500:experiment-trial-component/automl-2024-04-01-18-34-15-211xR-001-416b37f8-aws-training-job\n",
    "\n",
    "#Image URI\n",
    "683313688378.dkr.ecr.us-east-1.amazonaws.com/sagemaker-xgboost:1.3-1-cpu-py3\n",
    "\n",
    "# Instance Info - 1 instance - 50GB\n",
    "ml.m5.12xlarge\n",
    "\n",
    "#Lambda\n",
    "0.015482990568956176\n",
    "\n",
    "#Max depth\n",
    "6\n",
    "\n",
    "#Min child weight\n",
    "0.0016695027194522027\n",
    "\n",
    "#Num class\n",
    "6\n",
    "\n",
    "#Num round\n",
    "967\n",
    "\n",
    "#Objective\n",
    "multi:softprob\n",
    "\n",
    "# Model artifact\n",
    "s3://sagemaker-us-east-1-851725336500/ADS508_project/output/autopilot/automl-2024-04-01-18-34-15-211/tuning/automl-202-dpp7-xgb/automl-2024-04-01-18-34-15-211xR-001-416b37f8/output/model.tar.gz"
   ]
  },
  {
   "cell_type": "code",
   "execution_count": null,
   "id": "e242a8a3-7e39-4df4-bdfc-25c0b204fef1",
   "metadata": {},
   "outputs": [],
   "source": []
  },
  {
   "cell_type": "code",
   "execution_count": null,
   "id": "b1476451-bf77-4e01-bb34-f89255e99bbf",
   "metadata": {
    "tags": []
   },
   "outputs": [],
   "source": [
    "# pip install --upgrade numpy scipy"
   ]
  },
  {
   "cell_type": "markdown",
   "id": "a3ccec5d-a028-4d7c-b486-dc7edc52f6ad",
   "metadata": {},
   "source": [
    "# Data Partition"
   ]
  },
  {
   "cell_type": "markdown",
   "id": "fc9d9632-a090-45b8-835f-6e9e9523239c",
   "metadata": {},
   "source": [
    "### Assign input and outcome variables"
   ]
  },
  {
   "cell_type": "code",
   "execution_count": 6,
   "id": "7a6ffd96-cee7-4aa1-88b9-f79ff82c4769",
   "metadata": {
    "tags": []
   },
   "outputs": [],
   "source": [
    "X = df_final[['clean_text', 'state_id']]\n",
    "y = df_final['sentimentoutcome']"
   ]
  },
  {
   "cell_type": "markdown",
   "id": "0f6711be-27cf-48c1-bb04-65dda756fc61",
   "metadata": {},
   "source": [
    "### Create a 90/5/5 data split"
   ]
  },
  {
   "cell_type": "code",
   "execution_count": 7,
   "id": "969a63d5-cf39-4d1c-b08b-ffcfbadbf373",
   "metadata": {
    "tags": []
   },
   "outputs": [],
   "source": [
    "from sklearn.model_selection import train_test_split\n",
    "\n",
    "# Split data into 90% train and 10% test\n",
    "X_train, X_test, y_train, y_test = train_test_split(X, y, test_size=0.1, random_state=1)\n",
    "\n",
    "# Split remaining data (90% train) into 90% train and 10% validation\n",
    "X_train, X_val, y_train, y_val = train_test_split(X_train, y_train, test_size=1/9, random_state=1)"
   ]
  },
  {
   "cell_type": "markdown",
   "id": "39da2621-7fce-410f-b131-2798a1c7e0c7",
   "metadata": {},
   "source": [
    "### Further undersample the training set so that each level of the outcome variable is equal"
   ]
  },
  {
   "cell_type": "code",
   "execution_count": 8,
   "id": "84c1c77f-9124-4fe2-8524-396167ba48f1",
   "metadata": {
    "tags": []
   },
   "outputs": [],
   "source": [
    "#!pip install imblearn\n",
    "from imblearn.under_sampling import RandomUnderSampler\n",
    "\n",
    "# Undersample the training set to balance the six categorical outcome levels\n",
    "undersampler = RandomUnderSampler(sampling_strategy='all', random_state=1)\n",
    "X_train_resampled, y_train_resampled = undersampler.fit_resample(X_train, y_train)"
   ]
  },
  {
   "cell_type": "markdown",
   "id": "62afaf20-6937-46dd-8748-fb1fd9da27e1",
   "metadata": {},
   "source": [
    "## Verify split datasets size and datatypes"
   ]
  },
  {
   "cell_type": "code",
   "execution_count": 9,
   "id": "288f0ae6-b39a-446b-b2f7-44e4386bc6b7",
   "metadata": {
    "tags": []
   },
   "outputs": [
    {
     "name": "stdout",
     "output_type": "stream",
     "text": [
      "<class 'pandas.core.frame.DataFrame'>\n",
      "Int64Index: 43860 entries, 53437 to 97982\n",
      "Data columns (total 2 columns):\n",
      " #   Column      Non-Null Count  Dtype \n",
      "---  ------      --------------  ----- \n",
      " 0   clean_text  43860 non-null  object\n",
      " 1   state_id    43860 non-null  object\n",
      "dtypes: object(2)\n",
      "memory usage: 1.0+ MB\n"
     ]
    }
   ],
   "source": [
    "X_train_resampled.info()"
   ]
  },
  {
   "cell_type": "code",
   "execution_count": 10,
   "id": "ab556b3e-f0d4-4da9-9e2d-d00637699f62",
   "metadata": {
    "tags": []
   },
   "outputs": [],
   "source": [
    "# Update Datatypes\n",
    "X_train_resampled['clean_text'] = X_train_resampled['clean_text'].astype(str)\n",
    "X_train_resampled['state_id'] = X_train_resampled['state_id'].astype('category')"
   ]
  },
  {
   "cell_type": "code",
   "execution_count": 11,
   "id": "e9970eab-cc66-4b88-ba99-b508cb3f72be",
   "metadata": {
    "tags": []
   },
   "outputs": [
    {
     "name": "stdout",
     "output_type": "stream",
     "text": [
      "<class 'pandas.core.frame.DataFrame'>\n",
      "Int64Index: 43860 entries, 53437 to 97982\n",
      "Data columns (total 2 columns):\n",
      " #   Column      Non-Null Count  Dtype   \n",
      "---  ------      --------------  -----   \n",
      " 0   clean_text  43860 non-null  object  \n",
      " 1   state_id    43860 non-null  category\n",
      "dtypes: category(1), object(1)\n",
      "memory usage: 730.6+ KB\n"
     ]
    }
   ],
   "source": [
    "X_train_resampled.info()"
   ]
  },
  {
   "cell_type": "code",
   "execution_count": null,
   "id": "eb4ee121-0cb7-4372-b13a-b10d6ee72732",
   "metadata": {},
   "outputs": [],
   "source": []
  },
  {
   "cell_type": "code",
   "execution_count": 12,
   "id": "816b5154-e57b-40d9-86cf-f4306ca60e00",
   "metadata": {
    "tags": []
   },
   "outputs": [
    {
     "name": "stdout",
     "output_type": "stream",
     "text": [
      "<class 'pandas.core.frame.DataFrame'>\n",
      "Int64Index: 33025 entries, 124161 to 206753\n",
      "Data columns (total 2 columns):\n",
      " #   Column      Non-Null Count  Dtype \n",
      "---  ------      --------------  ----- \n",
      " 0   clean_text  33025 non-null  object\n",
      " 1   state_id    33025 non-null  object\n",
      "dtypes: object(2)\n",
      "memory usage: 774.0+ KB\n"
     ]
    }
   ],
   "source": [
    "X_test.info()"
   ]
  },
  {
   "cell_type": "code",
   "execution_count": 13,
   "id": "26b725c5-5333-40f7-af2a-a9f21ecb1d3f",
   "metadata": {
    "tags": []
   },
   "outputs": [],
   "source": [
    "# Update Datatypes\n",
    "X_test['clean_text'] = X_test['clean_text'].astype(str)\n",
    "X_test['state_id'] = X_test['state_id'].astype('category')"
   ]
  },
  {
   "cell_type": "code",
   "execution_count": 14,
   "id": "6e19e81d-455a-404b-9cf2-b888db8a847a",
   "metadata": {
    "tags": []
   },
   "outputs": [
    {
     "name": "stdout",
     "output_type": "stream",
     "text": [
      "<class 'pandas.core.frame.DataFrame'>\n",
      "Int64Index: 33025 entries, 237346 to 197012\n",
      "Data columns (total 2 columns):\n",
      " #   Column      Non-Null Count  Dtype \n",
      "---  ------      --------------  ----- \n",
      " 0   clean_text  33025 non-null  object\n",
      " 1   state_id    33025 non-null  object\n",
      "dtypes: object(2)\n",
      "memory usage: 774.0+ KB\n"
     ]
    }
   ],
   "source": [
    "X_val.info()"
   ]
  },
  {
   "cell_type": "code",
   "execution_count": 15,
   "id": "bfdc91ec-5853-4fde-bb78-47583fc58c2d",
   "metadata": {
    "tags": []
   },
   "outputs": [],
   "source": [
    "# Update Datatypes\n",
    "X_val['clean_text'] = X_val['clean_text'].astype(str)\n",
    "X_val['state_id'] = X_val['state_id'].astype('category')"
   ]
  },
  {
   "cell_type": "code",
   "execution_count": 16,
   "id": "b0d6be10-6202-4a24-a9f3-99a36fa48b3b",
   "metadata": {
    "tags": []
   },
   "outputs": [
    {
     "data": {
      "text/plain": [
       "((43860, 2), (33025, 2), (33025, 2))"
      ]
     },
     "execution_count": 16,
     "metadata": {},
     "output_type": "execute_result"
    }
   ],
   "source": [
    "X_train_resampled.shape, X_test.shape, X_val.shape"
   ]
  },
  {
   "cell_type": "code",
   "execution_count": 17,
   "id": "b3bd9f63-cf44-48c7-b4ea-38de43c52cc4",
   "metadata": {
    "tags": []
   },
   "outputs": [
    {
     "data": {
      "text/html": [
       "<div>\n",
       "<style scoped>\n",
       "    .dataframe tbody tr th:only-of-type {\n",
       "        vertical-align: middle;\n",
       "    }\n",
       "\n",
       "    .dataframe tbody tr th {\n",
       "        vertical-align: top;\n",
       "    }\n",
       "\n",
       "    .dataframe thead th {\n",
       "        text-align: right;\n",
       "    }\n",
       "</style>\n",
       "<table border=\"1\" class=\"dataframe\">\n",
       "  <thead>\n",
       "    <tr style=\"text-align: right;\">\n",
       "      <th></th>\n",
       "      <th>clean_text</th>\n",
       "      <th>state_id</th>\n",
       "    </tr>\n",
       "  </thead>\n",
       "  <tbody>\n",
       "    <tr>\n",
       "      <th>53437</th>\n",
       "      <td>If his base can still hate Biden after all th...</td>\n",
       "      <td>NY</td>\n",
       "    </tr>\n",
       "    <tr>\n",
       "      <th>113899</th>\n",
       "      <td>Biden didn t run against socialists There wer...</td>\n",
       "      <td>PA</td>\n",
       "    </tr>\n",
       "    <tr>\n",
       "      <th>97700</th>\n",
       "      <td>RepDougCollins Oh screw off PresidentElect Jo...</td>\n",
       "      <td>IL</td>\n",
       "    </tr>\n",
       "    <tr>\n",
       "      <th>106233</th>\n",
       "      <td>Lynn Biden voted for the bankruptcy bill that...</td>\n",
       "      <td>PA</td>\n",
       "    </tr>\n",
       "    <tr>\n",
       "      <th>160694</th>\n",
       "      <td>Joe Biden I believe being accountable means h...</td>\n",
       "      <td>OH</td>\n",
       "    </tr>\n",
       "  </tbody>\n",
       "</table>\n",
       "</div>"
      ],
      "text/plain": [
       "                                               clean_text state_id\n",
       "53437    If his base can still hate Biden after all th...       NY\n",
       "113899   Biden didn t run against socialists There wer...       PA\n",
       "97700    RepDougCollins Oh screw off PresidentElect Jo...       IL\n",
       "106233   Lynn Biden voted for the bankruptcy bill that...       PA\n",
       "160694   Joe Biden I believe being accountable means h...       OH"
      ]
     },
     "execution_count": 17,
     "metadata": {},
     "output_type": "execute_result"
    }
   ],
   "source": [
    "X_train_resampled.head()"
   ]
  },
  {
   "cell_type": "code",
   "execution_count": 18,
   "id": "ec546bbf-599d-4d64-bdb4-ac1823fdc320",
   "metadata": {
    "tags": []
   },
   "outputs": [
    {
     "data": {
      "text/html": [
       "<div>\n",
       "<style scoped>\n",
       "    .dataframe tbody tr th:only-of-type {\n",
       "        vertical-align: middle;\n",
       "    }\n",
       "\n",
       "    .dataframe tbody tr th {\n",
       "        vertical-align: top;\n",
       "    }\n",
       "\n",
       "    .dataframe thead th {\n",
       "        text-align: right;\n",
       "    }\n",
       "</style>\n",
       "<table border=\"1\" class=\"dataframe\">\n",
       "  <thead>\n",
       "    <tr style=\"text-align: right;\">\n",
       "      <th></th>\n",
       "      <th>clean_text</th>\n",
       "      <th>state_id</th>\n",
       "    </tr>\n",
       "  </thead>\n",
       "  <tbody>\n",
       "    <tr>\n",
       "      <th>124161</th>\n",
       "      <td>As Trump rids himself and the country of resp...</td>\n",
       "      <td>MA</td>\n",
       "    </tr>\n",
       "    <tr>\n",
       "      <th>3351</th>\n",
       "      <td>Joe Biden needs to sign up for anti racism tra...</td>\n",
       "      <td>NY</td>\n",
       "    </tr>\n",
       "    <tr>\n",
       "      <th>291818</th>\n",
       "      <td>I saw a Trump banner on a lawn the other day</td>\n",
       "      <td>MA</td>\n",
       "    </tr>\n",
       "    <tr>\n",
       "      <th>98845</th>\n",
       "      <td>Trump was caught by the virus and his incompet...</td>\n",
       "      <td>GA</td>\n",
       "    </tr>\n",
       "    <tr>\n",
       "      <th>207321</th>\n",
       "      <td>Trump s lawyers saw this coming Now we know wh...</td>\n",
       "      <td>VA</td>\n",
       "    </tr>\n",
       "  </tbody>\n",
       "</table>\n",
       "</div>"
      ],
      "text/plain": [
       "                                               clean_text state_id\n",
       "124161   As Trump rids himself and the country of resp...       MA\n",
       "3351    Joe Biden needs to sign up for anti racism tra...       NY\n",
       "291818       I saw a Trump banner on a lawn the other day       MA\n",
       "98845   Trump was caught by the virus and his incompet...       GA\n",
       "207321  Trump s lawyers saw this coming Now we know wh...       VA"
      ]
     },
     "execution_count": 18,
     "metadata": {},
     "output_type": "execute_result"
    }
   ],
   "source": [
    "X_test.head()"
   ]
  },
  {
   "cell_type": "code",
   "execution_count": 19,
   "id": "e9ba7754-ad48-4e25-a942-d189c6e29e71",
   "metadata": {
    "tags": []
   },
   "outputs": [
    {
     "data": {
      "text/html": [
       "<div>\n",
       "<style scoped>\n",
       "    .dataframe tbody tr th:only-of-type {\n",
       "        vertical-align: middle;\n",
       "    }\n",
       "\n",
       "    .dataframe tbody tr th {\n",
       "        vertical-align: top;\n",
       "    }\n",
       "\n",
       "    .dataframe thead th {\n",
       "        text-align: right;\n",
       "    }\n",
       "</style>\n",
       "<table border=\"1\" class=\"dataframe\">\n",
       "  <thead>\n",
       "    <tr style=\"text-align: right;\">\n",
       "      <th></th>\n",
       "      <th>clean_text</th>\n",
       "      <th>state_id</th>\n",
       "    </tr>\n",
       "  </thead>\n",
       "  <tbody>\n",
       "    <tr>\n",
       "      <th>237346</th>\n",
       "      <td>The attempt to cover up the latest covid 19 v...</td>\n",
       "      <td>RI</td>\n",
       "    </tr>\n",
       "    <tr>\n",
       "      <th>57321</th>\n",
       "      <td>In defense of at least some Trump supporters</td>\n",
       "      <td>CO</td>\n",
       "    </tr>\n",
       "    <tr>\n",
       "      <th>276637</th>\n",
       "      <td>The only remote chance of this happening is i...</td>\n",
       "      <td>TX</td>\n",
       "    </tr>\n",
       "    <tr>\n",
       "      <th>10263</th>\n",
       "      <td>Trump is seemingly having a meltdown which wi...</td>\n",
       "      <td>CO</td>\n",
       "    </tr>\n",
       "    <tr>\n",
       "      <th>313099</th>\n",
       "      <td>I filled out my ballot for Bloomberg but then...</td>\n",
       "      <td>CO</td>\n",
       "    </tr>\n",
       "  </tbody>\n",
       "</table>\n",
       "</div>"
      ],
      "text/plain": [
       "                                               clean_text state_id\n",
       "237346   The attempt to cover up the latest covid 19 v...       RI\n",
       "57321        In defense of at least some Trump supporters       CO\n",
       "276637   The only remote chance of this happening is i...       TX\n",
       "10263    Trump is seemingly having a meltdown which wi...       CO\n",
       "313099   I filled out my ballot for Bloomberg but then...       CO"
      ]
     },
     "execution_count": 19,
     "metadata": {},
     "output_type": "execute_result"
    }
   ],
   "source": [
    "X_val.head()"
   ]
  },
  {
   "cell_type": "markdown",
   "id": "89d948f1-46dc-49bb-aebc-0815fb9a0de4",
   "metadata": {},
   "source": [
    "## Verify balance of training set"
   ]
  },
  {
   "cell_type": "code",
   "execution_count": 20,
   "id": "c30dc150-b36e-4f05-aa37-f608aadd1e38",
   "metadata": {
    "tags": []
   },
   "outputs": [
    {
     "data": {
      "text/plain": [
       "Biden_posi    7310\n",
       "Trump_posi    7310\n",
       "Biden_neut    7310\n",
       "Trump_neut    7310\n",
       "Trump_nega    7310\n",
       "Biden_nega    7310\n",
       "Name: sentimentoutcome, dtype: int64"
      ]
     },
     "execution_count": 20,
     "metadata": {},
     "output_type": "execute_result"
    }
   ],
   "source": [
    "y_train_resampled.value_counts()"
   ]
  },
  {
   "cell_type": "markdown",
   "id": "74953e5a-72fe-4574-9162-43840176bd6d",
   "metadata": {},
   "source": [
    "## Average length of comments. "
   ]
  },
  {
   "cell_type": "code",
   "execution_count": null,
   "id": "cb3bda01-4fb0-4dd5-af07-f38ae678d7af",
   "metadata": {
    "tags": []
   },
   "outputs": [],
   "source": [
    "# Function to count string word length\n",
    "def count_word_length(text):\n",
    "    words = text.split()\n",
    "    return len(words)\n",
    "\n",
    "# Add column to DataFrame\n",
    "df_final['word_length'] = df_final['clean_text'].apply(lambda x: count_word_length(x))"
   ]
  },
  {
   "cell_type": "code",
   "execution_count": null,
   "id": "8b161f93-9d09-4588-9f9f-7e9e43b4533d",
   "metadata": {
    "tags": []
   },
   "outputs": [],
   "source": [
    "import matplotlib.pyplot as plt\n",
    "import numpy as np\n",
    "median_word_length = np.median(df_final['word_length'])\n",
    "\n",
    "# Plot histogram of word lengths\n",
    "plt.hist(df_final['word_length'], bins=range(min(df_final['word_length']), max(df_final['word_length']) + 1), edgecolor='black')\n",
    "plt.axvline(median_word_length, color='red', linestyle='dashed', linewidth=1)  # Add vertical line at median\n",
    "plt.text(median_word_length, plt.ylim()[1] * 0.9, f'Median: {median_word_length:.2f}', color='red')  # Add label for median\n",
    "plt.xlabel('Word Length')\n",
    "plt.ylabel('Frequency')\n",
    "plt.title('Histogram of Word Lengths')\n",
    "plt.grid(True)\n",
    "plt.show()"
   ]
  },
  {
   "cell_type": "code",
   "execution_count": null,
   "id": "7d0e6a97-9067-4217-b9c1-fddcfd7cb39d",
   "metadata": {},
   "outputs": [],
   "source": []
  },
  {
   "cell_type": "markdown",
   "id": "923478e9-afa0-4267-bbd9-23eb49366603",
   "metadata": {},
   "source": [
    "# Text Entry Preprocessing and Data Transformation Pipeline: Will Need to Add Categorical One-Hot Encoding if we use Location Data"
   ]
  },
  {
   "cell_type": "code",
   "execution_count": null,
   "id": "cdde8566-8f5a-45f5-867f-17afcd7ba631",
   "metadata": {
    "tags": []
   },
   "outputs": [],
   "source": [
    "# Fit and transform on the training set\n",
    "#X_train_transformed_text = pd.DataFrame(text_pipeline.fit_transform(X_train_resampled['clean_text']))"
   ]
  },
  {
   "cell_type": "code",
   "execution_count": null,
   "id": "4f4a9a8b-4344-40f8-b409-65ce5fd5b980",
   "metadata": {
    "tags": []
   },
   "outputs": [],
   "source": [
    "#X_train_transformed_state = pd.DataFrame(cat_pipeline.fit_transform(X_train_resampled))\n",
    "#X_train_transformed_state.columns = ['state_id']"
   ]
  },
  {
   "cell_type": "code",
   "execution_count": null,
   "id": "701c679e-11ba-4778-ab06-8a1e36dc7af0",
   "metadata": {
    "tags": []
   },
   "outputs": [],
   "source": [
    "#X_train_transformed_text.head(2)"
   ]
  },
  {
   "cell_type": "code",
   "execution_count": null,
   "id": "2cb8f70b-d846-43a6-9ffd-958b416762f5",
   "metadata": {
    "tags": []
   },
   "outputs": [],
   "source": [
    "#X_train_transformed_state.head()"
   ]
  },
  {
   "cell_type": "code",
   "execution_count": null,
   "id": "d4481089-0717-40f9-903d-ea86511c3a3a",
   "metadata": {
    "tags": []
   },
   "outputs": [],
   "source": [
    "#X_train = pd.concat([X_train_transformed_text, X_train_transformed_state], axis=1)"
   ]
  },
  {
   "cell_type": "markdown",
   "id": "eabf3146-361b-40de-8172-f6a7ddacdf74",
   "metadata": {},
   "source": [
    "## Modeling "
   ]
  },
  {
   "cell_type": "code",
   "execution_count": 46,
   "id": "ac0b7aaf-71f5-47de-8fc5-201c388fd6cc",
   "metadata": {
    "tags": []
   },
   "outputs": [],
   "source": [
    "import boto3\n",
    "import sagemaker\n",
    "import pandas as pd\n",
    "\n",
    "sess = sagemaker.Session()\n",
    "bucket = sess.default_bucket()\n",
    "role = sagemaker.get_execution_role()\n",
    "region = boto3.Session().region_name\n",
    "\n",
    "sm = boto3.Session().client(service_name=\"sagemaker\", region_name=region)"
   ]
  },
  {
   "cell_type": "code",
   "execution_count": null,
   "id": "0a63cc4f-4fe6-4ca4-957a-231835b072a0",
   "metadata": {
    "tags": []
   },
   "outputs": [],
   "source": [
    "# pip install transformers"
   ]
  },
  {
   "cell_type": "markdown",
   "id": "73f849e6-fa6b-4951-a7c9-191be9bb2bd3",
   "metadata": {},
   "source": [
    "### Trying a different Preprocess, since I was having trouble with Word2Vec (This step ignores anything after word2vec)"
   ]
  },
  {
   "cell_type": "markdown",
   "id": "fab265e3-982d-4b30-bf79-716ca11edbab",
   "metadata": {},
   "source": [
    "### First function using \"last_hidden_state\" which did not work well with my PC"
   ]
  },
  {
   "cell_type": "code",
   "execution_count": null,
   "id": "5551b056-465c-420c-92b3-cb63e35ec549",
   "metadata": {
    "tags": []
   },
   "outputs": [],
   "source": [
    "from transformers import DistilBertTokenizer, DistilBertModel\n",
    "import torch\n",
    "from sklearn.base import BaseEstimator, TransformerMixin\n",
    "from tqdm import tqdm\n",
    "import numpy as np\n",
    "\n",
    "class DistilBERTTransformer(BaseEstimator, TransformerMixin):\n",
    "    def __init__(self):\n",
    "        # Initialize the DistilBERT tokenizer and model\n",
    "        self.tokenizer = DistilBertTokenizer.from_pretrained('distilbert-base-uncased')\n",
    "        self.model = DistilBertModel.from_pretrained('distilbert-base-uncased')\n",
    "        self.model.eval()  # Set model to evaluation mode\n",
    "    \n",
    "    def fit(self, X, y=None):\n",
    "        return self\n",
    "    \n",
    "    def transform(self, X, batch_size=32):\n",
    "        device = torch.device(\"cuda\" if torch.cuda.is_available() else \"cpu\")\n",
    "        self.model.to(device)\n",
    "        embeddings = []\n",
    "        for i in tqdm(range(0, len(X), batch_size)):\n",
    "            batch = X[i:i+batch_size]\n",
    "            inputs = self.tokenizer(batch, return_tensors=\"pt\", padding=True, truncation=True, max_length=512).to(device)\n",
    "            with torch.no_grad():\n",
    "                outputs = self.model(**inputs)\n",
    "            embeddings.append(outputs.last_hidden_state.mean(dim=1).detach().cpu().numpy())  # Use mean pooling\n",
    "        return np.vstack(embeddings)"
   ]
  },
  {
   "cell_type": "markdown",
   "id": "eb3c0d55-c87b-413e-8514-194f1e45995e",
   "metadata": {},
   "source": [
    "### Second function directly appends outputs to embeddings without using last_hidden_state. Also shorted max_length of input characters to 64 to reduce computational overload."
   ]
  },
  {
   "cell_type": "code",
   "execution_count": 25,
   "id": "8224bb6f-d1be-4e64-958c-16258016af03",
   "metadata": {
    "tags": []
   },
   "outputs": [],
   "source": [
    "from transformers import DistilBertTokenizer, DistilBertModel\n",
    "import torch\n",
    "from sklearn.base import BaseEstimator, TransformerMixin\n",
    "from tqdm import tqdm\n",
    "import numpy as np\n",
    "\n",
    "class DistilBERTTransformer(BaseEstimator, TransformerMixin):\n",
    "    def __init__(self):\n",
    "        # Initialize the DistilBERT tokenizer and model\n",
    "        self.tokenizer = DistilBertTokenizer.from_pretrained('distilbert-base-uncased')\n",
    "        self.model = DistilBertModel.from_pretrained('distilbert-base-uncased')\n",
    "        self.model.eval()  # Set model to evaluation mode\n",
    "    \n",
    "    def fit(self, X, y=None):\n",
    "        return self\n",
    "\n",
    "    def transform(self, X, batch_size=32):\n",
    "        device = torch.device(\"cuda\" if torch.cuda.is_available() else \"cpu\")\n",
    "        self.model.to(device)\n",
    "        embeddings = []\n",
    "        for i in tqdm(range(0, len(X), batch_size)):\n",
    "            batch = X[i:i+batch_size]\n",
    "            inputs = self.tokenizer(batch, return_tensors=\"pt\", padding=True, truncation=True, max_length=64).to(device)\n",
    "            with torch.no_grad():\n",
    "                outputs = self.model(**inputs)\n",
    "            # Adjust based on the actual structure of the outputs\n",
    "            embeddings.append(outputs[0].mean(dim=1).detach().cpu().numpy())  # Use mean pooling\n",
    "        return np.vstack(embeddings)"
   ]
  },
  {
   "cell_type": "markdown",
   "id": "4a9b3cef-c2f2-4bac-9d0e-8ed7f5345a77",
   "metadata": {},
   "source": [
    "### BERT transformations"
   ]
  },
  {
   "cell_type": "code",
   "execution_count": 26,
   "id": "3a69d003-4ff9-49e3-b231-3d4745101a22",
   "metadata": {
    "tags": []
   },
   "outputs": [],
   "source": [
    "distilbert_transformer = DistilBERTTransformer()"
   ]
  },
  {
   "cell_type": "code",
   "execution_count": 21,
   "id": "e0f42411-f1fe-4448-a08f-0e939341d630",
   "metadata": {
    "tags": []
   },
   "outputs": [
    {
     "name": "stderr",
     "output_type": "stream",
     "text": [
      "100%|██████████| 1371/1371 [38:14<00:00,  1.67s/it]\n"
     ]
    }
   ],
   "source": [
    "# Transform 'clean_text' into DistilBERT embeddings for the training set\n",
    "texts_train = X_train_resampled['clean_text'].tolist()  # Extract texts as a list\n",
    "distilbert_embeddings_train = distilbert_transformer.transform(texts_train)"
   ]
  },
  {
   "cell_type": "code",
   "execution_count": 49,
   "id": "4ffbbb5e-9f65-4c7c-879a-7216db1219de",
   "metadata": {
    "tags": []
   },
   "outputs": [
    {
     "name": "stderr",
     "output_type": "stream",
     "text": [
      "100%|██████████| 1033/1033 [29:03<00:00,  1.69s/it]\n"
     ]
    }
   ],
   "source": [
    "# Transform 'clean_text' into DistilBERT embeddings for the validation set\n",
    "texts_val = X_val['clean_text'].tolist()  # Extract texts as a list\n",
    "distilbert_embeddings_val = distilbert_transformer.transform(texts_val)"
   ]
  },
  {
   "cell_type": "code",
   "execution_count": 27,
   "id": "e4499044-70a3-4a9d-a04c-8f7dc565e845",
   "metadata": {
    "tags": []
   },
   "outputs": [
    {
     "name": "stderr",
     "output_type": "stream",
     "text": [
      "100%|██████████| 1033/1033 [28:51<00:00,  1.68s/it]\n"
     ]
    }
   ],
   "source": [
    "# Transform 'clean_text' into DistilBERT embeddings for the test set\n",
    "texts_test = X_test['clean_text'].tolist()  # Extract texts as a list\n",
    "distilbert_embeddings_test = distilbert_transformer.transform(texts_test)\n"
   ]
  },
  {
   "cell_type": "code",
   "execution_count": 22,
   "id": "e8049855-68f2-487c-95dc-f870dc0e0657",
   "metadata": {
    "tags": []
   },
   "outputs": [],
   "source": [
    "distilbert_embeddings_train = pd.DataFrame(distilbert_embeddings_train)"
   ]
  },
  {
   "cell_type": "code",
   "execution_count": 50,
   "id": "f75b27cb-fa60-4224-86ea-e5bb8fd48d15",
   "metadata": {},
   "outputs": [],
   "source": [
    "distilbert_embeddings_val = pd.DataFrame(distilbert_embeddings_val)"
   ]
  },
  {
   "cell_type": "code",
   "execution_count": 28,
   "id": "5b8f6d3c-5730-40d8-b6cc-36866cfbf586",
   "metadata": {},
   "outputs": [],
   "source": [
    "distilbert_embeddings_test = pd.DataFrame(distilbert_embeddings_test)"
   ]
  },
  {
   "cell_type": "code",
   "execution_count": null,
   "id": "8b451b80-236b-424e-8f9d-39b4fcaa8b1c",
   "metadata": {},
   "outputs": [],
   "source": []
  },
  {
   "cell_type": "code",
   "execution_count": null,
   "id": "0144b6b7-2c32-4ee5-8294-237d16a1d534",
   "metadata": {},
   "outputs": [],
   "source": []
  },
  {
   "cell_type": "code",
   "execution_count": null,
   "id": "3ff2062c-a5d0-4f3b-95d4-a691eb13a9ce",
   "metadata": {},
   "outputs": [],
   "source": []
  },
  {
   "cell_type": "markdown",
   "id": "bcd731b1-8c48-4454-99d6-994fa60c9343",
   "metadata": {},
   "source": [
    "### Store Transformed BERT Dats"
   ]
  },
  {
   "cell_type": "code",
   "execution_count": 23,
   "id": "41be6a76-d5e9-4454-93d5-8385428193fb",
   "metadata": {
    "tags": []
   },
   "outputs": [],
   "source": [
    "# Specify the S3 bucket name\n",
    "prefix = \"ADS508_project/cleandata/\"\n",
    "\n",
    "# List of corresponding file names\n",
    "file_name = \"X_train_bert.csv\"\n",
    "\n",
    "# Create an S3 client\n",
    "s3 = boto3.client('s3')\n",
    "\n",
    "distilbert_embeddings_train.to_csv(file_name, index=False)\n",
    "s3.upload_file(file_name, bucket, prefix + file_name)"
   ]
  },
  {
   "cell_type": "code",
   "execution_count": 51,
   "id": "7f3b343f-1471-460a-824a-48b10d17c3d2",
   "metadata": {},
   "outputs": [],
   "source": [
    "# Specify the S3 bucket name\n",
    "prefix = \"ADS508_project/cleandata/\"\n",
    "\n",
    "# List of corresponding file names\n",
    "file_name = \"X_val_bert.csv\"\n",
    "\n",
    "# Create an S3 client\n",
    "s3 = boto3.client('s3')\n",
    "\n",
    "distilbert_embeddings_val.to_csv(file_name, index=False)\n",
    "s3.upload_file(file_name, bucket, prefix + file_name)"
   ]
  },
  {
   "cell_type": "code",
   "execution_count": 29,
   "id": "2621896a-b366-4af4-8f20-0de491f18432",
   "metadata": {},
   "outputs": [],
   "source": [
    "# Specify the S3 bucket name\n",
    "prefix = \"ADS508_project/cleandata/\"\n",
    "\n",
    "# List of corresponding file names\n",
    "file_name = \"X_test_bert.csv\"\n",
    "\n",
    "# Create an S3 client\n",
    "s3 = boto3.client('s3')\n",
    "\n",
    "distilbert_embeddings_test.to_csv(file_name, index=False)\n",
    "s3.upload_file(file_name, bucket, prefix + file_name)"
   ]
  },
  {
   "cell_type": "code",
   "execution_count": null,
   "id": "aba240e8-466c-4b68-a6d5-62bea2e1309a",
   "metadata": {},
   "outputs": [],
   "source": []
  },
  {
   "cell_type": "code",
   "execution_count": null,
   "id": "8e88abaf-f126-4d40-b8b1-1d66b8993abd",
   "metadata": {},
   "outputs": [],
   "source": []
  },
  {
   "cell_type": "code",
   "execution_count": null,
   "id": "46f42a2a-0736-4883-beb8-e73837cdb99f",
   "metadata": {},
   "outputs": [],
   "source": []
  },
  {
   "cell_type": "markdown",
   "id": "8e2ab0dd-dfc7-4285-8b14-d553520a45ed",
   "metadata": {},
   "source": [
    "# Modeling"
   ]
  },
  {
   "cell_type": "markdown",
   "id": "f73ab26a-66ac-423e-8ea3-edb87fd8ad62",
   "metadata": {},
   "source": [
    "## Create Datasets with just BERT Text Data and Outcome Variable: Retrieve Data From S3"
   ]
  },
  {
   "cell_type": "code",
   "execution_count": 4,
   "id": "f967942c-9a5d-4a3e-b735-cb51473ee5bf",
   "metadata": {
    "tags": []
   },
   "outputs": [
    {
     "ename": "NameError",
     "evalue": "name 'y_train_resampled' is not defined",
     "output_type": "error",
     "traceback": [
      "\u001b[0;31m---------------------------------------------------------------------------\u001b[0m",
      "\u001b[0;31mNameError\u001b[0m                                 Traceback (most recent call last)",
      "Cell \u001b[0;32mIn[4], line 16\u001b[0m\n\u001b[1;32m     13\u001b[0m X_train_bert \u001b[38;5;241m=\u001b[39m pd\u001b[38;5;241m.\u001b[39mread_csv(response[\u001b[38;5;124m'\u001b[39m\u001b[38;5;124mBody\u001b[39m\u001b[38;5;124m'\u001b[39m])\n\u001b[1;32m     15\u001b[0m \u001b[38;5;66;03m# Add a new column to the DataFrame\u001b[39;00m\n\u001b[0;32m---> 16\u001b[0m X_train_bert[\u001b[38;5;124m'\u001b[39m\u001b[38;5;124msentimentoutcome\u001b[39m\u001b[38;5;124m'\u001b[39m] \u001b[38;5;241m=\u001b[39m pd\u001b[38;5;241m.\u001b[39mCategorical(\u001b[43my_train_resampled\u001b[49m)\n\u001b[1;32m     18\u001b[0m \u001b[38;5;66;03m# Write the modified DataFrame to a CSV file\u001b[39;00m\n\u001b[1;32m     19\u001b[0m csv_buffer \u001b[38;5;241m=\u001b[39m StringIO()\n",
      "\u001b[0;31mNameError\u001b[0m: name 'y_train_resampled' is not defined"
     ]
    }
   ],
   "source": [
    "# Add outcome column to training set\n",
    "import pandas as pd\n",
    "import boto3\n",
    "from io import StringIO\n",
    "\n",
    "# Specify the S3 bucket name and file path\n",
    "bucket_name = bucket\n",
    "file_path = 'ADS508_project/cleandata/X_train_bert.csv'\n",
    "\n",
    "# Read CSV file from S3 bucket into DataFrame\n",
    "s3 = boto3.client('s3')\n",
    "response = s3.get_object(Bucket=bucket_name, Key=file_path)\n",
    "X_train_bert = pd.read_csv(response['Body'])\n",
    "\n",
    "# Add a new column to the DataFrame\n",
    "X_train_bert['sentimentoutcome'] = pd.Categorical(y_train_resampled)\n",
    "\n",
    "# Write the modified DataFrame to a CSV file\n",
    "csv_buffer = StringIO()\n",
    "X_train_bert.to_csv(csv_buffer, index=False)\n",
    "\n",
    "# Upload the updated CSV file to the S3 bucket, replacing the original file\n",
    "s3.put_object(Bucket=bucket_name, Key=file_path, Body=csv_buffer.getvalue())"
   ]
  },
  {
   "cell_type": "code",
   "execution_count": 6,
   "id": "6cc88eb6-0cc5-4249-aafb-c4c217804a88",
   "metadata": {
    "tags": []
   },
   "outputs": [
    {
     "data": {
      "text/plain": [
       "'sagemaker-us-east-1-851725336500'"
      ]
     },
     "execution_count": 6,
     "metadata": {},
     "output_type": "execute_result"
    }
   ],
   "source": [
    "bucket"
   ]
  },
  {
   "cell_type": "code",
   "execution_count": 5,
   "id": "a317acc0-5c0b-4cba-a0af-d7facbb761b8",
   "metadata": {
    "tags": []
   },
   "outputs": [
    {
     "data": {
      "text/html": [
       "<div>\n",
       "<style scoped>\n",
       "    .dataframe tbody tr th:only-of-type {\n",
       "        vertical-align: middle;\n",
       "    }\n",
       "\n",
       "    .dataframe tbody tr th {\n",
       "        vertical-align: top;\n",
       "    }\n",
       "\n",
       "    .dataframe thead th {\n",
       "        text-align: right;\n",
       "    }\n",
       "</style>\n",
       "<table border=\"1\" class=\"dataframe\">\n",
       "  <thead>\n",
       "    <tr style=\"text-align: right;\">\n",
       "      <th></th>\n",
       "      <th>0</th>\n",
       "      <th>1</th>\n",
       "      <th>2</th>\n",
       "      <th>3</th>\n",
       "      <th>4</th>\n",
       "      <th>5</th>\n",
       "      <th>6</th>\n",
       "      <th>7</th>\n",
       "      <th>8</th>\n",
       "      <th>9</th>\n",
       "      <th>...</th>\n",
       "      <th>759</th>\n",
       "      <th>760</th>\n",
       "      <th>761</th>\n",
       "      <th>762</th>\n",
       "      <th>763</th>\n",
       "      <th>764</th>\n",
       "      <th>765</th>\n",
       "      <th>766</th>\n",
       "      <th>767</th>\n",
       "      <th>sentimentoutcome</th>\n",
       "    </tr>\n",
       "  </thead>\n",
       "  <tbody>\n",
       "    <tr>\n",
       "      <th>0</th>\n",
       "      <td>0.095015</td>\n",
       "      <td>0.009549</td>\n",
       "      <td>0.009942</td>\n",
       "      <td>0.037959</td>\n",
       "      <td>0.117014</td>\n",
       "      <td>-0.110813</td>\n",
       "      <td>0.070921</td>\n",
       "      <td>0.102977</td>\n",
       "      <td>-0.001028</td>\n",
       "      <td>-0.204761</td>\n",
       "      <td>...</td>\n",
       "      <td>0.135476</td>\n",
       "      <td>0.210159</td>\n",
       "      <td>-0.067416</td>\n",
       "      <td>0.237532</td>\n",
       "      <td>0.094727</td>\n",
       "      <td>0.022339</td>\n",
       "      <td>0.059760</td>\n",
       "      <td>0.073708</td>\n",
       "      <td>-0.043815</td>\n",
       "      <td>Biden_nega</td>\n",
       "    </tr>\n",
       "    <tr>\n",
       "      <th>1</th>\n",
       "      <td>-0.030366</td>\n",
       "      <td>0.011380</td>\n",
       "      <td>-0.126178</td>\n",
       "      <td>0.100002</td>\n",
       "      <td>-0.143618</td>\n",
       "      <td>-0.003824</td>\n",
       "      <td>-0.047498</td>\n",
       "      <td>0.257969</td>\n",
       "      <td>-0.085199</td>\n",
       "      <td>-0.151125</td>\n",
       "      <td>...</td>\n",
       "      <td>0.081773</td>\n",
       "      <td>-0.080077</td>\n",
       "      <td>-0.029285</td>\n",
       "      <td>0.260058</td>\n",
       "      <td>-0.097784</td>\n",
       "      <td>0.064009</td>\n",
       "      <td>-0.055928</td>\n",
       "      <td>0.078552</td>\n",
       "      <td>0.035350</td>\n",
       "      <td>Biden_nega</td>\n",
       "    </tr>\n",
       "    <tr>\n",
       "      <th>2</th>\n",
       "      <td>-0.102536</td>\n",
       "      <td>-0.057877</td>\n",
       "      <td>0.314230</td>\n",
       "      <td>0.242468</td>\n",
       "      <td>-0.050349</td>\n",
       "      <td>0.041889</td>\n",
       "      <td>0.005117</td>\n",
       "      <td>0.176137</td>\n",
       "      <td>-0.220375</td>\n",
       "      <td>-0.076621</td>\n",
       "      <td>...</td>\n",
       "      <td>0.025393</td>\n",
       "      <td>0.044405</td>\n",
       "      <td>-0.114249</td>\n",
       "      <td>0.018909</td>\n",
       "      <td>-0.033712</td>\n",
       "      <td>-0.064280</td>\n",
       "      <td>0.033023</td>\n",
       "      <td>0.009731</td>\n",
       "      <td>0.182539</td>\n",
       "      <td>Biden_nega</td>\n",
       "    </tr>\n",
       "    <tr>\n",
       "      <th>3</th>\n",
       "      <td>-0.123930</td>\n",
       "      <td>-0.242957</td>\n",
       "      <td>-0.052864</td>\n",
       "      <td>0.018666</td>\n",
       "      <td>0.195159</td>\n",
       "      <td>-0.103762</td>\n",
       "      <td>-0.161701</td>\n",
       "      <td>0.194002</td>\n",
       "      <td>-0.289946</td>\n",
       "      <td>0.069238</td>\n",
       "      <td>...</td>\n",
       "      <td>-0.057393</td>\n",
       "      <td>0.021898</td>\n",
       "      <td>-0.096951</td>\n",
       "      <td>0.259217</td>\n",
       "      <td>-0.167901</td>\n",
       "      <td>0.003082</td>\n",
       "      <td>0.082630</td>\n",
       "      <td>0.058202</td>\n",
       "      <td>-0.008902</td>\n",
       "      <td>Biden_nega</td>\n",
       "    </tr>\n",
       "    <tr>\n",
       "      <th>4</th>\n",
       "      <td>-0.030342</td>\n",
       "      <td>0.037465</td>\n",
       "      <td>0.045135</td>\n",
       "      <td>0.089331</td>\n",
       "      <td>0.134947</td>\n",
       "      <td>-0.083918</td>\n",
       "      <td>0.220986</td>\n",
       "      <td>0.149148</td>\n",
       "      <td>0.013070</td>\n",
       "      <td>-0.272415</td>\n",
       "      <td>...</td>\n",
       "      <td>-0.028953</td>\n",
       "      <td>-0.048934</td>\n",
       "      <td>-0.170933</td>\n",
       "      <td>0.067988</td>\n",
       "      <td>0.075548</td>\n",
       "      <td>0.262833</td>\n",
       "      <td>0.062096</td>\n",
       "      <td>-0.076311</td>\n",
       "      <td>-0.024085</td>\n",
       "      <td>Biden_nega</td>\n",
       "    </tr>\n",
       "  </tbody>\n",
       "</table>\n",
       "<p>5 rows × 769 columns</p>\n",
       "</div>"
      ],
      "text/plain": [
       "          0         1         2         3         4         5         6  \\\n",
       "0  0.095015  0.009549  0.009942  0.037959  0.117014 -0.110813  0.070921   \n",
       "1 -0.030366  0.011380 -0.126178  0.100002 -0.143618 -0.003824 -0.047498   \n",
       "2 -0.102536 -0.057877  0.314230  0.242468 -0.050349  0.041889  0.005117   \n",
       "3 -0.123930 -0.242957 -0.052864  0.018666  0.195159 -0.103762 -0.161701   \n",
       "4 -0.030342  0.037465  0.045135  0.089331  0.134947 -0.083918  0.220986   \n",
       "\n",
       "          7         8         9  ...       759       760       761       762  \\\n",
       "0  0.102977 -0.001028 -0.204761  ...  0.135476  0.210159 -0.067416  0.237532   \n",
       "1  0.257969 -0.085199 -0.151125  ...  0.081773 -0.080077 -0.029285  0.260058   \n",
       "2  0.176137 -0.220375 -0.076621  ...  0.025393  0.044405 -0.114249  0.018909   \n",
       "3  0.194002 -0.289946  0.069238  ... -0.057393  0.021898 -0.096951  0.259217   \n",
       "4  0.149148  0.013070 -0.272415  ... -0.028953 -0.048934 -0.170933  0.067988   \n",
       "\n",
       "        763       764       765       766       767  sentimentoutcome  \n",
       "0  0.094727  0.022339  0.059760  0.073708 -0.043815        Biden_nega  \n",
       "1 -0.097784  0.064009 -0.055928  0.078552  0.035350        Biden_nega  \n",
       "2 -0.033712 -0.064280  0.033023  0.009731  0.182539        Biden_nega  \n",
       "3 -0.167901  0.003082  0.082630  0.058202 -0.008902        Biden_nega  \n",
       "4  0.075548  0.262833  0.062096 -0.076311 -0.024085        Biden_nega  \n",
       "\n",
       "[5 rows x 769 columns]"
      ]
     },
     "execution_count": 5,
     "metadata": {},
     "output_type": "execute_result"
    }
   ],
   "source": [
    "# Specify the S3 bucket name and file path\n",
    "bucket_name = bucket\n",
    "file_path = 'ADS508_project/cleandata/X_train_bert.csv'\n",
    "\n",
    "# Read CSV file from S3 bucket into DataFrame\n",
    "X_train_bert = pd.read_csv(f's3://{bucket_name}/{file_path}')\n",
    "\n",
    "X_train_bert.head()"
   ]
  },
  {
   "cell_type": "code",
   "execution_count": 31,
   "id": "93574d74-363c-474c-af40-4d9f05ac00bc",
   "metadata": {
    "tags": []
   },
   "outputs": [
    {
     "data": {
      "text/plain": [
       "{'ResponseMetadata': {'RequestId': 'P19XDWJKAZMRECFR',\n",
       "  'HostId': 'svhXrZLGLIyDebehAB+nx8SlhwVuBC1QKj94HNeZECksI0r0f7pNczJ7AGUgoW6SVLGYEIR0veY/fwgREAwprpy1Z7pF6TKe',\n",
       "  'HTTPStatusCode': 200,\n",
       "  'HTTPHeaders': {'x-amz-id-2': 'svhXrZLGLIyDebehAB+nx8SlhwVuBC1QKj94HNeZECksI0r0f7pNczJ7AGUgoW6SVLGYEIR0veY/fwgREAwprpy1Z7pF6TKe',\n",
       "   'x-amz-request-id': 'P19XDWJKAZMRECFR',\n",
       "   'date': 'Mon, 01 Apr 2024 03:00:17 GMT',\n",
       "   'x-amz-server-side-encryption': 'AES256',\n",
       "   'etag': '\"7fdd686062d1e69f314a96c19a6b6284\"',\n",
       "   'server': 'AmazonS3',\n",
       "   'content-length': '0'},\n",
       "  'RetryAttempts': 0},\n",
       " 'ETag': '\"7fdd686062d1e69f314a96c19a6b6284\"',\n",
       " 'ServerSideEncryption': 'AES256'}"
      ]
     },
     "execution_count": 31,
     "metadata": {},
     "output_type": "execute_result"
    }
   ],
   "source": [
    "# Specify the S3 bucket name and file path\n",
    "bucket_name = bucket\n",
    "file_path = 'ADS508_project/cleandata/X_val_bert.csv'\n",
    "\n",
    "# Read CSV file from S3 bucket into DataFrame\n",
    "s3 = boto3.client('s3')\n",
    "response = s3.get_object(Bucket=bucket_name, Key=file_path)\n",
    "X_val_bert = pd.read_csv(response['Body'])\n",
    "\n",
    "# Add a new column to the DataFrame\n",
    "X_val_bert['sentimentoutcome'] = pd.Categorical(y_val)\n",
    "\n",
    "# Write the modified DataFrame to a CSV file\n",
    "csv_buffer = StringIO()\n",
    "X_val_bert.to_csv(csv_buffer, index=False)\n",
    "\n",
    "# Upload the updated CSV file to the S3 bucket, replacing the original file\n",
    "s3.put_object(Bucket=bucket_name, Key=file_path, Body=csv_buffer.getvalue())"
   ]
  },
  {
   "cell_type": "code",
   "execution_count": 7,
   "id": "4b73a7d8-4272-4928-84dd-c4c2c8d4fb62",
   "metadata": {
    "tags": []
   },
   "outputs": [
    {
     "data": {
      "text/html": [
       "<div>\n",
       "<style scoped>\n",
       "    .dataframe tbody tr th:only-of-type {\n",
       "        vertical-align: middle;\n",
       "    }\n",
       "\n",
       "    .dataframe tbody tr th {\n",
       "        vertical-align: top;\n",
       "    }\n",
       "\n",
       "    .dataframe thead th {\n",
       "        text-align: right;\n",
       "    }\n",
       "</style>\n",
       "<table border=\"1\" class=\"dataframe\">\n",
       "  <thead>\n",
       "    <tr style=\"text-align: right;\">\n",
       "      <th></th>\n",
       "      <th>0</th>\n",
       "      <th>1</th>\n",
       "      <th>2</th>\n",
       "      <th>3</th>\n",
       "      <th>4</th>\n",
       "      <th>5</th>\n",
       "      <th>6</th>\n",
       "      <th>7</th>\n",
       "      <th>8</th>\n",
       "      <th>9</th>\n",
       "      <th>...</th>\n",
       "      <th>759</th>\n",
       "      <th>760</th>\n",
       "      <th>761</th>\n",
       "      <th>762</th>\n",
       "      <th>763</th>\n",
       "      <th>764</th>\n",
       "      <th>765</th>\n",
       "      <th>766</th>\n",
       "      <th>767</th>\n",
       "      <th>sentimentoutcome</th>\n",
       "    </tr>\n",
       "  </thead>\n",
       "  <tbody>\n",
       "    <tr>\n",
       "      <th>0</th>\n",
       "      <td>-0.087282</td>\n",
       "      <td>0.015699</td>\n",
       "      <td>0.163972</td>\n",
       "      <td>-0.023120</td>\n",
       "      <td>0.160004</td>\n",
       "      <td>-0.317490</td>\n",
       "      <td>0.082573</td>\n",
       "      <td>0.487979</td>\n",
       "      <td>-0.132335</td>\n",
       "      <td>-0.163486</td>\n",
       "      <td>...</td>\n",
       "      <td>0.030014</td>\n",
       "      <td>-0.100873</td>\n",
       "      <td>-0.190175</td>\n",
       "      <td>0.111930</td>\n",
       "      <td>-0.114476</td>\n",
       "      <td>0.084147</td>\n",
       "      <td>-0.032507</td>\n",
       "      <td>0.089214</td>\n",
       "      <td>0.026560</td>\n",
       "      <td>Trump_posi</td>\n",
       "    </tr>\n",
       "    <tr>\n",
       "      <th>1</th>\n",
       "      <td>-0.072381</td>\n",
       "      <td>-0.144750</td>\n",
       "      <td>-0.076681</td>\n",
       "      <td>0.140001</td>\n",
       "      <td>0.184230</td>\n",
       "      <td>-0.107117</td>\n",
       "      <td>-0.071758</td>\n",
       "      <td>-0.061391</td>\n",
       "      <td>-0.001518</td>\n",
       "      <td>0.027018</td>\n",
       "      <td>...</td>\n",
       "      <td>0.139179</td>\n",
       "      <td>-0.009953</td>\n",
       "      <td>-0.039035</td>\n",
       "      <td>0.309489</td>\n",
       "      <td>-0.120442</td>\n",
       "      <td>0.107665</td>\n",
       "      <td>0.025695</td>\n",
       "      <td>-0.093990</td>\n",
       "      <td>0.230828</td>\n",
       "      <td>Trump_nega</td>\n",
       "    </tr>\n",
       "    <tr>\n",
       "      <th>2</th>\n",
       "      <td>-0.072684</td>\n",
       "      <td>-0.090894</td>\n",
       "      <td>0.434540</td>\n",
       "      <td>-0.000376</td>\n",
       "      <td>0.148673</td>\n",
       "      <td>-0.341517</td>\n",
       "      <td>0.052663</td>\n",
       "      <td>0.359947</td>\n",
       "      <td>-0.205352</td>\n",
       "      <td>-0.199319</td>\n",
       "      <td>...</td>\n",
       "      <td>0.145761</td>\n",
       "      <td>0.048037</td>\n",
       "      <td>-0.124676</td>\n",
       "      <td>0.020781</td>\n",
       "      <td>0.037728</td>\n",
       "      <td>0.027285</td>\n",
       "      <td>-0.238239</td>\n",
       "      <td>0.168148</td>\n",
       "      <td>0.078734</td>\n",
       "      <td>Biden_nega</td>\n",
       "    </tr>\n",
       "    <tr>\n",
       "      <th>3</th>\n",
       "      <td>-0.067866</td>\n",
       "      <td>0.101516</td>\n",
       "      <td>0.343076</td>\n",
       "      <td>0.094347</td>\n",
       "      <td>0.133979</td>\n",
       "      <td>-0.237478</td>\n",
       "      <td>0.147569</td>\n",
       "      <td>0.246141</td>\n",
       "      <td>0.057791</td>\n",
       "      <td>-0.107479</td>\n",
       "      <td>...</td>\n",
       "      <td>0.078337</td>\n",
       "      <td>0.029585</td>\n",
       "      <td>-0.024304</td>\n",
       "      <td>0.101730</td>\n",
       "      <td>0.087064</td>\n",
       "      <td>-0.085877</td>\n",
       "      <td>0.057970</td>\n",
       "      <td>0.013239</td>\n",
       "      <td>-0.048011</td>\n",
       "      <td>Trump_neut</td>\n",
       "    </tr>\n",
       "    <tr>\n",
       "      <th>4</th>\n",
       "      <td>-0.076768</td>\n",
       "      <td>-0.259420</td>\n",
       "      <td>0.079520</td>\n",
       "      <td>0.138926</td>\n",
       "      <td>0.019723</td>\n",
       "      <td>-0.047109</td>\n",
       "      <td>-0.144468</td>\n",
       "      <td>0.395104</td>\n",
       "      <td>-0.054171</td>\n",
       "      <td>-0.049444</td>\n",
       "      <td>...</td>\n",
       "      <td>0.271528</td>\n",
       "      <td>-0.114425</td>\n",
       "      <td>-0.268370</td>\n",
       "      <td>0.205715</td>\n",
       "      <td>0.008526</td>\n",
       "      <td>-0.055535</td>\n",
       "      <td>-0.014211</td>\n",
       "      <td>0.056284</td>\n",
       "      <td>0.278866</td>\n",
       "      <td>Biden_posi</td>\n",
       "    </tr>\n",
       "  </tbody>\n",
       "</table>\n",
       "<p>5 rows × 769 columns</p>\n",
       "</div>"
      ],
      "text/plain": [
       "          0         1         2         3         4         5         6  \\\n",
       "0 -0.087282  0.015699  0.163972 -0.023120  0.160004 -0.317490  0.082573   \n",
       "1 -0.072381 -0.144750 -0.076681  0.140001  0.184230 -0.107117 -0.071758   \n",
       "2 -0.072684 -0.090894  0.434540 -0.000376  0.148673 -0.341517  0.052663   \n",
       "3 -0.067866  0.101516  0.343076  0.094347  0.133979 -0.237478  0.147569   \n",
       "4 -0.076768 -0.259420  0.079520  0.138926  0.019723 -0.047109 -0.144468   \n",
       "\n",
       "          7         8         9  ...       759       760       761       762  \\\n",
       "0  0.487979 -0.132335 -0.163486  ...  0.030014 -0.100873 -0.190175  0.111930   \n",
       "1 -0.061391 -0.001518  0.027018  ...  0.139179 -0.009953 -0.039035  0.309489   \n",
       "2  0.359947 -0.205352 -0.199319  ...  0.145761  0.048037 -0.124676  0.020781   \n",
       "3  0.246141  0.057791 -0.107479  ...  0.078337  0.029585 -0.024304  0.101730   \n",
       "4  0.395104 -0.054171 -0.049444  ...  0.271528 -0.114425 -0.268370  0.205715   \n",
       "\n",
       "        763       764       765       766       767  sentimentoutcome  \n",
       "0 -0.114476  0.084147 -0.032507  0.089214  0.026560        Trump_posi  \n",
       "1 -0.120442  0.107665  0.025695 -0.093990  0.230828        Trump_nega  \n",
       "2  0.037728  0.027285 -0.238239  0.168148  0.078734        Biden_nega  \n",
       "3  0.087064 -0.085877  0.057970  0.013239 -0.048011        Trump_neut  \n",
       "4  0.008526 -0.055535 -0.014211  0.056284  0.278866        Biden_posi  \n",
       "\n",
       "[5 rows x 769 columns]"
      ]
     },
     "execution_count": 7,
     "metadata": {},
     "output_type": "execute_result"
    }
   ],
   "source": [
    "# Specify the S3 bucket name and file path\n",
    "bucket_name = bucket\n",
    "file_path = 'ADS508_project/cleandata/X_val_bert.csv'\n",
    "\n",
    "# Read CSV file from S3 bucket into DataFrame\n",
    "X_val_bert = pd.read_csv(f's3://{bucket_name}/{file_path}')\n",
    "\n",
    "X_val_bert.head()"
   ]
  },
  {
   "cell_type": "code",
   "execution_count": 33,
   "id": "a00e1c37-9dea-4a63-b5a1-4de55eba2857",
   "metadata": {
    "tags": []
   },
   "outputs": [
    {
     "data": {
      "text/plain": [
       "{'ResponseMetadata': {'RequestId': 'QMBVAW4NA3HKZN5E',\n",
       "  'HostId': 'eUlGAvB1Nq+R5W4RswzNTh8gKRq1D/n3do3uSgiOS09/kn7w/dKt38ECyHeyyvWJGZAZwoemaWapG+bNS5YAQOWvQb2uHHFl',\n",
       "  'HTTPStatusCode': 200,\n",
       "  'HTTPHeaders': {'x-amz-id-2': 'eUlGAvB1Nq+R5W4RswzNTh8gKRq1D/n3do3uSgiOS09/kn7w/dKt38ECyHeyyvWJGZAZwoemaWapG+bNS5YAQOWvQb2uHHFl',\n",
       "   'x-amz-request-id': 'QMBVAW4NA3HKZN5E',\n",
       "   'date': 'Mon, 01 Apr 2024 03:02:24 GMT',\n",
       "   'x-amz-server-side-encryption': 'AES256',\n",
       "   'etag': '\"01bddb3a97a16df883f728d1d924fdb7\"',\n",
       "   'server': 'AmazonS3',\n",
       "   'content-length': '0'},\n",
       "  'RetryAttempts': 0},\n",
       " 'ETag': '\"01bddb3a97a16df883f728d1d924fdb7\"',\n",
       " 'ServerSideEncryption': 'AES256'}"
      ]
     },
     "execution_count": 33,
     "metadata": {},
     "output_type": "execute_result"
    }
   ],
   "source": [
    "# Specify the S3 bucket name and file path\n",
    "bucket_name = bucket\n",
    "file_path = 'ADS508_project/cleandata/X_test_bert.csv'\n",
    "\n",
    "# Read CSV file from S3 bucket into DataFrame\n",
    "s3 = boto3.client('s3')\n",
    "response = s3.get_object(Bucket=bucket_name, Key=file_path)\n",
    "X_test_bert = pd.read_csv(response['Body'])\n",
    "\n",
    "# Add a new column to the DataFrame\n",
    "X_test_bert['sentimentoutcome'] = pd.Categorical(y_test)\n",
    "\n",
    "# Write the modified DataFrame to a CSV file\n",
    "csv_buffer = StringIO()\n",
    "X_test_bert.to_csv(csv_buffer, index=False)\n",
    "\n",
    "# Upload the updated CSV file to the S3 bucket, replacing the original file\n",
    "s3.put_object(Bucket=bucket_name, Key=file_path, Body=csv_buffer.getvalue())"
   ]
  },
  {
   "cell_type": "code",
   "execution_count": 8,
   "id": "101f1194-9f75-49cc-a91c-4458b8bc9592",
   "metadata": {
    "tags": []
   },
   "outputs": [
    {
     "data": {
      "text/html": [
       "<div>\n",
       "<style scoped>\n",
       "    .dataframe tbody tr th:only-of-type {\n",
       "        vertical-align: middle;\n",
       "    }\n",
       "\n",
       "    .dataframe tbody tr th {\n",
       "        vertical-align: top;\n",
       "    }\n",
       "\n",
       "    .dataframe thead th {\n",
       "        text-align: right;\n",
       "    }\n",
       "</style>\n",
       "<table border=\"1\" class=\"dataframe\">\n",
       "  <thead>\n",
       "    <tr style=\"text-align: right;\">\n",
       "      <th></th>\n",
       "      <th>0</th>\n",
       "      <th>1</th>\n",
       "      <th>2</th>\n",
       "      <th>3</th>\n",
       "      <th>4</th>\n",
       "      <th>5</th>\n",
       "      <th>6</th>\n",
       "      <th>7</th>\n",
       "      <th>8</th>\n",
       "      <th>9</th>\n",
       "      <th>...</th>\n",
       "      <th>759</th>\n",
       "      <th>760</th>\n",
       "      <th>761</th>\n",
       "      <th>762</th>\n",
       "      <th>763</th>\n",
       "      <th>764</th>\n",
       "      <th>765</th>\n",
       "      <th>766</th>\n",
       "      <th>767</th>\n",
       "      <th>sentimentoutcome</th>\n",
       "    </tr>\n",
       "  </thead>\n",
       "  <tbody>\n",
       "    <tr>\n",
       "      <th>0</th>\n",
       "      <td>0.038298</td>\n",
       "      <td>0.018444</td>\n",
       "      <td>0.140237</td>\n",
       "      <td>0.191257</td>\n",
       "      <td>0.191615</td>\n",
       "      <td>-0.263421</td>\n",
       "      <td>0.006985</td>\n",
       "      <td>-0.031520</td>\n",
       "      <td>-0.095174</td>\n",
       "      <td>-0.165052</td>\n",
       "      <td>...</td>\n",
       "      <td>0.337145</td>\n",
       "      <td>0.058811</td>\n",
       "      <td>-0.195464</td>\n",
       "      <td>0.168021</td>\n",
       "      <td>-0.040112</td>\n",
       "      <td>0.135232</td>\n",
       "      <td>-0.017930</td>\n",
       "      <td>0.122643</td>\n",
       "      <td>-0.004390</td>\n",
       "      <td>Trump_neut</td>\n",
       "    </tr>\n",
       "    <tr>\n",
       "      <th>1</th>\n",
       "      <td>0.192483</td>\n",
       "      <td>-0.083949</td>\n",
       "      <td>0.087277</td>\n",
       "      <td>-0.019400</td>\n",
       "      <td>0.208303</td>\n",
       "      <td>-0.224665</td>\n",
       "      <td>0.218658</td>\n",
       "      <td>0.155049</td>\n",
       "      <td>0.102606</td>\n",
       "      <td>-0.063230</td>\n",
       "      <td>...</td>\n",
       "      <td>0.037749</td>\n",
       "      <td>-0.052559</td>\n",
       "      <td>-0.053232</td>\n",
       "      <td>0.045760</td>\n",
       "      <td>0.028098</td>\n",
       "      <td>-0.132751</td>\n",
       "      <td>0.040613</td>\n",
       "      <td>-0.162681</td>\n",
       "      <td>0.134521</td>\n",
       "      <td>Biden_neut</td>\n",
       "    </tr>\n",
       "    <tr>\n",
       "      <th>2</th>\n",
       "      <td>0.167566</td>\n",
       "      <td>-0.217359</td>\n",
       "      <td>0.209112</td>\n",
       "      <td>0.152782</td>\n",
       "      <td>0.266532</td>\n",
       "      <td>-0.304838</td>\n",
       "      <td>-0.209045</td>\n",
       "      <td>0.306407</td>\n",
       "      <td>-0.087472</td>\n",
       "      <td>-0.098689</td>\n",
       "      <td>...</td>\n",
       "      <td>-0.022195</td>\n",
       "      <td>-0.006585</td>\n",
       "      <td>0.054734</td>\n",
       "      <td>0.297090</td>\n",
       "      <td>0.044051</td>\n",
       "      <td>-0.023526</td>\n",
       "      <td>0.083975</td>\n",
       "      <td>0.111322</td>\n",
       "      <td>0.092600</td>\n",
       "      <td>Trump_nega</td>\n",
       "    </tr>\n",
       "    <tr>\n",
       "      <th>3</th>\n",
       "      <td>-0.033481</td>\n",
       "      <td>-0.084976</td>\n",
       "      <td>-0.095893</td>\n",
       "      <td>0.171605</td>\n",
       "      <td>0.064353</td>\n",
       "      <td>-0.187916</td>\n",
       "      <td>-0.159794</td>\n",
       "      <td>0.220200</td>\n",
       "      <td>0.068491</td>\n",
       "      <td>-0.063123</td>\n",
       "      <td>...</td>\n",
       "      <td>0.092172</td>\n",
       "      <td>-0.012548</td>\n",
       "      <td>-0.290175</td>\n",
       "      <td>0.097390</td>\n",
       "      <td>0.006686</td>\n",
       "      <td>0.110492</td>\n",
       "      <td>0.078122</td>\n",
       "      <td>-0.054340</td>\n",
       "      <td>0.211628</td>\n",
       "      <td>Trump_neut</td>\n",
       "    </tr>\n",
       "    <tr>\n",
       "      <th>4</th>\n",
       "      <td>-0.002182</td>\n",
       "      <td>0.003377</td>\n",
       "      <td>0.365349</td>\n",
       "      <td>0.220605</td>\n",
       "      <td>0.205910</td>\n",
       "      <td>-0.351755</td>\n",
       "      <td>-0.186874</td>\n",
       "      <td>0.361799</td>\n",
       "      <td>-0.048657</td>\n",
       "      <td>-0.218578</td>\n",
       "      <td>...</td>\n",
       "      <td>-0.088876</td>\n",
       "      <td>0.063544</td>\n",
       "      <td>-0.233847</td>\n",
       "      <td>-0.013211</td>\n",
       "      <td>-0.097740</td>\n",
       "      <td>-0.112840</td>\n",
       "      <td>-0.019173</td>\n",
       "      <td>0.103474</td>\n",
       "      <td>-0.174167</td>\n",
       "      <td>Trump_nega</td>\n",
       "    </tr>\n",
       "  </tbody>\n",
       "</table>\n",
       "<p>5 rows × 769 columns</p>\n",
       "</div>"
      ],
      "text/plain": [
       "          0         1         2         3         4         5         6  \\\n",
       "0  0.038298  0.018444  0.140237  0.191257  0.191615 -0.263421  0.006985   \n",
       "1  0.192483 -0.083949  0.087277 -0.019400  0.208303 -0.224665  0.218658   \n",
       "2  0.167566 -0.217359  0.209112  0.152782  0.266532 -0.304838 -0.209045   \n",
       "3 -0.033481 -0.084976 -0.095893  0.171605  0.064353 -0.187916 -0.159794   \n",
       "4 -0.002182  0.003377  0.365349  0.220605  0.205910 -0.351755 -0.186874   \n",
       "\n",
       "          7         8         9  ...       759       760       761       762  \\\n",
       "0 -0.031520 -0.095174 -0.165052  ...  0.337145  0.058811 -0.195464  0.168021   \n",
       "1  0.155049  0.102606 -0.063230  ...  0.037749 -0.052559 -0.053232  0.045760   \n",
       "2  0.306407 -0.087472 -0.098689  ... -0.022195 -0.006585  0.054734  0.297090   \n",
       "3  0.220200  0.068491 -0.063123  ...  0.092172 -0.012548 -0.290175  0.097390   \n",
       "4  0.361799 -0.048657 -0.218578  ... -0.088876  0.063544 -0.233847 -0.013211   \n",
       "\n",
       "        763       764       765       766       767  sentimentoutcome  \n",
       "0 -0.040112  0.135232 -0.017930  0.122643 -0.004390        Trump_neut  \n",
       "1  0.028098 -0.132751  0.040613 -0.162681  0.134521        Biden_neut  \n",
       "2  0.044051 -0.023526  0.083975  0.111322  0.092600        Trump_nega  \n",
       "3  0.006686  0.110492  0.078122 -0.054340  0.211628        Trump_neut  \n",
       "4 -0.097740 -0.112840 -0.019173  0.103474 -0.174167        Trump_nega  \n",
       "\n",
       "[5 rows x 769 columns]"
      ]
     },
     "execution_count": 8,
     "metadata": {},
     "output_type": "execute_result"
    }
   ],
   "source": [
    "# Specify the S3 bucket name and file path\n",
    "bucket_name = bucket\n",
    "file_path = 'ADS508_project/cleandata/X_test_bert.csv'\n",
    "\n",
    "# Read CSV file from S3 bucket into DataFrame\n",
    "X_test_bert = pd.read_csv(f's3://{bucket_name}/{file_path}')\n",
    "\n",
    "X_test_bert.head()"
   ]
  },
  {
   "cell_type": "code",
   "execution_count": null,
   "id": "ff788cd7-338d-480a-b68a-cc82cfbc513d",
   "metadata": {},
   "outputs": [],
   "source": [
    "all_bert = pd.concat([X_tra"
   ]
  },
  {
   "cell_type": "code",
   "execution_count": null,
   "id": "7b61ad26-ee01-4b70-8396-7bd46143079f",
   "metadata": {},
   "outputs": [],
   "source": []
  },
  {
   "cell_type": "markdown",
   "id": "a1c6324d-2eb7-4153-bcbb-16d1655c3f75",
   "metadata": {},
   "source": [
    "# Modeling"
   ]
  },
  {
   "cell_type": "markdown",
   "id": "677c4f70-c426-46c8-92f4-3cb69c8a6b21",
   "metadata": {},
   "source": [
    "## Create Datasets with both BERT Text Data and One-Hot Encoded Location Data"
   ]
  },
  {
   "cell_type": "code",
   "execution_count": 35,
   "id": "b08a4019-77f7-4bd3-b09b-34d4ae28dc4a",
   "metadata": {
    "tags": []
   },
   "outputs": [
    {
     "name": "stderr",
     "output_type": "stream",
     "text": [
      "/opt/conda/lib/python3.8/site-packages/sklearn/preprocessing/_encoders.py:975: FutureWarning: `sparse` was renamed to `sparse_output` in version 1.2 and will be removed in 1.4. `sparse_output` is ignored unless you leave `sparse` to its default value.\n",
      "  warnings.warn(\n"
     ]
    }
   ],
   "source": [
    "from sklearn.preprocessing import OneHotEncoder\n",
    "\n",
    "# Initialize the OneHotEncoder\n",
    "onehot_encoder = OneHotEncoder(sparse=False) \n",
    "\n",
    "# Assuming X_train, X_val, X_test are your datasets\n",
    "state_ids_train = X_train['state_id'].values.reshape(-1, 1)  # Reshape for the encoder\n",
    "state_id_encoded_train = onehot_encoder.fit_transform(state_ids_train)"
   ]
  },
  {
   "cell_type": "code",
   "execution_count": 43,
   "id": "4784e033-9ce5-4856-8e89-9f7c99bca033",
   "metadata": {
    "tags": []
   },
   "outputs": [],
   "source": [
    "state_ids_val = X_val['state_id'].values.reshape(-1, 1)\n",
    "state_id_encoded_val = onehot_encoder.fit_transform(state_ids_val)\n",
    "\n",
    "state_ids_test = X_test['state_id'].values.reshape(-1, 1)\n",
    "state_id_encoded_test = onehot_encoder.fit_transform(state_ids_test)"
   ]
  },
  {
   "cell_type": "code",
   "execution_count": null,
   "id": "7ec49c47-7eb0-4fbe-bf9c-f8922b9c8ebb",
   "metadata": {
    "tags": []
   },
   "outputs": [],
   "source": [
    "#Combine with sate ID that is one hot encoded\n",
    "X_train_prepared = np.hstack((X_train_bert, state_id_encoded_train))\n",
    "X_val_prepared = np.hstack((X_val_bert, state_id_encoded_val))\n",
    "X_test_prepared = np.hstack((X_test_bert, state_id_encoded_test))\n",
    "\n"
   ]
  },
  {
   "cell_type": "code",
   "execution_count": null,
   "id": "b10bbe96-dd69-4011-ae55-34ff8c57771b",
   "metadata": {},
   "outputs": [],
   "source": [
    "X_train_prepared.head()"
   ]
  },
  {
   "cell_type": "code",
   "execution_count": null,
   "id": "ebce88c5-1dfd-4056-916f-4210192f260a",
   "metadata": {},
   "outputs": [],
   "source": [
    "X_val_prepared.head()"
   ]
  },
  {
   "cell_type": "code",
   "execution_count": null,
   "id": "81ed7fd7-7898-48a5-b71d-946fc5180eba",
   "metadata": {},
   "outputs": [],
   "source": [
    "X_test_prepared.head()"
   ]
  },
  {
   "cell_type": "markdown",
   "id": "82085ec2-8da9-498c-a3ac-b0d405d6bb36",
   "metadata": {},
   "source": [
    "### Drop C-1 Dummies for Baseline Linear Models (i.e., logistic regression)"
   ]
  },
  {
   "cell_type": "code",
   "execution_count": null,
   "id": "3f333c2f-f55c-4fb7-b28c-ff7b9f2ad270",
   "metadata": {},
   "outputs": [],
   "source": [
    "X_train_both = X_train_prepared"
   ]
  },
  {
   "cell_type": "code",
   "execution_count": null,
   "id": "01f1846b-587d-4584-b3f3-a2831102d27a",
   "metadata": {},
   "outputs": [],
   "source": [
    "X_val_both = X_val_prepared"
   ]
  },
  {
   "cell_type": "code",
   "execution_count": null,
   "id": "777af846-3611-4e48-888c-88d4bd09bb6b",
   "metadata": {},
   "outputs": [],
   "source": [
    "X_test_both = X_test_prepared"
   ]
  },
  {
   "cell_type": "markdown",
   "id": "0592ef65-6bef-4809-b6e0-3165b9056ab0",
   "metadata": {},
   "source": [
    "# Test Whether Location Data Improves Performance "
   ]
  },
  {
   "cell_type": "markdown",
   "id": "36b3a58d-f94c-414e-81ab-d8036d2be11c",
   "metadata": {},
   "source": [
    "## Baseline 1: Logistic Regression with only BERT Text Data"
   ]
  },
  {
   "cell_type": "code",
   "execution_count": 34,
   "id": "c3198671-18ce-4d5c-84a4-cb5c70b7c0db",
   "metadata": {
    "tags": []
   },
   "outputs": [
    {
     "name": "stderr",
     "output_type": "stream",
     "text": [
      "/opt/conda/lib/python3.8/site-packages/sklearn/linear_model/_logistic.py:460: ConvergenceWarning: lbfgs failed to converge (status=1):\n",
      "STOP: TOTAL NO. of ITERATIONS REACHED LIMIT.\n",
      "\n",
      "Increase the number of iterations (max_iter) or scale the data as shown in:\n",
      "    https://scikit-learn.org/stable/modules/preprocessing.html\n",
      "Please also refer to the documentation for alternative solver options:\n",
      "    https://scikit-learn.org/stable/modules/linear_model.html#logistic-regression\n",
      "  n_iter_i = _check_optimize_result(\n"
     ]
    },
    {
     "name": "stdout",
     "output_type": "stream",
     "text": [
      "Baseline 1: Validation Set Accuracy: 0.5997880393641181\n",
      "\n",
      "Basline 1: Validation Set Classification Report:\n",
      "               precision    recall  f1-score   support\n",
      "\n",
      "  Biden_nega       0.34      0.61      0.44       908\n",
      "  Biden_neut       0.70      0.70      0.70      1768\n",
      "  Biden_posi       0.70      0.60      0.65      2425\n",
      "  Trump_nega       0.46      0.58      0.51      7220\n",
      "  Trump_neut       0.66      0.61      0.64      8599\n",
      "  Trump_posi       0.68      0.59      0.63     12105\n",
      "\n",
      "    accuracy                           0.60     33025\n",
      "   macro avg       0.59      0.62      0.59     33025\n",
      "weighted avg       0.62      0.60      0.61     33025\n",
      "\n"
     ]
    }
   ],
   "source": [
    "from sklearn.linear_model import LogisticRegression\n",
    "from sklearn.metrics import classification_report, accuracy_score\n",
    "\n",
    "# Initialize the Logistic Regression model\n",
    "log_reg1 = LogisticRegression(max_iter=1000, solver='lbfgs')\n",
    "\n",
    "# Fit the model on the balanced text training data\n",
    "log_reg1.fit(X_train_bert, y_train_resampled)\n",
    "\n",
    "# Predict on the validation set\n",
    "y_val_pred = log_reg1.predict(X_val_bert)\n",
    "\n",
    "# Evaluate the model\n",
    "print(\"Baseline 1: Validation Set Accuracy:\", accuracy_score(y_val, y_val_pred))\n",
    "print(\"\\nBasline 1: Validation Set Classification Report:\\n\", classification_report(y_val, y_val_pred))\n"
   ]
  },
  {
   "cell_type": "markdown",
   "id": "3d8b4bcb-e461-4a63-8e28-f73c7510675b",
   "metadata": {},
   "source": [
    "## Baseline 2: Logistic Regression with Text Data and Location (c-1 dummies)"
   ]
  },
  {
   "cell_type": "code",
   "execution_count": null,
   "id": "9b458aab-a61a-4879-83a0-b2537b44d329",
   "metadata": {},
   "outputs": [],
   "source": [
    "from sklearn.linear_model import LogisticRegression\n",
    "from sklearn.metrics import classification_report, accuracy_score\n",
    "\n",
    "# Initialize the Logistic Regression model\n",
    "log_reg2 = LogisticRegression(max_iter=1000, solver='lbfgs')\n",
    "\n",
    "# Fit the model on the balanced text training data\n",
    "log_reg2.fit(X_train_both, y_train_resampled)\n",
    "\n",
    "# Predict on the validation set\n",
    "y_val_pred = log_reg2.predict(X_val_both)\n",
    "\n",
    "# Evaluate the model\n",
    "print(\"Baseline 2: Validation Set Accuracy:\", accuracy_score(y_val, y_val_pred))\n",
    "print(\"\\nBaselin 2: Validation Set Classification Report:\\n\", classification_report(y_val, y_val_pred))"
   ]
  },
  {
   "cell_type": "markdown",
   "id": "d842ab09-2951-46d2-a822-87b2124cdbdf",
   "metadata": {},
   "source": [
    "# Neural Network Models (Can use all dummies)"
   ]
  },
  {
   "cell_type": "code",
   "execution_count": null,
   "id": "5719e2d7-0d4f-4b44-b6ba-72367f059c16",
   "metadata": {},
   "outputs": [],
   "source": []
  },
  {
   "cell_type": "code",
   "execution_count": 54,
   "id": "399dfec5-f32c-4839-a16e-9d16e4d16ecb",
   "metadata": {
    "tags": []
   },
   "outputs": [
    {
     "ename": "NameError",
     "evalue": "name 'ads508' is not defined",
     "output_type": "error",
     "traceback": [
      "\u001b[0;31m---------------------------------------------------------------------------\u001b[0m",
      "\u001b[0;31mNameError\u001b[0m                                 Traceback (most recent call last)",
      "Cell \u001b[0;32mIn[54], line 9\u001b[0m\n\u001b[1;32m      6\u001b[0m session \u001b[38;5;241m=\u001b[39m sagemaker\u001b[38;5;241m.\u001b[39mSession()\n\u001b[1;32m      8\u001b[0m \u001b[38;5;66;03m# Specify the S3 bucket name and file path\u001b[39;00m\n\u001b[0;32m----> 9\u001b[0m bucket_name \u001b[38;5;241m=\u001b[39m \u001b[43mads508\u001b[49m\n\u001b[1;32m     10\u001b[0m file_path \u001b[38;5;241m=\u001b[39m \u001b[38;5;124m'\u001b[39m\u001b[38;5;124mADS508_project/cleandata/X_train_bert.csv\u001b[39m\u001b[38;5;124m'\u001b[39m\n\u001b[1;32m     11\u001b[0m input_data \u001b[38;5;241m=\u001b[39m \u001b[38;5;124mf\u001b[39m\u001b[38;5;124m'\u001b[39m\u001b[38;5;124ms3://\u001b[39m\u001b[38;5;132;01m{\u001b[39;00mbucket_name\u001b[38;5;132;01m}\u001b[39;00m\u001b[38;5;124m/\u001b[39m\u001b[38;5;132;01m{\u001b[39;00mfile_path\u001b[38;5;132;01m}\u001b[39;00m\u001b[38;5;124m'\u001b[39m\n",
      "\u001b[0;31mNameError\u001b[0m: name 'ads508' is not defined"
     ]
    }
   ],
   "source": [
    "import sagemaker\n",
    "from sagemaker import get_execution_role\n",
    "from sagemaker.automl.automl import AutoML\n",
    "\n",
    "role = get_execution_role()\n",
    "session = sagemaker.Session()\n",
    "\n",
    "# Specify the S3 bucket name and file path\n",
    "bucket_name = bucket\n",
    "file_path = 'ADS508_project/cleandata/X_train_bert.csv'\n",
    "input_data = s3://{bucket_name}/{file_path}'\n",
    "\n",
    "autopilot_job = AutoML(\n",
    "    role=role,\n",
    "    target_attribute_name='sentimentoutcome',  # This is the column you're predicting\n",
    "    output_path='s3://ADS508_project/output/autopilot/',\n",
    "    max_candidates=15,\n",
    "    sagemaker_session=session,\n",
    "    problem_type='MulticlassClassification',  # Assuming sentimentoutcome is multiclass\n",
    "    job_objective={'MetricName': 'Accuracy'}  # You can choose another metric if it fits better\n",
    ")\n",
    "\n",
    "autopilot_job.fit(inputs=input_data, wait=False, logs=True)"
   ]
  },
  {
   "cell_type": "markdown",
   "id": "677ea87c-8c4a-4b27-b572-a9080854cc7f",
   "metadata": {
    "tags": []
   },
   "source": [
    "## MLP Model 1"
   ]
  },
  {
   "cell_type": "code",
   "execution_count": null,
   "id": "565ba8d1-8872-4883-b77f-b8858b8fe275",
   "metadata": {
    "tags": []
   },
   "outputs": [],
   "source": [
    "from sklearn.preprocessing import StandardScaler\n",
    "from sklearn.pipeline import make_pipeline\n",
    "from sklearn.neural_network import MLPClassifier\n",
    "from sklearn.metrics import accuracy_score, classification_report\n",
    "\n",
    "# Use a pipeline to standardize features\n",
    "mlp_pipeline = make_pipeline(\n",
    "    StandardScaler(),\n",
    "    MLPClassifier(hidden_layer_sizes=(128, 64), max_iter=500, activation='relu', solver='adam', verbose=True, tol=0.001, alpha=0.0001)\n",
    ")\n",
    "\n",
    "# Fit the model\n",
    "mlp_pipeline.fit(X_train_prepared, y_train)\n",
    "\n",
    "# Predict and evaluate\n",
    "y_val_pred = mlp_pipeline.predict(X_val_prepared)\n",
    "print(\"Validation Set Accuracy:\", accuracy_score(y_val, y_val_pred))\n",
    "print(\"Validation Set Classification Report:\\n\", classification_report(y_val, y_val_pred))\n"
   ]
  },
  {
   "cell_type": "code",
   "execution_count": null,
   "id": "292bd6ce-e78b-4ef1-a244-897f84c8594e",
   "metadata": {},
   "outputs": [],
   "source": []
  },
  {
   "cell_type": "markdown",
   "id": "fbd3687d-311a-4be5-aba4-b879dbaaf2e4",
   "metadata": {
    "tags": []
   },
   "source": [
    "## MLP Model"
   ]
  },
  {
   "cell_type": "code",
   "execution_count": null,
   "id": "df51ce2e-9fd9-4695-8891-d6e3576e1fe8",
   "metadata": {
    "tags": []
   },
   "outputs": [],
   "source": [
    "from sklearn.neural_network import MLPClassifier\n",
    "\n",
    "# Initialize the MLP Classifier\n",
    "\n",
    "mlp = MLPClassifier(hidden_layer_sizes=(128, 64), max_iter=300, activation='relu', solver='adam', verbose=True, tol=0.01)\n",
    "\n",
    "\n",
    "# Fit the model on the training data\n",
    "mlp.fit(X_train_prepared, y_train)\n",
    "\n",
    "# Predict on the validation set\n",
    "y_val_pred_mlp = mlp.predict(X_val_prepared)\n",
    "\n",
    "# Evaluate the model\n",
    "print(\"Validation Set Accuracy (MLP):\", accuracy_score(y_val, y_val_pred_mlp))\n",
    "print(\"\\nValidation Set Classification Report (MLP):\\n\", classification_report(y_val, y_val_pred_mlp))\n"
   ]
  },
  {
   "cell_type": "markdown",
   "id": "9952871e-0de0-488e-afdb-269926bd1470",
   "metadata": {
    "tags": []
   },
   "source": [
    "## Transformer "
   ]
  },
  {
   "cell_type": "code",
   "execution_count": null,
   "id": "81738c07-0452-408d-b5d7-c6dcf4733ae9",
   "metadata": {
    "tags": []
   },
   "outputs": [],
   "source": [
    "import torch\n",
    "import torch.nn as nn\n",
    "import torch.nn.functional as F\n",
    "from torch.utils.data import Dataset, DataLoader\n",
    "from torch.optim import Adam\n",
    "from sklearn.metrics import classification_report, accuracy_score\n",
    "from sklearn.preprocessing import LabelEncoder\n",
    "\n",
    "# Define device upfront\n",
    "device = torch.device(\"cuda\" if torch.cuda.is_available() else \"cpu\")\n",
    "\n",
    "# Assuming X_train_prepared, X_val_prepared, X_test_prepared and their respective y's are already defined\n",
    "\n",
    "# Encode labels numerically\n",
    "label_encoder = LabelEncoder()\n",
    "y_train_encoded = label_encoder.fit_transform(y_train)\n",
    "y_val_encoded = label_encoder.transform(y_val)\n",
    "y_test_encoded = label_encoder.transform(y_test)\n",
    "\n",
    "# Custom Dataset\n",
    "class CustomDataset(Dataset):\n",
    "    def __init__(self, features, labels):\n",
    "        self.features = features\n",
    "        self.labels = labels\n",
    "\n",
    "    def __len__(self):\n",
    "        return len(self.labels)\n",
    "\n",
    "    def __getitem__(self, idx):\n",
    "        return {\n",
    "            \"features\": torch.tensor(self.features[idx], dtype=torch.float),\n",
    "            \"labels\": torch.tensor(self.labels[idx], dtype=torch.long)\n",
    "        }\n",
    "\n",
    "# Dataset and DataLoader\n",
    "train_dataset = CustomDataset(X_train_prepared, y_train_encoded)\n",
    "val_dataset = CustomDataset(X_val_prepared, y_val_encoded)\n",
    "test_dataset = CustomDataset(X_test_prepared, y_test_encoded)\n",
    "\n",
    "train_loader = DataLoader(train_dataset, batch_size=16, shuffle=True)\n",
    "val_loader = DataLoader(val_dataset, batch_size=16)\n",
    "test_loader = DataLoader(test_dataset, batch_size=16)\n",
    "\n",
    "# Model Definition\n",
    "class Classifier(nn.Module):\n",
    "    def __init__(self, input_size, num_classes):\n",
    "        super(Classifier, self).__init__()\n",
    "        self.fc1 = nn.Linear(input_size, 512)\n",
    "        self.fc2 = nn.Linear(512, 256)\n",
    "        self.fc3 = nn.Linear(256, num_classes)\n",
    "    \n",
    "    def forward(self, x):\n",
    "        x = F.relu(self.fc1(x))\n",
    "        x = F.relu(self.fc2(x))\n",
    "        x = self.fc3(x)\n",
    "        return x\n",
    "\n",
    "model = Classifier(input_size=X_train_prepared.shape[1], num_classes=len(set(y_train_encoded)))\n",
    "model.to(device)\n",
    "\n",
    "# Training\n",
    "optimizer = Adam(model.parameters(), lr=0.001)\n",
    "criterion = nn.CrossEntropyLoss()\n",
    "\n",
    "epochs = 3\n",
    "for epoch in range(epochs):\n",
    "    model.train()\n",
    "    for batch in train_loader:\n",
    "        features, labels = batch['features'].to(device), batch['labels'].to(device)\n",
    "        optimizer.zero_grad()\n",
    "        outputs = model(features)\n",
    "        loss = criterion(outputs, labels)\n",
    "        loss.backward()\n",
    "        optimizer.step()\n",
    "\n",
    "    \n",
    "\n",
    "# Evaluation\n",
    "model.eval()\n",
    "y_true = []\n",
    "y_pred = []\n",
    "with torch.no_grad():\n",
    "    for batch in test_loader:\n",
    "        features, labels = batch['features'].to(device), batch['labels'].to(device)\n",
    "        outputs = model(features)\n",
    "        _, predicted = torch.max(outputs, 1)\n",
    "        y_true.extend(labels.cpu().numpy())\n",
    "        y_pred.extend(predicted.cpu().numpy())\n",
    "\n",
    "print(\"Test Accuracy:\", accuracy_score(y_true, y_pred))\n",
    "print(\"Classification Report:\")\n",
    "print(classification_report(y_true, y_pred, target_names=label_encoder.classes_))\n",
    "\n"
   ]
  },
  {
   "cell_type": "code",
   "execution_count": null,
   "id": "9139a3eb-a75f-47d6-9738-60e88975954b",
   "metadata": {
    "tags": []
   },
   "outputs": [],
   "source": []
  },
  {
   "cell_type": "code",
   "execution_count": null,
   "id": "382d7a81-5a07-4ae8-b0d9-4daa9c6de530",
   "metadata": {
    "tags": []
   },
   "outputs": [],
   "source": [
    "# import boto3\n",
    "# import pandas as pd\n",
    "# from io import StringIO\n",
    "\n",
    "# # Create an S3 client\n",
    "# s3 = boto3.client('s3')\n",
    "\n",
    "# # Specify the name of the bucket\n",
    "# bucket_name = '508group'\n",
    "\n",
    "# # Ensure your DataFrame variables are defined here (X_train, y_train_resampled, X_test, y_test, X_val, y_val)\n",
    "\n",
    "# # Define the DataFrames\n",
    "# data_frames = {\n",
    "#     'X_train': X_train,\n",
    "#     'y_train_resampled': y_train_resampled,\n",
    "#     'X_test': X_test,\n",
    "#     'y_test': y_test,\n",
    "#     'X_val': X_val,\n",
    "#     'y_val': y_val,\n",
    "# }\n",
    "\n",
    "# # Upload each DataFrame as CSV to the \"508group\" bucket\n",
    "# for key, df in data_frames.items():\n",
    "#     try:\n",
    "#         # Convert DataFrame to CSV string\n",
    "#         csv_buffer = StringIO()\n",
    "#         df.to_csv(csv_buffer, index=False)\n",
    "        \n",
    "#         # Upload CSV string to S3\n",
    "#         s3.put_object(Body=csv_buffer.getvalue(), Bucket=bucket_name, Key=f'ADS508_project/cleandata/{key}.csv')\n",
    "#         print(f\"Successfully uploaded {key}\")\n",
    "#     except Exception as e:\n",
    "#         print(f\"Error uploading {key} to S3: {e}\")\n",
    "\n",
    "# # Define the S3 paths for the data now that they are uploaded\n",
    "# s3_paths = {\n",
    "#     'X_train': 's3://508group/ADS508_project/cleandata/X_train.csv',\n",
    "#     'y_train_resampled': 's3://508group/ADS508_project/cleandata/y_train_resampled.csv',\n",
    "#     'X_test': 's3://508group/ADS508_project/cleandata/X_test.csv',\n",
    "#     'y_test':  's3://508group/ADS508_project/cleandata/y_test.csv',\n",
    "#     'X_val': 's3://508group/ADS508_project/cleandata/X_val.csv',\n",
    "#     'y_val': 's3://508group/ADS508_project/cleandata/y_val.csv',\n",
    "# }\n",
    "# output_path = 's3://508group/ADS508_project/output/'\n",
    "\n",
    "# You can now use `s3_paths` dictionary to access your data in S3 for any further processing\n"
   ]
  },
  {
   "cell_type": "code",
   "execution_count": null,
   "id": "05531a56-8cb8-4a24-85f4-c11a373cad2c",
   "metadata": {
    "tags": []
   },
   "outputs": [],
   "source": [
    "# !pip install -U sagemaker"
   ]
  },
  {
   "cell_type": "code",
   "execution_count": null,
   "id": "0ce5cf89-ad04-4625-92e3-c621b175aee5",
   "metadata": {
    "tags": []
   },
   "outputs": [],
   "source": [
    "# pip install XGBoost"
   ]
  },
  {
   "cell_type": "code",
   "execution_count": null,
   "id": "6aff2b88-cc09-4078-b3af-5c5c341fa58b",
   "metadata": {
    "tags": []
   },
   "outputs": [],
   "source": [
    "# import boto3\n",
    "# import pandas as pd\n",
    "# from io import StringIO\n",
    "\n",
    "# # Create an S3 client\n",
    "# s3 = boto3.client('s3')\n",
    "\n",
    "# # Specify the name of the bucket\n",
    "# bucket_name = '508group'\n",
    "\n",
    "# # Define the DataFrames\n",
    "# data_frames = {\n",
    "#     'X_train': X_train,\n",
    "#     'y_train_resampled': y_train_resampled,\n",
    "#     'X_test': X_test,\n",
    "#     'y_test': y_test,\n",
    "#     'X_val': X_val,\n",
    "#     'y_val': y_val,\n",
    "# }\n",
    "\n",
    "# # Upload each DataFrame as CSV to the \"508group\" bucket\n",
    "# for key, df in data_frames.items():\n",
    "#     try:\n",
    "#         # Convert DataFrame to CSV string\n",
    "#         csv_buffer = StringIO()\n",
    "#         df.to_csv(csv_buffer, index=False)\n",
    "        \n",
    "#         # Upload CSV string to S3\n",
    "#         s3.put_object(Body=csv_buffer.getvalue(), Bucket=bucket_name, Key=f'ADS508_project/cleandata/{key}.csv')\n",
    "#     except Exception as e:\n",
    "#         print(f\"Error uploading {key} to S3: {e}\")\n"
   ]
  },
  {
   "cell_type": "code",
   "execution_count": null,
   "id": "36e7cd7d-d7d9-4e0b-9503-4c282d2d0661",
   "metadata": {},
   "outputs": [],
   "source": [
    "# # Define the S3 paths for training data, model output, etc.\n",
    "# X_train = 's3://508group/ADS508_project/cleandata/X_train.csv'\n",
    "# y_train_resampled = 's3://508group/ADS508_project/cleandata/y_train_resampled.csv'\n",
    "# X_test = 's3://508group/ADS508_project/cleandata/X_test.csv'\n",
    "# y_test =  's3://508group/ADS508_project/cleandata/y_test.csv'\n",
    "# X_val = 's3://508group/ADS508_project/cleandata/X_val.csv'\n",
    "# y_val = 's3://508group/ADS508_project/cleandata/y_val.csv'\n",
    "# output_path = 's3://508group/ADS508_project/output/'\n"
   ]
  },
  {
   "cell_type": "code",
   "execution_count": null,
   "id": "fadb6ffd-707d-4bff-9dae-042b4eafd0ac",
   "metadata": {},
   "outputs": [],
   "source": []
  },
  {
   "cell_type": "code",
   "execution_count": null,
   "id": "574ed65f-9093-40d8-98da-30f26dcb896d",
   "metadata": {
    "tags": []
   },
   "outputs": [],
   "source": [
    "# import sagemaker\n",
    "# from sagemaker import get_execution_role\n",
    "# from sagemaker.inputs import TrainingInput\n",
    "# from sagemaker.estimator import Estimator\n",
    "\n",
    "# # Step 1: Define S3 paths for training data, model output, etc.\n",
    "# s3_input_train = 's3://508group/ADS508_project/cleandata/X_train.csv'\n",
    "# s3_input_test = 's3://508group/ADS508_project/cleandata/X_test.csv'\n",
    "# output_path = 's3://508group/ADS508_project/output/'\n",
    "\n",
    "# # Step 2: Create a SageMaker session and specify the IAM role\n",
    "# sagemaker_session = sagemaker.Session()\n",
    "# role = get_execution_role()\n",
    "\n",
    "# # Step 3: Define the SageMaker XGBoost estimator with the specific version and hyperparameters\n",
    "# xgb_estimator = Estimator(image_uri=sagemaker.image_uris.retrieve(\"xgboost\", sagemaker_session.boto_region_name, \"1.7-1\"),\n",
    "#                           role=role,\n",
    "#                           instance_count=1,\n",
    "#                           instance_type='ml.m5.large',\n",
    "#                           output_path=output_path,\n",
    "#                           sagemaker_session=sagemaker_session,\n",
    "#                           hyperparameters={'num_round': '10'})  # Specify the number of boosting rounds\n",
    "\n",
    "# # Step 4: Train the XGBoost model\n",
    "# xgb_estimator.fit({'train': s3_input_train, 'validation': s3_input_test})"
   ]
  },
  {
   "cell_type": "code",
   "execution_count": null,
   "id": "f3c38f2f-07f1-4ffe-9ec4-63eabbb042a3",
   "metadata": {
    "tags": []
   },
   "outputs": [],
   "source": []
  },
  {
   "cell_type": "code",
   "execution_count": null,
   "id": "dc54a5e9-1400-4bbd-84d5-67daacb2e4d9",
   "metadata": {
    "tags": []
   },
   "outputs": [],
   "source": [
    "# import boto3\n",
    "# import os\n",
    "\n",
    "# # Initialize a boto3 client\n",
    "# s3 = boto3.client('s3')\n",
    "\n",
    "# # Function to download a file from an S3 bucket\n",
    "# def download_file(bucket_name, object_key, local_filename):\n",
    "#     try:\n",
    "#         s3.download_file(Bucket=bucket_name, Key=object_key, Filename=local_filename)\n",
    "#         print(f\"Downloaded {object_key} to {local_filename}\")\n",
    "#     except Exception as e:\n",
    "#         print(f\"Error downloading {object_key}: {e}\")\n",
    "\n",
    "# # Define your bucket name\n",
    "# bucket_name = '508group'\n",
    "\n",
    "# # List of artifacts to download\n",
    "# artifacts = {\n",
    "#     \"feature_engineering_code\": \"ADS508_project/output/autopilot/automl-2024-03-30-19-48-01-733/sagemaker-automl-candidates/automl-2024-03-30-19-48-01-733-pr-1-5cdcc23566e2483f97658942125/generated_module/candidate_data_processors/dpp9.py\",\n",
    "#     # Add other artifacts here following the same structure\n",
    "# }\n",
    "\n",
    "# # Download each artifact\n",
    "# for name, key in artifacts.items():\n",
    "#     download_file(bucket_name, key, f\"{name}.py\")\n"
   ]
  },
  {
   "cell_type": "code",
   "execution_count": null,
   "id": "92b2d6c4-dfbb-4eb7-b2ec-ba49f136f650",
   "metadata": {
    "tags": []
   },
   "outputs": [],
   "source": [
    "# import boto3\n",
    "# import os\n",
    "\n",
    "# # Define key for the feature engineering code\n",
    "# fe_code_key = 'ADS508_project/output/autopilot/automl-2024-03-30-19-48-01-733/sagemaker-automl-candidates/automl-2024-03-30-19-48-01-733-pr-1-5cdcc23566e2483f97658942125/generated_module/candidate_data_processors/dpp3.py'\n",
    "# download_from_s3(bucket_name, fe_code_key, 'dpp3.py')"
   ]
  },
  {
   "cell_type": "code",
   "execution_count": null,
   "id": "019ffa2d-b300-4615-8249-5e1e732a9fad",
   "metadata": {},
   "outputs": [],
   "source": [
    "# import boto3\n",
    "# import os\n",
    "\n",
    "# s3 = boto3.client('s3')\n",
    "\n",
    "# def download_from_s3(bucket_name, s3_key, local_path):\n",
    "#     try:\n",
    "#         s3.download_file(bucket_name, s3_key, local_path)\n",
    "#         print(f\"Downloaded {s3_key} to {local_path}\")\n",
    "#     except Exception as e:\n",
    "#         print(f\"Error downloading {s3_key}: {e}\")\n",
    "\n",
    "# bucket_name = '508group' "
   ]
  },
  {
   "cell_type": "code",
   "execution_count": null,
   "id": "ae267212-beb5-49be-bced-3f8957b08d81",
   "metadata": {
    "tags": []
   },
   "outputs": [],
   "source": [
    "# import boto3\n",
    "# import pandas as pd\n",
    "# from io import StringIO\n",
    "\n",
    "# # Create an S3 client\n",
    "# s3 = boto3.client('s3')\n",
    "\n",
    "# # Specify the name of the bucket\n",
    "# bucket_name = '508group'\n",
    "\n",
    "# # Define the DataFrames\n",
    "# data_frames = {\n",
    "#     'X_train': X_train,\n",
    "#     'y_train_resampled': y_train_resampled,\n",
    "#     'X_test': X_test,\n",
    "#     'y_test': y_test,\n",
    "#     'X_val': X_val,\n",
    "#     'y_val': y_val,\n",
    "# }\n",
    "\n",
    "# # Upload each DataFrame as CSV to the \"508group\" bucket\n",
    "# for key, df in data_frames.items():\n",
    "#     try:\n",
    "#         # Convert DataFrame to CSV string\n",
    "#         csv_buffer = StringIO()\n",
    "#         df.to_csv(csv_buffer, index=False)\n",
    "        \n",
    "#         # Upload CSV string to S3\n",
    "#         s3.put_object(Body=csv_buffer.getvalue(), Bucket=bucket_name, Key=f'ADS508_project/cleandata/{key}.csv')\n",
    "#     except Exception as e:\n",
    "#         print(f\"Error uploading {key} to S3: {e}\")\n",
    "\n"
   ]
  },
  {
   "cell_type": "code",
   "execution_count": null,
   "id": "0cb0f9dd-2f59-4fdb-8756-9bc87e085014",
   "metadata": {
    "tags": []
   },
   "outputs": [],
   "source": [
    "# import sagemaker\n",
    "# from sagemaker.tensorflow import TensorFlow\n",
    "\n",
    "# # Define your SageMaker session\n",
    "# sagemaker_session = sagemaker.Session()"
   ]
  },
  {
   "cell_type": "code",
   "execution_count": null,
   "id": "f22c52b9-5fa1-4660-aaa3-09761b2c9a17",
   "metadata": {
    "tags": []
   },
   "outputs": [],
   "source": []
  },
  {
   "cell_type": "code",
   "execution_count": null,
   "id": "1ff76fbc-22b0-42d2-ba46-ef41ceea26c9",
   "metadata": {
    "tags": []
   },
   "outputs": [],
   "source": [
    "# # Define the S3 paths for training data, model output, etc.\n",
    "# X_train = 's3://508group/ADS508_project/cleandata/X_train.csv'\n",
    "# y_train_resampled = 's3://508group/ADS508_project/cleandata/y_train_resampled.csv'\n",
    "# X_test = 's3://508group/ADS508_project/cleandata/X_test.csv'\n",
    "# y_test =  's3://508group/ADS508_project/cleandata/y_test.csv'\n",
    "# X_val = 's3://508group/ADS508_project/cleandata/X_val.csv'\n",
    "# y_val = 's3://508group/ADS508_project/cleandata/y_val.csv'\n",
    "# output_path = 's3://508group/ADS508_project/output/'\n"
   ]
  },
  {
   "cell_type": "code",
   "execution_count": null,
   "id": "239e0114-1302-4d00-8a51-0803bfd777b5",
   "metadata": {
    "tags": []
   },
   "outputs": [],
   "source": [
    "\n",
    "# # Load y_train_resampled.csv\n",
    "# y_train_resampled_df = pd.read_csv('s3://508group/ADS508_project/cleandata/y_train_resampled.csv')\n",
    "\n",
    "# # Prefix labels with '__label__'\n",
    "# y_train_resampled_df['sentimentoutcome'] = '__label__' + y_train_resampled_df['sentimentoutcome'].astype(str)\n",
    "\n",
    "# # Save the modified DataFrame back to y_train_resampled.csv\n",
    "# y_train_resampled_df.to_csv('s3://508group/ADS508_project/cleandata/y_train_resampled.csv', index=False)\n",
    "\n",
    "\n",
    "# # Load y_val.csv\n",
    "# y_val_df = pd.read_csv('s3://508group/ADS508_project/cleandata/y_val.csv')\n",
    "\n",
    "# # Prefix labels with '__label__'\n",
    "# y_val_df['sentimentoutcome'] = '__label__' + y_val_df['sentimentoutcome'].astype(str)\n",
    "\n",
    "# # Save the modified DataFrame back to y_val.csv\n",
    "# y_val_df.to_csv('s3://508group/ADS508_project/cleandata/y_val.csv', index=False)"
   ]
  },
  {
   "cell_type": "code",
   "execution_count": null,
   "id": "83378cc8-c7d7-4597-bd2e-7fb89c0a7764",
   "metadata": {},
   "outputs": [],
   "source": []
  },
  {
   "cell_type": "code",
   "execution_count": null,
   "id": "6f011adc-ecd3-45d8-998a-98a29ffcf3b4",
   "metadata": {},
   "outputs": [],
   "source": [
    "\n",
    "# import boto3\n",
    "# from sklearn.linear_model import LogisticRegression\n",
    "# from sklearn.metrics import accuracy_score, classification_report\n",
    "# from sklearn.model_selection import train_test_split\n",
    "# from sklearn.preprocessing import StandardScaler\n",
    "# from joblib import dump\n",
    "# import os\n",
    "\n",
    "# # Load data from S3\n",
    "# s3 = boto3.client('s3')\n",
    "# bucket_name = '508group'\n",
    "\n",
    "# def load_data_from_s3(key):\n",
    "#     response = s3.get_object(Bucket=bucket_name, Key=key)\n",
    "#     data = pd.read_csv(response['Body'])\n",
    "#     return data\n",
    "\n",
    "# # Load training data\n",
    "# X_train = load_data_from_s3('ADS508_project/cleandata/X_train.csv')\n",
    "# y_train = load_data_from_s3('ADS508_project/cleandata/y_train_resampled.csv')\n",
    "\n",
    "# # Train logistic regression model\n",
    "# model = LogisticRegression()\n",
    "# model.fit(X_train_final, y_train_final)\n",
    "\n",
    "# # Evaluate model\n",
    "# y_pred = model.predict(X_val)\n",
    "# accuracy = accuracy_score(y_val, y_pred)\n",
    "# classification_rep = classification_report(y_val, y_pred)\n",
    "\n",
    "# # Save the trained model\n",
    "# output_dir = 'model'\n",
    "# os.makedirs(output_dir, exist_ok=True)\n",
    "# model_path = os.path.join(output_dir, 'model.joblib')\n",
    "# dump(model, model_path)\n",
    "\n",
    "# # Save evaluation metrics\n",
    "# metrics_path = os.path.join(output_dir, 'metrics.txt')\n",
    "# with open(metrics_path, 'w') as f:\n",
    "#     f.write(f'Accuracy: {accuracy}\\n')\n",
    "#     f.write('Classification Report:\\n')\n",
    "#     f.write(classification_rep)\n",
    "\n",
    "# # Upload the trained model and metrics to S3\n",
    "# s3.upload_file(model_path, bucket_name, 'ADS508_project/output/model.joblib')\n",
    "# s3.upload_file(metrics_path, bucket_name, 'ADS508_project/output/metrics.txt')\n"
   ]
  },
  {
   "cell_type": "markdown",
   "id": "b601c5e3",
   "metadata": {},
   "source": [
    "## Run Data Bias Analysis"
   ]
  },
  {
   "cell_type": "code",
   "execution_count": null,
   "id": "67d4c37d",
   "metadata": {},
   "outputs": [],
   "source": [
    "# Create folder for specific timestamp\n",
    "import time\n",
    "\n",
    "timestamp = int(time.time())\n",
    "\n",
    "bias_data_s3_uri = sess.upload_data(bucket=bucket, key_prefix=\"ADS508_project/bias-detection-{}\".format(timestamp), path=path)\n",
    "bias_data_s3_uri"
   ]
  },
  {
   "cell_type": "code",
   "execution_count": null,
   "id": "9b272d33",
   "metadata": {},
   "outputs": [],
   "source": [
    "!aws s3 ls $bias_data_s3_uri"
   ]
  },
  {
   "cell_type": "code",
   "execution_count": null,
   "id": "52a14b90-8b53-44ff-af78-361467ec987b",
   "metadata": {},
   "outputs": [],
   "source": [
    "balanced_bias_data_s3_uri = sess.upload_data(\n",
    "    bucket=bucket, key_prefix=\"ADS508_project/bias-detection-{}\".format(timestamp), path=path_balance\n",
    ")\n",
    "balanced_bias_data_s3_uri"
   ]
  },
  {
   "cell_type": "code",
   "execution_count": null,
   "id": "fdea3079-9390-4130-964a-7b5e788f9523",
   "metadata": {},
   "outputs": [],
   "source": [
    "!aws s3 ls $balanced_bias_data_s3_uri"
   ]
  },
  {
   "cell_type": "code",
   "execution_count": null,
   "id": "c6837356-c41b-4559-834c-68b3c576e0c8",
   "metadata": {},
   "outputs": [],
   "source": [
    "balanced_bias_data_jsonlines_s3_uri = sess.upload_data(\n",
    "    bucket=bucket, key_prefix=\"ADS508_project/bias-detection-{}\".format(timestamp), path=path_jsonlines\n",
    ")\n",
    "balanced_bias_data_jsonlines_s3_uri"
   ]
  },
  {
   "cell_type": "code",
   "execution_count": null,
   "id": "3b28374d-24a2-49bf-8a5b-6899db532035",
   "metadata": {},
   "outputs": [],
   "source": [
    "!aws s3 ls $balanced_bias_data_jsonlines_s3_uri"
   ]
  },
  {
   "cell_type": "code",
   "execution_count": null,
   "id": "e829b584",
   "metadata": {},
   "outputs": [],
   "source": [
    "#!pip install --force-reinstall -q smclarify\n",
    "\n",
    "from smclarify.bias import report\n",
    "from typing import Dict\n",
    "from collections import defaultdict\n",
    "import pandas as pd\n",
    "import seaborn as sns\n",
    "import matplotlib.pyplot as plt"
   ]
  },
  {
   "cell_type": "code",
   "execution_count": null,
   "id": "11c9cf76",
   "metadata": {},
   "outputs": [],
   "source": [
    "!aws s3 cp $bias_data_s3_uri ./data-clarify/"
   ]
  },
  {
   "cell_type": "code",
   "execution_count": null,
   "id": "eee23cae",
   "metadata": {},
   "outputs": [],
   "source": [
    "!aws s3 cp $balanced_bias_data_s3_uri ./data-clarify/"
   ]
  },
  {
   "cell_type": "markdown",
   "id": "94295cea",
   "metadata": {},
   "source": [
    "### Calculate Bias Metrics for all Data\n",
    "#### might not needed from ===>"
   ]
  },
  {
   "cell_type": "markdown",
   "id": "533ede4d",
   "metadata": {},
   "source": [
    "facet_column = report.FacetColumn(name=\"candidatepoll\")\n",
    "\n",
    "label_column = report.LabelColumn(\n",
    "    name=\"sentiment_category\", \n",
    "    series=df_combined[\"sentiment_category\"],\n",
    "    positive_label_values=[5]\n",
    ")"
   ]
  },
  {
   "cell_type": "code",
   "execution_count": null,
   "id": "36107b89",
   "metadata": {},
   "outputs": [],
   "source": [
    "report.bias_report(\n",
    "    df=df_combined, \n",
    "    facet_column=facet_column, \n",
    "    label_column=label_column, \n",
    "    stage_type=report.StageType.PRE_TRAINING, \n",
    "    metrics=[\"CI\", \"DPL\", \"KL\", \"JS\", \"LP\", \"TVD\", \"KS\"]\n",
    ")"
   ]
  },
  {
   "cell_type": "markdown",
   "id": "4ff466df",
   "metadata": {},
   "source": [
    "### Calculate Bias Metrics for Balanced Data"
   ]
  },
  {
   "cell_type": "code",
   "execution_count": null,
   "id": "d0f57ae7",
   "metadata": {},
   "outputs": [],
   "source": [
    "from smclarify.bias import report\n",
    "\n",
    "facet_column = report.FacetColumn(name=\"candidatepoll\")\n",
    "\n",
    "label_column = report.LabelColumn(\n",
    "    name=\"sentiment_category\", \n",
    "    series=df_balanced[\"sentiment_category\"], \n",
    "    positive_label_values=[5]\n",
    ")"
   ]
  },
  {
   "cell_type": "code",
   "execution_count": null,
   "id": "56e8de4e",
   "metadata": {},
   "outputs": [],
   "source": [
    "report.bias_report(\n",
    "    df=df_balanced, \n",
    "    facet_column=facet_column, \n",
    "    label_column=label_column, \n",
    "    stage_type=report.StageType.PRE_TRAINING, \n",
    "    metrics=[\"CI\", \"DPL\", \"KL\", \"JS\", \"LP\", \"TVD\", \"KS\"]\n",
    ")"
   ]
  },
  {
   "cell_type": "markdown",
   "id": "12bfdb39",
   "metadata": {},
   "source": [
    "#### <=== TO MIGHT NOT NEEDED"
   ]
  },
  {
   "cell_type": "markdown",
   "id": "8dd5b807",
   "metadata": {},
   "source": [
    "### Run Data Bias Analysis (Pre-training)"
   ]
  },
  {
   "cell_type": "code",
   "execution_count": null,
   "id": "577750e2",
   "metadata": {},
   "outputs": [],
   "source": [
    "from sagemaker import clarify\n",
    "\n",
    "clarify_processor = clarify.SageMakerClarifyProcessor(\n",
    "    role=role, \n",
    "    instance_count=1, \n",
    "    instance_type=\"ml.c5.xlarge\", \n",
    "    sagemaker_session=sess\n",
    ")"
   ]
  },
  {
   "cell_type": "markdown",
   "id": "5a3eabcf",
   "metadata": {},
   "source": [
    "#### Pre-Training Bias"
   ]
  },
  {
   "cell_type": "code",
   "execution_count": null,
   "id": "b5defe81",
   "metadata": {},
   "outputs": [],
   "source": [
    "bias_report_output_path = \"s3://{}/ADS508_project/clarify\".format(bucket)\n",
    "\n",
    "bias_data_config = clarify.DataConfig(\n",
    "    s3_data_input_path=bias_data_s3_uri,\n",
    "    s3_output_path=bias_report_output_path,\n",
    "    label=\"sentiment_category\",\n",
    "    headers=df_combined.columns.to_list(),\n",
    "    dataset_type=\"text/csv\",\n",
    ")\n"
   ]
  },
  {
   "cell_type": "code",
   "execution_count": null,
   "id": "b0feb8da",
   "metadata": {},
   "outputs": [],
   "source": [
    "# Trump\n",
    "bias_config = clarify.BiasConfig(\n",
    "    label_values_or_threshold=[5],\n",
    "    facet_name=\"candidatepoll\",\n",
    "    facet_values_or_threshold=[\"Trump\"],\n",
    ")\n",
    "\n",
    "clarify_processor.run_pre_training_bias(\n",
    "    data_config=bias_data_config, \n",
    "    data_bias_config=bias_config, \n",
    "    methods=[\"CI\", \"DPL\", \"KL\", \"JS\", \"LP\", \"TVD\", \"KS\"],\n",
    "    wait=False, \n",
    "    logs=False\n",
    ")\n",
    "\n",
    "run_pre_training_bias_processing_job_name = clarify_processor.latest_job.job_name\n",
    "run_pre_training_bias_processing_job_name\n",
    "\n"
   ]
  },
  {
   "cell_type": "code",
   "execution_count": null,
   "id": "ccc967f6",
   "metadata": {},
   "outputs": [],
   "source": [
    "# Biden\n",
    "bias_config = clarify.BiasConfig(\n",
    "    label_values_or_threshold=[5],\n",
    "    facet_name=\"candidatepoll\",\n",
    "    facet_values_or_threshold=[\"Biden\"],\n",
    ")\n",
    "\n",
    "clarify_processor.run_pre_training_bias(\n",
    "    data_config=bias_data_config, \n",
    "    data_bias_config=bias_config, \n",
    "    methods=[\"CI\", \"DPL\", \"KL\", \"JS\", \"LP\", \"TVD\", \"KS\"],\n",
    "    wait=False, \n",
    "    logs=False\n",
    ")\n",
    "\n",
    "run_pre_training_bias_processing_job_name = clarify_processor.latest_job.job_name\n",
    "run_pre_training_bias_processing_job_name\n"
   ]
  },
  {
   "cell_type": "markdown",
   "id": "4f9f6ec4",
   "metadata": {},
   "source": [
    "#### Download report"
   ]
  },
  {
   "cell_type": "code",
   "execution_count": null,
   "id": "a09c6782",
   "metadata": {},
   "outputs": [],
   "source": [
    "from IPython.core.display import display, HTML\n",
    "\n",
    "display(\n",
    "    HTML(\n",
    "        '<b>Review <a target=\"blank\" href=\"https://console.aws.amazon.com/sagemaker/home?region={}#/processing-jobs/{}\">Processing Job</a></b>'.format(\n",
    "            region, run_pre_training_bias_processing_job_name\n",
    "        )\n",
    "    )\n",
    ")\n",
    "from IPython.core.display import display, HTML\n",
    "\n",
    "display(\n",
    "    HTML(\n",
    "        '<b>Review <a target=\"blank\" href=\"https://console.aws.amazon.com/cloudwatch/home?region={}#logStream:group=/aws/sagemaker/ProcessingJobs;prefix={};streamFilter=typeLogStreamPrefix\">CloudWatch Logs</a> After About 5 Minutes</b>'.format(\n",
    "            region, run_pre_training_bias_processing_job_name\n",
    "        )\n",
    "    )\n",
    ")\n",
    "\n",
    "from IPython.core.display import display, HTML\n",
    "\n",
    "display(\n",
    "    HTML(\n",
    "        '<b>Review <a target=\"blank\" href=\"https://s3.console.aws.amazon.com/s3/buckets/{}/{}/?region={}&tab=overview\">S3 Output Data</a> After The Processing Job Has Completed</b>'.format(\n",
    "            bucket, run_pre_training_bias_processing_job_name, region\n",
    "        )\n",
    "    )\n",
    ")"
   ]
  },
  {
   "cell_type": "code",
   "execution_count": null,
   "id": "1c74ae09",
   "metadata": {},
   "outputs": [],
   "source": [
    "running_processor = sagemaker.processing.ProcessingJob.from_processing_name(\n",
    "    processing_job_name=run_pre_training_bias_processing_job_name, sagemaker_session=sess\n",
    ")\n",
    "\n",
    "processing_job_description = running_processor.describe()\n",
    "\n",
    "print(processing_job_description)"
   ]
  },
  {
   "cell_type": "code",
   "execution_count": null,
   "id": "7aee8468",
   "metadata": {},
   "outputs": [],
   "source": [
    "!aws s3 ls $bias_report_output_path/"
   ]
  },
  {
   "cell_type": "code",
   "execution_count": null,
   "id": "83a98ee3",
   "metadata": {},
   "outputs": [],
   "source": [
    "!aws s3 cp --recursive $bias_report_output_path ./generated_bias_report/"
   ]
  },
  {
   "cell_type": "code",
   "execution_count": null,
   "id": "9329ab05",
   "metadata": {},
   "outputs": [],
   "source": [
    "from IPython.core.display import display, HTML\n",
    "\n",
    "display(HTML('<b>Review <a target=\"blank\" href=\"./generated_bias_report/report.html\">Bias Report</a></b>'))"
   ]
  },
  {
   "cell_type": "code",
   "execution_count": null,
   "id": "f00daf0a",
   "metadata": {},
   "outputs": [],
   "source": []
  },
  {
   "cell_type": "code",
   "execution_count": null,
   "id": "d2f7808b",
   "metadata": {
    "tags": []
   },
   "outputs": [],
   "source": [
    "path = \"./data-clarify/amazon_reviews_us_giftcards_software_videogames.csv\"\n",
    "df.to_csv(path, index=False, header=True)"
   ]
  },
  {
   "cell_type": "code",
   "execution_count": null,
   "id": "b9ba05b3-7582-40a0-8ab1-75739442b010",
   "metadata": {
    "tags": []
   },
   "outputs": [],
   "source": [
    "_testing"
   ]
  }
 ],
 "metadata": {
  "availableInstances": [
   {
    "_defaultOrder": 0,
    "_isFastLaunch": true,
    "category": "General purpose",
    "gpuNum": 0,
    "hideHardwareSpecs": false,
    "memoryGiB": 4,
    "name": "ml.t3.medium",
    "vcpuNum": 2
   },
   {
    "_defaultOrder": 1,
    "_isFastLaunch": false,
    "category": "General purpose",
    "gpuNum": 0,
    "hideHardwareSpecs": false,
    "memoryGiB": 8,
    "name": "ml.t3.large",
    "vcpuNum": 2
   },
   {
    "_defaultOrder": 2,
    "_isFastLaunch": false,
    "category": "General purpose",
    "gpuNum": 0,
    "hideHardwareSpecs": false,
    "memoryGiB": 16,
    "name": "ml.t3.xlarge",
    "vcpuNum": 4
   },
   {
    "_defaultOrder": 3,
    "_isFastLaunch": false,
    "category": "General purpose",
    "gpuNum": 0,
    "hideHardwareSpecs": false,
    "memoryGiB": 32,
    "name": "ml.t3.2xlarge",
    "vcpuNum": 8
   },
   {
    "_defaultOrder": 4,
    "_isFastLaunch": true,
    "category": "General purpose",
    "gpuNum": 0,
    "hideHardwareSpecs": false,
    "memoryGiB": 8,
    "name": "ml.m5.large",
    "vcpuNum": 2
   },
   {
    "_defaultOrder": 5,
    "_isFastLaunch": false,
    "category": "General purpose",
    "gpuNum": 0,
    "hideHardwareSpecs": false,
    "memoryGiB": 16,
    "name": "ml.m5.xlarge",
    "vcpuNum": 4
   },
   {
    "_defaultOrder": 6,
    "_isFastLaunch": false,
    "category": "General purpose",
    "gpuNum": 0,
    "hideHardwareSpecs": false,
    "memoryGiB": 32,
    "name": "ml.m5.2xlarge",
    "vcpuNum": 8
   },
   {
    "_defaultOrder": 7,
    "_isFastLaunch": false,
    "category": "General purpose",
    "gpuNum": 0,
    "hideHardwareSpecs": false,
    "memoryGiB": 64,
    "name": "ml.m5.4xlarge",
    "vcpuNum": 16
   },
   {
    "_defaultOrder": 8,
    "_isFastLaunch": false,
    "category": "General purpose",
    "gpuNum": 0,
    "hideHardwareSpecs": false,
    "memoryGiB": 128,
    "name": "ml.m5.8xlarge",
    "vcpuNum": 32
   },
   {
    "_defaultOrder": 9,
    "_isFastLaunch": false,
    "category": "General purpose",
    "gpuNum": 0,
    "hideHardwareSpecs": false,
    "memoryGiB": 192,
    "name": "ml.m5.12xlarge",
    "vcpuNum": 48
   },
   {
    "_defaultOrder": 10,
    "_isFastLaunch": false,
    "category": "General purpose",
    "gpuNum": 0,
    "hideHardwareSpecs": false,
    "memoryGiB": 256,
    "name": "ml.m5.16xlarge",
    "vcpuNum": 64
   },
   {
    "_defaultOrder": 11,
    "_isFastLaunch": false,
    "category": "General purpose",
    "gpuNum": 0,
    "hideHardwareSpecs": false,
    "memoryGiB": 384,
    "name": "ml.m5.24xlarge",
    "vcpuNum": 96
   },
   {
    "_defaultOrder": 12,
    "_isFastLaunch": false,
    "category": "General purpose",
    "gpuNum": 0,
    "hideHardwareSpecs": false,
    "memoryGiB": 8,
    "name": "ml.m5d.large",
    "vcpuNum": 2
   },
   {
    "_defaultOrder": 13,
    "_isFastLaunch": false,
    "category": "General purpose",
    "gpuNum": 0,
    "hideHardwareSpecs": false,
    "memoryGiB": 16,
    "name": "ml.m5d.xlarge",
    "vcpuNum": 4
   },
   {
    "_defaultOrder": 14,
    "_isFastLaunch": false,
    "category": "General purpose",
    "gpuNum": 0,
    "hideHardwareSpecs": false,
    "memoryGiB": 32,
    "name": "ml.m5d.2xlarge",
    "vcpuNum": 8
   },
   {
    "_defaultOrder": 15,
    "_isFastLaunch": false,
    "category": "General purpose",
    "gpuNum": 0,
    "hideHardwareSpecs": false,
    "memoryGiB": 64,
    "name": "ml.m5d.4xlarge",
    "vcpuNum": 16
   },
   {
    "_defaultOrder": 16,
    "_isFastLaunch": false,
    "category": "General purpose",
    "gpuNum": 0,
    "hideHardwareSpecs": false,
    "memoryGiB": 128,
    "name": "ml.m5d.8xlarge",
    "vcpuNum": 32
   },
   {
    "_defaultOrder": 17,
    "_isFastLaunch": false,
    "category": "General purpose",
    "gpuNum": 0,
    "hideHardwareSpecs": false,
    "memoryGiB": 192,
    "name": "ml.m5d.12xlarge",
    "vcpuNum": 48
   },
   {
    "_defaultOrder": 18,
    "_isFastLaunch": false,
    "category": "General purpose",
    "gpuNum": 0,
    "hideHardwareSpecs": false,
    "memoryGiB": 256,
    "name": "ml.m5d.16xlarge",
    "vcpuNum": 64
   },
   {
    "_defaultOrder": 19,
    "_isFastLaunch": false,
    "category": "General purpose",
    "gpuNum": 0,
    "hideHardwareSpecs": false,
    "memoryGiB": 384,
    "name": "ml.m5d.24xlarge",
    "vcpuNum": 96
   },
   {
    "_defaultOrder": 20,
    "_isFastLaunch": false,
    "category": "General purpose",
    "gpuNum": 0,
    "hideHardwareSpecs": true,
    "memoryGiB": 0,
    "name": "ml.geospatial.interactive",
    "supportedImageNames": [
     "sagemaker-geospatial-v1-0"
    ],
    "vcpuNum": 0
   },
   {
    "_defaultOrder": 21,
    "_isFastLaunch": true,
    "category": "Compute optimized",
    "gpuNum": 0,
    "hideHardwareSpecs": false,
    "memoryGiB": 4,
    "name": "ml.c5.large",
    "vcpuNum": 2
   },
   {
    "_defaultOrder": 22,
    "_isFastLaunch": false,
    "category": "Compute optimized",
    "gpuNum": 0,
    "hideHardwareSpecs": false,
    "memoryGiB": 8,
    "name": "ml.c5.xlarge",
    "vcpuNum": 4
   },
   {
    "_defaultOrder": 23,
    "_isFastLaunch": false,
    "category": "Compute optimized",
    "gpuNum": 0,
    "hideHardwareSpecs": false,
    "memoryGiB": 16,
    "name": "ml.c5.2xlarge",
    "vcpuNum": 8
   },
   {
    "_defaultOrder": 24,
    "_isFastLaunch": false,
    "category": "Compute optimized",
    "gpuNum": 0,
    "hideHardwareSpecs": false,
    "memoryGiB": 32,
    "name": "ml.c5.4xlarge",
    "vcpuNum": 16
   },
   {
    "_defaultOrder": 25,
    "_isFastLaunch": false,
    "category": "Compute optimized",
    "gpuNum": 0,
    "hideHardwareSpecs": false,
    "memoryGiB": 72,
    "name": "ml.c5.9xlarge",
    "vcpuNum": 36
   },
   {
    "_defaultOrder": 26,
    "_isFastLaunch": false,
    "category": "Compute optimized",
    "gpuNum": 0,
    "hideHardwareSpecs": false,
    "memoryGiB": 96,
    "name": "ml.c5.12xlarge",
    "vcpuNum": 48
   },
   {
    "_defaultOrder": 27,
    "_isFastLaunch": false,
    "category": "Compute optimized",
    "gpuNum": 0,
    "hideHardwareSpecs": false,
    "memoryGiB": 144,
    "name": "ml.c5.18xlarge",
    "vcpuNum": 72
   },
   {
    "_defaultOrder": 28,
    "_isFastLaunch": false,
    "category": "Compute optimized",
    "gpuNum": 0,
    "hideHardwareSpecs": false,
    "memoryGiB": 192,
    "name": "ml.c5.24xlarge",
    "vcpuNum": 96
   },
   {
    "_defaultOrder": 29,
    "_isFastLaunch": true,
    "category": "Accelerated computing",
    "gpuNum": 1,
    "hideHardwareSpecs": false,
    "memoryGiB": 16,
    "name": "ml.g4dn.xlarge",
    "vcpuNum": 4
   },
   {
    "_defaultOrder": 30,
    "_isFastLaunch": false,
    "category": "Accelerated computing",
    "gpuNum": 1,
    "hideHardwareSpecs": false,
    "memoryGiB": 32,
    "name": "ml.g4dn.2xlarge",
    "vcpuNum": 8
   },
   {
    "_defaultOrder": 31,
    "_isFastLaunch": false,
    "category": "Accelerated computing",
    "gpuNum": 1,
    "hideHardwareSpecs": false,
    "memoryGiB": 64,
    "name": "ml.g4dn.4xlarge",
    "vcpuNum": 16
   },
   {
    "_defaultOrder": 32,
    "_isFastLaunch": false,
    "category": "Accelerated computing",
    "gpuNum": 1,
    "hideHardwareSpecs": false,
    "memoryGiB": 128,
    "name": "ml.g4dn.8xlarge",
    "vcpuNum": 32
   },
   {
    "_defaultOrder": 33,
    "_isFastLaunch": false,
    "category": "Accelerated computing",
    "gpuNum": 4,
    "hideHardwareSpecs": false,
    "memoryGiB": 192,
    "name": "ml.g4dn.12xlarge",
    "vcpuNum": 48
   },
   {
    "_defaultOrder": 34,
    "_isFastLaunch": false,
    "category": "Accelerated computing",
    "gpuNum": 1,
    "hideHardwareSpecs": false,
    "memoryGiB": 256,
    "name": "ml.g4dn.16xlarge",
    "vcpuNum": 64
   },
   {
    "_defaultOrder": 35,
    "_isFastLaunch": false,
    "category": "Accelerated computing",
    "gpuNum": 1,
    "hideHardwareSpecs": false,
    "memoryGiB": 61,
    "name": "ml.p3.2xlarge",
    "vcpuNum": 8
   },
   {
    "_defaultOrder": 36,
    "_isFastLaunch": false,
    "category": "Accelerated computing",
    "gpuNum": 4,
    "hideHardwareSpecs": false,
    "memoryGiB": 244,
    "name": "ml.p3.8xlarge",
    "vcpuNum": 32
   },
   {
    "_defaultOrder": 37,
    "_isFastLaunch": false,
    "category": "Accelerated computing",
    "gpuNum": 8,
    "hideHardwareSpecs": false,
    "memoryGiB": 488,
    "name": "ml.p3.16xlarge",
    "vcpuNum": 64
   },
   {
    "_defaultOrder": 38,
    "_isFastLaunch": false,
    "category": "Accelerated computing",
    "gpuNum": 8,
    "hideHardwareSpecs": false,
    "memoryGiB": 768,
    "name": "ml.p3dn.24xlarge",
    "vcpuNum": 96
   },
   {
    "_defaultOrder": 39,
    "_isFastLaunch": false,
    "category": "Memory Optimized",
    "gpuNum": 0,
    "hideHardwareSpecs": false,
    "memoryGiB": 16,
    "name": "ml.r5.large",
    "vcpuNum": 2
   },
   {
    "_defaultOrder": 40,
    "_isFastLaunch": false,
    "category": "Memory Optimized",
    "gpuNum": 0,
    "hideHardwareSpecs": false,
    "memoryGiB": 32,
    "name": "ml.r5.xlarge",
    "vcpuNum": 4
   },
   {
    "_defaultOrder": 41,
    "_isFastLaunch": false,
    "category": "Memory Optimized",
    "gpuNum": 0,
    "hideHardwareSpecs": false,
    "memoryGiB": 64,
    "name": "ml.r5.2xlarge",
    "vcpuNum": 8
   },
   {
    "_defaultOrder": 42,
    "_isFastLaunch": false,
    "category": "Memory Optimized",
    "gpuNum": 0,
    "hideHardwareSpecs": false,
    "memoryGiB": 128,
    "name": "ml.r5.4xlarge",
    "vcpuNum": 16
   },
   {
    "_defaultOrder": 43,
    "_isFastLaunch": false,
    "category": "Memory Optimized",
    "gpuNum": 0,
    "hideHardwareSpecs": false,
    "memoryGiB": 256,
    "name": "ml.r5.8xlarge",
    "vcpuNum": 32
   },
   {
    "_defaultOrder": 44,
    "_isFastLaunch": false,
    "category": "Memory Optimized",
    "gpuNum": 0,
    "hideHardwareSpecs": false,
    "memoryGiB": 384,
    "name": "ml.r5.12xlarge",
    "vcpuNum": 48
   },
   {
    "_defaultOrder": 45,
    "_isFastLaunch": false,
    "category": "Memory Optimized",
    "gpuNum": 0,
    "hideHardwareSpecs": false,
    "memoryGiB": 512,
    "name": "ml.r5.16xlarge",
    "vcpuNum": 64
   },
   {
    "_defaultOrder": 46,
    "_isFastLaunch": false,
    "category": "Memory Optimized",
    "gpuNum": 0,
    "hideHardwareSpecs": false,
    "memoryGiB": 768,
    "name": "ml.r5.24xlarge",
    "vcpuNum": 96
   },
   {
    "_defaultOrder": 47,
    "_isFastLaunch": false,
    "category": "Accelerated computing",
    "gpuNum": 1,
    "hideHardwareSpecs": false,
    "memoryGiB": 16,
    "name": "ml.g5.xlarge",
    "vcpuNum": 4
   },
   {
    "_defaultOrder": 48,
    "_isFastLaunch": false,
    "category": "Accelerated computing",
    "gpuNum": 1,
    "hideHardwareSpecs": false,
    "memoryGiB": 32,
    "name": "ml.g5.2xlarge",
    "vcpuNum": 8
   },
   {
    "_defaultOrder": 49,
    "_isFastLaunch": false,
    "category": "Accelerated computing",
    "gpuNum": 1,
    "hideHardwareSpecs": false,
    "memoryGiB": 64,
    "name": "ml.g5.4xlarge",
    "vcpuNum": 16
   },
   {
    "_defaultOrder": 50,
    "_isFastLaunch": false,
    "category": "Accelerated computing",
    "gpuNum": 1,
    "hideHardwareSpecs": false,
    "memoryGiB": 128,
    "name": "ml.g5.8xlarge",
    "vcpuNum": 32
   },
   {
    "_defaultOrder": 51,
    "_isFastLaunch": false,
    "category": "Accelerated computing",
    "gpuNum": 1,
    "hideHardwareSpecs": false,
    "memoryGiB": 256,
    "name": "ml.g5.16xlarge",
    "vcpuNum": 64
   },
   {
    "_defaultOrder": 52,
    "_isFastLaunch": false,
    "category": "Accelerated computing",
    "gpuNum": 4,
    "hideHardwareSpecs": false,
    "memoryGiB": 192,
    "name": "ml.g5.12xlarge",
    "vcpuNum": 48
   },
   {
    "_defaultOrder": 53,
    "_isFastLaunch": false,
    "category": "Accelerated computing",
    "gpuNum": 4,
    "hideHardwareSpecs": false,
    "memoryGiB": 384,
    "name": "ml.g5.24xlarge",
    "vcpuNum": 96
   },
   {
    "_defaultOrder": 54,
    "_isFastLaunch": false,
    "category": "Accelerated computing",
    "gpuNum": 8,
    "hideHardwareSpecs": false,
    "memoryGiB": 768,
    "name": "ml.g5.48xlarge",
    "vcpuNum": 192
   },
   {
    "_defaultOrder": 55,
    "_isFastLaunch": false,
    "category": "Accelerated computing",
    "gpuNum": 8,
    "hideHardwareSpecs": false,
    "memoryGiB": 1152,
    "name": "ml.p4d.24xlarge",
    "vcpuNum": 96
   },
   {
    "_defaultOrder": 56,
    "_isFastLaunch": false,
    "category": "Accelerated computing",
    "gpuNum": 8,
    "hideHardwareSpecs": false,
    "memoryGiB": 1152,
    "name": "ml.p4de.24xlarge",
    "vcpuNum": 96
   },
   {
    "_defaultOrder": 57,
    "_isFastLaunch": false,
    "category": "Accelerated computing",
    "gpuNum": 0,
    "hideHardwareSpecs": false,
    "memoryGiB": 32,
    "name": "ml.trn1.2xlarge",
    "vcpuNum": 8
   },
   {
    "_defaultOrder": 58,
    "_isFastLaunch": false,
    "category": "Accelerated computing",
    "gpuNum": 0,
    "hideHardwareSpecs": false,
    "memoryGiB": 512,
    "name": "ml.trn1.32xlarge",
    "vcpuNum": 128
   },
   {
    "_defaultOrder": 59,
    "_isFastLaunch": false,
    "category": "Accelerated computing",
    "gpuNum": 0,
    "hideHardwareSpecs": false,
    "memoryGiB": 512,
    "name": "ml.trn1n.32xlarge",
    "vcpuNum": 128
   }
  ],
  "instance_type": "ml.t3.medium",
  "kernelspec": {
   "display_name": "Python 3 (Data Science 2.0)",
   "language": "python",
   "name": "python3__SAGEMAKER_INTERNAL__arn:aws:sagemaker:us-east-1:081325390199:image/sagemaker-data-science-38"
  },
  "language_info": {
   "codemirror_mode": {
    "name": "ipython",
    "version": 3
   },
   "file_extension": ".py",
   "mimetype": "text/x-python",
   "name": "python",
   "nbconvert_exporter": "python",
   "pygments_lexer": "ipython3",
   "version": "3.8.13"
  },
  "nbdime-conflicts": {
   "local_diff": [
    {
     "diff": [
      {
       "diff": [
        {
         "key": 0,
         "op": "addrange",
         "valuelist": [
          "3.8.13"
         ]
        },
        {
         "key": 0,
         "length": 1,
         "op": "removerange"
        }
       ],
       "key": "version",
       "op": "patch"
      }
     ],
     "key": "language_info",
     "op": "patch"
    }
   ],
   "remote_diff": [
    {
     "diff": [
      {
       "diff": [
        {
         "key": 0,
         "op": "addrange",
         "valuelist": [
          "3.10.13"
         ]
        },
        {
         "key": 0,
         "length": 1,
         "op": "removerange"
        }
       ],
       "key": "version",
       "op": "patch"
      }
     ],
     "key": "language_info",
     "op": "patch"
    }
   ]
  }
 },
 "nbformat": 4,
 "nbformat_minor": 5
}
