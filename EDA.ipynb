{
 "cells": [
  {
   "cell_type": "markdown",
   "id": "5c793d1c",
   "metadata": {},
   "source": [
    "# Data Ingestion"
   ]
  },
  {
   "cell_type": "markdown",
   "id": "2323e27d",
   "metadata": {},
   "source": [
    "## Copy CSV files to S3"
   ]
  },
  {
   "cell_type": "code",
   "execution_count": 2,
   "id": "fe95d59a",
   "metadata": {
    "tags": []
   },
   "outputs": [],
   "source": [
    "# Assume all the pre-requisites were set up \n",
    "%store -r setup_instance_check_passed\n",
    "%store -r setup_dependencies_passed\n",
    "%store -r setup_s3_bucket_passed\n",
    "%store -r setup_iam_roles_passed\n"
   ]
  },
  {
   "cell_type": "code",
   "execution_count": 3,
   "id": "27abfe19",
   "metadata": {
    "tags": []
   },
   "outputs": [
    {
     "name": "stdout",
     "output_type": "stream",
     "text": [
      "sagemaker.config INFO - Not applying SDK defaults from location: /etc/xdg/sagemaker/config.yaml\n",
      "sagemaker.config INFO - Not applying SDK defaults from location: /root/.config/sagemaker/config.yaml\n"
     ]
    }
   ],
   "source": [
    "# Load Libraries\n",
    "import boto3\n",
    "import sagemaker\n",
    "import pandas as pd\n",
    "\n",
    "sess = sagemaker.Session()\n",
    "bucket = sess.default_bucket()\n",
    "role = sagemaker.get_execution_role()\n",
    "region = boto3.Session().region_name\n",
    "account_id = boto3.client(\"sts\").get_caller_identity().get(\"Account\")\n",
    "\n",
    "sm = boto3.Session().client(service_name=\"sagemaker\", region_name=region)"
   ]
  },
  {
   "cell_type": "code",
   "execution_count": 4,
   "id": "1a390ac1",
   "metadata": {
    "tags": []
   },
   "outputs": [
    {
     "name": "stdout",
     "output_type": "stream",
     "text": [
      "                           PRE cities/\n",
      "                           PRE nyt/\n",
      "                           PRE tweeter/\n",
      "copy: s3://ads508team5/tweeter/hashtag_donaldtrump.csv to s3://sagemaker-us-east-1-975050119017/ADS508_project/tweeter/hashtag_donaldtrump.csv\n",
      "copy: s3://ads508team5/tweeter/hashtag_joebiden.csv to s3://sagemaker-us-east-1-975050119017/ADS508_project/tweeter/hashtag_joebiden.csv\n",
      "copy: s3://ads508team5/nyt/nyt-comments-2020.csv to s3://sagemaker-us-east-1-975050119017/ADS508_project/nyt/nyt-comments-2020.csv\n",
      "copy: s3://ads508team5/cities/uscities.csv to s3://sagemaker-us-east-1-975050119017/ADS508_project/cities/uscities.csv\n"
     ]
    }
   ],
   "source": [
    "# Public Data\n",
    "!aws s3 ls s3://ads508team5/\n",
    "\n",
    "# Copy Datasets from :\n",
    "# Source of data\n",
    "s3_public_path_tweeter = \"s3://ads508team5/tweeter\"\n",
    "s3_public_path_nyt = \"s3://ads508team5/nyt\"\n",
    "s3_public_path_cities = \"s3://ads508team5/cities\"\n",
    "\n",
    "# Destination Data:\n",
    "s3_private_path_tweeter = \"s3://{}/ADS508_project/tweeter\".format(bucket)\n",
    "s3_private_path_nyt = \"s3://{}/ADS508_project/nyt\".format(bucket)\n",
    "s3_private_path_cities = \"s3://{}/ADS508_project/cities\".format(bucket)\n",
    "\n",
    "# Copy datasets\n",
    "!aws s3 cp --recursive $s3_public_path_tweeter/ $s3_private_path_tweeter/ --exclude \"*\" --include \"hashtag_donaldtrump.csv\"\n",
    "!aws s3 cp --recursive $s3_public_path_tweeter/ $s3_private_path_tweeter/ --exclude \"*\" --include \"hashtag_joebiden.csv\"\n",
    "!aws s3 cp --recursive $s3_public_path_nyt/ $s3_private_path_nyt/ --exclude \"*\" --include \"nyt-comments-2020.csv\"\n",
    "!aws s3 cp --recursive $s3_public_path_cities/ $s3_private_path_cities/ --exclude \"*\" --include \"uscities.csv\""
   ]
  },
  {
   "cell_type": "markdown",
   "id": "fbfd7b2f",
   "metadata": {},
   "source": [
    "## Create Database, Tables and Parquets\n",
    "### Database"
   ]
  },
  {
   "cell_type": "code",
   "execution_count": 5,
   "id": "8ed3ea97",
   "metadata": {
    "tags": []
   },
   "outputs": [
    {
     "name": "stdout",
     "output_type": "stream",
     "text": [
      "\u001b[33mDEPRECATION: pyodbc 4.0.0-unsupported has a non-standard version number. pip 24.0 will enforce this behaviour change. A possible replacement is to upgrade to a newer version of pyodbc or contact the author to suggest that they release a version with a conforming version number. Discussion can be found at https://github.com/pypa/pip/issues/12063\u001b[0m\u001b[33m\n",
      "\u001b[0m\u001b[33mWARNING: Running pip as the 'root' user can result in broken permissions and conflicting behaviour with the system package manager. It is recommended to use a virtual environment instead: https://pip.pypa.io/warnings/venv\u001b[0m\u001b[33m\n",
      "\u001b[0m"
     ]
    }
   ],
   "source": [
    "# Setup and check pre-requisites to create Database\n",
    "ingest_create_athena_db_passed = False\n",
    "\n",
    "!pip install --disable-pip-version-check -q PyAthena==2.1.0\n",
    "from pyathena import connect"
   ]
  },
  {
   "cell_type": "code",
   "execution_count": 6,
   "id": "54ba41e8-462e-425b-a617-05641521dd0e",
   "metadata": {
    "tags": []
   },
   "outputs": [],
   "source": [
    "\n",
    "# Set S3 staging directory -- this is a temporary directory used for Athena queries\n",
    "s3_staging_dir = \"s3://{0}/athena/staging\".format(bucket)\n",
    "\n",
    "# Create Connection\n",
    "conn = connect(region_name=region, s3_staging_dir=s3_staging_dir)"
   ]
  },
  {
   "cell_type": "code",
   "execution_count": 7,
   "id": "a6268521",
   "metadata": {
    "tags": []
   },
   "outputs": [
    {
     "data": {
      "text/html": [
       "<div>\n",
       "<style scoped>\n",
       "    .dataframe tbody tr th:only-of-type {\n",
       "        vertical-align: middle;\n",
       "    }\n",
       "\n",
       "    .dataframe tbody tr th {\n",
       "        vertical-align: top;\n",
       "    }\n",
       "\n",
       "    .dataframe thead th {\n",
       "        text-align: right;\n",
       "    }\n",
       "</style>\n",
       "<table border=\"1\" class=\"dataframe\">\n",
       "  <thead>\n",
       "    <tr style=\"text-align: right;\">\n",
       "      <th></th>\n",
       "      <th>database_name</th>\n",
       "    </tr>\n",
       "  </thead>\n",
       "  <tbody>\n",
       "    <tr>\n",
       "      <th>0</th>\n",
       "      <td>dbpoliticpulsecomment</td>\n",
       "    </tr>\n",
       "    <tr>\n",
       "      <th>1</th>\n",
       "      <td>default</td>\n",
       "    </tr>\n",
       "  </tbody>\n",
       "</table>\n",
       "</div>"
      ],
      "text/plain": [
       "           database_name\n",
       "0  dbpoliticpulsecomment\n",
       "1                default"
      ]
     },
     "execution_count": 7,
     "metadata": {},
     "output_type": "execute_result"
    }
   ],
   "source": [
    "# Create Database\n",
    "database_name = \"dbpoliticpulsecomment\"\n",
    "\n",
    "statement = \"CREATE DATABASE IF NOT EXISTS {}\".format(database_name)\n",
    "\n",
    "pd.read_sql(statement, conn)\n",
    "\n",
    "# Verify DB successfully created\n",
    "statement = \"SHOW DATABASES\"\n",
    "\n",
    "df_show = pd.read_sql(statement, conn)\n",
    "df_show.head(5)\n"
   ]
  },
  {
   "cell_type": "code",
   "execution_count": 8,
   "id": "a58edb18",
   "metadata": {
    "tags": []
   },
   "outputs": [],
   "source": [
    "# End of Create Database\n",
    "if database_name in df_show.values:\n",
    "    ingest_create_athena_db_passed = True"
   ]
  },
  {
   "cell_type": "markdown",
   "id": "50b6701e",
   "metadata": {},
   "source": [
    "### Tables"
   ]
  },
  {
   "cell_type": "code",
   "execution_count": 9,
   "id": "b366b2af",
   "metadata": {
    "tags": []
   },
   "outputs": [
    {
     "data": {
      "text/html": [
       "<div>\n",
       "<style scoped>\n",
       "    .dataframe tbody tr th:only-of-type {\n",
       "        vertical-align: middle;\n",
       "    }\n",
       "\n",
       "    .dataframe tbody tr th {\n",
       "        vertical-align: top;\n",
       "    }\n",
       "\n",
       "    .dataframe thead th {\n",
       "        text-align: right;\n",
       "    }\n",
       "</style>\n",
       "<table border=\"1\" class=\"dataframe\">\n",
       "  <thead>\n",
       "    <tr style=\"text-align: right;\">\n",
       "      <th></th>\n",
       "    </tr>\n",
       "  </thead>\n",
       "  <tbody>\n",
       "  </tbody>\n",
       "</table>\n",
       "</div>"
      ],
      "text/plain": [
       "Empty DataFrame\n",
       "Columns: []\n",
       "Index: []"
      ]
     },
     "execution_count": 9,
     "metadata": {},
     "output_type": "execute_result"
    }
   ],
   "source": [
    "# Create Tweeter Tables\n",
    "table_name_csv = \"tweeter\"\n",
    "s3_private_path_tweeter = \"s3://{}/ADS508_project/tweeter\".format(bucket)\n",
    "\n",
    "statement = \"\"\"CREATE EXTERNAL TABLE IF NOT EXISTS {}.{}(\n",
    "  created_at TIMESTAMP,\n",
    "  tweet_id FLOAT,\n",
    "  tweet VARCHAR(250),\n",
    "  likes INT,\n",
    "  retweet_count INT,\n",
    "  source VARCHAR(45),\n",
    "  user_id INT,\n",
    "  user_name VARCHAR(250),\n",
    "  user_screen_name VARCHAR(45),\n",
    "  user_description VARCHAR(250),\n",
    "  user_join_date TIMESTAMP,\n",
    "  user_followers_count INT,\n",
    "  user_location VARCHAR(45),\n",
    "  lat FLOAT,\n",
    "  long FLOAT,\n",
    "  city VARCHAR(45),\n",
    "  country VARCHAR(45),\n",
    "  continent VARCHAR(45),\n",
    "  state VARCHAR(45),\n",
    "  state_code VARCHAR(45),\n",
    "  collected_at VARCHAR(45)\n",
    ")\n",
    "ROW FORMAT DELIMITED\n",
    "FIELDS TERMINATED BY ','\n",
    "LOCATION '{}'\n",
    "TBLPROPERTIES ('skip.header.line.count'='1')\"\"\".format(\n",
    "    database_name, table_name_csv, s3_private_path_tweeter\n",
    ")\n",
    "\n",
    "pd.read_sql(statement, conn)\n"
   ]
  },
  {
   "cell_type": "code",
   "execution_count": 10,
   "id": "cb2f3816",
   "metadata": {
    "tags": []
   },
   "outputs": [
    {
     "data": {
      "text/html": [
       "<div>\n",
       "<style scoped>\n",
       "    .dataframe tbody tr th:only-of-type {\n",
       "        vertical-align: middle;\n",
       "    }\n",
       "\n",
       "    .dataframe tbody tr th {\n",
       "        vertical-align: top;\n",
       "    }\n",
       "\n",
       "    .dataframe thead th {\n",
       "        text-align: right;\n",
       "    }\n",
       "</style>\n",
       "<table border=\"1\" class=\"dataframe\">\n",
       "  <thead>\n",
       "    <tr style=\"text-align: right;\">\n",
       "      <th></th>\n",
       "      <th>created_at</th>\n",
       "      <th>tweet_id</th>\n",
       "      <th>tweet</th>\n",
       "      <th>likes</th>\n",
       "      <th>retweet_count</th>\n",
       "      <th>source</th>\n",
       "      <th>user_id</th>\n",
       "      <th>user_name</th>\n",
       "      <th>user_screen_name</th>\n",
       "      <th>user_description</th>\n",
       "      <th>...</th>\n",
       "      <th>user_followers_count</th>\n",
       "      <th>user_location</th>\n",
       "      <th>lat</th>\n",
       "      <th>long</th>\n",
       "      <th>city</th>\n",
       "      <th>country</th>\n",
       "      <th>continent</th>\n",
       "      <th>state</th>\n",
       "      <th>state_code</th>\n",
       "      <th>collected_at</th>\n",
       "    </tr>\n",
       "  </thead>\n",
       "  <tbody>\n",
       "    <tr>\n",
       "      <th>0</th>\n",
       "      <td>None</td>\n",
       "      <td>1.316529e+18</td>\n",
       "      <td>@chrislongview Watching and setting dvr. Let’s...</td>\n",
       "      <td>0</td>\n",
       "      <td>0</td>\n",
       "      <td>Twitter for iPhone</td>\n",
       "      <td>None</td>\n",
       "      <td>Michelle Ferg</td>\n",
       "      <td>MichelleFerg4</td>\n",
       "      <td></td>\n",
       "      <td>...</td>\n",
       "      <td>27</td>\n",
       "      <td></td>\n",
       "      <td>None</td>\n",
       "      <td>None</td>\n",
       "      <td></td>\n",
       "      <td></td>\n",
       "      <td></td>\n",
       "      <td></td>\n",
       "      <td></td>\n",
       "      <td>00:01.6</td>\n",
       "    </tr>\n",
       "  </tbody>\n",
       "</table>\n",
       "<p>1 rows × 21 columns</p>\n",
       "</div>"
      ],
      "text/plain": [
       "  created_at      tweet_id                                              tweet  \\\n",
       "0       None  1.316529e+18  @chrislongview Watching and setting dvr. Let’s...   \n",
       "\n",
       "   likes  retweet_count              source user_id      user_name  \\\n",
       "0      0              0  Twitter for iPhone    None  Michelle Ferg   \n",
       "\n",
       "  user_screen_name user_description  ... user_followers_count  user_location  \\\n",
       "0    MichelleFerg4                   ...                   27                  \n",
       "\n",
       "    lat  long city country continent state state_code collected_at  \n",
       "0  None  None                                              00:01.6  \n",
       "\n",
       "[1 rows x 21 columns]"
      ]
     },
     "execution_count": 10,
     "metadata": {},
     "output_type": "execute_result"
    }
   ],
   "source": [
    "# testing hashtag_donaldtrump.csv tweet\n",
    "tweet = \"You get a tie! And you get a tie! #Trump ‘s rally #Iowa https://t.co/jJalUUmh5D\"\n",
    "# testing hashtag_joebiden.csv tweet\n",
    "tweet = \"@chrislongview Watching and setting dvr. Let’s give him bonus ratings!! #JoeBiden\"\n",
    "\n",
    "\n",
    "statement = \"\"\"SELECT * FROM {}.{}\n",
    "    WHERE tweet = '{}' LIMIT 100\"\"\".format(\n",
    "    database_name, table_name_csv, tweet\n",
    ")\n",
    "\n",
    "df = pd.read_sql(statement, conn)\n",
    "df.head(5)\n"
   ]
  },
  {
   "cell_type": "code",
   "execution_count": 11,
   "id": "ed105b9b",
   "metadata": {
    "tags": []
   },
   "outputs": [
    {
     "data": {
      "text/html": [
       "<div>\n",
       "<style scoped>\n",
       "    .dataframe tbody tr th:only-of-type {\n",
       "        vertical-align: middle;\n",
       "    }\n",
       "\n",
       "    .dataframe tbody tr th {\n",
       "        vertical-align: top;\n",
       "    }\n",
       "\n",
       "    .dataframe thead th {\n",
       "        text-align: right;\n",
       "    }\n",
       "</style>\n",
       "<table border=\"1\" class=\"dataframe\">\n",
       "  <thead>\n",
       "    <tr style=\"text-align: right;\">\n",
       "      <th></th>\n",
       "    </tr>\n",
       "  </thead>\n",
       "  <tbody>\n",
       "  </tbody>\n",
       "</table>\n",
       "</div>"
      ],
      "text/plain": [
       "Empty DataFrame\n",
       "Columns: []\n",
       "Index: []"
      ]
     },
     "execution_count": 11,
     "metadata": {},
     "output_type": "execute_result"
    }
   ],
   "source": [
    "# Create NYT comment Table\n",
    "table_name_csv = \"nyt_comment\"\n",
    "s3_private_path_nyt = \"s3://{}/ADS508_project/nyt\".format(bucket)\n",
    "\n",
    "\n",
    "statement = \"\"\"CREATE EXTERNAL TABLE IF NOT EXISTS {}.{} (\n",
    "  commentID INT,\n",
    "  status VARCHAR(20),\n",
    "  commentSequence INT,\n",
    "  userID INT,\n",
    "  userDisplayName VARCHAR(45),\n",
    "  userLocation VARCHAR(45),\n",
    "  userTitle VARCHAR(10),\n",
    "  commentBody VARCHAR(500),\n",
    "  createDate TIMESTAMP,\n",
    "  updateDate TIMESTAMP,\n",
    "  approveDate TIMESTAMP,\n",
    "  recommendation INT,\n",
    "  replyCount INT,\n",
    "  editorsSelection VARCHAR(20),\n",
    "  parentID INT,\n",
    "  parentUserDisplayName VARCHAR(45),\n",
    "  depth INT,\n",
    "  commentType VARCHAR(20),\n",
    "  trusted VARCHAR(20),\n",
    "  recommendedFlag VARCHAR(20),\n",
    "  permID INT,\n",
    "  isAnonymous VARCHAR(20),\n",
    "  articleID VARCHAR(150)\n",
    ")\n",
    "ROW FORMAT DELIMITED\n",
    "FIELDS TERMINATED BY ','\n",
    "LOCATION '{}'\n",
    "TBLPROPERTIES ('skip.header.line.count'='1')\"\"\".format(\n",
    "    database_name, table_name_csv, s3_private_path_nyt\n",
    ")\n",
    "\n",
    "pd.read_sql(statement, conn)\n"
   ]
  },
  {
   "cell_type": "code",
   "execution_count": 12,
   "id": "1f08d61f",
   "metadata": {
    "tags": []
   },
   "outputs": [
    {
     "data": {
      "text/html": [
       "<div>\n",
       "<style scoped>\n",
       "    .dataframe tbody tr th:only-of-type {\n",
       "        vertical-align: middle;\n",
       "    }\n",
       "\n",
       "    .dataframe tbody tr th {\n",
       "        vertical-align: top;\n",
       "    }\n",
       "\n",
       "    .dataframe thead th {\n",
       "        text-align: right;\n",
       "    }\n",
       "</style>\n",
       "<table border=\"1\" class=\"dataframe\">\n",
       "  <thead>\n",
       "    <tr style=\"text-align: right;\">\n",
       "      <th></th>\n",
       "      <th>tab_name</th>\n",
       "    </tr>\n",
       "  </thead>\n",
       "  <tbody>\n",
       "    <tr>\n",
       "      <th>0</th>\n",
       "      <td>cleandata</td>\n",
       "    </tr>\n",
       "    <tr>\n",
       "      <th>1</th>\n",
       "      <td>comment</td>\n",
       "    </tr>\n",
       "    <tr>\n",
       "      <th>2</th>\n",
       "      <td>comment_parquet</td>\n",
       "    </tr>\n",
       "    <tr>\n",
       "      <th>3</th>\n",
       "      <td>nyt_comment</td>\n",
       "    </tr>\n",
       "    <tr>\n",
       "      <th>4</th>\n",
       "      <td>tweeter</td>\n",
       "    </tr>\n",
       "  </tbody>\n",
       "</table>\n",
       "</div>"
      ],
      "text/plain": [
       "          tab_name\n",
       "0        cleandata\n",
       "1          comment\n",
       "2  comment_parquet\n",
       "3      nyt_comment\n",
       "4          tweeter"
      ]
     },
     "execution_count": 12,
     "metadata": {},
     "output_type": "execute_result"
    }
   ],
   "source": [
    "statement = \"SHOW TABLES in {}\".format(database_name)\n",
    "\n",
    "df_show = pd.read_sql(statement, conn)\n",
    "df_show.head(5)"
   ]
  },
  {
   "cell_type": "code",
   "execution_count": 13,
   "id": "5f118e12",
   "metadata": {
    "tags": []
   },
   "outputs": [
    {
     "data": {
      "text/html": [
       "<div>\n",
       "<style scoped>\n",
       "    .dataframe tbody tr th:only-of-type {\n",
       "        vertical-align: middle;\n",
       "    }\n",
       "\n",
       "    .dataframe tbody tr th {\n",
       "        vertical-align: top;\n",
       "    }\n",
       "\n",
       "    .dataframe thead th {\n",
       "        text-align: right;\n",
       "    }\n",
       "</style>\n",
       "<table border=\"1\" class=\"dataframe\">\n",
       "  <thead>\n",
       "    <tr style=\"text-align: right;\">\n",
       "      <th></th>\n",
       "      <th>commentid</th>\n",
       "      <th>status</th>\n",
       "      <th>commentsequence</th>\n",
       "      <th>userid</th>\n",
       "      <th>userdisplayname</th>\n",
       "      <th>userlocation</th>\n",
       "      <th>usertitle</th>\n",
       "      <th>commentbody</th>\n",
       "      <th>createdate</th>\n",
       "      <th>updatedate</th>\n",
       "      <th>...</th>\n",
       "      <th>editorsselection</th>\n",
       "      <th>parentid</th>\n",
       "      <th>parentuserdisplayname</th>\n",
       "      <th>depth</th>\n",
       "      <th>commenttype</th>\n",
       "      <th>trusted</th>\n",
       "      <th>recommendedflag</th>\n",
       "      <th>permid</th>\n",
       "      <th>isanonymous</th>\n",
       "      <th>articleid</th>\n",
       "    </tr>\n",
       "  </thead>\n",
       "  <tbody>\n",
       "    <tr>\n",
       "      <th>0</th>\n",
       "      <td>104389709</td>\n",
       "      <td>approved</td>\n",
       "      <td>104389709</td>\n",
       "      <td>72038931</td>\n",
       "      <td>Anthony Monaghan</td>\n",
       "      <td>Narrabeen</td>\n",
       "      <td></td>\n",
       "      <td>@Philip Brown Agree 110%.</td>\n",
       "      <td>2020-01-01 10:36:20</td>\n",
       "      <td>2020-01-01 21:18:55</td>\n",
       "      <td>...</td>\n",
       "      <td>False</td>\n",
       "      <td>104389536</td>\n",
       "      <td>Philip Brown</td>\n",
       "      <td>2</td>\n",
       "      <td>userReply</td>\n",
       "      <td>0</td>\n",
       "      <td>0</td>\n",
       "      <td>104389709</td>\n",
       "      <td>False</td>\n",
       "      <td>nyt://article/69a7090b-9f36-569e-b5ab-b0ba5bb3...</td>\n",
       "    </tr>\n",
       "  </tbody>\n",
       "</table>\n",
       "<p>1 rows × 23 columns</p>\n",
       "</div>"
      ],
      "text/plain": [
       "   commentid    status  commentsequence    userid   userdisplayname  \\\n",
       "0  104389709  approved        104389709  72038931  Anthony Monaghan   \n",
       "\n",
       "  userlocation usertitle                commentbody          createdate  \\\n",
       "0    Narrabeen            @Philip Brown Agree 110%. 2020-01-01 10:36:20   \n",
       "\n",
       "           updatedate  ... editorsselection   parentid  parentuserdisplayname  \\\n",
       "0 2020-01-01 21:18:55  ...            False  104389536           Philip Brown   \n",
       "\n",
       "  depth  commenttype trusted  recommendedflag     permid isanonymous  \\\n",
       "0     2    userReply       0                0  104389709       False   \n",
       "\n",
       "                                           articleid  \n",
       "0  nyt://article/69a7090b-9f36-569e-b5ab-b0ba5bb3...  \n",
       "\n",
       "[1 rows x 23 columns]"
      ]
     },
     "execution_count": 13,
     "metadata": {},
     "output_type": "execute_result"
    }
   ],
   "source": [
    "commentBody = \"@Philip Brown Agree 110%.\"\n",
    "\n",
    "statement = \"\"\"SELECT * FROM {}.{}\n",
    "    WHERE commentBody = '{}' LIMIT 100\"\"\".format(\n",
    "    database_name, table_name_csv, commentBody\n",
    ")\n",
    "\n",
    "df = pd.read_sql(statement, conn)\n",
    "df.head(5)\n"
   ]
  },
  {
   "cell_type": "code",
   "execution_count": 14,
   "id": "df721c6c-eb56-473c-991f-4a8a80486d15",
   "metadata": {
    "tags": []
   },
   "outputs": [
    {
     "data": {
      "text/html": [
       "<div>\n",
       "<style scoped>\n",
       "    .dataframe tbody tr th:only-of-type {\n",
       "        vertical-align: middle;\n",
       "    }\n",
       "\n",
       "    .dataframe tbody tr th {\n",
       "        vertical-align: top;\n",
       "    }\n",
       "\n",
       "    .dataframe thead th {\n",
       "        text-align: right;\n",
       "    }\n",
       "</style>\n",
       "<table border=\"1\" class=\"dataframe\">\n",
       "  <thead>\n",
       "    <tr style=\"text-align: right;\">\n",
       "      <th></th>\n",
       "    </tr>\n",
       "  </thead>\n",
       "  <tbody>\n",
       "  </tbody>\n",
       "</table>\n",
       "</div>"
      ],
      "text/plain": [
       "Empty DataFrame\n",
       "Columns: []\n",
       "Index: []"
      ]
     },
     "execution_count": 14,
     "metadata": {},
     "output_type": "execute_result"
    }
   ],
   "source": [
    "# Create uscities table\n",
    "table_name = \"uscities\"\n",
    "s3_private_path_cities = \"s3://{}/ADS508_project/cities\".format(bucket)\n",
    "\n",
    "statement = \"\"\"\n",
    "CREATE EXTERNAL TABLE IF NOT EXISTS {}.{} (\n",
    "    city VARCHAR(45),\n",
    "    state_id VARCHAR(2),\n",
    "    state_name VARCHAR(30)\n",
    ")\n",
    "ROW FORMAT DELIMITED\n",
    "FIELDS TERMINATED BY ','\n",
    "LOCATION '{}'\n",
    "TBLPROPERTIES ('skip.header.line.count'='1')\n",
    "\"\"\".format(\n",
    "    database_name, table_name, s3_private_path_cities\n",
    ")\n",
    "\n",
    "pd.read_sql(statement, conn)\n"
   ]
  },
  {
   "cell_type": "markdown",
   "id": "d3ccd002",
   "metadata": {},
   "source": [
    "### Parquets\n",
    "#### Feature Selection and Creation\n",
    "Prior creating a parquet table, tweeter and NYT comment tables are going to be combined under Comment Table in Athena where a feature creation is going to be performed. When the table is combined, we selected some features that would be benefit to our goal."
   ]
  },
  {
   "cell_type": "markdown",
   "id": "878fc4ed-1442-4639-b29b-a1ec495856cd",
   "metadata": {},
   "source": [
    "Selected features which could help on train the model are comment_body, user_location, candidatepoll"
   ]
  },
  {
   "cell_type": "code",
   "execution_count": 15,
   "id": "abcc6e5d",
   "metadata": {
    "tags": []
   },
   "outputs": [
    {
     "data": {
      "text/html": [
       "<div>\n",
       "<style scoped>\n",
       "    .dataframe tbody tr th:only-of-type {\n",
       "        vertical-align: middle;\n",
       "    }\n",
       "\n",
       "    .dataframe tbody tr th {\n",
       "        vertical-align: top;\n",
       "    }\n",
       "\n",
       "    .dataframe thead th {\n",
       "        text-align: right;\n",
       "    }\n",
       "</style>\n",
       "<table border=\"1\" class=\"dataframe\">\n",
       "  <thead>\n",
       "    <tr style=\"text-align: right;\">\n",
       "      <th></th>\n",
       "      <th>rows</th>\n",
       "    </tr>\n",
       "  </thead>\n",
       "  <tbody>\n",
       "  </tbody>\n",
       "</table>\n",
       "</div>"
      ],
      "text/plain": [
       "Empty DataFrame\n",
       "Columns: [rows]\n",
       "Index: []"
      ]
     },
     "execution_count": 15,
     "metadata": {},
     "output_type": "execute_result"
    }
   ],
   "source": [
    "table_comment = \"comment\"\n",
    "table_tweeter = \"tweeter\"\n",
    "table_nyt_comment = \"nyt_comment\"\n",
    "\n",
    "# SQL Statement combine tweeter and NYT comment in the preparation to create parquet\n",
    "statement = \"\"\"\n",
    "CREATE TABLE IF NOT EXISTS {}.{} AS (\n",
    "SELECT DISTINCT\n",
    "    tweet_id AS comment_id,\n",
    "    tweet AS comment_body,\n",
    "    user_id AS user_id,\n",
    "    user_name AS user_name,\n",
    "    user_location AS user_location,\n",
    "    u.state_id AS user_state,\n",
    "    created_at AS create_date,\n",
    "    retweet_count AS reply_retweet,\n",
    "    likes AS recommendation_like,\n",
    "    'tweet' as source,\n",
    "    (LENGTH(tweet) - LENGTH(REPLACE(LOWER(tweet), 'trump', ''))) / LENGTH('trump') AS trump_count,\n",
    "    (LENGTH(tweet) - LENGTH(REPLACE(LOWER(tweet), 'biden', ''))) / LENGTH('biden') AS biden_count,\n",
    "    CASE \n",
    "        WHEN \n",
    "            (LENGTH(tweet) - LENGTH(REPLACE(LOWER(tweet), 'biden', ''))) / LENGTH('biden') > \n",
    "            (LENGTH(tweet) - LENGTH(REPLACE(LOWER(tweet), 'trump', ''))) / LENGTH('trump') \n",
    "        THEN 'Biden'\n",
    "        WHEN              \n",
    "            (LENGTH(tweet) - LENGTH(REPLACE(LOWER(tweet), 'biden', ''))) / LENGTH('biden') < \n",
    "            (LENGTH(tweet) - LENGTH(REPLACE(LOWER(tweet), 'trump', ''))) / LENGTH('trump') \n",
    "        THEN 'Trump'\n",
    "        ELSE NULL\n",
    "    END AS candidatepoll\n",
    "FROM\n",
    "    {}.{}\n",
    "LEFT JOIN\n",
    "    dbpoliticpulsecomment.uscities u ON lower(user_location) = lower(u.city) OR \n",
    "    lower(user_location) = lower(u.state_name) OR \n",
    "    lower(user_location) = lower(u.state_id)\n",
    "WHERE\n",
    "    LENGTH(tweet) > 3\n",
    "UNION\n",
    "SELECT DISTINCT\n",
    "    commentid AS comment_id,\n",
    "    commentbody AS comment_body,\n",
    "    userID AS user_id,\n",
    "    userDisplayName AS user_name,\n",
    "    userLocation AS user_location,\n",
    "    u.state_id as user_state,\n",
    "    createDate AS create_date,\n",
    "    replyCount AS reply_retweet,\n",
    "    recommendation AS recommendation_like,\n",
    "    'nyt_comment' as source,\n",
    "    (LENGTH(commentbody) - LENGTH(REPLACE(LOWER(commentbody), 'trump', ''))) / LENGTH('trump') AS trump_count,\n",
    "    (LENGTH(commentbody) - LENGTH(REPLACE(LOWER(commentbody), 'biden', ''))) / LENGTH('biden') AS biden_count,\n",
    "    CASE\n",
    "        WHEN\n",
    "            (LENGTH(commentbody) - LENGTH(REPLACE(LOWER(commentbody), 'biden', ''))) / LENGTH('biden') > \n",
    "            (LENGTH(commentbody) - LENGTH(REPLACE(LOWER(commentbody), 'trump', ''))) / LENGTH('trump') \n",
    "        THEN 'Biden'\n",
    "        WHEN\n",
    "            (LENGTH(commentbody) - LENGTH(REPLACE(LOWER(commentbody), 'biden', ''))) / LENGTH('biden') < \n",
    "            (LENGTH(commentbody) - LENGTH(REPLACE(LOWER(commentbody), 'trump', ''))) / LENGTH('trump') \n",
    "        THEN 'Trump'\n",
    "        ELSE NULL\n",
    "    END AS candidatepoll\n",
    "FROM \n",
    "    {}.{}\n",
    "LEFT JOIN\n",
    "    dbpoliticpulsecomment.uscities u ON lower(userLocation) = lower(u.city) OR \n",
    "    lower(userLocation) = lower(u.state_name) OR \n",
    "    lower(userLocation) = lower(u.state_id)\n",
    "WHERE LENGTH(commentbody) > 3\n",
    ")\"\"\".format(database_name, table_comment,database_name, table_tweeter,database_name, table_nyt_comment)\n",
    "\n",
    "pd.read_sql(statement, conn)"
   ]
  },
  {
   "cell_type": "code",
   "execution_count": 16,
   "id": "b0cf2ca7",
   "metadata": {
    "tags": []
   },
   "outputs": [
    {
     "data": {
      "text/html": [
       "<div>\n",
       "<style scoped>\n",
       "    .dataframe tbody tr th:only-of-type {\n",
       "        vertical-align: middle;\n",
       "    }\n",
       "\n",
       "    .dataframe tbody tr th {\n",
       "        vertical-align: top;\n",
       "    }\n",
       "\n",
       "    .dataframe thead th {\n",
       "        text-align: right;\n",
       "    }\n",
       "</style>\n",
       "<table border=\"1\" class=\"dataframe\">\n",
       "  <thead>\n",
       "    <tr style=\"text-align: right;\">\n",
       "      <th></th>\n",
       "      <th>comment_id</th>\n",
       "      <th>comment_body</th>\n",
       "      <th>user_id</th>\n",
       "      <th>user_name</th>\n",
       "      <th>user_location</th>\n",
       "      <th>create_date</th>\n",
       "      <th>reply_retweet</th>\n",
       "      <th>recommendation_like</th>\n",
       "      <th>source</th>\n",
       "      <th>trump_count</th>\n",
       "      <th>biden_count</th>\n",
       "      <th>candidatepoll</th>\n",
       "    </tr>\n",
       "  </thead>\n",
       "  <tbody>\n",
       "    <tr>\n",
       "      <th>0</th>\n",
       "      <td>105742976.0</td>\n",
       "      <td>Joe Biden spent his career trying to cut socia...</td>\n",
       "      <td>60956830</td>\n",
       "      <td>Bilal Khan</td>\n",
       "      <td>Phnom Penh</td>\n",
       "      <td>2020-03-11 11:50:58</td>\n",
       "      <td>0</td>\n",
       "      <td>54</td>\n",
       "      <td>nyt_comment</td>\n",
       "      <td>0</td>\n",
       "      <td>1</td>\n",
       "      <td>Biden</td>\n",
       "    </tr>\n",
       "    <tr>\n",
       "      <th>1</th>\n",
       "      <td>110479360.0</td>\n",
       "      <td>Joe Biden has a very important factor in his f...</td>\n",
       "      <td>78343265</td>\n",
       "      <td>KMW</td>\n",
       "      <td>New York City</td>\n",
       "      <td>2020-12-06 17:44:25</td>\n",
       "      <td>3</td>\n",
       "      <td>4</td>\n",
       "      <td>nyt_comment</td>\n",
       "      <td>1</td>\n",
       "      <td>3</td>\n",
       "      <td>Biden</td>\n",
       "    </tr>\n",
       "    <tr>\n",
       "      <th>2</th>\n",
       "      <td>110479616.0</td>\n",
       "      <td>Joe Biden doesn’t speak with confidence and he...</td>\n",
       "      <td>78343265</td>\n",
       "      <td>KMW</td>\n",
       "      <td>New York City</td>\n",
       "      <td>2020-12-06 18:01:34</td>\n",
       "      <td>1</td>\n",
       "      <td>5</td>\n",
       "      <td>nyt_comment</td>\n",
       "      <td>0</td>\n",
       "      <td>1</td>\n",
       "      <td>Biden</td>\n",
       "    </tr>\n",
       "    <tr>\n",
       "      <th>3</th>\n",
       "      <td>107597560.0</td>\n",
       "      <td>Joe Biden needs to commit to Medicare For All....</td>\n",
       "      <td>38455006</td>\n",
       "      <td>dmbones</td>\n",
       "      <td>Portland Oregon</td>\n",
       "      <td>2020-06-14 17:48:46</td>\n",
       "      <td>2</td>\n",
       "      <td>4</td>\n",
       "      <td>nyt_comment</td>\n",
       "      <td>0</td>\n",
       "      <td>1</td>\n",
       "      <td>Biden</td>\n",
       "    </tr>\n",
       "    <tr>\n",
       "      <th>4</th>\n",
       "      <td>110042400.0</td>\n",
       "      <td>Joe Biden has been around for a long time and ...</td>\n",
       "      <td>56062707</td>\n",
       "      <td>Timothy</td>\n",
       "      <td>Toronto</td>\n",
       "      <td>2020-11-09 18:48:39</td>\n",
       "      <td>0</td>\n",
       "      <td>9</td>\n",
       "      <td>nyt_comment</td>\n",
       "      <td>0</td>\n",
       "      <td>1</td>\n",
       "      <td>Biden</td>\n",
       "    </tr>\n",
       "  </tbody>\n",
       "</table>\n",
       "</div>"
      ],
      "text/plain": [
       "    comment_id                                       comment_body   user_id  \\\n",
       "0  105742976.0  Joe Biden spent his career trying to cut socia...  60956830   \n",
       "1  110479360.0  Joe Biden has a very important factor in his f...  78343265   \n",
       "2  110479616.0  Joe Biden doesn’t speak with confidence and he...  78343265   \n",
       "3  107597560.0  Joe Biden needs to commit to Medicare For All....  38455006   \n",
       "4  110042400.0  Joe Biden has been around for a long time and ...  56062707   \n",
       "\n",
       "    user_name    user_location         create_date  reply_retweet  \\\n",
       "0  Bilal Khan       Phnom Penh 2020-03-11 11:50:58              0   \n",
       "1         KMW    New York City 2020-12-06 17:44:25              3   \n",
       "2         KMW    New York City 2020-12-06 18:01:34              1   \n",
       "3     dmbones  Portland Oregon 2020-06-14 17:48:46              2   \n",
       "4     Timothy          Toronto 2020-11-09 18:48:39              0   \n",
       "\n",
       "   recommendation_like       source  trump_count  biden_count candidatepoll  \n",
       "0                   54  nyt_comment            0            1         Biden  \n",
       "1                    4  nyt_comment            1            3         Biden  \n",
       "2                    5  nyt_comment            0            1         Biden  \n",
       "3                    4  nyt_comment            0            1         Biden  \n",
       "4                    9  nyt_comment            0            1         Biden  "
      ]
     },
     "execution_count": 16,
     "metadata": {},
     "output_type": "execute_result"
    }
   ],
   "source": [
    "commentbody = \"Joe Biden\"\n",
    "source = \"nyt_comment\"\n",
    "\n",
    "statement = \"\"\"SELECT * FROM {}.{}\n",
    "    WHERE comment_body like '{}%' and source = '{}' LIMIT 100\"\"\".format(\n",
    "    database_name, table_comment, commentbody, source\n",
    ")\n",
    "\n",
    "df = pd.read_sql(statement, conn)\n",
    "df.head(5)\n"
   ]
  },
  {
   "cell_type": "code",
   "execution_count": 17,
   "id": "24e266db",
   "metadata": {
    "tags": []
   },
   "outputs": [],
   "source": [
    "# Setup to create Parquet\n",
    "ingest_create_athena_table_parquet_passed = False\n",
    "\n",
    "# Set S3 path to Parquet data\n",
    "s3_path_parquet = \"s3://{}/ADS508_project/parquet\".format(bucket)\n",
    "\n",
    "table_parquet = \"comment_parquet\""
   ]
  },
  {
   "cell_type": "code",
   "execution_count": 18,
   "id": "ae06efcb",
   "metadata": {
    "tags": []
   },
   "outputs": [
    {
     "data": {
      "text/html": [
       "<div>\n",
       "<style scoped>\n",
       "    .dataframe tbody tr th:only-of-type {\n",
       "        vertical-align: middle;\n",
       "    }\n",
       "\n",
       "    .dataframe tbody tr th {\n",
       "        vertical-align: top;\n",
       "    }\n",
       "\n",
       "    .dataframe thead th {\n",
       "        text-align: right;\n",
       "    }\n",
       "</style>\n",
       "<table border=\"1\" class=\"dataframe\">\n",
       "  <thead>\n",
       "    <tr style=\"text-align: right;\">\n",
       "      <th></th>\n",
       "      <th>rows</th>\n",
       "    </tr>\n",
       "  </thead>\n",
       "  <tbody>\n",
       "  </tbody>\n",
       "</table>\n",
       "</div>"
      ],
      "text/plain": [
       "Empty DataFrame\n",
       "Columns: [rows]\n",
       "Index: []"
      ]
     },
     "execution_count": 18,
     "metadata": {},
     "output_type": "execute_result"
    }
   ],
   "source": [
    "# SQL statement to execute (remove comment_id, user_name,)\n",
    "statement = \"\"\"CREATE TABLE IF NOT EXISTS {}.{}\n",
    "WITH (format = 'PARQUET', external_location = '{}', partitioned_by = ARRAY['candidatepoll']) AS\n",
    "SELECT DISTINCT user_location,\n",
    "         user_state,\n",
    "         comment_body,\n",
    "         source,\n",
    "         candidatepoll\n",
    "FROM {}.{}\n",
    "where candidatepoll is not null AND Length(comment_body)>1 AND length(user_location)>1\"\"\".format(\n",
    "    database_name, table_parquet, s3_path_parquet, database_name, table_comment\n",
    ")\n",
    "pd.read_sql(statement, conn)"
   ]
  },
  {
   "cell_type": "code",
   "execution_count": 19,
   "id": "435eaa44",
   "metadata": {
    "tags": []
   },
   "outputs": [
    {
     "data": {
      "text/html": [
       "<div>\n",
       "<style scoped>\n",
       "    .dataframe tbody tr th:only-of-type {\n",
       "        vertical-align: middle;\n",
       "    }\n",
       "\n",
       "    .dataframe tbody tr th {\n",
       "        vertical-align: top;\n",
       "    }\n",
       "\n",
       "    .dataframe thead th {\n",
       "        text-align: right;\n",
       "    }\n",
       "</style>\n",
       "<table border=\"1\" class=\"dataframe\">\n",
       "  <thead>\n",
       "    <tr style=\"text-align: right;\">\n",
       "      <th></th>\n",
       "    </tr>\n",
       "  </thead>\n",
       "  <tbody>\n",
       "  </tbody>\n",
       "</table>\n",
       "</div>"
      ],
      "text/plain": [
       "Empty DataFrame\n",
       "Columns: []\n",
       "Index: []"
      ]
     },
     "execution_count": 19,
     "metadata": {},
     "output_type": "execute_result"
    }
   ],
   "source": [
    "#load the Parquet partitions\n",
    "statement = \"MSCK REPAIR TABLE {}.{}\".format(database_name, table_parquet)\n",
    "\n",
    "df = pd.read_sql(statement, conn)\n",
    "df.head(5)"
   ]
  },
  {
   "cell_type": "code",
   "execution_count": 20,
   "id": "96e21991",
   "metadata": {
    "tags": []
   },
   "outputs": [
    {
     "data": {
      "text/html": [
       "<div>\n",
       "<style scoped>\n",
       "    .dataframe tbody tr th:only-of-type {\n",
       "        vertical-align: middle;\n",
       "    }\n",
       "\n",
       "    .dataframe tbody tr th {\n",
       "        vertical-align: top;\n",
       "    }\n",
       "\n",
       "    .dataframe thead th {\n",
       "        text-align: right;\n",
       "    }\n",
       "</style>\n",
       "<table border=\"1\" class=\"dataframe\">\n",
       "  <thead>\n",
       "    <tr style=\"text-align: right;\">\n",
       "      <th></th>\n",
       "      <th>partition</th>\n",
       "    </tr>\n",
       "  </thead>\n",
       "  <tbody>\n",
       "    <tr>\n",
       "      <th>0</th>\n",
       "      <td>candidatepoll=Biden</td>\n",
       "    </tr>\n",
       "    <tr>\n",
       "      <th>1</th>\n",
       "      <td>candidatepoll=__HIVE_DEFAULT_PARTITION__</td>\n",
       "    </tr>\n",
       "    <tr>\n",
       "      <th>2</th>\n",
       "      <td>candidatepoll=Trump</td>\n",
       "    </tr>\n",
       "  </tbody>\n",
       "</table>\n",
       "</div>"
      ],
      "text/plain": [
       "                                  partition\n",
       "0                       candidatepoll=Biden\n",
       "1  candidatepoll=__HIVE_DEFAULT_PARTITION__\n",
       "2                       candidatepoll=Trump"
      ]
     },
     "execution_count": 20,
     "metadata": {},
     "output_type": "execute_result"
    }
   ],
   "source": [
    "statement = \"SHOW PARTITIONS {}.{}\".format(database_name, table_parquet)\n",
    "df_partitions = pd.read_sql(statement, conn)\n",
    "df_partitions.head(5)"
   ]
  },
  {
   "cell_type": "code",
   "execution_count": 21,
   "id": "f282d08a",
   "metadata": {
    "tags": []
   },
   "outputs": [
    {
     "data": {
      "text/html": [
       "<div>\n",
       "<style scoped>\n",
       "    .dataframe tbody tr th:only-of-type {\n",
       "        vertical-align: middle;\n",
       "    }\n",
       "\n",
       "    .dataframe tbody tr th {\n",
       "        vertical-align: top;\n",
       "    }\n",
       "\n",
       "    .dataframe thead th {\n",
       "        text-align: right;\n",
       "    }\n",
       "</style>\n",
       "<table border=\"1\" class=\"dataframe\">\n",
       "  <thead>\n",
       "    <tr style=\"text-align: right;\">\n",
       "      <th></th>\n",
       "      <th>tab_name</th>\n",
       "    </tr>\n",
       "  </thead>\n",
       "  <tbody>\n",
       "    <tr>\n",
       "      <th>0</th>\n",
       "      <td>cleandata</td>\n",
       "    </tr>\n",
       "    <tr>\n",
       "      <th>1</th>\n",
       "      <td>comment</td>\n",
       "    </tr>\n",
       "    <tr>\n",
       "      <th>2</th>\n",
       "      <td>comment_parquet</td>\n",
       "    </tr>\n",
       "    <tr>\n",
       "      <th>3</th>\n",
       "      <td>nyt_comment</td>\n",
       "    </tr>\n",
       "    <tr>\n",
       "      <th>4</th>\n",
       "      <td>tweeter</td>\n",
       "    </tr>\n",
       "  </tbody>\n",
       "</table>\n",
       "</div>"
      ],
      "text/plain": [
       "          tab_name\n",
       "0        cleandata\n",
       "1          comment\n",
       "2  comment_parquet\n",
       "3      nyt_comment\n",
       "4          tweeter"
      ]
     },
     "execution_count": 21,
     "metadata": {},
     "output_type": "execute_result"
    }
   ],
   "source": [
    "statement = \"SHOW TABLES in {}\".format(database_name)\n",
    "df_partitions = pd.read_sql(statement, conn)\n",
    "df_partitions.head(5)"
   ]
  },
  {
   "cell_type": "code",
   "execution_count": 22,
   "id": "3dc60922",
   "metadata": {
    "tags": []
   },
   "outputs": [
    {
     "data": {
      "text/html": [
       "<div>\n",
       "<style scoped>\n",
       "    .dataframe tbody tr th:only-of-type {\n",
       "        vertical-align: middle;\n",
       "    }\n",
       "\n",
       "    .dataframe tbody tr th {\n",
       "        vertical-align: top;\n",
       "    }\n",
       "\n",
       "    .dataframe thead th {\n",
       "        text-align: right;\n",
       "    }\n",
       "</style>\n",
       "<table border=\"1\" class=\"dataframe\">\n",
       "  <thead>\n",
       "    <tr style=\"text-align: right;\">\n",
       "      <th></th>\n",
       "      <th>comment_id</th>\n",
       "      <th>user_name</th>\n",
       "      <th>user_location</th>\n",
       "      <th>comment_body</th>\n",
       "      <th>reply_retweet</th>\n",
       "      <th>recommendation_like</th>\n",
       "      <th>source</th>\n",
       "      <th>trump_count</th>\n",
       "      <th>biden_count</th>\n",
       "      <th>candidatepoll</th>\n",
       "    </tr>\n",
       "  </thead>\n",
       "  <tbody>\n",
       "    <tr>\n",
       "      <th>0</th>\n",
       "      <td>1.325145e+18</td>\n",
       "      <td>None</td>\n",
       "      <td>None</td>\n",
       "      <td>\"Se #Trump e gli americani si arrendono di fro...</td>\n",
       "      <td>NaN</td>\n",
       "      <td>NaN</td>\n",
       "      <td>tweet</td>\n",
       "      <td>1</td>\n",
       "      <td>0</td>\n",
       "      <td>Trump</td>\n",
       "    </tr>\n",
       "    <tr>\n",
       "      <th>1</th>\n",
       "      <td>1.325145e+18</td>\n",
       "      <td>None</td>\n",
       "      <td>None</td>\n",
       "      <td>\"In a few years when Trump’s debts come due:</td>\n",
       "      <td>NaN</td>\n",
       "      <td>NaN</td>\n",
       "      <td>tweet</td>\n",
       "      <td>1</td>\n",
       "      <td>0</td>\n",
       "      <td>Trump</td>\n",
       "    </tr>\n",
       "    <tr>\n",
       "      <th>2</th>\n",
       "      <td>1.325145e+18</td>\n",
       "      <td>None</td>\n",
       "      <td>None</td>\n",
       "      <td>\"Quote from my 8 year old: #Biden and #Trump a...</td>\n",
       "      <td>NaN</td>\n",
       "      <td>NaN</td>\n",
       "      <td>tweet</td>\n",
       "      <td>2</td>\n",
       "      <td>1</td>\n",
       "      <td>Trump</td>\n",
       "    </tr>\n",
       "    <tr>\n",
       "      <th>3</th>\n",
       "      <td>1.325145e+18</td>\n",
       "      <td>K-Dub</td>\n",
       "      <td>Florida transplant..WV native</td>\n",
       "      <td>@realDonaldTrump @DonaldJTrumpJr @EricTrump @I...</td>\n",
       "      <td>0.0</td>\n",
       "      <td>0.0</td>\n",
       "      <td>tweet</td>\n",
       "      <td>4</td>\n",
       "      <td>2</td>\n",
       "      <td>Trump</td>\n",
       "    </tr>\n",
       "    <tr>\n",
       "      <th>4</th>\n",
       "      <td>1.325145e+18</td>\n",
       "      <td>Ethan P</td>\n",
       "      <td>\"Detroit</td>\n",
       "      <td>@realDonaldTrump this you? #Biden #Trump #Elec...</td>\n",
       "      <td>0.0</td>\n",
       "      <td>0.0</td>\n",
       "      <td>tweet</td>\n",
       "      <td>2</td>\n",
       "      <td>1</td>\n",
       "      <td>Trump</td>\n",
       "    </tr>\n",
       "  </tbody>\n",
       "</table>\n",
       "</div>"
      ],
      "text/plain": [
       "     comment_id user_name                   user_location  \\\n",
       "0  1.325145e+18      None                            None   \n",
       "1  1.325145e+18      None                            None   \n",
       "2  1.325145e+18      None                            None   \n",
       "3  1.325145e+18     K-Dub  Florida transplant..WV native    \n",
       "4  1.325145e+18   Ethan P                        \"Detroit   \n",
       "\n",
       "                                        comment_body  reply_retweet  \\\n",
       "0  \"Se #Trump e gli americani si arrendono di fro...            NaN   \n",
       "1       \"In a few years when Trump’s debts come due:            NaN   \n",
       "2  \"Quote from my 8 year old: #Biden and #Trump a...            NaN   \n",
       "3  @realDonaldTrump @DonaldJTrumpJr @EricTrump @I...            0.0   \n",
       "4  @realDonaldTrump this you? #Biden #Trump #Elec...            0.0   \n",
       "\n",
       "   recommendation_like source  trump_count  biden_count candidatepoll  \n",
       "0                  NaN  tweet            1            0         Trump  \n",
       "1                  NaN  tweet            1            0         Trump  \n",
       "2                  NaN  tweet            2            1         Trump  \n",
       "3                  0.0  tweet            4            2         Trump  \n",
       "4                  0.0  tweet            2            1         Trump  "
      ]
     },
     "execution_count": 22,
     "metadata": {},
     "output_type": "execute_result"
    }
   ],
   "source": [
    "candidatepoll = \"Trump\"\n",
    "\n",
    "statement = \"\"\"SELECT * FROM {}.{}\n",
    "    Where candidatepoll = '{}' LIMIT 10\"\"\".format(\n",
    "    database_name, table_parquet, candidatepoll\n",
    ")\n",
    "df_parquet = pd.read_sql(statement, conn)\n",
    "df_parquet.head(5)"
   ]
  },
  {
   "cell_type": "markdown",
   "id": "3b8461c5",
   "metadata": {},
   "source": [
    "## Query Data"
   ]
  },
  {
   "cell_type": "code",
   "execution_count": 23,
   "id": "6e00bda0",
   "metadata": {
    "scrolled": true,
    "tags": []
   },
   "outputs": [
    {
     "name": "stdout",
     "output_type": "stream",
     "text": [
      "\u001b[33mDEPRECATION: pyodbc 4.0.0-unsupported has a non-standard version number. pip 24.0 will enforce this behaviour change. A possible replacement is to upgrade to a newer version of pyodbc or contact the author to suggest that they release a version with a conforming version number. Discussion can be found at https://github.com/pypa/pip/issues/12063\u001b[0m\u001b[33m\n",
      "\u001b[0m\u001b[33mWARNING: Running pip as the 'root' user can result in broken permissions and conflicting behaviour with the system package manager. It is recommended to use a virtual environment instead: https://pip.pypa.io/warnings/venv\u001b[0m\u001b[33m\n",
      "\u001b[0m"
     ]
    }
   ],
   "source": [
    "# Setup and check pre-requisites to create Database\n",
    "\n",
    "!pip install --disable-pip-version-check -q awswrangler\n",
    "import awswrangler as wr"
   ]
  },
  {
   "cell_type": "code",
   "execution_count": 24,
   "id": "3b28f75b",
   "metadata": {
    "tags": []
   },
   "outputs": [],
   "source": [
    "t_filter = lambda x: x[\"candidatepoll\"] == \"Trump\"\n",
    "b_filter = lambda x: x[\"candidatepoll\"] == \"Biden\""
   ]
  },
  {
   "cell_type": "code",
   "execution_count": 25,
   "id": "d208219a",
   "metadata": {
    "tags": []
   },
   "outputs": [],
   "source": [
    "path =  \"s3://{}/ADS508_project/parquet\".format(bucket)\n",
    "\n",
    "df_parquet_results = wr.s3.read_parquet(\n",
    "    path, columns=[\"comment_body\", \"source\", \"user_location\", \"candidatepoll\"], partition_filter=t_filter, dataset=True\n",
    ")\n",
    "\n",
    "#\"user_state\", \n"
   ]
  },
  {
   "cell_type": "code",
   "execution_count": 26,
   "id": "40daa73f",
   "metadata": {
    "tags": []
   },
   "outputs": [
    {
     "data": {
      "text/html": [
       "<div>\n",
       "<style scoped>\n",
       "    .dataframe tbody tr th:only-of-type {\n",
       "        vertical-align: middle;\n",
       "    }\n",
       "\n",
       "    .dataframe tbody tr th {\n",
       "        vertical-align: top;\n",
       "    }\n",
       "\n",
       "    .dataframe thead th {\n",
       "        text-align: right;\n",
       "    }\n",
       "</style>\n",
       "<table border=\"1\" class=\"dataframe\">\n",
       "  <thead>\n",
       "    <tr style=\"text-align: right;\">\n",
       "      <th></th>\n",
       "      <th>comment_body</th>\n",
       "      <th>source</th>\n",
       "      <th>user_location</th>\n",
       "      <th>candidatepoll</th>\n",
       "    </tr>\n",
       "  </thead>\n",
       "  <tbody>\n",
       "    <tr>\n",
       "      <th>0</th>\n",
       "      <td>\"Ma la signora Maglie che nelle sue dirette ci...</td>\n",
       "      <td>tweet</td>\n",
       "      <td>&lt;NA&gt;</td>\n",
       "      <td>Trump</td>\n",
       "    </tr>\n",
       "    <tr>\n",
       "      <th>1</th>\n",
       "      <td>#ByeByeTrump #Election2020results #Election202...</td>\n",
       "      <td>tweet</td>\n",
       "      <td>HE%SHE ☆ﾐ</td>\n",
       "      <td>Trump</td>\n",
       "    </tr>\n",
       "    <tr>\n",
       "      <th>2</th>\n",
       "      <td>\"Finally a real president! Trump supporters</td>\n",
       "      <td>tweet</td>\n",
       "      <td>&lt;NA&gt;</td>\n",
       "      <td>Trump</td>\n",
       "    </tr>\n",
       "    <tr>\n",
       "      <th>3</th>\n",
       "      <td>\"#ByeByeTrump you are gefeuert..</td>\n",
       "      <td>tweet</td>\n",
       "      <td>&lt;NA&gt;</td>\n",
       "      <td>Trump</td>\n",
       "    </tr>\n",
       "    <tr>\n",
       "      <th>4</th>\n",
       "      <td>\"Trump be like : accha main chlta hu duao main...</td>\n",
       "      <td>tweet</td>\n",
       "      <td>&lt;NA&gt;</td>\n",
       "      <td>Trump</td>\n",
       "    </tr>\n",
       "  </tbody>\n",
       "</table>\n",
       "</div>"
      ],
      "text/plain": [
       "                                        comment_body source user_location  \\\n",
       "0  \"Ma la signora Maglie che nelle sue dirette ci...  tweet          <NA>   \n",
       "1  #ByeByeTrump #Election2020results #Election202...  tweet     HE%SHE ☆ﾐ   \n",
       "2        \"Finally a real president! Trump supporters  tweet          <NA>   \n",
       "3                   \"#ByeByeTrump you are gefeuert..  tweet          <NA>   \n",
       "4  \"Trump be like : accha main chlta hu duao main...  tweet          <NA>   \n",
       "\n",
       "  candidatepoll  \n",
       "0         Trump  \n",
       "1         Trump  \n",
       "2         Trump  \n",
       "3         Trump  \n",
       "4         Trump  "
      ]
     },
     "execution_count": 26,
     "metadata": {},
     "output_type": "execute_result"
    }
   ],
   "source": [
    "df_parquet_results_trump = df_parquet_results.drop_duplicates(subset = ['comment_body'])\n",
    "df_parquet_results_trump.shape\n",
    "df_parquet_results_trump.head(5)"
   ]
  },
  {
   "cell_type": "code",
   "execution_count": 27,
   "id": "076d4959",
   "metadata": {
    "tags": []
   },
   "outputs": [
    {
     "data": {
      "text/html": [
       "<div>\n",
       "<style scoped>\n",
       "    .dataframe tbody tr th:only-of-type {\n",
       "        vertical-align: middle;\n",
       "    }\n",
       "\n",
       "    .dataframe tbody tr th {\n",
       "        vertical-align: top;\n",
       "    }\n",
       "\n",
       "    .dataframe thead th {\n",
       "        text-align: right;\n",
       "    }\n",
       "</style>\n",
       "<table border=\"1\" class=\"dataframe\">\n",
       "  <thead>\n",
       "    <tr style=\"text-align: right;\">\n",
       "      <th></th>\n",
       "      <th>comment_body</th>\n",
       "      <th>source</th>\n",
       "      <th>user_location</th>\n",
       "      <th>candidatepoll</th>\n",
       "    </tr>\n",
       "  </thead>\n",
       "  <tbody>\n",
       "    <tr>\n",
       "      <th>0</th>\n",
       "      <td>We can all breathe now . #Biden</td>\n",
       "      <td>tweet</td>\n",
       "      <td>NY 🍎 LA  | 🌎 Traveler | Not All Those Who Wan</td>\n",
       "      <td>Biden</td>\n",
       "    </tr>\n",
       "    <tr>\n",
       "      <th>1</th>\n",
       "      <td>#KamalaHarrisVP #JoeBiden   JOE AND KAMALA DO ...</td>\n",
       "      <td>tweet</td>\n",
       "      <td></td>\n",
       "      <td>Biden</td>\n",
       "    </tr>\n",
       "    <tr>\n",
       "      <th>2</th>\n",
       "      <td>Thank you @KingJames @CP3 &amp;amp; the sporting w...</td>\n",
       "      <td>tweet</td>\n",
       "      <td></td>\n",
       "      <td>Biden</td>\n",
       "    </tr>\n",
       "    <tr>\n",
       "      <th>3</th>\n",
       "      <td>\"@BBCNews #JoeBiden can we please savour this ...</td>\n",
       "      <td>tweet</td>\n",
       "      <td>158.0</td>\n",
       "      <td>Biden</td>\n",
       "    </tr>\n",
       "    <tr>\n",
       "      <th>4</th>\n",
       "      <td>#Merkel #Allemagne #Biden https://t.co/fyq8r3siwN</td>\n",
       "      <td>tweet</td>\n",
       "      <td>\"Montréal</td>\n",
       "      <td>Biden</td>\n",
       "    </tr>\n",
       "  </tbody>\n",
       "</table>\n",
       "</div>"
      ],
      "text/plain": [
       "                                        comment_body source  \\\n",
       "0                    We can all breathe now . #Biden  tweet   \n",
       "1  #KamalaHarrisVP #JoeBiden   JOE AND KAMALA DO ...  tweet   \n",
       "2  Thank you @KingJames @CP3 &amp; the sporting w...  tweet   \n",
       "3  \"@BBCNews #JoeBiden can we please savour this ...  tweet   \n",
       "4  #Merkel #Allemagne #Biden https://t.co/fyq8r3siwN  tweet   \n",
       "\n",
       "                                   user_location candidatepoll  \n",
       "0  NY 🍎 LA  | 🌎 Traveler | Not All Those Who Wan         Biden  \n",
       "1                                                        Biden  \n",
       "2                                                        Biden  \n",
       "3                                          158.0         Biden  \n",
       "4                                      \"Montréal         Biden  "
      ]
     },
     "execution_count": 27,
     "metadata": {},
     "output_type": "execute_result"
    }
   ],
   "source": [
    "path =  \"s3://{}/ADS508_project/parquet\".format(bucket)\n",
    "\n",
    "# Call all public discourse data from \n",
    "df_parquet_results = wr.s3.read_parquet(\n",
    "    path, columns=[\"comment_body\", \"source\", \"user_location\", \"candidatepoll\"], partition_filter=b_filter, dataset=True\n",
    ")\n",
    "\n",
    "# \"user_state\",\n",
    "df_parquet_results_biden = df_parquet_results.drop_duplicates(subset = ['comment_body'])\n",
    "df_parquet_results_biden.shape\n",
    "df_parquet_results_biden.head(5)"
   ]
  },
  {
   "cell_type": "markdown",
   "id": "612a2655",
   "metadata": {},
   "source": [
    "# Data Exploration before Any Feature Transformation"
   ]
  },
  {
   "cell_type": "code",
   "execution_count": 28,
   "id": "5accb614",
   "metadata": {
    "tags": []
   },
   "outputs": [
    {
     "name": "stdout",
     "output_type": "stream",
     "text": [
      "<class 'pandas.core.frame.DataFrame'>\n",
      "Int64Index: 926684 entries, 0 to 1005921\n",
      "Data columns (total 4 columns):\n",
      " #   Column         Non-Null Count   Dtype   \n",
      "---  ------         --------------   -----   \n",
      " 0   comment_body   926684 non-null  string  \n",
      " 1   source         926684 non-null  string  \n",
      " 2   user_location  734730 non-null  string  \n",
      " 3   candidatepoll  926684 non-null  category\n",
      "dtypes: category(1), string(3)\n",
      "memory usage: 29.2 MB\n"
     ]
    }
   ],
   "source": [
    "# Checking for missing values from trump data\n",
    "df_parquet_results_trump.info()"
   ]
  },
  {
   "cell_type": "code",
   "execution_count": 29,
   "id": "af933a9a",
   "metadata": {
    "tags": []
   },
   "outputs": [
    {
     "name": "stdout",
     "output_type": "stream",
     "text": [
      "<class 'pandas.core.frame.DataFrame'>\n",
      "Int64Index: 434926 entries, 0 to 489257\n",
      "Data columns (total 4 columns):\n",
      " #   Column         Non-Null Count   Dtype   \n",
      "---  ------         --------------   -----   \n",
      " 0   comment_body   434926 non-null  string  \n",
      " 1   source         434926 non-null  string  \n",
      " 2   user_location  309544 non-null  string  \n",
      " 3   candidatepoll  434926 non-null  category\n",
      "dtypes: category(1), string(3)\n",
      "memory usage: 13.7 MB\n"
     ]
    }
   ],
   "source": [
    "# Check for missing values from  biden data\n",
    "df_parquet_results_biden.info()"
   ]
  },
  {
   "cell_type": "code",
   "execution_count": 30,
   "id": "23647e4c",
   "metadata": {
    "tags": []
   },
   "outputs": [
    {
     "data": {
      "text/plain": [
       "tweet          534164\n",
       "nyt_comment    392520\n",
       "Name: source, dtype: Int64"
      ]
     },
     "execution_count": 30,
     "metadata": {},
     "output_type": "execute_result"
    }
   ],
   "source": [
    "# Data Distributions for Trump and Biden \n",
    "df_parquet_results_trump['source'].value_counts()\n"
   ]
  },
  {
   "cell_type": "code",
   "execution_count": 31,
   "id": "7c82b8ed",
   "metadata": {
    "tags": []
   },
   "outputs": [
    {
     "data": {
      "text/plain": [
       "tweet          373111\n",
       "nyt_comment     61815\n",
       "Name: source, dtype: Int64"
      ]
     },
     "execution_count": 31,
     "metadata": {},
     "output_type": "execute_result"
    }
   ],
   "source": [
    "# Data Distributions for Trump and Biden \n",
    "df_parquet_results_biden['source'].value_counts()"
   ]
  },
  {
   "cell_type": "code",
   "execution_count": 32,
   "id": "685d75cf",
   "metadata": {
    "tags": []
   },
   "outputs": [
    {
     "data": {
      "text/plain": [
       "                       64386\n",
       "NYC                    13500\n",
       "California             11833\n",
       "New York               11430\n",
       "USA                     8574\n",
       "                       ...  \n",
       "2012-03-12 17:37:04        1\n",
       "\"Domlur                    1\n",
       "NeverLand                  1\n",
       " Linguistics               1\n",
       " in capacities             1\n",
       "Name: user_location, Length: 94261, dtype: Int64"
      ]
     },
     "execution_count": 32,
     "metadata": {},
     "output_type": "execute_result"
    }
   ],
   "source": [
    "# Filtering Data by Location \n",
    "df_parquet_results_trump['user_location'].value_counts()"
   ]
  },
  {
   "cell_type": "code",
   "execution_count": 33,
   "id": "36f505d2",
   "metadata": {
    "tags": []
   },
   "outputs": [
    {
     "data": {
      "text/plain": [
       "                 64386\n",
       "NYC              13500\n",
       "California       11833\n",
       "New York         11430\n",
       "USA               8574\n",
       "Chicago           6946\n",
       "Los Angeles       6683\n",
       "NY                6620\n",
       "San Francisco     6226\n",
       "Seattle           6034\n",
       "Florida           5697\n",
       "NJ                5514\n",
       "Boston            5312\n",
       "United States     4948\n",
       "New York City     4226\n",
       "Canada            4207\n",
       "New Jersey        3987\n",
       "Colorado          3779\n",
       "Brooklyn          3735\n",
       "Texas             3720\n",
       "CA                3481\n",
       "Philadelphia      3156\n",
       "Massachusetts     2766\n",
       "Oregon            2758\n",
       "Virginia          2721\n",
       "Atlanta           2686\n",
       "San Diego         2529\n",
       "NC                2396\n",
       "Maryland          2393\n",
       "Midwest           2301\n",
       "Name: user_location, dtype: Int64"
      ]
     },
     "execution_count": 33,
     "metadata": {},
     "output_type": "execute_result"
    }
   ],
   "source": [
    "# Top 30 locations of social media activity\n",
    "df_parquet_results_trump['user_location'].value_counts().head(30)"
   ]
  },
  {
   "cell_type": "code",
   "execution_count": 34,
   "id": "c3724bb2",
   "metadata": {
    "tags": []
   },
   "outputs": [
    {
     "data": {
      "text/plain": [
       "                           49144\n",
       "United States               3484\n",
       "New York                    2486\n",
       "NYC                         2397\n",
       "USA                         2283\n",
       "                           ...  \n",
       "Cypress TX                     1\n",
       " Managing Editor               1\n",
       "326803.0                       1\n",
       "Nottingham/St.Lucia            1\n",
       "Hopefully On A Sailboat        1\n",
       "Name: user_location, Length: 73587, dtype: Int64"
      ]
     },
     "execution_count": 34,
     "metadata": {},
     "output_type": "execute_result"
    }
   ],
   "source": [
    "df_parquet_results_biden['user_location'].value_counts()"
   ]
  },
  {
   "cell_type": "code",
   "execution_count": 35,
   "id": "4138776c",
   "metadata": {
    "tags": []
   },
   "outputs": [
    {
     "data": {
      "text/plain": [
       "                 49144\n",
       "United States     3484\n",
       "New York          2486\n",
       "NYC               2397\n",
       "USA               2283\n",
       "California        1806\n",
       "NY                1290\n",
       "\"Los Angeles      1227\n",
       "\"New York         1223\n",
       "Chicago           1142\n",
       "Los Angeles       1089\n",
       "San Francisco     1086\n",
       "Seattle            984\n",
       "Florida            984\n",
       "\"California        971\n",
       "Boston             850\n",
       "\"Washington        794\n",
       "NJ                 791\n",
       "Texas              759\n",
       "Virginia           757\n",
       "Canada             718\n",
       "\"Florida           715\n",
       "New York City      710\n",
       "New Jersey         671\n",
       "Brooklyn           630\n",
       "\"London            611\n",
       "CA                 575\n",
       "Colorado           560\n",
       "Earth              557\n",
       "\"Texas             554\n",
       "Name: user_location, dtype: Int64"
      ]
     },
     "execution_count": 35,
     "metadata": {},
     "output_type": "execute_result"
    }
   ],
   "source": [
    "# Top 30 locations of social media activity\n",
    "df_parquet_results_biden['user_location'].value_counts().head(30)"
   ]
  },
  {
   "cell_type": "markdown",
   "id": "14395879",
   "metadata": {},
   "source": [
    "# Create EDA Overview Data Visualization"
   ]
  },
  {
   "cell_type": "code",
   "execution_count": 36,
   "id": "f766c5a8",
   "metadata": {
    "tags": []
   },
   "outputs": [
    {
     "data": {
      "image/png": "[encoded data removed]",
      "text/plain": [
       "<Figure size 432x288 with 1 Axes>"
      ]
     },
     "metadata": {
      "needs_background": "light"
     },
     "output_type": "display_data"
    }
   ],
   "source": [
    "# Data Sources for Each Candidate\n",
    "# Code from ChatGPT\n",
    "\n",
    "import matplotlib.pyplot as plt\n",
    "\n",
    "candidate = ['Trump','Biden']\n",
    "twitter_n = [df_parquet_results_trump['source'].value_counts()[0],df_parquet_results_biden['source'].value_counts()[0]]\n",
    "nyt_n = [df_parquet_results_trump['source'].value_counts()[1],df_parquet_results_biden['source'].value_counts()[1]]\n",
    "\n",
    "x = range(len(candidate))\n",
    "\n",
    "# Plotting the bars\n",
    "plt.bar(x, twitter_n, width=0.4, label='Twitter Mentions', align='center')\n",
    "plt.bar(x, nyt_n, width=0.4, label='NYT Mentions', align='edge')\n",
    "\n",
    "# Adding labels\n",
    "plt.xlabel('Candidates')\n",
    "plt.ylabel('Number of Mentions')\n",
    "plt.title('Twitter and NYT Mentions by Candidate')\n",
    "plt.xticks(x, candidate)\n",
    "plt.legend()\n",
    "\n",
    "# Show plot\n",
    "plt.savefig('DataDist.png')"
   ]
  },
  {
   "cell_type": "markdown",
   "id": "d7632eaa-5bd6-4c9a-9d97-343f65725f1d",
   "metadata": {},
   "source": [
    "## Standardizing Text Entries and Location Data"
   ]
  },
  {
   "cell_type": "code",
   "execution_count": 37,
   "id": "8cfe9814-bf24-4c15-aef0-6b356d759407",
   "metadata": {
    "tags": []
   },
   "outputs": [
    {
     "name": "stdout",
     "output_type": "stream",
     "text": [
      "Requirement already satisfied: emoji in /opt/conda/lib/python3.8/site-packages (2.11.0)\n",
      "\u001b[33mDEPRECATION: pyodbc 4.0.0-unsupported has a non-standard version number. pip 24.0 will enforce this behaviour change. A possible replacement is to upgrade to a newer version of pyodbc or contact the author to suggest that they release a version with a conforming version number. Discussion can be found at https://github.com/pypa/pip/issues/12063\u001b[0m\u001b[33m\n",
      "\u001b[0m\u001b[33mWARNING: Running pip as the 'root' user can result in broken permissions and conflicting behaviour with the system package manager. It is recommended to use a virtual environment instead: https://pip.pypa.io/warnings/venv\u001b[0m\u001b[33m\n",
      "\u001b[0m\n",
      "\u001b[1m[\u001b[0m\u001b[34;49mnotice\u001b[0m\u001b[1;39;49m]\u001b[0m\u001b[39;49m A new release of pip is available: \u001b[0m\u001b[31;49m23.3.1\u001b[0m\u001b[39;49m -> \u001b[0m\u001b[32;49m24.0\u001b[0m\n",
      "\u001b[1m[\u001b[0m\u001b[34;49mnotice\u001b[0m\u001b[1;39;49m]\u001b[0m\u001b[39;49m To update, run: \u001b[0m\u001b[32;49mpip install --upgrade pip\u001b[0m\n"
     ]
    }
   ],
   "source": [
    "!pip install emoji"
   ]
  },
  {
   "cell_type": "code",
   "execution_count": null,
   "id": "ee1d1b97-7d7f-4e69-9e39-6d0014cd81e3",
   "metadata": {},
   "outputs": [],
   "source": []
  },
  {
   "cell_type": "code",
   "execution_count": 38,
   "id": "10ffe246-eea5-488d-aa14-a91557970a62",
   "metadata": {
    "tags": []
   },
   "outputs": [],
   "source": [
    "import re\n",
    "import emoji\n",
    "\n",
    "# Function to preprocess text data\n",
    "def preprocess_text(text):\n",
    "    # Remove punctuation\n",
    "    text = re.sub(r'[^\\w\\s]', ' ', text)\n",
    "    # Replace emojis with text labels\n",
    "    text = emoji.demojize(text)\n",
    "    # Remove URLs\n",
    "    text = re.sub(r'http\\S+', ' ', text)\n",
    "    # Remove \"#\" from hashtags\n",
    "    text = re.sub(r'#', '', text)\n",
    "    # Remove \"@\" from mentions\n",
    "    text = re.sub(r'@', '', text)\n",
    "    # Remove extra spaces while preserving at least one space between words\n",
    "    text = re.sub(r'\\s+', ' ', text)\n",
    "    # Check if the text consists only of numbers\n",
    "    if text.isdigit():\n",
    "        text = \"NA\"\n",
    "    return text\n",
    "\n"
   ]
  },
  {
   "cell_type": "code",
   "execution_count": 39,
   "id": "77d70e6d-5659-4631-a6ff-60f784382f37",
   "metadata": {
    "tags": []
   },
   "outputs": [
    {
     "name": "stderr",
     "output_type": "stream",
     "text": [
      "/tmp/ipykernel_4189/682625606.py:1: SettingWithCopyWarning: \n",
      "A value is trying to be set on a copy of a slice from a DataFrame.\n",
      "Try using .loc[row_indexer,col_indexer] = value instead\n",
      "\n",
      "See the caveats in the documentation: https://pandas.pydata.org/pandas-docs/stable/user_guide/indexing.html#returning-a-view-versus-a-copy\n",
      "  df_parquet_results_biden['user_location'] = df_parquet_results_biden['user_location'].astype(str)\n"
     ]
    }
   ],
   "source": [
    "df_parquet_results_biden['user_location'] = df_parquet_results_biden['user_location'].astype(str)\n",
    "df_parquet_results_trump['user_location'] = df_parquet_results_trump['user_location'].astype(str)"
   ]
  },
  {
   "cell_type": "code",
   "execution_count": 40,
   "id": "778319e7-81a4-4ac8-bc8f-422439ed78a2",
   "metadata": {
    "tags": []
   },
   "outputs": [
    {
     "name": "stderr",
     "output_type": "stream",
     "text": [
      "/tmp/ipykernel_4189/3431105715.py:2: SettingWithCopyWarning: \n",
      "A value is trying to be set on a copy of a slice from a DataFrame.\n",
      "Try using .loc[row_indexer,col_indexer] = value instead\n",
      "\n",
      "See the caveats in the documentation: https://pandas.pydata.org/pandas-docs/stable/user_guide/indexing.html#returning-a-view-versus-a-copy\n",
      "  df_parquet_results_biden['clean_text'] = df_parquet_results_biden['comment_body'].apply(preprocess_text)\n"
     ]
    }
   ],
   "source": [
    "# Apply preprocessing to text columns in the dataframe\n",
    "df_parquet_results_biden['clean_text'] = df_parquet_results_biden['comment_body'].apply(preprocess_text)"
   ]
  },
  {
   "cell_type": "code",
   "execution_count": 41,
   "id": "9767cb35-9241-4867-a89e-58d591f9843b",
   "metadata": {
    "tags": []
   },
   "outputs": [
    {
     "name": "stderr",
     "output_type": "stream",
     "text": [
      "/tmp/ipykernel_4189/400958404.py:1: SettingWithCopyWarning: \n",
      "A value is trying to be set on a copy of a slice from a DataFrame.\n",
      "Try using .loc[row_indexer,col_indexer] = value instead\n",
      "\n",
      "See the caveats in the documentation: https://pandas.pydata.org/pandas-docs/stable/user_guide/indexing.html#returning-a-view-versus-a-copy\n",
      "  df_parquet_results_biden['clean_location'] = df_parquet_results_biden['user_location'].apply(preprocess_text)\n"
     ]
    }
   ],
   "source": [
    "df_parquet_results_biden['clean_location'] = df_parquet_results_biden['user_location'].apply(preprocess_text)"
   ]
  },
  {
   "cell_type": "code",
   "execution_count": 42,
   "id": "cbfa3eb2-40b6-4a0e-b2d4-f94ab7e07518",
   "metadata": {
    "tags": []
   },
   "outputs": [],
   "source": [
    "df_parquet_results_trump['clean_text'] = df_parquet_results_trump['comment_body'].apply(preprocess_text)"
   ]
  },
  {
   "cell_type": "code",
   "execution_count": 43,
   "id": "11bb3bcd-26f5-4f63-ae3f-a46bb458676c",
   "metadata": {
    "tags": []
   },
   "outputs": [],
   "source": [
    "df_parquet_results_trump['clean_location'] = df_parquet_results_trump['user_location'].apply(preprocess_text)"
   ]
  },
  {
   "cell_type": "code",
   "execution_count": 44,
   "id": "752e1423-e301-4802-9ff6-02cd48c5786a",
   "metadata": {
    "tags": []
   },
   "outputs": [
    {
     "data": {
      "text/html": [
       "<div>\n",
       "<style scoped>\n",
       "    .dataframe tbody tr th:only-of-type {\n",
       "        vertical-align: middle;\n",
       "    }\n",
       "\n",
       "    .dataframe tbody tr th {\n",
       "        vertical-align: top;\n",
       "    }\n",
       "\n",
       "    .dataframe thead th {\n",
       "        text-align: right;\n",
       "    }\n",
       "</style>\n",
       "<table border=\"1\" class=\"dataframe\">\n",
       "  <thead>\n",
       "    <tr style=\"text-align: right;\">\n",
       "      <th></th>\n",
       "      <th>comment_body</th>\n",
       "      <th>source</th>\n",
       "      <th>user_location</th>\n",
       "      <th>candidatepoll</th>\n",
       "      <th>clean_text</th>\n",
       "      <th>clean_location</th>\n",
       "    </tr>\n",
       "  </thead>\n",
       "  <tbody>\n",
       "    <tr>\n",
       "      <th>0</th>\n",
       "      <td>\"Ma la signora Maglie che nelle sue dirette ci...</td>\n",
       "      <td>tweet</td>\n",
       "      <td>&lt;NA&gt;</td>\n",
       "      <td>Trump</td>\n",
       "      <td>Ma la signora Maglie che nelle sue dirette ci...</td>\n",
       "      <td>NA</td>\n",
       "    </tr>\n",
       "    <tr>\n",
       "      <th>1</th>\n",
       "      <td>#ByeByeTrump #Election2020results #Election202...</td>\n",
       "      <td>tweet</td>\n",
       "      <td>HE%SHE ☆ﾐ</td>\n",
       "      <td>Trump</td>\n",
       "      <td>ByeByeTrump Election2020results Election2020 ...</td>\n",
       "      <td>HE SHE ﾐ</td>\n",
       "    </tr>\n",
       "    <tr>\n",
       "      <th>2</th>\n",
       "      <td>\"Finally a real president! Trump supporters</td>\n",
       "      <td>tweet</td>\n",
       "      <td>&lt;NA&gt;</td>\n",
       "      <td>Trump</td>\n",
       "      <td>Finally a real president Trump supporters</td>\n",
       "      <td>NA</td>\n",
       "    </tr>\n",
       "    <tr>\n",
       "      <th>3</th>\n",
       "      <td>\"#ByeByeTrump you are gefeuert..</td>\n",
       "      <td>tweet</td>\n",
       "      <td>&lt;NA&gt;</td>\n",
       "      <td>Trump</td>\n",
       "      <td>ByeByeTrump you are gefeuert</td>\n",
       "      <td>NA</td>\n",
       "    </tr>\n",
       "    <tr>\n",
       "      <th>4</th>\n",
       "      <td>\"Trump be like : accha main chlta hu duao main...</td>\n",
       "      <td>tweet</td>\n",
       "      <td>&lt;NA&gt;</td>\n",
       "      <td>Trump</td>\n",
       "      <td>Trump be like accha main chlta hu duao main y...</td>\n",
       "      <td>NA</td>\n",
       "    </tr>\n",
       "  </tbody>\n",
       "</table>\n",
       "</div>"
      ],
      "text/plain": [
       "                                        comment_body source user_location  \\\n",
       "0  \"Ma la signora Maglie che nelle sue dirette ci...  tweet          <NA>   \n",
       "1  #ByeByeTrump #Election2020results #Election202...  tweet     HE%SHE ☆ﾐ   \n",
       "2        \"Finally a real president! Trump supporters  tweet          <NA>   \n",
       "3                   \"#ByeByeTrump you are gefeuert..  tweet          <NA>   \n",
       "4  \"Trump be like : accha main chlta hu duao main...  tweet          <NA>   \n",
       "\n",
       "  candidatepoll                                         clean_text  \\\n",
       "0         Trump   Ma la signora Maglie che nelle sue dirette ci...   \n",
       "1         Trump   ByeByeTrump Election2020results Election2020 ...   \n",
       "2         Trump          Finally a real president Trump supporters   \n",
       "3         Trump                      ByeByeTrump you are gefeuert    \n",
       "4         Trump   Trump be like accha main chlta hu duao main y...   \n",
       "\n",
       "  clean_location  \n",
       "0            NA   \n",
       "1       HE SHE ﾐ  \n",
       "2            NA   \n",
       "3            NA   \n",
       "4            NA   "
      ]
     },
     "execution_count": 44,
     "metadata": {},
     "output_type": "execute_result"
    }
   ],
   "source": [
    "df_parquet_results_trump.head()"
   ]
  },
  {
   "cell_type": "code",
   "execution_count": 45,
   "id": "2306e619-0424-4eb9-bcf7-7074732e4e5f",
   "metadata": {
    "tags": []
   },
   "outputs": [
    {
     "data": {
      "text/html": [
       "<div>\n",
       "<style scoped>\n",
       "    .dataframe tbody tr th:only-of-type {\n",
       "        vertical-align: middle;\n",
       "    }\n",
       "\n",
       "    .dataframe tbody tr th {\n",
       "        vertical-align: top;\n",
       "    }\n",
       "\n",
       "    .dataframe thead th {\n",
       "        text-align: right;\n",
       "    }\n",
       "</style>\n",
       "<table border=\"1\" class=\"dataframe\">\n",
       "  <thead>\n",
       "    <tr style=\"text-align: right;\">\n",
       "      <th></th>\n",
       "      <th>comment_body</th>\n",
       "      <th>source</th>\n",
       "      <th>user_location</th>\n",
       "      <th>candidatepoll</th>\n",
       "      <th>clean_text</th>\n",
       "      <th>clean_location</th>\n",
       "    </tr>\n",
       "  </thead>\n",
       "  <tbody>\n",
       "    <tr>\n",
       "      <th>0</th>\n",
       "      <td>We can all breathe now . #Biden</td>\n",
       "      <td>tweet</td>\n",
       "      <td>NY 🍎 LA  | 🌎 Traveler | Not All Those Who Wan</td>\n",
       "      <td>Biden</td>\n",
       "      <td>We can all breathe now Biden</td>\n",
       "      <td>NY LA Traveler Not All Those Who Wan</td>\n",
       "    </tr>\n",
       "    <tr>\n",
       "      <th>1</th>\n",
       "      <td>#KamalaHarrisVP #JoeBiden   JOE AND KAMALA DO ...</td>\n",
       "      <td>tweet</td>\n",
       "      <td></td>\n",
       "      <td>Biden</td>\n",
       "      <td>KamalaHarrisVP JoeBiden JOE AND KAMALA DO NOT...</td>\n",
       "      <td></td>\n",
       "    </tr>\n",
       "    <tr>\n",
       "      <th>2</th>\n",
       "      <td>Thank you @KingJames @CP3 &amp;amp; the sporting w...</td>\n",
       "      <td>tweet</td>\n",
       "      <td></td>\n",
       "      <td>Biden</td>\n",
       "      <td>Thank you KingJames CP3 amp the sporting world...</td>\n",
       "      <td></td>\n",
       "    </tr>\n",
       "    <tr>\n",
       "      <th>3</th>\n",
       "      <td>\"@BBCNews #JoeBiden can we please savour this ...</td>\n",
       "      <td>tweet</td>\n",
       "      <td>158.0</td>\n",
       "      <td>Biden</td>\n",
       "      <td>BBCNews JoeBiden can we please savour this mo...</td>\n",
       "      <td>158 0</td>\n",
       "    </tr>\n",
       "    <tr>\n",
       "      <th>4</th>\n",
       "      <td>#Merkel #Allemagne #Biden https://t.co/fyq8r3siwN</td>\n",
       "      <td>tweet</td>\n",
       "      <td>\"Montréal</td>\n",
       "      <td>Biden</td>\n",
       "      <td>Merkel Allemagne Biden t co fyq8r3siwN</td>\n",
       "      <td>Montréal</td>\n",
       "    </tr>\n",
       "  </tbody>\n",
       "</table>\n",
       "</div>"
      ],
      "text/plain": [
       "                                        comment_body source  \\\n",
       "0                    We can all breathe now . #Biden  tweet   \n",
       "1  #KamalaHarrisVP #JoeBiden   JOE AND KAMALA DO ...  tweet   \n",
       "2  Thank you @KingJames @CP3 &amp; the sporting w...  tweet   \n",
       "3  \"@BBCNews #JoeBiden can we please savour this ...  tweet   \n",
       "4  #Merkel #Allemagne #Biden https://t.co/fyq8r3siwN  tweet   \n",
       "\n",
       "                                   user_location candidatepoll  \\\n",
       "0  NY 🍎 LA  | 🌎 Traveler | Not All Those Who Wan         Biden   \n",
       "1                                                        Biden   \n",
       "2                                                        Biden   \n",
       "3                                          158.0         Biden   \n",
       "4                                      \"Montréal         Biden   \n",
       "\n",
       "                                          clean_text  \\\n",
       "0                       We can all breathe now Biden   \n",
       "1   KamalaHarrisVP JoeBiden JOE AND KAMALA DO NOT...   \n",
       "2  Thank you KingJames CP3 amp the sporting world...   \n",
       "3   BBCNews JoeBiden can we please savour this mo...   \n",
       "4             Merkel Allemagne Biden t co fyq8r3siwN   \n",
       "\n",
       "                         clean_location  \n",
       "0  NY LA Traveler Not All Those Who Wan  \n",
       "1                                        \n",
       "2                                        \n",
       "3                                 158 0  \n",
       "4                              Montréal  "
      ]
     },
     "execution_count": 45,
     "metadata": {},
     "output_type": "execute_result"
    }
   ],
   "source": [
    "df_parquet_results_biden.head()"
   ]
  },
  {
   "cell_type": "markdown",
   "id": "a1175b11-6feb-497a-bdae-9aadd86b1216",
   "metadata": {},
   "source": [
    "# Word Clouds with Comment Body Text"
   ]
  },
  {
   "cell_type": "code",
   "execution_count": 46,
   "id": "6167ad62",
   "metadata": {
    "tags": []
   },
   "outputs": [
    {
     "name": "stdout",
     "output_type": "stream",
     "text": [
      "Requirement already satisfied: WordCloud in /opt/conda/lib/python3.8/site-packages (1.9.3)\n",
      "Requirement already satisfied: numpy>=1.6.1 in /opt/conda/lib/python3.8/site-packages (from WordCloud) (1.24.3)\n",
      "Requirement already satisfied: pillow in /opt/conda/lib/python3.8/site-packages (from WordCloud) (10.1.0)\n",
      "Requirement already satisfied: matplotlib in /opt/conda/lib/python3.8/site-packages (from WordCloud) (3.4.3)\n",
      "Requirement already satisfied: cycler>=0.10 in /opt/conda/lib/python3.8/site-packages (from matplotlib->WordCloud) (0.10.0)\n",
      "Requirement already satisfied: kiwisolver>=1.0.1 in /opt/conda/lib/python3.8/site-packages (from matplotlib->WordCloud) (1.3.1)\n",
      "Requirement already satisfied: pyparsing>=2.2.1 in /opt/conda/lib/python3.8/site-packages (from matplotlib->WordCloud) (3.0.4)\n",
      "Requirement already satisfied: python-dateutil>=2.7 in /opt/conda/lib/python3.8/site-packages (from matplotlib->WordCloud) (2.8.2)\n",
      "Requirement already satisfied: six in /opt/conda/lib/python3.8/site-packages (from cycler>=0.10->matplotlib->WordCloud) (1.16.0)\n",
      "\u001b[33mDEPRECATION: pyodbc 4.0.0-unsupported has a non-standard version number. pip 24.0 will enforce this behaviour change. A possible replacement is to upgrade to a newer version of pyodbc or contact the author to suggest that they release a version with a conforming version number. Discussion can be found at https://github.com/pypa/pip/issues/12063\u001b[0m\u001b[33m\n",
      "\u001b[0m\u001b[33mWARNING: Running pip as the 'root' user can result in broken permissions and conflicting behaviour with the system package manager. It is recommended to use a virtual environment instead: https://pip.pypa.io/warnings/venv\u001b[0m\u001b[33m\n",
      "\u001b[0m\n",
      "\u001b[1m[\u001b[0m\u001b[34;49mnotice\u001b[0m\u001b[1;39;49m]\u001b[0m\u001b[39;49m A new release of pip is available: \u001b[0m\u001b[31;49m23.3.1\u001b[0m\u001b[39;49m -> \u001b[0m\u001b[32;49m24.0\u001b[0m\n",
      "\u001b[1m[\u001b[0m\u001b[34;49mnotice\u001b[0m\u001b[1;39;49m]\u001b[0m\u001b[39;49m To update, run: \u001b[0m\u001b[32;49mpip install --upgrade pip\u001b[0m\n"
     ]
    },
    {
     "data": {
      "image/png": "[encoded data removed]",
      "text/plain": [
       "<Figure size 720x432 with 1 Axes>"
      ]
     },
     "metadata": {
      "needs_background": "light"
     },
     "output_type": "display_data"
    }
   ],
   "source": [
    "!pip install WordCloud\n",
    "from wordcloud import WordCloud\n",
    "import matplotlib.pyplot as plt\n",
    "import re\n",
    "\n",
    "# Sample a subset of comments for generating the word cloud\n",
    "sampled_trump_comments = df_parquet_results_trump['clean_text'].dropna().sample(n=10000, random_state=42)\n",
    "\n",
    "# Concatenate sampled comments for Trump\n",
    "trump_comments_text = ' '.join(sampled_trump_comments)\n",
    "\n",
    "# Define words and patterns to exclude\n",
    "words_to_exclude = ['trump', 'donald', 'donaldtrump', 'https', 'co', 'st'] \n",
    "patterns_to_exclude = [r'\\btrump\\b', r'\\bdonald\\b', r'\\bdonaldtrump\\b', r'https?://\\S+']\n",
    "\n",
    "# Combine words and patterns to exclude\n",
    "exclude_patterns = '|'.join(words_to_exclude + patterns_to_exclude)\n",
    "\n",
    "# Preprocess text to remove specific words and patterns\n",
    "trump_comments_text_cleaned = re.sub(exclude_patterns, '', trump_comments_text, flags=re.IGNORECASE)\n",
    "\n",
    "# Generate word cloud for Trump comments with a limit on the number of words\n",
    "wordcloud_trump = WordCloud(width=800, height=400, background_color='white', max_words=100).generate(trump_comments_text_cleaned)\n",
    "\n",
    "# Plot the word cloud for Trump\n",
    "plt.figure(figsize=(10, 6))\n",
    "plt.imshow(wordcloud_trump, interpolation='bilinear')\n",
    "plt.title('Word Cloud for Trump Comments (Excluding \"Trump\" and \"Donald\")')\n",
    "plt.axis('off')\n",
    "plt.show()"
   ]
  },
  {
   "cell_type": "code",
   "execution_count": 47,
   "id": "f7ae0744",
   "metadata": {
    "tags": []
   },
   "outputs": [
    {
     "data": {
      "image/png": "[encoded data removed]",
      "text/plain": [
       "<Figure size 720x432 with 1 Axes>"
      ]
     },
     "metadata": {
      "needs_background": "light"
     },
     "output_type": "display_data"
    }
   ],
   "source": [
    "# Sample a subset of comments for Biden\n",
    "sampled_biden_comments = df_parquet_results_biden['clean_text'].dropna().sample(n=40000, random_state=42)\n",
    "\n",
    "# Concatenate sampled comments for Biden\n",
    "biden_comments_text = ' '.join(sampled_biden_comments)\n",
    "\n",
    "# Define words and patterns to exclude\n",
    "words_to_exclude = ['biden', 'joe', 'joebiden', 'president', 'election', 'https', 'co','amp']  # Exclude common words and URLs\n",
    "patterns_to_exclude = [r'\\bbiden\\b', r'\\bjoe\\b', r'\\bjoebiden\\b', r'https?://\\S+']\n",
    "\n",
    "# Combine words and patterns to exclude\n",
    "exclude_patterns = '|'.join(words_to_exclude + patterns_to_exclude)\n",
    "\n",
    "# Preprocess text to remove specific words and patterns\n",
    "biden_comments_text_cleaned = re.sub(exclude_patterns, '', biden_comments_text, flags=re.IGNORECASE)\n",
    "\n",
    "# Generate word cloud for Biden comments with a limit on the number of words\n",
    "wordcloud_biden = WordCloud(width=800, height=400, background_color='white', max_words=100).generate(biden_comments_text_cleaned)\n",
    "\n",
    "# Plot the word cloud for Biden\n",
    "plt.figure(figsize=(10, 6))\n",
    "plt.imshow(wordcloud_biden, interpolation='bilinear')\n",
    "plt.title('Word Cloud for Biden Comments (Excluding \"Biden\" and \"Joe\")')\n",
    "plt.axis('off')\n",
    "plt.show()"
   ]
  },
  {
   "cell_type": "markdown",
   "id": "15c3a9ea-b173-4900-8692-e7c1f1155e6e",
   "metadata": {},
   "source": [
    "# Feature Transformation and Data Cleaning"
   ]
  },
  {
   "cell_type": "markdown",
   "id": "1c8c2e43",
   "metadata": {},
   "source": [
    "### Sentiment Labels Using Textblob and Stripping Out Non-English Text Entries with Fasttext."
   ]
  },
  {
   "cell_type": "markdown",
   "id": "a85a8dcc-df72-421d-9fc3-3659e469f28d",
   "metadata": {},
   "source": [
    "### This code must be ran on Mac/Linux only. Windows is not compatible. Clean data from this code is stored in an S3 bucket and called below."
   ]
  },
  {
   "cell_type": "code",
   "execution_count": 48,
   "id": "5c46a727-7977-4640-a92d-47a14077e776",
   "metadata": {
    "tags": []
   },
   "outputs": [],
   "source": [
    "#pip install langdetect"
   ]
  },
  {
   "cell_type": "code",
   "execution_count": 49,
   "id": "c39bb947-1078-444b-b9c0-7f678b55fa2b",
   "metadata": {
    "tags": []
   },
   "outputs": [],
   "source": [
    "#pip install fasttext-wheel"
   ]
  },
  {
   "cell_type": "code",
   "execution_count": 50,
   "id": "629b6913-e034-45b5-bd6b-5591b53fb1f7",
   "metadata": {
    "tags": []
   },
   "outputs": [],
   "source": [
    "#Use pretrained model\n",
    "#!wget https://dl.fbaipublicfiles.com/fasttext/supervised-models/lid.176.bin -P /ADS508_GroupProject\n",
    "#!ls -p /ADS508_GroupProject"
   ]
  },
  {
   "cell_type": "code",
   "execution_count": null,
   "id": "f5f114ed-2edd-4f25-9e22-7ce19c1e9fc2",
   "metadata": {},
   "outputs": [],
   "source": []
  },
  {
   "cell_type": "code",
   "execution_count": 51,
   "id": "410a09f4-2936-43c6-8a60-86f847f8440e",
   "metadata": {
    "tags": []
   },
   "outputs": [],
   "source": [
    "#import fasttext\n",
    "# Load the pre-trained language identification model\n",
    "#model_path = '/ADS508_GroupProject/lid.176.bin'  # Path to the pre-trained language identification model\n",
    "#model = fasttext.load_model(model_path)"
   ]
  },
  {
   "cell_type": "code",
   "execution_count": 52,
   "id": "c0d240da-ee48-4eab-8050-fb5683b4b575",
   "metadata": {
    "tags": []
   },
   "outputs": [],
   "source": [
    "# Function to detect language using FastText\n",
    "#def detect_language_fasttext(text):\n",
    "#    prediction = model.predict(text)\n",
    "#    language_code = prediction[0][0].split('__label__')[1]\n",
    "#    return language_code\n",
    "\n",
    "# Function to analyze tweet sentiment to catch non english words\n",
    "#def analyze_tweet_sentiment(tweet_text):\n",
    "#    try:\n",
    "#        language = detect_language_fasttext(tweet_text)\n",
    "#        if language == 'en':\n",
    "#            analysis = TextBlob(tweet_text)\n",
    "#            return analysis.sentiment.polarity\n",
    "#        else:\n",
    "#            return None\n",
    "#    except:\n",
    "#        return None\n",
    "\n"
   ]
  },
  {
   "cell_type": "code",
   "execution_count": 53,
   "id": "9c08286a-166b-4167-ac5c-93c1173cfc50",
   "metadata": {
    "tags": []
   },
   "outputs": [
    {
     "name": "stdout",
     "output_type": "stream",
     "text": [
      "Requirement already satisfied: textblob in /opt/conda/lib/python3.8/site-packages (0.18.0.post0)\n",
      "Requirement already satisfied: nltk>=3.8 in /opt/conda/lib/python3.8/site-packages (from textblob) (3.8.1)\n",
      "Requirement already satisfied: click in /opt/conda/lib/python3.8/site-packages (from nltk>=3.8->textblob) (8.1.7)\n",
      "Requirement already satisfied: joblib in /opt/conda/lib/python3.8/site-packages (from nltk>=3.8->textblob) (1.3.2)\n",
      "Requirement already satisfied: regex>=2021.8.3 in /opt/conda/lib/python3.8/site-packages (from nltk>=3.8->textblob) (2021.8.3)\n",
      "Requirement already satisfied: tqdm in /opt/conda/lib/python3.8/site-packages (from nltk>=3.8->textblob) (4.62.3)\n",
      "\u001b[33mDEPRECATION: pyodbc 4.0.0-unsupported has a non-standard version number. pip 24.0 will enforce this behaviour change. A possible replacement is to upgrade to a newer version of pyodbc or contact the author to suggest that they release a version with a conforming version number. Discussion can be found at https://github.com/pypa/pip/issues/12063\u001b[0m\u001b[33m\n",
      "\u001b[0m\u001b[33mWARNING: Running pip as the 'root' user can result in broken permissions and conflicting behaviour with the system package manager. It is recommended to use a virtual environment instead: https://pip.pypa.io/warnings/venv\u001b[0m\u001b[33m\n",
      "\u001b[0m\n",
      "\u001b[1m[\u001b[0m\u001b[34;49mnotice\u001b[0m\u001b[1;39;49m]\u001b[0m\u001b[39;49m A new release of pip is available: \u001b[0m\u001b[31;49m23.3.1\u001b[0m\u001b[39;49m -> \u001b[0m\u001b[32;49m24.0\u001b[0m\n",
      "\u001b[1m[\u001b[0m\u001b[34;49mnotice\u001b[0m\u001b[1;39;49m]\u001b[0m\u001b[39;49m To update, run: \u001b[0m\u001b[32;49mpip install --upgrade pip\u001b[0m\n"
     ]
    }
   ],
   "source": [
    "!pip install textblob\n",
    "from textblob import TextBlob\n",
    "def analyze_tweet_sentiment(tweet_text):\n",
    "    analysis = TextBlob(tweet_text)\n",
    "    # Return sentiment polarity (ranging from -1 to 1)\n",
    "    return analysis.sentiment.polarity"
   ]
  },
  {
   "cell_type": "code",
   "execution_count": 54,
   "id": "7c5faf7e",
   "metadata": {
    "tags": []
   },
   "outputs": [
    {
     "name": "stderr",
     "output_type": "stream",
     "text": [
      "/tmp/ipykernel_4189/4017857091.py:6: SettingWithCopyWarning: \n",
      "A value is trying to be set on a copy of a slice from a DataFrame.\n",
      "Try using .loc[row_indexer,col_indexer] = value instead\n",
      "\n",
      "See the caveats in the documentation: https://pandas.pydata.org/pandas-docs/stable/user_guide/indexing.html#returning-a-view-versus-a-copy\n",
      "  df_tweets_trump['sentiment_score'] = df_tweets_trump['clean_text'].apply(analyze_tweet_sentiment)\n"
     ]
    }
   ],
   "source": [
    "# Apply sentiment labels to Trump Data\n",
    "if __name__ == \"__main__\":\n",
    "    # Assuming you have a DataFrame named df_tweets with a column 'text' containing tweet text\n",
    "    df_tweets_trump = df_parquet_results_trump[['clean_text']]\n",
    "    # Analyze sentiment for each tweet in the DataFrame\n",
    "    df_tweets_trump['sentiment_score'] = df_tweets_trump['clean_text'].apply(analyze_tweet_sentiment)\n",
    "\n",
    "# Add sentiment output to parent dataframe\n",
    "df_parquet_results_trump['sentiment'] = df_tweets_trump['sentiment_score']"
   ]
  },
  {
   "cell_type": "code",
   "execution_count": 55,
   "id": "3e6ce372",
   "metadata": {
    "tags": []
   },
   "outputs": [
    {
     "name": "stderr",
     "output_type": "stream",
     "text": [
      "/tmp/ipykernel_4189/2765627512.py:6: SettingWithCopyWarning: \n",
      "A value is trying to be set on a copy of a slice from a DataFrame.\n",
      "Try using .loc[row_indexer,col_indexer] = value instead\n",
      "\n",
      "See the caveats in the documentation: https://pandas.pydata.org/pandas-docs/stable/user_guide/indexing.html#returning-a-view-versus-a-copy\n",
      "  df_tweets_biden['sentiment_score'] = df_tweets_biden['clean_text'].apply(analyze_tweet_sentiment)\n",
      "/tmp/ipykernel_4189/2765627512.py:9: SettingWithCopyWarning: \n",
      "A value is trying to be set on a copy of a slice from a DataFrame.\n",
      "Try using .loc[row_indexer,col_indexer] = value instead\n",
      "\n",
      "See the caveats in the documentation: https://pandas.pydata.org/pandas-docs/stable/user_guide/indexing.html#returning-a-view-versus-a-copy\n",
      "  df_parquet_results_biden['sentiment'] = df_tweets_biden['sentiment_score']\n"
     ]
    }
   ],
   "source": [
    " # Apply Sentiment labels to Biden Data       \n",
    "if __name__ == \"__main__\":\n",
    "    # Assuming you have a DataFrame named df_tweets with a column 'text' containing tweet text\n",
    "    df_tweets_biden = df_parquet_results_biden[['clean_text']]\n",
    "    # Analyze sentiment for each tweet in the DataFrame\n",
    "    df_tweets_biden['sentiment_score'] = df_tweets_biden['clean_text'].apply(analyze_tweet_sentiment)\n",
    "\n",
    "# Add sentiment output to parent dataframe\n",
    "df_parquet_results_biden['sentiment'] = df_tweets_biden['sentiment_score']\n"
   ]
  },
  {
   "cell_type": "code",
   "execution_count": 56,
   "id": "6f9f32e3-4a20-4ebf-af29-3118266a6e4c",
   "metadata": {
    "tags": []
   },
   "outputs": [
    {
     "data": {
      "text/html": [
       "<div>\n",
       "<style scoped>\n",
       "    .dataframe tbody tr th:only-of-type {\n",
       "        vertical-align: middle;\n",
       "    }\n",
       "\n",
       "    .dataframe tbody tr th {\n",
       "        vertical-align: top;\n",
       "    }\n",
       "\n",
       "    .dataframe thead th {\n",
       "        text-align: right;\n",
       "    }\n",
       "</style>\n",
       "<table border=\"1\" class=\"dataframe\">\n",
       "  <thead>\n",
       "    <tr style=\"text-align: right;\">\n",
       "      <th></th>\n",
       "      <th>comment_body</th>\n",
       "      <th>source</th>\n",
       "      <th>user_location</th>\n",
       "      <th>candidatepoll</th>\n",
       "      <th>clean_text</th>\n",
       "      <th>clean_location</th>\n",
       "      <th>sentiment</th>\n",
       "    </tr>\n",
       "  </thead>\n",
       "  <tbody>\n",
       "    <tr>\n",
       "      <th>0</th>\n",
       "      <td>\"Ma la signora Maglie che nelle sue dirette ci...</td>\n",
       "      <td>tweet</td>\n",
       "      <td>&lt;NA&gt;</td>\n",
       "      <td>Trump</td>\n",
       "      <td>Ma la signora Maglie che nelle sue dirette ci...</td>\n",
       "      <td>NA</td>\n",
       "      <td>0.000000</td>\n",
       "    </tr>\n",
       "    <tr>\n",
       "      <th>1</th>\n",
       "      <td>#ByeByeTrump #Election2020results #Election202...</td>\n",
       "      <td>tweet</td>\n",
       "      <td>HE%SHE ☆ﾐ</td>\n",
       "      <td>Trump</td>\n",
       "      <td>ByeByeTrump Election2020results Election2020 ...</td>\n",
       "      <td>HE SHE ﾐ</td>\n",
       "      <td>0.000000</td>\n",
       "    </tr>\n",
       "    <tr>\n",
       "      <th>2</th>\n",
       "      <td>\"Finally a real president! Trump supporters</td>\n",
       "      <td>tweet</td>\n",
       "      <td>&lt;NA&gt;</td>\n",
       "      <td>Trump</td>\n",
       "      <td>Finally a real president Trump supporters</td>\n",
       "      <td>NA</td>\n",
       "      <td>0.200000</td>\n",
       "    </tr>\n",
       "    <tr>\n",
       "      <th>3</th>\n",
       "      <td>\"#ByeByeTrump you are gefeuert..</td>\n",
       "      <td>tweet</td>\n",
       "      <td>&lt;NA&gt;</td>\n",
       "      <td>Trump</td>\n",
       "      <td>ByeByeTrump you are gefeuert</td>\n",
       "      <td>NA</td>\n",
       "      <td>0.000000</td>\n",
       "    </tr>\n",
       "    <tr>\n",
       "      <th>4</th>\n",
       "      <td>\"Trump be like : accha main chlta hu duao main...</td>\n",
       "      <td>tweet</td>\n",
       "      <td>&lt;NA&gt;</td>\n",
       "      <td>Trump</td>\n",
       "      <td>Trump be like accha main chlta hu duao main y...</td>\n",
       "      <td>NA</td>\n",
       "      <td>0.166667</td>\n",
       "    </tr>\n",
       "  </tbody>\n",
       "</table>\n",
       "</div>"
      ],
      "text/plain": [
       "                                        comment_body source user_location  \\\n",
       "0  \"Ma la signora Maglie che nelle sue dirette ci...  tweet          <NA>   \n",
       "1  #ByeByeTrump #Election2020results #Election202...  tweet     HE%SHE ☆ﾐ   \n",
       "2        \"Finally a real president! Trump supporters  tweet          <NA>   \n",
       "3                   \"#ByeByeTrump you are gefeuert..  tweet          <NA>   \n",
       "4  \"Trump be like : accha main chlta hu duao main...  tweet          <NA>   \n",
       "\n",
       "  candidatepoll                                         clean_text  \\\n",
       "0         Trump   Ma la signora Maglie che nelle sue dirette ci...   \n",
       "1         Trump   ByeByeTrump Election2020results Election2020 ...   \n",
       "2         Trump          Finally a real president Trump supporters   \n",
       "3         Trump                      ByeByeTrump you are gefeuert    \n",
       "4         Trump   Trump be like accha main chlta hu duao main y...   \n",
       "\n",
       "  clean_location  sentiment  \n",
       "0            NA    0.000000  \n",
       "1       HE SHE ﾐ   0.000000  \n",
       "2            NA    0.200000  \n",
       "3            NA    0.000000  \n",
       "4            NA    0.166667  "
      ]
     },
     "execution_count": 56,
     "metadata": {},
     "output_type": "execute_result"
    }
   ],
   "source": [
    "df_parquet_results_trump.head(5)"
   ]
  },
  {
   "cell_type": "code",
   "execution_count": 57,
   "id": "bd892e56-316f-4da2-aaea-5d37972e390d",
   "metadata": {
    "tags": []
   },
   "outputs": [
    {
     "data": {
      "text/html": [
       "<div>\n",
       "<style scoped>\n",
       "    .dataframe tbody tr th:only-of-type {\n",
       "        vertical-align: middle;\n",
       "    }\n",
       "\n",
       "    .dataframe tbody tr th {\n",
       "        vertical-align: top;\n",
       "    }\n",
       "\n",
       "    .dataframe thead th {\n",
       "        text-align: right;\n",
       "    }\n",
       "</style>\n",
       "<table border=\"1\" class=\"dataframe\">\n",
       "  <thead>\n",
       "    <tr style=\"text-align: right;\">\n",
       "      <th></th>\n",
       "      <th>comment_body</th>\n",
       "      <th>source</th>\n",
       "      <th>user_location</th>\n",
       "      <th>candidatepoll</th>\n",
       "      <th>clean_text</th>\n",
       "      <th>clean_location</th>\n",
       "      <th>sentiment</th>\n",
       "    </tr>\n",
       "  </thead>\n",
       "  <tbody>\n",
       "    <tr>\n",
       "      <th>0</th>\n",
       "      <td>We can all breathe now . #Biden</td>\n",
       "      <td>tweet</td>\n",
       "      <td>NY 🍎 LA  | 🌎 Traveler | Not All Those Who Wan</td>\n",
       "      <td>Biden</td>\n",
       "      <td>We can all breathe now Biden</td>\n",
       "      <td>NY LA Traveler Not All Those Who Wan</td>\n",
       "      <td>0.00</td>\n",
       "    </tr>\n",
       "    <tr>\n",
       "      <th>1</th>\n",
       "      <td>#KamalaHarrisVP #JoeBiden   JOE AND KAMALA DO ...</td>\n",
       "      <td>tweet</td>\n",
       "      <td></td>\n",
       "      <td>Biden</td>\n",
       "      <td>KamalaHarrisVP JoeBiden JOE AND KAMALA DO NOT...</td>\n",
       "      <td></td>\n",
       "      <td>0.33</td>\n",
       "    </tr>\n",
       "    <tr>\n",
       "      <th>2</th>\n",
       "      <td>Thank you @KingJames @CP3 &amp;amp; the sporting w...</td>\n",
       "      <td>tweet</td>\n",
       "      <td></td>\n",
       "      <td>Biden</td>\n",
       "      <td>Thank you KingJames CP3 amp the sporting world...</td>\n",
       "      <td></td>\n",
       "      <td>0.00</td>\n",
       "    </tr>\n",
       "    <tr>\n",
       "      <th>3</th>\n",
       "      <td>\"@BBCNews #JoeBiden can we please savour this ...</td>\n",
       "      <td>tweet</td>\n",
       "      <td>158.0</td>\n",
       "      <td>Biden</td>\n",
       "      <td>BBCNews JoeBiden can we please savour this mo...</td>\n",
       "      <td>158 0</td>\n",
       "      <td>0.00</td>\n",
       "    </tr>\n",
       "    <tr>\n",
       "      <th>4</th>\n",
       "      <td>#Merkel #Allemagne #Biden https://t.co/fyq8r3siwN</td>\n",
       "      <td>tweet</td>\n",
       "      <td>\"Montréal</td>\n",
       "      <td>Biden</td>\n",
       "      <td>Merkel Allemagne Biden t co fyq8r3siwN</td>\n",
       "      <td>Montréal</td>\n",
       "      <td>0.00</td>\n",
       "    </tr>\n",
       "  </tbody>\n",
       "</table>\n",
       "</div>"
      ],
      "text/plain": [
       "                                        comment_body source  \\\n",
       "0                    We can all breathe now . #Biden  tweet   \n",
       "1  #KamalaHarrisVP #JoeBiden   JOE AND KAMALA DO ...  tweet   \n",
       "2  Thank you @KingJames @CP3 &amp; the sporting w...  tweet   \n",
       "3  \"@BBCNews #JoeBiden can we please savour this ...  tweet   \n",
       "4  #Merkel #Allemagne #Biden https://t.co/fyq8r3siwN  tweet   \n",
       "\n",
       "                                   user_location candidatepoll  \\\n",
       "0  NY 🍎 LA  | 🌎 Traveler | Not All Those Who Wan         Biden   \n",
       "1                                                        Biden   \n",
       "2                                                        Biden   \n",
       "3                                          158.0         Biden   \n",
       "4                                      \"Montréal         Biden   \n",
       "\n",
       "                                          clean_text  \\\n",
       "0                       We can all breathe now Biden   \n",
       "1   KamalaHarrisVP JoeBiden JOE AND KAMALA DO NOT...   \n",
       "2  Thank you KingJames CP3 amp the sporting world...   \n",
       "3   BBCNews JoeBiden can we please savour this mo...   \n",
       "4             Merkel Allemagne Biden t co fyq8r3siwN   \n",
       "\n",
       "                         clean_location  sentiment  \n",
       "0  NY LA Traveler Not All Those Who Wan       0.00  \n",
       "1                                             0.33  \n",
       "2                                             0.00  \n",
       "3                                 158 0       0.00  \n",
       "4                              Montréal       0.00  "
      ]
     },
     "execution_count": 57,
     "metadata": {},
     "output_type": "execute_result"
    }
   ],
   "source": [
    "df_parquet_results_biden.head(5)"
   ]
  },
  {
   "cell_type": "markdown",
   "id": "a2f675ba-cb4c-4681-a8ed-4095613c30c2",
   "metadata": {},
   "source": [
    "## Combine candidate data"
   ]
  },
  {
   "cell_type": "code",
   "execution_count": 58,
   "id": "823a470b-897c-4ee4-8c73-91797cd5dd95",
   "metadata": {
    "tags": []
   },
   "outputs": [],
   "source": [
    "df_combined = pd.concat([df_parquet_results_biden, df_parquet_results_trump], ignore_index=True)"
   ]
  },
  {
   "cell_type": "markdown",
   "id": "6a3bed61-bf06-4962-a3d9-b2ee380a869b",
   "metadata": {},
   "source": [
    "### Create sentiment labels"
   ]
  },
  {
   "cell_type": "code",
   "execution_count": 59,
   "id": "4ac638a3-e39f-464a-9d5d-e62610c83c20",
   "metadata": {
    "tags": []
   },
   "outputs": [],
   "source": [
    "df_combined['sentiment_category'] = df_combined['sentiment'].apply(lambda x: 'negative' if x < 0 else ('positive' if x > 0 else 'neutral'))"
   ]
  },
  {
   "cell_type": "code",
   "execution_count": 60,
   "id": "70d1b4b6-22ee-4ea8-ac8b-d09370bd2643",
   "metadata": {
    "tags": []
   },
   "outputs": [
    {
     "data": {
      "text/html": [
       "<div>\n",
       "<style scoped>\n",
       "    .dataframe tbody tr th:only-of-type {\n",
       "        vertical-align: middle;\n",
       "    }\n",
       "\n",
       "    .dataframe tbody tr th {\n",
       "        vertical-align: top;\n",
       "    }\n",
       "\n",
       "    .dataframe thead th {\n",
       "        text-align: right;\n",
       "    }\n",
       "</style>\n",
       "<table border=\"1\" class=\"dataframe\">\n",
       "  <thead>\n",
       "    <tr style=\"text-align: right;\">\n",
       "      <th></th>\n",
       "      <th>comment_body</th>\n",
       "      <th>source</th>\n",
       "      <th>user_location</th>\n",
       "      <th>candidatepoll</th>\n",
       "      <th>clean_text</th>\n",
       "      <th>clean_location</th>\n",
       "      <th>sentiment</th>\n",
       "      <th>sentiment_category</th>\n",
       "    </tr>\n",
       "  </thead>\n",
       "  <tbody>\n",
       "    <tr>\n",
       "      <th>0</th>\n",
       "      <td>We can all breathe now . #Biden</td>\n",
       "      <td>tweet</td>\n",
       "      <td>NY 🍎 LA  | 🌎 Traveler | Not All Those Who Wan</td>\n",
       "      <td>Biden</td>\n",
       "      <td>We can all breathe now Biden</td>\n",
       "      <td>NY LA Traveler Not All Those Who Wan</td>\n",
       "      <td>0.00</td>\n",
       "      <td>neutral</td>\n",
       "    </tr>\n",
       "    <tr>\n",
       "      <th>1</th>\n",
       "      <td>#KamalaHarrisVP #JoeBiden   JOE AND KAMALA DO ...</td>\n",
       "      <td>tweet</td>\n",
       "      <td></td>\n",
       "      <td>Biden</td>\n",
       "      <td>KamalaHarrisVP JoeBiden JOE AND KAMALA DO NOT...</td>\n",
       "      <td></td>\n",
       "      <td>0.33</td>\n",
       "      <td>positive</td>\n",
       "    </tr>\n",
       "    <tr>\n",
       "      <th>2</th>\n",
       "      <td>Thank you @KingJames @CP3 &amp;amp; the sporting w...</td>\n",
       "      <td>tweet</td>\n",
       "      <td></td>\n",
       "      <td>Biden</td>\n",
       "      <td>Thank you KingJames CP3 amp the sporting world...</td>\n",
       "      <td></td>\n",
       "      <td>0.00</td>\n",
       "      <td>neutral</td>\n",
       "    </tr>\n",
       "    <tr>\n",
       "      <th>3</th>\n",
       "      <td>\"@BBCNews #JoeBiden can we please savour this ...</td>\n",
       "      <td>tweet</td>\n",
       "      <td>158.0</td>\n",
       "      <td>Biden</td>\n",
       "      <td>BBCNews JoeBiden can we please savour this mo...</td>\n",
       "      <td>158 0</td>\n",
       "      <td>0.00</td>\n",
       "      <td>neutral</td>\n",
       "    </tr>\n",
       "    <tr>\n",
       "      <th>4</th>\n",
       "      <td>#Merkel #Allemagne #Biden https://t.co/fyq8r3siwN</td>\n",
       "      <td>tweet</td>\n",
       "      <td>\"Montréal</td>\n",
       "      <td>Biden</td>\n",
       "      <td>Merkel Allemagne Biden t co fyq8r3siwN</td>\n",
       "      <td>Montréal</td>\n",
       "      <td>0.00</td>\n",
       "      <td>neutral</td>\n",
       "    </tr>\n",
       "  </tbody>\n",
       "</table>\n",
       "</div>"
      ],
      "text/plain": [
       "                                        comment_body source  \\\n",
       "0                    We can all breathe now . #Biden  tweet   \n",
       "1  #KamalaHarrisVP #JoeBiden   JOE AND KAMALA DO ...  tweet   \n",
       "2  Thank you @KingJames @CP3 &amp; the sporting w...  tweet   \n",
       "3  \"@BBCNews #JoeBiden can we please savour this ...  tweet   \n",
       "4  #Merkel #Allemagne #Biden https://t.co/fyq8r3siwN  tweet   \n",
       "\n",
       "                                   user_location candidatepoll  \\\n",
       "0  NY 🍎 LA  | 🌎 Traveler | Not All Those Who Wan         Biden   \n",
       "1                                                        Biden   \n",
       "2                                                        Biden   \n",
       "3                                          158.0         Biden   \n",
       "4                                      \"Montréal         Biden   \n",
       "\n",
       "                                          clean_text  \\\n",
       "0                       We can all breathe now Biden   \n",
       "1   KamalaHarrisVP JoeBiden JOE AND KAMALA DO NOT...   \n",
       "2  Thank you KingJames CP3 amp the sporting world...   \n",
       "3   BBCNews JoeBiden can we please savour this mo...   \n",
       "4             Merkel Allemagne Biden t co fyq8r3siwN   \n",
       "\n",
       "                         clean_location  sentiment sentiment_category  \n",
       "0  NY LA Traveler Not All Those Who Wan       0.00            neutral  \n",
       "1                                             0.33           positive  \n",
       "2                                             0.00            neutral  \n",
       "3                                 158 0       0.00            neutral  \n",
       "4                              Montréal       0.00            neutral  "
      ]
     },
     "execution_count": 60,
     "metadata": {},
     "output_type": "execute_result"
    }
   ],
   "source": [
    "\n",
    "df_combined.head()\n"
   ]
  },
  {
   "cell_type": "code",
   "execution_count": 61,
   "id": "8e80dc4e-6650-4296-a0b8-4d3f6de3d721",
   "metadata": {
    "tags": []
   },
   "outputs": [
    {
     "data": {
      "text/plain": [
       "(1361610, 8)"
      ]
     },
     "execution_count": 61,
     "metadata": {},
     "output_type": "execute_result"
    }
   ],
   "source": [
    "df_combined.shape"
   ]
  },
  {
   "cell_type": "markdown",
   "id": "577fd5f2-190d-4d58-af7c-5cbd2e9e6283",
   "metadata": {},
   "source": [
    "# Additional EDA with Clean Language Data"
   ]
  },
  {
   "cell_type": "markdown",
   "id": "28f8f6a5-f04b-440e-92e2-e74251399309",
   "metadata": {},
   "source": [
    "## Trump Data"
   ]
  },
  {
   "cell_type": "code",
   "execution_count": 62,
   "id": "7e6888f0",
   "metadata": {
    "tags": []
   },
   "outputs": [
    {
     "data": {
      "text/plain": [
       " 0.000000    448369\n",
       " 0.500000     28099\n",
       " 0.200000     18034\n",
       " 0.250000     15523\n",
       " 0.100000     12534\n",
       "              ...  \n",
       " 0.046389         1\n",
       "-0.295238         1\n",
       " 0.210714         1\n",
       "-0.592857         1\n",
       "-0.008036         1\n",
       "Name: sentiment, Length: 26016, dtype: int64"
      ]
     },
     "execution_count": 62,
     "metadata": {},
     "output_type": "execute_result"
    }
   ],
   "source": [
    "# Examine Trump Sentiment distribution\n",
    "df_combined[df_combined['candidatepoll'] == 'Trump']['sentiment'].value_counts()"
   ]
  },
  {
   "cell_type": "code",
   "execution_count": 233,
   "id": "32f86222-5614-403e-9196-6721f3af0c7d",
   "metadata": {
    "tags": []
   },
   "outputs": [
    {
     "data": {
      "text/html": [
       "<div>\n",
       "<style scoped>\n",
       "    .dataframe tbody tr th:only-of-type {\n",
       "        vertical-align: middle;\n",
       "    }\n",
       "\n",
       "    .dataframe tbody tr th {\n",
       "        vertical-align: top;\n",
       "    }\n",
       "\n",
       "    .dataframe thead th {\n",
       "        text-align: right;\n",
       "    }\n",
       "</style>\n",
       "<table border=\"1\" class=\"dataframe\">\n",
       "  <thead>\n",
       "    <tr style=\"text-align: right;\">\n",
       "      <th></th>\n",
       "      <th>comment_body</th>\n",
       "      <th>source</th>\n",
       "      <th>user_location</th>\n",
       "      <th>candidatepoll</th>\n",
       "      <th>clean_text</th>\n",
       "      <th>clean_location</th>\n",
       "      <th>sentiment</th>\n",
       "      <th>sentiment_category</th>\n",
       "      <th>SentimentOutcome</th>\n",
       "    </tr>\n",
       "  </thead>\n",
       "  <tbody>\n",
       "    <tr>\n",
       "      <th>434932</th>\n",
       "      <td>Total LOSER @POTUS @realDonaldTrump @FLOTUS @E...</td>\n",
       "      <td>tweet</td>\n",
       "      <td>France</td>\n",
       "      <td>Trump</td>\n",
       "      <td>Total LOSER POTUS realDonaldTrump FLOTUS EricT...</td>\n",
       "      <td>France</td>\n",
       "      <td>-0.200000</td>\n",
       "      <td>negative</td>\n",
       "      <td>Trump_negative</td>\n",
       "    </tr>\n",
       "    <tr>\n",
       "      <th>434934</th>\n",
       "      <td>\"@realDonaldTrump is a disgrace. Trump is not ...</td>\n",
       "      <td>tweet</td>\n",
       "      <td>&lt;NA&gt;</td>\n",
       "      <td>Trump</td>\n",
       "      <td>realDonaldTrump is a disgrace Trump is not on...</td>\n",
       "      <td>NA</td>\n",
       "      <td>-0.250000</td>\n",
       "      <td>negative</td>\n",
       "      <td>Trump_negative</td>\n",
       "    </tr>\n",
       "    <tr>\n",
       "      <th>434936</th>\n",
       "      <td>\"I hope they refuse to move into the White Hou...</td>\n",
       "      <td>tweet</td>\n",
       "      <td>&lt;NA&gt;</td>\n",
       "      <td>Trump</td>\n",
       "      <td>I hope they refuse to move into the White Hou...</td>\n",
       "      <td>NA</td>\n",
       "      <td>-0.016667</td>\n",
       "      <td>negative</td>\n",
       "      <td>Trump_negative</td>\n",
       "    </tr>\n",
       "    <tr>\n",
       "      <th>434937</th>\n",
       "      <td>\"#Trump has not gained as much as one big elec...</td>\n",
       "      <td>tweet</td>\n",
       "      <td>97.0</td>\n",
       "      <td>Trump</td>\n",
       "      <td>Trump has not gained as much as one big elect...</td>\n",
       "      <td>97 0</td>\n",
       "      <td>-0.033333</td>\n",
       "      <td>negative</td>\n",
       "      <td>Trump_negative</td>\n",
       "    </tr>\n",
       "    <tr>\n",
       "      <th>434939</th>\n",
       "      <td>\"@matteosalvinimi @realDonaldTrump ... Black F...</td>\n",
       "      <td>tweet</td>\n",
       "      <td>&lt;NA&gt;</td>\n",
       "      <td>Trump</td>\n",
       "      <td>matteosalvinimi realDonaldTrump Black Friday ...</td>\n",
       "      <td>NA</td>\n",
       "      <td>-0.166667</td>\n",
       "      <td>negative</td>\n",
       "      <td>Trump_negative</td>\n",
       "    </tr>\n",
       "  </tbody>\n",
       "</table>\n",
       "</div>"
      ],
      "text/plain": [
       "                                             comment_body source  \\\n",
       "434932  Total LOSER @POTUS @realDonaldTrump @FLOTUS @E...  tweet   \n",
       "434934  \"@realDonaldTrump is a disgrace. Trump is not ...  tweet   \n",
       "434936  \"I hope they refuse to move into the White Hou...  tweet   \n",
       "434937  \"#Trump has not gained as much as one big elec...  tweet   \n",
       "434939  \"@matteosalvinimi @realDonaldTrump ... Black F...  tweet   \n",
       "\n",
       "       user_location candidatepoll  \\\n",
       "434932        France         Trump   \n",
       "434934          <NA>         Trump   \n",
       "434936          <NA>         Trump   \n",
       "434937          97.0         Trump   \n",
       "434939          <NA>         Trump   \n",
       "\n",
       "                                               clean_text clean_location  \\\n",
       "434932  Total LOSER POTUS realDonaldTrump FLOTUS EricT...         France   \n",
       "434934   realDonaldTrump is a disgrace Trump is not on...            NA    \n",
       "434936   I hope they refuse to move into the White Hou...            NA    \n",
       "434937   Trump has not gained as much as one big elect...           97 0   \n",
       "434939   matteosalvinimi realDonaldTrump Black Friday ...            NA    \n",
       "\n",
       "        sentiment sentiment_category SentimentOutcome  \n",
       "434932  -0.200000           negative   Trump_negative  \n",
       "434934  -0.250000           negative   Trump_negative  \n",
       "434936  -0.016667           negative   Trump_negative  \n",
       "434937  -0.033333           negative   Trump_negative  \n",
       "434939  -0.166667           negative   Trump_negative  "
      ]
     },
     "execution_count": 233,
     "metadata": {},
     "output_type": "execute_result"
    }
   ],
   "source": [
    "df_combined[(df_combined['candidatepoll'] == 'Trump') & (df_combined['sentiment'] < 0)].head(5)"
   ]
  },
  {
   "cell_type": "code",
   "execution_count": 64,
   "id": "6147c1f4-5e6a-4d13-ae45-65b611fa39f9",
   "metadata": {
    "tags": []
   },
   "outputs": [
    {
     "data": {
      "text/html": [
       "<div>\n",
       "<style scoped>\n",
       "    .dataframe tbody tr th:only-of-type {\n",
       "        vertical-align: middle;\n",
       "    }\n",
       "\n",
       "    .dataframe tbody tr th {\n",
       "        vertical-align: top;\n",
       "    }\n",
       "\n",
       "    .dataframe thead th {\n",
       "        text-align: right;\n",
       "    }\n",
       "</style>\n",
       "<table border=\"1\" class=\"dataframe\">\n",
       "  <thead>\n",
       "    <tr style=\"text-align: right;\">\n",
       "      <th></th>\n",
       "      <th>comment_body</th>\n",
       "      <th>source</th>\n",
       "      <th>user_location</th>\n",
       "      <th>candidatepoll</th>\n",
       "      <th>clean_text</th>\n",
       "      <th>clean_location</th>\n",
       "      <th>sentiment</th>\n",
       "      <th>sentiment_category</th>\n",
       "    </tr>\n",
       "  </thead>\n",
       "  <tbody>\n",
       "    <tr>\n",
       "      <th>434926</th>\n",
       "      <td>\"Ma la signora Maglie che nelle sue dirette ci...</td>\n",
       "      <td>tweet</td>\n",
       "      <td>&lt;NA&gt;</td>\n",
       "      <td>Trump</td>\n",
       "      <td>Ma la signora Maglie che nelle sue dirette ci...</td>\n",
       "      <td>NA</td>\n",
       "      <td>0.0</td>\n",
       "      <td>neutral</td>\n",
       "    </tr>\n",
       "    <tr>\n",
       "      <th>434927</th>\n",
       "      <td>#ByeByeTrump #Election2020results #Election202...</td>\n",
       "      <td>tweet</td>\n",
       "      <td>HE%SHE ☆ﾐ</td>\n",
       "      <td>Trump</td>\n",
       "      <td>ByeByeTrump Election2020results Election2020 ...</td>\n",
       "      <td>HE SHE ﾐ</td>\n",
       "      <td>0.0</td>\n",
       "      <td>neutral</td>\n",
       "    </tr>\n",
       "    <tr>\n",
       "      <th>434929</th>\n",
       "      <td>\"#ByeByeTrump you are gefeuert..</td>\n",
       "      <td>tweet</td>\n",
       "      <td>&lt;NA&gt;</td>\n",
       "      <td>Trump</td>\n",
       "      <td>ByeByeTrump you are gefeuert</td>\n",
       "      <td>NA</td>\n",
       "      <td>0.0</td>\n",
       "      <td>neutral</td>\n",
       "    </tr>\n",
       "    <tr>\n",
       "      <th>434931</th>\n",
       "      <td>\"Igualmente es de destacar como Trump conservó...</td>\n",
       "      <td>tweet</td>\n",
       "      <td>&lt;NA&gt;</td>\n",
       "      <td>Trump</td>\n",
       "      <td>Igualmente es de destacar como Trump conservó...</td>\n",
       "      <td>NA</td>\n",
       "      <td>0.0</td>\n",
       "      <td>neutral</td>\n",
       "    </tr>\n",
       "    <tr>\n",
       "      <th>434933</th>\n",
       "      <td>\"Trump:  \"\"Uncle!  Uncle!\"\"</td>\n",
       "      <td>tweet</td>\n",
       "      <td>&lt;NA&gt;</td>\n",
       "      <td>Trump</td>\n",
       "      <td>Trump Uncle Uncle</td>\n",
       "      <td>NA</td>\n",
       "      <td>0.0</td>\n",
       "      <td>neutral</td>\n",
       "    </tr>\n",
       "  </tbody>\n",
       "</table>\n",
       "</div>"
      ],
      "text/plain": [
       "                                             comment_body source  \\\n",
       "434926  \"Ma la signora Maglie che nelle sue dirette ci...  tweet   \n",
       "434927  #ByeByeTrump #Election2020results #Election202...  tweet   \n",
       "434929                   \"#ByeByeTrump you are gefeuert..  tweet   \n",
       "434931  \"Igualmente es de destacar como Trump conservó...  tweet   \n",
       "434933                        \"Trump:  \"\"Uncle!  Uncle!\"\"  tweet   \n",
       "\n",
       "       user_location candidatepoll  \\\n",
       "434926          <NA>         Trump   \n",
       "434927     HE%SHE ☆ﾐ         Trump   \n",
       "434929          <NA>         Trump   \n",
       "434931          <NA>         Trump   \n",
       "434933          <NA>         Trump   \n",
       "\n",
       "                                               clean_text clean_location  \\\n",
       "434926   Ma la signora Maglie che nelle sue dirette ci...            NA    \n",
       "434927   ByeByeTrump Election2020results Election2020 ...       HE SHE ﾐ   \n",
       "434929                      ByeByeTrump you are gefeuert             NA    \n",
       "434931   Igualmente es de destacar como Trump conservó...            NA    \n",
       "434933                                 Trump Uncle Uncle             NA    \n",
       "\n",
       "        sentiment sentiment_category  \n",
       "434926        0.0            neutral  \n",
       "434927        0.0            neutral  \n",
       "434929        0.0            neutral  \n",
       "434931        0.0            neutral  \n",
       "434933        0.0            neutral  "
      ]
     },
     "execution_count": 64,
     "metadata": {},
     "output_type": "execute_result"
    }
   ],
   "source": [
    "df_combined[(df_combined['candidatepoll'] == 'Trump') & (df_combined['sentiment'] == 0)].head(5)"
   ]
  },
  {
   "cell_type": "code",
   "execution_count": 65,
   "id": "a2a426e1-a2b3-4d05-acc1-08998daafbd8",
   "metadata": {
    "tags": []
   },
   "outputs": [
    {
     "data": {
      "text/html": [
       "<div>\n",
       "<style scoped>\n",
       "    .dataframe tbody tr th:only-of-type {\n",
       "        vertical-align: middle;\n",
       "    }\n",
       "\n",
       "    .dataframe tbody tr th {\n",
       "        vertical-align: top;\n",
       "    }\n",
       "\n",
       "    .dataframe thead th {\n",
       "        text-align: right;\n",
       "    }\n",
       "</style>\n",
       "<table border=\"1\" class=\"dataframe\">\n",
       "  <thead>\n",
       "    <tr style=\"text-align: right;\">\n",
       "      <th></th>\n",
       "      <th>comment_body</th>\n",
       "      <th>source</th>\n",
       "      <th>user_location</th>\n",
       "      <th>candidatepoll</th>\n",
       "      <th>clean_text</th>\n",
       "      <th>clean_location</th>\n",
       "      <th>sentiment</th>\n",
       "      <th>sentiment_category</th>\n",
       "    </tr>\n",
       "  </thead>\n",
       "  <tbody>\n",
       "    <tr>\n",
       "      <th>434928</th>\n",
       "      <td>\"Finally a real president! Trump supporters</td>\n",
       "      <td>tweet</td>\n",
       "      <td>&lt;NA&gt;</td>\n",
       "      <td>Trump</td>\n",
       "      <td>Finally a real president Trump supporters</td>\n",
       "      <td>NA</td>\n",
       "      <td>0.200000</td>\n",
       "      <td>positive</td>\n",
       "    </tr>\n",
       "    <tr>\n",
       "      <th>434930</th>\n",
       "      <td>\"Trump be like : accha main chlta hu duao main...</td>\n",
       "      <td>tweet</td>\n",
       "      <td>&lt;NA&gt;</td>\n",
       "      <td>Trump</td>\n",
       "      <td>Trump be like accha main chlta hu duao main y...</td>\n",
       "      <td>NA</td>\n",
       "      <td>0.166667</td>\n",
       "      <td>positive</td>\n",
       "    </tr>\n",
       "    <tr>\n",
       "      <th>434952</th>\n",
       "      <td>Hope we Europeans wake up to good news tomorro...</td>\n",
       "      <td>tweet</td>\n",
       "      <td>Norway</td>\n",
       "      <td>Trump</td>\n",
       "      <td>Hope we Europeans wake up to good news tomorro...</td>\n",
       "      <td>Norway</td>\n",
       "      <td>0.700000</td>\n",
       "      <td>positive</td>\n",
       "    </tr>\n",
       "    <tr>\n",
       "      <th>434965</th>\n",
       "      <td>\"@guardian Sad to see. The only way @realDonal...</td>\n",
       "      <td>tweet</td>\n",
       "      <td>&lt;NA&gt;</td>\n",
       "      <td>Trump</td>\n",
       "      <td>guardian Sad to see The only way realDonaldTr...</td>\n",
       "      <td>NA</td>\n",
       "      <td>0.200000</td>\n",
       "      <td>positive</td>\n",
       "    </tr>\n",
       "    <tr>\n",
       "      <th>434974</th>\n",
       "      <td>\"#Trump was big on symbols and liked to appear...</td>\n",
       "      <td>tweet</td>\n",
       "      <td>&lt;NA&gt;</td>\n",
       "      <td>Trump</td>\n",
       "      <td>Trump was big on symbols and liked to appear ...</td>\n",
       "      <td>NA</td>\n",
       "      <td>0.070370</td>\n",
       "      <td>positive</td>\n",
       "    </tr>\n",
       "  </tbody>\n",
       "</table>\n",
       "</div>"
      ],
      "text/plain": [
       "                                             comment_body source  \\\n",
       "434928        \"Finally a real president! Trump supporters  tweet   \n",
       "434930  \"Trump be like : accha main chlta hu duao main...  tweet   \n",
       "434952  Hope we Europeans wake up to good news tomorro...  tweet   \n",
       "434965  \"@guardian Sad to see. The only way @realDonal...  tweet   \n",
       "434974  \"#Trump was big on symbols and liked to appear...  tweet   \n",
       "\n",
       "       user_location candidatepoll  \\\n",
       "434928          <NA>         Trump   \n",
       "434930          <NA>         Trump   \n",
       "434952        Norway         Trump   \n",
       "434965          <NA>         Trump   \n",
       "434974          <NA>         Trump   \n",
       "\n",
       "                                               clean_text clean_location  \\\n",
       "434928          Finally a real president Trump supporters            NA    \n",
       "434930   Trump be like accha main chlta hu duao main y...            NA    \n",
       "434952  Hope we Europeans wake up to good news tomorro...         Norway   \n",
       "434965   guardian Sad to see The only way realDonaldTr...            NA    \n",
       "434974   Trump was big on symbols and liked to appear ...            NA    \n",
       "\n",
       "        sentiment sentiment_category  \n",
       "434928   0.200000           positive  \n",
       "434930   0.166667           positive  \n",
       "434952   0.700000           positive  \n",
       "434965   0.200000           positive  \n",
       "434974   0.070370           positive  "
      ]
     },
     "execution_count": 65,
     "metadata": {},
     "output_type": "execute_result"
    }
   ],
   "source": [
    "df_combined[(df_combined['candidatepoll'] == 'Trump') & (df_combined['sentiment'] > 0)].head(5)"
   ]
  },
  {
   "cell_type": "code",
   "execution_count": 66,
   "id": "99336874-a3d8-48e2-9ded-7ccbdd43742a",
   "metadata": {
    "tags": []
   },
   "outputs": [
    {
     "data": {
      "image/png": "[encoded data removed]",
      "text/plain": [
       "<Figure size 432x288 with 1 Axes>"
      ]
     },
     "metadata": {
      "needs_background": "light"
     },
     "output_type": "display_data"
    }
   ],
   "source": [
    "plt.hist(df_combined[df_combined['candidatepoll'] == 'Trump']['sentiment'], bins=30, edgecolor='black')\n",
    "\n",
    "# Adding labels\n",
    "plt.xlabel('Sentiment Score')\n",
    "plt.ylabel('Frequency')\n",
    "plt.title('Distribution of Sentiment Scores for Trump')\n",
    "\n",
    "# Show plot\n",
    "plt.savefig('TrumpSentDist.png')"
   ]
  },
  {
   "cell_type": "markdown",
   "id": "299af5c5-43e8-4ce6-bd79-da2b8655e8fa",
   "metadata": {},
   "source": [
    "### Biden Data"
   ]
  },
  {
   "cell_type": "code",
   "execution_count": 67,
   "id": "9e8e76cf-ee32-4e92-b30d-e8a8b93a02c9",
   "metadata": {
    "tags": []
   },
   "outputs": [
    {
     "data": {
      "text/plain": [
       " 0.000000    256228\n",
       " 0.500000     13183\n",
       " 0.800000     11414\n",
       " 0.200000      6573\n",
       " 0.300000      6435\n",
       "              ...  \n",
       " 0.414394         1\n",
       " 0.145202         1\n",
       " 0.115873         1\n",
       " 0.004861         1\n",
       "-0.099107         1\n",
       "Name: sentiment, Length: 10409, dtype: int64"
      ]
     },
     "execution_count": 67,
     "metadata": {},
     "output_type": "execute_result"
    }
   ],
   "source": [
    "df_combined[df_combined['candidatepoll'] == 'Biden']['sentiment'].value_counts()"
   ]
  },
  {
   "cell_type": "code",
   "execution_count": 68,
   "id": "d244e68a-0598-4e64-9045-935a278343d6",
   "metadata": {
    "tags": []
   },
   "outputs": [
    {
     "data": {
      "text/html": [
       "<div>\n",
       "<style scoped>\n",
       "    .dataframe tbody tr th:only-of-type {\n",
       "        vertical-align: middle;\n",
       "    }\n",
       "\n",
       "    .dataframe tbody tr th {\n",
       "        vertical-align: top;\n",
       "    }\n",
       "\n",
       "    .dataframe thead th {\n",
       "        text-align: right;\n",
       "    }\n",
       "</style>\n",
       "<table border=\"1\" class=\"dataframe\">\n",
       "  <thead>\n",
       "    <tr style=\"text-align: right;\">\n",
       "      <th></th>\n",
       "      <th>comment_body</th>\n",
       "      <th>source</th>\n",
       "      <th>user_location</th>\n",
       "      <th>candidatepoll</th>\n",
       "      <th>clean_text</th>\n",
       "      <th>clean_location</th>\n",
       "      <th>sentiment</th>\n",
       "      <th>sentiment_category</th>\n",
       "    </tr>\n",
       "  </thead>\n",
       "  <tbody>\n",
       "    <tr>\n",
       "      <th>19</th>\n",
       "      <td>\"The only people stupid enough to believe #Joe...</td>\n",
       "      <td>tweet</td>\n",
       "      <td>&lt;NA&gt;</td>\n",
       "      <td>Biden</td>\n",
       "      <td>The only people stupid enough to believe JoeB...</td>\n",
       "      <td>NA</td>\n",
       "      <td>-0.175</td>\n",
       "      <td>negative</td>\n",
       "    </tr>\n",
       "    <tr>\n",
       "      <th>44</th>\n",
       "      <td>The evil has been vanquished. #JoeBiden #JOEBI...</td>\n",
       "      <td>tweet</td>\n",
       "      <td>2009-07-11 02:11:26</td>\n",
       "      <td>Biden</td>\n",
       "      <td>The evil has been vanquished JoeBiden JOEBIDEN...</td>\n",
       "      <td>2009 07 11 02 11 26</td>\n",
       "      <td>-1.000</td>\n",
       "      <td>negative</td>\n",
       "    </tr>\n",
       "    <tr>\n",
       "      <th>59</th>\n",
       "      <td>J’espère qu’on ne regrettera pas l’arrivée de ...</td>\n",
       "      <td>tweet</td>\n",
       "      <td>\"Strasbourg</td>\n",
       "      <td>Biden</td>\n",
       "      <td>J espère qu on ne regrettera pas l arrivée de ...</td>\n",
       "      <td>Strasbourg</td>\n",
       "      <td>-0.100</td>\n",
       "      <td>negative</td>\n",
       "    </tr>\n",
       "    <tr>\n",
       "      <th>89</th>\n",
       "      <td>Trumps just making baseless claims and it’s sa...</td>\n",
       "      <td>tweet</td>\n",
       "      <td>2020-10-30 01:10:30</td>\n",
       "      <td>Biden</td>\n",
       "      <td>Trumps just making baseless claims and it s sa...</td>\n",
       "      <td>2020 10 30 01 10 30</td>\n",
       "      <td>-0.500</td>\n",
       "      <td>negative</td>\n",
       "    </tr>\n",
       "    <tr>\n",
       "      <th>97</th>\n",
       "      <td>#joebiden has plans for a path forward to the ...</td>\n",
       "      <td>tweet</td>\n",
       "      <td>concerned global citizen</td>\n",
       "      <td>Biden</td>\n",
       "      <td>joebiden has plans for a path forward to the ...</td>\n",
       "      <td>concerned global citizen</td>\n",
       "      <td>-0.125</td>\n",
       "      <td>negative</td>\n",
       "    </tr>\n",
       "  </tbody>\n",
       "</table>\n",
       "</div>"
      ],
      "text/plain": [
       "                                         comment_body source  \\\n",
       "19  \"The only people stupid enough to believe #Joe...  tweet   \n",
       "44  The evil has been vanquished. #JoeBiden #JOEBI...  tweet   \n",
       "59  J’espère qu’on ne regrettera pas l’arrivée de ...  tweet   \n",
       "89  Trumps just making baseless claims and it’s sa...  tweet   \n",
       "97  #joebiden has plans for a path forward to the ...  tweet   \n",
       "\n",
       "                user_location candidatepoll  \\\n",
       "19                       <NA>         Biden   \n",
       "44        2009-07-11 02:11:26         Biden   \n",
       "59                \"Strasbourg         Biden   \n",
       "89        2020-10-30 01:10:30         Biden   \n",
       "97   concerned global citizen         Biden   \n",
       "\n",
       "                                           clean_text  \\\n",
       "19   The only people stupid enough to believe JoeB...   \n",
       "44  The evil has been vanquished JoeBiden JOEBIDEN...   \n",
       "59  J espère qu on ne regrettera pas l arrivée de ...   \n",
       "89  Trumps just making baseless claims and it s sa...   \n",
       "97   joebiden has plans for a path forward to the ...   \n",
       "\n",
       "               clean_location  sentiment sentiment_category  \n",
       "19                        NA      -0.175           negative  \n",
       "44        2009 07 11 02 11 26     -1.000           negative  \n",
       "59                 Strasbourg     -0.100           negative  \n",
       "89        2020 10 30 01 10 30     -0.500           negative  \n",
       "97   concerned global citizen     -0.125           negative  "
      ]
     },
     "execution_count": 68,
     "metadata": {},
     "output_type": "execute_result"
    }
   ],
   "source": [
    "df_combined[(df_combined['candidatepoll'] == 'Biden') & (df_combined['sentiment'] < 0)].head(5)"
   ]
  },
  {
   "cell_type": "code",
   "execution_count": 69,
   "id": "1e4f9bd3-dd1c-4f2a-adb1-c14b1fffbf1a",
   "metadata": {
    "tags": []
   },
   "outputs": [
    {
     "data": {
      "text/html": [
       "<div>\n",
       "<style scoped>\n",
       "    .dataframe tbody tr th:only-of-type {\n",
       "        vertical-align: middle;\n",
       "    }\n",
       "\n",
       "    .dataframe tbody tr th {\n",
       "        vertical-align: top;\n",
       "    }\n",
       "\n",
       "    .dataframe thead th {\n",
       "        text-align: right;\n",
       "    }\n",
       "</style>\n",
       "<table border=\"1\" class=\"dataframe\">\n",
       "  <thead>\n",
       "    <tr style=\"text-align: right;\">\n",
       "      <th></th>\n",
       "      <th>comment_body</th>\n",
       "      <th>source</th>\n",
       "      <th>user_location</th>\n",
       "      <th>candidatepoll</th>\n",
       "      <th>clean_text</th>\n",
       "      <th>clean_location</th>\n",
       "      <th>sentiment</th>\n",
       "      <th>sentiment_category</th>\n",
       "    </tr>\n",
       "  </thead>\n",
       "  <tbody>\n",
       "    <tr>\n",
       "      <th>0</th>\n",
       "      <td>We can all breathe now . #Biden</td>\n",
       "      <td>tweet</td>\n",
       "      <td>NY 🍎 LA  | 🌎 Traveler | Not All Those Who Wan</td>\n",
       "      <td>Biden</td>\n",
       "      <td>We can all breathe now Biden</td>\n",
       "      <td>NY LA Traveler Not All Those Who Wan</td>\n",
       "      <td>0.0</td>\n",
       "      <td>neutral</td>\n",
       "    </tr>\n",
       "    <tr>\n",
       "      <th>2</th>\n",
       "      <td>Thank you @KingJames @CP3 &amp;amp; the sporting w...</td>\n",
       "      <td>tweet</td>\n",
       "      <td></td>\n",
       "      <td>Biden</td>\n",
       "      <td>Thank you KingJames CP3 amp the sporting world...</td>\n",
       "      <td></td>\n",
       "      <td>0.0</td>\n",
       "      <td>neutral</td>\n",
       "    </tr>\n",
       "    <tr>\n",
       "      <th>3</th>\n",
       "      <td>\"@BBCNews #JoeBiden can we please savour this ...</td>\n",
       "      <td>tweet</td>\n",
       "      <td>158.0</td>\n",
       "      <td>Biden</td>\n",
       "      <td>BBCNews JoeBiden can we please savour this mo...</td>\n",
       "      <td>158 0</td>\n",
       "      <td>0.0</td>\n",
       "      <td>neutral</td>\n",
       "    </tr>\n",
       "    <tr>\n",
       "      <th>4</th>\n",
       "      <td>#Merkel #Allemagne #Biden https://t.co/fyq8r3siwN</td>\n",
       "      <td>tweet</td>\n",
       "      <td>\"Montréal</td>\n",
       "      <td>Biden</td>\n",
       "      <td>Merkel Allemagne Biden t co fyq8r3siwN</td>\n",
       "      <td>Montréal</td>\n",
       "      <td>0.0</td>\n",
       "      <td>neutral</td>\n",
       "    </tr>\n",
       "    <tr>\n",
       "      <th>6</th>\n",
       "      <td>#biden #potus #PresidentElectJoe #PresidentEle...</td>\n",
       "      <td>tweet</td>\n",
       "      <td>&lt;NA&gt;</td>\n",
       "      <td>Biden</td>\n",
       "      <td>biden potus PresidentElectJoe PresidentElect ...</td>\n",
       "      <td>NA</td>\n",
       "      <td>0.0</td>\n",
       "      <td>neutral</td>\n",
       "    </tr>\n",
       "  </tbody>\n",
       "</table>\n",
       "</div>"
      ],
      "text/plain": [
       "                                        comment_body source  \\\n",
       "0                    We can all breathe now . #Biden  tweet   \n",
       "2  Thank you @KingJames @CP3 &amp; the sporting w...  tweet   \n",
       "3  \"@BBCNews #JoeBiden can we please savour this ...  tweet   \n",
       "4  #Merkel #Allemagne #Biden https://t.co/fyq8r3siwN  tweet   \n",
       "6  #biden #potus #PresidentElectJoe #PresidentEle...  tweet   \n",
       "\n",
       "                                   user_location candidatepoll  \\\n",
       "0  NY 🍎 LA  | 🌎 Traveler | Not All Those Who Wan         Biden   \n",
       "2                                                        Biden   \n",
       "3                                          158.0         Biden   \n",
       "4                                      \"Montréal         Biden   \n",
       "6                                           <NA>         Biden   \n",
       "\n",
       "                                          clean_text  \\\n",
       "0                       We can all breathe now Biden   \n",
       "2  Thank you KingJames CP3 amp the sporting world...   \n",
       "3   BBCNews JoeBiden can we please savour this mo...   \n",
       "4             Merkel Allemagne Biden t co fyq8r3siwN   \n",
       "6   biden potus PresidentElectJoe PresidentElect ...   \n",
       "\n",
       "                         clean_location  sentiment sentiment_category  \n",
       "0  NY LA Traveler Not All Those Who Wan        0.0            neutral  \n",
       "2                                              0.0            neutral  \n",
       "3                                 158 0        0.0            neutral  \n",
       "4                              Montréal        0.0            neutral  \n",
       "6                                   NA         0.0            neutral  "
      ]
     },
     "execution_count": 69,
     "metadata": {},
     "output_type": "execute_result"
    }
   ],
   "source": [
    "df_combined[(df_combined['candidatepoll'] == 'Biden') & (df_combined['sentiment'] == 0)].head(5)"
   ]
  },
  {
   "cell_type": "code",
   "execution_count": 70,
   "id": "a688224a-92ab-4847-a543-2aa62a4a5d00",
   "metadata": {
    "tags": []
   },
   "outputs": [
    {
     "data": {
      "text/html": [
       "<div>\n",
       "<style scoped>\n",
       "    .dataframe tbody tr th:only-of-type {\n",
       "        vertical-align: middle;\n",
       "    }\n",
       "\n",
       "    .dataframe tbody tr th {\n",
       "        vertical-align: top;\n",
       "    }\n",
       "\n",
       "    .dataframe thead th {\n",
       "        text-align: right;\n",
       "    }\n",
       "</style>\n",
       "<table border=\"1\" class=\"dataframe\">\n",
       "  <thead>\n",
       "    <tr style=\"text-align: right;\">\n",
       "      <th></th>\n",
       "      <th>comment_body</th>\n",
       "      <th>source</th>\n",
       "      <th>user_location</th>\n",
       "      <th>candidatepoll</th>\n",
       "      <th>clean_text</th>\n",
       "      <th>clean_location</th>\n",
       "      <th>sentiment</th>\n",
       "      <th>sentiment_category</th>\n",
       "    </tr>\n",
       "  </thead>\n",
       "  <tbody>\n",
       "    <tr>\n",
       "      <th>1</th>\n",
       "      <td>#KamalaHarrisVP #JoeBiden   JOE AND KAMALA DO ...</td>\n",
       "      <td>tweet</td>\n",
       "      <td></td>\n",
       "      <td>Biden</td>\n",
       "      <td>KamalaHarrisVP JoeBiden JOE AND KAMALA DO NOT...</td>\n",
       "      <td></td>\n",
       "      <td>0.33</td>\n",
       "      <td>positive</td>\n",
       "    </tr>\n",
       "    <tr>\n",
       "      <th>5</th>\n",
       "      <td>Joe Biden is the best thing that happened in 2...</td>\n",
       "      <td>tweet</td>\n",
       "      <td></td>\n",
       "      <td>Biden</td>\n",
       "      <td>Joe Biden is the best thing that happened in 2...</td>\n",
       "      <td></td>\n",
       "      <td>1.00</td>\n",
       "      <td>positive</td>\n",
       "    </tr>\n",
       "    <tr>\n",
       "      <th>7</th>\n",
       "      <td>This will really sting the orange toady. World...</td>\n",
       "      <td>tweet</td>\n",
       "      <td>135.0</td>\n",
       "      <td>Biden</td>\n",
       "      <td>This will really sting the orange toady World ...</td>\n",
       "      <td>135 0</td>\n",
       "      <td>0.50</td>\n",
       "      <td>positive</td>\n",
       "    </tr>\n",
       "    <tr>\n",
       "      <th>11</th>\n",
       "      <td>\"I hope the first thing @BarackObama said to @...</td>\n",
       "      <td>tweet</td>\n",
       "      <td>preppy-goth-hippie.\"</td>\n",
       "      <td>Biden</td>\n",
       "      <td>I hope the first thing BarackObama said to Jo...</td>\n",
       "      <td>preppy goth hippie</td>\n",
       "      <td>0.25</td>\n",
       "      <td>positive</td>\n",
       "    </tr>\n",
       "    <tr>\n",
       "      <th>12</th>\n",
       "      <td>\"happy with the triumph of JOE BIDEN</td>\n",
       "      <td>tweet</td>\n",
       "      <td>3016159752 Y 3145304871\"</td>\n",
       "      <td>Biden</td>\n",
       "      <td>happy with the triumph of JOE BIDEN</td>\n",
       "      <td>3016159752 Y 3145304871</td>\n",
       "      <td>0.80</td>\n",
       "      <td>positive</td>\n",
       "    </tr>\n",
       "  </tbody>\n",
       "</table>\n",
       "</div>"
      ],
      "text/plain": [
       "                                         comment_body source  \\\n",
       "1   #KamalaHarrisVP #JoeBiden   JOE AND KAMALA DO ...  tweet   \n",
       "5   Joe Biden is the best thing that happened in 2...  tweet   \n",
       "7   This will really sting the orange toady. World...  tweet   \n",
       "11  \"I hope the first thing @BarackObama said to @...  tweet   \n",
       "12               \"happy with the triumph of JOE BIDEN  tweet   \n",
       "\n",
       "                user_location candidatepoll  \\\n",
       "1                                     Biden   \n",
       "5                                     Biden   \n",
       "7                       135.0         Biden   \n",
       "11       preppy-goth-hippie.\"         Biden   \n",
       "12   3016159752 Y 3145304871\"         Biden   \n",
       "\n",
       "                                           clean_text  \\\n",
       "1    KamalaHarrisVP JoeBiden JOE AND KAMALA DO NOT...   \n",
       "5   Joe Biden is the best thing that happened in 2...   \n",
       "7   This will really sting the orange toady World ...   \n",
       "11   I hope the first thing BarackObama said to Jo...   \n",
       "12                happy with the triumph of JOE BIDEN   \n",
       "\n",
       "               clean_location  sentiment sentiment_category  \n",
       "1                                   0.33           positive  \n",
       "5                                   1.00           positive  \n",
       "7                       135 0       0.50           positive  \n",
       "11        preppy goth hippie        0.25           positive  \n",
       "12   3016159752 Y 3145304871        0.80           positive  "
      ]
     },
     "execution_count": 70,
     "metadata": {},
     "output_type": "execute_result"
    }
   ],
   "source": [
    "df_combined[(df_combined['candidatepoll'] == 'Biden') & (df_combined['sentiment'] > 0)].head(5)"
   ]
  },
  {
   "cell_type": "code",
   "execution_count": 71,
   "id": "4cc073d8-90f7-41b1-a35a-c9808fefe863",
   "metadata": {
    "tags": []
   },
   "outputs": [
    {
     "data": {
      "image/png": "[encoded data removed]",
      "text/plain": [
       "<Figure size 432x288 with 1 Axes>"
      ]
     },
     "metadata": {
      "needs_background": "light"
     },
     "output_type": "display_data"
    }
   ],
   "source": [
    "plt.hist(df_combined[df_combined['candidatepoll'] == 'Biden']['sentiment'], bins=30, edgecolor='black')\n",
    "\n",
    "# Adding labels\n",
    "plt.xlabel('Sentiment Score')\n",
    "plt.ylabel('Frequency')\n",
    "plt.title('Distribution of Sentiment Scores for Biden')\n",
    "\n",
    "# Show plot\n",
    "plt.savefig('BidenSentDist.png')"
   ]
  },
  {
   "cell_type": "markdown",
   "id": "4fd63b6a-94d5-4cd2-b0bd-b264ce307a9d",
   "metadata": {},
   "source": [
    "## Data Source Proportions with Clean Data"
   ]
  },
  {
   "cell_type": "code",
   "execution_count": 72,
   "id": "3dc59399-dbf4-4568-9134-7c1541267549",
   "metadata": {
    "tags": []
   },
   "outputs": [
    {
     "data": {
      "image/png": "[encoded data removed]",
      "text/plain": [
       "<Figure size 432x288 with 1 Axes>"
      ]
     },
     "metadata": {
      "needs_background": "light"
     },
     "output_type": "display_data"
    }
   ],
   "source": [
    "candidate = ['Trump','Biden']\n",
    "twitter_n = [df_combined[df_combined['candidatepoll'] == 'Trump']['source'].value_counts()[0], \n",
    "             df_combined[df_combined['candidatepoll'] == 'Biden']['source'].value_counts()[0]]\n",
    "nyt_n = [df_combined[df_combined['candidatepoll'] == 'Trump']['source'].value_counts()[1], \n",
    "         df_combined[df_combined['candidatepoll'] == 'Biden']['source'].value_counts()[1]]\n",
    "\n",
    "x = range(len(candidate))\n",
    "\n",
    "# Plotting the bars\n",
    "plt.bar(x, twitter_n, width=0.4, label='Twitter Mentions', align='center')\n",
    "plt.bar(x, nyt_n, width=0.4, label='NYT Mentions', align='edge')\n",
    "\n",
    "# Adding labels\n",
    "plt.xlabel('Candidates')\n",
    "plt.ylabel('Number of Mentions')\n",
    "plt.title('Twitter and NYT Mentions by Candidate')\n",
    "plt.xticks(x, candidate)\n",
    "plt.legend()\n",
    "\n",
    "# Show plot\n",
    "plt.savefig('DataDist.png')"
   ]
  },
  {
   "cell_type": "markdown",
   "id": "4ed86825-ea70-4071-a61b-d33d32377e10",
   "metadata": {},
   "source": [
    "# Additional Feature Engineering"
   ]
  },
  {
   "cell_type": "markdown",
   "id": "089e0065-555e-423a-b885-1f1a201b4790",
   "metadata": {},
   "source": [
    "## Create Outcome Variable"
   ]
  },
  {
   "cell_type": "code",
   "execution_count": 73,
   "id": "82621bac-f971-49d0-8414-9b9a4beef5c8",
   "metadata": {
    "tags": []
   },
   "outputs": [],
   "source": [
    "df_combined['SentimentOutcome'] = df_combined['candidatepoll']+\"_\"+df_combined['sentiment_category']"
   ]
  },
  {
   "cell_type": "code",
   "execution_count": 74,
   "id": "db276d11-b4de-4d84-9ffa-691f2d31d622",
   "metadata": {
    "tags": []
   },
   "outputs": [
    {
     "data": {
      "image/png": "[encoded data removed]",
      "text/plain": [
       "<Figure size 432x288 with 1 Axes>"
      ]
     },
     "metadata": {
      "needs_background": "light"
     },
     "output_type": "display_data"
    }
   ],
   "source": [
    "import matplotlib.pyplot as plt\n",
    "category_counts = df_combined['SentimentOutcome'].value_counts()\n",
    "plt.bar(category_counts.index, category_counts.values)\n",
    "plt.xlabel('Candidate Sentiment Categories')\n",
    "plt.xticks(rotation=45)  # Rotate x-axis labels by 45 degrees\n",
    "plt.ylabel('Count')\n",
    "plt.title('Frequency of Each Possible Sentiment Outcome')\n",
    "plt.show()"
   ]
  },
  {
   "cell_type": "markdown",
   "id": "8cbaa582-21c3-4a70-b0bf-13b2d72c1c07",
   "metadata": {},
   "source": [
    "## Smallest category is Biden_negative. When using train/test/split with 90/5/5 ratio, we will need balancing."
   ]
  },
  {
   "cell_type": "code",
   "execution_count": 75,
   "id": "26da0cb8-cac5-41a3-9bc6-9281e8cd4f53",
   "metadata": {
    "tags": []
   },
   "outputs": [
    {
     "data": {
      "text/plain": [
       "Biden_neutral     256228\n",
       "Biden_positive    129638\n",
       "Biden_negative     49060\n",
       "Name: SentimentOutcome, dtype: int64"
      ]
     },
     "execution_count": 75,
     "metadata": {},
     "output_type": "execute_result"
    }
   ],
   "source": [
    " df_combined[df_combined['candidatepoll'] == 'Biden']['SentimentOutcome'].value_counts()"
   ]
  },
  {
   "cell_type": "code",
   "execution_count": 76,
   "id": "b75960b0-12b4-4fe3-8bef-ab345510ed2a",
   "metadata": {
    "tags": []
   },
   "outputs": [
    {
     "data": {
      "text/plain": [
       "Trump_neutral     448369\n",
       "Trump_positive    295397\n",
       "Trump_negative    182918\n",
       "Name: SentimentOutcome, dtype: int64"
      ]
     },
     "execution_count": 76,
     "metadata": {},
     "output_type": "execute_result"
    }
   ],
   "source": [
    " df_combined[df_combined['candidatepoll'] == 'Trump']['SentimentOutcome'].value_counts()"
   ]
  },
  {
   "cell_type": "code",
   "execution_count": 220,
   "id": "4e4881c3-1007-4683-bff2-49bad3cd4873",
   "metadata": {
    "tags": []
   },
   "outputs": [
    {
     "data": {
      "text/html": [
       "<div>\n",
       "<style scoped>\n",
       "    .dataframe tbody tr th:only-of-type {\n",
       "        vertical-align: middle;\n",
       "    }\n",
       "\n",
       "    .dataframe tbody tr th {\n",
       "        vertical-align: top;\n",
       "    }\n",
       "\n",
       "    .dataframe thead th {\n",
       "        text-align: right;\n",
       "    }\n",
       "</style>\n",
       "<table border=\"1\" class=\"dataframe\">\n",
       "  <thead>\n",
       "    <tr style=\"text-align: right;\">\n",
       "      <th></th>\n",
       "      <th>comment_body</th>\n",
       "      <th>source</th>\n",
       "      <th>user_location</th>\n",
       "      <th>candidatepoll</th>\n",
       "      <th>clean_text</th>\n",
       "      <th>clean_location</th>\n",
       "      <th>sentiment</th>\n",
       "      <th>sentiment_category</th>\n",
       "      <th>SentimentOutcome</th>\n",
       "    </tr>\n",
       "  </thead>\n",
       "  <tbody>\n",
       "    <tr>\n",
       "      <th>0</th>\n",
       "      <td>We can all breathe now . #Biden</td>\n",
       "      <td>tweet</td>\n",
       "      <td>NY 🍎 LA  | 🌎 Traveler | Not All Those Who Wan</td>\n",
       "      <td>Biden</td>\n",
       "      <td>We can all breathe now Biden</td>\n",
       "      <td>NY LA Traveler Not All Those Who Wan</td>\n",
       "      <td>0.00</td>\n",
       "      <td>neutral</td>\n",
       "      <td>Biden_neutral</td>\n",
       "    </tr>\n",
       "    <tr>\n",
       "      <th>1</th>\n",
       "      <td>#KamalaHarrisVP #JoeBiden   JOE AND KAMALA DO ...</td>\n",
       "      <td>tweet</td>\n",
       "      <td></td>\n",
       "      <td>Biden</td>\n",
       "      <td>KamalaHarrisVP JoeBiden JOE AND KAMALA DO NOT...</td>\n",
       "      <td></td>\n",
       "      <td>0.33</td>\n",
       "      <td>positive</td>\n",
       "      <td>Biden_positive</td>\n",
       "    </tr>\n",
       "    <tr>\n",
       "      <th>2</th>\n",
       "      <td>Thank you @KingJames @CP3 &amp;amp; the sporting w...</td>\n",
       "      <td>tweet</td>\n",
       "      <td></td>\n",
       "      <td>Biden</td>\n",
       "      <td>Thank you KingJames CP3 amp the sporting world...</td>\n",
       "      <td></td>\n",
       "      <td>0.00</td>\n",
       "      <td>neutral</td>\n",
       "      <td>Biden_neutral</td>\n",
       "    </tr>\n",
       "    <tr>\n",
       "      <th>3</th>\n",
       "      <td>\"@BBCNews #JoeBiden can we please savour this ...</td>\n",
       "      <td>tweet</td>\n",
       "      <td>158.0</td>\n",
       "      <td>Biden</td>\n",
       "      <td>BBCNews JoeBiden can we please savour this mo...</td>\n",
       "      <td>158 0</td>\n",
       "      <td>0.00</td>\n",
       "      <td>neutral</td>\n",
       "      <td>Biden_neutral</td>\n",
       "    </tr>\n",
       "    <tr>\n",
       "      <th>4</th>\n",
       "      <td>#Merkel #Allemagne #Biden https://t.co/fyq8r3siwN</td>\n",
       "      <td>tweet</td>\n",
       "      <td>\"Montréal</td>\n",
       "      <td>Biden</td>\n",
       "      <td>Merkel Allemagne Biden t co fyq8r3siwN</td>\n",
       "      <td>Montréal</td>\n",
       "      <td>0.00</td>\n",
       "      <td>neutral</td>\n",
       "      <td>Biden_neutral</td>\n",
       "    </tr>\n",
       "  </tbody>\n",
       "</table>\n",
       "</div>"
      ],
      "text/plain": [
       "                                        comment_body source  \\\n",
       "0                    We can all breathe now . #Biden  tweet   \n",
       "1  #KamalaHarrisVP #JoeBiden   JOE AND KAMALA DO ...  tweet   \n",
       "2  Thank you @KingJames @CP3 &amp; the sporting w...  tweet   \n",
       "3  \"@BBCNews #JoeBiden can we please savour this ...  tweet   \n",
       "4  #Merkel #Allemagne #Biden https://t.co/fyq8r3siwN  tweet   \n",
       "\n",
       "                                   user_location candidatepoll  \\\n",
       "0  NY 🍎 LA  | 🌎 Traveler | Not All Those Who Wan         Biden   \n",
       "1                                                        Biden   \n",
       "2                                                        Biden   \n",
       "3                                          158.0         Biden   \n",
       "4                                      \"Montréal         Biden   \n",
       "\n",
       "                                          clean_text  \\\n",
       "0                       We can all breathe now Biden   \n",
       "1   KamalaHarrisVP JoeBiden JOE AND KAMALA DO NOT...   \n",
       "2  Thank you KingJames CP3 amp the sporting world...   \n",
       "3   BBCNews JoeBiden can we please savour this mo...   \n",
       "4             Merkel Allemagne Biden t co fyq8r3siwN   \n",
       "\n",
       "                         clean_location  sentiment sentiment_category  \\\n",
       "0  NY LA Traveler Not All Those Who Wan       0.00            neutral   \n",
       "1                                             0.33           positive   \n",
       "2                                             0.00            neutral   \n",
       "3                                 158 0       0.00            neutral   \n",
       "4                              Montréal       0.00            neutral   \n",
       "\n",
       "  SentimentOutcome  \n",
       "0    Biden_neutral  \n",
       "1   Biden_positive  \n",
       "2    Biden_neutral  \n",
       "3    Biden_neutral  \n",
       "4    Biden_neutral  "
      ]
     },
     "execution_count": 220,
     "metadata": {},
     "output_type": "execute_result"
    }
   ],
   "source": [
    "df_combined.head(5)\n"
   ]
  },
  {
   "cell_type": "code",
   "execution_count": null,
   "id": "e9382803-5b54-4bec-a507-42d58cc4492f",
   "metadata": {},
   "outputs": [],
   "source": []
  },
  {
   "cell_type": "markdown",
   "id": "292aae2a-b305-4315-ba4c-72ff14256dfd",
   "metadata": {},
   "source": [
    "# Save Data to S3 bucket"
   ]
  },
  {
   "cell_type": "code",
   "execution_count": 234,
   "id": "9888eb3b-afa5-4a99-9c30-ecdc342517da",
   "metadata": {
    "tags": []
   },
   "outputs": [
    {
     "data": {
      "text/html": [
       "<div>\n",
       "<style scoped>\n",
       "    .dataframe tbody tr th:only-of-type {\n",
       "        vertical-align: middle;\n",
       "    }\n",
       "\n",
       "    .dataframe tbody tr th {\n",
       "        vertical-align: top;\n",
       "    }\n",
       "\n",
       "    .dataframe thead th {\n",
       "        text-align: right;\n",
       "    }\n",
       "</style>\n",
       "<table border=\"1\" class=\"dataframe\">\n",
       "  <thead>\n",
       "    <tr style=\"text-align: right;\">\n",
       "      <th></th>\n",
       "      <th>source</th>\n",
       "      <th>clean_text</th>\n",
       "      <th>clean_location</th>\n",
       "      <th>candidatepoll</th>\n",
       "      <th>SentimentOutcome</th>\n",
       "    </tr>\n",
       "  </thead>\n",
       "  <tbody>\n",
       "    <tr>\n",
       "      <th>0</th>\n",
       "      <td>tweet</td>\n",
       "      <td>We can all breathe now Biden</td>\n",
       "      <td>NY LA Traveler Not All Those Who Wan</td>\n",
       "      <td>Biden</td>\n",
       "      <td>Biden_neutral</td>\n",
       "    </tr>\n",
       "    <tr>\n",
       "      <th>1</th>\n",
       "      <td>tweet</td>\n",
       "      <td>KamalaHarrisVP JoeBiden JOE AND KAMALA DO NOT...</td>\n",
       "      <td></td>\n",
       "      <td>Biden</td>\n",
       "      <td>Biden_positive</td>\n",
       "    </tr>\n",
       "    <tr>\n",
       "      <th>2</th>\n",
       "      <td>tweet</td>\n",
       "      <td>Thank you KingJames CP3 amp the sporting world...</td>\n",
       "      <td></td>\n",
       "      <td>Biden</td>\n",
       "      <td>Biden_neutral</td>\n",
       "    </tr>\n",
       "    <tr>\n",
       "      <th>3</th>\n",
       "      <td>tweet</td>\n",
       "      <td>BBCNews JoeBiden can we please savour this mo...</td>\n",
       "      <td>158 0</td>\n",
       "      <td>Biden</td>\n",
       "      <td>Biden_neutral</td>\n",
       "    </tr>\n",
       "    <tr>\n",
       "      <th>4</th>\n",
       "      <td>tweet</td>\n",
       "      <td>Merkel Allemagne Biden t co fyq8r3siwN</td>\n",
       "      <td>Montréal</td>\n",
       "      <td>Biden</td>\n",
       "      <td>Biden_neutral</td>\n",
       "    </tr>\n",
       "  </tbody>\n",
       "</table>\n",
       "</div>"
      ],
      "text/plain": [
       "  source                                         clean_text  \\\n",
       "0  tweet                       We can all breathe now Biden   \n",
       "1  tweet   KamalaHarrisVP JoeBiden JOE AND KAMALA DO NOT...   \n",
       "2  tweet  Thank you KingJames CP3 amp the sporting world...   \n",
       "3  tweet   BBCNews JoeBiden can we please savour this mo...   \n",
       "4  tweet             Merkel Allemagne Biden t co fyq8r3siwN   \n",
       "\n",
       "                         clean_location candidatepoll SentimentOutcome  \n",
       "0  NY LA Traveler Not All Those Who Wan         Biden    Biden_neutral  \n",
       "1                                               Biden   Biden_positive  \n",
       "2                                               Biden    Biden_neutral  \n",
       "3                                 158 0         Biden    Biden_neutral  \n",
       "4                              Montréal         Biden    Biden_neutral  "
      ]
     },
     "execution_count": 234,
     "metadata": {},
     "output_type": "execute_result"
    }
   ],
   "source": [
    "# Specify the S3 bucket name\n",
    "prefix = \"ADS508_project/cleandata/\"\n",
    "\n",
    "# List of corresponding file names\n",
    "file_name = \"cleandata.csv\"\n",
    "\n",
    "# Create an S3 client\n",
    "s3 = boto3.client('s3')\n",
    "\n",
    "#refine df_combined\n",
    "df_combined_ref = df_combined[['source', 'clean_text', 'clean_location', 'candidatepoll', 'SentimentOutcome']]\n",
    "df_combined_ref.head()"
   ]
  },
  {
   "cell_type": "code",
   "execution_count": 235,
   "id": "4d6d6d42-96cd-484e-be60-df59c4aef981",
   "metadata": {
    "tags": []
   },
   "outputs": [],
   "source": [
    "# Upload each file to S3\n",
    "df_combined_ref.to_csv(file_name, index=False)\n",
    "s3.upload_file(file_name, bucket, prefix + file_name)"
   ]
  },
  {
   "cell_type": "code",
   "execution_count": 236,
   "id": "f969c20e-7615-49e2-80cf-c51dddcaeffd",
   "metadata": {
    "tags": []
   },
   "outputs": [
    {
     "data": {
      "text/html": [
       "<div>\n",
       "<style scoped>\n",
       "    .dataframe tbody tr th:only-of-type {\n",
       "        vertical-align: middle;\n",
       "    }\n",
       "\n",
       "    .dataframe tbody tr th {\n",
       "        vertical-align: top;\n",
       "    }\n",
       "\n",
       "    .dataframe thead th {\n",
       "        text-align: right;\n",
       "    }\n",
       "</style>\n",
       "<table border=\"1\" class=\"dataframe\">\n",
       "  <thead>\n",
       "    <tr style=\"text-align: right;\">\n",
       "      <th></th>\n",
       "    </tr>\n",
       "  </thead>\n",
       "  <tbody>\n",
       "  </tbody>\n",
       "</table>\n",
       "</div>"
      ],
      "text/plain": [
       "Empty DataFrame\n",
       "Columns: []\n",
       "Index: []"
      ]
     },
     "execution_count": 236,
     "metadata": {},
     "output_type": "execute_result"
    }
   ],
   "source": [
    "# Create temp table of df_combined\n",
    "temp_table = \"temp_table\"\n",
    "s3_private_path_cleandata = \"s3://{}/ADS508_project/cleandata\".format(bucket)\n",
    "\n",
    "statement = \"\"\"\n",
    "CREATE EXTERNAL TABLE IF NOT EXISTS {}.{} (\n",
    "    source VARCHAR(20),\n",
    "    clean_text VARCHAR(250),\n",
    "    clean_location VARCHAR(25),\n",
    "    candidatepoll VARCHAR(10),\n",
    "    SentimentOutcome VARCHAR(10)\n",
    ")\n",
    "ROW FORMAT DELIMITED\n",
    "FIELDS TERMINATED BY ','\n",
    "LOCATION '{}'\n",
    "TBLPROPERTIES ('skip.header.line.count'='1')\n",
    "\"\"\".format(\n",
    "    database_name, temp_table, s3_private_path_cleandata\n",
    ")\n",
    "\n",
    "pd.read_sql(statement, conn)"
   ]
  },
  {
   "cell_type": "code",
   "execution_count": 237,
   "id": "3887cc49-19b4-43ee-bfb5-5780d3f997ad",
   "metadata": {
    "tags": []
   },
   "outputs": [
    {
     "name": "stdout",
     "output_type": "stream",
     "text": [
      "start: 2024-03-31T02:31:20Z\n",
      "\n",
      "end: 2024-03-31T02:31:25Z\n",
      "\n"
     ]
    }
   ],
   "source": [
    "# map df_combined/ cleandata with uscities by city\n",
    "temp_table = \"temp_table_city\"\n",
    "import time\n",
    "from datetime import datetime\n",
    "from time import strftime\n",
    "timestamp = datetime.now().strftime(\"%Y-%m-%dT%H:%M:%SZ\")\n",
    "print(f\"start: {timestamp}\\n\")\n",
    "\n",
    "statement = \"\"\"\n",
    "CREATE TABLE IF NOT EXISTS {}.{} AS (\n",
    "SELECT DISTINCT \n",
    "    t.source, \n",
    "    t.clean_text, \n",
    "    t.clean_location, \n",
    "    t.candidatepoll, \n",
    "    t.SentimentOutcome, \n",
    "    u.state_id\n",
    "    FROM  dbpoliticpulsecomment.temp_table t\n",
    "    LEFT JOIN dbpoliticpulsecomment.uscities u\n",
    "        ON lower(t.clean_location) = lower(u.city)\n",
    "    where state_id <> ''\n",
    ")\n",
    "\"\"\".format(database_name, temp_table)\n",
    "pd.read_sql(statement, conn)\n",
    "\n",
    "timestamp = datetime.now().strftime(\"%Y-%m-%dT%H:%M:%SZ\")\n",
    "print(f\"end: {timestamp}\\n\")"
   ]
  },
  {
   "cell_type": "code",
   "execution_count": 238,
   "id": "d4ca32b5-2eb6-4ee4-9436-564471413d1c",
   "metadata": {
    "tags": []
   },
   "outputs": [
    {
     "name": "stdout",
     "output_type": "stream",
     "text": [
      "start: 2024-03-31T02:31:25Z\n",
      "\n",
      "end: 2024-03-31T02:31:41Z\n",
      "\n"
     ]
    }
   ],
   "source": [
    "# map df_combined/ cleandata with uscities by statename\n",
    "temp_table = \"temp_table_statename\"\n",
    "import time\n",
    "from datetime import datetime\n",
    "from time import strftime\n",
    "timestamp = datetime.now().strftime(\"%Y-%m-%dT%H:%M:%SZ\")\n",
    "print(f\"start: {timestamp}\\n\")\n",
    "\n",
    "statement = \"\"\"\n",
    "CREATE TABLE IF NOT EXISTS {}.{} AS (\n",
    "SELECT DISTINCT \n",
    "    t.source, \n",
    "    t.clean_text, \n",
    "    t.clean_location, \n",
    "    t.candidatepoll, \n",
    "    t.SentimentOutcome, \n",
    "    u.state_id\n",
    "    FROM  dbpoliticpulsecomment.temp_table t\n",
    "    LEFT JOIN dbpoliticpulsecomment.uscities u\n",
    "        ON lower(t.clean_location) = lower(u.state_name)\n",
    "    where state_id <> ''\n",
    ")\n",
    "\"\"\".format(database_name, temp_table)\n",
    "pd.read_sql(statement, conn)\n",
    "\n",
    "timestamp = datetime.now().strftime(\"%Y-%m-%dT%H:%M:%SZ\")\n",
    "print(f\"end: {timestamp}\\n\")"
   ]
  },
  {
   "cell_type": "code",
   "execution_count": 239,
   "id": "9366df17-d9ec-43b2-96cf-77fa14457e53",
   "metadata": {
    "tags": []
   },
   "outputs": [
    {
     "name": "stdout",
     "output_type": "stream",
     "text": [
      "start: 2024-03-31T02:31:41Z\n",
      "\n",
      "end: 2024-03-31T02:31:52Z\n",
      "\n"
     ]
    }
   ],
   "source": [
    "# map df_combined/ cleandata with uscities by stateid\n",
    "temp_table = \"temp_table_stateid\"\n",
    "import time\n",
    "from datetime import datetime\n",
    "from time import strftime\n",
    "timestamp = datetime.now().strftime(\"%Y-%m-%dT%H:%M:%SZ\")\n",
    "print(f\"start: {timestamp}\\n\")\n",
    "\n",
    "statement = \"\"\"\n",
    "CREATE TABLE IF NOT EXISTS {}.{} AS (\n",
    "SELECT DISTINCT \n",
    "    t.source, \n",
    "    t.clean_text, \n",
    "    t.clean_location, \n",
    "    t.candidatepoll, \n",
    "    t.SentimentOutcome, \n",
    "    u.state_id\n",
    "    FROM  dbpoliticpulsecomment.temp_table t\n",
    "    LEFT JOIN dbpoliticpulsecomment.uscities u\n",
    "        ON lower(t.clean_location) = lower(u.state_id)\n",
    "    where state_id <> ''\n",
    ")\n",
    "\"\"\".format(database_name, temp_table)\n",
    "pd.read_sql(statement, conn)\n",
    "\n",
    "timestamp = datetime.now().strftime(\"%Y-%m-%dT%H:%M:%SZ\")\n",
    "print(f\"end: {timestamp}\\n\")"
   ]
  },
  {
   "cell_type": "code",
   "execution_count": 240,
   "id": "fdb53375-29bb-45e1-aa6d-9a5de7cbc444",
   "metadata": {
    "tags": []
   },
   "outputs": [
    {
     "name": "stdout",
     "output_type": "stream",
     "text": [
      "start: 2024-03-31T02:31:52Z\n",
      "\n",
      "end: 2024-03-31T02:31:53Z\n",
      "\n"
     ]
    }
   ],
   "source": [
    "# Create a combine of temp_table_state_id, _statename, _city\n",
    "table_name = \"cleandata\"\n",
    "import time\n",
    "from datetime import datetime\n",
    "from time import strftime\n",
    "timestamp = datetime.now().strftime(\"%Y-%m-%dT%H:%M:%SZ\")\n",
    "print(f\"start: {timestamp}\\n\")\n",
    "\n",
    "statement = \"\"\"\n",
    "CREATE TABLE IF NOT EXISTS {}.{} AS (\n",
    "SELECT DISTINCT \n",
    "    source, \n",
    "    clean_text, \n",
    "    clean_location, \n",
    "    candidatepoll, \n",
    "    SentimentOutcome, \n",
    "    state_id\n",
    "    FROM  dbpoliticpulsecomment.temp_table_stateid\n",
    "UNION\n",
    "SELECT DISTINCT \n",
    "    source, \n",
    "    clean_text, \n",
    "    clean_location, \n",
    "    candidatepoll, \n",
    "    SentimentOutcome, \n",
    "    state_id\n",
    "    FROM  dbpoliticpulsecomment.temp_table_city\n",
    "UNION\n",
    "SELECT DISTINCT \n",
    "    source, \n",
    "    clean_text, \n",
    "    clean_location, \n",
    "    candidatepoll, \n",
    "    SentimentOutcome, \n",
    "    state_id\n",
    "    FROM  dbpoliticpulsecomment.temp_table_statename\n",
    ")\n",
    "\"\"\".format(database_name, table_name)\n",
    "pd.read_sql(statement, conn)\n",
    "timestamp = datetime.now().strftime(\"%Y-%m-%dT%H:%M:%SZ\")\n",
    "print(f\"end: {timestamp}\\n\")"
   ]
  },
  {
   "cell_type": "code",
   "execution_count": 241,
   "id": "2e8f8e0c-7861-44f7-b8a6-83e7245484ad",
   "metadata": {
    "tags": []
   },
   "outputs": [],
   "source": [
    "# Drop all unused tables from Athena\n",
    "drop_table_names = [\"temp_table\", \"temp_table_statename\", \"temp_table_stateid\", \"temp_table_city\"]\n",
    "\n",
    "for table_name in drop_table_names:\n",
    "    table_name = table_name\n",
    "\n",
    "    statement = \"\"\"\n",
    "    DROP TABLE {}.{}\n",
    "    \"\"\".format(database_name, table_name)\n",
    "    \n",
    "    pd.read_sql(statement, conn)"
   ]
  },
  {
   "cell_type": "code",
   "execution_count": 242,
   "id": "eb4d8ed8-db2f-4ac0-a48f-e0c4c8b3e827",
   "metadata": {
    "tags": []
   },
   "outputs": [
    {
     "data": {
      "text/html": [
       "<div>\n",
       "<style scoped>\n",
       "    .dataframe tbody tr th:only-of-type {\n",
       "        vertical-align: middle;\n",
       "    }\n",
       "\n",
       "    .dataframe tbody tr th {\n",
       "        vertical-align: top;\n",
       "    }\n",
       "\n",
       "    .dataframe thead th {\n",
       "        text-align: right;\n",
       "    }\n",
       "</style>\n",
       "<table border=\"1\" class=\"dataframe\">\n",
       "  <thead>\n",
       "    <tr style=\"text-align: right;\">\n",
       "      <th></th>\n",
       "      <th>source</th>\n",
       "      <th>clean_text</th>\n",
       "      <th>clean_location</th>\n",
       "      <th>candidatepoll</th>\n",
       "      <th>sentimentoutcome</th>\n",
       "      <th>state_id</th>\n",
       "    </tr>\n",
       "  </thead>\n",
       "  <tbody>\n",
       "    <tr>\n",
       "      <th>0</th>\n",
       "      <td>tweet</td>\n",
       "      <td>From the guy who brought you Yub Nub I give yo...</td>\n",
       "      <td>LA</td>\n",
       "      <td>Biden</td>\n",
       "      <td>Biden_posi</td>\n",
       "      <td>LA</td>\n",
       "    </tr>\n",
       "    <tr>\n",
       "      <th>1</th>\n",
       "      <td>tweet</td>\n",
       "      <td>Congratulations to President Elect Joe Biden J...</td>\n",
       "      <td>NJ</td>\n",
       "      <td>Biden</td>\n",
       "      <td>Biden_posi</td>\n",
       "      <td>NJ</td>\n",
       "    </tr>\n",
       "    <tr>\n",
       "      <th>2</th>\n",
       "      <td>tweet</td>\n",
       "      <td>WE DID IT WE DID ITTTTTT HE WON IM SO HAPPY WE...</td>\n",
       "      <td>MI</td>\n",
       "      <td>Biden</td>\n",
       "      <td>Biden_posi</td>\n",
       "      <td>MI</td>\n",
       "    </tr>\n",
       "    <tr>\n",
       "      <th>3</th>\n",
       "      <td>tweet</td>\n",
       "      <td>Can I buy shares in Herbal Essence It must sme...</td>\n",
       "      <td>UK</td>\n",
       "      <td>Biden</td>\n",
       "      <td>Biden_posi</td>\n",
       "      <td>UK</td>\n",
       "    </tr>\n",
       "    <tr>\n",
       "      <th>4</th>\n",
       "      <td>nyt_comment</td>\n",
       "      <td>I believe that Biden is pragmatic and a funda...</td>\n",
       "      <td>NY</td>\n",
       "      <td>Biden</td>\n",
       "      <td>Biden_posi</td>\n",
       "      <td>NY</td>\n",
       "    </tr>\n",
       "  </tbody>\n",
       "</table>\n",
       "</div>"
      ],
      "text/plain": [
       "        source                                         clean_text  \\\n",
       "0        tweet  From the guy who brought you Yub Nub I give yo...   \n",
       "1        tweet  Congratulations to President Elect Joe Biden J...   \n",
       "2        tweet  WE DID IT WE DID ITTTTTT HE WON IM SO HAPPY WE...   \n",
       "3        tweet  Can I buy shares in Herbal Essence It must sme...   \n",
       "4  nyt_comment   I believe that Biden is pragmatic and a funda...   \n",
       "\n",
       "  clean_location candidatepoll sentimentoutcome state_id  \n",
       "0             LA         Biden       Biden_posi       LA  \n",
       "1             NJ         Biden       Biden_posi       NJ  \n",
       "2             MI         Biden       Biden_posi       MI  \n",
       "3             UK         Biden       Biden_posi       UK  \n",
       "4             NY         Biden       Biden_posi       NY  "
      ]
     },
     "execution_count": 242,
     "metadata": {},
     "output_type": "execute_result"
    }
   ],
   "source": [
    "#==> SHOULD CREATE ANOTHER PARQUET OR READING FROM THIS? \n",
    "table_name = \"cleandata\"\n",
    "statement = \"\"\"SELECT * FROM {}.{}\"\"\".format(\n",
    "    database_name, table_name\n",
    ")\n",
    "df_combined_clean = pd.read_sql(statement, conn)\n",
    "df_combined_clean.head(5)"
   ]
  },
  {
   "cell_type": "code",
   "execution_count": 243,
   "id": "8a01d3f5-67b0-4464-9a89-5592907eb9c2",
   "metadata": {
    "tags": []
   },
   "outputs": [
    {
     "data": {
      "text/plain": [
       "(330266, 6)"
      ]
     },
     "execution_count": 243,
     "metadata": {},
     "output_type": "execute_result"
    }
   ],
   "source": [
    "df_combined_clean.shape"
   ]
  },
  {
   "cell_type": "markdown",
   "id": "98258a41-a25c-46eb-b0a2-90bf9df379b8",
   "metadata": {},
   "source": [
    "# Examine State IDs by Outcome"
   ]
  },
  {
   "cell_type": "code",
   "execution_count": 244,
   "id": "539929ea-ea45-4e0f-ac6c-9cedc27d746c",
   "metadata": {
    "tags": []
   },
   "outputs": [],
   "source": [
    "df_final = df_combined_clean[['clean_text', 'state_id', 'sentimentoutcome']]"
   ]
  },
  {
   "cell_type": "code",
   "execution_count": 245,
   "id": "fd7d7e14-cd85-4d5b-9a5a-1379b2bae87f",
   "metadata": {
    "tags": []
   },
   "outputs": [
    {
     "data": {
      "text/plain": [
       "NY    60211\n",
       "CA    48063\n",
       "TX    16138\n",
       "FL    14830\n",
       "NJ    13216\n",
       "MA    13130\n",
       "WA    13092\n",
       "IL    12606\n",
       "PA    12159\n",
       "OH     8687\n",
       "NC     7531\n",
       "CO     7201\n",
       "OR     6395\n",
       "MI     6140\n",
       "VA     6119\n",
       "MD     5933\n",
       "AZ     5780\n",
       "CT     5757\n",
       "GA     5621\n",
       "MN     5001\n",
       "WI     4910\n",
       "UK     4012\n",
       "MO     3592\n",
       "WY     3095\n",
       "NM     2942\n",
       "LA     2546\n",
       "NH     2450\n",
       "IA     2366\n",
       "ME     2340\n",
       "NV     2297\n",
       "SC     2246\n",
       "IN     2143\n",
       "VT     2015\n",
       "TN     1999\n",
       "RI     1811\n",
       "ND     1809\n",
       "AL     1460\n",
       "KS     1415\n",
       "OK     1304\n",
       "KY     1194\n",
       "ID     1066\n",
       "UT      986\n",
       "MT      963\n",
       "AR      933\n",
       "HI      911\n",
       "AK      760\n",
       "MS      730\n",
       "NE      728\n",
       "DE      538\n",
       "SD      501\n",
       "WV      294\n",
       "PR      164\n",
       "BC      136\n",
       "Name: state_id, dtype: int64"
      ]
     },
     "execution_count": 245,
     "metadata": {},
     "output_type": "execute_result"
    }
   ],
   "source": [
    "df_final['state_id'].value_counts()"
   ]
  },
  {
   "cell_type": "code",
   "execution_count": 246,
   "id": "1d53367b-6e65-4987-8cc7-8d5f9e674d7f",
   "metadata": {
    "tags": []
   },
   "outputs": [
    {
     "name": "stdout",
     "output_type": "stream",
     "text": [
      "sentimentoutcome  Biden_nega  Biden_neut  Biden_posi  Trump_nega  Trump_neut  \\\n",
      "state_id                                                                       \n",
      "CA                      1217        2303        3312       11077       12563   \n",
      "FL                       424         784        1183        3368        3611   \n",
      "NJ                       343         545         845        3191        3347   \n",
      "NY                      1811        3065        4834       13082       15524   \n",
      "TX                       515        1447        1266        3157        4666   \n",
      "\n",
      "sentimentoutcome  Trump_posi  \n",
      "state_id                      \n",
      "CA                     17591  \n",
      "FL                      5460  \n",
      "NJ                      4945  \n",
      "NY                     21895  \n",
      "TX                      5087  \n"
     ]
    }
   ],
   "source": [
    "# Step 1: Filter the DataFrame for the top 10 states\n",
    "top_5_states = df_final['state_id'].value_counts().head(5).index\n",
    "filtered_df = df_final[df_final['state_id'].isin(top_5_states)]\n",
    "\n",
    "# Step 2: Create a cross-tabulation (crosstab) with 'state_id' and 'sentimentoutcome'\n",
    "cross_tab = pd.crosstab(filtered_df['state_id'], filtered_df['sentimentoutcome'])\n",
    "\n",
    "# Display the cross-tabulation\n",
    "print(cross_tab)"
   ]
  },
  {
   "cell_type": "code",
   "execution_count": 247,
   "id": "f11048e6-07b2-473b-b05b-119613469fc8",
   "metadata": {
    "tags": []
   },
   "outputs": [
    {
     "data": {
      "text/html": [
       "<div>\n",
       "<style scoped>\n",
       "    .dataframe tbody tr th:only-of-type {\n",
       "        vertical-align: middle;\n",
       "    }\n",
       "\n",
       "    .dataframe tbody tr th {\n",
       "        vertical-align: top;\n",
       "    }\n",
       "\n",
       "    .dataframe thead th {\n",
       "        text-align: right;\n",
       "    }\n",
       "</style>\n",
       "<table border=\"1\" class=\"dataframe\">\n",
       "  <thead>\n",
       "    <tr style=\"text-align: right;\">\n",
       "      <th></th>\n",
       "      <th>clean_text</th>\n",
       "      <th>state_id</th>\n",
       "      <th>sentimentoutcome</th>\n",
       "    </tr>\n",
       "  </thead>\n",
       "  <tbody>\n",
       "    <tr>\n",
       "      <th>0</th>\n",
       "      <td>From the guy who brought you Yub Nub I give yo...</td>\n",
       "      <td>LA</td>\n",
       "      <td>Biden_posi</td>\n",
       "    </tr>\n",
       "    <tr>\n",
       "      <th>1</th>\n",
       "      <td>Congratulations to President Elect Joe Biden J...</td>\n",
       "      <td>NJ</td>\n",
       "      <td>Biden_posi</td>\n",
       "    </tr>\n",
       "    <tr>\n",
       "      <th>2</th>\n",
       "      <td>WE DID IT WE DID ITTTTTT HE WON IM SO HAPPY WE...</td>\n",
       "      <td>MI</td>\n",
       "      <td>Biden_posi</td>\n",
       "    </tr>\n",
       "    <tr>\n",
       "      <th>3</th>\n",
       "      <td>Can I buy shares in Herbal Essence It must sme...</td>\n",
       "      <td>UK</td>\n",
       "      <td>Biden_posi</td>\n",
       "    </tr>\n",
       "    <tr>\n",
       "      <th>4</th>\n",
       "      <td>I believe that Biden is pragmatic and a funda...</td>\n",
       "      <td>NY</td>\n",
       "      <td>Biden_posi</td>\n",
       "    </tr>\n",
       "  </tbody>\n",
       "</table>\n",
       "</div>"
      ],
      "text/plain": [
       "                                          clean_text state_id sentimentoutcome\n",
       "0  From the guy who brought you Yub Nub I give yo...       LA       Biden_posi\n",
       "1  Congratulations to President Elect Joe Biden J...       NJ       Biden_posi\n",
       "2  WE DID IT WE DID ITTTTTT HE WON IM SO HAPPY WE...       MI       Biden_posi\n",
       "3  Can I buy shares in Herbal Essence It must sme...       UK       Biden_posi\n",
       "4   I believe that Biden is pragmatic and a funda...       NY       Biden_posi"
      ]
     },
     "execution_count": 247,
     "metadata": {},
     "output_type": "execute_result"
    }
   ],
   "source": [
    "df_final.head()"
   ]
  },
  {
   "cell_type": "markdown",
   "id": "f729516d-f171-46ca-a061-b9f6ba020efd",
   "metadata": {},
   "source": [
    "# Upload Final Data to S3"
   ]
  },
  {
   "cell_type": "code",
   "execution_count": 248,
   "id": "0492cc0a-9011-444e-81d3-38ccd197b556",
   "metadata": {
    "tags": []
   },
   "outputs": [],
   "source": [
    "# Specify the S3 bucket name\n",
    "prefix = \"ADS508_project/cleandata/\"\n",
    "\n",
    "# List of corresponding file names\n",
    "file_name = \"final_data.csv\"\n",
    "\n",
    "# Create an S3 client\n",
    "s3 = boto3.client('s3')\n",
    "\n",
    "df_final.to_csv(file_name, index=False)\n",
    "s3.upload_file(file_name, bucket, prefix + file_name)"
   ]
  },
  {
   "cell_type": "code",
   "execution_count": null,
   "id": "6236b793-9419-4e37-8b79-70284e4718b7",
   "metadata": {},
   "outputs": [],
   "source": []
  },
  {
   "cell_type": "markdown",
   "id": "b47e0c10-4188-4cfa-87ed-ddad6a5cdb59",
   "metadata": {},
   "source": [
    "---> USING PYTHON AND TOOK FOREVER"
   ]
  },
  {
   "cell_type": "code",
   "execution_count": 93,
   "id": "c4b032b1-8cbe-4c6a-9575-90c61c612c39",
   "metadata": {
    "tags": []
   },
   "outputs": [],
   "source": [
    "# Read csv US City from S3 ---> PLANNING TO MOVE IT IN .py AND USE PREPROCESSING JOB FROM SAGEMAKER\n",
    "#git_city_loc = \"https://raw.githubusercontent.com/HNStaggs/ADS508_GroupProject/main/uscities.csv\"\n",
    "#df_city = pd.read_csv(git_city_loc)\n",
    "\n",
    "#df_parquet_results_trump['clean_location'].head(15000)\n",
    "#df_parquet_results_trump1 = df_parquet_results_trump.head(100)\n",
    "#df_parquet_results_trump1.head(10)"
   ]
  },
  {
   "cell_type": "code",
   "execution_count": 94,
   "id": "d6a6a12d-f3ee-4e6c-9eb4-900447fbb259",
   "metadata": {
    "tags": []
   },
   "outputs": [],
   "source": [
    "# PREFER TO RUN IT IN .py with SageMaker processing job\n",
    "# TRY IT WITH 10000 RECORD took FOREVER\n",
    "\n",
    "#import time\n",
    "#from datetime import datetime\n",
    "#from time import strftime\n",
    "#timestamp = datetime.now().strftime(\"%Y-%m-%dT%H:%M:%SZ\")\n",
    "#print(f\"start: {timestamp}\\n\")\n",
    "\n",
    "# Create master location table\n",
    "#git_city_loc = \"https://raw.githubusercontent.com/HNStaggs/ADS508_GroupProject/main/uscities.csv\"\n",
    "#df_city = pd.read_csv(git_city_loc)\n",
    "#master_location = df_city\n",
    "\n",
    "# Function to map city and state name to state ID\n",
    "#def map_state_id(city):\n",
    "#    for index, loc in master_location.iterrows():\n",
    "#        if city.lower() == loc['city'].lower() or city.lower() == loc['state_name'].lower():\n",
    "#            return loc['state_id']\n",
    "#    return None\n",
    "\n",
    "# Apply mapping function to user location table\n",
    "#df_parquet_results_trump1['final_location'] = df_parquet_results_trump1['clean_location'].apply(map_state_id)  # Use clean location data from primary cleaning step\n",
    "\n",
    "# Display the user location table with State ID column added\n",
    "#timestamp = datetime.now().strftime(\"%Y-%m-%dT%H:%M:%SZ\")\n",
    "\n",
    "#print(f\"end: {timestamp}\\n\")\n"
   ]
  },
  {
   "cell_type": "code",
   "execution_count": 95,
   "id": "17eefe85-292d-47ac-a8fa-ff66688e34f7",
   "metadata": {
    "tags": []
   },
   "outputs": [],
   "source": [
    "#df_parquet_results_trump1.shape"
   ]
  },
  {
   "cell_type": "code",
   "execution_count": 96,
   "id": "1567296d-4225-426c-8b00-7994c19b5a04",
   "metadata": {},
   "outputs": [],
   "source": [
    "### working progress.. still need to check##\n",
    "#from sagemaker.processing import ScriptProcessor\n",
    "\n",
    "# Create a ScriptProcessor object\n",
    "#script_processor = ScriptProcessor(base_job_name='data-processing',\n",
    "#                                   image_uri=None,\n",
    "#                                   command=['python3'],\n",
    "#                                   instance_count=1,\n",
    "#                                   instance_type='ml.m5.xlarge',\n",
    "#                                   role=role)\n",
    "\n",
    "# Specify the entry script\n",
    "#entry_script = 's3://sagemaker-us-west-2-471112815505/ADS508_project/script/process_loc.py'\n",
    "\n",
    "# Run the processing job\n",
    "#script_processor.run(code=entry_script)\n"
   ]
  },
  {
   "cell_type": "code",
   "execution_count": 97,
   "id": "19b83ffc-a653-46fb-893d-cf0be75bfafc",
   "metadata": {
    "tags": []
   },
   "outputs": [],
   "source": [
    "# Data Vis\n",
    "# # creat colored maps by state based on sentiment"
   ]
  },
  {
   "cell_type": "code",
   "execution_count": 98,
   "id": "0c08574e-b16b-49ed-ae5b-ba8093d2b114",
   "metadata": {},
   "outputs": [],
   "source": [
    "# Determime sample size from each state"
   ]
  },
  {
   "cell_type": "code",
   "execution_count": 99,
   "id": "6914a545-71c8-4aee-9660-0ce7ad36e25d",
   "metadata": {},
   "outputs": [],
   "source": [
    "# Determine portion of Trump/Biden for each state"
   ]
  },
  {
   "cell_type": "markdown",
   "id": "51555eeb-fa23-4cf0-af8c-9f3759e36a3a",
   "metadata": {},
   "source": [
    "# Load Final Data from S3 Bucket for Modeling"
   ]
  },
  {
   "cell_type": "code",
   "execution_count": 131,
   "id": "6ee90830-3b4f-4608-b5a0-2dad7d9b6973",
   "metadata": {
    "tags": []
   },
   "outputs": [
    {
     "data": {
      "text/html": [
       "<div>\n",
       "<style scoped>\n",
       "    .dataframe tbody tr th:only-of-type {\n",
       "        vertical-align: middle;\n",
       "    }\n",
       "\n",
       "    .dataframe tbody tr th {\n",
       "        vertical-align: top;\n",
       "    }\n",
       "\n",
       "    .dataframe thead th {\n",
       "        text-align: right;\n",
       "    }\n",
       "</style>\n",
       "<table border=\"1\" class=\"dataframe\">\n",
       "  <thead>\n",
       "    <tr style=\"text-align: right;\">\n",
       "      <th></th>\n",
       "      <th>clean_text</th>\n",
       "      <th>state_id</th>\n",
       "      <th>sentimentoutcome</th>\n",
       "    </tr>\n",
       "  </thead>\n",
       "  <tbody>\n",
       "    <tr>\n",
       "      <th>0</th>\n",
       "      <td>From the guy who brought you Yub Nub I give yo...</td>\n",
       "      <td>LA</td>\n",
       "      <td>Biden_posi</td>\n",
       "    </tr>\n",
       "    <tr>\n",
       "      <th>1</th>\n",
       "      <td>Congratulations to President Elect Joe Biden J...</td>\n",
       "      <td>NJ</td>\n",
       "      <td>Biden_posi</td>\n",
       "    </tr>\n",
       "    <tr>\n",
       "      <th>2</th>\n",
       "      <td>WE DID IT WE DID ITTTTTT HE WON IM SO HAPPY WE...</td>\n",
       "      <td>MI</td>\n",
       "      <td>Biden_posi</td>\n",
       "    </tr>\n",
       "    <tr>\n",
       "      <th>3</th>\n",
       "      <td>Can I buy shares in Herbal Essence It must sme...</td>\n",
       "      <td>UK</td>\n",
       "      <td>Biden_posi</td>\n",
       "    </tr>\n",
       "    <tr>\n",
       "      <th>4</th>\n",
       "      <td>I believe that Biden is pragmatic and a funda...</td>\n",
       "      <td>NY</td>\n",
       "      <td>Biden_posi</td>\n",
       "    </tr>\n",
       "  </tbody>\n",
       "</table>\n",
       "</div>"
      ],
      "text/plain": [
       "                                          clean_text state_id sentimentoutcome\n",
       "0  From the guy who brought you Yub Nub I give yo...       LA       Biden_posi\n",
       "1  Congratulations to President Elect Joe Biden J...       NJ       Biden_posi\n",
       "2  WE DID IT WE DID ITTTTTT HE WON IM SO HAPPY WE...       MI       Biden_posi\n",
       "3  Can I buy shares in Herbal Essence It must sme...       UK       Biden_posi\n",
       "4   I believe that Biden is pragmatic and a funda...       NY       Biden_posi"
      ]
     },
     "execution_count": 131,
     "metadata": {},
     "output_type": "execute_result"
    }
   ],
   "source": [
    "# Specify the S3 bucket name and file path\n",
    "bucket_name = bucket\n",
    "file_path = 'ADS508_project/cleandata/final_data.csv'\n",
    "\n",
    "# Read CSV file from S3 bucket into DataFrame\n",
    "df_final = pd.read_csv(f's3://{bucket_name}/{file_path}')\n",
    "\n",
    "df_final.head()"
   ]
  },
  {
   "cell_type": "code",
   "execution_count": 250,
   "id": "4a4865af-17d4-4add-a91c-2dbbdcf3e36f",
   "metadata": {
    "tags": []
   },
   "outputs": [
    {
     "data": {
      "text/plain": [
       "(330266, 3)"
      ]
     },
     "execution_count": 250,
     "metadata": {},
     "output_type": "execute_result"
    }
   ],
   "source": [
    "df_final.shape"
   ]
  },
  {
   "cell_type": "code",
   "execution_count": 132,
   "id": "ae2ec284-0080-4940-8989-39970535ac51",
   "metadata": {
    "tags": []
   },
   "outputs": [
    {
     "data": {
      "text/html": [
       "<div>\n",
       "<style scoped>\n",
       "    .dataframe tbody tr th:only-of-type {\n",
       "        vertical-align: middle;\n",
       "    }\n",
       "\n",
       "    .dataframe tbody tr th {\n",
       "        vertical-align: top;\n",
       "    }\n",
       "\n",
       "    .dataframe thead th {\n",
       "        text-align: right;\n",
       "    }\n",
       "</style>\n",
       "<table border=\"1\" class=\"dataframe\">\n",
       "  <thead>\n",
       "    <tr style=\"text-align: right;\">\n",
       "      <th></th>\n",
       "      <th>clean_text</th>\n",
       "      <th>state_id</th>\n",
       "      <th>sentimentoutcome</th>\n",
       "    </tr>\n",
       "  </thead>\n",
       "  <tbody>\n",
       "    <tr>\n",
       "      <th>0</th>\n",
       "      <td>From the guy who brought you Yub Nub I give yo...</td>\n",
       "      <td>LA</td>\n",
       "      <td>Biden_posi</td>\n",
       "    </tr>\n",
       "    <tr>\n",
       "      <th>1</th>\n",
       "      <td>Congratulations to President Elect Joe Biden J...</td>\n",
       "      <td>NJ</td>\n",
       "      <td>Biden_posi</td>\n",
       "    </tr>\n",
       "    <tr>\n",
       "      <th>2</th>\n",
       "      <td>WE DID IT WE DID ITTTTTT HE WON IM SO HAPPY WE...</td>\n",
       "      <td>MI</td>\n",
       "      <td>Biden_posi</td>\n",
       "    </tr>\n",
       "    <tr>\n",
       "      <th>3</th>\n",
       "      <td>Can I buy shares in Herbal Essence It must sme...</td>\n",
       "      <td>UK</td>\n",
       "      <td>Biden_posi</td>\n",
       "    </tr>\n",
       "    <tr>\n",
       "      <th>4</th>\n",
       "      <td>I believe that Biden is pragmatic and a funda...</td>\n",
       "      <td>NY</td>\n",
       "      <td>Biden_posi</td>\n",
       "    </tr>\n",
       "    <tr>\n",
       "      <th>...</th>\n",
       "      <td>...</td>\n",
       "      <td>...</td>\n",
       "      <td>...</td>\n",
       "    </tr>\n",
       "    <tr>\n",
       "      <th>330261</th>\n",
       "      <td>Another step to the dictator title for god tr...</td>\n",
       "      <td>WY</td>\n",
       "      <td>Trump_posi</td>\n",
       "    </tr>\n",
       "    <tr>\n",
       "      <th>330262</th>\n",
       "      <td>Couldn t agree with Trump more Let s start by...</td>\n",
       "      <td>CA</td>\n",
       "      <td>Trump_posi</td>\n",
       "    </tr>\n",
       "    <tr>\n",
       "      <th>330263</th>\n",
       "      <td>Mark Miller Trump s most committed backers se...</td>\n",
       "      <td>NY</td>\n",
       "      <td>Trump_posi</td>\n",
       "    </tr>\n",
       "    <tr>\n",
       "      <th>330264</th>\n",
       "      <td>Trump is setting up the conditions for an ove...</td>\n",
       "      <td>TN</td>\n",
       "      <td>Trump_neut</td>\n",
       "    </tr>\n",
       "    <tr>\n",
       "      <th>330265</th>\n",
       "      <td>I don t believe any of this It is all a ruse B...</td>\n",
       "      <td>FL</td>\n",
       "      <td>Trump_posi</td>\n",
       "    </tr>\n",
       "  </tbody>\n",
       "</table>\n",
       "<p>330266 rows × 3 columns</p>\n",
       "</div>"
      ],
      "text/plain": [
       "                                               clean_text state_id  \\\n",
       "0       From the guy who brought you Yub Nub I give yo...       LA   \n",
       "1       Congratulations to President Elect Joe Biden J...       NJ   \n",
       "2       WE DID IT WE DID ITTTTTT HE WON IM SO HAPPY WE...       MI   \n",
       "3       Can I buy shares in Herbal Essence It must sme...       UK   \n",
       "4        I believe that Biden is pragmatic and a funda...       NY   \n",
       "...                                                   ...      ...   \n",
       "330261   Another step to the dictator title for god tr...       WY   \n",
       "330262   Couldn t agree with Trump more Let s start by...       CA   \n",
       "330263   Mark Miller Trump s most committed backers se...       NY   \n",
       "330264   Trump is setting up the conditions for an ove...       TN   \n",
       "330265  I don t believe any of this It is all a ruse B...       FL   \n",
       "\n",
       "       sentimentoutcome  \n",
       "0            Biden_posi  \n",
       "1            Biden_posi  \n",
       "2            Biden_posi  \n",
       "3            Biden_posi  \n",
       "4            Biden_posi  \n",
       "...                 ...  \n",
       "330261       Trump_posi  \n",
       "330262       Trump_posi  \n",
       "330263       Trump_posi  \n",
       "330264       Trump_neut  \n",
       "330265       Trump_posi  \n",
       "\n",
       "[330266 rows x 3 columns]"
      ]
     },
     "execution_count": 132,
     "metadata": {},
     "output_type": "execute_result"
    }
   ],
   "source": [
    "df_final"
   ]
  },
  {
   "cell_type": "code",
   "execution_count": 252,
   "id": "ef134c9d-2b4c-4716-9b49-a05567d71756",
   "metadata": {
    "tags": []
   },
   "outputs": [
    {
     "data": {
      "text/html": [
       "<div>\n",
       "<style scoped>\n",
       "    .dataframe tbody tr th:only-of-type {\n",
       "        vertical-align: middle;\n",
       "    }\n",
       "\n",
       "    .dataframe tbody tr th {\n",
       "        vertical-align: top;\n",
       "    }\n",
       "\n",
       "    .dataframe thead th {\n",
       "        text-align: right;\n",
       "    }\n",
       "</style>\n",
       "<table border=\"1\" class=\"dataframe\">\n",
       "  <thead>\n",
       "    <tr style=\"text-align: right;\">\n",
       "      <th></th>\n",
       "      <th>clean_text</th>\n",
       "      <th>state_id</th>\n",
       "      <th>sentimentoutcome</th>\n",
       "    </tr>\n",
       "  </thead>\n",
       "  <tbody>\n",
       "    <tr>\n",
       "      <th>0</th>\n",
       "      <td>From the guy who brought you Yub Nub I give yo...</td>\n",
       "      <td>LA</td>\n",
       "      <td>Biden_posi</td>\n",
       "    </tr>\n",
       "    <tr>\n",
       "      <th>1</th>\n",
       "      <td>Congratulations to President Elect Joe Biden J...</td>\n",
       "      <td>NJ</td>\n",
       "      <td>Biden_posi</td>\n",
       "    </tr>\n",
       "    <tr>\n",
       "      <th>2</th>\n",
       "      <td>WE DID IT WE DID ITTTTTT HE WON IM SO HAPPY WE...</td>\n",
       "      <td>MI</td>\n",
       "      <td>Biden_posi</td>\n",
       "    </tr>\n",
       "    <tr>\n",
       "      <th>3</th>\n",
       "      <td>Can I buy shares in Herbal Essence It must sme...</td>\n",
       "      <td>UK</td>\n",
       "      <td>Biden_posi</td>\n",
       "    </tr>\n",
       "    <tr>\n",
       "      <th>4</th>\n",
       "      <td>I believe that Biden is pragmatic and a funda...</td>\n",
       "      <td>NY</td>\n",
       "      <td>Biden_posi</td>\n",
       "    </tr>\n",
       "    <tr>\n",
       "      <th>...</th>\n",
       "      <td>...</td>\n",
       "      <td>...</td>\n",
       "      <td>...</td>\n",
       "    </tr>\n",
       "    <tr>\n",
       "      <th>330261</th>\n",
       "      <td>Another step to the dictator title for god tr...</td>\n",
       "      <td>WY</td>\n",
       "      <td>Trump_posi</td>\n",
       "    </tr>\n",
       "    <tr>\n",
       "      <th>330262</th>\n",
       "      <td>Couldn t agree with Trump more Let s start by...</td>\n",
       "      <td>CA</td>\n",
       "      <td>Trump_posi</td>\n",
       "    </tr>\n",
       "    <tr>\n",
       "      <th>330263</th>\n",
       "      <td>Mark Miller Trump s most committed backers se...</td>\n",
       "      <td>NY</td>\n",
       "      <td>Trump_posi</td>\n",
       "    </tr>\n",
       "    <tr>\n",
       "      <th>330264</th>\n",
       "      <td>Trump is setting up the conditions for an ove...</td>\n",
       "      <td>TN</td>\n",
       "      <td>Trump_neut</td>\n",
       "    </tr>\n",
       "    <tr>\n",
       "      <th>330265</th>\n",
       "      <td>I don t believe any of this It is all a ruse B...</td>\n",
       "      <td>FL</td>\n",
       "      <td>Trump_posi</td>\n",
       "    </tr>\n",
       "  </tbody>\n",
       "</table>\n",
       "<p>330266 rows × 3 columns</p>\n",
       "</div>"
      ],
      "text/plain": [
       "                                               clean_text state_id  \\\n",
       "0       From the guy who brought you Yub Nub I give yo...       LA   \n",
       "1       Congratulations to President Elect Joe Biden J...       NJ   \n",
       "2       WE DID IT WE DID ITTTTTT HE WON IM SO HAPPY WE...       MI   \n",
       "3       Can I buy shares in Herbal Essence It must sme...       UK   \n",
       "4        I believe that Biden is pragmatic and a funda...       NY   \n",
       "...                                                   ...      ...   \n",
       "330261   Another step to the dictator title for god tr...       WY   \n",
       "330262   Couldn t agree with Trump more Let s start by...       CA   \n",
       "330263   Mark Miller Trump s most committed backers se...       NY   \n",
       "330264   Trump is setting up the conditions for an ove...       TN   \n",
       "330265  I don t believe any of this It is all a ruse B...       FL   \n",
       "\n",
       "       sentimentoutcome  \n",
       "0            Biden_posi  \n",
       "1            Biden_posi  \n",
       "2            Biden_posi  \n",
       "3            Biden_posi  \n",
       "4            Biden_posi  \n",
       "...                 ...  \n",
       "330261       Trump_posi  \n",
       "330262       Trump_posi  \n",
       "330263       Trump_posi  \n",
       "330264       Trump_neut  \n",
       "330265       Trump_posi  \n",
       "\n",
       "[330266 rows x 3 columns]"
      ]
     },
     "execution_count": 252,
     "metadata": {},
     "output_type": "execute_result"
    }
   ],
   "source": [
    "df_final"
   ]
  },
  {
   "cell_type": "code",
   "execution_count": 253,
   "id": "083b81db-0e8d-445a-b36d-002cbcf512c2",
   "metadata": {
    "tags": []
   },
   "outputs": [
    {
     "data": {
      "text/html": [
       "<div>\n",
       "<style scoped>\n",
       "    .dataframe tbody tr th:only-of-type {\n",
       "        vertical-align: middle;\n",
       "    }\n",
       "\n",
       "    .dataframe tbody tr th {\n",
       "        vertical-align: top;\n",
       "    }\n",
       "\n",
       "    .dataframe thead th {\n",
       "        text-align: right;\n",
       "    }\n",
       "</style>\n",
       "<table border=\"1\" class=\"dataframe\">\n",
       "  <thead>\n",
       "    <tr style=\"text-align: right;\">\n",
       "      <th></th>\n",
       "      <th>clean_text</th>\n",
       "      <th>state_id</th>\n",
       "      <th>sentimentoutcome</th>\n",
       "    </tr>\n",
       "  </thead>\n",
       "  <tbody>\n",
       "    <tr>\n",
       "      <th>0</th>\n",
       "      <td>From the guy who brought you Yub Nub I give yo...</td>\n",
       "      <td>LA</td>\n",
       "      <td>Biden_posi</td>\n",
       "    </tr>\n",
       "    <tr>\n",
       "      <th>1</th>\n",
       "      <td>Congratulations to President Elect Joe Biden J...</td>\n",
       "      <td>NJ</td>\n",
       "      <td>Biden_posi</td>\n",
       "    </tr>\n",
       "    <tr>\n",
       "      <th>2</th>\n",
       "      <td>WE DID IT WE DID ITTTTTT HE WON IM SO HAPPY WE...</td>\n",
       "      <td>MI</td>\n",
       "      <td>Biden_posi</td>\n",
       "    </tr>\n",
       "    <tr>\n",
       "      <th>3</th>\n",
       "      <td>Can I buy shares in Herbal Essence It must sme...</td>\n",
       "      <td>UK</td>\n",
       "      <td>Biden_posi</td>\n",
       "    </tr>\n",
       "    <tr>\n",
       "      <th>4</th>\n",
       "      <td>I believe that Biden is pragmatic and a funda...</td>\n",
       "      <td>NY</td>\n",
       "      <td>Biden_posi</td>\n",
       "    </tr>\n",
       "    <tr>\n",
       "      <th>...</th>\n",
       "      <td>...</td>\n",
       "      <td>...</td>\n",
       "      <td>...</td>\n",
       "    </tr>\n",
       "    <tr>\n",
       "      <th>330261</th>\n",
       "      <td>Another step to the dictator title for god tr...</td>\n",
       "      <td>WY</td>\n",
       "      <td>Trump_posi</td>\n",
       "    </tr>\n",
       "    <tr>\n",
       "      <th>330262</th>\n",
       "      <td>Couldn t agree with Trump more Let s start by...</td>\n",
       "      <td>CA</td>\n",
       "      <td>Trump_posi</td>\n",
       "    </tr>\n",
       "    <tr>\n",
       "      <th>330263</th>\n",
       "      <td>Mark Miller Trump s most committed backers se...</td>\n",
       "      <td>NY</td>\n",
       "      <td>Trump_posi</td>\n",
       "    </tr>\n",
       "    <tr>\n",
       "      <th>330264</th>\n",
       "      <td>Trump is setting up the conditions for an ove...</td>\n",
       "      <td>TN</td>\n",
       "      <td>Trump_neut</td>\n",
       "    </tr>\n",
       "    <tr>\n",
       "      <th>330265</th>\n",
       "      <td>I don t believe any of this It is all a ruse B...</td>\n",
       "      <td>FL</td>\n",
       "      <td>Trump_posi</td>\n",
       "    </tr>\n",
       "  </tbody>\n",
       "</table>\n",
       "<p>330266 rows × 3 columns</p>\n",
       "</div>"
      ],
      "text/plain": [
       "                                               clean_text state_id  \\\n",
       "0       From the guy who brought you Yub Nub I give yo...       LA   \n",
       "1       Congratulations to President Elect Joe Biden J...       NJ   \n",
       "2       WE DID IT WE DID ITTTTTT HE WON IM SO HAPPY WE...       MI   \n",
       "3       Can I buy shares in Herbal Essence It must sme...       UK   \n",
       "4        I believe that Biden is pragmatic and a funda...       NY   \n",
       "...                                                   ...      ...   \n",
       "330261   Another step to the dictator title for god tr...       WY   \n",
       "330262   Couldn t agree with Trump more Let s start by...       CA   \n",
       "330263   Mark Miller Trump s most committed backers se...       NY   \n",
       "330264   Trump is setting up the conditions for an ove...       TN   \n",
       "330265  I don t believe any of this It is all a ruse B...       FL   \n",
       "\n",
       "       sentimentoutcome  \n",
       "0            Biden_posi  \n",
       "1            Biden_posi  \n",
       "2            Biden_posi  \n",
       "3            Biden_posi  \n",
       "4            Biden_posi  \n",
       "...                 ...  \n",
       "330261       Trump_posi  \n",
       "330262       Trump_posi  \n",
       "330263       Trump_posi  \n",
       "330264       Trump_neut  \n",
       "330265       Trump_posi  \n",
       "\n",
       "[330266 rows x 3 columns]"
      ]
     },
     "execution_count": 253,
     "metadata": {},
     "output_type": "execute_result"
    }
   ],
   "source": [
    "df_final"
   ]
  },
  {
   "cell_type": "markdown",
   "id": "8bddbfcd-fc4e-4de7-a49a-d2f86f6d6742",
   "metadata": {
    "tags": []
   },
   "source": [
    "## Autopilot "
   ]
  },
  {
   "cell_type": "code",
   "execution_count": null,
   "id": "39a315da-70a7-47c4-b886-45c0bf832273",
   "metadata": {},
   "outputs": [],
   "source": []
  },
  {
   "cell_type": "code",
   "execution_count": 167,
   "id": "c5f9f288-d742-4422-99b9-58f6946ebbfc",
   "metadata": {
    "tags": []
   },
   "outputs": [],
   "source": [
    "# # Sample about 10% of the data without replacement ---just to test------\n",
    "# df_sampled = df_final.sample(frac=0.1, random_state=42)\n",
    "# # Save the sampled DataFrame to a CSV file, without the index\n",
    "# df_sampled.to_csv(\"df_sampled.csv\", index=False)"
   ]
  },
  {
   "cell_type": "code",
   "execution_count": 179,
   "id": "9b538ccc-83d7-4883-a3aa-fa356114e24d",
   "metadata": {
    "tags": []
   },
   "outputs": [],
   "source": [
    "# Save the DataFrame to a CSV file, without the index\n",
    "df_final.to_csv(\"df_final.csv\", index=False)"
   ]
  },
  {
   "cell_type": "code",
   "execution_count": 181,
   "id": "ebc8b52f-752c-4727-9b2a-9be1fc50670f",
   "metadata": {
    "tags": []
   },
   "outputs": [
    {
     "name": "stdout",
     "output_type": "stream",
     "text": [
      "File uploaded successfully to s3://508group/ADS508_project/cleandata/df_final.csv\n"
     ]
    }
   ],
   "source": [
    "import boto3\n",
    "from botocore.exceptions import NoCredentialsError\n",
    "\n",
    "s3 = boto3.client('s3')\n",
    "bucket_name = '508group'  # Replace with your bucket name\n",
    "file_name = \"df_final.csv\"  \n",
    "key = 'ADS508_project/cleandata/df_final.csv'  \n",
    "\n",
    "try:\n",
    "    s3.upload_file(file_name, bucket_name, key)\n",
    "    print(f\"File uploaded successfully to s3://{bucket_name}/{key}\")\n",
    "except FileNotFoundError:\n",
    "    print(\"The file was not found\")\n",
    "except NoCredentialsError:\n",
    "    print(\"Credentials not available\")"
   ]
  },
  {
   "cell_type": "code",
   "execution_count": null,
   "id": "e8e21949-2cbd-4cf0-9ced-719399d5ed6f",
   "metadata": {
    "tags": []
   },
   "outputs": [],
   "source": []
  },
  {
   "cell_type": "code",
   "execution_count": 184,
   "id": "d3e4ff34-d035-45da-996d-14faae391ba7",
   "metadata": {
    "tags": []
   },
   "outputs": [
    {
     "name": "stderr",
     "output_type": "stream",
     "text": [
      "WARNING:sagemaker:Setting logs to False. logs is only meaningful when wait is True.\n",
      "INFO:sagemaker:Creating auto-ml-job with name: automl-2024-03-30-22-01-39-094\n"
     ]
    }
   ],
   "source": [
    "import sagemaker\n",
    "from sagemaker import get_execution_role\n",
    "from sagemaker.automl.automl import AutoML\n",
    "\n",
    "role = get_execution_role()\n",
    "session = sagemaker.Session()\n",
    "\n",
    "# Replace 'your_dataset.csv' with the name of your CSV file\n",
    "input_data = 's3://508group/ADS508_project/cleandata/df_final.csv'\n",
    "\n",
    "autopilot_job = AutoML(\n",
    "    role=role,\n",
    "    target_attribute_name='sentimentoutcome',  # This is the column you're predicting\n",
    "    output_path='s3://508group/ADS508_project/output/autopilot/',\n",
    "    max_candidates=20,\n",
    "    sagemaker_session=session,\n",
    "    problem_type='MulticlassClassification',  # Assuming sentimentoutcome is multiclass\n",
    "    job_objective={'MetricName': 'Accuracy'}  # You can choose another metric if it fits better\n",
    ")\n",
    "\n",
    "autopilot_job.fit(inputs=input_data, wait=False, logs=True)\n"
   ]
  },
  {
   "cell_type": "code",
   "execution_count": null,
   "id": "2ee36678-3c53-4b6f-a991-5ab83495617c",
   "metadata": {},
   "outputs": [],
   "source": []
  },
  {
   "cell_type": "code",
   "execution_count": 186,
   "id": "94feeb6c-5710-40aa-add8-21333a57a0e2",
   "metadata": {},
   "outputs": [
    {
     "name": "stdout",
     "output_type": "stream",
     "text": [
      "Extracted files: ['model.joblib', 'model.tar.gz', 'code']\n"
     ]
    }
   ],
   "source": [
    "import boto3\n",
    "import tarfile\n",
    "import os\n",
    "\n",
    "# Initialize the S3 client\n",
    "s3 = boto3.client('s3')\n",
    "\n",
    "# S3 bucket and object key\n",
    "bucket_name = '508group'\n",
    "object_key = 'ADS508_project/output/autopilot/automl-2024-03-30-19-51-00-981/data-processor-models/automl-2024-03-30-19-51-00-981-dpp9-1-89acfb1b856c4754873c58ddd/output/model.tar.gz'\n",
    "\n",
    "# Local directory to extract the contents\n",
    "extract_dir = \"ADS508_project/output/autopilot/automl-2024-03-30-19-51-00-981/data-processor-models/automl-2024-03-30-19-51-00-981-dpp9-1-89acfb1b856c4754873c58ddd/output/model.tar.gz\"\n",
    "\n",
    "# Create the directory if it doesn't exist\n",
    "os.makedirs(extract_dir, exist_ok=True)\n",
    "\n",
    "# Download the file from S3\n",
    "local_file_path = os.path.join(extract_dir, 'model.tar.gz')\n",
    "s3.download_file(bucket_name, object_key, local_file_path)\n",
    "\n",
    "# Open the tar file and extract the contents\n",
    "with tarfile.open(local_file_path, \"r:gz\") as tar:\n",
    "    tar.extractall(path=extract_dir)\n",
    "\n",
    "# After extraction, you can further process or use the contents of the extracted files\n",
    "# For example, list the extracted files\n",
    "extracted_files = os.listdir(extract_dir)\n",
    "print(\"Extracted files:\", extracted_files)\n"
   ]
  },
  {
   "cell_type": "code",
   "execution_count": 208,
   "id": "7afa5f57-4ea1-4f18-bf70-6d1d232ad1bb",
   "metadata": {
    "tags": []
   },
   "outputs": [],
   "source": [
    "# pip install -U scikit-learn"
   ]
  },
  {
   "cell_type": "code",
   "execution_count": 197,
   "id": "a6873f18-501e-4edd-82d8-bca02cadce96",
   "metadata": {
    "tags": []
   },
   "outputs": [],
   "source": [
    "# Download the file from S3\n",
    "local_file_path = os.path.join(extract_dir, 'model.tar.gz')\n",
    "s3.download_file(bucket_name, object_key, local_file_path)\n",
    "\n",
    "# Extract the contents of the tar.gz file\n",
    "with tarfile.open(local_file_path, \"r:gz\") as tar:\n",
    "    tar.extractall(path=extract_dir)\n",
    "\n"
   ]
  },
  {
   "cell_type": "code",
   "execution_count": null,
   "id": "ccc47c7d-67af-4ba9-ba7c-7c57c5c2025b",
   "metadata": {
    "tags": []
   },
   "outputs": [],
   "source": [
    "\n"
   ]
  },
  {
   "cell_type": "code",
   "execution_count": null,
   "id": "816ac72b-3a64-4006-a16c-b53dc09f189b",
   "metadata": {
    "tags": []
   },
   "outputs": [],
   "source": []
  },
  {
   "cell_type": "code",
   "execution_count": null,
   "id": "5cfceb6d-0f2e-422d-bba1-60e70834b791",
   "metadata": {
    "tags": []
   },
   "outputs": [],
   "source": []
  },
  {
   "cell_type": "code",
   "execution_count": 231,
   "id": "b1476451-bf77-4e01-bb34-f89255e99bbf",
   "metadata": {
    "tags": []
   },
   "outputs": [],
   "source": [
    "# pip install --upgrade numpy scipy"
   ]
  },
  {
   "cell_type": "markdown",
   "id": "a3ccec5d-a028-4d7c-b486-dc7edc52f6ad",
   "metadata": {},
   "source": [
    "# Data Partition"
   ]
  },
  {
   "cell_type": "markdown",
   "id": "fc9d9632-a090-45b8-835f-6e9e9523239c",
   "metadata": {},
   "source": [
    "### Assign input and outcome variables"
   ]
  },
  {
   "cell_type": "code",
   "execution_count": 133,
   "id": "7a6ffd96-cee7-4aa1-88b9-f79ff82c4769",
   "metadata": {
    "tags": []
   },
   "outputs": [],
   "source": [
    "X = df_final[['clean_text', 'state_id']]\n",
    "y = df_final['sentimentoutcome']"
   ]
  },
  {
   "cell_type": "markdown",
   "id": "0f6711be-27cf-48c1-bb04-65dda756fc61",
   "metadata": {},
   "source": [
    "### Create a 90/5/5 data split"
   ]
  },
  {
   "cell_type": "code",
   "execution_count": 134,
   "id": "969a63d5-cf39-4d1c-b08b-ffcfbadbf373",
   "metadata": {
    "tags": []
   },
   "outputs": [],
   "source": [
    "from sklearn.model_selection import train_test_split\n",
    "\n",
    "# Split data into 90% train and 10% test\n",
    "X_train, X_test, y_train, y_test = train_test_split(X, y, test_size=0.1, random_state=1)\n",
    "\n",
    "# Split remaining data (90% train) into 90% train and 10% validation\n",
    "X_train, X_val, y_train, y_val = train_test_split(X_train, y_train, test_size=1/9, random_state=1)"
   ]
  },
  {
   "cell_type": "markdown",
   "id": "39da2621-7fce-410f-b131-2798a1c7e0c7",
   "metadata": {},
   "source": [
    "### Further undersample the training set so that each level of the outcome variable is equal"
   ]
  },
  {
   "cell_type": "code",
   "execution_count": 135,
   "id": "84c1c77f-9124-4fe2-8524-396167ba48f1",
   "metadata": {
    "tags": []
   },
   "outputs": [],
   "source": [
    "#!pip install imblearn\n",
    "from imblearn.under_sampling import RandomUnderSampler\n",
    "\n",
    "# Undersample the training set to balance the six categorical outcome levels\n",
    "undersampler = RandomUnderSampler(sampling_strategy='all', random_state=1)\n",
    "X_train_resampled, y_train_resampled = undersampler.fit_resample(X_train, y_train)"
   ]
  },
  {
   "cell_type": "markdown",
   "id": "62afaf20-6937-46dd-8748-fb1fd9da27e1",
   "metadata": {},
   "source": [
    "## Verify split datasets size and datatypes"
   ]
  },
  {
   "cell_type": "code",
   "execution_count": 136,
   "id": "288f0ae6-b39a-446b-b2f7-44e4386bc6b7",
   "metadata": {
    "tags": []
   },
   "outputs": [
    {
     "name": "stdout",
     "output_type": "stream",
     "text": [
      "<class 'pandas.core.frame.DataFrame'>\n",
      "Int64Index: 44112 entries, 18270 to 305997\n",
      "Data columns (total 2 columns):\n",
      " #   Column      Non-Null Count  Dtype \n",
      "---  ------      --------------  ----- \n",
      " 0   clean_text  44112 non-null  object\n",
      " 1   state_id    44112 non-null  object\n",
      "dtypes: object(2)\n",
      "memory usage: 1.0+ MB\n"
     ]
    }
   ],
   "source": [
    "X_train_resampled.info()"
   ]
  },
  {
   "cell_type": "code",
   "execution_count": 137,
   "id": "ab556b3e-f0d4-4da9-9e2d-d00637699f62",
   "metadata": {
    "tags": []
   },
   "outputs": [],
   "source": [
    "# Update Datatypes\n",
    "X_train_resampled['clean_text'] = X_train_resampled['clean_text'].astype(str)\n",
    "X_train_resampled['state_id'] = X_train_resampled['state_id'].astype('category')"
   ]
  },
  {
   "cell_type": "code",
   "execution_count": 107,
   "id": "e9970eab-cc66-4b88-ba99-b508cb3f72be",
   "metadata": {
    "tags": []
   },
   "outputs": [
    {
     "name": "stdout",
     "output_type": "stream",
     "text": [
      "<class 'pandas.core.frame.DataFrame'>\n",
      "Int64Index: 44112 entries, 18270 to 305997\n",
      "Data columns (total 2 columns):\n",
      " #   Column      Non-Null Count  Dtype   \n",
      "---  ------      --------------  -----   \n",
      " 0   clean_text  44112 non-null  object  \n",
      " 1   state_id    44112 non-null  category\n",
      "dtypes: category(1), object(1)\n",
      "memory usage: 734.8+ KB\n"
     ]
    }
   ],
   "source": [
    "X_train_resampled.info()"
   ]
  },
  {
   "cell_type": "code",
   "execution_count": null,
   "id": "eb4ee121-0cb7-4372-b13a-b10d6ee72732",
   "metadata": {},
   "outputs": [],
   "source": []
  },
  {
   "cell_type": "code",
   "execution_count": 108,
   "id": "816b5154-e57b-40d9-86cf-f4306ca60e00",
   "metadata": {
    "tags": []
   },
   "outputs": [
    {
     "name": "stdout",
     "output_type": "stream",
     "text": [
      "<class 'pandas.core.frame.DataFrame'>\n",
      "Int64Index: 33027 entries, 285170 to 259549\n",
      "Data columns (total 2 columns):\n",
      " #   Column      Non-Null Count  Dtype \n",
      "---  ------      --------------  ----- \n",
      " 0   clean_text  33027 non-null  object\n",
      " 1   state_id    33027 non-null  object\n",
      "dtypes: object(2)\n",
      "memory usage: 774.1+ KB\n"
     ]
    }
   ],
   "source": [
    "X_test.info()"
   ]
  },
  {
   "cell_type": "code",
   "execution_count": 109,
   "id": "26b725c5-5333-40f7-af2a-a9f21ecb1d3f",
   "metadata": {
    "tags": []
   },
   "outputs": [],
   "source": [
    "# Update Datatypes\n",
    "X_test['clean_text'] = X_test['clean_text'].astype(str)\n",
    "X_test['state_id'] = X_test['state_id'].astype('category')"
   ]
  },
  {
   "cell_type": "code",
   "execution_count": 110,
   "id": "6e19e81d-455a-404b-9cf2-b888db8a847a",
   "metadata": {
    "tags": []
   },
   "outputs": [
    {
     "name": "stdout",
     "output_type": "stream",
     "text": [
      "<class 'pandas.core.frame.DataFrame'>\n",
      "Int64Index: 33027 entries, 100683 to 257149\n",
      "Data columns (total 2 columns):\n",
      " #   Column      Non-Null Count  Dtype \n",
      "---  ------      --------------  ----- \n",
      " 0   clean_text  33027 non-null  object\n",
      " 1   state_id    33027 non-null  object\n",
      "dtypes: object(2)\n",
      "memory usage: 774.1+ KB\n"
     ]
    }
   ],
   "source": [
    "X_val.info()"
   ]
  },
  {
   "cell_type": "code",
   "execution_count": 111,
   "id": "bfdc91ec-5853-4fde-bb78-47583fc58c2d",
   "metadata": {
    "tags": []
   },
   "outputs": [],
   "source": [
    "# Update Datatypes\n",
    "X_val['clean_text'] = X_val['clean_text'].astype(str)\n",
    "X_val['state_id'] = X_val['state_id'].astype('category')"
   ]
  },
  {
   "cell_type": "code",
   "execution_count": 139,
   "id": "b0d6be10-6202-4a24-a9f3-99a36fa48b3b",
   "metadata": {
    "tags": []
   },
   "outputs": [
    {
     "data": {
      "text/plain": [
       "((44112, 2), (33027, 2), (33027, 2))"
      ]
     },
     "execution_count": 139,
     "metadata": {},
     "output_type": "execute_result"
    }
   ],
   "source": [
    "X_train_resampled.shape, X_test.shape, X_val.shape"
   ]
  },
  {
   "cell_type": "code",
   "execution_count": 138,
   "id": "b3bd9f63-cf44-48c7-b4ea-38de43c52cc4",
   "metadata": {
    "tags": []
   },
   "outputs": [
    {
     "data": {
      "text/html": [
       "<div>\n",
       "<style scoped>\n",
       "    .dataframe tbody tr th:only-of-type {\n",
       "        vertical-align: middle;\n",
       "    }\n",
       "\n",
       "    .dataframe tbody tr th {\n",
       "        vertical-align: top;\n",
       "    }\n",
       "\n",
       "    .dataframe thead th {\n",
       "        text-align: right;\n",
       "    }\n",
       "</style>\n",
       "<table border=\"1\" class=\"dataframe\">\n",
       "  <thead>\n",
       "    <tr style=\"text-align: right;\">\n",
       "      <th></th>\n",
       "      <th>clean_text</th>\n",
       "      <th>state_id</th>\n",
       "    </tr>\n",
       "  </thead>\n",
       "  <tbody>\n",
       "    <tr>\n",
       "      <th>18270</th>\n",
       "      <td>Empty platitudes and disappointment will be th...</td>\n",
       "      <td>NY</td>\n",
       "    </tr>\n",
       "    <tr>\n",
       "      <th>202468</th>\n",
       "      <td>Yeah but Biden didn t mean it If he did</td>\n",
       "      <td>MI</td>\n",
       "    </tr>\n",
       "    <tr>\n",
       "      <th>23476</th>\n",
       "      <td>Dee if Trump is guilty as you say then Obama ...</td>\n",
       "      <td>CA</td>\n",
       "    </tr>\n",
       "    <tr>\n",
       "      <th>76412</th>\n",
       "      <td>jdbos The reason they didn t ask is because t...</td>\n",
       "      <td>FL</td>\n",
       "    </tr>\n",
       "    <tr>\n",
       "      <th>66908</th>\n",
       "      <td>Biden is confused You are comparing him to a ...</td>\n",
       "      <td>LA</td>\n",
       "    </tr>\n",
       "  </tbody>\n",
       "</table>\n",
       "</div>"
      ],
      "text/plain": [
       "                                               clean_text state_id\n",
       "18270   Empty platitudes and disappointment will be th...       NY\n",
       "202468            Yeah but Biden didn t mean it If he did       MI\n",
       "23476    Dee if Trump is guilty as you say then Obama ...       CA\n",
       "76412    jdbos The reason they didn t ask is because t...       FL\n",
       "66908    Biden is confused You are comparing him to a ...       LA"
      ]
     },
     "execution_count": 138,
     "metadata": {},
     "output_type": "execute_result"
    }
   ],
   "source": [
    "X_train_resampled.head()"
   ]
  },
  {
   "cell_type": "code",
   "execution_count": 140,
   "id": "ec546bbf-599d-4d64-bdb4-ac1823fdc320",
   "metadata": {
    "tags": []
   },
   "outputs": [
    {
     "data": {
      "text/html": [
       "<div>\n",
       "<style scoped>\n",
       "    .dataframe tbody tr th:only-of-type {\n",
       "        vertical-align: middle;\n",
       "    }\n",
       "\n",
       "    .dataframe tbody tr th {\n",
       "        vertical-align: top;\n",
       "    }\n",
       "\n",
       "    .dataframe thead th {\n",
       "        text-align: right;\n",
       "    }\n",
       "</style>\n",
       "<table border=\"1\" class=\"dataframe\">\n",
       "  <thead>\n",
       "    <tr style=\"text-align: right;\">\n",
       "      <th></th>\n",
       "      <th>clean_text</th>\n",
       "      <th>state_id</th>\n",
       "    </tr>\n",
       "  </thead>\n",
       "  <tbody>\n",
       "    <tr>\n",
       "      <th>285170</th>\n",
       "      <td>Trump s mentally ill inner turmoil is on full...</td>\n",
       "      <td>PA</td>\n",
       "    </tr>\n",
       "    <tr>\n",
       "      <th>285061</th>\n",
       "      <td>It seems that the trump party is ALWAYS going...</td>\n",
       "      <td>FL</td>\n",
       "    </tr>\n",
       "    <tr>\n",
       "      <th>2515</th>\n",
       "      <td>profwilliams My judgement about Trump and his...</td>\n",
       "      <td>NY</td>\n",
       "    </tr>\n",
       "    <tr>\n",
       "      <th>156238</th>\n",
       "      <td>I d like to know what Trumpers think I mean i...</td>\n",
       "      <td>IA</td>\n",
       "    </tr>\n",
       "    <tr>\n",
       "      <th>35258</th>\n",
       "      <td>Anyone else notice how bad Trump looks lately...</td>\n",
       "      <td>NJ</td>\n",
       "    </tr>\n",
       "  </tbody>\n",
       "</table>\n",
       "</div>"
      ],
      "text/plain": [
       "                                               clean_text state_id\n",
       "285170   Trump s mentally ill inner turmoil is on full...       PA\n",
       "285061   It seems that the trump party is ALWAYS going...       FL\n",
       "2515     profwilliams My judgement about Trump and his...       NY\n",
       "156238   I d like to know what Trumpers think I mean i...       IA\n",
       "35258    Anyone else notice how bad Trump looks lately...       NJ"
      ]
     },
     "execution_count": 140,
     "metadata": {},
     "output_type": "execute_result"
    }
   ],
   "source": [
    "X_test.head()"
   ]
  },
  {
   "cell_type": "code",
   "execution_count": 115,
   "id": "e9ba7754-ad48-4e25-a942-d189c6e29e71",
   "metadata": {
    "tags": []
   },
   "outputs": [
    {
     "data": {
      "text/html": [
       "<div>\n",
       "<style scoped>\n",
       "    .dataframe tbody tr th:only-of-type {\n",
       "        vertical-align: middle;\n",
       "    }\n",
       "\n",
       "    .dataframe tbody tr th {\n",
       "        vertical-align: top;\n",
       "    }\n",
       "\n",
       "    .dataframe thead th {\n",
       "        text-align: right;\n",
       "    }\n",
       "</style>\n",
       "<table border=\"1\" class=\"dataframe\">\n",
       "  <thead>\n",
       "    <tr style=\"text-align: right;\">\n",
       "      <th></th>\n",
       "      <th>clean_text</th>\n",
       "      <th>state_id</th>\n",
       "    </tr>\n",
       "  </thead>\n",
       "  <tbody>\n",
       "    <tr>\n",
       "      <th>100683</th>\n",
       "      <td>trump s off the cuff comments have gone beyon...</td>\n",
       "      <td>NJ</td>\n",
       "    </tr>\n",
       "    <tr>\n",
       "      <th>322288</th>\n",
       "      <td>Let s wait to see how Georgia plays out befor...</td>\n",
       "      <td>TX</td>\n",
       "    </tr>\n",
       "    <tr>\n",
       "      <th>25674</th>\n",
       "      <td>By 2024 Trump should be having no time for ca...</td>\n",
       "      <td>NY</td>\n",
       "    </tr>\n",
       "    <tr>\n",
       "      <th>127096</th>\n",
       "      <td>COVID 19 doesn t change the reasons why peopl...</td>\n",
       "      <td>OH</td>\n",
       "    </tr>\n",
       "    <tr>\n",
       "      <th>222889</th>\n",
       "      <td>Too bad Trump failed to provide leadership wh...</td>\n",
       "      <td>NY</td>\n",
       "    </tr>\n",
       "  </tbody>\n",
       "</table>\n",
       "</div>"
      ],
      "text/plain": [
       "                                               clean_text state_id\n",
       "100683   trump s off the cuff comments have gone beyon...       NJ\n",
       "322288   Let s wait to see how Georgia plays out befor...       TX\n",
       "25674    By 2024 Trump should be having no time for ca...       NY\n",
       "127096   COVID 19 doesn t change the reasons why peopl...       OH\n",
       "222889   Too bad Trump failed to provide leadership wh...       NY"
      ]
     },
     "execution_count": 115,
     "metadata": {},
     "output_type": "execute_result"
    }
   ],
   "source": [
    "X_val.head()"
   ]
  },
  {
   "cell_type": "code",
   "execution_count": 116,
   "id": "2bf0f0ad-1ac4-40c5-854e-fd789cb36792",
   "metadata": {
    "tags": []
   },
   "outputs": [
    {
     "data": {
      "text/html": [
       "<div>\n",
       "<style scoped>\n",
       "    .dataframe tbody tr th:only-of-type {\n",
       "        vertical-align: middle;\n",
       "    }\n",
       "\n",
       "    .dataframe tbody tr th {\n",
       "        vertical-align: top;\n",
       "    }\n",
       "\n",
       "    .dataframe thead th {\n",
       "        text-align: right;\n",
       "    }\n",
       "</style>\n",
       "<table border=\"1\" class=\"dataframe\">\n",
       "  <thead>\n",
       "    <tr style=\"text-align: right;\">\n",
       "      <th></th>\n",
       "      <th>clean_text</th>\n",
       "      <th>state_id</th>\n",
       "    </tr>\n",
       "  </thead>\n",
       "  <tbody>\n",
       "    <tr>\n",
       "      <th>248554</th>\n",
       "      <td>Given the non response of the Trump administr...</td>\n",
       "      <td>NY</td>\n",
       "    </tr>\n",
       "    <tr>\n",
       "      <th>152252</th>\n",
       "      <td>D Price Already at it Trump Official Impeachm...</td>\n",
       "      <td>CA</td>\n",
       "    </tr>\n",
       "    <tr>\n",
       "      <th>229626</th>\n",
       "      <td>Both Obama and Trump got elected because the ...</td>\n",
       "      <td>NY</td>\n",
       "    </tr>\n",
       "    <tr>\n",
       "      <th>258456</th>\n",
       "      <td>Biden needs to restore competence as fast as ...</td>\n",
       "      <td>TX</td>\n",
       "    </tr>\n",
       "    <tr>\n",
       "      <th>318774</th>\n",
       "      <td>Wasn t planning on backing away from trump any...</td>\n",
       "      <td>GA</td>\n",
       "    </tr>\n",
       "    <tr>\n",
       "      <th>...</th>\n",
       "      <td>...</td>\n",
       "      <td>...</td>\n",
       "    </tr>\n",
       "    <tr>\n",
       "      <th>277187</th>\n",
       "      <td>Becoming a failed state I would say the US is...</td>\n",
       "      <td>MA</td>\n",
       "    </tr>\n",
       "    <tr>\n",
       "      <th>67026</th>\n",
       "      <td>President Elect Biden should apologize to the...</td>\n",
       "      <td>NY</td>\n",
       "    </tr>\n",
       "    <tr>\n",
       "      <th>264630</th>\n",
       "      <td>mltrueblood One thing is certain The facts th...</td>\n",
       "      <td>MI</td>\n",
       "    </tr>\n",
       "    <tr>\n",
       "      <th>122827</th>\n",
       "      <td>trblmkr and perhaps on trump s assertions tha...</td>\n",
       "      <td>ME</td>\n",
       "    </tr>\n",
       "    <tr>\n",
       "      <th>210598</th>\n",
       "      <td>You guys just feed the beast Most sane people ...</td>\n",
       "      <td>NY</td>\n",
       "    </tr>\n",
       "  </tbody>\n",
       "</table>\n",
       "<p>264212 rows × 2 columns</p>\n",
       "</div>"
      ],
      "text/plain": [
       "                                               clean_text state_id\n",
       "248554   Given the non response of the Trump administr...       NY\n",
       "152252   D Price Already at it Trump Official Impeachm...       CA\n",
       "229626   Both Obama and Trump got elected because the ...       NY\n",
       "258456   Biden needs to restore competence as fast as ...       TX\n",
       "318774  Wasn t planning on backing away from trump any...       GA\n",
       "...                                                   ...      ...\n",
       "277187   Becoming a failed state I would say the US is...       MA\n",
       "67026    President Elect Biden should apologize to the...       NY\n",
       "264630   mltrueblood One thing is certain The facts th...       MI\n",
       "122827   trblmkr and perhaps on trump s assertions tha...       ME\n",
       "210598  You guys just feed the beast Most sane people ...       NY\n",
       "\n",
       "[264212 rows x 2 columns]"
      ]
     },
     "execution_count": 116,
     "metadata": {},
     "output_type": "execute_result"
    }
   ],
   "source": [
    "X_train"
   ]
  },
  {
   "cell_type": "markdown",
   "id": "89d948f1-46dc-49bb-aebc-0815fb9a0de4",
   "metadata": {},
   "source": [
    "## Verify balance of training set"
   ]
  },
  {
   "cell_type": "code",
   "execution_count": 141,
   "id": "c30dc150-b36e-4f05-aa37-f608aadd1e38",
   "metadata": {
    "tags": []
   },
   "outputs": [
    {
     "data": {
      "text/plain": [
       "Biden_nega    7352\n",
       "Biden_neut    7352\n",
       "Biden_posi    7352\n",
       "Trump_nega    7352\n",
       "Trump_neut    7352\n",
       "Trump_posi    7352\n",
       "Name: sentimentoutcome, dtype: int64"
      ]
     },
     "execution_count": 141,
     "metadata": {},
     "output_type": "execute_result"
    }
   ],
   "source": [
    "y_train_resampled.value_counts()"
   ]
  },
  {
   "cell_type": "markdown",
   "id": "74953e5a-72fe-4574-9162-43840176bd6d",
   "metadata": {},
   "source": [
    "## Average length of comments. "
   ]
  },
  {
   "cell_type": "code",
   "execution_count": 142,
   "id": "cb3bda01-4fb0-4dd5-af07-f38ae678d7af",
   "metadata": {
    "tags": []
   },
   "outputs": [],
   "source": [
    "# Function to count string word length\n",
    "def count_word_length(text):\n",
    "    words = text.split()\n",
    "    return len(words)\n",
    "\n",
    "# Add column to DataFrame\n",
    "df_final['word_length'] = df_final['clean_text'].apply(lambda x: count_word_length(x))"
   ]
  },
  {
   "cell_type": "code",
   "execution_count": 143,
   "id": "8b161f93-9d09-4588-9f9f-7e9e43b4533d",
   "metadata": {
    "tags": []
   },
   "outputs": [
    {
     "data": {
      "image/png": "[encoded data removed]",
      "text/plain": [
       "<Figure size 432x288 with 1 Axes>"
      ]
     },
     "metadata": {
      "needs_background": "light"
     },
     "output_type": "display_data"
    }
   ],
   "source": [
    "import numpy as np\n",
    "median_word_length = np.median(df_final['word_length'])\n",
    "\n",
    "# Plot histogram of word lengths\n",
    "plt.hist(df_final['word_length'], bins=range(min(df_final['word_length']), max(df_final['word_length']) + 1), edgecolor='black')\n",
    "plt.axvline(median_word_length, color='red', linestyle='dashed', linewidth=1)  # Add vertical line at median\n",
    "plt.text(median_word_length, plt.ylim()[1] * 0.9, f'Median: {median_word_length:.2f}', color='red')  # Add label for median\n",
    "plt.xlabel('Word Length')\n",
    "plt.ylabel('Frequency')\n",
    "plt.title('Histogram of Word Lengths')\n",
    "plt.grid(True)\n",
    "plt.show()"
   ]
  },
  {
   "cell_type": "code",
   "execution_count": null,
   "id": "7d0e6a97-9067-4217-b9c1-fddcfd7cb39d",
   "metadata": {},
   "outputs": [],
   "source": []
  },
  {
   "cell_type": "markdown",
   "id": "923478e9-afa0-4267-bbd9-23eb49366603",
   "metadata": {},
   "source": [
    "# Text Entry Preprocessing and Data Transformation Pipeline: Will Need to Add Categorical One-Hot Encoding if we use Location Data"
   ]
  },
  {
   "cell_type": "code",
   "execution_count": 120,
   "id": "ceecb0fe-e564-4f77-9d5f-69a3ba984adb",
   "metadata": {
    "tags": []
   },
   "outputs": [
    {
     "name": "stdout",
     "output_type": "stream",
     "text": [
      "Requirement already satisfied: gensim in /opt/conda/lib/python3.8/site-packages (4.3.2)\n",
      "Requirement already satisfied: numpy>=1.18.5 in /opt/conda/lib/python3.8/site-packages (from gensim) (1.24.3)\n",
      "Requirement already satisfied: scipy>=1.7.0 in /opt/conda/lib/python3.8/site-packages (from gensim) (1.10.1)\n",
      "Requirement already satisfied: smart-open>=1.8.1 in /opt/conda/lib/python3.8/site-packages (from gensim) (7.0.4)\n",
      "Requirement already satisfied: wrapt in /opt/conda/lib/python3.8/site-packages (from smart-open>=1.8.1->gensim) (1.12.1)\n",
      "\u001b[33mDEPRECATION: pyodbc 4.0.0-unsupported has a non-standard version number. pip 24.0 will enforce this behaviour change. A possible replacement is to upgrade to a newer version of pyodbc or contact the author to suggest that they release a version with a conforming version number. Discussion can be found at https://github.com/pypa/pip/issues/12063\u001b[0m\u001b[33m\n",
      "\u001b[0m\u001b[33mWARNING: Running pip as the 'root' user can result in broken permissions and conflicting behaviour with the system package manager. It is recommended to use a virtual environment instead: https://pip.pypa.io/warnings/venv\u001b[0m\u001b[33m\n",
      "\u001b[0m\n",
      "\u001b[1m[\u001b[0m\u001b[34;49mnotice\u001b[0m\u001b[1;39;49m]\u001b[0m\u001b[39;49m A new release of pip is available: \u001b[0m\u001b[31;49m23.3.1\u001b[0m\u001b[39;49m -> \u001b[0m\u001b[32;49m24.0\u001b[0m\n",
      "\u001b[1m[\u001b[0m\u001b[34;49mnotice\u001b[0m\u001b[1;39;49m]\u001b[0m\u001b[39;49m To update, run: \u001b[0m\u001b[32;49mpip install --upgrade pip\u001b[0m\n"
     ]
    }
   ],
   "source": [
    "!pip install gensim\n",
    "from sklearn.base import BaseEstimator, TransformerMixin\n",
    "from sklearn.pipeline import Pipeline\n",
    "from gensim.models import Word2Vec\n",
    "\n",
    "# Define custom transformer for Word2Vec embeddings\n",
    "class Word2VecTransformer(BaseEstimator, TransformerMixin):\n",
    "    def __init__(self, window=5, min_count=1, workers=4):\n",
    "        self.word2vec_model = Word2Vec(window=window, min_count=min_count, workers=workers)\n",
    "    \n",
    "    def fit(self, X, y=None):\n",
    "        # Train Word2Vec model\n",
    "        X_word_lists = [text.split()[:15] for text in X]  # Limit to first 15 words\n",
    "        self.word2vec_model.build_vocab(X_word_lists)\n",
    "        self.word2vec_model.train(X_word_lists, total_examples=len(X_word_lists), epochs=10)\n",
    "        return self\n",
    "    \n",
    "    def transform(self, X):\n",
    "        # Limit text to first 15 words and split into word lists\n",
    "        X_word_lists = [text.split()[:15] for text in X]\n",
    "        # Initialize a list to store word embeddings\n",
    "        embeddings = []\n",
    "        # Iterate over each word list\n",
    "        for word_list in X_word_lists:\n",
    "            # Initialize a list to store word embeddings for this word list\n",
    "            word_embeddings = []\n",
    "            # Iterate over each word in the word list\n",
    "            for word in word_list:\n",
    "                # Check if the word exists in the Word2Vec model's vocabulary\n",
    "                if word in self.word2vec_model.wv:\n",
    "                    # Retrieve the word embedding and append it to the list\n",
    "                    word_embeddings.append(self.word2vec_model.wv[word])\n",
    "                else:\n",
    "                    # If the word doesn't exist in the vocabulary, append zeros\n",
    "                    word_embeddings.append([0] * self.word2vec_model.vector_size)\n",
    "            # Append the word embeddings for this word list to the embeddings list\n",
    "            embeddings.append(word_embeddings)\n",
    "        return embeddings\n",
    "\n",
    "# Define preprocessing pipeline\n",
    "text_pipeline = Pipeline([\n",
    "    ('word2vec', Word2VecTransformer())\n",
    "])"
   ]
  },
  {
   "cell_type": "code",
   "execution_count": 121,
   "id": "e21696f4-4358-4431-9698-f1c84d878a5f",
   "metadata": {
    "tags": []
   },
   "outputs": [],
   "source": [
    "from sklearn.compose import ColumnTransformer\n",
    "from sklearn.preprocessing import OneHotEncoder\n",
    "from sklearn.pipeline import Pipeline\n",
    "\n",
    "\n",
    "cat = 'state_id'\n",
    "\n",
    "# Define preprocessing pipeline\n",
    "cat_pipeline = ColumnTransformer([\n",
    "    ('onehot', OneHotEncoder(), [cat])  # Perform one-hot encoding for the 'state_id' column\n",
    "])\n"
   ]
  },
  {
   "cell_type": "code",
   "execution_count": 122,
   "id": "cdde8566-8f5a-45f5-867f-17afcd7ba631",
   "metadata": {
    "tags": []
   },
   "outputs": [],
   "source": [
    "# Fit and transform on the training set\n",
    "X_train_transformed_text = pd.DataFrame(text_pipeline.fit_transform(X_train_resampled['clean_text']))"
   ]
  },
  {
   "cell_type": "code",
   "execution_count": 123,
   "id": "4f4a9a8b-4344-40f8-b409-65ce5fd5b980",
   "metadata": {
    "tags": []
   },
   "outputs": [],
   "source": [
    "X_train_transformed_state = pd.DataFrame(cat_pipeline.fit_transform(X_train_resampled))\n",
    "X_train_transformed_state.columns = ['state_id']"
   ]
  },
  {
   "cell_type": "code",
   "execution_count": 124,
   "id": "701c679e-11ba-4778-ab06-8a1e36dc7af0",
   "metadata": {
    "tags": []
   },
   "outputs": [
    {
     "data": {
      "text/html": [
       "<div>\n",
       "<style scoped>\n",
       "    .dataframe tbody tr th:only-of-type {\n",
       "        vertical-align: middle;\n",
       "    }\n",
       "\n",
       "    .dataframe tbody tr th {\n",
       "        vertical-align: top;\n",
       "    }\n",
       "\n",
       "    .dataframe thead th {\n",
       "        text-align: right;\n",
       "    }\n",
       "</style>\n",
       "<table border=\"1\" class=\"dataframe\">\n",
       "  <thead>\n",
       "    <tr style=\"text-align: right;\">\n",
       "      <th></th>\n",
       "      <th>0</th>\n",
       "      <th>1</th>\n",
       "      <th>2</th>\n",
       "      <th>3</th>\n",
       "      <th>4</th>\n",
       "      <th>5</th>\n",
       "      <th>6</th>\n",
       "      <th>7</th>\n",
       "      <th>8</th>\n",
       "      <th>9</th>\n",
       "      <th>10</th>\n",
       "      <th>11</th>\n",
       "      <th>12</th>\n",
       "      <th>13</th>\n",
       "      <th>14</th>\n",
       "    </tr>\n",
       "  </thead>\n",
       "  <tbody>\n",
       "    <tr>\n",
       "      <th>0</th>\n",
       "      <td>[-0.034022156, 0.020868521, 0.0062629655, 0.00...</td>\n",
       "      <td>[-0.053827178, 0.055068173, 0.01354243, 0.0345...</td>\n",
       "      <td>[0.27330413, -0.6535227, 2.1337175, 0.96501327...</td>\n",
       "      <td>[-0.1639024, 0.2019843, -0.095293745, 0.111080...</td>\n",
       "      <td>[0.7073112, -1.2954994, -0.08386606, 0.9371881...</td>\n",
       "      <td>[-0.22636639, -2.0242612, 2.1055424, -0.078305...</td>\n",
       "      <td>[1.018408, -1.2881258, 1.361802, 1.1654738, -0...</td>\n",
       "      <td>[0.018628795, 0.037218295, 0.081868626, 0.0355...</td>\n",
       "      <td>[3.169192, -1.686239, 0.92418367, 1.7656312, 0...</td>\n",
       "      <td>[-1.4255806, 0.62008506, 1.645545, 1.0198312, ...</td>\n",
       "      <td>[-1.1567808, -1.730157, -1.1321992, 1.1523242,...</td>\n",
       "      <td>[-0.013867739, 0.22687778, 0.3939996, 0.268631...</td>\n",
       "      <td>None</td>\n",
       "      <td>None</td>\n",
       "      <td>None</td>\n",
       "    </tr>\n",
       "    <tr>\n",
       "      <th>1</th>\n",
       "      <td>[-0.18327934, 0.16693516, 0.030861318, -0.0630...</td>\n",
       "      <td>[-0.6133865, -0.9356293, 0.70381194, -0.823132...</td>\n",
       "      <td>[-1.4255806, 0.62008506, 1.645545, 1.0198312, ...</td>\n",
       "      <td>[-1.760923, -0.16369714, -0.37284607, 0.185111...</td>\n",
       "      <td>[-2.208805, 1.5400424, -0.6933548, 0.5340035, ...</td>\n",
       "      <td>[-0.77638155, 0.06862942, -0.008541082, -1.346...</td>\n",
       "      <td>[-1.6742109, -0.3629744, -0.2866717, 0.3739421...</td>\n",
       "      <td>[-1.0872802, 0.52666557, 1.0767642, -2.5709233...</td>\n",
       "      <td>[-1.5294573, 0.6378274, 1.4669639, 0.19510289,...</td>\n",
       "      <td>[-0.036513865, -0.46350062, -0.6786844, 0.4507...</td>\n",
       "      <td>None</td>\n",
       "      <td>None</td>\n",
       "      <td>None</td>\n",
       "      <td>None</td>\n",
       "      <td>None</td>\n",
       "    </tr>\n",
       "  </tbody>\n",
       "</table>\n",
       "</div>"
      ],
      "text/plain": [
       "                                                  0   \\\n",
       "0  [-0.034022156, 0.020868521, 0.0062629655, 0.00...   \n",
       "1  [-0.18327934, 0.16693516, 0.030861318, -0.0630...   \n",
       "\n",
       "                                                  1   \\\n",
       "0  [-0.053827178, 0.055068173, 0.01354243, 0.0345...   \n",
       "1  [-0.6133865, -0.9356293, 0.70381194, -0.823132...   \n",
       "\n",
       "                                                  2   \\\n",
       "0  [0.27330413, -0.6535227, 2.1337175, 0.96501327...   \n",
       "1  [-1.4255806, 0.62008506, 1.645545, 1.0198312, ...   \n",
       "\n",
       "                                                  3   \\\n",
       "0  [-0.1639024, 0.2019843, -0.095293745, 0.111080...   \n",
       "1  [-1.760923, -0.16369714, -0.37284607, 0.185111...   \n",
       "\n",
       "                                                  4   \\\n",
       "0  [0.7073112, -1.2954994, -0.08386606, 0.9371881...   \n",
       "1  [-2.208805, 1.5400424, -0.6933548, 0.5340035, ...   \n",
       "\n",
       "                                                  5   \\\n",
       "0  [-0.22636639, -2.0242612, 2.1055424, -0.078305...   \n",
       "1  [-0.77638155, 0.06862942, -0.008541082, -1.346...   \n",
       "\n",
       "                                                  6   \\\n",
       "0  [1.018408, -1.2881258, 1.361802, 1.1654738, -0...   \n",
       "1  [-1.6742109, -0.3629744, -0.2866717, 0.3739421...   \n",
       "\n",
       "                                                  7   \\\n",
       "0  [0.018628795, 0.037218295, 0.081868626, 0.0355...   \n",
       "1  [-1.0872802, 0.52666557, 1.0767642, -2.5709233...   \n",
       "\n",
       "                                                  8   \\\n",
       "0  [3.169192, -1.686239, 0.92418367, 1.7656312, 0...   \n",
       "1  [-1.5294573, 0.6378274, 1.4669639, 0.19510289,...   \n",
       "\n",
       "                                                  9   \\\n",
       "0  [-1.4255806, 0.62008506, 1.645545, 1.0198312, ...   \n",
       "1  [-0.036513865, -0.46350062, -0.6786844, 0.4507...   \n",
       "\n",
       "                                                  10  \\\n",
       "0  [-1.1567808, -1.730157, -1.1321992, 1.1523242,...   \n",
       "1                                               None   \n",
       "\n",
       "                                                  11    12    13    14  \n",
       "0  [-0.013867739, 0.22687778, 0.3939996, 0.268631...  None  None  None  \n",
       "1                                               None  None  None  None  "
      ]
     },
     "execution_count": 124,
     "metadata": {},
     "output_type": "execute_result"
    }
   ],
   "source": [
    "X_train_transformed_text.head(2)"
   ]
  },
  {
   "cell_type": "code",
   "execution_count": 125,
   "id": "2cb8f70b-d846-43a6-9ffd-958b416762f5",
   "metadata": {
    "tags": []
   },
   "outputs": [
    {
     "data": {
      "text/html": [
       "<div>\n",
       "<style scoped>\n",
       "    .dataframe tbody tr th:only-of-type {\n",
       "        vertical-align: middle;\n",
       "    }\n",
       "\n",
       "    .dataframe tbody tr th {\n",
       "        vertical-align: top;\n",
       "    }\n",
       "\n",
       "    .dataframe thead th {\n",
       "        text-align: right;\n",
       "    }\n",
       "</style>\n",
       "<table border=\"1\" class=\"dataframe\">\n",
       "  <thead>\n",
       "    <tr style=\"text-align: right;\">\n",
       "      <th></th>\n",
       "      <th>state_id</th>\n",
       "    </tr>\n",
       "  </thead>\n",
       "  <tbody>\n",
       "    <tr>\n",
       "      <th>0</th>\n",
       "      <td>(0, 34)\\t1.0</td>\n",
       "    </tr>\n",
       "    <tr>\n",
       "      <th>1</th>\n",
       "      <td>(0, 22)\\t1.0</td>\n",
       "    </tr>\n",
       "    <tr>\n",
       "      <th>2</th>\n",
       "      <td>(0, 5)\\t1.0</td>\n",
       "    </tr>\n",
       "    <tr>\n",
       "      <th>3</th>\n",
       "      <td>(0, 9)\\t1.0</td>\n",
       "    </tr>\n",
       "    <tr>\n",
       "      <th>4</th>\n",
       "      <td>(0, 18)\\t1.0</td>\n",
       "    </tr>\n",
       "  </tbody>\n",
       "</table>\n",
       "</div>"
      ],
      "text/plain": [
       "         state_id\n",
       "0    (0, 34)\\t1.0\n",
       "1    (0, 22)\\t1.0\n",
       "2     (0, 5)\\t1.0\n",
       "3     (0, 9)\\t1.0\n",
       "4    (0, 18)\\t1.0"
      ]
     },
     "execution_count": 125,
     "metadata": {},
     "output_type": "execute_result"
    }
   ],
   "source": [
    "X_train_transformed_state.head()"
   ]
  },
  {
   "cell_type": "code",
   "execution_count": 126,
   "id": "d4481089-0717-40f9-903d-ea86511c3a3a",
   "metadata": {
    "tags": []
   },
   "outputs": [],
   "source": [
    "X_train = pd.concat([X_train_transformed_text, X_train_transformed_state], axis=1)"
   ]
  },
  {
   "cell_type": "code",
   "execution_count": 127,
   "id": "849f2eee-618e-4a71-a6a0-3d32212b34e8",
   "metadata": {
    "tags": []
   },
   "outputs": [],
   "source": [
    "X_test_transformed_text = pd.DataFrame(text_pipeline.fit_transform(X_test['clean_text'])) \n",
    "X_test_transformed_state = pd.DataFrame(cat_pipeline.fit_transform(X_test))\n",
    "X_test_transformed_state.columns = ['state_id']\n",
    "X_test = pd.concat([X_test_transformed_text, X_test_transformed_state], axis=1)"
   ]
  },
  {
   "cell_type": "code",
   "execution_count": 128,
   "id": "c4e99b99-681f-4ce3-9d49-7d6528b3031e",
   "metadata": {
    "tags": []
   },
   "outputs": [
    {
     "ename": "IndexError",
     "evalue": "index 27498 is out of bounds for axis 0 with size 27453",
     "output_type": "error",
     "traceback": [
      "\u001b[0;31m---------------------------------------------------------------------------\u001b[0m",
      "\u001b[0;31mIndexError\u001b[0m                                Traceback (most recent call last)",
      "Cell \u001b[0;32mIn[128], line 1\u001b[0m\n\u001b[0;32m----> 1\u001b[0m X_val_transformed_text \u001b[38;5;241m=\u001b[39m pd\u001b[38;5;241m.\u001b[39mDataFrame(\u001b[43mtext_pipeline\u001b[49m\u001b[38;5;241;43m.\u001b[39;49m\u001b[43mfit_transform\u001b[49m\u001b[43m(\u001b[49m\u001b[43mX_val\u001b[49m\u001b[43m[\u001b[49m\u001b[38;5;124;43m'\u001b[39;49m\u001b[38;5;124;43mclean_text\u001b[39;49m\u001b[38;5;124;43m'\u001b[39;49m\u001b[43m]\u001b[49m\u001b[43m)\u001b[49m) \n\u001b[1;32m      2\u001b[0m X_val_transformed_state \u001b[38;5;241m=\u001b[39m pd\u001b[38;5;241m.\u001b[39mDataFrame(cat_pipeline\u001b[38;5;241m.\u001b[39mfit_transform(X_val))\n\u001b[1;32m      3\u001b[0m X_val_transformed_state\u001b[38;5;241m.\u001b[39mcolumns \u001b[38;5;241m=\u001b[39m [\u001b[38;5;124m'\u001b[39m\u001b[38;5;124mstate_id\u001b[39m\u001b[38;5;124m'\u001b[39m]\n",
      "File \u001b[0;32m/opt/conda/lib/python3.8/site-packages/sklearn/base.py:1152\u001b[0m, in \u001b[0;36m_fit_context.<locals>.decorator.<locals>.wrapper\u001b[0;34m(estimator, *args, **kwargs)\u001b[0m\n\u001b[1;32m   1145\u001b[0m     estimator\u001b[38;5;241m.\u001b[39m_validate_params()\n\u001b[1;32m   1147\u001b[0m \u001b[38;5;28;01mwith\u001b[39;00m config_context(\n\u001b[1;32m   1148\u001b[0m     skip_parameter_validation\u001b[38;5;241m=\u001b[39m(\n\u001b[1;32m   1149\u001b[0m         prefer_skip_nested_validation \u001b[38;5;129;01mor\u001b[39;00m global_skip_validation\n\u001b[1;32m   1150\u001b[0m     )\n\u001b[1;32m   1151\u001b[0m ):\n\u001b[0;32m-> 1152\u001b[0m     \u001b[38;5;28;01mreturn\u001b[39;00m \u001b[43mfit_method\u001b[49m\u001b[43m(\u001b[49m\u001b[43mestimator\u001b[49m\u001b[43m,\u001b[49m\u001b[43m \u001b[49m\u001b[38;5;241;43m*\u001b[39;49m\u001b[43margs\u001b[49m\u001b[43m,\u001b[49m\u001b[43m \u001b[49m\u001b[38;5;241;43m*\u001b[39;49m\u001b[38;5;241;43m*\u001b[39;49m\u001b[43mkwargs\u001b[49m\u001b[43m)\u001b[49m\n",
      "File \u001b[0;32m/opt/conda/lib/python3.8/site-packages/sklearn/pipeline.py:479\u001b[0m, in \u001b[0;36mPipeline.fit_transform\u001b[0;34m(self, X, y, **fit_params)\u001b[0m\n\u001b[1;32m    477\u001b[0m fit_params_last_step \u001b[38;5;241m=\u001b[39m fit_params_steps[\u001b[38;5;28mself\u001b[39m\u001b[38;5;241m.\u001b[39msteps[\u001b[38;5;241m-\u001b[39m\u001b[38;5;241m1\u001b[39m][\u001b[38;5;241m0\u001b[39m]]\n\u001b[1;32m    478\u001b[0m \u001b[38;5;28;01mif\u001b[39;00m \u001b[38;5;28mhasattr\u001b[39m(last_step, \u001b[38;5;124m\"\u001b[39m\u001b[38;5;124mfit_transform\u001b[39m\u001b[38;5;124m\"\u001b[39m):\n\u001b[0;32m--> 479\u001b[0m     \u001b[38;5;28;01mreturn\u001b[39;00m \u001b[43mlast_step\u001b[49m\u001b[38;5;241;43m.\u001b[39;49m\u001b[43mfit_transform\u001b[49m\u001b[43m(\u001b[49m\u001b[43mXt\u001b[49m\u001b[43m,\u001b[49m\u001b[43m \u001b[49m\u001b[43my\u001b[49m\u001b[43m,\u001b[49m\u001b[43m \u001b[49m\u001b[38;5;241;43m*\u001b[39;49m\u001b[38;5;241;43m*\u001b[39;49m\u001b[43mfit_params_last_step\u001b[49m\u001b[43m)\u001b[49m\n\u001b[1;32m    480\u001b[0m \u001b[38;5;28;01melse\u001b[39;00m:\n\u001b[1;32m    481\u001b[0m     \u001b[38;5;28;01mreturn\u001b[39;00m last_step\u001b[38;5;241m.\u001b[39mfit(Xt, y, \u001b[38;5;241m*\u001b[39m\u001b[38;5;241m*\u001b[39mfit_params_last_step)\u001b[38;5;241m.\u001b[39mtransform(Xt)\n",
      "File \u001b[0;32m/opt/conda/lib/python3.8/site-packages/sklearn/utils/_set_output.py:157\u001b[0m, in \u001b[0;36m_wrap_method_output.<locals>.wrapped\u001b[0;34m(self, X, *args, **kwargs)\u001b[0m\n\u001b[1;32m    155\u001b[0m \u001b[38;5;129m@wraps\u001b[39m(f)\n\u001b[1;32m    156\u001b[0m \u001b[38;5;28;01mdef\u001b[39;00m \u001b[38;5;21mwrapped\u001b[39m(\u001b[38;5;28mself\u001b[39m, X, \u001b[38;5;241m*\u001b[39margs, \u001b[38;5;241m*\u001b[39m\u001b[38;5;241m*\u001b[39mkwargs):\n\u001b[0;32m--> 157\u001b[0m     data_to_wrap \u001b[38;5;241m=\u001b[39m \u001b[43mf\u001b[49m\u001b[43m(\u001b[49m\u001b[38;5;28;43mself\u001b[39;49m\u001b[43m,\u001b[49m\u001b[43m \u001b[49m\u001b[43mX\u001b[49m\u001b[43m,\u001b[49m\u001b[43m \u001b[49m\u001b[38;5;241;43m*\u001b[39;49m\u001b[43margs\u001b[49m\u001b[43m,\u001b[49m\u001b[43m \u001b[49m\u001b[38;5;241;43m*\u001b[39;49m\u001b[38;5;241;43m*\u001b[39;49m\u001b[43mkwargs\u001b[49m\u001b[43m)\u001b[49m\n\u001b[1;32m    158\u001b[0m     \u001b[38;5;28;01mif\u001b[39;00m \u001b[38;5;28misinstance\u001b[39m(data_to_wrap, \u001b[38;5;28mtuple\u001b[39m):\n\u001b[1;32m    159\u001b[0m         \u001b[38;5;66;03m# only wrap the first output for cross decomposition\u001b[39;00m\n\u001b[1;32m    160\u001b[0m         return_tuple \u001b[38;5;241m=\u001b[39m (\n\u001b[1;32m    161\u001b[0m             _wrap_data_with_container(method, data_to_wrap[\u001b[38;5;241m0\u001b[39m], X, \u001b[38;5;28mself\u001b[39m),\n\u001b[1;32m    162\u001b[0m             \u001b[38;5;241m*\u001b[39mdata_to_wrap[\u001b[38;5;241m1\u001b[39m:],\n\u001b[1;32m    163\u001b[0m         )\n",
      "File \u001b[0;32m/opt/conda/lib/python3.8/site-packages/sklearn/base.py:916\u001b[0m, in \u001b[0;36mTransformerMixin.fit_transform\u001b[0;34m(self, X, y, **fit_params)\u001b[0m\n\u001b[1;32m    912\u001b[0m \u001b[38;5;66;03m# non-optimized default implementation; override when a better\u001b[39;00m\n\u001b[1;32m    913\u001b[0m \u001b[38;5;66;03m# method is possible for a given clustering algorithm\u001b[39;00m\n\u001b[1;32m    914\u001b[0m \u001b[38;5;28;01mif\u001b[39;00m y \u001b[38;5;129;01mis\u001b[39;00m \u001b[38;5;28;01mNone\u001b[39;00m:\n\u001b[1;32m    915\u001b[0m     \u001b[38;5;66;03m# fit method of arity 1 (unsupervised transformation)\u001b[39;00m\n\u001b[0;32m--> 916\u001b[0m     \u001b[38;5;28;01mreturn\u001b[39;00m \u001b[38;5;28;43mself\u001b[39;49m\u001b[38;5;241;43m.\u001b[39;49m\u001b[43mfit\u001b[49m\u001b[43m(\u001b[49m\u001b[43mX\u001b[49m\u001b[43m,\u001b[49m\u001b[43m \u001b[49m\u001b[38;5;241;43m*\u001b[39;49m\u001b[38;5;241;43m*\u001b[39;49m\u001b[43mfit_params\u001b[49m\u001b[43m)\u001b[49m\u001b[38;5;241m.\u001b[39mtransform(X)\n\u001b[1;32m    917\u001b[0m \u001b[38;5;28;01melse\u001b[39;00m:\n\u001b[1;32m    918\u001b[0m     \u001b[38;5;66;03m# fit method of arity 2 (supervised transformation)\u001b[39;00m\n\u001b[1;32m    919\u001b[0m     \u001b[38;5;28;01mreturn\u001b[39;00m \u001b[38;5;28mself\u001b[39m\u001b[38;5;241m.\u001b[39mfit(X, y, \u001b[38;5;241m*\u001b[39m\u001b[38;5;241m*\u001b[39mfit_params)\u001b[38;5;241m.\u001b[39mtransform(X)\n",
      "Cell \u001b[0;32mIn[120], line 14\u001b[0m, in \u001b[0;36mWord2VecTransformer.fit\u001b[0;34m(self, X, y)\u001b[0m\n\u001b[1;32m     11\u001b[0m \u001b[38;5;28;01mdef\u001b[39;00m \u001b[38;5;21mfit\u001b[39m(\u001b[38;5;28mself\u001b[39m, X, y\u001b[38;5;241m=\u001b[39m\u001b[38;5;28;01mNone\u001b[39;00m):\n\u001b[1;32m     12\u001b[0m     \u001b[38;5;66;03m# Train Word2Vec model\u001b[39;00m\n\u001b[1;32m     13\u001b[0m     X_word_lists \u001b[38;5;241m=\u001b[39m [text\u001b[38;5;241m.\u001b[39msplit()[:\u001b[38;5;241m15\u001b[39m] \u001b[38;5;28;01mfor\u001b[39;00m text \u001b[38;5;129;01min\u001b[39;00m X]  \u001b[38;5;66;03m# Limit to first 15 words\u001b[39;00m\n\u001b[0;32m---> 14\u001b[0m     \u001b[38;5;28;43mself\u001b[39;49m\u001b[38;5;241;43m.\u001b[39;49m\u001b[43mword2vec_model\u001b[49m\u001b[38;5;241;43m.\u001b[39;49m\u001b[43mbuild_vocab\u001b[49m\u001b[43m(\u001b[49m\u001b[43mX_word_lists\u001b[49m\u001b[43m)\u001b[49m\n\u001b[1;32m     15\u001b[0m     \u001b[38;5;28mself\u001b[39m\u001b[38;5;241m.\u001b[39mword2vec_model\u001b[38;5;241m.\u001b[39mtrain(X_word_lists, total_examples\u001b[38;5;241m=\u001b[39m\u001b[38;5;28mlen\u001b[39m(X_word_lists), epochs\u001b[38;5;241m=\u001b[39m\u001b[38;5;241m10\u001b[39m)\n\u001b[1;32m     16\u001b[0m     \u001b[38;5;28;01mreturn\u001b[39;00m \u001b[38;5;28mself\u001b[39m\n",
      "File \u001b[0;32m/opt/conda/lib/python3.8/site-packages/gensim/models/word2vec.py:495\u001b[0m, in \u001b[0;36mWord2Vec.build_vocab\u001b[0;34m(self, corpus_iterable, corpus_file, update, progress_per, keep_raw_vocab, trim_rule, **kwargs)\u001b[0m\n\u001b[1;32m    493\u001b[0m \u001b[38;5;28mself\u001b[39m\u001b[38;5;241m.\u001b[39mcorpus_count \u001b[38;5;241m=\u001b[39m corpus_count\n\u001b[1;32m    494\u001b[0m \u001b[38;5;28mself\u001b[39m\u001b[38;5;241m.\u001b[39mcorpus_total_words \u001b[38;5;241m=\u001b[39m total_words\n\u001b[0;32m--> 495\u001b[0m report_values \u001b[38;5;241m=\u001b[39m \u001b[38;5;28;43mself\u001b[39;49m\u001b[38;5;241;43m.\u001b[39;49m\u001b[43mprepare_vocab\u001b[49m\u001b[43m(\u001b[49m\u001b[43mupdate\u001b[49m\u001b[38;5;241;43m=\u001b[39;49m\u001b[43mupdate\u001b[49m\u001b[43m,\u001b[49m\u001b[43m \u001b[49m\u001b[43mkeep_raw_vocab\u001b[49m\u001b[38;5;241;43m=\u001b[39;49m\u001b[43mkeep_raw_vocab\u001b[49m\u001b[43m,\u001b[49m\u001b[43m \u001b[49m\u001b[43mtrim_rule\u001b[49m\u001b[38;5;241;43m=\u001b[39;49m\u001b[43mtrim_rule\u001b[49m\u001b[43m,\u001b[49m\u001b[43m \u001b[49m\u001b[38;5;241;43m*\u001b[39;49m\u001b[38;5;241;43m*\u001b[39;49m\u001b[43mkwargs\u001b[49m\u001b[43m)\u001b[49m\n\u001b[1;32m    496\u001b[0m report_values[\u001b[38;5;124m'\u001b[39m\u001b[38;5;124mmemory\u001b[39m\u001b[38;5;124m'\u001b[39m] \u001b[38;5;241m=\u001b[39m \u001b[38;5;28mself\u001b[39m\u001b[38;5;241m.\u001b[39mestimate_memory(vocab_size\u001b[38;5;241m=\u001b[39mreport_values[\u001b[38;5;124m'\u001b[39m\u001b[38;5;124mnum_retained_words\u001b[39m\u001b[38;5;124m'\u001b[39m])\n\u001b[1;32m    497\u001b[0m \u001b[38;5;28mself\u001b[39m\u001b[38;5;241m.\u001b[39mprepare_weights(update\u001b[38;5;241m=\u001b[39mupdate)\n",
      "File \u001b[0;32m/opt/conda/lib/python3.8/site-packages/gensim/models/word2vec.py:769\u001b[0m, in \u001b[0;36mWord2Vec.prepare_vocab\u001b[0;34m(self, update, keep_raw_vocab, trim_rule, min_count, sample, dry_run)\u001b[0m\n\u001b[1;32m    766\u001b[0m     \u001b[38;5;28mself\u001b[39m\u001b[38;5;241m.\u001b[39madd_null_word()\n\u001b[1;32m    768\u001b[0m \u001b[38;5;28;01mif\u001b[39;00m \u001b[38;5;28mself\u001b[39m\u001b[38;5;241m.\u001b[39msorted_vocab \u001b[38;5;129;01mand\u001b[39;00m \u001b[38;5;129;01mnot\u001b[39;00m update:\n\u001b[0;32m--> 769\u001b[0m     \u001b[38;5;28;43mself\u001b[39;49m\u001b[38;5;241;43m.\u001b[39;49m\u001b[43mwv\u001b[49m\u001b[38;5;241;43m.\u001b[39;49m\u001b[43msort_by_descending_frequency\u001b[49m\u001b[43m(\u001b[49m\u001b[43m)\u001b[49m\n\u001b[1;32m    771\u001b[0m \u001b[38;5;28;01mif\u001b[39;00m \u001b[38;5;28mself\u001b[39m\u001b[38;5;241m.\u001b[39mhs:\n\u001b[1;32m    772\u001b[0m     \u001b[38;5;66;03m# add info about each word's Huffman encoding\u001b[39;00m\n\u001b[1;32m    773\u001b[0m     \u001b[38;5;28mself\u001b[39m\u001b[38;5;241m.\u001b[39mcreate_binary_tree()\n",
      "File \u001b[0;32m/opt/conda/lib/python3.8/site-packages/gensim/models/keyedvectors.py:757\u001b[0m, in \u001b[0;36mKeyedVectors.sort_by_descending_frequency\u001b[0;34m(self)\u001b[0m\n\u001b[1;32m    755\u001b[0m \u001b[38;5;28;01mif\u001b[39;00m \u001b[38;5;28mlen\u001b[39m(\u001b[38;5;28mself\u001b[39m\u001b[38;5;241m.\u001b[39mvectors):\n\u001b[1;32m    756\u001b[0m     logger\u001b[38;5;241m.\u001b[39mwarning(\u001b[38;5;124m\"\u001b[39m\u001b[38;5;124msorting after vectors have been allocated is expensive & error-prone\u001b[39m\u001b[38;5;124m\"\u001b[39m)\n\u001b[0;32m--> 757\u001b[0m     \u001b[38;5;28mself\u001b[39m\u001b[38;5;241m.\u001b[39mvectors \u001b[38;5;241m=\u001b[39m \u001b[38;5;28;43mself\u001b[39;49m\u001b[38;5;241;43m.\u001b[39;49m\u001b[43mvectors\u001b[49m\u001b[43m[\u001b[49m\u001b[43mcount_sorted_indexes\u001b[49m\u001b[43m]\u001b[49m\n\u001b[1;32m    758\u001b[0m \u001b[38;5;28mself\u001b[39m\u001b[38;5;241m.\u001b[39mkey_to_index \u001b[38;5;241m=\u001b[39m {word: i \u001b[38;5;28;01mfor\u001b[39;00m i, word \u001b[38;5;129;01min\u001b[39;00m \u001b[38;5;28menumerate\u001b[39m(\u001b[38;5;28mself\u001b[39m\u001b[38;5;241m.\u001b[39mindex_to_key)}\n",
      "\u001b[0;31mIndexError\u001b[0m: index 27498 is out of bounds for axis 0 with size 27453"
     ]
    }
   ],
   "source": [
    "X_val_transformed_text = pd.DataFrame(text_pipeline.fit_transform(X_val['clean_text'])) \n",
    "X_val_transformed_state = pd.DataFrame(cat_pipeline.fit_transform(X_val))\n",
    "X_val_transformed_state.columns = ['state_id']\n",
    "X_val = pd.concat([X_val_transformed_text, X_val_transformed_state], axis=1)"
   ]
  },
  {
   "cell_type": "markdown",
   "id": "2cd14805-c468-4035-a0c5-6e208e5fedfe",
   "metadata": {},
   "source": [
    "## Verify contents of DFs"
   ]
  },
  {
   "cell_type": "code",
   "execution_count": 144,
   "id": "056a790d-1d5b-4ff7-bb80-3210e8e0b198",
   "metadata": {
    "tags": []
   },
   "outputs": [
    {
     "data": {
      "text/html": [
       "<div>\n",
       "<style scoped>\n",
       "    .dataframe tbody tr th:only-of-type {\n",
       "        vertical-align: middle;\n",
       "    }\n",
       "\n",
       "    .dataframe tbody tr th {\n",
       "        vertical-align: top;\n",
       "    }\n",
       "\n",
       "    .dataframe thead th {\n",
       "        text-align: right;\n",
       "    }\n",
       "</style>\n",
       "<table border=\"1\" class=\"dataframe\">\n",
       "  <thead>\n",
       "    <tr style=\"text-align: right;\">\n",
       "      <th></th>\n",
       "      <th>clean_text</th>\n",
       "      <th>state_id</th>\n",
       "    </tr>\n",
       "  </thead>\n",
       "  <tbody>\n",
       "    <tr>\n",
       "      <th>248554</th>\n",
       "      <td>Given the non response of the Trump administr...</td>\n",
       "      <td>NY</td>\n",
       "    </tr>\n",
       "    <tr>\n",
       "      <th>152252</th>\n",
       "      <td>D Price Already at it Trump Official Impeachm...</td>\n",
       "      <td>CA</td>\n",
       "    </tr>\n",
       "    <tr>\n",
       "      <th>229626</th>\n",
       "      <td>Both Obama and Trump got elected because the ...</td>\n",
       "      <td>NY</td>\n",
       "    </tr>\n",
       "    <tr>\n",
       "      <th>258456</th>\n",
       "      <td>Biden needs to restore competence as fast as ...</td>\n",
       "      <td>TX</td>\n",
       "    </tr>\n",
       "    <tr>\n",
       "      <th>318774</th>\n",
       "      <td>Wasn t planning on backing away from trump any...</td>\n",
       "      <td>GA</td>\n",
       "    </tr>\n",
       "  </tbody>\n",
       "</table>\n",
       "</div>"
      ],
      "text/plain": [
       "                                               clean_text state_id\n",
       "248554   Given the non response of the Trump administr...       NY\n",
       "152252   D Price Already at it Trump Official Impeachm...       CA\n",
       "229626   Both Obama and Trump got elected because the ...       NY\n",
       "258456   Biden needs to restore competence as fast as ...       TX\n",
       "318774  Wasn t planning on backing away from trump any...       GA"
      ]
     },
     "execution_count": 144,
     "metadata": {},
     "output_type": "execute_result"
    }
   ],
   "source": [
    "X_train.head()"
   ]
  },
  {
   "cell_type": "code",
   "execution_count": null,
   "id": "ce359ea2-f3a1-4c05-bc15-a5857901f328",
   "metadata": {
    "tags": []
   },
   "outputs": [],
   "source": [
    "X_val"
   ]
  },
  {
   "cell_type": "code",
   "execution_count": null,
   "id": "e31c300d-1a23-4740-8b87-c8cac289e4ca",
   "metadata": {
    "tags": []
   },
   "outputs": [],
   "source": [
    "y_train_resampled.shape"
   ]
  },
  {
   "cell_type": "code",
   "execution_count": null,
   "id": "2fc31ed9-2d3f-4f43-b1af-d6fc834b57ec",
   "metadata": {
    "tags": []
   },
   "outputs": [],
   "source": [
    "y_train_resampled.head()"
   ]
  },
  {
   "cell_type": "code",
   "execution_count": null,
   "id": "7384523e-05c2-44e8-a747-7a060473d2ea",
   "metadata": {
    "tags": []
   },
   "outputs": [],
   "source": [
    "X_test.head()"
   ]
  },
  {
   "cell_type": "code",
   "execution_count": null,
   "id": "690a4372-1f03-4979-ae86-e25332b2a536",
   "metadata": {
    "tags": []
   },
   "outputs": [],
   "source": [
    "y_test.head()"
   ]
  },
  {
   "cell_type": "code",
   "execution_count": null,
   "id": "0ed8eb64-e6da-467a-9916-c14bfb70d234",
   "metadata": {
    "tags": []
   },
   "outputs": [],
   "source": [
    "X_val.head()"
   ]
  },
  {
   "cell_type": "code",
   "execution_count": null,
   "id": "bc77ceee-fff4-4a2b-80a2-1f8152742ef9",
   "metadata": {
    "tags": []
   },
   "outputs": [],
   "source": [
    "y_val.head()"
   ]
  },
  {
   "cell_type": "markdown",
   "id": "eabf3146-361b-40de-8172-f6a7ddacdf74",
   "metadata": {},
   "source": [
    "## Modeling "
   ]
  },
  {
   "cell_type": "code",
   "execution_count": 145,
   "id": "ac0b7aaf-71f5-47de-8fc5-201c388fd6cc",
   "metadata": {
    "tags": []
   },
   "outputs": [],
   "source": [
    "import boto3\n",
    "import sagemaker\n",
    "import pandas as pd\n",
    "\n",
    "sess = sagemaker.Session()\n",
    "bucket = sess.default_bucket()\n",
    "role = sagemaker.get_execution_role()\n",
    "region = boto3.Session().region_name\n",
    "\n",
    "sm = boto3.Session().client(service_name=\"sagemaker\", region_name=region)"
   ]
  },
  {
   "cell_type": "code",
   "execution_count": null,
   "id": "0a63cc4f-4fe6-4ca4-957a-231835b072a0",
   "metadata": {
    "tags": []
   },
   "outputs": [],
   "source": [
    "# pip install transformers"
   ]
  },
  {
   "cell_type": "markdown",
   "id": "73f849e6-fa6b-4951-a7c9-191be9bb2bd3",
   "metadata": {},
   "source": [
    "### Trying a different Preprocess, since I was having trouble with Word2Vec (This step ignores anything after word2vec)"
   ]
  },
  {
   "cell_type": "code",
   "execution_count": 146,
   "id": "5551b056-465c-420c-92b3-cb63e35ec549",
   "metadata": {
    "tags": []
   },
   "outputs": [],
   "source": [
    "from transformers import DistilBertTokenizer, DistilBertModel\n",
    "import torch\n",
    "from sklearn.base import BaseEstimator, TransformerMixin\n",
    "from tqdm import tqdm\n",
    "import numpy as np\n",
    "\n",
    "class DistilBERTTransformer(BaseEstimator, TransformerMixin):\n",
    "    def __init__(self):\n",
    "        # Initialize the DistilBERT tokenizer and model\n",
    "        self.tokenizer = DistilBertTokenizer.from_pretrained('distilbert-base-uncased')\n",
    "        self.model = DistilBertModel.from_pretrained('distilbert-base-uncased')\n",
    "        self.model.eval()  # Set model to evaluation mode\n",
    "    \n",
    "    def fit(self, X, y=None):\n",
    "        return self\n",
    "    \n",
    "    def transform(self, X, batch_size=32):\n",
    "        device = torch.device(\"cuda\" if torch.cuda.is_available() else \"cpu\")\n",
    "        self.model.to(device)\n",
    "        embeddings = []\n",
    "        for i in tqdm(range(0, len(X), batch_size)):\n",
    "            batch = X[i:i+batch_size]\n",
    "            inputs = self.tokenizer(batch, return_tensors=\"pt\", padding=True, truncation=True, max_length=512).to(device)\n",
    "            with torch.no_grad():\n",
    "                outputs = self.model(**inputs)\n",
    "            embeddings.append(outputs.last_hidden_state.mean(dim=1).detach().cpu().numpy())  # Use mean pooling\n",
    "        return np.vstack(embeddings)"
   ]
  },
  {
   "cell_type": "markdown",
   "id": "4a9b3cef-c2f2-4bac-9d0e-8ed7f5345a77",
   "metadata": {},
   "source": [
    "### BERT transformations"
   ]
  },
  {
   "cell_type": "code",
   "execution_count": 147,
   "id": "87a3443a-65bd-4a39-bef1-865639890905",
   "metadata": {
    "tags": []
   },
   "outputs": [
    {
     "data": {
      "text/html": [
       "<div>\n",
       "<style scoped>\n",
       "    .dataframe tbody tr th:only-of-type {\n",
       "        vertical-align: middle;\n",
       "    }\n",
       "\n",
       "    .dataframe tbody tr th {\n",
       "        vertical-align: top;\n",
       "    }\n",
       "\n",
       "    .dataframe thead th {\n",
       "        text-align: right;\n",
       "    }\n",
       "</style>\n",
       "<table border=\"1\" class=\"dataframe\">\n",
       "  <thead>\n",
       "    <tr style=\"text-align: right;\">\n",
       "      <th></th>\n",
       "      <th>clean_text</th>\n",
       "      <th>state_id</th>\n",
       "    </tr>\n",
       "  </thead>\n",
       "  <tbody>\n",
       "    <tr>\n",
       "      <th>248554</th>\n",
       "      <td>Given the non response of the Trump administr...</td>\n",
       "      <td>NY</td>\n",
       "    </tr>\n",
       "    <tr>\n",
       "      <th>152252</th>\n",
       "      <td>D Price Already at it Trump Official Impeachm...</td>\n",
       "      <td>CA</td>\n",
       "    </tr>\n",
       "    <tr>\n",
       "      <th>229626</th>\n",
       "      <td>Both Obama and Trump got elected because the ...</td>\n",
       "      <td>NY</td>\n",
       "    </tr>\n",
       "    <tr>\n",
       "      <th>258456</th>\n",
       "      <td>Biden needs to restore competence as fast as ...</td>\n",
       "      <td>TX</td>\n",
       "    </tr>\n",
       "    <tr>\n",
       "      <th>318774</th>\n",
       "      <td>Wasn t planning on backing away from trump any...</td>\n",
       "      <td>GA</td>\n",
       "    </tr>\n",
       "    <tr>\n",
       "      <th>...</th>\n",
       "      <td>...</td>\n",
       "      <td>...</td>\n",
       "    </tr>\n",
       "    <tr>\n",
       "      <th>277187</th>\n",
       "      <td>Becoming a failed state I would say the US is...</td>\n",
       "      <td>MA</td>\n",
       "    </tr>\n",
       "    <tr>\n",
       "      <th>67026</th>\n",
       "      <td>President Elect Biden should apologize to the...</td>\n",
       "      <td>NY</td>\n",
       "    </tr>\n",
       "    <tr>\n",
       "      <th>264630</th>\n",
       "      <td>mltrueblood One thing is certain The facts th...</td>\n",
       "      <td>MI</td>\n",
       "    </tr>\n",
       "    <tr>\n",
       "      <th>122827</th>\n",
       "      <td>trblmkr and perhaps on trump s assertions tha...</td>\n",
       "      <td>ME</td>\n",
       "    </tr>\n",
       "    <tr>\n",
       "      <th>210598</th>\n",
       "      <td>You guys just feed the beast Most sane people ...</td>\n",
       "      <td>NY</td>\n",
       "    </tr>\n",
       "  </tbody>\n",
       "</table>\n",
       "<p>264212 rows × 2 columns</p>\n",
       "</div>"
      ],
      "text/plain": [
       "                                               clean_text state_id\n",
       "248554   Given the non response of the Trump administr...       NY\n",
       "152252   D Price Already at it Trump Official Impeachm...       CA\n",
       "229626   Both Obama and Trump got elected because the ...       NY\n",
       "258456   Biden needs to restore competence as fast as ...       TX\n",
       "318774  Wasn t planning on backing away from trump any...       GA\n",
       "...                                                   ...      ...\n",
       "277187   Becoming a failed state I would say the US is...       MA\n",
       "67026    President Elect Biden should apologize to the...       NY\n",
       "264630   mltrueblood One thing is certain The facts th...       MI\n",
       "122827   trblmkr and perhaps on trump s assertions tha...       ME\n",
       "210598  You guys just feed the beast Most sane people ...       NY\n",
       "\n",
       "[264212 rows x 2 columns]"
      ]
     },
     "execution_count": 147,
     "metadata": {},
     "output_type": "execute_result"
    }
   ],
   "source": [
    "X_train"
   ]
  },
  {
   "cell_type": "code",
   "execution_count": 148,
   "id": "e71db967-b8ca-440c-8c60-1b294886e797",
   "metadata": {
    "tags": []
   },
   "outputs": [
    {
     "name": "stderr",
     "output_type": "stream",
     "text": [
      "100%|██████████| 8257/8257 [07:40<00:00, 17.92it/s]\n"
     ]
    }
   ],
   "source": [
    "# Instantiate the transformer\n",
    "distilbert_transformer = DistilBERTTransformer()\n",
    "\n",
    "# Transform 'clean_text' into DistilBERT embeddings for the training set\n",
    "texts_train = X_train['clean_text'].tolist()  # Extract texts as a list\n",
    "distilbert_embeddings_train = distilbert_transformer.transform(texts_train)\n",
    "\n",
    "# Repeat for validation and test sets as needed\n"
   ]
  },
  {
   "cell_type": "code",
   "execution_count": 149,
   "id": "4ffbbb5e-9f65-4c7c-879a-7216db1219de",
   "metadata": {
    "tags": []
   },
   "outputs": [
    {
     "name": "stderr",
     "output_type": "stream",
     "text": [
      "100%|██████████| 1033/1033 [00:57<00:00, 18.05it/s]\n"
     ]
    }
   ],
   "source": [
    "# Transform 'clean_text' into DistilBERT embeddings for the validation set\n",
    "texts_val = X_val['clean_text'].tolist()  # Extract texts as a list\n",
    "distilbert_embeddings_val = distilbert_transformer.transform(texts_val)"
   ]
  },
  {
   "cell_type": "code",
   "execution_count": 150,
   "id": "e4499044-70a3-4a9d-a04c-8f7dc565e845",
   "metadata": {
    "tags": []
   },
   "outputs": [
    {
     "name": "stderr",
     "output_type": "stream",
     "text": [
      "100%|██████████| 1033/1033 [00:57<00:00, 18.09it/s]\n"
     ]
    }
   ],
   "source": [
    "# Transform 'clean_text' into DistilBERT embeddings for the test set\n",
    "texts_test = X_test['clean_text'].tolist()  # Extract texts as a list\n",
    "distilbert_embeddings_test = distilbert_transformer.transform(texts_test)\n"
   ]
  },
  {
   "cell_type": "code",
   "execution_count": 151,
   "id": "b08a4019-77f7-4bd3-b09b-34d4ae28dc4a",
   "metadata": {
    "tags": []
   },
   "outputs": [
    {
     "name": "stderr",
     "output_type": "stream",
     "text": [
      "/opt/conda/lib/python3.8/site-packages/sklearn/preprocessing/_encoders.py:975: FutureWarning: `sparse` was renamed to `sparse_output` in version 1.2 and will be removed in 1.4. `sparse_output` is ignored unless you leave `sparse` to its default value.\n",
      "  warnings.warn(\n"
     ]
    }
   ],
   "source": [
    "from sklearn.preprocessing import OneHotEncoder\n",
    "\n",
    "# Initialize the OneHotEncoder\n",
    "onehot_encoder = OneHotEncoder(sparse=False) \n",
    "\n",
    "# Assuming X_train, X_val, X_test are your datasets\n",
    "state_ids_train = X_train['state_id'].values.reshape(-1, 1)  # Reshape for the encoder\n",
    "state_id_encoded_train = onehot_encoder.fit_transform(state_ids_train)"
   ]
  },
  {
   "cell_type": "code",
   "execution_count": 155,
   "id": "4784e033-9ce5-4856-8e89-9f7c99bca033",
   "metadata": {
    "tags": []
   },
   "outputs": [],
   "source": [
    "state_ids_val = X_val['state_id'].values.reshape(-1, 1)\n",
    "state_id_encoded_val = onehot_encoder.transform(state_ids_val)\n",
    "\n",
    "state_ids_test = X_test['state_id'].values.reshape(-1, 1)\n",
    "state_id_encoded_test = onehot_encoder.transform(state_ids_test)"
   ]
  },
  {
   "cell_type": "code",
   "execution_count": 156,
   "id": "7ec49c47-7eb0-4fbe-bf9c-f8922b9c8ebb",
   "metadata": {
    "tags": []
   },
   "outputs": [],
   "source": [
    "#Combine with sate ID that is one hot encoded\n",
    "X_train_prepared = np.hstack((distilbert_embeddings_train, state_id_encoded_train))\n",
    "X_val_prepared = np.hstack((distilbert_embeddings_val, state_id_encoded_val))\n",
    "X_test_prepared = np.hstack((distilbert_embeddings_test, state_id_encoded_test))\n",
    "\n"
   ]
  },
  {
   "cell_type": "markdown",
   "id": "36b3a58d-f94c-414e-81ab-d8036d2be11c",
   "metadata": {},
   "source": [
    "## Logistic Regression as a baseline"
   ]
  },
  {
   "cell_type": "code",
   "execution_count": 286,
   "id": "c3198671-18ce-4d5c-84a4-cb5c70b7c0db",
   "metadata": {
    "tags": []
   },
   "outputs": [
    {
     "name": "stderr",
     "output_type": "stream",
     "text": [
      "/opt/conda/lib/python3.8/site-packages/sklearn/linear_model/_logistic.py:460: ConvergenceWarning: lbfgs failed to converge (status=1):\n",
      "STOP: TOTAL NO. of ITERATIONS REACHED LIMIT.\n",
      "\n",
      "Increase the number of iterations (max_iter) or scale the data as shown in:\n",
      "    https://scikit-learn.org/stable/modules/preprocessing.html\n",
      "Please also refer to the documentation for alternative solver options:\n",
      "    https://scikit-learn.org/stable/modules/linear_model.html#logistic-regression\n",
      "  n_iter_i = _check_optimize_result(\n"
     ]
    },
    {
     "name": "stdout",
     "output_type": "stream",
     "text": [
      "Validation Set Accuracy: 0.6441396433221304\n",
      "\n",
      "Validation Set Classification Report:\n",
      "               precision    recall  f1-score   support\n",
      "\n",
      "  Biden_nega       0.49      0.29      0.36       900\n",
      "  Biden_neut       0.71      0.75      0.73      1726\n",
      "  Biden_posi       0.68      0.75      0.71      2469\n",
      "  Trump_nega       0.55      0.40      0.47      7355\n",
      "  Trump_neut       0.69      0.71      0.70      8681\n",
      "  Trump_posi       0.64      0.73      0.68     11896\n",
      "\n",
      "    accuracy                           0.64     33027\n",
      "   macro avg       0.63      0.61      0.61     33027\n",
      "weighted avg       0.64      0.64      0.64     33027\n",
      "\n"
     ]
    }
   ],
   "source": [
    "from sklearn.linear_model import LogisticRegression\n",
    "from sklearn.metrics import classification_report, accuracy_score\n",
    "\n",
    "# Initialize the Logistic Regression model\n",
    "log_reg = LogisticRegression(max_iter=1000, solver='lbfgs')\n",
    "\n",
    "# Fit the model on the training data\n",
    "log_reg.fit(X_train_prepared, y_train)\n",
    "\n",
    "# Predict on the validation set\n",
    "y_val_pred = log_reg.predict(X_val_prepared)\n",
    "\n",
    "# Evaluate the model\n",
    "print(\"Validation Set Accuracy:\", accuracy_score(y_val, y_val_pred))\n",
    "print(\"\\nValidation Set Classification Report:\\n\", classification_report(y_val, y_val_pred))\n"
   ]
  },
  {
   "cell_type": "markdown",
   "id": "677ea87c-8c4a-4b27-b572-a9080854cc7f",
   "metadata": {
    "tags": []
   },
   "source": [
    "## MLP Model 1"
   ]
  },
  {
   "cell_type": "code",
   "execution_count": 158,
   "id": "565ba8d1-8872-4883-b77f-b8858b8fe275",
   "metadata": {
    "tags": []
   },
   "outputs": [
    {
     "name": "stdout",
     "output_type": "stream",
     "text": [
      "Iteration 1, loss = 0.86432177\n",
      "Iteration 2, loss = 0.78825137\n",
      "Iteration 3, loss = 0.76293808\n",
      "Iteration 4, loss = 0.74180840\n",
      "Iteration 5, loss = 0.72516686\n",
      "Iteration 6, loss = 0.70897513\n",
      "Iteration 7, loss = 0.69569723\n",
      "Iteration 8, loss = 0.68349195\n",
      "Iteration 9, loss = 0.67214032\n",
      "Iteration 10, loss = 0.66064983\n",
      "Iteration 11, loss = 0.65104152\n",
      "Iteration 12, loss = 0.64207598\n",
      "Iteration 13, loss = 0.63197257\n",
      "Iteration 14, loss = 0.62437983\n",
      "Iteration 15, loss = 0.61580190\n",
      "Iteration 16, loss = 0.60967626\n",
      "Iteration 17, loss = 0.60088120\n",
      "Iteration 18, loss = 0.59404550\n",
      "Iteration 19, loss = 0.58828909\n",
      "Iteration 20, loss = 0.58216277\n",
      "Iteration 21, loss = 0.57586322\n",
      "Iteration 22, loss = 0.56946403\n",
      "Iteration 23, loss = 0.56459254\n",
      "Iteration 24, loss = 0.55893742\n",
      "Iteration 25, loss = 0.55399814\n",
      "Iteration 26, loss = 0.54821797\n",
      "Iteration 27, loss = 0.54503045\n",
      "Iteration 28, loss = 0.54015958\n",
      "Iteration 29, loss = 0.53545384\n",
      "Iteration 30, loss = 0.53104275\n",
      "Iteration 31, loss = 0.52621620\n",
      "Iteration 32, loss = 0.52363696\n",
      "Iteration 33, loss = 0.51873127\n",
      "Iteration 34, loss = 0.51620646\n",
      "Iteration 35, loss = 0.51161558\n",
      "Iteration 36, loss = 0.50852220\n",
      "Iteration 37, loss = 0.50377708\n",
      "Iteration 38, loss = 0.50061955\n",
      "Iteration 39, loss = 0.49841286\n",
      "Iteration 40, loss = 0.49396192\n",
      "Iteration 41, loss = 0.49176428\n",
      "Iteration 42, loss = 0.48815524\n",
      "Iteration 43, loss = 0.48493372\n",
      "Iteration 44, loss = 0.48241126\n",
      "Iteration 45, loss = 0.48000316\n",
      "Iteration 46, loss = 0.47635740\n",
      "Iteration 47, loss = 0.47480138\n",
      "Iteration 48, loss = 0.47177005\n",
      "Iteration 49, loss = 0.46876796\n",
      "Iteration 50, loss = 0.46584962\n",
      "Iteration 51, loss = 0.46400955\n",
      "Iteration 52, loss = 0.46138695\n",
      "Iteration 53, loss = 0.45951973\n",
      "Iteration 54, loss = 0.45541859\n",
      "Iteration 55, loss = 0.45474537\n",
      "Iteration 56, loss = 0.45251175\n",
      "Iteration 57, loss = 0.44968168\n",
      "Iteration 58, loss = 0.44749113\n",
      "Iteration 59, loss = 0.44557579\n",
      "Iteration 60, loss = 0.44235899\n",
      "Iteration 61, loss = 0.44085782\n",
      "Iteration 62, loss = 0.43968502\n",
      "Iteration 63, loss = 0.43766002\n",
      "Iteration 64, loss = 0.43521929\n",
      "Iteration 65, loss = 0.43423348\n",
      "Iteration 66, loss = 0.43233239\n",
      "Iteration 67, loss = 0.42975150\n",
      "Iteration 68, loss = 0.42719375\n",
      "Iteration 69, loss = 0.42584946\n",
      "Iteration 70, loss = 0.42488040\n",
      "Iteration 71, loss = 0.42275156\n",
      "Iteration 72, loss = 0.42100464\n",
      "Iteration 73, loss = 0.42017531\n",
      "Iteration 74, loss = 0.41867345\n",
      "Iteration 75, loss = 0.41527150\n",
      "Iteration 76, loss = 0.41505470\n",
      "Iteration 77, loss = 0.41325722\n",
      "Iteration 78, loss = 0.41056497\n",
      "Iteration 79, loss = 0.41015126\n",
      "Iteration 80, loss = 0.40921023\n",
      "Iteration 81, loss = 0.40830945\n",
      "Iteration 82, loss = 0.40583135\n",
      "Iteration 83, loss = 0.40384735\n",
      "Iteration 84, loss = 0.40499153\n",
      "Iteration 85, loss = 0.40196013\n",
      "Iteration 86, loss = 0.40004478\n",
      "Iteration 87, loss = 0.39876382\n",
      "Iteration 88, loss = 0.39807993\n",
      "Iteration 89, loss = 0.39629392\n",
      "Iteration 90, loss = 0.39525108\n",
      "Iteration 91, loss = 0.39403088\n",
      "Iteration 92, loss = 0.39260476\n",
      "Iteration 93, loss = 0.39130302\n",
      "Iteration 94, loss = 0.39060096\n",
      "Iteration 95, loss = 0.39039151\n",
      "Iteration 96, loss = 0.38684610\n",
      "Iteration 97, loss = 0.38918615\n",
      "Iteration 98, loss = 0.38620431\n",
      "Iteration 99, loss = 0.38348548\n",
      "Iteration 100, loss = 0.38297304\n",
      "Iteration 101, loss = 0.38272102\n",
      "Iteration 102, loss = 0.38243231\n",
      "Iteration 103, loss = 0.38042752\n",
      "Iteration 104, loss = 0.37979125\n",
      "Iteration 105, loss = 0.37859534\n",
      "Iteration 106, loss = 0.37678764\n",
      "Iteration 107, loss = 0.37793983\n",
      "Iteration 108, loss = 0.37506671\n",
      "Iteration 109, loss = 0.37366627\n",
      "Iteration 110, loss = 0.37279283\n",
      "Iteration 111, loss = 0.37314584\n",
      "Iteration 112, loss = 0.37205342\n",
      "Iteration 113, loss = 0.37038354\n",
      "Iteration 114, loss = 0.36877554\n",
      "Iteration 115, loss = 0.36885480\n",
      "Iteration 116, loss = 0.36824003\n",
      "Iteration 117, loss = 0.36595406\n",
      "Iteration 118, loss = 0.36512720\n",
      "Iteration 119, loss = 0.36540756\n",
      "Iteration 120, loss = 0.36423364\n",
      "Iteration 121, loss = 0.36364266\n",
      "Iteration 122, loss = 0.36138437\n",
      "Iteration 123, loss = 0.36327272\n",
      "Iteration 124, loss = 0.36126720\n",
      "Iteration 125, loss = 0.35855986\n",
      "Iteration 126, loss = 0.35939935\n",
      "Iteration 127, loss = 0.35902963\n",
      "Iteration 128, loss = 0.35730146\n",
      "Iteration 129, loss = 0.35680479\n",
      "Iteration 130, loss = 0.35730956\n",
      "Iteration 131, loss = 0.35399753\n",
      "Iteration 132, loss = 0.35524983\n",
      "Iteration 133, loss = 0.35164616\n",
      "Iteration 134, loss = 0.35239895\n",
      "Iteration 135, loss = 0.35304636\n",
      "Iteration 136, loss = 0.35093815\n",
      "Iteration 137, loss = 0.35103784\n",
      "Iteration 138, loss = 0.35045415\n",
      "Iteration 139, loss = 0.34799536\n",
      "Iteration 140, loss = 0.34958320\n",
      "Iteration 141, loss = 0.34764639\n",
      "Iteration 142, loss = 0.34543689\n",
      "Iteration 143, loss = 0.34626181\n",
      "Iteration 144, loss = 0.34574023\n",
      "Iteration 145, loss = 0.34533771\n",
      "Iteration 146, loss = 0.34346499\n",
      "Iteration 147, loss = 0.34238949\n",
      "Iteration 148, loss = 0.34305138\n",
      "Iteration 149, loss = 0.34121581\n",
      "Iteration 150, loss = 0.34237713\n",
      "Iteration 151, loss = 0.34028472\n",
      "Iteration 152, loss = 0.34059762\n",
      "Iteration 153, loss = 0.33870535\n",
      "Iteration 154, loss = 0.34038335\n",
      "Iteration 155, loss = 0.33789962\n",
      "Iteration 156, loss = 0.33795507\n",
      "Iteration 157, loss = 0.33959250\n",
      "Iteration 158, loss = 0.33627422\n",
      "Iteration 159, loss = 0.33647588\n",
      "Iteration 160, loss = 0.33548716\n",
      "Iteration 161, loss = 0.33684265\n",
      "Iteration 162, loss = 0.33312187\n",
      "Iteration 163, loss = 0.33578752\n",
      "Iteration 164, loss = 0.33213712\n",
      "Iteration 165, loss = 0.33239510\n",
      "Iteration 166, loss = 0.33183938\n",
      "Iteration 167, loss = 0.33064627\n",
      "Iteration 168, loss = 0.33225947\n",
      "Iteration 169, loss = 0.32894468\n",
      "Iteration 170, loss = 0.32886253\n",
      "Iteration 171, loss = 0.33007618\n",
      "Iteration 172, loss = 0.32747548\n",
      "Iteration 173, loss = 0.32860642\n",
      "Iteration 174, loss = 0.32761353\n",
      "Iteration 175, loss = 0.32799111\n",
      "Iteration 176, loss = 0.32580894\n",
      "Iteration 177, loss = 0.32549933\n",
      "Iteration 178, loss = 0.32520166\n",
      "Iteration 179, loss = 0.32521840\n",
      "Iteration 180, loss = 0.32418869\n",
      "Iteration 181, loss = 0.32504476\n",
      "Iteration 182, loss = 0.32260097\n",
      "Iteration 183, loss = 0.32306760\n",
      "Iteration 184, loss = 0.32221381\n",
      "Iteration 185, loss = 0.32443247\n",
      "Iteration 186, loss = 0.32033275\n",
      "Iteration 187, loss = 0.32109410\n",
      "Iteration 188, loss = 0.32140416\n",
      "Iteration 189, loss = 0.32025433\n",
      "Iteration 190, loss = 0.31985672\n",
      "Iteration 191, loss = 0.31718846\n",
      "Iteration 192, loss = 0.31830976\n",
      "Iteration 193, loss = 0.31756857\n",
      "Iteration 194, loss = 0.31855945\n",
      "Iteration 195, loss = 0.31632241\n",
      "Iteration 196, loss = 0.31867728\n",
      "Iteration 197, loss = 0.31443030\n",
      "Iteration 198, loss = 0.31644120\n",
      "Iteration 199, loss = 0.31577471\n",
      "Iteration 200, loss = 0.31737584\n",
      "Iteration 201, loss = 0.31296724\n",
      "Iteration 202, loss = 0.31388723\n",
      "Iteration 203, loss = 0.31482499\n",
      "Iteration 204, loss = 0.31412442\n",
      "Iteration 205, loss = 0.31273943\n",
      "Iteration 206, loss = 0.31045128\n",
      "Iteration 207, loss = 0.31301747\n",
      "Iteration 208, loss = 0.31090745\n",
      "Iteration 209, loss = 0.31198483\n",
      "Iteration 210, loss = 0.31157075\n",
      "Iteration 211, loss = 0.30990939\n",
      "Iteration 212, loss = 0.30873321\n",
      "Iteration 213, loss = 0.31025884\n",
      "Iteration 214, loss = 0.30902004\n",
      "Iteration 215, loss = 0.30674983\n",
      "Iteration 216, loss = 0.30794282\n",
      "Iteration 217, loss = 0.30783126\n",
      "Iteration 218, loss = 0.30721027\n",
      "Iteration 219, loss = 0.30798971\n",
      "Iteration 220, loss = 0.30652739\n",
      "Iteration 221, loss = 0.30663036\n",
      "Iteration 222, loss = 0.30352684\n",
      "Iteration 223, loss = 0.30519988\n",
      "Iteration 224, loss = 0.30500173\n",
      "Iteration 225, loss = 0.30481007\n",
      "Iteration 226, loss = 0.30408710\n",
      "Iteration 227, loss = 0.30475954\n",
      "Iteration 228, loss = 0.30292419\n",
      "Iteration 229, loss = 0.30451065\n",
      "Iteration 230, loss = 0.30218818\n",
      "Iteration 231, loss = 0.30263214\n",
      "Iteration 232, loss = 0.30278998\n",
      "Iteration 233, loss = 0.30230621\n",
      "Training loss did not improve more than tol=0.001000 for 10 consecutive epochs. Stopping.\n",
      "Validation Set Accuracy: 0.6124988645653556\n",
      "Validation Set Classification Report:\n",
      "               precision    recall  f1-score   support\n",
      "\n",
      "  Biden_nega       0.38      0.32      0.35       900\n",
      "  Biden_neut       0.67      0.70      0.68      1726\n",
      "  Biden_posi       0.67      0.68      0.67      2469\n",
      "  Trump_nega       0.50      0.44      0.47      7355\n",
      "  Trump_neut       0.66      0.66      0.66      8681\n",
      "  Trump_posi       0.63      0.68      0.66     11896\n",
      "\n",
      "    accuracy                           0.61     33027\n",
      "   macro avg       0.58      0.58      0.58     33027\n",
      "weighted avg       0.61      0.61      0.61     33027\n",
      "\n"
     ]
    }
   ],
   "source": [
    "from sklearn.preprocessing import StandardScaler\n",
    "from sklearn.pipeline import make_pipeline\n",
    "from sklearn.neural_network import MLPClassifier\n",
    "from sklearn.metrics import accuracy_score, classification_report\n",
    "\n",
    "# Use a pipeline to standardize features\n",
    "mlp_pipeline = make_pipeline(\n",
    "    StandardScaler(),\n",
    "    MLPClassifier(hidden_layer_sizes=(128, 64), max_iter=500, activation='relu', solver='adam', verbose=True, tol=0.001, alpha=0.0001)\n",
    ")\n",
    "\n",
    "# Fit the model\n",
    "mlp_pipeline.fit(X_train_prepared, y_train)\n",
    "\n",
    "# Predict and evaluate\n",
    "y_val_pred = mlp_pipeline.predict(X_val_prepared)\n",
    "print(\"Validation Set Accuracy:\", accuracy_score(y_val, y_val_pred))\n",
    "print(\"Validation Set Classification Report:\\n\", classification_report(y_val, y_val_pred))\n"
   ]
  },
  {
   "cell_type": "code",
   "execution_count": null,
   "id": "292bd6ce-e78b-4ef1-a244-897f84c8594e",
   "metadata": {},
   "outputs": [],
   "source": []
  },
  {
   "cell_type": "markdown",
   "id": "fbd3687d-311a-4be5-aba4-b879dbaaf2e4",
   "metadata": {
    "tags": []
   },
   "source": [
    "## MLP Model"
   ]
  },
  {
   "cell_type": "code",
   "execution_count": 289,
   "id": "df51ce2e-9fd9-4695-8891-d6e3576e1fe8",
   "metadata": {
    "tags": []
   },
   "outputs": [
    {
     "name": "stdout",
     "output_type": "stream",
     "text": [
      "Iteration 1, loss = 0.88088519\n",
      "Iteration 2, loss = 0.81637793\n",
      "Iteration 3, loss = 0.79896415\n",
      "Iteration 4, loss = 0.78563963\n",
      "Iteration 5, loss = 0.77307836\n",
      "Iteration 6, loss = 0.76299937\n",
      "Iteration 7, loss = 0.75408237\n",
      "Iteration 8, loss = 0.74642038\n",
      "Iteration 9, loss = 0.73831446\n",
      "Iteration 10, loss = 0.73065500\n",
      "Iteration 11, loss = 0.72462643\n",
      "Iteration 12, loss = 0.71891434\n",
      "Iteration 13, loss = 0.71105125\n",
      "Iteration 14, loss = 0.70638132\n",
      "Iteration 15, loss = 0.70026020\n",
      "Iteration 16, loss = 0.69491220\n",
      "Iteration 17, loss = 0.68986309\n",
      "Training loss did not improve more than tol=0.010000 for 10 consecutive epochs. Stopping.\n",
      "Validation Set Accuracy (MLP): 0.6488630514427589\n",
      "\n",
      "Validation Set Classification Report (MLP):\n",
      "               precision    recall  f1-score   support\n",
      "\n",
      "  Biden_nega       0.51      0.29      0.37       900\n",
      "  Biden_neut       0.78      0.66      0.71      1726\n",
      "  Biden_posi       0.65      0.84      0.74      2469\n",
      "  Trump_nega       0.60      0.38      0.46      7355\n",
      "  Trump_neut       0.76      0.61      0.67      8681\n",
      "  Trump_posi       0.61      0.83      0.70     11896\n",
      "\n",
      "    accuracy                           0.65     33027\n",
      "   macro avg       0.65      0.60      0.61     33027\n",
      "weighted avg       0.66      0.65      0.64     33027\n",
      "\n"
     ]
    }
   ],
   "source": [
    "from sklearn.neural_network import MLPClassifier\n",
    "\n",
    "# Initialize the MLP Classifier\n",
    "\n",
    "mlp = MLPClassifier(hidden_layer_sizes=(128, 64), max_iter=300, activation='relu', solver='adam', verbose=True, tol=0.01)\n",
    "\n",
    "\n",
    "# Fit the model on the training data\n",
    "mlp.fit(X_train_prepared, y_train)\n",
    "\n",
    "# Predict on the validation set\n",
    "y_val_pred_mlp = mlp.predict(X_val_prepared)\n",
    "\n",
    "# Evaluate the model\n",
    "print(\"Validation Set Accuracy (MLP):\", accuracy_score(y_val, y_val_pred_mlp))\n",
    "print(\"\\nValidation Set Classification Report (MLP):\\n\", classification_report(y_val, y_val_pred_mlp))\n"
   ]
  },
  {
   "cell_type": "markdown",
   "id": "9952871e-0de0-488e-afdb-269926bd1470",
   "metadata": {
    "tags": []
   },
   "source": [
    "## Transformer "
   ]
  },
  {
   "cell_type": "code",
   "execution_count": 300,
   "id": "81738c07-0452-408d-b5d7-c6dcf4733ae9",
   "metadata": {
    "tags": []
   },
   "outputs": [
    {
     "name": "stdout",
     "output_type": "stream",
     "text": [
      "Test Accuracy: 0.6482272080419051\n",
      "Classification Report:\n",
      "              precision    recall  f1-score   support\n",
      "\n",
      "  Biden_nega       0.51      0.22      0.30       866\n",
      "  Biden_neut       0.75      0.75      0.75      1768\n",
      "  Biden_posi       0.66      0.81      0.73      2455\n",
      "  Trump_nega       0.56      0.41      0.47      7168\n",
      "  Trump_neut       0.69      0.70      0.69      8700\n",
      "  Trump_posi       0.65      0.73      0.69     12070\n",
      "\n",
      "    accuracy                           0.65     33027\n",
      "   macro avg       0.63      0.60      0.61     33027\n",
      "weighted avg       0.64      0.65      0.64     33027\n",
      "\n"
     ]
    }
   ],
   "source": [
    "import torch\n",
    "import torch.nn as nn\n",
    "import torch.nn.functional as F\n",
    "from torch.utils.data import Dataset, DataLoader\n",
    "from torch.optim import Adam\n",
    "from sklearn.metrics import classification_report, accuracy_score\n",
    "from sklearn.preprocessing import LabelEncoder\n",
    "\n",
    "# Define device upfront\n",
    "device = torch.device(\"cuda\" if torch.cuda.is_available() else \"cpu\")\n",
    "\n",
    "# Assuming X_train_prepared, X_val_prepared, X_test_prepared and their respective y's are already defined\n",
    "\n",
    "# Encode labels numerically\n",
    "label_encoder = LabelEncoder()\n",
    "y_train_encoded = label_encoder.fit_transform(y_train)\n",
    "y_val_encoded = label_encoder.transform(y_val)\n",
    "y_test_encoded = label_encoder.transform(y_test)\n",
    "\n",
    "# Custom Dataset\n",
    "class CustomDataset(Dataset):\n",
    "    def __init__(self, features, labels):\n",
    "        self.features = features\n",
    "        self.labels = labels\n",
    "\n",
    "    def __len__(self):\n",
    "        return len(self.labels)\n",
    "\n",
    "    def __getitem__(self, idx):\n",
    "        return {\n",
    "            \"features\": torch.tensor(self.features[idx], dtype=torch.float),\n",
    "            \"labels\": torch.tensor(self.labels[idx], dtype=torch.long)\n",
    "        }\n",
    "\n",
    "# Dataset and DataLoader\n",
    "train_dataset = CustomDataset(X_train_prepared, y_train_encoded)\n",
    "val_dataset = CustomDataset(X_val_prepared, y_val_encoded)\n",
    "test_dataset = CustomDataset(X_test_prepared, y_test_encoded)\n",
    "\n",
    "train_loader = DataLoader(train_dataset, batch_size=16, shuffle=True)\n",
    "val_loader = DataLoader(val_dataset, batch_size=16)\n",
    "test_loader = DataLoader(test_dataset, batch_size=16)\n",
    "\n",
    "# Model Definition\n",
    "class Classifier(nn.Module):\n",
    "    def __init__(self, input_size, num_classes):\n",
    "        super(Classifier, self).__init__()\n",
    "        self.fc1 = nn.Linear(input_size, 512)\n",
    "        self.fc2 = nn.Linear(512, 256)\n",
    "        self.fc3 = nn.Linear(256, num_classes)\n",
    "    \n",
    "    def forward(self, x):\n",
    "        x = F.relu(self.fc1(x))\n",
    "        x = F.relu(self.fc2(x))\n",
    "        x = self.fc3(x)\n",
    "        return x\n",
    "\n",
    "model = Classifier(input_size=X_train_prepared.shape[1], num_classes=len(set(y_train_encoded)))\n",
    "model.to(device)\n",
    "\n",
    "# Training\n",
    "optimizer = Adam(model.parameters(), lr=0.001)\n",
    "criterion = nn.CrossEntropyLoss()\n",
    "\n",
    "epochs = 3\n",
    "for epoch in range(epochs):\n",
    "    model.train()\n",
    "    for batch in train_loader:\n",
    "        features, labels = batch['features'].to(device), batch['labels'].to(device)\n",
    "        optimizer.zero_grad()\n",
    "        outputs = model(features)\n",
    "        loss = criterion(outputs, labels)\n",
    "        loss.backward()\n",
    "        optimizer.step()\n",
    "\n",
    "    \n",
    "\n",
    "# Evaluation\n",
    "model.eval()\n",
    "y_true = []\n",
    "y_pred = []\n",
    "with torch.no_grad():\n",
    "    for batch in test_loader:\n",
    "        features, labels = batch['features'].to(device), batch['labels'].to(device)\n",
    "        outputs = model(features)\n",
    "        _, predicted = torch.max(outputs, 1)\n",
    "        y_true.extend(labels.cpu().numpy())\n",
    "        y_pred.extend(predicted.cpu().numpy())\n",
    "\n",
    "print(\"Test Accuracy:\", accuracy_score(y_true, y_pred))\n",
    "print(\"Classification Report:\")\n",
    "print(classification_report(y_true, y_pred, target_names=label_encoder.classes_))\n",
    "\n"
   ]
  },
  {
   "cell_type": "code",
   "execution_count": null,
   "id": "9139a3eb-a75f-47d6-9738-60e88975954b",
   "metadata": {
    "tags": []
   },
   "outputs": [],
   "source": []
  },
  {
   "cell_type": "code",
   "execution_count": 150,
   "id": "382d7a81-5a07-4ae8-b0d9-4daa9c6de530",
   "metadata": {
    "tags": []
   },
   "outputs": [
    {
     "name": "stdout",
     "output_type": "stream",
     "text": [
      "Successfully uploaded X_train\n",
      "Successfully uploaded y_train_resampled\n",
      "Successfully uploaded X_test\n",
      "Successfully uploaded y_test\n",
      "Successfully uploaded X_val\n",
      "Successfully uploaded y_val\n"
     ]
    }
   ],
   "source": [
    "# import boto3\n",
    "# import pandas as pd\n",
    "# from io import StringIO\n",
    "\n",
    "# # Create an S3 client\n",
    "# s3 = boto3.client('s3')\n",
    "\n",
    "# # Specify the name of the bucket\n",
    "# bucket_name = '508group'\n",
    "\n",
    "# # Ensure your DataFrame variables are defined here (X_train, y_train_resampled, X_test, y_test, X_val, y_val)\n",
    "\n",
    "# # Define the DataFrames\n",
    "# data_frames = {\n",
    "#     'X_train': X_train,\n",
    "#     'y_train_resampled': y_train_resampled,\n",
    "#     'X_test': X_test,\n",
    "#     'y_test': y_test,\n",
    "#     'X_val': X_val,\n",
    "#     'y_val': y_val,\n",
    "# }\n",
    "\n",
    "# # Upload each DataFrame as CSV to the \"508group\" bucket\n",
    "# for key, df in data_frames.items():\n",
    "#     try:\n",
    "#         # Convert DataFrame to CSV string\n",
    "#         csv_buffer = StringIO()\n",
    "#         df.to_csv(csv_buffer, index=False)\n",
    "        \n",
    "#         # Upload CSV string to S3\n",
    "#         s3.put_object(Body=csv_buffer.getvalue(), Bucket=bucket_name, Key=f'ADS508_project/cleandata/{key}.csv')\n",
    "#         print(f\"Successfully uploaded {key}\")\n",
    "#     except Exception as e:\n",
    "#         print(f\"Error uploading {key} to S3: {e}\")\n",
    "\n",
    "# # Define the S3 paths for the data now that they are uploaded\n",
    "# s3_paths = {\n",
    "#     'X_train': 's3://508group/ADS508_project/cleandata/X_train.csv',\n",
    "#     'y_train_resampled': 's3://508group/ADS508_project/cleandata/y_train_resampled.csv',\n",
    "#     'X_test': 's3://508group/ADS508_project/cleandata/X_test.csv',\n",
    "#     'y_test':  's3://508group/ADS508_project/cleandata/y_test.csv',\n",
    "#     'X_val': 's3://508group/ADS508_project/cleandata/X_val.csv',\n",
    "#     'y_val': 's3://508group/ADS508_project/cleandata/y_val.csv',\n",
    "# }\n",
    "# output_path = 's3://508group/ADS508_project/output/'\n",
    "\n",
    "# You can now use `s3_paths` dictionary to access your data in S3 for any further processing\n"
   ]
  },
  {
   "cell_type": "code",
   "execution_count": 148,
   "id": "05531a56-8cb8-4a24-85f4-c11a373cad2c",
   "metadata": {
    "tags": []
   },
   "outputs": [],
   "source": [
    "# !pip install -U sagemaker"
   ]
  },
  {
   "cell_type": "code",
   "execution_count": 147,
   "id": "0ce5cf89-ad04-4625-92e3-c621b175aee5",
   "metadata": {
    "tags": []
   },
   "outputs": [],
   "source": [
    "# pip install XGBoost"
   ]
  },
  {
   "cell_type": "code",
   "execution_count": null,
   "id": "6aff2b88-cc09-4078-b3af-5c5c341fa58b",
   "metadata": {
    "tags": []
   },
   "outputs": [],
   "source": [
    "# import boto3\n",
    "# import pandas as pd\n",
    "# from io import StringIO\n",
    "\n",
    "# # Create an S3 client\n",
    "# s3 = boto3.client('s3')\n",
    "\n",
    "# # Specify the name of the bucket\n",
    "# bucket_name = '508group'\n",
    "\n",
    "# # Define the DataFrames\n",
    "# data_frames = {\n",
    "#     'X_train': X_train,\n",
    "#     'y_train_resampled': y_train_resampled,\n",
    "#     'X_test': X_test,\n",
    "#     'y_test': y_test,\n",
    "#     'X_val': X_val,\n",
    "#     'y_val': y_val,\n",
    "# }\n",
    "\n",
    "# # Upload each DataFrame as CSV to the \"508group\" bucket\n",
    "# for key, df in data_frames.items():\n",
    "#     try:\n",
    "#         # Convert DataFrame to CSV string\n",
    "#         csv_buffer = StringIO()\n",
    "#         df.to_csv(csv_buffer, index=False)\n",
    "        \n",
    "#         # Upload CSV string to S3\n",
    "#         s3.put_object(Body=csv_buffer.getvalue(), Bucket=bucket_name, Key=f'ADS508_project/cleandata/{key}.csv')\n",
    "#     except Exception as e:\n",
    "#         print(f\"Error uploading {key} to S3: {e}\")\n"
   ]
  },
  {
   "cell_type": "code",
   "execution_count": null,
   "id": "36e7cd7d-d7d9-4e0b-9503-4c282d2d0661",
   "metadata": {},
   "outputs": [],
   "source": [
    "# # Define the S3 paths for training data, model output, etc.\n",
    "# X_train = 's3://508group/ADS508_project/cleandata/X_train.csv'\n",
    "# y_train_resampled = 's3://508group/ADS508_project/cleandata/y_train_resampled.csv'\n",
    "# X_test = 's3://508group/ADS508_project/cleandata/X_test.csv'\n",
    "# y_test =  's3://508group/ADS508_project/cleandata/y_test.csv'\n",
    "# X_val = 's3://508group/ADS508_project/cleandata/X_val.csv'\n",
    "# y_val = 's3://508group/ADS508_project/cleandata/y_val.csv'\n",
    "# output_path = 's3://508group/ADS508_project/output/'\n"
   ]
  },
  {
   "cell_type": "code",
   "execution_count": null,
   "id": "fadb6ffd-707d-4bff-9dae-042b4eafd0ac",
   "metadata": {},
   "outputs": [],
   "source": []
  },
  {
   "cell_type": "code",
   "execution_count": 170,
   "id": "574ed65f-9093-40d8-98da-30f26dcb896d",
   "metadata": {
    "tags": []
   },
   "outputs": [],
   "source": [
    "# import sagemaker\n",
    "# from sagemaker import get_execution_role\n",
    "# from sagemaker.inputs import TrainingInput\n",
    "# from sagemaker.estimator import Estimator\n",
    "\n",
    "# # Step 1: Define S3 paths for training data, model output, etc.\n",
    "# s3_input_train = 's3://508group/ADS508_project/cleandata/X_train.csv'\n",
    "# s3_input_test = 's3://508group/ADS508_project/cleandata/X_test.csv'\n",
    "# output_path = 's3://508group/ADS508_project/output/'\n",
    "\n",
    "# # Step 2: Create a SageMaker session and specify the IAM role\n",
    "# sagemaker_session = sagemaker.Session()\n",
    "# role = get_execution_role()\n",
    "\n",
    "# # Step 3: Define the SageMaker XGBoost estimator with the specific version and hyperparameters\n",
    "# xgb_estimator = Estimator(image_uri=sagemaker.image_uris.retrieve(\"xgboost\", sagemaker_session.boto_region_name, \"1.7-1\"),\n",
    "#                           role=role,\n",
    "#                           instance_count=1,\n",
    "#                           instance_type='ml.m5.large',\n",
    "#                           output_path=output_path,\n",
    "#                           sagemaker_session=sagemaker_session,\n",
    "#                           hyperparameters={'num_round': '10'})  # Specify the number of boosting rounds\n",
    "\n",
    "# # Step 4: Train the XGBoost model\n",
    "# xgb_estimator.fit({'train': s3_input_train, 'validation': s3_input_test})"
   ]
  },
  {
   "cell_type": "code",
   "execution_count": null,
   "id": "f3c38f2f-07f1-4ffe-9ec4-63eabbb042a3",
   "metadata": {
    "tags": []
   },
   "outputs": [],
   "source": []
  },
  {
   "cell_type": "code",
   "execution_count": 175,
   "id": "dc54a5e9-1400-4bbd-84d5-67daacb2e4d9",
   "metadata": {
    "tags": []
   },
   "outputs": [
    {
     "name": "stdout",
     "output_type": "stream",
     "text": [
      "Downloaded ADS508_project/output/autopilot/automl-2024-03-30-19-48-01-733/sagemaker-automl-candidates/automl-2024-03-30-19-48-01-733-pr-1-5cdcc23566e2483f97658942125/generated_module/candidate_data_processors/dpp9.py to feature_engineering_code.py\n"
     ]
    }
   ],
   "source": [
    "# import boto3\n",
    "# import os\n",
    "\n",
    "# # Initialize a boto3 client\n",
    "# s3 = boto3.client('s3')\n",
    "\n",
    "# # Function to download a file from an S3 bucket\n",
    "# def download_file(bucket_name, object_key, local_filename):\n",
    "#     try:\n",
    "#         s3.download_file(Bucket=bucket_name, Key=object_key, Filename=local_filename)\n",
    "#         print(f\"Downloaded {object_key} to {local_filename}\")\n",
    "#     except Exception as e:\n",
    "#         print(f\"Error downloading {object_key}: {e}\")\n",
    "\n",
    "# # Define your bucket name\n",
    "# bucket_name = '508group'\n",
    "\n",
    "# # List of artifacts to download\n",
    "# artifacts = {\n",
    "#     \"feature_engineering_code\": \"ADS508_project/output/autopilot/automl-2024-03-30-19-48-01-733/sagemaker-automl-candidates/automl-2024-03-30-19-48-01-733-pr-1-5cdcc23566e2483f97658942125/generated_module/candidate_data_processors/dpp9.py\",\n",
    "#     # Add other artifacts here following the same structure\n",
    "# }\n",
    "\n",
    "# # Download each artifact\n",
    "# for name, key in artifacts.items():\n",
    "#     download_file(bucket_name, key, f\"{name}.py\")\n"
   ]
  },
  {
   "cell_type": "code",
   "execution_count": 177,
   "id": "92b2d6c4-dfbb-4eb7-b2ec-ba49f136f650",
   "metadata": {
    "tags": []
   },
   "outputs": [
    {
     "name": "stdout",
     "output_type": "stream",
     "text": [
      "Downloaded ADS508_project/output/autopilot/automl-2024-03-30-19-48-01-733/sagemaker-automl-candidates/automl-2024-03-30-19-48-01-733-pr-1-5cdcc23566e2483f97658942125/generated_module/candidate_data_processors/dpp3.py to dpp3.py\n"
     ]
    }
   ],
   "source": [
    "# import boto3\n",
    "# import os\n",
    "\n",
    "# # Define key for the feature engineering code\n",
    "# fe_code_key = 'ADS508_project/output/autopilot/automl-2024-03-30-19-48-01-733/sagemaker-automl-candidates/automl-2024-03-30-19-48-01-733-pr-1-5cdcc23566e2483f97658942125/generated_module/candidate_data_processors/dpp3.py'\n",
    "# download_from_s3(bucket_name, fe_code_key, 'dpp3.py')"
   ]
  },
  {
   "cell_type": "code",
   "execution_count": null,
   "id": "019ffa2d-b300-4615-8249-5e1e732a9fad",
   "metadata": {},
   "outputs": [],
   "source": [
    "# import boto3\n",
    "# import os\n",
    "\n",
    "# s3 = boto3.client('s3')\n",
    "\n",
    "# def download_from_s3(bucket_name, s3_key, local_path):\n",
    "#     try:\n",
    "#         s3.download_file(bucket_name, s3_key, local_path)\n",
    "#         print(f\"Downloaded {s3_key} to {local_path}\")\n",
    "#     except Exception as e:\n",
    "#         print(f\"Error downloading {s3_key}: {e}\")\n",
    "\n",
    "# bucket_name = '508group' "
   ]
  },
  {
   "cell_type": "code",
   "execution_count": null,
   "id": "ae267212-beb5-49be-bced-3f8957b08d81",
   "metadata": {
    "tags": []
   },
   "outputs": [],
   "source": [
    "# import boto3\n",
    "# import pandas as pd\n",
    "# from io import StringIO\n",
    "\n",
    "# # Create an S3 client\n",
    "# s3 = boto3.client('s3')\n",
    "\n",
    "# # Specify the name of the bucket\n",
    "# bucket_name = '508group'\n",
    "\n",
    "# # Define the DataFrames\n",
    "# data_frames = {\n",
    "#     'X_train': X_train,\n",
    "#     'y_train_resampled': y_train_resampled,\n",
    "#     'X_test': X_test,\n",
    "#     'y_test': y_test,\n",
    "#     'X_val': X_val,\n",
    "#     'y_val': y_val,\n",
    "# }\n",
    "\n",
    "# # Upload each DataFrame as CSV to the \"508group\" bucket\n",
    "# for key, df in data_frames.items():\n",
    "#     try:\n",
    "#         # Convert DataFrame to CSV string\n",
    "#         csv_buffer = StringIO()\n",
    "#         df.to_csv(csv_buffer, index=False)\n",
    "        \n",
    "#         # Upload CSV string to S3\n",
    "#         s3.put_object(Body=csv_buffer.getvalue(), Bucket=bucket_name, Key=f'ADS508_project/cleandata/{key}.csv')\n",
    "#     except Exception as e:\n",
    "#         print(f\"Error uploading {key} to S3: {e}\")\n",
    "\n"
   ]
  },
  {
   "cell_type": "code",
   "execution_count": null,
   "id": "0cb0f9dd-2f59-4fdb-8756-9bc87e085014",
   "metadata": {
    "tags": []
   },
   "outputs": [],
   "source": [
    "# import sagemaker\n",
    "# from sagemaker.tensorflow import TensorFlow\n",
    "\n",
    "# # Define your SageMaker session\n",
    "# sagemaker_session = sagemaker.Session()"
   ]
  },
  {
   "cell_type": "code",
   "execution_count": null,
   "id": "f22c52b9-5fa1-4660-aaa3-09761b2c9a17",
   "metadata": {
    "tags": []
   },
   "outputs": [],
   "source": []
  },
  {
   "cell_type": "code",
   "execution_count": null,
   "id": "1ff76fbc-22b0-42d2-ba46-ef41ceea26c9",
   "metadata": {
    "tags": []
   },
   "outputs": [],
   "source": [
    "# # Define the S3 paths for training data, model output, etc.\n",
    "# X_train = 's3://508group/ADS508_project/cleandata/X_train.csv'\n",
    "# y_train_resampled = 's3://508group/ADS508_project/cleandata/y_train_resampled.csv'\n",
    "# X_test = 's3://508group/ADS508_project/cleandata/X_test.csv'\n",
    "# y_test =  's3://508group/ADS508_project/cleandata/y_test.csv'\n",
    "# X_val = 's3://508group/ADS508_project/cleandata/X_val.csv'\n",
    "# y_val = 's3://508group/ADS508_project/cleandata/y_val.csv'\n",
    "# output_path = 's3://508group/ADS508_project/output/'\n"
   ]
  },
  {
   "cell_type": "code",
   "execution_count": null,
   "id": "239e0114-1302-4d00-8a51-0803bfd777b5",
   "metadata": {
    "tags": []
   },
   "outputs": [],
   "source": [
    "\n",
    "# # Load y_train_resampled.csv\n",
    "# y_train_resampled_df = pd.read_csv('s3://508group/ADS508_project/cleandata/y_train_resampled.csv')\n",
    "\n",
    "# # Prefix labels with '__label__'\n",
    "# y_train_resampled_df['sentimentoutcome'] = '__label__' + y_train_resampled_df['sentimentoutcome'].astype(str)\n",
    "\n",
    "# # Save the modified DataFrame back to y_train_resampled.csv\n",
    "# y_train_resampled_df.to_csv('s3://508group/ADS508_project/cleandata/y_train_resampled.csv', index=False)\n",
    "\n",
    "\n",
    "# # Load y_val.csv\n",
    "# y_val_df = pd.read_csv('s3://508group/ADS508_project/cleandata/y_val.csv')\n",
    "\n",
    "# # Prefix labels with '__label__'\n",
    "# y_val_df['sentimentoutcome'] = '__label__' + y_val_df['sentimentoutcome'].astype(str)\n",
    "\n",
    "# # Save the modified DataFrame back to y_val.csv\n",
    "# y_val_df.to_csv('s3://508group/ADS508_project/cleandata/y_val.csv', index=False)"
   ]
  },
  {
   "cell_type": "code",
   "execution_count": null,
   "id": "83378cc8-c7d7-4597-bd2e-7fb89c0a7764",
   "metadata": {},
   "outputs": [],
   "source": []
  },
  {
   "cell_type": "code",
   "execution_count": null,
   "id": "6f011adc-ecd3-45d8-998a-98a29ffcf3b4",
   "metadata": {},
   "outputs": [],
   "source": [
    "\n",
    "# import boto3\n",
    "# from sklearn.linear_model import LogisticRegression\n",
    "# from sklearn.metrics import accuracy_score, classification_report\n",
    "# from sklearn.model_selection import train_test_split\n",
    "# from sklearn.preprocessing import StandardScaler\n",
    "# from joblib import dump\n",
    "# import os\n",
    "\n",
    "# # Load data from S3\n",
    "# s3 = boto3.client('s3')\n",
    "# bucket_name = '508group'\n",
    "\n",
    "# def load_data_from_s3(key):\n",
    "#     response = s3.get_object(Bucket=bucket_name, Key=key)\n",
    "#     data = pd.read_csv(response['Body'])\n",
    "#     return data\n",
    "\n",
    "# # Load training data\n",
    "# X_train = load_data_from_s3('ADS508_project/cleandata/X_train.csv')\n",
    "# y_train = load_data_from_s3('ADS508_project/cleandata/y_train_resampled.csv')\n",
    "\n",
    "# # Train logistic regression model\n",
    "# model = LogisticRegression()\n",
    "# model.fit(X_train_final, y_train_final)\n",
    "\n",
    "# # Evaluate model\n",
    "# y_pred = model.predict(X_val)\n",
    "# accuracy = accuracy_score(y_val, y_pred)\n",
    "# classification_rep = classification_report(y_val, y_pred)\n",
    "\n",
    "# # Save the trained model\n",
    "# output_dir = 'model'\n",
    "# os.makedirs(output_dir, exist_ok=True)\n",
    "# model_path = os.path.join(output_dir, 'model.joblib')\n",
    "# dump(model, model_path)\n",
    "\n",
    "# # Save evaluation metrics\n",
    "# metrics_path = os.path.join(output_dir, 'metrics.txt')\n",
    "# with open(metrics_path, 'w') as f:\n",
    "#     f.write(f'Accuracy: {accuracy}\\n')\n",
    "#     f.write('Classification Report:\\n')\n",
    "#     f.write(classification_rep)\n",
    "\n",
    "# # Upload the trained model and metrics to S3\n",
    "# s3.upload_file(model_path, bucket_name, 'ADS508_project/output/model.joblib')\n",
    "# s3.upload_file(metrics_path, bucket_name, 'ADS508_project/output/metrics.txt')\n"
   ]
  },
  {
   "cell_type": "markdown",
   "id": "b601c5e3",
   "metadata": {},
   "source": [
    "## Run Data Bias Analysis"
   ]
  },
  {
   "cell_type": "code",
   "execution_count": null,
   "id": "67d4c37d",
   "metadata": {},
   "outputs": [],
   "source": [
    "# Create folder for specific timestamp\n",
    "import time\n",
    "\n",
    "timestamp = int(time.time())\n",
    "\n",
    "bias_data_s3_uri = sess.upload_data(bucket=bucket, key_prefix=\"ADS508_project/bias-detection-{}\".format(timestamp), path=path)\n",
    "bias_data_s3_uri"
   ]
  },
  {
   "cell_type": "code",
   "execution_count": null,
   "id": "9b272d33",
   "metadata": {},
   "outputs": [],
   "source": [
    "!aws s3 ls $bias_data_s3_uri"
   ]
  },
  {
   "cell_type": "code",
   "execution_count": null,
   "id": "52a14b90-8b53-44ff-af78-361467ec987b",
   "metadata": {},
   "outputs": [],
   "source": [
    "balanced_bias_data_s3_uri = sess.upload_data(\n",
    "    bucket=bucket, key_prefix=\"ADS508_project/bias-detection-{}\".format(timestamp), path=path_balance\n",
    ")\n",
    "balanced_bias_data_s3_uri"
   ]
  },
  {
   "cell_type": "code",
   "execution_count": null,
   "id": "fdea3079-9390-4130-964a-7b5e788f9523",
   "metadata": {},
   "outputs": [],
   "source": [
    "!aws s3 ls $balanced_bias_data_s3_uri"
   ]
  },
  {
   "cell_type": "code",
   "execution_count": null,
   "id": "c6837356-c41b-4559-834c-68b3c576e0c8",
   "metadata": {},
   "outputs": [],
   "source": [
    "balanced_bias_data_jsonlines_s3_uri = sess.upload_data(\n",
    "    bucket=bucket, key_prefix=\"ADS508_project/bias-detection-{}\".format(timestamp), path=path_jsonlines\n",
    ")\n",
    "balanced_bias_data_jsonlines_s3_uri"
   ]
  },
  {
   "cell_type": "code",
   "execution_count": null,
   "id": "3b28374d-24a2-49bf-8a5b-6899db532035",
   "metadata": {},
   "outputs": [],
   "source": [
    "!aws s3 ls $balanced_bias_data_jsonlines_s3_uri"
   ]
  },
  {
   "cell_type": "code",
   "execution_count": null,
   "id": "e829b584",
   "metadata": {},
   "outputs": [],
   "source": [
    "#!pip install --force-reinstall -q smclarify\n",
    "\n",
    "from smclarify.bias import report\n",
    "from typing import Dict\n",
    "from collections import defaultdict\n",
    "import pandas as pd\n",
    "import seaborn as sns\n",
    "import matplotlib.pyplot as plt"
   ]
  },
  {
   "cell_type": "code",
   "execution_count": null,
   "id": "11c9cf76",
   "metadata": {},
   "outputs": [],
   "source": [
    "!aws s3 cp $bias_data_s3_uri ./data-clarify/"
   ]
  },
  {
   "cell_type": "code",
   "execution_count": null,
   "id": "eee23cae",
   "metadata": {},
   "outputs": [],
   "source": [
    "!aws s3 cp $balanced_bias_data_s3_uri ./data-clarify/"
   ]
  },
  {
   "cell_type": "markdown",
   "id": "94295cea",
   "metadata": {},
   "source": [
    "### Calculate Bias Metrics for all Data\n",
    "#### might not needed from ===>"
   ]
  },
  {
   "cell_type": "markdown",
   "id": "533ede4d",
   "metadata": {},
   "source": [
    "facet_column = report.FacetColumn(name=\"candidatepoll\")\n",
    "\n",
    "label_column = report.LabelColumn(\n",
    "    name=\"sentiment_category\", \n",
    "    series=df_combined[\"sentiment_category\"],\n",
    "    positive_label_values=[5]\n",
    ")"
   ]
  },
  {
   "cell_type": "code",
   "execution_count": null,
   "id": "36107b89",
   "metadata": {},
   "outputs": [],
   "source": [
    "report.bias_report(\n",
    "    df=df_combined, \n",
    "    facet_column=facet_column, \n",
    "    label_column=label_column, \n",
    "    stage_type=report.StageType.PRE_TRAINING, \n",
    "    metrics=[\"CI\", \"DPL\", \"KL\", \"JS\", \"LP\", \"TVD\", \"KS\"]\n",
    ")"
   ]
  },
  {
   "cell_type": "markdown",
   "id": "4ff466df",
   "metadata": {},
   "source": [
    "### Calculate Bias Metrics for Balanced Data"
   ]
  },
  {
   "cell_type": "code",
   "execution_count": null,
   "id": "d0f57ae7",
   "metadata": {},
   "outputs": [],
   "source": [
    "from smclarify.bias import report\n",
    "\n",
    "facet_column = report.FacetColumn(name=\"candidatepoll\")\n",
    "\n",
    "label_column = report.LabelColumn(\n",
    "    name=\"sentiment_category\", \n",
    "    series=df_balanced[\"sentiment_category\"], \n",
    "    positive_label_values=[5]\n",
    ")"
   ]
  },
  {
   "cell_type": "code",
   "execution_count": null,
   "id": "56e8de4e",
   "metadata": {},
   "outputs": [],
   "source": [
    "report.bias_report(\n",
    "    df=df_balanced, \n",
    "    facet_column=facet_column, \n",
    "    label_column=label_column, \n",
    "    stage_type=report.StageType.PRE_TRAINING, \n",
    "    metrics=[\"CI\", \"DPL\", \"KL\", \"JS\", \"LP\", \"TVD\", \"KS\"]\n",
    ")"
   ]
  },
  {
   "cell_type": "markdown",
   "id": "12bfdb39",
   "metadata": {},
   "source": [
    "#### <=== TO MIGHT NOT NEEDED"
   ]
  },
  {
   "cell_type": "markdown",
   "id": "8dd5b807",
   "metadata": {},
   "source": [
    "### Run Data Bias Analysis (Pre-training)"
   ]
  },
  {
   "cell_type": "code",
   "execution_count": null,
   "id": "577750e2",
   "metadata": {},
   "outputs": [],
   "source": [
    "from sagemaker import clarify\n",
    "\n",
    "clarify_processor = clarify.SageMakerClarifyProcessor(\n",
    "    role=role, \n",
    "    instance_count=1, \n",
    "    instance_type=\"ml.c5.xlarge\", \n",
    "    sagemaker_session=sess\n",
    ")"
   ]
  },
  {
   "cell_type": "markdown",
   "id": "5a3eabcf",
   "metadata": {},
   "source": [
    "#### Pre-Training Bias"
   ]
  },
  {
   "cell_type": "code",
   "execution_count": null,
   "id": "b5defe81",
   "metadata": {},
   "outputs": [],
   "source": [
    "bias_report_output_path = \"s3://{}/ADS508_project/clarify\".format(bucket)\n",
    "\n",
    "bias_data_config = clarify.DataConfig(\n",
    "    s3_data_input_path=bias_data_s3_uri,\n",
    "    s3_output_path=bias_report_output_path,\n",
    "    label=\"sentiment_category\",\n",
    "    headers=df_combined.columns.to_list(),\n",
    "    dataset_type=\"text/csv\",\n",
    ")\n"
   ]
  },
  {
   "cell_type": "code",
   "execution_count": null,
   "id": "b0feb8da",
   "metadata": {},
   "outputs": [],
   "source": [
    "# Trump\n",
    "bias_config = clarify.BiasConfig(\n",
    "    label_values_or_threshold=[5],\n",
    "    facet_name=\"candidatepoll\",\n",
    "    facet_values_or_threshold=[\"Trump\"],\n",
    ")\n",
    "\n",
    "clarify_processor.run_pre_training_bias(\n",
    "    data_config=bias_data_config, \n",
    "    data_bias_config=bias_config, \n",
    "    methods=[\"CI\", \"DPL\", \"KL\", \"JS\", \"LP\", \"TVD\", \"KS\"],\n",
    "    wait=False, \n",
    "    logs=False\n",
    ")\n",
    "\n",
    "run_pre_training_bias_processing_job_name = clarify_processor.latest_job.job_name\n",
    "run_pre_training_bias_processing_job_name\n",
    "\n"
   ]
  },
  {
   "cell_type": "code",
   "execution_count": null,
   "id": "ccc967f6",
   "metadata": {},
   "outputs": [],
   "source": [
    "# Biden\n",
    "bias_config = clarify.BiasConfig(\n",
    "    label_values_or_threshold=[5],\n",
    "    facet_name=\"candidatepoll\",\n",
    "    facet_values_or_threshold=[\"Biden\"],\n",
    ")\n",
    "\n",
    "clarify_processor.run_pre_training_bias(\n",
    "    data_config=bias_data_config, \n",
    "    data_bias_config=bias_config, \n",
    "    methods=[\"CI\", \"DPL\", \"KL\", \"JS\", \"LP\", \"TVD\", \"KS\"],\n",
    "    wait=False, \n",
    "    logs=False\n",
    ")\n",
    "\n",
    "run_pre_training_bias_processing_job_name = clarify_processor.latest_job.job_name\n",
    "run_pre_training_bias_processing_job_name\n"
   ]
  },
  {
   "cell_type": "markdown",
   "id": "4f9f6ec4",
   "metadata": {},
   "source": [
    "#### Download report"
   ]
  },
  {
   "cell_type": "code",
   "execution_count": null,
   "id": "a09c6782",
   "metadata": {},
   "outputs": [],
   "source": [
    "from IPython.core.display import display, HTML\n",
    "\n",
    "display(\n",
    "    HTML(\n",
    "        '<b>Review <a target=\"blank\" href=\"https://console.aws.amazon.com/sagemaker/home?region={}#/processing-jobs/{}\">Processing Job</a></b>'.format(\n",
    "            region, run_pre_training_bias_processing_job_name\n",
    "        )\n",
    "    )\n",
    ")\n",
    "from IPython.core.display import display, HTML\n",
    "\n",
    "display(\n",
    "    HTML(\n",
    "        '<b>Review <a target=\"blank\" href=\"https://console.aws.amazon.com/cloudwatch/home?region={}#logStream:group=/aws/sagemaker/ProcessingJobs;prefix={};streamFilter=typeLogStreamPrefix\">CloudWatch Logs</a> After About 5 Minutes</b>'.format(\n",
    "            region, run_pre_training_bias_processing_job_name\n",
    "        )\n",
    "    )\n",
    ")\n",
    "\n",
    "from IPython.core.display import display, HTML\n",
    "\n",
    "display(\n",
    "    HTML(\n",
    "        '<b>Review <a target=\"blank\" href=\"https://s3.console.aws.amazon.com/s3/buckets/{}/{}/?region={}&tab=overview\">S3 Output Data</a> After The Processing Job Has Completed</b>'.format(\n",
    "            bucket, run_pre_training_bias_processing_job_name, region\n",
    "        )\n",
    "    )\n",
    ")"
   ]
  },
  {
   "cell_type": "code",
   "execution_count": null,
   "id": "1c74ae09",
   "metadata": {},
   "outputs": [],
   "source": [
    "running_processor = sagemaker.processing.ProcessingJob.from_processing_name(\n",
    "    processing_job_name=run_pre_training_bias_processing_job_name, sagemaker_session=sess\n",
    ")\n",
    "\n",
    "processing_job_description = running_processor.describe()\n",
    "\n",
    "print(processing_job_description)"
   ]
  },
  {
   "cell_type": "code",
   "execution_count": null,
   "id": "7aee8468",
   "metadata": {},
   "outputs": [],
   "source": [
    "!aws s3 ls $bias_report_output_path/"
   ]
  },
  {
   "cell_type": "code",
   "execution_count": null,
   "id": "83a98ee3",
   "metadata": {},
   "outputs": [],
   "source": [
    "!aws s3 cp --recursive $bias_report_output_path ./generated_bias_report/"
   ]
  },
  {
   "cell_type": "code",
   "execution_count": null,
   "id": "9329ab05",
   "metadata": {},
   "outputs": [],
   "source": [
    "from IPython.core.display import display, HTML\n",
    "\n",
    "display(HTML('<b>Review <a target=\"blank\" href=\"./generated_bias_report/report.html\">Bias Report</a></b>'))"
   ]
  },
  {
   "cell_type": "code",
   "execution_count": null,
   "id": "f00daf0a",
   "metadata": {},
   "outputs": [],
   "source": []
  },
  {
   "cell_type": "code",
   "execution_count": null,
   "id": "d2f7808b",
   "metadata": {
    "tags": []
   },
   "outputs": [],
   "source": [
    "path = \"./data-clarify/amazon_reviews_us_giftcards_software_videogames.csv\"\n",
    "df.to_csv(path, index=False, header=True)"
   ]
  },
  {
   "cell_type": "code",
   "execution_count": null,
   "id": "b9ba05b3-7582-40a0-8ab1-75739442b010",
   "metadata": {
    "tags": []
   },
   "outputs": [],
   "source": [
    "_testing"
   ]
  }
 ],
 "metadata": {
  "availableInstances": [
   {
    "_defaultOrder": 0,
    "_isFastLaunch": true,
    "category": "General purpose",
    "gpuNum": 0,
    "hideHardwareSpecs": false,
    "memoryGiB": 4,
    "name": "ml.t3.medium",
    "vcpuNum": 2
   },
   {
    "_defaultOrder": 1,
    "_isFastLaunch": false,
    "category": "General purpose",
    "gpuNum": 0,
    "hideHardwareSpecs": false,
    "memoryGiB": 8,
    "name": "ml.t3.large",
    "vcpuNum": 2
   },
   {
    "_defaultOrder": 2,
    "_isFastLaunch": false,
    "category": "General purpose",
    "gpuNum": 0,
    "hideHardwareSpecs": false,
    "memoryGiB": 16,
    "name": "ml.t3.xlarge",
    "vcpuNum": 4
   },
   {
    "_defaultOrder": 3,
    "_isFastLaunch": false,
    "category": "General purpose",
    "gpuNum": 0,
    "hideHardwareSpecs": false,
    "memoryGiB": 32,
    "name": "ml.t3.2xlarge",
    "vcpuNum": 8
   },
   {
    "_defaultOrder": 4,
    "_isFastLaunch": true,
    "category": "General purpose",
    "gpuNum": 0,
    "hideHardwareSpecs": false,
    "memoryGiB": 8,
    "name": "ml.m5.large",
    "vcpuNum": 2
   },
   {
    "_defaultOrder": 5,
    "_isFastLaunch": false,
    "category": "General purpose",
    "gpuNum": 0,
    "hideHardwareSpecs": false,
    "memoryGiB": 16,
    "name": "ml.m5.xlarge",
    "vcpuNum": 4
   },
   {
    "_defaultOrder": 6,
    "_isFastLaunch": false,
    "category": "General purpose",
    "gpuNum": 0,
    "hideHardwareSpecs": false,
    "memoryGiB": 32,
    "name": "ml.m5.2xlarge",
    "vcpuNum": 8
   },
   {
    "_defaultOrder": 7,
    "_isFastLaunch": false,
    "category": "General purpose",
    "gpuNum": 0,
    "hideHardwareSpecs": false,
    "memoryGiB": 64,
    "name": "ml.m5.4xlarge",
    "vcpuNum": 16
   },
   {
    "_defaultOrder": 8,
    "_isFastLaunch": false,
    "category": "General purpose",
    "gpuNum": 0,
    "hideHardwareSpecs": false,
    "memoryGiB": 128,
    "name": "ml.m5.8xlarge",
    "vcpuNum": 32
   },
   {
    "_defaultOrder": 9,
    "_isFastLaunch": false,
    "category": "General purpose",
    "gpuNum": 0,
    "hideHardwareSpecs": false,
    "memoryGiB": 192,
    "name": "ml.m5.12xlarge",
    "vcpuNum": 48
   },
   {
    "_defaultOrder": 10,
    "_isFastLaunch": false,
    "category": "General purpose",
    "gpuNum": 0,
    "hideHardwareSpecs": false,
    "memoryGiB": 256,
    "name": "ml.m5.16xlarge",
    "vcpuNum": 64
   },
   {
    "_defaultOrder": 11,
    "_isFastLaunch": false,
    "category": "General purpose",
    "gpuNum": 0,
    "hideHardwareSpecs": false,
    "memoryGiB": 384,
    "name": "ml.m5.24xlarge",
    "vcpuNum": 96
   },
   {
    "_defaultOrder": 12,
    "_isFastLaunch": false,
    "category": "General purpose",
    "gpuNum": 0,
    "hideHardwareSpecs": false,
    "memoryGiB": 8,
    "name": "ml.m5d.large",
    "vcpuNum": 2
   },
   {
    "_defaultOrder": 13,
    "_isFastLaunch": false,
    "category": "General purpose",
    "gpuNum": 0,
    "hideHardwareSpecs": false,
    "memoryGiB": 16,
    "name": "ml.m5d.xlarge",
    "vcpuNum": 4
   },
   {
    "_defaultOrder": 14,
    "_isFastLaunch": false,
    "category": "General purpose",
    "gpuNum": 0,
    "hideHardwareSpecs": false,
    "memoryGiB": 32,
    "name": "ml.m5d.2xlarge",
    "vcpuNum": 8
   },
   {
    "_defaultOrder": 15,
    "_isFastLaunch": false,
    "category": "General purpose",
    "gpuNum": 0,
    "hideHardwareSpecs": false,
    "memoryGiB": 64,
    "name": "ml.m5d.4xlarge",
    "vcpuNum": 16
   },
   {
    "_defaultOrder": 16,
    "_isFastLaunch": false,
    "category": "General purpose",
    "gpuNum": 0,
    "hideHardwareSpecs": false,
    "memoryGiB": 128,
    "name": "ml.m5d.8xlarge",
    "vcpuNum": 32
   },
   {
    "_defaultOrder": 17,
    "_isFastLaunch": false,
    "category": "General purpose",
    "gpuNum": 0,
    "hideHardwareSpecs": false,
    "memoryGiB": 192,
    "name": "ml.m5d.12xlarge",
    "vcpuNum": 48
   },
   {
    "_defaultOrder": 18,
    "_isFastLaunch": false,
    "category": "General purpose",
    "gpuNum": 0,
    "hideHardwareSpecs": false,
    "memoryGiB": 256,
    "name": "ml.m5d.16xlarge",
    "vcpuNum": 64
   },
   {
    "_defaultOrder": 19,
    "_isFastLaunch": false,
    "category": "General purpose",
    "gpuNum": 0,
    "hideHardwareSpecs": false,
    "memoryGiB": 384,
    "name": "ml.m5d.24xlarge",
    "vcpuNum": 96
   },
   {
    "_defaultOrder": 20,
    "_isFastLaunch": false,
    "category": "General purpose",
    "gpuNum": 0,
    "hideHardwareSpecs": true,
    "memoryGiB": 0,
    "name": "ml.geospatial.interactive",
    "supportedImageNames": [
     "sagemaker-geospatial-v1-0"
    ],
    "vcpuNum": 0
   },
   {
    "_defaultOrder": 21,
    "_isFastLaunch": true,
    "category": "Compute optimized",
    "gpuNum": 0,
    "hideHardwareSpecs": false,
    "memoryGiB": 4,
    "name": "ml.c5.large",
    "vcpuNum": 2
   },
   {
    "_defaultOrder": 22,
    "_isFastLaunch": false,
    "category": "Compute optimized",
    "gpuNum": 0,
    "hideHardwareSpecs": false,
    "memoryGiB": 8,
    "name": "ml.c5.xlarge",
    "vcpuNum": 4
   },
   {
    "_defaultOrder": 23,
    "_isFastLaunch": false,
    "category": "Compute optimized",
    "gpuNum": 0,
    "hideHardwareSpecs": false,
    "memoryGiB": 16,
    "name": "ml.c5.2xlarge",
    "vcpuNum": 8
   },
   {
    "_defaultOrder": 24,
    "_isFastLaunch": false,
    "category": "Compute optimized",
    "gpuNum": 0,
    "hideHardwareSpecs": false,
    "memoryGiB": 32,
    "name": "ml.c5.4xlarge",
    "vcpuNum": 16
   },
   {
    "_defaultOrder": 25,
    "_isFastLaunch": false,
    "category": "Compute optimized",
    "gpuNum": 0,
    "hideHardwareSpecs": false,
    "memoryGiB": 72,
    "name": "ml.c5.9xlarge",
    "vcpuNum": 36
   },
   {
    "_defaultOrder": 26,
    "_isFastLaunch": false,
    "category": "Compute optimized",
    "gpuNum": 0,
    "hideHardwareSpecs": false,
    "memoryGiB": 96,
    "name": "ml.c5.12xlarge",
    "vcpuNum": 48
   },
   {
    "_defaultOrder": 27,
    "_isFastLaunch": false,
    "category": "Compute optimized",
    "gpuNum": 0,
    "hideHardwareSpecs": false,
    "memoryGiB": 144,
    "name": "ml.c5.18xlarge",
    "vcpuNum": 72
   },
   {
    "_defaultOrder": 28,
    "_isFastLaunch": false,
    "category": "Compute optimized",
    "gpuNum": 0,
    "hideHardwareSpecs": false,
    "memoryGiB": 192,
    "name": "ml.c5.24xlarge",
    "vcpuNum": 96
   },
   {
    "_defaultOrder": 29,
    "_isFastLaunch": true,
    "category": "Accelerated computing",
    "gpuNum": 1,
    "hideHardwareSpecs": false,
    "memoryGiB": 16,
    "name": "ml.g4dn.xlarge",
    "vcpuNum": 4
   },
   {
    "_defaultOrder": 30,
    "_isFastLaunch": false,
    "category": "Accelerated computing",
    "gpuNum": 1,
    "hideHardwareSpecs": false,
    "memoryGiB": 32,
    "name": "ml.g4dn.2xlarge",
    "vcpuNum": 8
   },
   {
    "_defaultOrder": 31,
    "_isFastLaunch": false,
    "category": "Accelerated computing",
    "gpuNum": 1,
    "hideHardwareSpecs": false,
    "memoryGiB": 64,
    "name": "ml.g4dn.4xlarge",
    "vcpuNum": 16
   },
   {
    "_defaultOrder": 32,
    "_isFastLaunch": false,
    "category": "Accelerated computing",
    "gpuNum": 1,
    "hideHardwareSpecs": false,
    "memoryGiB": 128,
    "name": "ml.g4dn.8xlarge",
    "vcpuNum": 32
   },
   {
    "_defaultOrder": 33,
    "_isFastLaunch": false,
    "category": "Accelerated computing",
    "gpuNum": 4,
    "hideHardwareSpecs": false,
    "memoryGiB": 192,
    "name": "ml.g4dn.12xlarge",
    "vcpuNum": 48
   },
   {
    "_defaultOrder": 34,
    "_isFastLaunch": false,
    "category": "Accelerated computing",
    "gpuNum": 1,
    "hideHardwareSpecs": false,
    "memoryGiB": 256,
    "name": "ml.g4dn.16xlarge",
    "vcpuNum": 64
   },
   {
    "_defaultOrder": 35,
    "_isFastLaunch": false,
    "category": "Accelerated computing",
    "gpuNum": 1,
    "hideHardwareSpecs": false,
    "memoryGiB": 61,
    "name": "ml.p3.2xlarge",
    "vcpuNum": 8
   },
   {
    "_defaultOrder": 36,
    "_isFastLaunch": false,
    "category": "Accelerated computing",
    "gpuNum": 4,
    "hideHardwareSpecs": false,
    "memoryGiB": 244,
    "name": "ml.p3.8xlarge",
    "vcpuNum": 32
   },
   {
    "_defaultOrder": 37,
    "_isFastLaunch": false,
    "category": "Accelerated computing",
    "gpuNum": 8,
    "hideHardwareSpecs": false,
    "memoryGiB": 488,
    "name": "ml.p3.16xlarge",
    "vcpuNum": 64
   },
   {
    "_defaultOrder": 38,
    "_isFastLaunch": false,
    "category": "Accelerated computing",
    "gpuNum": 8,
    "hideHardwareSpecs": false,
    "memoryGiB": 768,
    "name": "ml.p3dn.24xlarge",
    "vcpuNum": 96
   },
   {
    "_defaultOrder": 39,
    "_isFastLaunch": false,
    "category": "Memory Optimized",
    "gpuNum": 0,
    "hideHardwareSpecs": false,
    "memoryGiB": 16,
    "name": "ml.r5.large",
    "vcpuNum": 2
   },
   {
    "_defaultOrder": 40,
    "_isFastLaunch": false,
    "category": "Memory Optimized",
    "gpuNum": 0,
    "hideHardwareSpecs": false,
    "memoryGiB": 32,
    "name": "ml.r5.xlarge",
    "vcpuNum": 4
   },
   {
    "_defaultOrder": 41,
    "_isFastLaunch": false,
    "category": "Memory Optimized",
    "gpuNum": 0,
    "hideHardwareSpecs": false,
    "memoryGiB": 64,
    "name": "ml.r5.2xlarge",
    "vcpuNum": 8
   },
   {
    "_defaultOrder": 42,
    "_isFastLaunch": false,
    "category": "Memory Optimized",
    "gpuNum": 0,
    "hideHardwareSpecs": false,
    "memoryGiB": 128,
    "name": "ml.r5.4xlarge",
    "vcpuNum": 16
   },
   {
    "_defaultOrder": 43,
    "_isFastLaunch": false,
    "category": "Memory Optimized",
    "gpuNum": 0,
    "hideHardwareSpecs": false,
    "memoryGiB": 256,
    "name": "ml.r5.8xlarge",
    "vcpuNum": 32
   },
   {
    "_defaultOrder": 44,
    "_isFastLaunch": false,
    "category": "Memory Optimized",
    "gpuNum": 0,
    "hideHardwareSpecs": false,
    "memoryGiB": 384,
    "name": "ml.r5.12xlarge",
    "vcpuNum": 48
   },
   {
    "_defaultOrder": 45,
    "_isFastLaunch": false,
    "category": "Memory Optimized",
    "gpuNum": 0,
    "hideHardwareSpecs": false,
    "memoryGiB": 512,
    "name": "ml.r5.16xlarge",
    "vcpuNum": 64
   },
   {
    "_defaultOrder": 46,
    "_isFastLaunch": false,
    "category": "Memory Optimized",
    "gpuNum": 0,
    "hideHardwareSpecs": false,
    "memoryGiB": 768,
    "name": "ml.r5.24xlarge",
    "vcpuNum": 96
   },
   {
    "_defaultOrder": 47,
    "_isFastLaunch": false,
    "category": "Accelerated computing",
    "gpuNum": 1,
    "hideHardwareSpecs": false,
    "memoryGiB": 16,
    "name": "ml.g5.xlarge",
    "vcpuNum": 4
   },
   {
    "_defaultOrder": 48,
    "_isFastLaunch": false,
    "category": "Accelerated computing",
    "gpuNum": 1,
    "hideHardwareSpecs": false,
    "memoryGiB": 32,
    "name": "ml.g5.2xlarge",
    "vcpuNum": 8
   },
   {
    "_defaultOrder": 49,
    "_isFastLaunch": false,
    "category": "Accelerated computing",
    "gpuNum": 1,
    "hideHardwareSpecs": false,
    "memoryGiB": 64,
    "name": "ml.g5.4xlarge",
    "vcpuNum": 16
   },
   {
    "_defaultOrder": 50,
    "_isFastLaunch": false,
    "category": "Accelerated computing",
    "gpuNum": 1,
    "hideHardwareSpecs": false,
    "memoryGiB": 128,
    "name": "ml.g5.8xlarge",
    "vcpuNum": 32
   },
   {
    "_defaultOrder": 51,
    "_isFastLaunch": false,
    "category": "Accelerated computing",
    "gpuNum": 1,
    "hideHardwareSpecs": false,
    "memoryGiB": 256,
    "name": "ml.g5.16xlarge",
    "vcpuNum": 64
   },
   {
    "_defaultOrder": 52,
    "_isFastLaunch": false,
    "category": "Accelerated computing",
    "gpuNum": 4,
    "hideHardwareSpecs": false,
    "memoryGiB": 192,
    "name": "ml.g5.12xlarge",
    "vcpuNum": 48
   },
   {
    "_defaultOrder": 53,
    "_isFastLaunch": false,
    "category": "Accelerated computing",
    "gpuNum": 4,
    "hideHardwareSpecs": false,
    "memoryGiB": 384,
    "name": "ml.g5.24xlarge",
    "vcpuNum": 96
   },
   {
    "_defaultOrder": 54,
    "_isFastLaunch": false,
    "category": "Accelerated computing",
    "gpuNum": 8,
    "hideHardwareSpecs": false,
    "memoryGiB": 768,
    "name": "ml.g5.48xlarge",
    "vcpuNum": 192
   },
   {
    "_defaultOrder": 55,
    "_isFastLaunch": false,
    "category": "Accelerated computing",
    "gpuNum": 8,
    "hideHardwareSpecs": false,
    "memoryGiB": 1152,
    "name": "ml.p4d.24xlarge",
    "vcpuNum": 96
   },
   {
    "_defaultOrder": 56,
    "_isFastLaunch": false,
    "category": "Accelerated computing",
    "gpuNum": 8,
    "hideHardwareSpecs": false,
    "memoryGiB": 1152,
    "name": "ml.p4de.24xlarge",
    "vcpuNum": 96
   },
   {
    "_defaultOrder": 57,
    "_isFastLaunch": false,
    "category": "Accelerated computing",
    "gpuNum": 0,
    "hideHardwareSpecs": false,
    "memoryGiB": 32,
    "name": "ml.trn1.2xlarge",
    "vcpuNum": 8
   },
   {
    "_defaultOrder": 58,
    "_isFastLaunch": false,
    "category": "Accelerated computing",
    "gpuNum": 0,
    "hideHardwareSpecs": false,
    "memoryGiB": 512,
    "name": "ml.trn1.32xlarge",
    "vcpuNum": 128
   },
   {
    "_defaultOrder": 59,
    "_isFastLaunch": false,
    "category": "Accelerated computing",
    "gpuNum": 0,
    "hideHardwareSpecs": false,
    "memoryGiB": 512,
    "name": "ml.trn1n.32xlarge",
    "vcpuNum": 128
   }
  ],
  "instance_type": "ml.g4dn.xlarge",
  "kernelspec": {
   "display_name": "Python 3 (Data Science 2.0)",
   "language": "python",
   "name": "python3__SAGEMAKER_INTERNAL__arn:aws:sagemaker:us-east-1:081325390199:image/sagemaker-data-science-38"
  },
  "language_info": {
   "codemirror_mode": {
    "name": "ipython",
    "version": 3
   },
   "file_extension": ".py",
   "mimetype": "text/x-python",
   "name": "python",
   "nbconvert_exporter": "python",
   "pygments_lexer": "ipython3",
   "version": "3.8.13"
  },
  "nbdime-conflicts": {
   "local_diff": [
    {
     "diff": [
      {
       "diff": [
        {
         "key": 0,
         "op": "addrange",
         "valuelist": [
          "3.8.13"
         ]
        },
        {
         "key": 0,
         "length": 1,
         "op": "removerange"
        }
       ],
       "key": "version",
       "op": "patch"
      }
     ],
     "key": "language_info",
     "op": "patch"
    }
   ],
   "remote_diff": [
    {
     "diff": [
      {
       "diff": [
        {
         "key": 0,
         "op": "addrange",
         "valuelist": [
          "3.10.13"
         ]
        },
        {
         "key": 0,
         "length": 1,
         "op": "removerange"
        }
       ],
       "key": "version",
       "op": "patch"
      }
     ],
     "key": "language_info",
     "op": "patch"
    }
   ]
  }
 },
 "nbformat": 4,
 "nbformat_minor": 5
}
