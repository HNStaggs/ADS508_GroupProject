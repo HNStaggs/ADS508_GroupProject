{
 "cells": [
  {
   "cell_type": "markdown",
   "id": "5c793d1c",
   "metadata": {},
   "source": [
    "# Data Ingestion"
   ]
  },
  {
   "cell_type": "markdown",
   "id": "2323e27d",
   "metadata": {},
   "source": [
    "## Copy CSV files to S3"
   ]
  },
  {
   "cell_type": "code",
   "execution_count": 2,
   "id": "fe95d59a",
   "metadata": {
    "tags": []
   },
   "outputs": [],
   "source": [
    "# Assume all the pre-requisites were set up \n",
    "%store -r setup_instance_check_passed\n",
    "%store -r setup_dependencies_passed\n",
    "%store -r setup_s3_bucket_passed\n",
    "%store -r setup_iam_roles_passed\n"
   ]
  },
  {
   "cell_type": "code",
   "execution_count": 4,
   "id": "27abfe19",
   "metadata": {
    "tags": []
   },
   "outputs": [],
   "source": [
    "# Load Libraries\n",
    "import boto3\n",
    "import sagemaker\n",
    "import pandas as pd\n",
    "\n",
    "sess = sagemaker.Session()\n",
    "bucket = sess.default_bucket()\n",
    "role = sagemaker.get_execution_role()\n",
    "region = boto3.Session().region_name\n",
    "account_id = boto3.client(\"sts\").get_caller_identity().get(\"Account\")\n",
    "\n",
    "sm = boto3.Session().client(service_name=\"sagemaker\", region_name=region)"
   ]
  },
  {
   "cell_type": "code",
   "execution_count": 5,
   "id": "1a390ac1",
   "metadata": {
    "tags": []
   },
   "outputs": [
    {
     "name": "stdout",
     "output_type": "stream",
     "text": [
      "                           PRE cities/\n",
      "                           PRE nyt/\n",
      "                           PRE tweeter/\n",
      "copy: s3://ads508team5/tweeter/hashtag_donaldtrump.csv to s3://sagemaker-us-east-1-975050119017/ADS508_project/tweeter/hashtag_donaldtrump.csv\n",
      "copy: s3://ads508team5/tweeter/hashtag_joebiden.csv to s3://sagemaker-us-east-1-975050119017/ADS508_project/tweeter/hashtag_joebiden.csv\n",
      "copy: s3://ads508team5/nyt/nyt-comments-2020.csv to s3://sagemaker-us-east-1-975050119017/ADS508_project/nyt/nyt-comments-2020.csv\n",
      "copy: s3://ads508team5/cities/uscities.csv to s3://sagemaker-us-east-1-975050119017/ADS508_project/cities/uscities.csv\n"
     ]
    }
   ],
   "source": [
    "# Public Data\n",
    "!aws s3 ls s3://ads508team5/\n",
    "\n",
    "# Copy Datasets from :\n",
    "# Source of data\n",
    "s3_public_path_tweeter = \"s3://ads508team5/tweeter\"\n",
    "s3_public_path_nyt = \"s3://ads508team5/nyt\"\n",
    "s3_public_path_cities = \"s3://ads508team5/cities\"\n",
    "\n",
    "# Destination Data:\n",
    "s3_private_path_tweeter = \"s3://{}/ADS508_project/tweeter\".format(bucket)\n",
    "s3_private_path_nyt = \"s3://{}/ADS508_project/nyt\".format(bucket)\n",
    "s3_private_path_cities = \"s3://{}/ADS508_project/cities\".format(bucket)\n",
    "\n",
    "\n",
    "# Copy datasets\n",
    "!aws s3 cp --recursive $s3_public_path_tweeter/ $s3_private_path_tweeter/ --exclude \"*\" --include \"hashtag_donaldtrump.csv\"\n",
    "!aws s3 cp --recursive $s3_public_path_tweeter/ $s3_private_path_tweeter/ --exclude \"*\" --include \"hashtag_joebiden.csv\"\n",
    "!aws s3 cp --recursive $s3_public_path_nyt/ $s3_private_path_nyt/ --exclude \"*\" --include \"nyt-comments-2020.csv\"\n",
    "!aws s3 cp --recursive $s3_public_path_cities/ $s3_private_path_cities/ --exclude \"*\" --include \"uscities.csv\""
   ]
  },
  {
   "cell_type": "markdown",
   "id": "fbfd7b2f",
   "metadata": {},
   "source": [
    "## Create Database, Tables and Parquets\n",
    "### Database"
   ]
  },
  {
   "cell_type": "code",
   "execution_count": 6,
   "id": "8ed3ea97",
   "metadata": {
    "tags": []
   },
   "outputs": [],
   "source": [
    "# Setup and check pre-requisites to create Database\n",
    "ingest_create_athena_db_passed = False\n",
    "\n",
    "#!pip install --disable-pip-version-check -q PyAthena==2.1.0\n",
    "from pyathena import connect"
   ]
  },
  {
   "cell_type": "code",
   "execution_count": 7,
   "id": "54ba41e8-462e-425b-a617-05641521dd0e",
   "metadata": {},
   "outputs": [],
   "source": [
    "\n",
    "# Set S3 staging directory -- this is a temporary directory used for Athena queries\n",
    "s3_staging_dir = \"s3://{0}/athena/staging\".format(bucket)\n",
    "\n",
    "# Create Connection\n",
    "conn = connect(region_name=region, s3_staging_dir=s3_staging_dir)"
   ]
  },
  {
   "cell_type": "code",
   "execution_count": 8,
   "id": "a6268521",
   "metadata": {
    "tags": []
   },
   "outputs": [
    {
     "data": {
      "text/html": [
       "<div>\n",
       "<style scoped>\n",
       "    .dataframe tbody tr th:only-of-type {\n",
       "        vertical-align: middle;\n",
       "    }\n",
       "\n",
       "    .dataframe tbody tr th {\n",
       "        vertical-align: top;\n",
       "    }\n",
       "\n",
       "    .dataframe thead th {\n",
       "        text-align: right;\n",
       "    }\n",
       "</style>\n",
       "<table border=\"1\" class=\"dataframe\">\n",
       "  <thead>\n",
       "    <tr style=\"text-align: right;\">\n",
       "      <th></th>\n",
       "      <th>database_name</th>\n",
       "    </tr>\n",
       "  </thead>\n",
       "  <tbody>\n",
       "    <tr>\n",
       "      <th>0</th>\n",
       "      <td>dbpoliticpulsecomment</td>\n",
       "    </tr>\n",
       "    <tr>\n",
       "      <th>1</th>\n",
       "      <td>default</td>\n",
       "    </tr>\n",
       "  </tbody>\n",
       "</table>\n",
       "</div>"
      ],
      "text/plain": [
       "           database_name\n",
       "0  dbpoliticpulsecomment\n",
       "1                default"
      ]
     },
     "execution_count": 8,
     "metadata": {},
     "output_type": "execute_result"
    }
   ],
   "source": [
    "# Create Database\n",
    "database_name = \"dbpoliticpulsecomment\"\n",
    "\n",
    "statement = \"CREATE DATABASE IF NOT EXISTS {}\".format(database_name)\n",
    "\n",
    "pd.read_sql(statement, conn)\n",
    "\n",
    "# Verify DB successfully created\n",
    "statement = \"SHOW DATABASES\"\n",
    "\n",
    "df_show = pd.read_sql(statement, conn)\n",
    "df_show.head(5)\n"
   ]
  },
  {
   "cell_type": "code",
   "execution_count": 9,
   "id": "a58edb18",
   "metadata": {
    "tags": []
   },
   "outputs": [],
   "source": [
    "# End of Create Database\n",
    "if database_name in df_show.values:\n",
    "    ingest_create_athena_db_passed = True"
   ]
  },
  {
   "cell_type": "markdown",
   "id": "50b6701e",
   "metadata": {},
   "source": [
    "### Tables"
   ]
  },
  {
   "cell_type": "code",
   "execution_count": 10,
   "id": "b366b2af",
   "metadata": {
    "tags": []
   },
   "outputs": [
    {
     "data": {
      "text/html": [
       "<div>\n",
       "<style scoped>\n",
       "    .dataframe tbody tr th:only-of-type {\n",
       "        vertical-align: middle;\n",
       "    }\n",
       "\n",
       "    .dataframe tbody tr th {\n",
       "        vertical-align: top;\n",
       "    }\n",
       "\n",
       "    .dataframe thead th {\n",
       "        text-align: right;\n",
       "    }\n",
       "</style>\n",
       "<table border=\"1\" class=\"dataframe\">\n",
       "  <thead>\n",
       "    <tr style=\"text-align: right;\">\n",
       "      <th></th>\n",
       "    </tr>\n",
       "  </thead>\n",
       "  <tbody>\n",
       "  </tbody>\n",
       "</table>\n",
       "</div>"
      ],
      "text/plain": [
       "Empty DataFrame\n",
       "Columns: []\n",
       "Index: []"
      ]
     },
     "execution_count": 10,
     "metadata": {},
     "output_type": "execute_result"
    }
   ],
   "source": [
    "# Create Tweeter Tables\n",
    "table_name_csv = \"tweeter\"\n",
    "s3_private_path_tweeter = \"s3://{}/ADS508_project/tweeter\".format(bucket)\n",
    "\n",
    "statement = \"\"\"CREATE EXTERNAL TABLE IF NOT EXISTS {}.{}(\n",
    "  created_at TIMESTAMP,\n",
    "  tweet_id FLOAT,\n",
    "  tweet VARCHAR(250),\n",
    "  likes INT,\n",
    "  retweet_count INT,\n",
    "  source VARCHAR(45),\n",
    "  user_id INT,\n",
    "  user_name VARCHAR(250),\n",
    "  user_screen_name VARCHAR(45),\n",
    "  user_description VARCHAR(250),\n",
    "  user_join_date TIMESTAMP,\n",
    "  user_followers_count INT,\n",
    "  user_location VARCHAR(45),\n",
    "  lat FLOAT,\n",
    "  long FLOAT,\n",
    "  city VARCHAR(45),\n",
    "  country VARCHAR(45),\n",
    "  continent VARCHAR(45),\n",
    "  state VARCHAR(45),\n",
    "  state_code VARCHAR(45),\n",
    "  collected_at VARCHAR(45)\n",
    ")\n",
    "ROW FORMAT DELIMITED\n",
    "FIELDS TERMINATED BY ','\n",
    "LOCATION '{}'\n",
    "TBLPROPERTIES ('skip.header.line.count'='1')\"\"\".format(\n",
    "    database_name, table_name_csv, s3_private_path_tweeter\n",
    ")\n",
    "\n",
    "pd.read_sql(statement, conn)\n"
   ]
  },
  {
   "cell_type": "code",
   "execution_count": 11,
   "id": "cb2f3816",
   "metadata": {
    "tags": []
   },
   "outputs": [
    {
     "data": {
      "text/html": [
       "<div>\n",
       "<style scoped>\n",
       "    .dataframe tbody tr th:only-of-type {\n",
       "        vertical-align: middle;\n",
       "    }\n",
       "\n",
       "    .dataframe tbody tr th {\n",
       "        vertical-align: top;\n",
       "    }\n",
       "\n",
       "    .dataframe thead th {\n",
       "        text-align: right;\n",
       "    }\n",
       "</style>\n",
       "<table border=\"1\" class=\"dataframe\">\n",
       "  <thead>\n",
       "    <tr style=\"text-align: right;\">\n",
       "      <th></th>\n",
       "      <th>created_at</th>\n",
       "      <th>tweet_id</th>\n",
       "      <th>tweet</th>\n",
       "      <th>likes</th>\n",
       "      <th>retweet_count</th>\n",
       "      <th>source</th>\n",
       "      <th>user_id</th>\n",
       "      <th>user_name</th>\n",
       "      <th>user_screen_name</th>\n",
       "      <th>user_description</th>\n",
       "      <th>...</th>\n",
       "      <th>user_followers_count</th>\n",
       "      <th>user_location</th>\n",
       "      <th>lat</th>\n",
       "      <th>long</th>\n",
       "      <th>city</th>\n",
       "      <th>country</th>\n",
       "      <th>continent</th>\n",
       "      <th>state</th>\n",
       "      <th>state_code</th>\n",
       "      <th>collected_at</th>\n",
       "    </tr>\n",
       "  </thead>\n",
       "  <tbody>\n",
       "    <tr>\n",
       "      <th>0</th>\n",
       "      <td>None</td>\n",
       "      <td>1.316529e+18</td>\n",
       "      <td>@chrislongview Watching and setting dvr. Let’s...</td>\n",
       "      <td>0</td>\n",
       "      <td>0</td>\n",
       "      <td>Twitter for iPhone</td>\n",
       "      <td>None</td>\n",
       "      <td>Michelle Ferg</td>\n",
       "      <td>MichelleFerg4</td>\n",
       "      <td></td>\n",
       "      <td>...</td>\n",
       "      <td>27</td>\n",
       "      <td></td>\n",
       "      <td>None</td>\n",
       "      <td>None</td>\n",
       "      <td></td>\n",
       "      <td></td>\n",
       "      <td></td>\n",
       "      <td></td>\n",
       "      <td></td>\n",
       "      <td>00:01.6</td>\n",
       "    </tr>\n",
       "  </tbody>\n",
       "</table>\n",
       "<p>1 rows × 21 columns</p>\n",
       "</div>"
      ],
      "text/plain": [
       "  created_at      tweet_id                                              tweet  \\\n",
       "0       None  1.316529e+18  @chrislongview Watching and setting dvr. Let’s...   \n",
       "\n",
       "   likes  retweet_count              source user_id      user_name  \\\n",
       "0      0              0  Twitter for iPhone    None  Michelle Ferg   \n",
       "\n",
       "  user_screen_name user_description  ... user_followers_count  user_location  \\\n",
       "0    MichelleFerg4                   ...                   27                  \n",
       "\n",
       "    lat  long city country continent state state_code collected_at  \n",
       "0  None  None                                              00:01.6  \n",
       "\n",
       "[1 rows x 21 columns]"
      ]
     },
     "execution_count": 11,
     "metadata": {},
     "output_type": "execute_result"
    }
   ],
   "source": [
    "# testing hashtag_donaldtrump.csv tweet\n",
    "tweet = \"You get a tie! And you get a tie! #Trump ‘s rally #Iowa https://t.co/jJalUUmh5D\"\n",
    "# testing hashtag_joebiden.csv tweet\n",
    "tweet = \"@chrislongview Watching and setting dvr. Let’s give him bonus ratings!! #JoeBiden\"\n",
    "\n",
    "\n",
    "statement = \"\"\"SELECT * FROM {}.{}\n",
    "    WHERE tweet = '{}' LIMIT 100\"\"\".format(\n",
    "    database_name, table_name_csv, tweet\n",
    ")\n",
    "\n",
    "df = pd.read_sql(statement, conn)\n",
    "df.head(5)\n"
   ]
  },
  {
   "cell_type": "code",
   "execution_count": 12,
   "id": "ed105b9b",
   "metadata": {
    "tags": []
   },
   "outputs": [
    {
     "data": {
      "text/html": [
       "<div>\n",
       "<style scoped>\n",
       "    .dataframe tbody tr th:only-of-type {\n",
       "        vertical-align: middle;\n",
       "    }\n",
       "\n",
       "    .dataframe tbody tr th {\n",
       "        vertical-align: top;\n",
       "    }\n",
       "\n",
       "    .dataframe thead th {\n",
       "        text-align: right;\n",
       "    }\n",
       "</style>\n",
       "<table border=\"1\" class=\"dataframe\">\n",
       "  <thead>\n",
       "    <tr style=\"text-align: right;\">\n",
       "      <th></th>\n",
       "    </tr>\n",
       "  </thead>\n",
       "  <tbody>\n",
       "  </tbody>\n",
       "</table>\n",
       "</div>"
      ],
      "text/plain": [
       "Empty DataFrame\n",
       "Columns: []\n",
       "Index: []"
      ]
     },
     "execution_count": 12,
     "metadata": {},
     "output_type": "execute_result"
    }
   ],
   "source": [
    "# Create NYT comment Table\n",
    "table_name_csv = \"nyt_comment\"\n",
    "s3_private_path_nyt = \"s3://{}/ADS508_project/nyt\".format(bucket)\n",
    "\n",
    "\n",
    "statement = \"\"\"CREATE EXTERNAL TABLE IF NOT EXISTS {}.{} (\n",
    "  commentID INT,\n",
    "  status VARCHAR(20),\n",
    "  commentSequence INT,\n",
    "  userID INT,\n",
    "  userDisplayName VARCHAR(45),\n",
    "  userLocation VARCHAR(45),\n",
    "  userTitle VARCHAR(10),\n",
    "  commentBody VARCHAR(500),\n",
    "  createDate TIMESTAMP,\n",
    "  updateDate TIMESTAMP,\n",
    "  approveDate TIMESTAMP,\n",
    "  recommendation INT,\n",
    "  replyCount INT,\n",
    "  editorsSelection VARCHAR(20),\n",
    "  parentID INT,\n",
    "  parentUserDisplayName VARCHAR(45),\n",
    "  depth INT,\n",
    "  commentType VARCHAR(20),\n",
    "  trusted VARCHAR(20),\n",
    "  recommendedFlag VARCHAR(20),\n",
    "  permID INT,\n",
    "  isAnonymous VARCHAR(20),\n",
    "  articleID VARCHAR(150)\n",
    ")\n",
    "ROW FORMAT DELIMITED\n",
    "FIELDS TERMINATED BY ','\n",
    "LOCATION '{}'\n",
    "TBLPROPERTIES ('skip.header.line.count'='1')\"\"\".format(\n",
    "    database_name, table_name_csv, s3_private_path_nyt\n",
    ")\n",
    "\n",
    "pd.read_sql(statement, conn)\n"
   ]
  },
  {
   "cell_type": "code",
   "execution_count": 13,
   "id": "1f08d61f",
   "metadata": {
    "tags": []
   },
   "outputs": [
    {
     "data": {
      "text/html": [
       "<div>\n",
       "<style scoped>\n",
       "    .dataframe tbody tr th:only-of-type {\n",
       "        vertical-align: middle;\n",
       "    }\n",
       "\n",
       "    .dataframe tbody tr th {\n",
       "        vertical-align: top;\n",
       "    }\n",
       "\n",
       "    .dataframe thead th {\n",
       "        text-align: right;\n",
       "    }\n",
       "</style>\n",
       "<table border=\"1\" class=\"dataframe\">\n",
       "  <thead>\n",
       "    <tr style=\"text-align: right;\">\n",
       "      <th></th>\n",
       "      <th>tab_name</th>\n",
       "    </tr>\n",
       "  </thead>\n",
       "  <tbody>\n",
       "    <tr>\n",
       "      <th>0</th>\n",
       "      <td>comment</td>\n",
       "    </tr>\n",
       "    <tr>\n",
       "      <th>1</th>\n",
       "      <td>comment_parquet</td>\n",
       "    </tr>\n",
       "    <tr>\n",
       "      <th>2</th>\n",
       "      <td>nyt_comment</td>\n",
       "    </tr>\n",
       "    <tr>\n",
       "      <th>3</th>\n",
       "      <td>tweeter</td>\n",
       "    </tr>\n",
       "    <tr>\n",
       "      <th>4</th>\n",
       "      <td>uscities</td>\n",
       "    </tr>\n",
       "  </tbody>\n",
       "</table>\n",
       "</div>"
      ],
      "text/plain": [
       "          tab_name\n",
       "0          comment\n",
       "1  comment_parquet\n",
       "2      nyt_comment\n",
       "3          tweeter\n",
       "4         uscities"
      ]
     },
     "execution_count": 13,
     "metadata": {},
     "output_type": "execute_result"
    }
   ],
   "source": [
    "statement = \"SHOW TABLES in {}\".format(database_name)\n",
    "\n",
    "df_show = pd.read_sql(statement, conn)\n",
    "df_show.head(5)"
   ]
  },
  {
   "cell_type": "code",
   "execution_count": 14,
   "id": "5f118e12",
   "metadata": {
    "tags": []
   },
   "outputs": [
    {
     "data": {
      "text/html": [
       "<div>\n",
       "<style scoped>\n",
       "    .dataframe tbody tr th:only-of-type {\n",
       "        vertical-align: middle;\n",
       "    }\n",
       "\n",
       "    .dataframe tbody tr th {\n",
       "        vertical-align: top;\n",
       "    }\n",
       "\n",
       "    .dataframe thead th {\n",
       "        text-align: right;\n",
       "    }\n",
       "</style>\n",
       "<table border=\"1\" class=\"dataframe\">\n",
       "  <thead>\n",
       "    <tr style=\"text-align: right;\">\n",
       "      <th></th>\n",
       "      <th>commentid</th>\n",
       "      <th>status</th>\n",
       "      <th>commentsequence</th>\n",
       "      <th>userid</th>\n",
       "      <th>userdisplayname</th>\n",
       "      <th>userlocation</th>\n",
       "      <th>usertitle</th>\n",
       "      <th>commentbody</th>\n",
       "      <th>createdate</th>\n",
       "      <th>updatedate</th>\n",
       "      <th>...</th>\n",
       "      <th>editorsselection</th>\n",
       "      <th>parentid</th>\n",
       "      <th>parentuserdisplayname</th>\n",
       "      <th>depth</th>\n",
       "      <th>commenttype</th>\n",
       "      <th>trusted</th>\n",
       "      <th>recommendedflag</th>\n",
       "      <th>permid</th>\n",
       "      <th>isanonymous</th>\n",
       "      <th>articleid</th>\n",
       "    </tr>\n",
       "  </thead>\n",
       "  <tbody>\n",
       "    <tr>\n",
       "      <th>0</th>\n",
       "      <td>104389709</td>\n",
       "      <td>approved</td>\n",
       "      <td>104389709</td>\n",
       "      <td>72038931</td>\n",
       "      <td>Anthony Monaghan</td>\n",
       "      <td>Narrabeen</td>\n",
       "      <td></td>\n",
       "      <td>@Philip Brown Agree 110%.</td>\n",
       "      <td>2020-01-01 10:36:20</td>\n",
       "      <td>2020-01-01 21:18:55</td>\n",
       "      <td>...</td>\n",
       "      <td>False</td>\n",
       "      <td>104389536</td>\n",
       "      <td>Philip Brown</td>\n",
       "      <td>2</td>\n",
       "      <td>userReply</td>\n",
       "      <td>0</td>\n",
       "      <td>0</td>\n",
       "      <td>104389709</td>\n",
       "      <td>False</td>\n",
       "      <td>nyt://article/69a7090b-9f36-569e-b5ab-b0ba5bb3...</td>\n",
       "    </tr>\n",
       "  </tbody>\n",
       "</table>\n",
       "<p>1 rows × 23 columns</p>\n",
       "</div>"
      ],
      "text/plain": [
       "   commentid    status  commentsequence    userid   userdisplayname  \\\n",
       "0  104389709  approved        104389709  72038931  Anthony Monaghan   \n",
       "\n",
       "  userlocation usertitle                commentbody          createdate  \\\n",
       "0    Narrabeen            @Philip Brown Agree 110%. 2020-01-01 10:36:20   \n",
       "\n",
       "           updatedate  ... editorsselection   parentid  parentuserdisplayname  \\\n",
       "0 2020-01-01 21:18:55  ...            False  104389536           Philip Brown   \n",
       "\n",
       "  depth  commenttype trusted  recommendedflag     permid isanonymous  \\\n",
       "0     2    userReply       0                0  104389709       False   \n",
       "\n",
       "                                           articleid  \n",
       "0  nyt://article/69a7090b-9f36-569e-b5ab-b0ba5bb3...  \n",
       "\n",
       "[1 rows x 23 columns]"
      ]
     },
     "execution_count": 14,
     "metadata": {},
     "output_type": "execute_result"
    }
   ],
   "source": [
    "commentBody = \"@Philip Brown Agree 110%.\"\n",
    "\n",
    "statement = \"\"\"SELECT * FROM {}.{}\n",
    "    WHERE commentBody = '{}' LIMIT 100\"\"\".format(\n",
    "    database_name, table_name_csv, commentBody\n",
    ")\n",
    "\n",
    "df = pd.read_sql(statement, conn)\n",
    "df.head(5)\n"
   ]
  },
  {
   "cell_type": "code",
   "execution_count": 16,
   "id": "df721c6c-eb56-473c-991f-4a8a80486d15",
   "metadata": {},
   "outputs": [
    {
     "data": {
      "text/html": [
       "<div>\n",
       "<style scoped>\n",
       "    .dataframe tbody tr th:only-of-type {\n",
       "        vertical-align: middle;\n",
       "    }\n",
       "\n",
       "    .dataframe tbody tr th {\n",
       "        vertical-align: top;\n",
       "    }\n",
       "\n",
       "    .dataframe thead th {\n",
       "        text-align: right;\n",
       "    }\n",
       "</style>\n",
       "<table border=\"1\" class=\"dataframe\">\n",
       "  <thead>\n",
       "    <tr style=\"text-align: right;\">\n",
       "      <th></th>\n",
       "    </tr>\n",
       "  </thead>\n",
       "  <tbody>\n",
       "  </tbody>\n",
       "</table>\n",
       "</div>"
      ],
      "text/plain": [
       "Empty DataFrame\n",
       "Columns: []\n",
       "Index: []"
      ]
     },
     "execution_count": 16,
     "metadata": {},
     "output_type": "execute_result"
    }
   ],
   "source": [
    "# Create uscities table\n",
    "table_name = \"uscities\"\n",
    "s3_private_path_cities = \"s3://{}/ADS508_project/cities\".format(bucket)\n",
    "\n",
    "statement = \"\"\"\n",
    "CREATE EXTERNAL TABLE IF NOT EXISTS {}.{} (\n",
    "    city VARCHAR(45),\n",
    "    state_id VARCHAR(2),\n",
    "    state_name VARCHAR(30)\n",
    ")\n",
    "ROW FORMAT DELIMITED\n",
    "FIELDS TERMINATED BY ','\n",
    "LOCATION '{}'\n",
    "TBLPROPERTIES ('skip.header.line.count'='1')\n",
    "\"\"\".format(\n",
    "    database_name, table_name, s3_private_path_cities\n",
    ")\n",
    "\n",
    "pd.read_sql(statement, conn)\n",
    "\n",
    "#with conn.cursor() as cursor:\n",
    "#    for _, row in df_city.iterrows():\n",
    "#        cursor.execute(\"INSERT INTO {}.{} VALUES ('{}', '{}', '{}')\".format(database_name, table_name, row['city'], row['state_id'], row['state_name']))\n"
   ]
  },
  {
   "cell_type": "markdown",
   "id": "d3ccd002",
   "metadata": {},
   "source": [
    "### Parquets\n",
    "#### Feature Selection and Creation\n",
    "Prior creating a parquet table, tweeter and NYT comment tables are going to be combined under Comment Table in Athena where a feature creation is going to be performed. When the table is combined, we selected some features that would be benefit to our goal."
   ]
  },
  {
   "cell_type": "markdown",
   "id": "878fc4ed-1442-4639-b29b-a1ec495856cd",
   "metadata": {},
   "source": [
    "Selected features which could help on train the model are comment_id, comment_body, user_id, user_location, candidatepoll"
   ]
  },
  {
   "cell_type": "code",
   "execution_count": 17,
   "id": "abcc6e5d",
   "metadata": {
    "tags": []
   },
   "outputs": [
    {
     "data": {
      "text/html": [
       "<div>\n",
       "<style scoped>\n",
       "    .dataframe tbody tr th:only-of-type {\n",
       "        vertical-align: middle;\n",
       "    }\n",
       "\n",
       "    .dataframe tbody tr th {\n",
       "        vertical-align: top;\n",
       "    }\n",
       "\n",
       "    .dataframe thead th {\n",
       "        text-align: right;\n",
       "    }\n",
       "</style>\n",
       "<table border=\"1\" class=\"dataframe\">\n",
       "  <thead>\n",
       "    <tr style=\"text-align: right;\">\n",
       "      <th></th>\n",
       "      <th>rows</th>\n",
       "    </tr>\n",
       "  </thead>\n",
       "  <tbody>\n",
       "  </tbody>\n",
       "</table>\n",
       "</div>"
      ],
      "text/plain": [
       "Empty DataFrame\n",
       "Columns: [rows]\n",
       "Index: []"
      ]
     },
     "execution_count": 17,
     "metadata": {},
     "output_type": "execute_result"
    }
   ],
   "source": [
    "table_comment = \"comment\"\n",
    "table_tweeter = \"tweeter\"\n",
    "table_nyt_comment = \"nyt_comment\"\n",
    "\n",
    "# SQL Statement combine tweeter and NYT comment in the preparation to create parquet\n",
    "statement = \"\"\"\n",
    "CREATE TABLE IF NOT EXISTS {}.{} AS (\n",
    "SELECT DISTINCT\n",
    "    tweet_id AS comment_id,\n",
    "    tweet AS comment_body,\n",
    "    user_id AS user_id,\n",
    "    user_name AS user_name,\n",
    "    user_location AS user_location,\n",
    "    u.state_id AS user_state,\n",
    "    created_at AS create_date,\n",
    "    retweet_count AS reply_retweet,\n",
    "    likes AS recommendation_like,\n",
    "    'tweet' as source,\n",
    "    (LENGTH(tweet) - LENGTH(REPLACE(LOWER(tweet), 'trump', ''))) / LENGTH('trump') AS trump_count,\n",
    "    (LENGTH(tweet) - LENGTH(REPLACE(LOWER(tweet), 'biden', ''))) / LENGTH('biden') AS biden_count,\n",
    "    CASE \n",
    "        WHEN \n",
    "            (LENGTH(tweet) - LENGTH(REPLACE(LOWER(tweet), 'biden', ''))) / LENGTH('biden') > \n",
    "            (LENGTH(tweet) - LENGTH(REPLACE(LOWER(tweet), 'trump', ''))) / LENGTH('trump') \n",
    "        THEN 'Biden'\n",
    "        WHEN              \n",
    "            (LENGTH(tweet) - LENGTH(REPLACE(LOWER(tweet), 'biden', ''))) / LENGTH('biden') < \n",
    "            (LENGTH(tweet) - LENGTH(REPLACE(LOWER(tweet), 'trump', ''))) / LENGTH('trump') \n",
    "        THEN 'Trump'\n",
    "        ELSE NULL\n",
    "    END AS candidatepoll\n",
    "FROM\n",
    "    {}.{}\n",
    "LEFT JOIN\n",
    "    dbpoliticpulsecomment.uscities u ON lower(user_location) = lower(u.city) OR \n",
    "    lower(user_location) = lower(u.state_name) OR \n",
    "    lower(user_location) = lower(u.state_id)\n",
    "WHERE\n",
    "    LENGTH(tweet) > 3\n",
    "UNION\n",
    "SELECT DISTINCT\n",
    "    commentid AS comment_id,\n",
    "    commentbody AS comment_body,\n",
    "    userID AS user_id,\n",
    "    userDisplayName AS user_name,\n",
    "    userLocation AS user_location,\n",
    "    u.state_id as user_state,\n",
    "    createDate AS create_date,\n",
    "    replyCount AS reply_retweet,\n",
    "    recommendation AS recommendation_like,\n",
    "    'nyt_comment' as source,\n",
    "    (LENGTH(commentbody) - LENGTH(REPLACE(LOWER(commentbody), 'trump', ''))) / LENGTH('trump') AS trump_count,\n",
    "    (LENGTH(commentbody) - LENGTH(REPLACE(LOWER(commentbody), 'biden', ''))) / LENGTH('biden') AS biden_count,\n",
    "    CASE\n",
    "        WHEN\n",
    "            (LENGTH(commentbody) - LENGTH(REPLACE(LOWER(commentbody), 'biden', ''))) / LENGTH('biden') > \n",
    "            (LENGTH(commentbody) - LENGTH(REPLACE(LOWER(commentbody), 'trump', ''))) / LENGTH('trump') \n",
    "        THEN 'Biden'\n",
    "        WHEN\n",
    "            (LENGTH(commentbody) - LENGTH(REPLACE(LOWER(commentbody), 'biden', ''))) / LENGTH('biden') < \n",
    "            (LENGTH(commentbody) - LENGTH(REPLACE(LOWER(commentbody), 'trump', ''))) / LENGTH('trump') \n",
    "        THEN 'Trump'\n",
    "        ELSE NULL\n",
    "    END AS candidatepoll\n",
    "FROM \n",
    "    {}.{}\n",
    "LEFT JOIN\n",
    "    dbpoliticpulsecomment.uscities u ON lower(userLocation) = lower(u.city) OR \n",
    "    lower(userLocation) = lower(u.state_name) OR \n",
    "    lower(userLocation) = lower(u.state_id)\n",
    "WHERE LENGTH(commentbody) > 3\n",
    ")\"\"\".format(database_name, table_comment,database_name, table_tweeter,database_name, table_nyt_comment)\n",
    "\n",
    "pd.read_sql(statement, conn)"
   ]
  },
  {
   "cell_type": "code",
   "execution_count": 18,
   "id": "b0cf2ca7",
   "metadata": {
    "tags": []
   },
   "outputs": [
    {
     "data": {
      "text/html": [
       "<div>\n",
       "<style scoped>\n",
       "    .dataframe tbody tr th:only-of-type {\n",
       "        vertical-align: middle;\n",
       "    }\n",
       "\n",
       "    .dataframe tbody tr th {\n",
       "        vertical-align: top;\n",
       "    }\n",
       "\n",
       "    .dataframe thead th {\n",
       "        text-align: right;\n",
       "    }\n",
       "</style>\n",
       "<table border=\"1\" class=\"dataframe\">\n",
       "  <thead>\n",
       "    <tr style=\"text-align: right;\">\n",
       "      <th></th>\n",
       "      <th>comment_id</th>\n",
       "      <th>comment_body</th>\n",
       "      <th>user_id</th>\n",
       "      <th>user_name</th>\n",
       "      <th>user_location</th>\n",
       "      <th>create_date</th>\n",
       "      <th>reply_retweet</th>\n",
       "      <th>recommendation_like</th>\n",
       "      <th>source</th>\n",
       "      <th>trump_count</th>\n",
       "      <th>biden_count</th>\n",
       "      <th>candidatepoll</th>\n",
       "    </tr>\n",
       "  </thead>\n",
       "  <tbody>\n",
       "    <tr>\n",
       "      <th>0</th>\n",
       "      <td>110811792.0</td>\n",
       "      <td>Joe Biden’s Climate Team Actually Cares About ...</td>\n",
       "      <td>70773801</td>\n",
       "      <td>Nreb</td>\n",
       "      <td>La La Land</td>\n",
       "      <td>2020-12-29 22:18:22</td>\n",
       "      <td>0</td>\n",
       "      <td>0</td>\n",
       "      <td>nyt_comment</td>\n",
       "      <td>0</td>\n",
       "      <td>1</td>\n",
       "      <td>Biden</td>\n",
       "    </tr>\n",
       "    <tr>\n",
       "      <th>1</th>\n",
       "      <td>108745368.0</td>\n",
       "      <td>Joe Biden represents what is good and right wi...</td>\n",
       "      <td>65597270</td>\n",
       "      <td>Marilyn</td>\n",
       "      <td>Columbus</td>\n",
       "      <td>2020-08-21 12:41:22</td>\n",
       "      <td>0</td>\n",
       "      <td>2</td>\n",
       "      <td>nyt_comment</td>\n",
       "      <td>0</td>\n",
       "      <td>2</td>\n",
       "      <td>Biden</td>\n",
       "    </tr>\n",
       "    <tr>\n",
       "      <th>2</th>\n",
       "      <td>108743552.0</td>\n",
       "      <td>Joe Biden talked about Our Country. I'm sure t...</td>\n",
       "      <td>71613293</td>\n",
       "      <td>alan</td>\n",
       "      <td>MA</td>\n",
       "      <td>2020-08-21 10:10:43</td>\n",
       "      <td>0</td>\n",
       "      <td>8</td>\n",
       "      <td>nyt_comment</td>\n",
       "      <td>2</td>\n",
       "      <td>1</td>\n",
       "      <td>Trump</td>\n",
       "    </tr>\n",
       "    <tr>\n",
       "      <th>3</th>\n",
       "      <td>108755536.0</td>\n",
       "      <td>Joe Biden may be the man of the moment but how...</td>\n",
       "      <td>78343265</td>\n",
       "      <td>KMW</td>\n",
       "      <td>New York City</td>\n",
       "      <td>2020-08-21 20:39:32</td>\n",
       "      <td>3</td>\n",
       "      <td>3</td>\n",
       "      <td>nyt_comment</td>\n",
       "      <td>0</td>\n",
       "      <td>2</td>\n",
       "      <td>Biden</td>\n",
       "    </tr>\n",
       "    <tr>\n",
       "      <th>4</th>\n",
       "      <td>108747888.0</td>\n",
       "      <td>Joe Biden is really likeable.</td>\n",
       "      <td>47215913</td>\n",
       "      <td>Technic Ally</td>\n",
       "      <td>Toronto</td>\n",
       "      <td>2020-08-21 14:45:49</td>\n",
       "      <td>0</td>\n",
       "      <td>7</td>\n",
       "      <td>nyt_comment</td>\n",
       "      <td>0</td>\n",
       "      <td>1</td>\n",
       "      <td>Biden</td>\n",
       "    </tr>\n",
       "  </tbody>\n",
       "</table>\n",
       "</div>"
      ],
      "text/plain": [
       "    comment_id                                       comment_body   user_id  \\\n",
       "0  110811792.0  Joe Biden’s Climate Team Actually Cares About ...  70773801   \n",
       "1  108745368.0  Joe Biden represents what is good and right wi...  65597270   \n",
       "2  108743552.0  Joe Biden talked about Our Country. I'm sure t...  71613293   \n",
       "3  108755536.0  Joe Biden may be the man of the moment but how...  78343265   \n",
       "4  108747888.0                      Joe Biden is really likeable.  47215913   \n",
       "\n",
       "      user_name  user_location         create_date  reply_retweet  \\\n",
       "0          Nreb     La La Land 2020-12-29 22:18:22              0   \n",
       "1       Marilyn       Columbus 2020-08-21 12:41:22              0   \n",
       "2          alan             MA 2020-08-21 10:10:43              0   \n",
       "3           KMW  New York City 2020-08-21 20:39:32              3   \n",
       "4  Technic Ally        Toronto 2020-08-21 14:45:49              0   \n",
       "\n",
       "   recommendation_like       source  trump_count  biden_count candidatepoll  \n",
       "0                    0  nyt_comment            0            1         Biden  \n",
       "1                    2  nyt_comment            0            2         Biden  \n",
       "2                    8  nyt_comment            2            1         Trump  \n",
       "3                    3  nyt_comment            0            2         Biden  \n",
       "4                    7  nyt_comment            0            1         Biden  "
      ]
     },
     "execution_count": 18,
     "metadata": {},
     "output_type": "execute_result"
    }
   ],
   "source": [
    "commentbody = \"Joe Biden\"\n",
    "source = \"nyt_comment\"\n",
    "\n",
    "statement = \"\"\"SELECT * FROM {}.{}\n",
    "    WHERE comment_body like '{}%' and source = '{}' LIMIT 100\"\"\".format(\n",
    "    database_name, table_comment, commentbody, source\n",
    ")\n",
    "\n",
    "df = pd.read_sql(statement, conn)\n",
    "df.head(5)\n"
   ]
  },
  {
   "cell_type": "code",
   "execution_count": 19,
   "id": "24e266db",
   "metadata": {
    "tags": []
   },
   "outputs": [],
   "source": [
    "# Setup to create Parquet\n",
    "ingest_create_athena_table_parquet_passed = False\n",
    "\n",
    "# Set S3 path to Parquet data\n",
    "s3_path_parquet = \"s3://{}/ADS508_project/parquet\".format(bucket)\n",
    "\n",
    "table_parquet = \"comment_parquet\""
   ]
  },
  {
   "cell_type": "code",
   "execution_count": 20,
   "id": "ae06efcb",
   "metadata": {
    "tags": []
   },
   "outputs": [
    {
     "data": {
      "text/html": [
       "<div>\n",
       "<style scoped>\n",
       "    .dataframe tbody tr th:only-of-type {\n",
       "        vertical-align: middle;\n",
       "    }\n",
       "\n",
       "    .dataframe tbody tr th {\n",
       "        vertical-align: top;\n",
       "    }\n",
       "\n",
       "    .dataframe thead th {\n",
       "        text-align: right;\n",
       "    }\n",
       "</style>\n",
       "<table border=\"1\" class=\"dataframe\">\n",
       "  <thead>\n",
       "    <tr style=\"text-align: right;\">\n",
       "      <th></th>\n",
       "      <th>rows</th>\n",
       "    </tr>\n",
       "  </thead>\n",
       "  <tbody>\n",
       "  </tbody>\n",
       "</table>\n",
       "</div>"
      ],
      "text/plain": [
       "Empty DataFrame\n",
       "Columns: [rows]\n",
       "Index: []"
      ]
     },
     "execution_count": 20,
     "metadata": {},
     "output_type": "execute_result"
    }
   ],
   "source": [
    "# SQL statement to execute (remove comment_id, user_name,)\n",
    "statement = \"\"\"CREATE TABLE IF NOT EXISTS {}.{}\n",
    "WITH (format = 'PARQUET', external_location = '{}', partitioned_by = ARRAY['candidatepoll']) AS\n",
    "SELECT DISTINCT user_location,\n",
    "         user_state,\n",
    "         comment_body,\n",
    "         source,\n",
    "         candidatepoll\n",
    "FROM {}.{}\n",
    "where candidatepoll is not null AND Length(comment_body)>1 AND length(user_location)>1\"\"\".format(\n",
    "    database_name, table_parquet, s3_path_parquet, database_name, table_comment\n",
    ")\n",
    "pd.read_sql(statement, conn)"
   ]
  },
  {
   "cell_type": "code",
   "execution_count": 21,
   "id": "435eaa44",
   "metadata": {
    "tags": []
   },
   "outputs": [
    {
     "data": {
      "text/html": [
       "<div>\n",
       "<style scoped>\n",
       "    .dataframe tbody tr th:only-of-type {\n",
       "        vertical-align: middle;\n",
       "    }\n",
       "\n",
       "    .dataframe tbody tr th {\n",
       "        vertical-align: top;\n",
       "    }\n",
       "\n",
       "    .dataframe thead th {\n",
       "        text-align: right;\n",
       "    }\n",
       "</style>\n",
       "<table border=\"1\" class=\"dataframe\">\n",
       "  <thead>\n",
       "    <tr style=\"text-align: right;\">\n",
       "      <th></th>\n",
       "    </tr>\n",
       "  </thead>\n",
       "  <tbody>\n",
       "  </tbody>\n",
       "</table>\n",
       "</div>"
      ],
      "text/plain": [
       "Empty DataFrame\n",
       "Columns: []\n",
       "Index: []"
      ]
     },
     "execution_count": 21,
     "metadata": {},
     "output_type": "execute_result"
    }
   ],
   "source": [
    "#load the Parquet partitions\n",
    "statement = \"MSCK REPAIR TABLE {}.{}\".format(database_name, table_parquet)\n",
    "\n",
    "df = pd.read_sql(statement, conn)\n",
    "df.head(5)"
   ]
  },
  {
   "cell_type": "code",
   "execution_count": 22,
   "id": "96e21991",
   "metadata": {
    "tags": []
   },
   "outputs": [
    {
     "data": {
      "text/html": [
       "<div>\n",
       "<style scoped>\n",
       "    .dataframe tbody tr th:only-of-type {\n",
       "        vertical-align: middle;\n",
       "    }\n",
       "\n",
       "    .dataframe tbody tr th {\n",
       "        vertical-align: top;\n",
       "    }\n",
       "\n",
       "    .dataframe thead th {\n",
       "        text-align: right;\n",
       "    }\n",
       "</style>\n",
       "<table border=\"1\" class=\"dataframe\">\n",
       "  <thead>\n",
       "    <tr style=\"text-align: right;\">\n",
       "      <th></th>\n",
       "      <th>partition</th>\n",
       "    </tr>\n",
       "  </thead>\n",
       "  <tbody>\n",
       "    <tr>\n",
       "      <th>0</th>\n",
       "      <td>candidatepoll=Biden</td>\n",
       "    </tr>\n",
       "    <tr>\n",
       "      <th>1</th>\n",
       "      <td>candidatepoll=__HIVE_DEFAULT_PARTITION__</td>\n",
       "    </tr>\n",
       "    <tr>\n",
       "      <th>2</th>\n",
       "      <td>candidatepoll=Trump</td>\n",
       "    </tr>\n",
       "  </tbody>\n",
       "</table>\n",
       "</div>"
      ],
      "text/plain": [
       "                                  partition\n",
       "0                       candidatepoll=Biden\n",
       "1  candidatepoll=__HIVE_DEFAULT_PARTITION__\n",
       "2                       candidatepoll=Trump"
      ]
     },
     "execution_count": 22,
     "metadata": {},
     "output_type": "execute_result"
    }
   ],
   "source": [
    "statement = \"SHOW PARTITIONS {}.{}\".format(database_name, table_parquet)\n",
    "df_partitions = pd.read_sql(statement, conn)\n",
    "df_partitions.head(5)"
   ]
  },
  {
   "cell_type": "code",
   "execution_count": 23,
   "id": "f282d08a",
   "metadata": {
    "tags": []
   },
   "outputs": [
    {
     "data": {
      "text/html": [
       "<div>\n",
       "<style scoped>\n",
       "    .dataframe tbody tr th:only-of-type {\n",
       "        vertical-align: middle;\n",
       "    }\n",
       "\n",
       "    .dataframe tbody tr th {\n",
       "        vertical-align: top;\n",
       "    }\n",
       "\n",
       "    .dataframe thead th {\n",
       "        text-align: right;\n",
       "    }\n",
       "</style>\n",
       "<table border=\"1\" class=\"dataframe\">\n",
       "  <thead>\n",
       "    <tr style=\"text-align: right;\">\n",
       "      <th></th>\n",
       "      <th>tab_name</th>\n",
       "    </tr>\n",
       "  </thead>\n",
       "  <tbody>\n",
       "    <tr>\n",
       "      <th>0</th>\n",
       "      <td>comment</td>\n",
       "    </tr>\n",
       "    <tr>\n",
       "      <th>1</th>\n",
       "      <td>comment_parquet</td>\n",
       "    </tr>\n",
       "    <tr>\n",
       "      <th>2</th>\n",
       "      <td>nyt_comment</td>\n",
       "    </tr>\n",
       "    <tr>\n",
       "      <th>3</th>\n",
       "      <td>tweeter</td>\n",
       "    </tr>\n",
       "    <tr>\n",
       "      <th>4</th>\n",
       "      <td>uscities</td>\n",
       "    </tr>\n",
       "  </tbody>\n",
       "</table>\n",
       "</div>"
      ],
      "text/plain": [
       "          tab_name\n",
       "0          comment\n",
       "1  comment_parquet\n",
       "2      nyt_comment\n",
       "3          tweeter\n",
       "4         uscities"
      ]
     },
     "execution_count": 23,
     "metadata": {},
     "output_type": "execute_result"
    }
   ],
   "source": [
    "statement = \"SHOW TABLES in {}\".format(database_name)\n",
    "df_partitions = pd.read_sql(statement, conn)\n",
    "df_partitions.head(5)"
   ]
  },
  {
   "cell_type": "code",
   "execution_count": 24,
   "id": "3dc60922",
   "metadata": {
    "tags": []
   },
   "outputs": [
    {
     "data": {
      "text/html": [
       "<div>\n",
       "<style scoped>\n",
       "    .dataframe tbody tr th:only-of-type {\n",
       "        vertical-align: middle;\n",
       "    }\n",
       "\n",
       "    .dataframe tbody tr th {\n",
       "        vertical-align: top;\n",
       "    }\n",
       "\n",
       "    .dataframe thead th {\n",
       "        text-align: right;\n",
       "    }\n",
       "</style>\n",
       "<table border=\"1\" class=\"dataframe\">\n",
       "  <thead>\n",
       "    <tr style=\"text-align: right;\">\n",
       "      <th></th>\n",
       "      <th>comment_id</th>\n",
       "      <th>user_name</th>\n",
       "      <th>user_location</th>\n",
       "      <th>comment_body</th>\n",
       "      <th>reply_retweet</th>\n",
       "      <th>recommendation_like</th>\n",
       "      <th>source</th>\n",
       "      <th>trump_count</th>\n",
       "      <th>biden_count</th>\n",
       "      <th>candidatepoll</th>\n",
       "    </tr>\n",
       "  </thead>\n",
       "  <tbody>\n",
       "    <tr>\n",
       "      <th>0</th>\n",
       "      <td>1.325140e+18</td>\n",
       "      <td>None</td>\n",
       "      <td>None</td>\n",
       "      <td>\"#Trump and his administration has left the re...</td>\n",
       "      <td>NaN</td>\n",
       "      <td>NaN</td>\n",
       "      <td>tweet</td>\n",
       "      <td>1</td>\n",
       "      <td>0</td>\n",
       "      <td>Trump</td>\n",
       "    </tr>\n",
       "    <tr>\n",
       "      <th>1</th>\n",
       "      <td>1.325140e+18</td>\n",
       "      <td>None</td>\n",
       "      <td>None</td>\n",
       "      <td>\"perdió trump</td>\n",
       "      <td>NaN</td>\n",
       "      <td>NaN</td>\n",
       "      <td>tweet</td>\n",
       "      <td>1</td>\n",
       "      <td>0</td>\n",
       "      <td>Trump</td>\n",
       "    </tr>\n",
       "    <tr>\n",
       "      <th>2</th>\n",
       "      <td>1.325140e+18</td>\n",
       "      <td>None</td>\n",
       "      <td>None</td>\n",
       "      <td>\"#Trump</td>\n",
       "      <td>NaN</td>\n",
       "      <td>NaN</td>\n",
       "      <td>tweet</td>\n",
       "      <td>1</td>\n",
       "      <td>0</td>\n",
       "      <td>Trump</td>\n",
       "    </tr>\n",
       "    <tr>\n",
       "      <th>3</th>\n",
       "      <td>1.325140e+18</td>\n",
       "      <td>TtoxicPK</td>\n",
       "      <td></td>\n",
       "      <td>R.I.P Trump 2016-2020 #DonaldTrump #ElectionRe...</td>\n",
       "      <td>0.0</td>\n",
       "      <td>0.0</td>\n",
       "      <td>tweet</td>\n",
       "      <td>4</td>\n",
       "      <td>3</td>\n",
       "      <td>Trump</td>\n",
       "    </tr>\n",
       "    <tr>\n",
       "      <th>4</th>\n",
       "      <td>1.325140e+18</td>\n",
       "      <td>None</td>\n",
       "      <td>None</td>\n",
       "      <td>\"Howdyy?? Trump after being dumped?</td>\n",
       "      <td>NaN</td>\n",
       "      <td>NaN</td>\n",
       "      <td>tweet</td>\n",
       "      <td>1</td>\n",
       "      <td>0</td>\n",
       "      <td>Trump</td>\n",
       "    </tr>\n",
       "  </tbody>\n",
       "</table>\n",
       "</div>"
      ],
      "text/plain": [
       "     comment_id user_name user_location  \\\n",
       "0  1.325140e+18      None          None   \n",
       "1  1.325140e+18      None          None   \n",
       "2  1.325140e+18      None          None   \n",
       "3  1.325140e+18  TtoxicPK                 \n",
       "4  1.325140e+18      None          None   \n",
       "\n",
       "                                        comment_body  reply_retweet  \\\n",
       "0  \"#Trump and his administration has left the re...            NaN   \n",
       "1                                     \"perdió trump             NaN   \n",
       "2                                           \"#Trump             NaN   \n",
       "3  R.I.P Trump 2016-2020 #DonaldTrump #ElectionRe...            0.0   \n",
       "4                \"Howdyy?? Trump after being dumped?            NaN   \n",
       "\n",
       "   recommendation_like source  trump_count  biden_count candidatepoll  \n",
       "0                  NaN  tweet            1            0         Trump  \n",
       "1                  NaN  tweet            1            0         Trump  \n",
       "2                  NaN  tweet            1            0         Trump  \n",
       "3                  0.0  tweet            4            3         Trump  \n",
       "4                  NaN  tweet            1            0         Trump  "
      ]
     },
     "execution_count": 24,
     "metadata": {},
     "output_type": "execute_result"
    }
   ],
   "source": [
    "candidatepoll = \"Trump\"\n",
    "\n",
    "statement = \"\"\"SELECT * FROM {}.{}\n",
    "    Where candidatepoll = '{}' LIMIT 10\"\"\".format(\n",
    "    database_name, table_parquet, candidatepoll\n",
    ")\n",
    "df_parquet = pd.read_sql(statement, conn)\n",
    "df_parquet.head(5)"
   ]
  },
  {
   "cell_type": "markdown",
   "id": "3b8461c5",
   "metadata": {},
   "source": [
    "## Query Data"
   ]
  },
  {
   "cell_type": "code",
   "execution_count": 25,
   "id": "6e00bda0",
   "metadata": {
    "scrolled": true,
    "tags": []
   },
   "outputs": [],
   "source": [
    "# Setup and check pre-requisites to create Database\n",
    "\n",
    "#!pip install --disable-pip-version-check -q awswrangler\n",
    "import awswrangler as wr"
   ]
  },
  {
   "cell_type": "code",
   "execution_count": 26,
   "id": "3b28f75b",
   "metadata": {
    "tags": []
   },
   "outputs": [],
   "source": [
    "t_filter = lambda x: x[\"candidatepoll\"] == \"Trump\"\n",
    "b_filter = lambda x: x[\"candidatepoll\"] == \"Biden\""
   ]
  },
  {
   "cell_type": "code",
   "execution_count": 27,
   "id": "d208219a",
   "metadata": {
    "tags": []
   },
   "outputs": [],
   "source": [
    "path =  \"s3://{}/ADS508_project/parquet\".format(bucket)\n",
    "\n",
    "df_parquet_results = wr.s3.read_parquet(\n",
    "    path, columns=[\"comment_body\", \"source\", \"user_location\", \"candidatepoll\"], partition_filter=t_filter, dataset=True\n",
    ")\n",
    "\n",
    "#\"user_state\", \n"
   ]
  },
  {
   "cell_type": "code",
   "execution_count": 28,
   "id": "40daa73f",
   "metadata": {
    "tags": []
   },
   "outputs": [
    {
     "data": {
      "text/html": [
       "<div>\n",
       "<style scoped>\n",
       "    .dataframe tbody tr th:only-of-type {\n",
       "        vertical-align: middle;\n",
       "    }\n",
       "\n",
       "    .dataframe tbody tr th {\n",
       "        vertical-align: top;\n",
       "    }\n",
       "\n",
       "    .dataframe thead th {\n",
       "        text-align: right;\n",
       "    }\n",
       "</style>\n",
       "<table border=\"1\" class=\"dataframe\">\n",
       "  <thead>\n",
       "    <tr style=\"text-align: right;\">\n",
       "      <th></th>\n",
       "      <th>comment_body</th>\n",
       "      <th>source</th>\n",
       "      <th>user_location</th>\n",
       "      <th>candidatepoll</th>\n",
       "    </tr>\n",
       "  </thead>\n",
       "  <tbody>\n",
       "    <tr>\n",
       "      <th>0</th>\n",
       "      <td>\"Ma la signora Maglie che nelle sue dirette ci...</td>\n",
       "      <td>tweet</td>\n",
       "      <td>&lt;NA&gt;</td>\n",
       "      <td>Trump</td>\n",
       "    </tr>\n",
       "    <tr>\n",
       "      <th>1</th>\n",
       "      <td>#ByeByeTrump #Election2020results #Election202...</td>\n",
       "      <td>tweet</td>\n",
       "      <td>HE%SHE ☆ﾐ</td>\n",
       "      <td>Trump</td>\n",
       "    </tr>\n",
       "    <tr>\n",
       "      <th>2</th>\n",
       "      <td>\"Finally a real president! Trump supporters</td>\n",
       "      <td>tweet</td>\n",
       "      <td>&lt;NA&gt;</td>\n",
       "      <td>Trump</td>\n",
       "    </tr>\n",
       "    <tr>\n",
       "      <th>3</th>\n",
       "      <td>\"#ByeByeTrump you are gefeuert..</td>\n",
       "      <td>tweet</td>\n",
       "      <td>&lt;NA&gt;</td>\n",
       "      <td>Trump</td>\n",
       "    </tr>\n",
       "    <tr>\n",
       "      <th>4</th>\n",
       "      <td>\"Trump be like : accha main chlta hu duao main...</td>\n",
       "      <td>tweet</td>\n",
       "      <td>&lt;NA&gt;</td>\n",
       "      <td>Trump</td>\n",
       "    </tr>\n",
       "  </tbody>\n",
       "</table>\n",
       "</div>"
      ],
      "text/plain": [
       "                                        comment_body source user_location  \\\n",
       "0  \"Ma la signora Maglie che nelle sue dirette ci...  tweet          <NA>   \n",
       "1  #ByeByeTrump #Election2020results #Election202...  tweet     HE%SHE ☆ﾐ   \n",
       "2        \"Finally a real president! Trump supporters  tweet          <NA>   \n",
       "3                   \"#ByeByeTrump you are gefeuert..  tweet          <NA>   \n",
       "4  \"Trump be like : accha main chlta hu duao main...  tweet          <NA>   \n",
       "\n",
       "  candidatepoll  \n",
       "0         Trump  \n",
       "1         Trump  \n",
       "2         Trump  \n",
       "3         Trump  \n",
       "4         Trump  "
      ]
     },
     "execution_count": 28,
     "metadata": {},
     "output_type": "execute_result"
    }
   ],
   "source": [
    "df_parquet_results_trump = df_parquet_results.drop_duplicates(subset = ['comment_body'])\n",
    "#df_parquet_results_trump = df_parquet_results.dropna(subset = ['user_state'])\n",
    "#df_parquet_results_trump = df_parquet_results[df_parquet_results['user_state'] != ' V']\n",
    "df_parquet_results_trump.shape\n",
    "df_parquet_results_trump.head(5)"
   ]
  },
  {
   "cell_type": "code",
   "execution_count": 29,
   "id": "076d4959",
   "metadata": {},
   "outputs": [
    {
     "data": {
      "text/html": [
       "<div>\n",
       "<style scoped>\n",
       "    .dataframe tbody tr th:only-of-type {\n",
       "        vertical-align: middle;\n",
       "    }\n",
       "\n",
       "    .dataframe tbody tr th {\n",
       "        vertical-align: top;\n",
       "    }\n",
       "\n",
       "    .dataframe thead th {\n",
       "        text-align: right;\n",
       "    }\n",
       "</style>\n",
       "<table border=\"1\" class=\"dataframe\">\n",
       "  <thead>\n",
       "    <tr style=\"text-align: right;\">\n",
       "      <th></th>\n",
       "      <th>comment_body</th>\n",
       "      <th>source</th>\n",
       "      <th>user_location</th>\n",
       "      <th>candidatepoll</th>\n",
       "    </tr>\n",
       "  </thead>\n",
       "  <tbody>\n",
       "    <tr>\n",
       "      <th>0</th>\n",
       "      <td>We can all breathe now . #Biden</td>\n",
       "      <td>tweet</td>\n",
       "      <td>NY 🍎 LA  | 🌎 Traveler | Not All Those Who Wan</td>\n",
       "      <td>Biden</td>\n",
       "    </tr>\n",
       "    <tr>\n",
       "      <th>1</th>\n",
       "      <td>#KamalaHarrisVP #JoeBiden   JOE AND KAMALA DO ...</td>\n",
       "      <td>tweet</td>\n",
       "      <td></td>\n",
       "      <td>Biden</td>\n",
       "    </tr>\n",
       "    <tr>\n",
       "      <th>2</th>\n",
       "      <td>Thank you @KingJames @CP3 &amp;amp; the sporting w...</td>\n",
       "      <td>tweet</td>\n",
       "      <td></td>\n",
       "      <td>Biden</td>\n",
       "    </tr>\n",
       "    <tr>\n",
       "      <th>3</th>\n",
       "      <td>\"@BBCNews #JoeBiden can we please savour this ...</td>\n",
       "      <td>tweet</td>\n",
       "      <td>158.0</td>\n",
       "      <td>Biden</td>\n",
       "    </tr>\n",
       "    <tr>\n",
       "      <th>4</th>\n",
       "      <td>#Merkel #Allemagne #Biden https://t.co/fyq8r3siwN</td>\n",
       "      <td>tweet</td>\n",
       "      <td>\"Montréal</td>\n",
       "      <td>Biden</td>\n",
       "    </tr>\n",
       "  </tbody>\n",
       "</table>\n",
       "</div>"
      ],
      "text/plain": [
       "                                        comment_body source  \\\n",
       "0                    We can all breathe now . #Biden  tweet   \n",
       "1  #KamalaHarrisVP #JoeBiden   JOE AND KAMALA DO ...  tweet   \n",
       "2  Thank you @KingJames @CP3 &amp; the sporting w...  tweet   \n",
       "3  \"@BBCNews #JoeBiden can we please savour this ...  tweet   \n",
       "4  #Merkel #Allemagne #Biden https://t.co/fyq8r3siwN  tweet   \n",
       "\n",
       "                                   user_location candidatepoll  \n",
       "0  NY 🍎 LA  | 🌎 Traveler | Not All Those Who Wan         Biden  \n",
       "1                                                        Biden  \n",
       "2                                                        Biden  \n",
       "3                                          158.0         Biden  \n",
       "4                                      \"Montréal         Biden  "
      ]
     },
     "execution_count": 29,
     "metadata": {},
     "output_type": "execute_result"
    }
   ],
   "source": [
    "path =  \"s3://{}/ADS508_project/parquet\".format(bucket)\n",
    "\n",
    "# Call all public discourse data from \n",
    "df_parquet_results = wr.s3.read_parquet(\n",
    "    path, columns=[\"comment_body\", \"source\", \"user_location\", \"candidatepoll\"], partition_filter=b_filter, dataset=True\n",
    ")\n",
    "\n",
    "# \"user_state\",\n",
    "df_parquet_results_biden = df_parquet_results.drop_duplicates(subset = ['comment_body'])\n",
    "df_parquet_results_biden.shape\n",
    "df_parquet_results_biden.head(5)"
   ]
  },
  {
   "cell_type": "markdown",
   "id": "612a2655",
   "metadata": {},
   "source": [
    "# Data Exploration before Any Feature Transformation"
   ]
  },
  {
   "cell_type": "code",
   "execution_count": 30,
   "id": "5accb614",
   "metadata": {
    "tags": []
   },
   "outputs": [
    {
     "name": "stdout",
     "output_type": "stream",
     "text": [
      "<class 'pandas.core.frame.DataFrame'>\n",
      "Int64Index: 926684 entries, 0 to 1005921\n",
      "Data columns (total 4 columns):\n",
      " #   Column         Non-Null Count   Dtype   \n",
      "---  ------         --------------   -----   \n",
      " 0   comment_body   926684 non-null  string  \n",
      " 1   source         926684 non-null  string  \n",
      " 2   user_location  734730 non-null  string  \n",
      " 3   candidatepoll  926684 non-null  category\n",
      "dtypes: category(1), string(3)\n",
      "memory usage: 29.2 MB\n"
     ]
    }
   ],
   "source": [
    "# Checking for missing values from trump data\n",
    "df_parquet_results_trump.info()"
   ]
  },
  {
   "cell_type": "code",
   "execution_count": null,
   "id": "af933a9a",
   "metadata": {
    "tags": []
   },
   "outputs": [],
   "source": [
    "# Check for missing values from  biden data\n",
    "df_parquet_results_biden.info()"
   ]
  },
  {
   "cell_type": "code",
   "execution_count": null,
   "id": "23647e4c",
   "metadata": {},
   "outputs": [],
   "source": [
    "# Data Distributions for Trump and Biden \n",
    "df_parquet_results_trump['source'].value_counts()\n"
   ]
  },
  {
   "cell_type": "code",
   "execution_count": null,
   "id": "7c82b8ed",
   "metadata": {
    "tags": []
   },
   "outputs": [],
   "source": [
    "# Data Distributions for Trump and Biden \n",
    "df_parquet_results_biden['source'].value_counts()"
   ]
  },
  {
   "cell_type": "code",
   "execution_count": null,
   "id": "685d75cf",
   "metadata": {},
   "outputs": [],
   "source": [
    "# Filtering Data by Location \n",
    "df_parquet_results_trump['user_location'].value_counts()"
   ]
  },
  {
   "cell_type": "code",
   "execution_count": null,
   "id": "36f505d2",
   "metadata": {
    "tags": []
   },
   "outputs": [],
   "source": [
    "# Top 30 locations of social media activity\n",
    "df_parquet_results_trump['user_location'].value_counts().head(30)"
   ]
  },
  {
   "cell_type": "code",
   "execution_count": null,
   "id": "c3724bb2",
   "metadata": {
    "tags": []
   },
   "outputs": [],
   "source": [
    "df_parquet_results_biden['user_location'].value_counts()"
   ]
  },
  {
   "cell_type": "code",
   "execution_count": null,
   "id": "4138776c",
   "metadata": {
    "tags": []
   },
   "outputs": [],
   "source": [
    "# Top 30 locations of social media activity\n",
    "df_parquet_results_biden['user_location'].value_counts().head(30)"
   ]
  },
  {
   "cell_type": "markdown",
   "id": "14395879",
   "metadata": {},
   "source": [
    "# Create EDA Overview Data Visualization"
   ]
  },
  {
   "cell_type": "code",
   "execution_count": 31,
   "id": "f766c5a8",
   "metadata": {
    "tags": []
   },
   "outputs": [
    {
     "data": {
      "image/png": "[encoded data removed]",
      "text/plain": [
       "<Figure size 432x288 with 1 Axes>"
      ]
     },
     "metadata": {
      "needs_background": "light"
     },
     "output_type": "display_data"
    }
   ],
   "source": [
    "# Data Sources for Each Candidate\n",
    "# Code from ChatGPT\n",
    "\n",
    "import matplotlib.pyplot as plt\n",
    "\n",
    "candidate = ['Trump','Biden']\n",
    "twitter_n = [df_parquet_results_trump['source'].value_counts()[0],df_parquet_results_biden['source'].value_counts()[0]]\n",
    "nyt_n = [df_parquet_results_trump['source'].value_counts()[1],df_parquet_results_biden['source'].value_counts()[1]]\n",
    "\n",
    "x = range(len(candidate))\n",
    "\n",
    "# Plotting the bars\n",
    "plt.bar(x, twitter_n, width=0.4, label='Twitter Mentions', align='center')\n",
    "plt.bar(x, nyt_n, width=0.4, label='NYT Mentions', align='edge')\n",
    "\n",
    "# Adding labels\n",
    "plt.xlabel('Candidates')\n",
    "plt.ylabel('Number of Mentions')\n",
    "plt.title('Twitter and NYT Mentions by Candidate')\n",
    "plt.xticks(x, candidate)\n",
    "plt.legend()\n",
    "\n",
    "# Show plot\n",
    "plt.savefig('DataDist.png')"
   ]
  },
  {
   "cell_type": "markdown",
   "id": "d7632eaa-5bd6-4c9a-9d97-343f65725f1d",
   "metadata": {},
   "source": [
    "## Standardizing Text Entries and Location Data"
   ]
  },
  {
   "cell_type": "code",
   "execution_count": null,
   "id": "8cfe9814-bf24-4c15-aef0-6b356d759407",
   "metadata": {},
   "outputs": [],
   "source": [
    "# !pip install emoji"
   ]
  },
  {
   "cell_type": "code",
   "execution_count": null,
   "id": "ee1d1b97-7d7f-4e69-9e39-6d0014cd81e3",
   "metadata": {},
   "outputs": [],
   "source": []
  },
  {
   "cell_type": "code",
   "execution_count": 32,
   "id": "10ffe246-eea5-488d-aa14-a91557970a62",
   "metadata": {},
   "outputs": [
    {
     "name": "stderr",
     "output_type": "stream",
     "text": [
      "/tmp/ipykernel_15042/3991732238.py:23: SettingWithCopyWarning: \n",
      "A value is trying to be set on a copy of a slice from a DataFrame.\n",
      "Try using .loc[row_indexer,col_indexer] = value instead\n",
      "\n",
      "See the caveats in the documentation: https://pandas.pydata.org/pandas-docs/stable/user_guide/indexing.html#returning-a-view-versus-a-copy\n",
      "  df_parquet_results_biden['user_location'] = df_parquet_results_biden['user_location'].astype(str)\n",
      "/tmp/ipykernel_15042/3991732238.py:28: SettingWithCopyWarning: \n",
      "A value is trying to be set on a copy of a slice from a DataFrame.\n",
      "Try using .loc[row_indexer,col_indexer] = value instead\n",
      "\n",
      "See the caveats in the documentation: https://pandas.pydata.org/pandas-docs/stable/user_guide/indexing.html#returning-a-view-versus-a-copy\n",
      "  df_parquet_results_biden['clean_text'] = df_parquet_results_biden['comment_body'].apply(preprocess_text)\n",
      "/tmp/ipykernel_15042/3991732238.py:29: SettingWithCopyWarning: \n",
      "A value is trying to be set on a copy of a slice from a DataFrame.\n",
      "Try using .loc[row_indexer,col_indexer] = value instead\n",
      "\n",
      "See the caveats in the documentation: https://pandas.pydata.org/pandas-docs/stable/user_guide/indexing.html#returning-a-view-versus-a-copy\n",
      "  df_parquet_results_biden['clean_location'] = df_parquet_results_biden['user_location'].apply(preprocess_text)\n"
     ]
    }
   ],
   "source": [
    "import re\n",
    "import emoji\n",
    "\n",
    "# Function to preprocess text data\n",
    "def preprocess_text(text):\n",
    "    # Remove extra spaces while preserving at least one space between words\n",
    "    text = re.sub(r'\\s+', ' ', text)\n",
    "    # Remove punctuation\n",
    "    text = re.sub(r'[^\\w\\s]', '', text)\n",
    "    # Replace emojis with text labels\n",
    "    text = emoji.demojize(text)\n",
    "    # Remove URLs\n",
    "    text = re.sub(r'http\\S+', '', text)\n",
    "    # Remove \"#\" from hashtags\n",
    "    text = re.sub(r'#', '', text)\n",
    "    # Remove \"@\" from mentions\n",
    "    text = re.sub(r'@', '', text)\n",
    "    # Check if the text consists only of numbers\n",
    "    if text.isdigit():\n",
    "        text = \"NA\"\n",
    "    return text\n",
    "\n",
    "df_parquet_results_biden['user_location'] = df_parquet_results_biden['user_location'].astype(str)\n",
    "df_parquet_results_trump['user_location'] = df_parquet_results_trump['user_location'].astype(str)\n",
    "\n",
    "\n",
    "# Apply preprocessing to text columns in the dataframe\n",
    "df_parquet_results_biden['clean_text'] = df_parquet_results_biden['comment_body'].apply(preprocess_text)\n",
    "df_parquet_results_biden['clean_location'] = df_parquet_results_biden['user_location'].apply(preprocess_text)\n",
    "df_parquet_results_trump['clean_text'] = df_parquet_results_trump['comment_body'].apply(preprocess_text)\n",
    "df_parquet_results_trump['clean_location'] = df_parquet_results_trump['user_location'].apply(preprocess_text)"
   ]
  },
  {
   "cell_type": "code",
   "execution_count": null,
   "id": "9767cb35-9241-4867-a89e-58d591f9843b",
   "metadata": {
    "tags": []
   },
   "outputs": [],
   "source": []
  },
  {
   "cell_type": "code",
   "execution_count": null,
   "id": "cbfa3eb2-40b6-4a0e-b2d4-f94ab7e07518",
   "metadata": {
    "tags": []
   },
   "outputs": [],
   "source": []
  },
  {
   "cell_type": "code",
   "execution_count": null,
   "id": "11bb3bcd-26f5-4f63-ae3f-a46bb458676c",
   "metadata": {
    "tags": []
   },
   "outputs": [],
   "source": []
  },
  {
   "cell_type": "code",
   "execution_count": null,
   "id": "752e1423-e301-4802-9ff6-02cd48c5786a",
   "metadata": {},
   "outputs": [],
   "source": []
  },
  {
   "cell_type": "markdown",
   "id": "a1175b11-6feb-497a-bdae-9aadd86b1216",
   "metadata": {},
   "source": [
    "# Word Clouds with Comment Body Text"
   ]
  },
  {
   "cell_type": "code",
   "execution_count": 33,
   "id": "6167ad62",
   "metadata": {},
   "outputs": [
    {
     "data": {
      "image/png": "[encoded data removed]",
      "text/plain": [
       "<Figure size 720x432 with 1 Axes>"
      ]
     },
     "metadata": {
      "needs_background": "light"
     },
     "output_type": "display_data"
    }
   ],
   "source": [
    "from wordcloud import WordCloud\n",
    "import matplotlib.pyplot as plt\n",
    "import re\n",
    "\n",
    "# Sample a subset of comments for generating the word cloud\n",
    "sampled_trump_comments = df_parquet_results_trump['clean_text'].dropna().sample(n=10000, random_state=42)\n",
    "\n",
    "# Concatenate sampled comments for Trump\n",
    "trump_comments_text = ' '.join(sampled_trump_comments)\n",
    "\n",
    "# Define words and patterns to exclude\n",
    "words_to_exclude = ['trump', 'donald', 'donaldtrump', 'https', 'co', 'st'] \n",
    "patterns_to_exclude = [r'\\btrump\\b', r'\\bdonald\\b', r'\\bdonaldtrump\\b', r'https?://\\S+']\n",
    "\n",
    "# Combine words and patterns to exclude\n",
    "exclude_patterns = '|'.join(words_to_exclude + patterns_to_exclude)\n",
    "\n",
    "# Preprocess text to remove specific words and patterns\n",
    "trump_comments_text_cleaned = re.sub(exclude_patterns, '', trump_comments_text, flags=re.IGNORECASE)\n",
    "\n",
    "# Generate word cloud for Trump comments with a limit on the number of words\n",
    "wordcloud_trump = WordCloud(width=800, height=400, background_color='white', max_words=100).generate(trump_comments_text_cleaned)\n",
    "\n",
    "# Plot the word cloud for Trump\n",
    "plt.figure(figsize=(10, 6))\n",
    "plt.imshow(wordcloud_trump, interpolation='bilinear')\n",
    "plt.title('Word Cloud for Trump Comments (Excluding \"Trump\" and \"Donald\")')\n",
    "plt.axis('off')\n",
    "plt.show()"
   ]
  },
  {
   "cell_type": "code",
   "execution_count": 34,
   "id": "f7ae0744",
   "metadata": {
    "tags": []
   },
   "outputs": [
    {
     "data": {
      "image/png": "[encoded data removed]",
      "text/plain": [
       "<Figure size 720x432 with 1 Axes>"
      ]
     },
     "metadata": {
      "needs_background": "light"
     },
     "output_type": "display_data"
    }
   ],
   "source": [
    "# Sample a subset of comments for Biden\n",
    "sampled_biden_comments = df_parquet_results_biden['clean_text'].dropna().sample(n=40000, random_state=42)\n",
    "\n",
    "# Concatenate sampled comments for Biden\n",
    "biden_comments_text = ' '.join(sampled_biden_comments)\n",
    "\n",
    "# Define words and patterns to exclude\n",
    "words_to_exclude = ['biden', 'joe', 'joebiden', 'president', 'election', 'https', 'co','amp']  # Exclude common words and URLs\n",
    "patterns_to_exclude = [r'\\bbiden\\b', r'\\bjoe\\b', r'\\bjoebiden\\b', r'https?://\\S+']\n",
    "\n",
    "# Combine words and patterns to exclude\n",
    "exclude_patterns = '|'.join(words_to_exclude + patterns_to_exclude)\n",
    "\n",
    "# Preprocess text to remove specific words and patterns\n",
    "biden_comments_text_cleaned = re.sub(exclude_patterns, '', biden_comments_text, flags=re.IGNORECASE)\n",
    "\n",
    "# Generate word cloud for Biden comments with a limit on the number of words\n",
    "wordcloud_biden = WordCloud(width=800, height=400, background_color='white', max_words=100).generate(biden_comments_text_cleaned)\n",
    "\n",
    "# Plot the word cloud for Biden\n",
    "plt.figure(figsize=(10, 6))\n",
    "plt.imshow(wordcloud_biden, interpolation='bilinear')\n",
    "plt.title('Word Cloud for Biden Comments (Excluding \"Biden\" and \"Joe\")')\n",
    "plt.axis('off')\n",
    "plt.show()"
   ]
  },
  {
   "cell_type": "markdown",
   "id": "15c3a9ea-b173-4900-8692-e7c1f1155e6e",
   "metadata": {},
   "source": [
    "# Feature Transformation and Data Cleaning"
   ]
  },
  {
   "cell_type": "markdown",
   "id": "1c8c2e43",
   "metadata": {},
   "source": [
    "### Sentiment Labels Using Textblob and Stripping Out Non-English Text Entries with Fasttext."
   ]
  },
  {
   "cell_type": "markdown",
   "id": "a85a8dcc-df72-421d-9fc3-3659e469f28d",
   "metadata": {},
   "source": [
    "### This code must be ran on Mac/Linux only. Windows is not compatible. Clean data from this code is stored in an S3 bucket and called below."
   ]
  },
  {
   "cell_type": "code",
   "execution_count": null,
   "id": "5c46a727-7977-4640-a92d-47a14077e776",
   "metadata": {
    "tags": []
   },
   "outputs": [],
   "source": [
    "#pip install langdetect"
   ]
  },
  {
   "cell_type": "code",
   "execution_count": null,
   "id": "c39bb947-1078-444b-b9c0-7f678b55fa2b",
   "metadata": {
    "tags": []
   },
   "outputs": [],
   "source": [
    "#pip install fasttext-wheel"
   ]
  },
  {
   "cell_type": "code",
   "execution_count": 35,
   "id": "629b6913-e034-45b5-bd6b-5591b53fb1f7",
   "metadata": {
    "tags": []
   },
   "outputs": [
    {
     "name": "stdout",
     "output_type": "stream",
     "text": [
      "--2024-03-25 04:03:33--  https://dl.fbaipublicfiles.com/fasttext/supervised-models/lid.176.bin\n",
      "Resolving dl.fbaipublicfiles.com (dl.fbaipublicfiles.com)... 18.165.83.91, 18.165.83.35, 18.165.83.44, ...\n",
      "Connecting to dl.fbaipublicfiles.com (dl.fbaipublicfiles.com)|18.165.83.91|:443... connected.\n",
      "HTTP request sent, awaiting response... 200 OK\n",
      "Length: 131266198 (125M) [application/octet-stream]\n",
      "Saving to: ‘/ADS508_GroupProject/lid.176.bin.15’\n",
      "\n",
      "lid.176.bin.15      100%[===================>] 125.18M   295MB/s    in 0.4s    \n",
      "\n",
      "2024-03-25 04:03:34 (295 MB/s) - ‘/ADS508_GroupProject/lid.176.bin.15’ saved [131266198/131266198]\n",
      "\n",
      "lid.176.bin\tlid.176.bin.12\tlid.176.bin.2  lid.176.bin.6\n",
      "lid.176.bin.1\tlid.176.bin.13\tlid.176.bin.3  lid.176.bin.7\n",
      "lid.176.bin.10\tlid.176.bin.14\tlid.176.bin.4  lid.176.bin.8\n",
      "lid.176.bin.11\tlid.176.bin.15\tlid.176.bin.5  lid.176.bin.9\n"
     ]
    }
   ],
   "source": [
    "#Use pretrained model\n",
    "#!pip install textblob\n",
    "!wget https://dl.fbaipublicfiles.com/fasttext/supervised-models/lid.176.bin -P /ADS508_GroupProject\n",
    "!ls -p /ADS508_GroupProject\n"
   ]
  },
  {
   "cell_type": "code",
   "execution_count": null,
   "id": "f5f114ed-2edd-4f25-9e22-7ce19c1e9fc2",
   "metadata": {},
   "outputs": [],
   "source": []
  },
  {
   "cell_type": "code",
   "execution_count": 36,
   "id": "410a09f4-2936-43c6-8a60-86f847f8440e",
   "metadata": {
    "tags": []
   },
   "outputs": [
    {
     "name": "stderr",
     "output_type": "stream",
     "text": [
      "Warning : `load_model` does not return WordVectorModel or SupervisedModel any more, but a `FastText` object which is very similar.\n"
     ]
    }
   ],
   "source": [
    "import fasttext\n",
    "from textblob import TextBlob\n",
    "\n",
    "# Load the pre-trained language identification model\n",
    "model_path = '/ADS508_GroupProject/lid.176.bin'  # Path to the pre-trained language identification model\n",
    "model = fasttext.load_model(model_path)"
   ]
  },
  {
   "cell_type": "code",
   "execution_count": 37,
   "id": "c0d240da-ee48-4eab-8050-fb5683b4b575",
   "metadata": {
    "tags": []
   },
   "outputs": [],
   "source": [
    "# Function to detect language using FastText\n",
    "def detect_language_fasttext(text):\n",
    "    prediction = model.predict(text)\n",
    "    language_code = prediction[0][0].split('__label__')[1]\n",
    "    return language_code\n",
    "\n",
    "# Function to analyze tweet sentiment to catch non english words\n",
    "def analyze_tweet_sentiment(tweet_text):\n",
    "    try:\n",
    "        language = detect_language_fasttext(tweet_text)\n",
    "        if language == 'en':\n",
    "            analysis = TextBlob(tweet_text)\n",
    "            return analysis.sentiment.polarity\n",
    "        else:\n",
    "            return None\n",
    "    except:\n",
    "        return None\n",
    "\n"
   ]
  },
  {
   "cell_type": "code",
   "execution_count": null,
   "id": "f8a8d5bc-1707-479e-b356-375c13a5870f",
   "metadata": {
    "tags": []
   },
   "outputs": [],
   "source": [
    "df_parquet_results_trump"
   ]
  },
  {
   "cell_type": "code",
   "execution_count": 38,
   "id": "7c037725-b6e0-465f-9036-dfab714b3688",
   "metadata": {
    "tags": []
   },
   "outputs": [],
   "source": [
    "# Apply sentiment analysis to Trump data\n",
    "if __name__ == \"__main__\":\n",
    "    \n",
    "    df_parquet_results_trump['sentiment'] = df_parquet_results_trump['clean_text'].apply(analyze_tweet_sentiment)\n",
    "    \n",
    "    # Drop non-English tweets (NaN sentiment_score)\n",
    "    df_parquet_results_trump.dropna(subset=['sentiment'], inplace=True)"
   ]
  },
  {
   "cell_type": "code",
   "execution_count": 39,
   "id": "099d7193-2d67-464b-ab6a-f2433721458c",
   "metadata": {
    "tags": []
   },
   "outputs": [
    {
     "name": "stderr",
     "output_type": "stream",
     "text": [
      "/tmp/ipykernel_15042/2452384877.py:2: SettingWithCopyWarning: \n",
      "A value is trying to be set on a copy of a slice from a DataFrame.\n",
      "Try using .loc[row_indexer,col_indexer] = value instead\n",
      "\n",
      "See the caveats in the documentation: https://pandas.pydata.org/pandas-docs/stable/user_guide/indexing.html#returning-a-view-versus-a-copy\n",
      "  df_parquet_results_biden['sentiment'] = df_parquet_results_biden['clean_text'].apply(analyze_tweet_sentiment)\n",
      "/tmp/ipykernel_15042/2452384877.py:8: SettingWithCopyWarning: \n",
      "A value is trying to be set on a copy of a slice from a DataFrame\n",
      "\n",
      "See the caveats in the documentation: https://pandas.pydata.org/pandas-docs/stable/user_guide/indexing.html#returning-a-view-versus-a-copy\n",
      "  df_parquet_results_biden.dropna(subset=['sentiment'], inplace=True)\n"
     ]
    }
   ],
   "source": [
    "# Biden \n",
    "df_parquet_results_biden['sentiment'] = df_parquet_results_biden['clean_text'].apply(analyze_tweet_sentiment)\n",
    "    \n",
    "# Count NaN values before dropping\n",
    "num_nans_before_biden = df_parquet_results_biden['sentiment'].isna().sum()\n",
    "\n",
    "# Drop non-English tweets (NaN sentiment_score)\n",
    "df_parquet_results_biden.dropna(subset=['sentiment'], inplace=True)"
   ]
  },
  {
   "cell_type": "code",
   "execution_count": null,
   "id": "b77fe5ab-e177-4881-a1cd-d7133e8b8035",
   "metadata": {
    "tags": []
   },
   "outputs": [],
   "source": []
  },
  {
   "cell_type": "code",
   "execution_count": null,
   "id": "2c755327",
   "metadata": {
    "tags": []
   },
   "outputs": [],
   "source": [
    "# Code from ChatGPT\n",
    "#!pip install textblob\n",
    "#from textblob import TextBlob\n",
    "\n",
    "#def analyze_tweet_sentiment(tweet_text):\n",
    "    #analysis = TextBlob(tweet_text)\n",
    "    # Return sentiment polarity (ranging from -1 to 1)\n",
    "    #return analysis.sentiment.polarity\n"
   ]
  },
  {
   "cell_type": "code",
   "execution_count": null,
   "id": "7c5faf7e",
   "metadata": {},
   "outputs": [],
   "source": [
    "#Apply sentiment labels to Trump Data\n",
    "#if __name__ == \"__main__\":\n",
    "    # Assuming you have a DataFrame named df_tweets with a column 'text' containing tweet text\n",
    "    #df_tweets_trump = df_parquet_results_trump[['comment_body']]\n",
    "    # Analyze sentiment for each tweet in the DataFrame\n",
    "    #df_tweets_trump['sentiment_score'] = df_tweets_trump['comment_body'].apply(analyze_tweet_sentiment)\n",
    "\n",
    "# Add sentiment output to parent dataframe\n",
    "#df_parquet_results_trump['sentiment'] = df_tweets_trump['sentiment_score']\n",
    "\n"
   ]
  },
  {
   "cell_type": "code",
   "execution_count": null,
   "id": "3e6ce372",
   "metadata": {},
   "outputs": [],
   "source": [
    " # Apply Sentiment labels to Biden Data       \n",
    "#if __name__ == \"__main__\":\n",
    "    # Assuming you have a DataFrame named df_tweets with a column 'text' containing tweet text\n",
    "    #df_tweets_biden = df_parquet_results_biden[['comment_body']]\n",
    "    # Analyze sentiment for each tweet in the DataFrame\n",
    "    #df_tweets_biden['sentiment_score'] = df_tweets_biden['comment_body'].apply(analyze_tweet_sentiment)\n",
    "\n",
    "# Add sentiment output to parent dataframe\n",
    "#df_parquet_results_biden['sentiment'] = df_tweets_biden['sentiment_score']\n"
   ]
  },
  {
   "cell_type": "markdown",
   "id": "a2f675ba-cb4c-4681-a8ed-4095613c30c2",
   "metadata": {},
   "source": [
    "## Combine candidate data"
   ]
  },
  {
   "cell_type": "code",
   "execution_count": 40,
   "id": "823a470b-897c-4ee4-8c73-91797cd5dd95",
   "metadata": {},
   "outputs": [],
   "source": [
    "df_combined = pd.concat([df_parquet_results_biden, df_parquet_results_trump], ignore_index=True)"
   ]
  },
  {
   "cell_type": "code",
   "execution_count": null,
   "id": "8f4b3cfe-e596-401e-8296-af19aee8780f",
   "metadata": {
    "tags": []
   },
   "outputs": [],
   "source": []
  },
  {
   "cell_type": "markdown",
   "id": "6a3bed61-bf06-4962-a3d9-b2ee380a869b",
   "metadata": {},
   "source": [
    "### Create sentiment labels"
   ]
  },
  {
   "cell_type": "code",
   "execution_count": 41,
   "id": "4ac638a3-e39f-464a-9d5d-e62610c83c20",
   "metadata": {},
   "outputs": [],
   "source": [
    "df_combined['sentiment_category'] = df_combined['sentiment'].apply(lambda x: 'negative' if x < 0 else ('positive' if x > 0 else 'neutral'))"
   ]
  },
  {
   "cell_type": "code",
   "execution_count": null,
   "id": "2f44f629-1b56-4b92-90b1-926466bc29f0",
   "metadata": {
    "tags": []
   },
   "outputs": [],
   "source": []
  },
  {
   "cell_type": "markdown",
   "id": "f0efe93c-b17d-44cc-94b1-b1edddb38813",
   "metadata": {},
   "source": [
    "# Upload clean language dataset as S3 bucket. Once this step is completed, this can be commented out, and data can be called in subsequent code block."
   ]
  },
  {
   "cell_type": "code",
   "execution_count": null,
   "id": "65dca4b7-aff7-4088-ac4e-1fe32b5f8e77",
   "metadata": {
    "tags": []
   },
   "outputs": [],
   "source": []
  },
  {
   "cell_type": "code",
   "execution_count": null,
   "id": "69094ddf-5b13-4c09-b079-c8b3eb8ef37d",
   "metadata": {},
   "outputs": [],
   "source": [
    "import boto3\n",
    "\n",
    "# Specify the S3 bucket name\n",
    "bucket_name = '508group'  \n",
    "\n",
    "# Specify the file name in S3\n",
    "file_name = 'df_combined.csv'\n",
    "\n",
    "# Write DataFrame to a CSV file\n",
    "df_combined.to_csv(file_name, index=False)\n",
    "\n",
    "# Create an S3 client\n",
    "s3 = boto3.client('s3')\n",
    "\n",
    "# Upload CSV file to S3\n",
    "with open(file_name, \"rb\") as f:\n",
    "    s3.upload_fileobj(f, bucket_name, file_name)\n",
    "\n",
    "print(f\"DataFrame saved as {file_name} in S3 bucket: {bucket_name}\")"
   ]
  },
  {
   "cell_type": "code",
   "execution_count": null,
   "id": "c8946f73-2f84-407e-a022-63069fca182b",
   "metadata": {},
   "outputs": [],
   "source": [
    "-,"
   ]
  },
  {
   "cell_type": "markdown",
   "id": "87f48ded-03c2-4a6e-94af-5076baeecd8b",
   "metadata": {},
   "source": [
    "# Import clean language dataset from S3 bucket"
   ]
  },
  {
   "cell_type": "code",
   "execution_count": null,
   "id": "ff84da6c-3285-46e0-a1b3-763ee2f714bb",
   "metadata": {
    "tags": []
   },
   "outputs": [],
   "source": [
    "# Specify the S3 bucket name\n",
    "bucket_name = '508group'  \n",
    "\n",
    "# Specify the file name in S3\n",
    "file_name = 'df_combined.csv'\n",
    "\n",
    "# Create an S3 client\n",
    "s3 = boto3.client('s3')\n",
    "\n",
    "# Generate the URL for the file in S3\n",
    "file_url = f's3://{bucket_name}/{file_name}'\n",
    "\n",
    "# Read the CSV file directly into a DataFrame\n",
    "df_combined = pd.read_csv(file_url)\n"
   ]
  },
  {
   "cell_type": "code",
   "execution_count": null,
   "id": "70d1b4b6-22ee-4ea8-ac8b-d09370bd2643",
   "metadata": {
    "tags": []
   },
   "outputs": [],
   "source": [
    "df_combined.head()"
   ]
  },
  {
   "cell_type": "code",
   "execution_count": null,
   "id": "8e80dc4e-6650-4296-a0b8-4d3f6de3d721",
   "metadata": {
    "tags": []
   },
   "outputs": [],
   "source": [
    "df_combined.shape"
   ]
  },
  {
   "cell_type": "markdown",
   "id": "577fd5f2-190d-4d58-af7c-5cbd2e9e6283",
   "metadata": {},
   "source": [
    "# Additional EDA with Clean Language Data"
   ]
  },
  {
   "cell_type": "markdown",
   "id": "28f8f6a5-f04b-440e-92e2-e74251399309",
   "metadata": {},
   "source": [
    "## Trump Data"
   ]
  },
  {
   "cell_type": "code",
   "execution_count": null,
   "id": "7e6888f0",
   "metadata": {
    "tags": []
   },
   "outputs": [],
   "source": [
    "# Examine Trump Sentiment distribution\n",
    "df_combined[df_combined['candidatepoll'] == 'Trump']['sentiment'].value_counts()"
   ]
  },
  {
   "cell_type": "code",
   "execution_count": null,
   "id": "32f86222-5614-403e-9196-6721f3af0c7d",
   "metadata": {
    "tags": []
   },
   "outputs": [],
   "source": [
    "df_combined[(df_combined['candidatepoll'] == 'Trump') & (df_combined['sentiment'] < 0)].head(5)"
   ]
  },
  {
   "cell_type": "code",
   "execution_count": null,
   "id": "6147c1f4-5e6a-4d13-ae45-65b611fa39f9",
   "metadata": {
    "tags": []
   },
   "outputs": [],
   "source": [
    "df_combined[(df_combined['candidatepoll'] == 'Trump') & (df_combined['sentiment'] == 0)].head(5)"
   ]
  },
  {
   "cell_type": "code",
   "execution_count": null,
   "id": "a2a426e1-a2b3-4d05-acc1-08998daafbd8",
   "metadata": {
    "tags": []
   },
   "outputs": [],
   "source": [
    "df_combined[(df_combined['candidatepoll'] == 'Trump') & (df_combined['sentiment'] > 0)].head(5)"
   ]
  },
  {
   "cell_type": "code",
   "execution_count": null,
   "id": "99336874-a3d8-48e2-9ded-7ccbdd43742a",
   "metadata": {
    "tags": []
   },
   "outputs": [],
   "source": [
    "plt.hist(df_combined[df_combined['candidatepoll'] == 'Trump']['sentiment'], bins=30, edgecolor='black')\n",
    "\n",
    "# Adding labels\n",
    "plt.xlabel('Sentiment Score')\n",
    "plt.ylabel('Frequency')\n",
    "plt.title('Distribution of Sentiment Scores for Trump')\n",
    "\n",
    "# Show plot\n",
    "plt.savefig('TrumpSentDist.png')"
   ]
  },
  {
   "cell_type": "markdown",
   "id": "299af5c5-43e8-4ce6-bd79-da2b8655e8fa",
   "metadata": {},
   "source": [
    "### Biden Data"
   ]
  },
  {
   "cell_type": "code",
   "execution_count": null,
   "id": "9e8e76cf-ee32-4e92-b30d-e8a8b93a02c9",
   "metadata": {
    "tags": []
   },
   "outputs": [],
   "source": [
    "df_combined[df_combined['candidatepoll'] == 'Biden']['sentiment'].value_counts()"
   ]
  },
  {
   "cell_type": "code",
   "execution_count": null,
   "id": "d244e68a-0598-4e64-9045-935a278343d6",
   "metadata": {
    "tags": []
   },
   "outputs": [],
   "source": [
    "df_combined[(df_combined['candidatepoll'] == 'Biden') & (df_combined['sentiment'] < 0)].head(5)"
   ]
  },
  {
   "cell_type": "code",
   "execution_count": null,
   "id": "1e4f9bd3-dd1c-4f2a-adb1-c14b1fffbf1a",
   "metadata": {
    "tags": []
   },
   "outputs": [],
   "source": [
    "df_combined[(df_combined['candidatepoll'] == 'Biden') & (df_combined['sentiment'] == 0)].head(5)"
   ]
  },
  {
   "cell_type": "code",
   "execution_count": null,
   "id": "a688224a-92ab-4847-a543-2aa62a4a5d00",
   "metadata": {
    "tags": []
   },
   "outputs": [],
   "source": [
    "df_combined[(df_combined['candidatepoll'] == 'Biden') & (df_combined['sentiment'] > 0)].head(5)"
   ]
  },
  {
   "cell_type": "code",
   "execution_count": null,
   "id": "4cc073d8-90f7-41b1-a35a-c9808fefe863",
   "metadata": {
    "tags": []
   },
   "outputs": [],
   "source": [
    "plt.hist(df_combined[df_combined['candidatepoll'] == 'Biden']['sentiment'], bins=30, edgecolor='black')\n",
    "\n",
    "# Adding labels\n",
    "plt.xlabel('Sentiment Score')\n",
    "plt.ylabel('Frequency')\n",
    "plt.title('Distribution of Sentiment Scores for Biden')\n",
    "\n",
    "# Show plot\n",
    "plt.savefig('BidenSentDist.png')"
   ]
  },
  {
   "cell_type": "markdown",
   "id": "4fd63b6a-94d5-4cd2-b0bd-b264ce307a9d",
   "metadata": {},
   "source": [
    "## Data Source Proportions with Clean Data"
   ]
  },
  {
   "cell_type": "code",
   "execution_count": null,
   "id": "3dc59399-dbf4-4568-9134-7c1541267549",
   "metadata": {
    "tags": []
   },
   "outputs": [],
   "source": [
    "candidate = ['Trump','Biden']\n",
    "twitter_n = [df_combined[df_combined['candidatepoll'] == 'Trump']['source'].value_counts()[0], \n",
    "             df_combined[df_combined['candidatepoll'] == 'Biden']['source'].value_counts()[0]]\n",
    "nyt_n = [df_combined[df_combined['candidatepoll'] == 'Trump']['source'].value_counts()[1], \n",
    "         df_combined[df_combined['candidatepoll'] == 'Biden']['source'].value_counts()[1]]\n",
    "\n",
    "x = range(len(candidate))\n",
    "\n",
    "# Plotting the bars\n",
    "plt.bar(x, twitter_n, width=0.4, label='Twitter Mentions', align='center')\n",
    "plt.bar(x, nyt_n, width=0.4, label='NYT Mentions', align='edge')\n",
    "\n",
    "# Adding labels\n",
    "plt.xlabel('Candidates')\n",
    "plt.ylabel('Number of Mentions')\n",
    "plt.title('Twitter and NYT Mentions by Candidate')\n",
    "plt.xticks(x, candidate)\n",
    "plt.legend()\n",
    "\n",
    "# Show plot\n",
    "plt.savefig('DataDist.png')"
   ]
  },
  {
   "cell_type": "markdown",
   "id": "4ed86825-ea70-4071-a61b-d33d32377e10",
   "metadata": {},
   "source": [
    "# Additional Feature Engineering"
   ]
  },
  {
   "cell_type": "markdown",
   "id": "089e0065-555e-423a-b885-1f1a201b4790",
   "metadata": {},
   "source": [
    "## Create Outcome Variable"
   ]
  },
  {
   "cell_type": "code",
   "execution_count": null,
   "id": "82621bac-f971-49d0-8414-9b9a4beef5c8",
   "metadata": {
    "tags": []
   },
   "outputs": [],
   "source": [
    "df_combined['SentimentOutcome'] = df_combined['candidatepoll']+\"_\"+df_combined['sentiment_category']"
   ]
  },
  {
   "cell_type": "code",
   "execution_count": null,
   "id": "db276d11-b4de-4d84-9ffa-691f2d31d622",
   "metadata": {
    "tags": []
   },
   "outputs": [],
   "source": [
    "import matplotlib.pyplot as plt\n",
    "category_counts = df_combined['SentimentOutcome'].value_counts()\n",
    "plt.bar(category_counts.index, category_counts.values)\n",
    "plt.xlabel('Candidate Sentiment Categories')\n",
    "plt.xticks(rotation=45)  # Rotate x-axis labels by 45 degrees\n",
    "plt.ylabel('Count')\n",
    "plt.title('Frequency of Each Possible Sentiment Outcome')\n",
    "plt.show()"
   ]
  },
  {
   "cell_type": "markdown",
   "id": "8cbaa582-21c3-4a70-b0bf-13b2d72c1c07",
   "metadata": {},
   "source": [
    "## Smallest category is Biden_negative. Check number. When using train/test/split with 90/5/5 ratio, we will have to balance categories to observationse each based on 90% of the smallest category."
   ]
  },
  {
   "cell_type": "code",
   "execution_count": null,
   "id": "26da0cb8-cac5-41a3-9bc6-9281e8cd4f53",
   "metadata": {
    "tags": []
   },
   "outputs": [],
   "source": [
    " df_combined[df_combined['candidatepoll'] == 'Biden']['SentimentOutcome'].value_counts()"
   ]
  },
  {
   "cell_type": "code",
   "execution_count": null,
   "id": "b75960b0-12b4-4fe3-8bef-ab345510ed2a",
   "metadata": {
    "tags": []
   },
   "outputs": [],
   "source": [
    " df_combined[df_combined['candidatepoll'] == 'Trump']['SentimentOutcome'].value_counts()"
   ]
  },
  {
   "cell_type": "markdown",
   "id": "43468903-ecb6-46f8-b9fc-98076ce4e1bc",
   "metadata": {},
   "source": [
    "## Mapping Location Data and Map EDA. NEED TO TROUBLESHOOT THIS STILL."
   ]
  },
  {
   "cell_type": "code",
   "execution_count": null,
   "id": "c4b032b1-8cbe-4c6a-9575-90c61c612c39",
   "metadata": {},
   "outputs": [],
   "source": [
    "# Read csv US City from S3 ---> PLANNING TO MOVE IT IN .py AND USE PREPROCESSING JOB FROM SAGEMAKER\n",
    "git_city_loc = \"https://raw.githubusercontent.com/HNStaggs/ADS508_GroupProject/main/uscities.csv\"\n",
    "df_city = pd.read_csv(git_city_loc)\n",
    "\n",
    "df_combined['clean_location'].head(5)"
   ]
  },
  {
   "cell_type": "code",
   "execution_count": null,
   "id": "d6a6a12d-f3ee-4e6c-9eb4-900447fbb259",
   "metadata": {},
   "outputs": [],
   "source": [
    "# PREFER TO RUN IT IN .py with SageMaker processing job\n",
    "# TRY IT WITH 100 RECORD ONLY\n",
    "\n",
    "\n",
    "# Create master location table\n",
    "master_location = df_city\n",
    "df_combined = df_combined.head(100)\n",
    "\n",
    "# Function to map city and state name to state ID\n",
    "def map_state_id(city):\n",
    "    for index, loc in master_location.iterrows():\n",
    "        if city.lower() == loc['city'].lower() or city.lower() == loc['state_name'].lower():\n",
    "            return loc['state_id']\n",
    "    return None\n",
    "\n",
    "# Apply mapping function to user location table\n",
    "df_combined['final_location'] = df_combined['clean_location'].apply(map_state_id)  # Use clean location data from primary cleaning step\n",
    "\n",
    "# Display the user location table with State ID column added"
   ]
  },
  {
   "cell_type": "code",
   "execution_count": null,
   "id": "19b83ffc-a653-46fb-893d-cf0be75bfafc",
   "metadata": {
    "tags": []
   },
   "outputs": [],
   "source": [
    "# Data Vis\n",
    "# # creat colored maps by state based on sentiment"
   ]
  },
  {
   "cell_type": "code",
   "execution_count": null,
   "id": "0c08574e-b16b-49ed-ae5b-ba8093d2b114",
   "metadata": {},
   "outputs": [],
   "source": [
    "# Determime sample size from each state"
   ]
  },
  {
   "cell_type": "code",
   "execution_count": null,
   "id": "6914a545-71c8-4aee-9660-0ce7ad36e25d",
   "metadata": {},
   "outputs": [],
   "source": [
    "# Determine portion of Trump/Biden for each state"
   ]
  },
  {
   "cell_type": "code",
   "execution_count": null,
   "id": "bdf5db15-18a4-4562-aef8-88759f6d55de",
   "metadata": {},
   "outputs": [],
   "source": []
  },
  {
   "cell_type": "markdown",
   "id": "a3ccec5d-a028-4d7c-b486-dc7edc52f6ad",
   "metadata": {},
   "source": [
    "# Data Partition"
   ]
  },
  {
   "cell_type": "markdown",
   "id": "fc9d9632-a090-45b8-835f-6e9e9523239c",
   "metadata": {},
   "source": [
    "### Assign input and outcome variables"
   ]
  },
  {
   "cell_type": "code",
   "execution_count": null,
   "id": "7a6ffd96-cee7-4aa1-88b9-f79ff82c4769",
   "metadata": {
    "tags": []
   },
   "outputs": [],
   "source": [
    "# Update to 'clean_text' for X after rerunning sentiment and location data\n",
    "X = df_combined[['comment_body']]  # Add location back in later\n",
    "y = df_combined['SentimentOutcome']"
   ]
  },
  {
   "cell_type": "markdown",
   "id": "0f6711be-27cf-48c1-bb04-65dda756fc61",
   "metadata": {},
   "source": [
    "### Create a 90/5/5 data split"
   ]
  },
  {
   "cell_type": "code",
   "execution_count": null,
   "id": "969a63d5-cf39-4d1c-b08b-ffcfbadbf373",
   "metadata": {
    "tags": []
   },
   "outputs": [],
   "source": [
    "from sklearn.model_selection import train_test_split\n",
    "\n",
    "# Split data into 90% train and 10% test\n",
    "X_train, X_test, y_train, y_test = train_test_split(X, y, test_size=0.1, random_state=1)\n",
    "\n",
    "# Split remaining data (90% train) into 90% train and 10% validation\n",
    "X_train, X_val, y_train, y_val = train_test_split(X_train, y_train, test_size=1/9, random_state=1)"
   ]
  },
  {
   "cell_type": "markdown",
   "id": "39da2621-7fce-410f-b131-2798a1c7e0c7",
   "metadata": {},
   "source": [
    "### Further undersample the training set so that each level of the outcome variable is equal"
   ]
  },
  {
   "cell_type": "code",
   "execution_count": null,
   "id": "84c1c77f-9124-4fe2-8524-396167ba48f1",
   "metadata": {
    "tags": []
   },
   "outputs": [],
   "source": [
    "#!pip install imblearn\n",
    "from imblearn.under_sampling import RandomUnderSampler\n",
    "\n",
    "# Undersample the training set to balance the six categorical outcome levels\n",
    "undersampler = RandomUnderSampler(sampling_strategy='all', random_state=1)\n",
    "X_train_resampled, y_train_resampled = undersampler.fit_resample(X_train, y_train)"
   ]
  },
  {
   "cell_type": "markdown",
   "id": "62afaf20-6937-46dd-8748-fb1fd9da27e1",
   "metadata": {},
   "source": [
    "## Verify split datasets size"
   ]
  },
  {
   "cell_type": "code",
   "execution_count": null,
   "id": "288f0ae6-b39a-446b-b2f7-44e4386bc6b7",
   "metadata": {
    "tags": []
   },
   "outputs": [],
   "source": [
    "X_train_resampled.info()"
   ]
  },
  {
   "cell_type": "code",
   "execution_count": null,
   "id": "816b5154-e57b-40d9-86cf-f4306ca60e00",
   "metadata": {
    "tags": []
   },
   "outputs": [],
   "source": [
    "X_test.info()"
   ]
  },
  {
   "cell_type": "code",
   "execution_count": null,
   "id": "6e19e81d-455a-404b-9cf2-b888db8a847a",
   "metadata": {
    "tags": []
   },
   "outputs": [],
   "source": [
    "X_val.info()"
   ]
  },
  {
   "cell_type": "code",
   "execution_count": null,
   "id": "b0d6be10-6202-4a24-a9f3-99a36fa48b3b",
   "metadata": {
    "tags": []
   },
   "outputs": [],
   "source": [
    "X_train_resampled.shape, X_test.shape, X_val.shape"
   ]
  },
  {
   "cell_type": "code",
   "execution_count": null,
   "id": "b3bd9f63-cf44-48c7-b4ea-38de43c52cc4",
   "metadata": {
    "tags": []
   },
   "outputs": [],
   "source": [
    "X_train_resampled.head()"
   ]
  },
  {
   "cell_type": "code",
   "execution_count": null,
   "id": "ec546bbf-599d-4d64-bdb4-ac1823fdc320",
   "metadata": {
    "tags": []
   },
   "outputs": [],
   "source": [
    "X_test.head()"
   ]
  },
  {
   "cell_type": "code",
   "execution_count": null,
   "id": "e9ba7754-ad48-4e25-a942-d189c6e29e71",
   "metadata": {
    "tags": []
   },
   "outputs": [],
   "source": [
    "X_val.head()"
   ]
  },
  {
   "cell_type": "markdown",
   "id": "89d948f1-46dc-49bb-aebc-0815fb9a0de4",
   "metadata": {},
   "source": [
    "## Verify balance of training set"
   ]
  },
  {
   "cell_type": "code",
   "execution_count": null,
   "id": "c30dc150-b36e-4f05-aa37-f608aadd1e38",
   "metadata": {
    "tags": []
   },
   "outputs": [],
   "source": [
    "y_train_resampled.value_counts()"
   ]
  },
  {
   "cell_type": "markdown",
   "id": "74953e5a-72fe-4574-9162-43840176bd6d",
   "metadata": {},
   "source": [
    "## Average length of comments. Limit word vectors to median length of 15."
   ]
  },
  {
   "cell_type": "code",
   "execution_count": null,
   "id": "cb3bda01-4fb0-4dd5-af07-f38ae678d7af",
   "metadata": {
    "tags": []
   },
   "outputs": [],
   "source": [
    "# Function to count string word length\n",
    "def count_word_length(text):\n",
    "    words = text.split()\n",
    "    return len(words)\n",
    "\n",
    "# Add column to DataFrame\n",
    "df_combined['word_length'] = df_combined['comment_body'].apply(lambda x: count_word_length(x))  # Update to clean_text"
   ]
  },
  {
   "cell_type": "code",
   "execution_count": null,
   "id": "8b161f93-9d09-4588-9f9f-7e9e43b4533d",
   "metadata": {
    "tags": []
   },
   "outputs": [],
   "source": [
    "import numpy as np\n",
    "median_word_length = np.median(df_combined['word_length'])\n",
    "\n",
    "# Plot histogram of word lengths\n",
    "plt.hist(df_combined['word_length'], bins=range(min(df_combined['word_length']), max(df_combined['word_length']) + 1), edgecolor='black')\n",
    "plt.axvline(median_word_length, color='red', linestyle='dashed', linewidth=1)  # Add vertical line at median\n",
    "plt.text(median_word_length, plt.ylim()[1] * 0.9, f'Median: {median_word_length:.2f}', color='red')  # Add label for median\n",
    "plt.xlabel('Word Length')\n",
    "plt.ylabel('Frequency')\n",
    "plt.title('Histogram of Word Lengths')\n",
    "plt.grid(True)\n",
    "plt.show()"
   ]
  },
  {
   "cell_type": "code",
   "execution_count": null,
   "id": "7d0e6a97-9067-4217-b9c1-fddcfd7cb39d",
   "metadata": {},
   "outputs": [],
   "source": []
  },
  {
   "cell_type": "markdown",
   "id": "923478e9-afa0-4267-bbd9-23eb49366603",
   "metadata": {},
   "source": [
    "# Text Entry Preprocessing and Data Transformation Pipeline: Will Need to Add Categorical One-Hot Encoding if we use Location Data"
   ]
  },
  {
   "cell_type": "code",
   "execution_count": null,
   "id": "ceecb0fe-e564-4f77-9d5f-69a3ba984adb",
   "metadata": {
    "tags": []
   },
   "outputs": [],
   "source": [
    "#!pip install gensim\n",
    "from sklearn.base import BaseEstimator, TransformerMixin\n",
    "from sklearn.pipeline import Pipeline\n",
    "from gensim.models import Word2Vec\n",
    "\n",
    "# Define custom transformer for Word2Vec embeddings\n",
    "class Word2VecTransformer(BaseEstimator, TransformerMixin):\n",
    "    def __init__(self, window=5, min_count=1, workers=4):\n",
    "        self.word2vec_model = Word2Vec(window=window, min_count=min_count, workers=workers)\n",
    "    \n",
    "    def fit(self, X, y=None):\n",
    "        # Train Word2Vec model\n",
    "        X_word_lists = [text.split()[:15] for text in X]  # Limit to first 15 words\n",
    "        self.word2vec_model.build_vocab(X_word_lists)\n",
    "        self.word2vec_model.train(X_word_lists, total_examples=len(X_word_lists), epochs=10)\n",
    "        return self\n",
    "    \n",
    "    def transform(self, X):\n",
    "        # Limit text to first 15 words and split into word lists\n",
    "        X_word_lists = [text.split()[:15] for text in X]\n",
    "        # Initialize a list to store word embeddings\n",
    "        embeddings = []\n",
    "        # Iterate over each word list\n",
    "        for word_list in X_word_lists:\n",
    "            # Initialize a list to store word embeddings for this word list\n",
    "            word_embeddings = []\n",
    "            # Iterate over each word in the word list\n",
    "            for word in word_list:\n",
    "                # Check if the word exists in the Word2Vec model's vocabulary\n",
    "                if word in self.word2vec_model.wv:\n",
    "                    # Retrieve the word embedding and append it to the list\n",
    "                    word_embeddings.append(self.word2vec_model.wv[word])\n",
    "                else:\n",
    "                    # If the word doesn't exist in the vocabulary, append zeros\n",
    "                    word_embeddings.append([0] * self.word2vec_model.vector_size)\n",
    "            # Append the word embeddings for this word list to the embeddings list\n",
    "            embeddings.append(word_embeddings)\n",
    "        return embeddings\n",
    "\n",
    "# Define preprocessing pipeline\n",
    "preprocessing_pipeline = Pipeline([\n",
    "    ('word2vec', Word2VecTransformer())\n",
    "])"
   ]
  },
  {
   "cell_type": "code",
   "execution_count": null,
   "id": "cdde8566-8f5a-45f5-867f-17afcd7ba631",
   "metadata": {
    "tags": []
   },
   "outputs": [],
   "source": [
    "# Fit and transform on the training set\n",
    "X_train_transformed = pd.DataFrame(preprocessing_pipeline.fit_transform(X_train_resampled['comment_body']))  # Update to clean_text"
   ]
  },
  {
   "cell_type": "code",
   "execution_count": null,
   "id": "849f2eee-618e-4a71-a6a0-3d32212b34e8",
   "metadata": {},
   "outputs": [],
   "source": [
    "X_test_transformed = pd.DataFrame(preprocessing_pipeline.transform(X_test['comment_body']))  # Update to clean_text"
   ]
  },
  {
   "cell_type": "code",
   "execution_count": null,
   "id": "c4e99b99-681f-4ce3-9d49-7d6528b3031e",
   "metadata": {},
   "outputs": [],
   "source": [
    "X_val_transformed = pd.DataFrame(preprocessing_pipeline.transform(X_val['comment_body']))  # Update to clean_text"
   ]
  },
  {
   "cell_type": "code",
   "execution_count": null,
   "id": "b384b6a6-7b31-4531-8816-fa2c5643cd56",
   "metadata": {},
   "outputs": [],
   "source": [
    "X_train_transformed.head()"
   ]
  },
  {
   "cell_type": "code",
   "execution_count": null,
   "id": "cb93fe1c-c7fb-49f3-8e24-aa8086840990",
   "metadata": {},
   "outputs": [],
   "source": [
    "X_test_transformed.head()"
   ]
  },
  {
   "cell_type": "code",
   "execution_count": null,
   "id": "765403d8-0d58-4ed0-88bb-977eb2d81016",
   "metadata": {},
   "outputs": [],
   "source": [
    "X_val_transformed.head()"
   ]
  },
  {
   "cell_type": "markdown",
   "id": "4297b0bb-ee29-4969-b693-a7b00b0ba6e1",
   "metadata": {},
   "source": [
    "# Store Data For Modeling in Bucket"
   ]
  },
  {
   "cell_type": "code",
   "execution_count": null,
   "id": "b5360e63-13f1-45af-b837-a0316091f672",
   "metadata": {},
   "outputs": [],
   "source": [
    "#import boto3\n",
    "\n",
    "# Specify the S3 bucket name\n",
    "bucket_name = '508group_modeling'\n",
    "    \n",
    "# List of DataFrame objects\n",
    "dataframes = [X_train_transformed, y_train, X_test_transformed, y_test, X_val_transformed, y_val]\n",
    "\n",
    "# List of corresponding file names\n",
    "file_names = ['X_train_transformed.csv', 'y_train.csv', 'X_test_transformed.csv', 'y_test.csv', 'X_val_transformed.csv', 'y_val.csv']\n",
    "\n",
    "# Create an S3 client\n",
    "s3 = boto3.client('s3')\n",
    "\n",
    "# Upload each file to S3\n",
    "for df, file_name in zip(dataframes, file_names):\n",
    "    # Write DataFrame to a CSV file\n",
    "    df.to_csv(file_name, index=False)\n",
    "    \n",
    "    # Upload CSV file to S3\n",
    "    with open(file_name, \"rb\") as f:\n",
    "        s3.upload_fileobj(f, bucket_name, file_name)\n",
    "\n",
    "    print(f\"DataFrame saved as {file_name} in S3 bucket: {bucket_name}\")"
   ]
  },
  {
   "cell_type": "markdown",
   "id": "c1654415-d5c5-4a49-b34f-e000fabe7853",
   "metadata": {},
   "source": [
    "# Import Data for Modeling"
   ]
  },
  {
   "cell_type": "code",
   "execution_count": null,
   "id": "898be032-f744-48e5-8e31-5b441a7e029d",
   "metadata": {},
   "outputs": [],
   "source": [
    "import boto3\n",
    "import pandas as pd\n",
    "\n",
    "# Specify the S3 bucket name\n",
    "bucket_name = '508group_modeling'\n",
    "\n",
    "# List of file names in S3\n",
    "file_names = ['X_train_transformed.csv', 'y_train.csv', 'X_test_transformed.csv', \n",
    "              'y_test.csv', 'X_val_transformed.csv', 'y_val.csv']\n",
    "\n",
    "# Create an S3 client\n",
    "s3 = boto3.client('s3')\n",
    "\n",
    "# Initialize variables to store DataFrames\n",
    "X_train = None\n",
    "y_train = None\n",
    "X_test = None\n",
    "y_test = None\n",
    "X_val = None\n",
    "y_val = None\n",
    "\n",
    "# Iterate over each file name\n",
    "for i, file_name in enumerate(file_names):\n",
    "    # Generate the URL for the file in S3\n",
    "    file_url = f's3://{bucket_name}/{file_name}'\n",
    "    \n",
    "    # Read the CSV file directly into a DataFrame\n",
    "    df = pd.read_csv(file_url)\n",
    "    \n",
    "    # Assign the DataFrame to the corresponding variable based on index\n",
    "    if i == 0:\n",
    "        X_train = df\n",
    "    elif i == 1:\n",
    "        y_train = df\n",
    "    elif i == 2:\n",
    "        X_test = df\n",
    "    elif i == 3:\n",
    "        y_test = df\n",
    "    elif i == 4:\n",
    "        X_val = df\n",
    "    elif i == 5:\n",
    "        y_val = df"
   ]
  },
  {
   "cell_type": "markdown",
   "id": "2cd14805-c468-4035-a0c5-6e208e5fedfe",
   "metadata": {},
   "source": [
    "## Verify contents of DFs"
   ]
  },
  {
   "cell_type": "code",
   "execution_count": null,
   "id": "056a790d-1d5b-4ff7-bb80-3210e8e0b198",
   "metadata": {},
   "outputs": [],
   "source": [
    "X_train.head()"
   ]
  },
  {
   "cell_type": "code",
   "execution_count": null,
   "id": "2fc31ed9-2d3f-4f43-b1af-d6fc834b57ec",
   "metadata": {},
   "outputs": [],
   "source": [
    "y_train.head()"
   ]
  },
  {
   "cell_type": "code",
   "execution_count": null,
   "id": "7384523e-05c2-44e8-a747-7a060473d2ea",
   "metadata": {},
   "outputs": [],
   "source": [
    "X_test.head()"
   ]
  },
  {
   "cell_type": "code",
   "execution_count": null,
   "id": "690a4372-1f03-4979-ae86-e25332b2a536",
   "metadata": {},
   "outputs": [],
   "source": [
    "y_test.head()"
   ]
  },
  {
   "cell_type": "code",
   "execution_count": null,
   "id": "0ed8eb64-e6da-467a-9916-c14bfb70d234",
   "metadata": {},
   "outputs": [],
   "source": [
    "X_val.head()"
   ]
  },
  {
   "cell_type": "code",
   "execution_count": null,
   "id": "bc77ceee-fff4-4a2b-80a2-1f8152742ef9",
   "metadata": {},
   "outputs": [],
   "source": [
    "y_val.head()"
   ]
  },
  {
   "cell_type": "markdown",
   "id": "b601c5e3",
   "metadata": {},
   "source": [
    "## Run Data Bias Analysis"
   ]
  },
  {
   "cell_type": "code",
   "execution_count": null,
   "id": "67d4c37d",
   "metadata": {},
   "outputs": [],
   "source": [
    "# Create folder for specific timestamp\n",
    "import time\n",
    "\n",
    "timestamp = int(time.time())\n",
    "\n",
    "bias_data_s3_uri = sess.upload_data(bucket=bucket, key_prefix=\"ADS508_project/bias-detection-{}\".format(timestamp), path=path)\n",
    "bias_data_s3_uri"
   ]
  },
  {
   "cell_type": "code",
   "execution_count": null,
   "id": "9b272d33",
   "metadata": {},
   "outputs": [],
   "source": [
    "!aws s3 ls $bias_data_s3_uri"
   ]
  },
  {
   "cell_type": "code",
   "execution_count": null,
   "id": "52a14b90-8b53-44ff-af78-361467ec987b",
   "metadata": {},
   "outputs": [],
   "source": [
    "balanced_bias_data_s3_uri = sess.upload_data(\n",
    "    bucket=bucket, key_prefix=\"ADS508_project/bias-detection-{}\".format(timestamp), path=path_balance\n",
    ")\n",
    "balanced_bias_data_s3_uri"
   ]
  },
  {
   "cell_type": "code",
   "execution_count": null,
   "id": "fdea3079-9390-4130-964a-7b5e788f9523",
   "metadata": {},
   "outputs": [],
   "source": [
    "!aws s3 ls $balanced_bias_data_s3_uri"
   ]
  },
  {
   "cell_type": "code",
   "execution_count": null,
   "id": "c6837356-c41b-4559-834c-68b3c576e0c8",
   "metadata": {},
   "outputs": [],
   "source": [
    "balanced_bias_data_jsonlines_s3_uri = sess.upload_data(\n",
    "    bucket=bucket, key_prefix=\"ADS508_project/bias-detection-{}\".format(timestamp), path=path_jsonlines\n",
    ")\n",
    "balanced_bias_data_jsonlines_s3_uri"
   ]
  },
  {
   "cell_type": "code",
   "execution_count": null,
   "id": "3b28374d-24a2-49bf-8a5b-6899db532035",
   "metadata": {},
   "outputs": [],
   "source": [
    "!aws s3 ls $balanced_bias_data_jsonlines_s3_uri"
   ]
  },
  {
   "cell_type": "code",
   "execution_count": null,
   "id": "e829b584",
   "metadata": {},
   "outputs": [],
   "source": [
    "#!pip install --force-reinstall -q smclarify\n",
    "\n",
    "from smclarify.bias import report\n",
    "from typing import Dict\n",
    "from collections import defaultdict\n",
    "import pandas as pd\n",
    "import seaborn as sns\n",
    "import matplotlib.pyplot as plt"
   ]
  },
  {
   "cell_type": "code",
   "execution_count": null,
   "id": "11c9cf76",
   "metadata": {},
   "outputs": [],
   "source": [
    "!aws s3 cp $bias_data_s3_uri ./data-clarify/"
   ]
  },
  {
   "cell_type": "code",
   "execution_count": null,
   "id": "eee23cae",
   "metadata": {},
   "outputs": [],
   "source": [
    "!aws s3 cp $balanced_bias_data_s3_uri ./data-clarify/"
   ]
  },
  {
   "cell_type": "markdown",
   "id": "94295cea",
   "metadata": {},
   "source": [
    "### Calculate Bias Metrics for all Data\n",
    "#### might not needed from ===>"
   ]
  },
  {
   "cell_type": "markdown",
   "id": "533ede4d",
   "metadata": {},
   "source": [
    "facet_column = report.FacetColumn(name=\"candidatepoll\")\n",
    "\n",
    "label_column = report.LabelColumn(\n",
    "    name=\"sentiment_category\", \n",
    "    series=df_combined[\"sentiment_category\"],\n",
    "    positive_label_values=[5]\n",
    ")"
   ]
  },
  {
   "cell_type": "code",
   "execution_count": null,
   "id": "36107b89",
   "metadata": {},
   "outputs": [],
   "source": [
    "report.bias_report(\n",
    "    df=df_combined, \n",
    "    facet_column=facet_column, \n",
    "    label_column=label_column, \n",
    "    stage_type=report.StageType.PRE_TRAINING, \n",
    "    metrics=[\"CI\", \"DPL\", \"KL\", \"JS\", \"LP\", \"TVD\", \"KS\"]\n",
    ")"
   ]
  },
  {
   "cell_type": "markdown",
   "id": "4ff466df",
   "metadata": {},
   "source": [
    "### Calculate Bias Metrics for Balanced Data"
   ]
  },
  {
   "cell_type": "code",
   "execution_count": null,
   "id": "d0f57ae7",
   "metadata": {},
   "outputs": [],
   "source": [
    "from smclarify.bias import report\n",
    "\n",
    "facet_column = report.FacetColumn(name=\"candidatepoll\")\n",
    "\n",
    "label_column = report.LabelColumn(\n",
    "    name=\"sentiment_category\", \n",
    "    series=df_balanced[\"sentiment_category\"], \n",
    "    positive_label_values=[5]\n",
    ")"
   ]
  },
  {
   "cell_type": "code",
   "execution_count": null,
   "id": "56e8de4e",
   "metadata": {},
   "outputs": [],
   "source": [
    "report.bias_report(\n",
    "    df=df_balanced, \n",
    "    facet_column=facet_column, \n",
    "    label_column=label_column, \n",
    "    stage_type=report.StageType.PRE_TRAINING, \n",
    "    metrics=[\"CI\", \"DPL\", \"KL\", \"JS\", \"LP\", \"TVD\", \"KS\"]\n",
    ")"
   ]
  },
  {
   "cell_type": "markdown",
   "id": "12bfdb39",
   "metadata": {},
   "source": [
    "#### <=== TO MIGHT NOT NEEDED"
   ]
  },
  {
   "cell_type": "markdown",
   "id": "8dd5b807",
   "metadata": {},
   "source": [
    "### Run Data Bias Analysis (Pre-training)"
   ]
  },
  {
   "cell_type": "code",
   "execution_count": null,
   "id": "577750e2",
   "metadata": {},
   "outputs": [],
   "source": [
    "from sagemaker import clarify\n",
    "\n",
    "clarify_processor = clarify.SageMakerClarifyProcessor(\n",
    "    role=role, \n",
    "    instance_count=1, \n",
    "    instance_type=\"ml.c5.xlarge\", \n",
    "    sagemaker_session=sess\n",
    ")"
   ]
  },
  {
   "cell_type": "markdown",
   "id": "5a3eabcf",
   "metadata": {},
   "source": [
    "#### Pre-Training Bias"
   ]
  },
  {
   "cell_type": "code",
   "execution_count": null,
   "id": "b5defe81",
   "metadata": {},
   "outputs": [],
   "source": [
    "bias_report_output_path = \"s3://{}/ADS508_project/clarify\".format(bucket)\n",
    "\n",
    "bias_data_config = clarify.DataConfig(\n",
    "    s3_data_input_path=bias_data_s3_uri,\n",
    "    s3_output_path=bias_report_output_path,\n",
    "    label=\"sentiment_category\",\n",
    "    headers=df_combined.columns.to_list(),\n",
    "    dataset_type=\"text/csv\",\n",
    ")\n"
   ]
  },
  {
   "cell_type": "code",
   "execution_count": null,
   "id": "b0feb8da",
   "metadata": {},
   "outputs": [],
   "source": [
    "# Trump\n",
    "bias_config = clarify.BiasConfig(\n",
    "    label_values_or_threshold=[5],\n",
    "    facet_name=\"candidatepoll\",\n",
    "    facet_values_or_threshold=[\"Trump\"],\n",
    ")\n",
    "\n",
    "clarify_processor.run_pre_training_bias(\n",
    "    data_config=bias_data_config, \n",
    "    data_bias_config=bias_config, \n",
    "    methods=[\"CI\", \"DPL\", \"KL\", \"JS\", \"LP\", \"TVD\", \"KS\"],\n",
    "    wait=False, \n",
    "    logs=False\n",
    ")\n",
    "\n",
    "run_pre_training_bias_processing_job_name = clarify_processor.latest_job.job_name\n",
    "run_pre_training_bias_processing_job_name\n",
    "\n"
   ]
  },
  {
   "cell_type": "code",
   "execution_count": null,
   "id": "ccc967f6",
   "metadata": {},
   "outputs": [],
   "source": [
    "# Biden\n",
    "bias_config = clarify.BiasConfig(\n",
    "    label_values_or_threshold=[5],\n",
    "    facet_name=\"candidatepoll\",\n",
    "    facet_values_or_threshold=[\"Biden\"],\n",
    ")\n",
    "\n",
    "clarify_processor.run_pre_training_bias(\n",
    "    data_config=bias_data_config, \n",
    "    data_bias_config=bias_config, \n",
    "    methods=[\"CI\", \"DPL\", \"KL\", \"JS\", \"LP\", \"TVD\", \"KS\"],\n",
    "    wait=False, \n",
    "    logs=False\n",
    ")\n",
    "\n",
    "run_pre_training_bias_processing_job_name = clarify_processor.latest_job.job_name\n",
    "run_pre_training_bias_processing_job_name\n"
   ]
  },
  {
   "cell_type": "markdown",
   "id": "4f9f6ec4",
   "metadata": {},
   "source": [
    "#### Download report"
   ]
  },
  {
   "cell_type": "code",
   "execution_count": null,
   "id": "a09c6782",
   "metadata": {},
   "outputs": [],
   "source": [
    "from IPython.core.display import display, HTML\n",
    "\n",
    "display(\n",
    "    HTML(\n",
    "        '<b>Review <a target=\"blank\" href=\"https://console.aws.amazon.com/sagemaker/home?region={}#/processing-jobs/{}\">Processing Job</a></b>'.format(\n",
    "            region, run_pre_training_bias_processing_job_name\n",
    "        )\n",
    "    )\n",
    ")\n",
    "from IPython.core.display import display, HTML\n",
    "\n",
    "display(\n",
    "    HTML(\n",
    "        '<b>Review <a target=\"blank\" href=\"https://console.aws.amazon.com/cloudwatch/home?region={}#logStream:group=/aws/sagemaker/ProcessingJobs;prefix={};streamFilter=typeLogStreamPrefix\">CloudWatch Logs</a> After About 5 Minutes</b>'.format(\n",
    "            region, run_pre_training_bias_processing_job_name\n",
    "        )\n",
    "    )\n",
    ")\n",
    "\n",
    "from IPython.core.display import display, HTML\n",
    "\n",
    "display(\n",
    "    HTML(\n",
    "        '<b>Review <a target=\"blank\" href=\"https://s3.console.aws.amazon.com/s3/buckets/{}/{}/?region={}&tab=overview\">S3 Output Data</a> After The Processing Job Has Completed</b>'.format(\n",
    "            bucket, run_pre_training_bias_processing_job_name, region\n",
    "        )\n",
    "    )\n",
    ")"
   ]
  },
  {
   "cell_type": "code",
   "execution_count": null,
   "id": "1c74ae09",
   "metadata": {},
   "outputs": [],
   "source": [
    "running_processor = sagemaker.processing.ProcessingJob.from_processing_name(\n",
    "    processing_job_name=run_pre_training_bias_processing_job_name, sagemaker_session=sess\n",
    ")\n",
    "\n",
    "processing_job_description = running_processor.describe()\n",
    "\n",
    "print(processing_job_description)"
   ]
  },
  {
   "cell_type": "code",
   "execution_count": null,
   "id": "7aee8468",
   "metadata": {},
   "outputs": [],
   "source": [
    "!aws s3 ls $bias_report_output_path/"
   ]
  },
  {
   "cell_type": "code",
   "execution_count": null,
   "id": "83a98ee3",
   "metadata": {},
   "outputs": [],
   "source": [
    "!aws s3 cp --recursive $bias_report_output_path ./generated_bias_report/"
   ]
  },
  {
   "cell_type": "code",
   "execution_count": null,
   "id": "9329ab05",
   "metadata": {},
   "outputs": [],
   "source": [
    "from IPython.core.display import display, HTML\n",
    "\n",
    "display(HTML('<b>Review <a target=\"blank\" href=\"./generated_bias_report/report.html\">Bias Report</a></b>'))"
   ]
  },
  {
   "cell_type": "code",
   "execution_count": null,
   "id": "f00daf0a",
   "metadata": {},
   "outputs": [],
   "source": []
  },
  {
   "cell_type": "code",
   "execution_count": null,
   "id": "d2f7808b",
   "metadata": {
    "tags": []
   },
   "outputs": [],
   "source": [
    "path = \"./data-clarify/amazon_reviews_us_giftcards_software_videogames.csv\"\n",
    "df.to_csv(path, index=False, header=True)"
   ]
  },
  {
   "cell_type": "code",
   "execution_count": null,
   "id": "b9ba05b3-7582-40a0-8ab1-75739442b010",
   "metadata": {
    "tags": []
   },
   "outputs": [],
   "source": [
    "_testing"
   ]
  }
 ],
 "metadata": {
  "availableInstances": [
   {
    "_defaultOrder": 0,
    "_isFastLaunch": true,
    "category": "General purpose",
    "gpuNum": 0,
    "hideHardwareSpecs": false,
    "memoryGiB": 4,
    "name": "ml.t3.medium",
    "vcpuNum": 2
   },
   {
    "_defaultOrder": 1,
    "_isFastLaunch": false,
    "category": "General purpose",
    "gpuNum": 0,
    "hideHardwareSpecs": false,
    "memoryGiB": 8,
    "name": "ml.t3.large",
    "vcpuNum": 2
   },
   {
    "_defaultOrder": 2,
    "_isFastLaunch": false,
    "category": "General purpose",
    "gpuNum": 0,
    "hideHardwareSpecs": false,
    "memoryGiB": 16,
    "name": "ml.t3.xlarge",
    "vcpuNum": 4
   },
   {
    "_defaultOrder": 3,
    "_isFastLaunch": false,
    "category": "General purpose",
    "gpuNum": 0,
    "hideHardwareSpecs": false,
    "memoryGiB": 32,
    "name": "ml.t3.2xlarge",
    "vcpuNum": 8
   },
   {
    "_defaultOrder": 4,
    "_isFastLaunch": true,
    "category": "General purpose",
    "gpuNum": 0,
    "hideHardwareSpecs": false,
    "memoryGiB": 8,
    "name": "ml.m5.large",
    "vcpuNum": 2
   },
   {
    "_defaultOrder": 5,
    "_isFastLaunch": false,
    "category": "General purpose",
    "gpuNum": 0,
    "hideHardwareSpecs": false,
    "memoryGiB": 16,
    "name": "ml.m5.xlarge",
    "vcpuNum": 4
   },
   {
    "_defaultOrder": 6,
    "_isFastLaunch": false,
    "category": "General purpose",
    "gpuNum": 0,
    "hideHardwareSpecs": false,
    "memoryGiB": 32,
    "name": "ml.m5.2xlarge",
    "vcpuNum": 8
   },
   {
    "_defaultOrder": 7,
    "_isFastLaunch": false,
    "category": "General purpose",
    "gpuNum": 0,
    "hideHardwareSpecs": false,
    "memoryGiB": 64,
    "name": "ml.m5.4xlarge",
    "vcpuNum": 16
   },
   {
    "_defaultOrder": 8,
    "_isFastLaunch": false,
    "category": "General purpose",
    "gpuNum": 0,
    "hideHardwareSpecs": false,
    "memoryGiB": 128,
    "name": "ml.m5.8xlarge",
    "vcpuNum": 32
   },
   {
    "_defaultOrder": 9,
    "_isFastLaunch": false,
    "category": "General purpose",
    "gpuNum": 0,
    "hideHardwareSpecs": false,
    "memoryGiB": 192,
    "name": "ml.m5.12xlarge",
    "vcpuNum": 48
   },
   {
    "_defaultOrder": 10,
    "_isFastLaunch": false,
    "category": "General purpose",
    "gpuNum": 0,
    "hideHardwareSpecs": false,
    "memoryGiB": 256,
    "name": "ml.m5.16xlarge",
    "vcpuNum": 64
   },
   {
    "_defaultOrder": 11,
    "_isFastLaunch": false,
    "category": "General purpose",
    "gpuNum": 0,
    "hideHardwareSpecs": false,
    "memoryGiB": 384,
    "name": "ml.m5.24xlarge",
    "vcpuNum": 96
   },
   {
    "_defaultOrder": 12,
    "_isFastLaunch": false,
    "category": "General purpose",
    "gpuNum": 0,
    "hideHardwareSpecs": false,
    "memoryGiB": 8,
    "name": "ml.m5d.large",
    "vcpuNum": 2
   },
   {
    "_defaultOrder": 13,
    "_isFastLaunch": false,
    "category": "General purpose",
    "gpuNum": 0,
    "hideHardwareSpecs": false,
    "memoryGiB": 16,
    "name": "ml.m5d.xlarge",
    "vcpuNum": 4
   },
   {
    "_defaultOrder": 14,
    "_isFastLaunch": false,
    "category": "General purpose",
    "gpuNum": 0,
    "hideHardwareSpecs": false,
    "memoryGiB": 32,
    "name": "ml.m5d.2xlarge",
    "vcpuNum": 8
   },
   {
    "_defaultOrder": 15,
    "_isFastLaunch": false,
    "category": "General purpose",
    "gpuNum": 0,
    "hideHardwareSpecs": false,
    "memoryGiB": 64,
    "name": "ml.m5d.4xlarge",
    "vcpuNum": 16
   },
   {
    "_defaultOrder": 16,
    "_isFastLaunch": false,
    "category": "General purpose",
    "gpuNum": 0,
    "hideHardwareSpecs": false,
    "memoryGiB": 128,
    "name": "ml.m5d.8xlarge",
    "vcpuNum": 32
   },
   {
    "_defaultOrder": 17,
    "_isFastLaunch": false,
    "category": "General purpose",
    "gpuNum": 0,
    "hideHardwareSpecs": false,
    "memoryGiB": 192,
    "name": "ml.m5d.12xlarge",
    "vcpuNum": 48
   },
   {
    "_defaultOrder": 18,
    "_isFastLaunch": false,
    "category": "General purpose",
    "gpuNum": 0,
    "hideHardwareSpecs": false,
    "memoryGiB": 256,
    "name": "ml.m5d.16xlarge",
    "vcpuNum": 64
   },
   {
    "_defaultOrder": 19,
    "_isFastLaunch": false,
    "category": "General purpose",
    "gpuNum": 0,
    "hideHardwareSpecs": false,
    "memoryGiB": 384,
    "name": "ml.m5d.24xlarge",
    "vcpuNum": 96
   },
   {
    "_defaultOrder": 20,
    "_isFastLaunch": false,
    "category": "General purpose",
    "gpuNum": 0,
    "hideHardwareSpecs": true,
    "memoryGiB": 0,
    "name": "ml.geospatial.interactive",
    "supportedImageNames": [
     "sagemaker-geospatial-v1-0"
    ],
    "vcpuNum": 0
   },
   {
    "_defaultOrder": 21,
    "_isFastLaunch": true,
    "category": "Compute optimized",
    "gpuNum": 0,
    "hideHardwareSpecs": false,
    "memoryGiB": 4,
    "name": "ml.c5.large",
    "vcpuNum": 2
   },
   {
    "_defaultOrder": 22,
    "_isFastLaunch": false,
    "category": "Compute optimized",
    "gpuNum": 0,
    "hideHardwareSpecs": false,
    "memoryGiB": 8,
    "name": "ml.c5.xlarge",
    "vcpuNum": 4
   },
   {
    "_defaultOrder": 23,
    "_isFastLaunch": false,
    "category": "Compute optimized",
    "gpuNum": 0,
    "hideHardwareSpecs": false,
    "memoryGiB": 16,
    "name": "ml.c5.2xlarge",
    "vcpuNum": 8
   },
   {
    "_defaultOrder": 24,
    "_isFastLaunch": false,
    "category": "Compute optimized",
    "gpuNum": 0,
    "hideHardwareSpecs": false,
    "memoryGiB": 32,
    "name": "ml.c5.4xlarge",
    "vcpuNum": 16
   },
   {
    "_defaultOrder": 25,
    "_isFastLaunch": false,
    "category": "Compute optimized",
    "gpuNum": 0,
    "hideHardwareSpecs": false,
    "memoryGiB": 72,
    "name": "ml.c5.9xlarge",
    "vcpuNum": 36
   },
   {
    "_defaultOrder": 26,
    "_isFastLaunch": false,
    "category": "Compute optimized",
    "gpuNum": 0,
    "hideHardwareSpecs": false,
    "memoryGiB": 96,
    "name": "ml.c5.12xlarge",
    "vcpuNum": 48
   },
   {
    "_defaultOrder": 27,
    "_isFastLaunch": false,
    "category": "Compute optimized",
    "gpuNum": 0,
    "hideHardwareSpecs": false,
    "memoryGiB": 144,
    "name": "ml.c5.18xlarge",
    "vcpuNum": 72
   },
   {
    "_defaultOrder": 28,
    "_isFastLaunch": false,
    "category": "Compute optimized",
    "gpuNum": 0,
    "hideHardwareSpecs": false,
    "memoryGiB": 192,
    "name": "ml.c5.24xlarge",
    "vcpuNum": 96
   },
   {
    "_defaultOrder": 29,
    "_isFastLaunch": true,
    "category": "Accelerated computing",
    "gpuNum": 1,
    "hideHardwareSpecs": false,
    "memoryGiB": 16,
    "name": "ml.g4dn.xlarge",
    "vcpuNum": 4
   },
   {
    "_defaultOrder": 30,
    "_isFastLaunch": false,
    "category": "Accelerated computing",
    "gpuNum": 1,
    "hideHardwareSpecs": false,
    "memoryGiB": 32,
    "name": "ml.g4dn.2xlarge",
    "vcpuNum": 8
   },
   {
    "_defaultOrder": 31,
    "_isFastLaunch": false,
    "category": "Accelerated computing",
    "gpuNum": 1,
    "hideHardwareSpecs": false,
    "memoryGiB": 64,
    "name": "ml.g4dn.4xlarge",
    "vcpuNum": 16
   },
   {
    "_defaultOrder": 32,
    "_isFastLaunch": false,
    "category": "Accelerated computing",
    "gpuNum": 1,
    "hideHardwareSpecs": false,
    "memoryGiB": 128,
    "name": "ml.g4dn.8xlarge",
    "vcpuNum": 32
   },
   {
    "_defaultOrder": 33,
    "_isFastLaunch": false,
    "category": "Accelerated computing",
    "gpuNum": 4,
    "hideHardwareSpecs": false,
    "memoryGiB": 192,
    "name": "ml.g4dn.12xlarge",
    "vcpuNum": 48
   },
   {
    "_defaultOrder": 34,
    "_isFastLaunch": false,
    "category": "Accelerated computing",
    "gpuNum": 1,
    "hideHardwareSpecs": false,
    "memoryGiB": 256,
    "name": "ml.g4dn.16xlarge",
    "vcpuNum": 64
   },
   {
    "_defaultOrder": 35,
    "_isFastLaunch": false,
    "category": "Accelerated computing",
    "gpuNum": 1,
    "hideHardwareSpecs": false,
    "memoryGiB": 61,
    "name": "ml.p3.2xlarge",
    "vcpuNum": 8
   },
   {
    "_defaultOrder": 36,
    "_isFastLaunch": false,
    "category": "Accelerated computing",
    "gpuNum": 4,
    "hideHardwareSpecs": false,
    "memoryGiB": 244,
    "name": "ml.p3.8xlarge",
    "vcpuNum": 32
   },
   {
    "_defaultOrder": 37,
    "_isFastLaunch": false,
    "category": "Accelerated computing",
    "gpuNum": 8,
    "hideHardwareSpecs": false,
    "memoryGiB": 488,
    "name": "ml.p3.16xlarge",
    "vcpuNum": 64
   },
   {
    "_defaultOrder": 38,
    "_isFastLaunch": false,
    "category": "Accelerated computing",
    "gpuNum": 8,
    "hideHardwareSpecs": false,
    "memoryGiB": 768,
    "name": "ml.p3dn.24xlarge",
    "vcpuNum": 96
   },
   {
    "_defaultOrder": 39,
    "_isFastLaunch": false,
    "category": "Memory Optimized",
    "gpuNum": 0,
    "hideHardwareSpecs": false,
    "memoryGiB": 16,
    "name": "ml.r5.large",
    "vcpuNum": 2
   },
   {
    "_defaultOrder": 40,
    "_isFastLaunch": false,
    "category": "Memory Optimized",
    "gpuNum": 0,
    "hideHardwareSpecs": false,
    "memoryGiB": 32,
    "name": "ml.r5.xlarge",
    "vcpuNum": 4
   },
   {
    "_defaultOrder": 41,
    "_isFastLaunch": false,
    "category": "Memory Optimized",
    "gpuNum": 0,
    "hideHardwareSpecs": false,
    "memoryGiB": 64,
    "name": "ml.r5.2xlarge",
    "vcpuNum": 8
   },
   {
    "_defaultOrder": 42,
    "_isFastLaunch": false,
    "category": "Memory Optimized",
    "gpuNum": 0,
    "hideHardwareSpecs": false,
    "memoryGiB": 128,
    "name": "ml.r5.4xlarge",
    "vcpuNum": 16
   },
   {
    "_defaultOrder": 43,
    "_isFastLaunch": false,
    "category": "Memory Optimized",
    "gpuNum": 0,
    "hideHardwareSpecs": false,
    "memoryGiB": 256,
    "name": "ml.r5.8xlarge",
    "vcpuNum": 32
   },
   {
    "_defaultOrder": 44,
    "_isFastLaunch": false,
    "category": "Memory Optimized",
    "gpuNum": 0,
    "hideHardwareSpecs": false,
    "memoryGiB": 384,
    "name": "ml.r5.12xlarge",
    "vcpuNum": 48
   },
   {
    "_defaultOrder": 45,
    "_isFastLaunch": false,
    "category": "Memory Optimized",
    "gpuNum": 0,
    "hideHardwareSpecs": false,
    "memoryGiB": 512,
    "name": "ml.r5.16xlarge",
    "vcpuNum": 64
   },
   {
    "_defaultOrder": 46,
    "_isFastLaunch": false,
    "category": "Memory Optimized",
    "gpuNum": 0,
    "hideHardwareSpecs": false,
    "memoryGiB": 768,
    "name": "ml.r5.24xlarge",
    "vcpuNum": 96
   },
   {
    "_defaultOrder": 47,
    "_isFastLaunch": false,
    "category": "Accelerated computing",
    "gpuNum": 1,
    "hideHardwareSpecs": false,
    "memoryGiB": 16,
    "name": "ml.g5.xlarge",
    "vcpuNum": 4
   },
   {
    "_defaultOrder": 48,
    "_isFastLaunch": false,
    "category": "Accelerated computing",
    "gpuNum": 1,
    "hideHardwareSpecs": false,
    "memoryGiB": 32,
    "name": "ml.g5.2xlarge",
    "vcpuNum": 8
   },
   {
    "_defaultOrder": 49,
    "_isFastLaunch": false,
    "category": "Accelerated computing",
    "gpuNum": 1,
    "hideHardwareSpecs": false,
    "memoryGiB": 64,
    "name": "ml.g5.4xlarge",
    "vcpuNum": 16
   },
   {
    "_defaultOrder": 50,
    "_isFastLaunch": false,
    "category": "Accelerated computing",
    "gpuNum": 1,
    "hideHardwareSpecs": false,
    "memoryGiB": 128,
    "name": "ml.g5.8xlarge",
    "vcpuNum": 32
   },
   {
    "_defaultOrder": 51,
    "_isFastLaunch": false,
    "category": "Accelerated computing",
    "gpuNum": 1,
    "hideHardwareSpecs": false,
    "memoryGiB": 256,
    "name": "ml.g5.16xlarge",
    "vcpuNum": 64
   },
   {
    "_defaultOrder": 52,
    "_isFastLaunch": false,
    "category": "Accelerated computing",
    "gpuNum": 4,
    "hideHardwareSpecs": false,
    "memoryGiB": 192,
    "name": "ml.g5.12xlarge",
    "vcpuNum": 48
   },
   {
    "_defaultOrder": 53,
    "_isFastLaunch": false,
    "category": "Accelerated computing",
    "gpuNum": 4,
    "hideHardwareSpecs": false,
    "memoryGiB": 384,
    "name": "ml.g5.24xlarge",
    "vcpuNum": 96
   },
   {
    "_defaultOrder": 54,
    "_isFastLaunch": false,
    "category": "Accelerated computing",
    "gpuNum": 8,
    "hideHardwareSpecs": false,
    "memoryGiB": 768,
    "name": "ml.g5.48xlarge",
    "vcpuNum": 192
   },
   {
    "_defaultOrder": 55,
    "_isFastLaunch": false,
    "category": "Accelerated computing",
    "gpuNum": 8,
    "hideHardwareSpecs": false,
    "memoryGiB": 1152,
    "name": "ml.p4d.24xlarge",
    "vcpuNum": 96
   },
   {
    "_defaultOrder": 56,
    "_isFastLaunch": false,
    "category": "Accelerated computing",
    "gpuNum": 8,
    "hideHardwareSpecs": false,
    "memoryGiB": 1152,
    "name": "ml.p4de.24xlarge",
    "vcpuNum": 96
   },
   {
    "_defaultOrder": 57,
    "_isFastLaunch": false,
    "category": "Accelerated computing",
    "gpuNum": 0,
    "hideHardwareSpecs": false,
    "memoryGiB": 32,
    "name": "ml.trn1.2xlarge",
    "vcpuNum": 8
   },
   {
    "_defaultOrder": 58,
    "_isFastLaunch": false,
    "category": "Accelerated computing",
    "gpuNum": 0,
    "hideHardwareSpecs": false,
    "memoryGiB": 512,
    "name": "ml.trn1.32xlarge",
    "vcpuNum": 128
   },
   {
    "_defaultOrder": 59,
    "_isFastLaunch": false,
    "category": "Accelerated computing",
    "gpuNum": 0,
    "hideHardwareSpecs": false,
    "memoryGiB": 512,
    "name": "ml.trn1n.32xlarge",
    "vcpuNum": 128
   }
  ],
  "instance_type": "ml.t3.medium",
  "kernelspec": {
   "display_name": "Python 3 (Data Science 2.0)",
   "language": "python",
   "name": "python3__SAGEMAKER_INTERNAL__arn:aws:sagemaker:us-east-1:081325390199:image/sagemaker-data-science-38"
  },
  "language_info": {
   "codemirror_mode": {
    "name": "ipython",
    "version": 3
   },
   "file_extension": ".py",
   "mimetype": "text/x-python",
   "name": "python",
   "nbconvert_exporter": "python",
   "pygments_lexer": "ipython3",
   "version": "3.8.13"
  },
  "nbdime-conflicts": {
   "local_diff": [
    {
     "diff": [
      {
       "diff": [
        {
         "key": 0,
         "op": "addrange",
         "valuelist": [
          "3.8.13"
         ]
        },
        {
         "key": 0,
         "length": 1,
         "op": "removerange"
        }
       ],
       "key": "version",
       "op": "patch"
      }
     ],
     "key": "language_info",
     "op": "patch"
    }
   ],
   "remote_diff": [
    {
     "diff": [
      {
       "diff": [
        {
         "key": 0,
         "op": "addrange",
         "valuelist": [
          "3.10.13"
         ]
        },
        {
         "key": 0,
         "length": 1,
         "op": "removerange"
        }
       ],
       "key": "version",
       "op": "patch"
      }
     ],
     "key": "language_info",
     "op": "patch"
    }
   ]
  }
 },
 "nbformat": 4,
 "nbformat_minor": 5
}
