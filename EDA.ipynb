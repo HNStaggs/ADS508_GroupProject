{
 "cells": [
  {
   "cell_type": "markdown",
   "id": "5c793d1c",
   "metadata": {},
   "source": [
    "# Data Ingestion"
   ]
  },
  {
   "cell_type": "markdown",
   "id": "2323e27d",
   "metadata": {},
   "source": [
    "## Copy CSV files to S3"
   ]
  },
  {
   "cell_type": "code",
   "execution_count": 67,
   "id": "fe95d59a",
   "metadata": {
    "tags": []
   },
   "outputs": [],
   "source": [
    "# Assume all the pre-requisites were set up \n",
    "%store -r setup_instance_check_passed\n",
    "%store -r setup_dependencies_passed\n",
    "%store -r setup_s3_bucket_passed\n",
    "%store -r setup_iam_roles_passed\n"
   ]
  },
  {
   "cell_type": "code",
   "execution_count": 68,
   "id": "27abfe19",
   "metadata": {
    "tags": []
   },
   "outputs": [],
   "source": [
    "# Load Libraries\n",
    "import boto3\n",
    "import sagemaker\n",
    "import pandas as pd\n",
    "\n",
    "sess = sagemaker.Session()\n",
    "bucket = sess.default_bucket()\n",
    "role = sagemaker.get_execution_role()\n",
    "region = boto3.Session().region_name\n",
    "account_id = boto3.client(\"sts\").get_caller_identity().get(\"Account\")\n",
    "\n",
    "sm = boto3.Session().client(service_name=\"sagemaker\", region_name=region)"
   ]
  },
  {
   "cell_type": "code",
   "execution_count": 69,
   "id": "1a390ac1",
   "metadata": {
    "tags": []
   },
   "outputs": [
    {
     "name": "stdout",
     "output_type": "stream",
     "text": [
      "                           PRE cities/\n",
      "                           PRE nyt/\n",
      "                           PRE tweeter/\n",
      "copy: s3://ads508team5/tweeter/hashtag_donaldtrump.csv to s3://sagemaker-us-east-1-975050119017/ADS508_project/tweeter/hashtag_donaldtrump.csv\n",
      "copy: s3://ads508team5/tweeter/hashtag_joebiden.csv to s3://sagemaker-us-east-1-975050119017/ADS508_project/tweeter/hashtag_joebiden.csv\n",
      "copy: s3://ads508team5/nyt/nyt-comments-2020.csv to s3://sagemaker-us-east-1-975050119017/ADS508_project/nyt/nyt-comments-2020.csv\n",
      "copy: s3://ads508team5/cities/uscities.csv to s3://sagemaker-us-east-1-975050119017/ADS508_project/cities/uscities.csv\n"
     ]
    }
   ],
   "source": [
    "# Public Data\n",
    "!aws s3 ls s3://ads508team5/\n",
    "\n",
    "# Copy Datasets from :\n",
    "# Source of data\n",
    "s3_public_path_tweeter = \"s3://ads508team5/tweeter\"\n",
    "s3_public_path_nyt = \"s3://ads508team5/nyt\"\n",
    "s3_public_path_cities = \"s3://ads508team5/cities\"\n",
    "\n",
    "# Destination Data:\n",
    "s3_private_path_tweeter = \"s3://{}/ADS508_project/tweeter\".format(bucket)\n",
    "s3_private_path_nyt = \"s3://{}/ADS508_project/nyt\".format(bucket)\n",
    "s3_private_path_cities = \"s3://{}/ADS508_project/cities\".format(bucket)\n",
    "\n",
    "\n",
    "# Copy datasets\n",
    "!aws s3 cp --recursive $s3_public_path_tweeter/ $s3_private_path_tweeter/ --exclude \"*\" --include \"hashtag_donaldtrump.csv\"\n",
    "!aws s3 cp --recursive $s3_public_path_tweeter/ $s3_private_path_tweeter/ --exclude \"*\" --include \"hashtag_joebiden.csv\"\n",
    "!aws s3 cp --recursive $s3_public_path_nyt/ $s3_private_path_nyt/ --exclude \"*\" --include \"nyt-comments-2020.csv\"\n",
    "!aws s3 cp --recursive $s3_public_path_cities/ $s3_private_path_cities/ --exclude \"*\" --include \"uscities.csv\""
   ]
  },
  {
   "cell_type": "markdown",
   "id": "fbfd7b2f",
   "metadata": {},
   "source": [
    "## Create Database, Tables and Parquets\n",
    "### Database"
   ]
  },
  {
   "cell_type": "code",
   "execution_count": 70,
   "id": "8ed3ea97",
   "metadata": {
    "tags": []
   },
   "outputs": [],
   "source": [
    "# Setup and check pre-requisites to create Database\n",
    "ingest_create_athena_db_passed = False\n",
    "\n",
    "#!pip install --disable-pip-version-check -q PyAthena==2.1.0\n",
    "from pyathena import connect"
   ]
  },
  {
   "cell_type": "code",
   "execution_count": 71,
   "id": "54ba41e8-462e-425b-a617-05641521dd0e",
   "metadata": {},
   "outputs": [],
   "source": [
    "\n",
    "# Set S3 staging directory -- this is a temporary directory used for Athena queries\n",
    "s3_staging_dir = \"s3://{0}/athena/staging\".format(bucket)\n",
    "\n",
    "# Create Connection\n",
    "conn = connect(region_name=region, s3_staging_dir=s3_staging_dir)"
   ]
  },
  {
   "cell_type": "code",
   "execution_count": 72,
   "id": "a6268521",
   "metadata": {
    "tags": []
   },
   "outputs": [
    {
     "data": {
      "text/html": [
       "<div>\n",
       "<style scoped>\n",
       "    .dataframe tbody tr th:only-of-type {\n",
       "        vertical-align: middle;\n",
       "    }\n",
       "\n",
       "    .dataframe tbody tr th {\n",
       "        vertical-align: top;\n",
       "    }\n",
       "\n",
       "    .dataframe thead th {\n",
       "        text-align: right;\n",
       "    }\n",
       "</style>\n",
       "<table border=\"1\" class=\"dataframe\">\n",
       "  <thead>\n",
       "    <tr style=\"text-align: right;\">\n",
       "      <th></th>\n",
       "      <th>database_name</th>\n",
       "    </tr>\n",
       "  </thead>\n",
       "  <tbody>\n",
       "    <tr>\n",
       "      <th>0</th>\n",
       "      <td>dbpoliticpulsecomment</td>\n",
       "    </tr>\n",
       "    <tr>\n",
       "      <th>1</th>\n",
       "      <td>default</td>\n",
       "    </tr>\n",
       "  </tbody>\n",
       "</table>\n",
       "</div>"
      ],
      "text/plain": [
       "           database_name\n",
       "0  dbpoliticpulsecomment\n",
       "1                default"
      ]
     },
     "execution_count": 72,
     "metadata": {},
     "output_type": "execute_result"
    }
   ],
   "source": [
    "# Create Database\n",
    "database_name = \"dbpoliticpulsecomment\"\n",
    "\n",
    "statement = \"CREATE DATABASE IF NOT EXISTS {}\".format(database_name)\n",
    "\n",
    "pd.read_sql(statement, conn)\n",
    "\n",
    "# Verify DB successfully created\n",
    "statement = \"SHOW DATABASES\"\n",
    "\n",
    "df_show = pd.read_sql(statement, conn)\n",
    "df_show.head(5)\n"
   ]
  },
  {
   "cell_type": "code",
   "execution_count": 73,
   "id": "a58edb18",
   "metadata": {
    "tags": []
   },
   "outputs": [],
   "source": [
    "# End of Create Database\n",
    "if database_name in df_show.values:\n",
    "    ingest_create_athena_db_passed = True"
   ]
  },
  {
   "cell_type": "markdown",
   "id": "50b6701e",
   "metadata": {},
   "source": [
    "### Tables"
   ]
  },
  {
   "cell_type": "code",
   "execution_count": 74,
   "id": "b366b2af",
   "metadata": {
    "tags": []
   },
   "outputs": [
    {
     "data": {
      "text/html": [
       "<div>\n",
       "<style scoped>\n",
       "    .dataframe tbody tr th:only-of-type {\n",
       "        vertical-align: middle;\n",
       "    }\n",
       "\n",
       "    .dataframe tbody tr th {\n",
       "        vertical-align: top;\n",
       "    }\n",
       "\n",
       "    .dataframe thead th {\n",
       "        text-align: right;\n",
       "    }\n",
       "</style>\n",
       "<table border=\"1\" class=\"dataframe\">\n",
       "  <thead>\n",
       "    <tr style=\"text-align: right;\">\n",
       "      <th></th>\n",
       "    </tr>\n",
       "  </thead>\n",
       "  <tbody>\n",
       "  </tbody>\n",
       "</table>\n",
       "</div>"
      ],
      "text/plain": [
       "Empty DataFrame\n",
       "Columns: []\n",
       "Index: []"
      ]
     },
     "execution_count": 74,
     "metadata": {},
     "output_type": "execute_result"
    }
   ],
   "source": [
    "# Create Tweeter Tables\n",
    "table_name_csv = \"tweeter\"\n",
    "s3_private_path_tweeter = \"s3://{}/ADS508_project/tweeter\".format(bucket)\n",
    "\n",
    "statement = \"\"\"CREATE EXTERNAL TABLE IF NOT EXISTS {}.{}(\n",
    "  created_at TIMESTAMP,\n",
    "  tweet_id FLOAT,\n",
    "  tweet VARCHAR(250),\n",
    "  likes INT,\n",
    "  retweet_count INT,\n",
    "  source VARCHAR(45),\n",
    "  user_id INT,\n",
    "  user_name VARCHAR(250),\n",
    "  user_screen_name VARCHAR(45),\n",
    "  user_description VARCHAR(250),\n",
    "  user_join_date TIMESTAMP,\n",
    "  user_followers_count INT,\n",
    "  user_location VARCHAR(45),\n",
    "  lat FLOAT,\n",
    "  long FLOAT,\n",
    "  city VARCHAR(45),\n",
    "  country VARCHAR(45),\n",
    "  continent VARCHAR(45),\n",
    "  state VARCHAR(45),\n",
    "  state_code VARCHAR(45),\n",
    "  collected_at VARCHAR(45)\n",
    ")\n",
    "ROW FORMAT DELIMITED\n",
    "FIELDS TERMINATED BY ','\n",
    "LOCATION '{}'\n",
    "TBLPROPERTIES ('skip.header.line.count'='1')\"\"\".format(\n",
    "    database_name, table_name_csv, s3_private_path_tweeter\n",
    ")\n",
    "\n",
    "pd.read_sql(statement, conn)\n"
   ]
  },
  {
   "cell_type": "code",
   "execution_count": 75,
   "id": "cb2f3816",
   "metadata": {
    "tags": []
   },
   "outputs": [
    {
     "data": {
      "text/html": [
       "<div>\n",
       "<style scoped>\n",
       "    .dataframe tbody tr th:only-of-type {\n",
       "        vertical-align: middle;\n",
       "    }\n",
       "\n",
       "    .dataframe tbody tr th {\n",
       "        vertical-align: top;\n",
       "    }\n",
       "\n",
       "    .dataframe thead th {\n",
       "        text-align: right;\n",
       "    }\n",
       "</style>\n",
       "<table border=\"1\" class=\"dataframe\">\n",
       "  <thead>\n",
       "    <tr style=\"text-align: right;\">\n",
       "      <th></th>\n",
       "      <th>created_at</th>\n",
       "      <th>tweet_id</th>\n",
       "      <th>tweet</th>\n",
       "      <th>likes</th>\n",
       "      <th>retweet_count</th>\n",
       "      <th>source</th>\n",
       "      <th>user_id</th>\n",
       "      <th>user_name</th>\n",
       "      <th>user_screen_name</th>\n",
       "      <th>user_description</th>\n",
       "      <th>...</th>\n",
       "      <th>user_followers_count</th>\n",
       "      <th>user_location</th>\n",
       "      <th>lat</th>\n",
       "      <th>long</th>\n",
       "      <th>city</th>\n",
       "      <th>country</th>\n",
       "      <th>continent</th>\n",
       "      <th>state</th>\n",
       "      <th>state_code</th>\n",
       "      <th>collected_at</th>\n",
       "    </tr>\n",
       "  </thead>\n",
       "  <tbody>\n",
       "    <tr>\n",
       "      <th>0</th>\n",
       "      <td>2020-10-15 00:00:21</td>\n",
       "      <td>1.316529e+18</td>\n",
       "      <td>@chrislongview Watching and setting dvr. Let’s...</td>\n",
       "      <td>0</td>\n",
       "      <td>0</td>\n",
       "      <td>Twitter for iPhone</td>\n",
       "      <td>None</td>\n",
       "      <td>Michelle Ferg</td>\n",
       "      <td>MichelleFerg4</td>\n",
       "      <td></td>\n",
       "      <td>...</td>\n",
       "      <td>27</td>\n",
       "      <td></td>\n",
       "      <td>None</td>\n",
       "      <td>None</td>\n",
       "      <td></td>\n",
       "      <td></td>\n",
       "      <td></td>\n",
       "      <td></td>\n",
       "      <td></td>\n",
       "      <td>2020-10-21 00:00:01.553481849</td>\n",
       "    </tr>\n",
       "  </tbody>\n",
       "</table>\n",
       "<p>1 rows × 21 columns</p>\n",
       "</div>"
      ],
      "text/plain": [
       "           created_at      tweet_id  \\\n",
       "0 2020-10-15 00:00:21  1.316529e+18   \n",
       "\n",
       "                                               tweet  likes  retweet_count  \\\n",
       "0  @chrislongview Watching and setting dvr. Let’s...      0              0   \n",
       "\n",
       "               source user_id      user_name user_screen_name  \\\n",
       "0  Twitter for iPhone    None  Michelle Ferg    MichelleFerg4   \n",
       "\n",
       "  user_description  ... user_followers_count  user_location   lat  long city  \\\n",
       "0                   ...                   27                 None  None        \n",
       "\n",
       "  country continent state state_code                   collected_at  \n",
       "0                                     2020-10-21 00:00:01.553481849  \n",
       "\n",
       "[1 rows x 21 columns]"
      ]
     },
     "execution_count": 75,
     "metadata": {},
     "output_type": "execute_result"
    }
   ],
   "source": [
    "# testing hashtag_donaldtrump.csv tweet\n",
    "tweet = \"You get a tie! And you get a tie! #Trump ‘s rally #Iowa https://t.co/jJalUUmh5D\"\n",
    "# testing hashtag_joebiden.csv tweet\n",
    "tweet = \"@chrislongview Watching and setting dvr. Let’s give him bonus ratings!! #JoeBiden\"\n",
    "\n",
    "\n",
    "statement = \"\"\"SELECT * FROM {}.{}\n",
    "    WHERE tweet = '{}' LIMIT 100\"\"\".format(\n",
    "    database_name, table_name_csv, tweet\n",
    ")\n",
    "\n",
    "df = pd.read_sql(statement, conn)\n",
    "df.head(5)\n"
   ]
  },
  {
   "cell_type": "code",
   "execution_count": 76,
   "id": "ed105b9b",
   "metadata": {
    "tags": []
   },
   "outputs": [
    {
     "data": {
      "text/html": [
       "<div>\n",
       "<style scoped>\n",
       "    .dataframe tbody tr th:only-of-type {\n",
       "        vertical-align: middle;\n",
       "    }\n",
       "\n",
       "    .dataframe tbody tr th {\n",
       "        vertical-align: top;\n",
       "    }\n",
       "\n",
       "    .dataframe thead th {\n",
       "        text-align: right;\n",
       "    }\n",
       "</style>\n",
       "<table border=\"1\" class=\"dataframe\">\n",
       "  <thead>\n",
       "    <tr style=\"text-align: right;\">\n",
       "      <th></th>\n",
       "    </tr>\n",
       "  </thead>\n",
       "  <tbody>\n",
       "  </tbody>\n",
       "</table>\n",
       "</div>"
      ],
      "text/plain": [
       "Empty DataFrame\n",
       "Columns: []\n",
       "Index: []"
      ]
     },
     "execution_count": 76,
     "metadata": {},
     "output_type": "execute_result"
    }
   ],
   "source": [
    "# Create NYT comment Table\n",
    "table_name_csv = \"nyt_comment\"\n",
    "s3_private_path_nyt = \"s3://{}/ADS508_project/nyt\".format(bucket)\n",
    "\n",
    "\n",
    "statement = \"\"\"CREATE EXTERNAL TABLE IF NOT EXISTS {}.{} (\n",
    "  commentID INT,\n",
    "  status VARCHAR(20),\n",
    "  commentSequence INT,\n",
    "  userID INT,\n",
    "  userDisplayName VARCHAR(45),\n",
    "  userLocation VARCHAR(45),\n",
    "  userTitle VARCHAR(10),\n",
    "  commentBody VARCHAR(500),\n",
    "  createDate TIMESTAMP,\n",
    "  updateDate TIMESTAMP,\n",
    "  approveDate TIMESTAMP,\n",
    "  recommendation INT,\n",
    "  replyCount INT,\n",
    "  editorsSelection VARCHAR(20),\n",
    "  parentID INT,\n",
    "  parentUserDisplayName VARCHAR(45),\n",
    "  depth INT,\n",
    "  commentType VARCHAR(20),\n",
    "  trusted VARCHAR(20),\n",
    "  recommendedFlag VARCHAR(20),\n",
    "  permID INT,\n",
    "  isAnonymous VARCHAR(20),\n",
    "  articleID VARCHAR(150)\n",
    ")\n",
    "ROW FORMAT DELIMITED\n",
    "FIELDS TERMINATED BY ','\n",
    "LOCATION '{}'\n",
    "TBLPROPERTIES ('skip.header.line.count'='1')\"\"\".format(\n",
    "    database_name, table_name_csv, s3_private_path_nyt\n",
    ")\n",
    "\n",
    "pd.read_sql(statement, conn)\n"
   ]
  },
  {
   "cell_type": "code",
   "execution_count": 77,
   "id": "1f08d61f",
   "metadata": {
    "tags": []
   },
   "outputs": [
    {
     "data": {
      "text/html": [
       "<div>\n",
       "<style scoped>\n",
       "    .dataframe tbody tr th:only-of-type {\n",
       "        vertical-align: middle;\n",
       "    }\n",
       "\n",
       "    .dataframe tbody tr th {\n",
       "        vertical-align: top;\n",
       "    }\n",
       "\n",
       "    .dataframe thead th {\n",
       "        text-align: right;\n",
       "    }\n",
       "</style>\n",
       "<table border=\"1\" class=\"dataframe\">\n",
       "  <thead>\n",
       "    <tr style=\"text-align: right;\">\n",
       "      <th></th>\n",
       "      <th>tab_name</th>\n",
       "    </tr>\n",
       "  </thead>\n",
       "  <tbody>\n",
       "    <tr>\n",
       "      <th>0</th>\n",
       "      <td>comment</td>\n",
       "    </tr>\n",
       "    <tr>\n",
       "      <th>1</th>\n",
       "      <td>comment_parquet</td>\n",
       "    </tr>\n",
       "    <tr>\n",
       "      <th>2</th>\n",
       "      <td>nyt_comment</td>\n",
       "    </tr>\n",
       "    <tr>\n",
       "      <th>3</th>\n",
       "      <td>tweeter</td>\n",
       "    </tr>\n",
       "    <tr>\n",
       "      <th>4</th>\n",
       "      <td>uscities</td>\n",
       "    </tr>\n",
       "  </tbody>\n",
       "</table>\n",
       "</div>"
      ],
      "text/plain": [
       "          tab_name\n",
       "0          comment\n",
       "1  comment_parquet\n",
       "2      nyt_comment\n",
       "3          tweeter\n",
       "4         uscities"
      ]
     },
     "execution_count": 77,
     "metadata": {},
     "output_type": "execute_result"
    }
   ],
   "source": [
    "statement = \"SHOW TABLES in {}\".format(database_name)\n",
    "\n",
    "df_show = pd.read_sql(statement, conn)\n",
    "df_show.head(5)"
   ]
  },
  {
   "cell_type": "code",
   "execution_count": 78,
   "id": "5f118e12",
   "metadata": {
    "tags": []
   },
   "outputs": [
    {
     "data": {
      "text/html": [
       "<div>\n",
       "<style scoped>\n",
       "    .dataframe tbody tr th:only-of-type {\n",
       "        vertical-align: middle;\n",
       "    }\n",
       "\n",
       "    .dataframe tbody tr th {\n",
       "        vertical-align: top;\n",
       "    }\n",
       "\n",
       "    .dataframe thead th {\n",
       "        text-align: right;\n",
       "    }\n",
       "</style>\n",
       "<table border=\"1\" class=\"dataframe\">\n",
       "  <thead>\n",
       "    <tr style=\"text-align: right;\">\n",
       "      <th></th>\n",
       "      <th>commentid</th>\n",
       "      <th>status</th>\n",
       "      <th>commentsequence</th>\n",
       "      <th>userid</th>\n",
       "      <th>userdisplayname</th>\n",
       "      <th>userlocation</th>\n",
       "      <th>usertitle</th>\n",
       "      <th>commentbody</th>\n",
       "      <th>createdate</th>\n",
       "      <th>updatedate</th>\n",
       "      <th>...</th>\n",
       "      <th>editorsselection</th>\n",
       "      <th>parentid</th>\n",
       "      <th>parentuserdisplayname</th>\n",
       "      <th>depth</th>\n",
       "      <th>commenttype</th>\n",
       "      <th>trusted</th>\n",
       "      <th>recommendedflag</th>\n",
       "      <th>permid</th>\n",
       "      <th>isanonymous</th>\n",
       "      <th>articleid</th>\n",
       "    </tr>\n",
       "  </thead>\n",
       "  <tbody>\n",
       "    <tr>\n",
       "      <th>0</th>\n",
       "      <td>104389709</td>\n",
       "      <td>approved</td>\n",
       "      <td>104389709</td>\n",
       "      <td>72038931</td>\n",
       "      <td>Anthony Monaghan</td>\n",
       "      <td>Narrabeen</td>\n",
       "      <td></td>\n",
       "      <td>@Philip Brown Agree 110%.</td>\n",
       "      <td>2020-01-01 10:36:20</td>\n",
       "      <td>2020-01-01 21:18:55</td>\n",
       "      <td>...</td>\n",
       "      <td>False</td>\n",
       "      <td>104389536</td>\n",
       "      <td>Philip Brown</td>\n",
       "      <td>2</td>\n",
       "      <td>userReply</td>\n",
       "      <td>0</td>\n",
       "      <td>0</td>\n",
       "      <td>104389709</td>\n",
       "      <td>False</td>\n",
       "      <td>nyt://article/69a7090b-9f36-569e-b5ab-b0ba5bb3...</td>\n",
       "    </tr>\n",
       "  </tbody>\n",
       "</table>\n",
       "<p>1 rows × 23 columns</p>\n",
       "</div>"
      ],
      "text/plain": [
       "   commentid    status  commentsequence    userid   userdisplayname  \\\n",
       "0  104389709  approved        104389709  72038931  Anthony Monaghan   \n",
       "\n",
       "  userlocation usertitle                commentbody          createdate  \\\n",
       "0    Narrabeen            @Philip Brown Agree 110%. 2020-01-01 10:36:20   \n",
       "\n",
       "           updatedate  ... editorsselection   parentid  parentuserdisplayname  \\\n",
       "0 2020-01-01 21:18:55  ...            False  104389536           Philip Brown   \n",
       "\n",
       "  depth  commenttype trusted  recommendedflag     permid isanonymous  \\\n",
       "0     2    userReply       0                0  104389709       False   \n",
       "\n",
       "                                           articleid  \n",
       "0  nyt://article/69a7090b-9f36-569e-b5ab-b0ba5bb3...  \n",
       "\n",
       "[1 rows x 23 columns]"
      ]
     },
     "execution_count": 78,
     "metadata": {},
     "output_type": "execute_result"
    }
   ],
   "source": [
    "commentBody = \"@Philip Brown Agree 110%.\"\n",
    "\n",
    "statement = \"\"\"SELECT * FROM {}.{}\n",
    "    WHERE commentBody = '{}' LIMIT 100\"\"\".format(\n",
    "    database_name, table_name_csv, commentBody\n",
    ")\n",
    "\n",
    "df = pd.read_sql(statement, conn)\n",
    "df.head(5)\n"
   ]
  },
  {
   "cell_type": "code",
   "execution_count": 79,
   "id": "df721c6c-eb56-473c-991f-4a8a80486d15",
   "metadata": {},
   "outputs": [
    {
     "data": {
      "text/html": [
       "<div>\n",
       "<style scoped>\n",
       "    .dataframe tbody tr th:only-of-type {\n",
       "        vertical-align: middle;\n",
       "    }\n",
       "\n",
       "    .dataframe tbody tr th {\n",
       "        vertical-align: top;\n",
       "    }\n",
       "\n",
       "    .dataframe thead th {\n",
       "        text-align: right;\n",
       "    }\n",
       "</style>\n",
       "<table border=\"1\" class=\"dataframe\">\n",
       "  <thead>\n",
       "    <tr style=\"text-align: right;\">\n",
       "      <th></th>\n",
       "    </tr>\n",
       "  </thead>\n",
       "  <tbody>\n",
       "  </tbody>\n",
       "</table>\n",
       "</div>"
      ],
      "text/plain": [
       "Empty DataFrame\n",
       "Columns: []\n",
       "Index: []"
      ]
     },
     "execution_count": 79,
     "metadata": {},
     "output_type": "execute_result"
    }
   ],
   "source": [
    "# Create uscities table\n",
    "table_name = \"uscities\"\n",
    "s3_private_path_cities = \"s3://{}/ADS508_project/cities\".format(bucket)\n",
    "\n",
    "statement = \"\"\"\n",
    "CREATE EXTERNAL TABLE IF NOT EXISTS {}.{} (\n",
    "    city VARCHAR(45),\n",
    "    state_id VARCHAR(2),\n",
    "    state_name VARCHAR(30)\n",
    ")\n",
    "ROW FORMAT DELIMITED\n",
    "FIELDS TERMINATED BY ','\n",
    "LOCATION '{}'\n",
    "TBLPROPERTIES ('skip.header.line.count'='1')\n",
    "\"\"\".format(\n",
    "    database_name, table_name, s3_private_path_cities\n",
    ")\n",
    "\n",
    "pd.read_sql(statement, conn)\n",
    "\n",
    "#with conn.cursor() as cursor:\n",
    "#    for _, row in df_city.iterrows():\n",
    "#        cursor.execute(\"INSERT INTO {}.{} VALUES ('{}', '{}', '{}')\".format(database_name, table_name, row['city'], row['state_id'], row['state_name']))\n"
   ]
  },
  {
   "cell_type": "markdown",
   "id": "d3ccd002",
   "metadata": {},
   "source": [
    "### Parquets\n",
    "#### Feature Selection and Creation\n",
    "Prior creating a parquet table, tweeter and NYT comment tables are going to be combined under Comment Table in Athena where a feature creation is going to be performed. When the table is combined, we selected some features that would be benefit to our goal."
   ]
  },
  {
   "cell_type": "markdown",
   "id": "878fc4ed-1442-4639-b29b-a1ec495856cd",
   "metadata": {},
   "source": [
    "Selected features which could help on train the model are comment_id, comment_body, user_id, user_location, candidatepoll"
   ]
  },
  {
   "cell_type": "code",
   "execution_count": 80,
   "id": "abcc6e5d",
   "metadata": {
    "tags": []
   },
   "outputs": [
    {
     "data": {
      "text/html": [
       "<div>\n",
       "<style scoped>\n",
       "    .dataframe tbody tr th:only-of-type {\n",
       "        vertical-align: middle;\n",
       "    }\n",
       "\n",
       "    .dataframe tbody tr th {\n",
       "        vertical-align: top;\n",
       "    }\n",
       "\n",
       "    .dataframe thead th {\n",
       "        text-align: right;\n",
       "    }\n",
       "</style>\n",
       "<table border=\"1\" class=\"dataframe\">\n",
       "  <thead>\n",
       "    <tr style=\"text-align: right;\">\n",
       "      <th></th>\n",
       "      <th>rows</th>\n",
       "    </tr>\n",
       "  </thead>\n",
       "  <tbody>\n",
       "  </tbody>\n",
       "</table>\n",
       "</div>"
      ],
      "text/plain": [
       "Empty DataFrame\n",
       "Columns: [rows]\n",
       "Index: []"
      ]
     },
     "execution_count": 80,
     "metadata": {},
     "output_type": "execute_result"
    }
   ],
   "source": [
    "table_comment = \"comment\"\n",
    "table_tweeter = \"tweeter\"\n",
    "table_nyt_comment = \"nyt_comment\"\n",
    "\n",
    "# SQL Statement combine tweeter and NYT comment in the preparation to create parquet\n",
    "statement = \"\"\"\n",
    "CREATE TABLE IF NOT EXISTS {}.{} AS (\n",
    "SELECT DISTINCT\n",
    "    tweet_id AS comment_id,\n",
    "    tweet AS comment_body,\n",
    "    user_id AS user_id,\n",
    "    user_name AS user_name,\n",
    "    user_location AS user_location,\n",
    "    u.state_id AS user_state,\n",
    "    created_at AS create_date,\n",
    "    retweet_count AS reply_retweet,\n",
    "    likes AS recommendation_like,\n",
    "    'tweet' as source,\n",
    "    (LENGTH(tweet) - LENGTH(REPLACE(LOWER(tweet), 'trump', ''))) / LENGTH('trump') AS trump_count,\n",
    "    (LENGTH(tweet) - LENGTH(REPLACE(LOWER(tweet), 'biden', ''))) / LENGTH('biden') AS biden_count,\n",
    "    CASE \n",
    "        WHEN \n",
    "            (LENGTH(tweet) - LENGTH(REPLACE(LOWER(tweet), 'biden', ''))) / LENGTH('biden') > \n",
    "            (LENGTH(tweet) - LENGTH(REPLACE(LOWER(tweet), 'trump', ''))) / LENGTH('trump') \n",
    "        THEN 'Biden'\n",
    "        WHEN              \n",
    "            (LENGTH(tweet) - LENGTH(REPLACE(LOWER(tweet), 'biden', ''))) / LENGTH('biden') < \n",
    "            (LENGTH(tweet) - LENGTH(REPLACE(LOWER(tweet), 'trump', ''))) / LENGTH('trump') \n",
    "        THEN 'Trump'\n",
    "        ELSE NULL\n",
    "    END AS candidatepoll\n",
    "FROM\n",
    "    {}.{}\n",
    "LEFT JOIN\n",
    "    dbpoliticpulsecomment.uscities u ON lower(user_location) = lower(u.city) OR \n",
    "    lower(user_location) = lower(u.state_name) OR \n",
    "    lower(user_location) = lower(u.state_id)\n",
    "WHERE\n",
    "    LENGTH(tweet) > 3\n",
    "UNION\n",
    "SELECT DISTINCT\n",
    "    commentid AS comment_id,\n",
    "    commentbody AS comment_body,\n",
    "    userID AS user_id,\n",
    "    userDisplayName AS user_name,\n",
    "    userLocation AS user_location,\n",
    "    u.state_id as user_state,\n",
    "    createDate AS create_date,\n",
    "    replyCount AS reply_retweet,\n",
    "    recommendation AS recommendation_like,\n",
    "    'nyt_comment' as source,\n",
    "    (LENGTH(commentbody) - LENGTH(REPLACE(LOWER(commentbody), 'trump', ''))) / LENGTH('trump') AS trump_count,\n",
    "    (LENGTH(commentbody) - LENGTH(REPLACE(LOWER(commentbody), 'biden', ''))) / LENGTH('biden') AS biden_count,\n",
    "    CASE\n",
    "        WHEN\n",
    "            (LENGTH(commentbody) - LENGTH(REPLACE(LOWER(commentbody), 'biden', ''))) / LENGTH('biden') > \n",
    "            (LENGTH(commentbody) - LENGTH(REPLACE(LOWER(commentbody), 'trump', ''))) / LENGTH('trump') \n",
    "        THEN 'Biden'\n",
    "        WHEN\n",
    "            (LENGTH(commentbody) - LENGTH(REPLACE(LOWER(commentbody), 'biden', ''))) / LENGTH('biden') < \n",
    "            (LENGTH(commentbody) - LENGTH(REPLACE(LOWER(commentbody), 'trump', ''))) / LENGTH('trump') \n",
    "        THEN 'Trump'\n",
    "        ELSE NULL\n",
    "    END AS candidatepoll\n",
    "FROM \n",
    "    {}.{}\n",
    "LEFT JOIN\n",
    "    dbpoliticpulsecomment.uscities u ON lower(userLocation) = lower(u.city) OR \n",
    "    lower(userLocation) = lower(u.state_name) OR \n",
    "    lower(userLocation) = lower(u.state_id)\n",
    "WHERE LENGTH(commentbody) > 3\n",
    ")\"\"\".format(database_name, table_comment,database_name, table_tweeter,database_name, table_nyt_comment)\n",
    "\n",
    "pd.read_sql(statement, conn)"
   ]
  },
  {
   "cell_type": "code",
   "execution_count": null,
   "id": "b0cf2ca7",
   "metadata": {
    "tags": []
   },
   "outputs": [],
   "source": [
    "commentbody = \"Joe Biden\"\n",
    "source = \"nyt_comment\"\n",
    "\n",
    "statement = \"\"\"SELECT * FROM {}.{}\n",
    "    WHERE comment_body like '{}%' and source = '{}' LIMIT 100\"\"\".format(\n",
    "    database_name, table_comment, commentbody, source\n",
    ")\n",
    "\n",
    "df = pd.read_sql(statement, conn)\n",
    "df.head(5)\n"
   ]
  },
  {
   "cell_type": "code",
   "execution_count": null,
   "id": "24e266db",
   "metadata": {
    "tags": []
   },
   "outputs": [],
   "source": [
    "# Setup to create Parquet\n",
    "ingest_create_athena_table_parquet_passed = False\n",
    "\n",
    "# Set S3 path to Parquet data\n",
    "s3_path_parquet = \"s3://{}/ADS508_project/parquet\".format(bucket)\n",
    "\n",
    "table_parquet = \"comment_parquet\""
   ]
  },
  {
   "cell_type": "code",
   "execution_count": null,
   "id": "ae06efcb",
   "metadata": {
    "tags": []
   },
   "outputs": [],
   "source": [
    "# SQL statement to execute (remove comment_id, user_name,)\n",
    "statement = \"\"\"CREATE TABLE IF NOT EXISTS {}.{}\n",
    "WITH (format = 'PARQUET', external_location = '{}', partitioned_by = ARRAY['candidatepoll']) AS\n",
    "SELECT DISTINCT user_location,\n",
    "         user_state,\n",
    "         comment_body,\n",
    "         source,\n",
    "         candidatepoll\n",
    "FROM {}.{}\n",
    "where candidatepoll is not null AND Length(comment_body)>1 AND length(user_location)>1\"\"\".format(\n",
    "    database_name, table_parquet, s3_path_parquet, database_name, table_comment\n",
    ")\n",
    "pd.read_sql(statement, conn)"
   ]
  },
  {
   "cell_type": "code",
   "execution_count": null,
   "id": "435eaa44",
   "metadata": {
    "tags": []
   },
   "outputs": [],
   "source": [
    "#load the Parquet partitions\n",
    "statement = \"MSCK REPAIR TABLE {}.{}\".format(database_name, table_parquet)\n",
    "\n",
    "df = pd.read_sql(statement, conn)\n",
    "df.head(5)"
   ]
  },
  {
   "cell_type": "code",
   "execution_count": null,
   "id": "96e21991",
   "metadata": {
    "tags": []
   },
   "outputs": [],
   "source": [
    "statement = \"SHOW PARTITIONS {}.{}\".format(database_name, table_parquet)\n",
    "df_partitions = pd.read_sql(statement, conn)\n",
    "df_partitions.head(5)"
   ]
  },
  {
   "cell_type": "code",
   "execution_count": null,
   "id": "f282d08a",
   "metadata": {
    "tags": []
   },
   "outputs": [],
   "source": [
    "statement = \"SHOW TABLES in {}\".format(database_name)\n",
    "df_partitions = pd.read_sql(statement, conn)\n",
    "df_partitions.head(5)"
   ]
  },
  {
   "cell_type": "code",
   "execution_count": null,
   "id": "3dc60922",
   "metadata": {
    "tags": []
   },
   "outputs": [],
   "source": [
    "candidatepoll = \"Trump\"\n",
    "\n",
    "statement = \"\"\"SELECT * FROM {}.{}\n",
    "    Where candidatepoll = '{}' LIMIT 10\"\"\".format(\n",
    "    database_name, table_parquet, candidatepoll\n",
    ")\n",
    "df_parquet = pd.read_sql(statement, conn)\n",
    "df_parquet.head(5)"
   ]
  },
  {
   "cell_type": "markdown",
   "id": "3b8461c5",
   "metadata": {},
   "source": [
    "## Query Data"
   ]
  },
  {
   "cell_type": "code",
   "execution_count": null,
   "id": "6e00bda0",
   "metadata": {
    "scrolled": true,
    "tags": []
   },
   "outputs": [],
   "source": [
    "# Setup and check pre-requisites to create Database\n",
    "\n",
    "#!pip install --disable-pip-version-check -q awswrangler\n",
    "import awswrangler as wr"
   ]
  },
  {
   "cell_type": "code",
   "execution_count": null,
   "id": "3b28f75b",
   "metadata": {
    "tags": []
   },
   "outputs": [],
   "source": [
    "t_filter = lambda x: x[\"candidatepoll\"] == \"Trump\"\n",
    "b_filter = lambda x: x[\"candidatepoll\"] == \"Biden\""
   ]
  },
  {
   "cell_type": "code",
   "execution_count": null,
   "id": "d208219a",
   "metadata": {
    "tags": []
   },
   "outputs": [],
   "source": [
    "path =  \"s3://{}/ADS508_project/parquet\".format(bucket)\n",
    "\n",
    "df_parquet_results = wr.s3.read_parquet(\n",
    "    path, columns=[\"comment_body\", \"source\", \"user_location\", \"user_state\", \"candidatepoll\"], partition_filter=t_filter, dataset=True\n",
    ")\n",
    "\n"
   ]
  },
  {
   "cell_type": "code",
   "execution_count": null,
   "id": "40daa73f",
   "metadata": {
    "tags": []
   },
   "outputs": [],
   "source": [
    "df_parquet_results_trump = df_parquet_results.drop_duplicates(subset = ['comment_body'])\n",
    "df_parquet_results_trump = df_parquet_results.dropna(subset = ['user_state'])\n",
    "df_parquet_results_trump = df_parquet_results[df_parquet_results['user_state'] != ' V']\n",
    "df_parquet_results_trump.shape\n",
    "df_parquet_results_trump.head(5)"
   ]
  },
  {
   "cell_type": "code",
   "execution_count": null,
   "id": "076d4959",
   "metadata": {},
   "outputs": [],
   "source": [
    "path =  \"s3://{}/ADS508_project/parquet\".format(bucket)\n",
    "\n",
    "# Call all public discourse data from \n",
    "df_parquet_results = wr.s3.read_parquet(\n",
    "    path, columns=[\"comment_body\", \"source\", \"user_location\", \"user_state\", \"candidatepoll\"], partition_filter=b_filter, dataset=True\n",
    ")\n",
    "\n",
    "\n",
    "df_parquet_results_biden = df_parquet_results.drop_duplicates(subset = ['comment_body'])\n",
    "df_parquet_results_biden.shape\n",
    "df_parquet_results_biden.head(5)"
   ]
  },
  {
   "cell_type": "markdown",
   "id": "612a2655",
   "metadata": {},
   "source": [
    "# Data Exploration"
   ]
  },
  {
   "cell_type": "code",
   "execution_count": null,
   "id": "5accb614",
   "metadata": {
    "tags": []
   },
   "outputs": [],
   "source": [
    "# Checking for missing values from trump data\n",
    "df_parquet_results_trump.info()"
   ]
  },
  {
   "cell_type": "code",
   "execution_count": null,
   "id": "af933a9a",
   "metadata": {
    "tags": []
   },
   "outputs": [],
   "source": [
    "# Check for missing values from  biden data\n",
    "df_parquet_results_biden.info()"
   ]
  },
  {
   "cell_type": "code",
   "execution_count": null,
   "id": "23647e4c",
   "metadata": {},
   "outputs": [],
   "source": [
    "# Data Distributions for Trump and Biden \n",
    "df_parquet_results_trump['source'].value_counts()\n"
   ]
  },
  {
   "cell_type": "code",
   "execution_count": null,
   "id": "7c82b8ed",
   "metadata": {
    "tags": []
   },
   "outputs": [],
   "source": [
    "# Data Distributions for Trump and Biden \n",
    "df_parquet_results_biden['source'].value_counts()"
   ]
  },
  {
   "cell_type": "code",
   "execution_count": null,
   "id": "685d75cf",
   "metadata": {},
   "outputs": [],
   "source": [
    "# Filtering Data by Location \n",
    "df_parquet_results_trump['user_location'].value_counts()"
   ]
  },
  {
   "cell_type": "code",
   "execution_count": null,
   "id": "36f505d2",
   "metadata": {
    "tags": []
   },
   "outputs": [],
   "source": [
    "# Top 30 locations of social media activity\n",
    "df_parquet_results_trump['user_location'].value_counts().head(30)"
   ]
  },
  {
   "cell_type": "code",
   "execution_count": null,
   "id": "c3724bb2",
   "metadata": {
    "tags": []
   },
   "outputs": [],
   "source": [
    "df_parquet_results_biden['user_location'].value_counts()"
   ]
  },
  {
   "cell_type": "code",
   "execution_count": null,
   "id": "4138776c",
   "metadata": {
    "tags": []
   },
   "outputs": [],
   "source": [
    "# Top 30 locations of social media activity\n",
    "df_parquet_results_biden['user_location'].value_counts().head(30)"
   ]
  },
  {
   "cell_type": "markdown",
   "id": "14395879",
   "metadata": {},
   "source": [
    "# Create EDA Overview Data Visualization"
   ]
  },
  {
   "cell_type": "code",
   "execution_count": null,
   "id": "f766c5a8",
   "metadata": {
    "tags": []
   },
   "outputs": [],
   "source": [
    "# Data Sources for Each Candidate\n",
    "# Code from ChatGPT\n",
    "\n",
    "import matplotlib.pyplot as plt\n",
    "\n",
    "candidate = ['Trump','Biden']\n",
    "twitter_n = [df_parquet_results_trump['source'].value_counts()[0],df_parquet_results_biden['source'].value_counts()[0]]\n",
    "nyt_n = [df_parquet_results_trump['source'].value_counts()[1],df_parquet_results_biden['source'].value_counts()[1]]\n",
    "\n",
    "x = range(len(candidate))\n",
    "\n",
    "# Plotting the bars\n",
    "plt.bar(x, twitter_n, width=0.4, label='Twitter Mentions', align='center')\n",
    "plt.bar(x, nyt_n, width=0.4, label='NYT Mentions', align='edge')\n",
    "\n",
    "# Adding labels\n",
    "plt.xlabel('Candidates')\n",
    "plt.ylabel('Number of Mentions')\n",
    "plt.title('Twitter and NYT Mentions by Candidate')\n",
    "plt.xticks(x, candidate)\n",
    "plt.legend()\n",
    "\n",
    "# Show plot\n",
    "plt.savefig('DataDist.png')"
   ]
  },
  {
   "cell_type": "code",
   "execution_count": null,
   "id": "6167ad62",
   "metadata": {},
   "outputs": [],
   "source": [
    "from wordcloud import WordCloud\n",
    "import matplotlib.pyplot as plt\n",
    "import re\n",
    "\n",
    "# Sample a subset of comments for generating the word cloud\n",
    "sampled_trump_comments = df_parquet_results_trump['comment_body'].dropna().sample(n=10000, random_state=42)\n",
    "\n",
    "# Concatenate sampled comments for Trump\n",
    "trump_comments_text = ' '.join(sampled_trump_comments)\n",
    "\n",
    "# Define words and patterns to exclude\n",
    "words_to_exclude = ['trump', 'donald', 'donaldtrump', 'https', 'co', 'st'] \n",
    "patterns_to_exclude = [r'\\btrump\\b', r'\\bdonald\\b', r'\\bdonaldtrump\\b', r'https?://\\S+']\n",
    "\n",
    "# Combine words and patterns to exclude\n",
    "exclude_patterns = '|'.join(words_to_exclude + patterns_to_exclude)\n",
    "\n",
    "# Preprocess text to remove specific words and patterns\n",
    "trump_comments_text_cleaned = re.sub(exclude_patterns, '', trump_comments_text, flags=re.IGNORECASE)\n",
    "\n",
    "# Generate word cloud for Trump comments with a limit on the number of words\n",
    "wordcloud_trump = WordCloud(width=800, height=400, background_color='white', max_words=100).generate(trump_comments_text_cleaned)\n",
    "\n",
    "# Plot the word cloud for Trump\n",
    "plt.figure(figsize=(10, 6))\n",
    "plt.imshow(wordcloud_trump, interpolation='bilinear')\n",
    "plt.title('Word Cloud for Trump Comments (Excluding \"Trump\" and \"Donald\")')\n",
    "plt.axis('off')\n",
    "plt.show()"
   ]
  },
  {
   "cell_type": "code",
   "execution_count": null,
   "id": "f7ae0744",
   "metadata": {},
   "outputs": [],
   "source": [
    "# Sample a subset of comments for Biden\n",
    "sampled_biden_comments = df_parquet_results_biden['comment_body'].dropna().sample(n=40000, random_state=42)\n",
    "\n",
    "# Concatenate sampled comments for Biden\n",
    "biden_comments_text = ' '.join(sampled_biden_comments)\n",
    "\n",
    "# Define words and patterns to exclude\n",
    "words_to_exclude = ['biden', 'joe', 'joebiden', 'president', 'election', 'https', 'co','amp']  # Exclude common words and URLs\n",
    "patterns_to_exclude = [r'\\bbiden\\b', r'\\bjoe\\b', r'\\bjoebiden\\b', r'https?://\\S+']\n",
    "\n",
    "# Combine words and patterns to exclude\n",
    "exclude_patterns = '|'.join(words_to_exclude + patterns_to_exclude)\n",
    "\n",
    "# Preprocess text to remove specific words and patterns\n",
    "biden_comments_text_cleaned = re.sub(exclude_patterns, '', biden_comments_text, flags=re.IGNORECASE)\n",
    "\n",
    "# Generate word cloud for Biden comments with a limit on the number of words\n",
    "wordcloud_biden = WordCloud(width=800, height=400, background_color='white', max_words=100).generate(biden_comments_text_cleaned)\n",
    "\n",
    "# Plot the word cloud for Biden\n",
    "plt.figure(figsize=(10, 6))\n",
    "plt.imshow(wordcloud_biden, interpolation='bilinear')\n",
    "plt.title('Word Cloud for Biden Comments (Excluding \"Biden\" and \"Joe\")')\n",
    "plt.axis('off')\n",
    "plt.show()"
   ]
  },
  {
   "cell_type": "markdown",
   "id": "1c8c2e43",
   "metadata": {},
   "source": [
    "# Sentiment Labels Using Textblob"
   ]
  },
  {
   "cell_type": "code",
   "execution_count": null,
   "id": "5c46a727-7977-4640-a92d-47a14077e776",
   "metadata": {
    "tags": []
   },
   "outputs": [],
   "source": [
    "pip install langdetect"
   ]
  },
  {
   "cell_type": "code",
   "execution_count": null,
   "id": "c39bb947-1078-444b-b9c0-7f678b55fa2b",
   "metadata": {
    "tags": []
   },
   "outputs": [],
   "source": [
    "pip install fasttext-wheel"
   ]
  },
  {
   "cell_type": "code",
   "execution_count": null,
   "id": "629b6913-e034-45b5-bd6b-5591b53fb1f7",
   "metadata": {
    "tags": []
   },
   "outputs": [],
   "source": [
    "#Use pretrained model\n",
    "#!pip install textblob\n",
    "!wget https://dl.fbaipublicfiles.com/fasttext/supervised-models/lid.176.bin -P /ADS508_GroupProject\n",
    "!ls -p /ADS508_GroupProject\n"
   ]
  },
  {
   "cell_type": "code",
   "execution_count": null,
   "id": "f5f114ed-2edd-4f25-9e22-7ce19c1e9fc2",
   "metadata": {},
   "outputs": [],
   "source": [
    "!wget --no-check-certificate https://dl.fbaipublicfiles.com/fasttext/supervised-models/lid.176.bin\n",
    "!mkdir -p /ADS508_GroupProject"
   ]
  },
  {
   "cell_type": "code",
   "execution_count": null,
   "id": "410a09f4-2936-43c6-8a60-86f847f8440e",
   "metadata": {
    "tags": []
   },
   "outputs": [],
   "source": [
    "import fasttext\n",
    "from textblob import TextBlob\n",
    "\n",
    "# Load the pre-trained language identification model\n",
    "model_path = '/ADS508_GroupProject/lid.176.bin'  # Path to the pre-trained language identification model\n",
    "model = fasttext.load_model(model_path)"
   ]
  },
  {
   "cell_type": "code",
   "execution_count": null,
   "id": "c0d240da-ee48-4eab-8050-fb5683b4b575",
   "metadata": {
    "tags": []
   },
   "outputs": [],
   "source": [
    "# Function to detect language using FastText\n",
    "def detect_language_fasttext(text):\n",
    "    prediction = model.predict(text)\n",
    "    language_code = prediction[0][0].split('__label__')[1]\n",
    "    return language_code\n",
    "\n",
    "# Function to analyze tweet sentiment to catch non english words\n",
    "def analyze_tweet_sentiment(tweet_text):\n",
    "    try:\n",
    "        language = detect_language_fasttext(tweet_text)\n",
    "        if language == 'en':\n",
    "            analysis = TextBlob(tweet_text)\n",
    "            return analysis.sentiment.polarity\n",
    "        else:\n",
    "            return None\n",
    "    except:\n",
    "        return None\n",
    "\n"
   ]
  },
  {
   "cell_type": "code",
   "execution_count": null,
   "id": "7c037725-b6e0-465f-9036-dfab714b3688",
   "metadata": {
    "tags": []
   },
   "outputs": [],
   "source": [
    "# Apply sentiment analysis to Trump data\n",
    "if __name__ == \"__main__\":\n",
    "    \n",
    "    df_parquet_results_trump['sentiment'] = df_parquet_results_trump['comment_body'].apply(analyze_tweet_sentiment)\n",
    "    \n",
    "    # Drop non-English tweets (NaN sentiment_score)\n",
    "    df_parquet_results_trump.dropna(subset=['sentiment'], inplace=True)"
   ]
  },
  {
   "cell_type": "code",
   "execution_count": null,
   "id": "099d7193-2d67-464b-ab6a-f2433721458c",
   "metadata": {
    "tags": []
   },
   "outputs": [],
   "source": [
    "\n",
    "# Biden \n",
    "df_parquet_results_biden['sentiment'] = df_parquet_results_biden['comment_body'].apply(analyze_tweet_sentiment)\n",
    "    \n",
    "# Count NaN values before dropping\n",
    "num_nans_before_biden = df_parquet_results_biden['comment_body'].isna().sum()\n",
    "\n",
    "# Drop non-English tweets (NaN sentiment_score)\n",
    "df_parquet_results_biden.dropna(subset=['sentiment'], inplace=True)\n",
    "\n",
    "   \n"
   ]
  },
  {
   "cell_type": "code",
   "execution_count": null,
   "id": "73acd846-3068-4b8e-95ad-fd5ad4b3c5ca",
   "metadata": {
    "tags": []
   },
   "outputs": [],
   "source": [
    "df_parquet_results_biden"
   ]
  },
  {
   "cell_type": "code",
   "execution_count": null,
   "id": "89b1e635-c3f1-41d6-9131-aeb3099a2055",
   "metadata": {
    "tags": []
   },
   "outputs": [],
   "source": []
  },
  {
   "cell_type": "code",
   "execution_count": null,
   "id": "0aeac1aa-45f8-4efe-8241-a553f4f9b96a",
   "metadata": {
    "tags": []
   },
   "outputs": [],
   "source": []
  },
  {
   "cell_type": "code",
   "execution_count": null,
   "id": "6bb92b01-1caa-49e5-b596-a65954fd7f47",
   "metadata": {
    "tags": []
   },
   "outputs": [],
   "source": [
    "oo"
   ]
  },
  {
   "cell_type": "code",
   "execution_count": null,
   "id": "1808c5fd-3e91-4186-8c05-a1cf7a7d958b",
   "metadata": {
    "tags": []
   },
   "outputs": [],
   "source": []
  },
  {
   "cell_type": "code",
   "execution_count": null,
   "id": "2c755327",
   "metadata": {
    "tags": []
   },
   "outputs": [],
   "source": [
    "# Code from ChatGPT\n",
    "#!pip install textblob\n",
    "#from textblob import TextBlob\n",
    "\n",
    "#def analyze_tweet_sentiment(tweet_text):\n",
    "    #analysis = TextBlob(tweet_text)\n",
    "    # Return sentiment polarity (ranging from -1 to 1)\n",
    "    #return analysis.sentiment.polarity\n"
   ]
  },
  {
   "cell_type": "code",
   "execution_count": null,
   "id": "7c5faf7e",
   "metadata": {},
   "outputs": [],
   "source": [
    "#Apply sentiment labels to Trump Data\n",
    "#if __name__ == \"__main__\":\n",
    "    # Assuming you have a DataFrame named df_tweets with a column 'text' containing tweet text\n",
    "    #df_tweets_trump = df_parquet_results_trump[['comment_body']]\n",
    "    # Analyze sentiment for each tweet in the DataFrame\n",
    "    #df_tweets_trump['sentiment_score'] = df_tweets_trump['comment_body'].apply(analyze_tweet_sentiment)\n",
    "\n",
    "# Add sentiment output to parent dataframe\n",
    "#df_parquet_results_trump['sentiment'] = df_tweets_trump['sentiment_score']\n",
    "\n"
   ]
  },
  {
   "cell_type": "code",
   "execution_count": null,
   "id": "3e6ce372",
   "metadata": {},
   "outputs": [],
   "source": [
    " # Apply Sentiment labels to Biden Data       \n",
    "#if __name__ == \"__main__\":\n",
    "    # Assuming you have a DataFrame named df_tweets with a column 'text' containing tweet text\n",
    "    #df_tweets_biden = df_parquet_results_biden[['comment_body']]\n",
    "    # Analyze sentiment for each tweet in the DataFrame\n",
    "    #df_tweets_biden['sentiment_score'] = df_tweets_biden['comment_body'].apply(analyze_tweet_sentiment)\n",
    "\n",
    "# Add sentiment output to parent dataframe\n",
    "#df_parquet_results_biden['sentiment'] = df_tweets_biden['sentiment_score']\n"
   ]
  },
  {
   "cell_type": "markdown",
   "id": "1d8de509",
   "metadata": {},
   "source": [
    "## Trump"
   ]
  },
  {
   "cell_type": "code",
   "execution_count": null,
   "id": "7e6888f0",
   "metadata": {
    "tags": []
   },
   "outputs": [],
   "source": [
    "# Examine Trump Sentiment distribution\n",
    "df_parquet_results_trump['sentiment'].value_counts()"
   ]
  },
  {
   "cell_type": "code",
   "execution_count": null,
   "id": "f86bcf2a",
   "metadata": {
    "tags": []
   },
   "outputs": [],
   "source": [
    "# look at sample of tweets for negative sentiment\n",
    "df_parquet_results_trump[df_parquet_results_trump['sentiment'] < 0].head(5)"
   ]
  },
  {
   "cell_type": "code",
   "execution_count": null,
   "id": "bd39d549",
   "metadata": {
    "tags": []
   },
   "outputs": [],
   "source": [
    "# look at sample of tweets for neutral sentiment\n",
    "df_parquet_results_trump[df_parquet_results_trump['sentiment'] == 0].head(5)"
   ]
  },
  {
   "cell_type": "code",
   "execution_count": null,
   "id": "d20e08ee",
   "metadata": {
    "tags": []
   },
   "outputs": [],
   "source": [
    "# look at sample of tweets for positive sentiment\n",
    "df_parquet_results_trump[df_parquet_results_trump['sentiment'] > 0].head(5)"
   ]
  },
  {
   "cell_type": "code",
   "execution_count": null,
   "id": "292cc4ee",
   "metadata": {
    "tags": []
   },
   "outputs": [],
   "source": [
    "plt.hist(df_parquet_results_trump['sentiment'], bins=30, edgecolor='black')\n",
    "\n",
    "# Adding labels\n",
    "plt.xlabel('Sentiment Score')\n",
    "plt.ylabel('Frequency')\n",
    "plt.title('Distribution of Sentiment Scores for Trump')\n",
    "\n",
    "# Show plot\n",
    "plt.savefig('TrumpSentDist.png')"
   ]
  },
  {
   "cell_type": "markdown",
   "id": "12cac621",
   "metadata": {},
   "source": [
    "## Biden"
   ]
  },
  {
   "cell_type": "code",
   "execution_count": null,
   "id": "d6597b60",
   "metadata": {
    "tags": []
   },
   "outputs": [],
   "source": [
    "# Examine Biden Sentiment distribution\n",
    "df_parquet_results_biden['sentiment'].value_counts()"
   ]
  },
  {
   "cell_type": "code",
   "execution_count": null,
   "id": "509c77de",
   "metadata": {
    "tags": []
   },
   "outputs": [],
   "source": [
    "# look at sample of tweets for negative sentiment\n",
    "df_parquet_results_biden[df_parquet_results_biden['sentiment'] < 0].head(5)"
   ]
  },
  {
   "cell_type": "code",
   "execution_count": null,
   "id": "20dce457",
   "metadata": {
    "tags": []
   },
   "outputs": [],
   "source": [
    "# look at sample of tweets for neutral sentiment\n",
    "df_parquet_results_biden[df_parquet_results_biden['sentiment'] == 0].head(5)"
   ]
  },
  {
   "cell_type": "code",
   "execution_count": null,
   "id": "d184797d",
   "metadata": {
    "tags": []
   },
   "outputs": [],
   "source": [
    "# look at sample of tweets for positive sentiment\n",
    "df_parquet_results_biden[df_parquet_results_biden['sentiment'] > 0].head(5)"
   ]
  },
  {
   "cell_type": "code",
   "execution_count": null,
   "id": "30f58aa4",
   "metadata": {
    "tags": []
   },
   "outputs": [],
   "source": [
    "plt.hist(df_parquet_results_biden['sentiment'], bins=30, edgecolor='black')\n",
    "\n",
    "# Adding labels\n",
    "plt.xlabel('Sentiment Score')\n",
    "plt.ylabel('Frequency')\n",
    "plt.title('Distribution of Sentiment Scores for Biden')\n",
    "\n",
    "# Show plot\n",
    "plt.savefig('BidenSentDist.png')"
   ]
  },
  {
   "cell_type": "markdown",
   "id": "54e0384b",
   "metadata": {},
   "source": [
    "## Preliminary Location Maps of Social Media Activity"
   ]
  },
  {
   "cell_type": "code",
   "execution_count": null,
   "id": "43d17055",
   "metadata": {},
   "outputs": [],
   "source": [
    "# Color Sentiment on Scale from Blue to Red going dark to light as it approaches neutral\n",
    "\n",
    "# Overlappint popular cities\n",
    "trump_cities = []\n",
    "biden_cities = []\n",
    "\n",
    "# Plot sentiment for cities\n",
    "\n"
   ]
  },
  {
   "cell_type": "code",
   "execution_count": null,
   "id": "823a470b-897c-4ee4-8c73-91797cd5dd95",
   "metadata": {},
   "outputs": [],
   "source": [
    "df_combined = pd.concat([df_parquet_results_biden, df_parquet_results_trump], ignore_index=True)"
   ]
  },
  {
   "cell_type": "code",
   "execution_count": null,
   "id": "4ac638a3-e39f-464a-9d5d-e62610c83c20",
   "metadata": {},
   "outputs": [],
   "source": [
    "df_combined ['sentiment_category'] = df_combined['sentiment'].apply(lambda x: 'negative' if x < 0 else ('positive' if x > 0 else 'neutral'))"
   ]
  },
  {
   "cell_type": "code",
   "execution_count": null,
   "id": "69094ddf-5b13-4c09-b079-c8b3eb8ef37d",
   "metadata": {},
   "outputs": [],
   "source": [
    "import boto3\n",
    "\n",
    "# Specify the S3 bucket name\n",
    "bucket_name = '508group'  \n",
    "\n",
    "# Specify the file name in S3\n",
    "file_name = 'df_combined.csv'\n",
    "\n",
    "# Write DataFrame to a CSV file\n",
    "df_combined.to_csv(file_name, index=False)\n",
    "\n",
    "# Create an S3 client\n",
    "s3 = boto3.client('s3')\n",
    "\n",
    "# Upload CSV file to S3\n",
    "with open(file_name, \"rb\") as f:\n",
    "    s3.upload_fileobj(f, bucket_name, file_name)\n",
    "\n",
    "print(f\"DataFrame saved as {file_name} in S3 bucket: {bucket_name}\")"
   ]
  },
  {
   "cell_type": "markdown",
   "id": "77687906",
   "metadata": {},
   "source": [
    "# Data Bias"
   ]
  },
  {
   "cell_type": "markdown",
   "id": "ec17b181",
   "metadata": {},
   "source": [
    "## Prepare Dataset for Bias Analysis"
   ]
  },
  {
   "cell_type": "code",
   "execution_count": null,
   "id": "67164568",
   "metadata": {},
   "outputs": [],
   "source": [
    "#import boto3\n",
    "#import sagemaker\n",
    "#import pandas as pd\n",
    "\n",
    "#sess = sagemaker.Session()\n",
    "#bucket = sess.default_bucket()\n",
    "#role = sagemaker.get_execution_role()\n",
    "#region = boto3.Session().region_name\n",
    "#account_id = boto3.client(\"sts\").get_caller_identity().get(\"Account\")\n",
    "\n",
    "#sm = boto3.Session().client(service_name=\"sagemaker\", region_name=region)\n",
    "\n",
    "#from pyathena import connect\n",
    "\n",
    "#s3_staging_dir = \"s3://{0}/athena/staging\".format(bucket)\n",
    "#database_name = \"dbpoliticpulsecomment\"\n",
    "#conn = connect(region_name=region, s3_staging_dir=s3_staging_dir)\n",
    "\n",
    "#from textblob import TextBlob\n",
    "\n",
    "#def analyze_tweet_sentiment(tweet_text):\n",
    "    #analysis = TextBlob(tweet_text)\n",
    "    # Return sentiment polarity (ranging from -1 to 1)\n",
    "    #return analysis.sentiment.polarity\n",
    "\n",
    "\n",
    "# **********************DELETE PORTION ON THE TOP WHEN IT'S FINAL*************************\n",
    "\n"
   ]
  },
  {
   "cell_type": "markdown",
   "id": "282331c6-f82c-471c-b7b1-812aa165c08b",
   "metadata": {},
   "source": [
    "# We can just combine the df_parquet_results_biden and df_parquet_results_trump versus calling another query and running sentiment analysis again. Saves computational time."
   ]
  },
  {
   "cell_type": "code",
   "execution_count": null,
   "id": "1d1b4af7",
   "metadata": {},
   "outputs": [],
   "source": [
    "#table_comment = \"comment\"\n",
    "\n",
    "#statement = \"\"\"SELECT comment_body, source, candidatepoll FROM {}.{}\n",
    "#WHERE candidatepoll is not Null\n",
    "    #\"\"\".format(\n",
    "    #database_name, table_comment\n",
    "#)\n",
    "#df_combined = pd.read_sql(statement, conn)\n",
    "#df_combined = df_combined.drop_duplicates()\n",
    "#df_combined.info()"
   ]
  },
  {
   "cell_type": "code",
   "execution_count": null,
   "id": "cf784dcc",
   "metadata": {},
   "outputs": [],
   "source": [
    "# Run sentiment analysis textblob for all candidate\n",
    "#if __name__ == \"__main__\":\n",
    "    # Assuming you have a DataFrame named df_comment with a column 'text' containing tweet text\n",
    "    #df_comment_all = df_combined[['comment_body']]\n",
    "    # Analyze sentiment for each tweet in the DataFrame\n",
    "    #df_comment_all['sentiment_score'] = df_combined['comment_body'].apply(analyze_tweet_sentiment)\n",
    "\n",
    "# Add sentiment output to parent dataframe\n",
    "#df_combined['sentiment'] = df_comment_all['sentiment_score']\n"
   ]
  },
  {
   "cell_type": "code",
   "execution_count": null,
   "id": "58f92e7c-103e-46b9-8747-66463be6c76b",
   "metadata": {},
   "outputs": [],
   "source": [
    "df_combined = pd.concat([df_parquet_results_biden, df_parquet_results_trump], ignore_index=True)"
   ]
  },
  {
   "cell_type": "code",
   "execution_count": null,
   "id": "642e8f05-a6b0-4ca0-8d3f-f8fa4e6dde64",
   "metadata": {},
   "outputs": [],
   "source": [
    "df_combined ['sentiment_category'] = df_combined['sentiment'].apply(lambda x: 'negative' if x < 0 else ('positive' if x > 0 else 'neutral'))"
   ]
  },
  {
   "cell_type": "code",
   "execution_count": null,
   "id": "13e970ff",
   "metadata": {},
   "outputs": [],
   "source": [
    "import seaborn as sns\n",
    "sns.countplot(data=df_combined, x=\"sentiment_category\", hue=\"candidatepoll\")\n",
    "plt.title('Count Plot for Outcome Variable')  # Fixed typo here\n",
    "plt.xlabel('Sentiment Categories for Candidates')\n",
    "plt.ylabel('Count')\n",
    "plt.show()  # Added to display the plot"
   ]
  },
  {
   "cell_type": "markdown",
   "id": "55a32ba0-ee44-4b3c-b7a4-5e2741bb31a4",
   "metadata": {},
   "source": [
    "# Feature Engineering and Data Preprocessing"
   ]
  },
  {
   "cell_type": "markdown",
   "id": "aaa4692b-4aad-466b-91fe-8e65c47f3a9e",
   "metadata": {},
   "source": [
    "## Create Outcome Labels: 6 Outcomes"
   ]
  },
  {
   "cell_type": "code",
   "execution_count": null,
   "id": "b673538e-f691-4b56-95e9-937829e8ffa3",
   "metadata": {
    "tags": []
   },
   "outputs": [],
   "source": [
    "df_combined['SentimentOutcome'] = df_combined['candidatepoll']+\"_\"+df_combined['sentiment_category']"
   ]
  },
  {
   "cell_type": "code",
   "execution_count": null,
   "id": "ee9ffae7-888b-4d64-aa97-131bf1eb21a9",
   "metadata": {},
   "outputs": [],
   "source": [
    "# Create count plot\n",
    "sns.countplot(x=df_combined['SentimentOutcome'])\n",
    "\n",
    "# Add title and labels\n",
    "plt.title('Count Plot for Outcome Variable')\n",
    "plt.xlabel('Sentiment Categories for Candidates')\n",
    "plt.ylabel('Count')\n",
    "plt.xticks(rotation=45)"
   ]
  },
  {
   "cell_type": "markdown",
   "id": "84421c4f-25fe-4589-8f80-0cd668dd8849",
   "metadata": {},
   "source": [
    "# Location Data: Top 5 States"
   ]
  },
  {
   "cell_type": "code",
   "execution_count": null,
   "id": "cc93ba03-f54f-433e-9ce4-296604c546b3",
   "metadata": {},
   "outputs": [],
   "source": [
    "# Read csv US City from S3 ---> PLANNING TO MOVE IT IN .py AND USE PREPROCESSING JOB FROM SAGEMAKER\n",
    "#git_city_loc = \"https://raw.githubusercontent.com/HNStaggs/ADS508_GroupProject/main/uscities.csv\"\n",
    "#df_city = pd.read_csv(git_city_loc)\n",
    "\n",
    "#df_combined['user_location'].head(5)"
   ]
  },
  {
   "cell_type": "code",
   "execution_count": null,
   "id": "eff4924d-fc18-430c-aa0b-b9b631d68ac4",
   "metadata": {},
   "outputs": [],
   "source": [
    "# PREFER TO RUN IT IN .py with SageMaker processing job\n",
    "# TRY IT WITH 100 RECORD ONLY\n",
    "\n",
    "\n",
    "# Create master location table\n",
    "#master_location = df_city\n",
    "#df_combined = df_combined.head(100)\n",
    "\n",
    "# Function to map city and state name to state ID\n",
    "#def map_state_id(city):\n",
    "#    for index, loc in master_location.iterrows():\n",
    "#        if city.lower() == loc['city'].lower() or city.lower() == loc['state_name'].lower():\n",
    "#            return loc['state_id']\n",
    "#    return None\n",
    "\n",
    "# Apply mapping function to user location table\n",
    "#df_combined['State ID'] = df_combined['user_location'].apply(map_state_id)\n",
    "\n",
    "# Display the user location table with State ID column added\n"
   ]
  },
  {
   "cell_type": "code",
   "execution_count": null,
   "id": "20e0ebba-8d83-44e3-bc84-1dfe33c7964d",
   "metadata": {},
   "outputs": [],
   "source": []
  },
  {
   "cell_type": "markdown",
   "id": "06411d81-5909-4dc8-8702-325a9b772d90",
   "metadata": {},
   "source": [
    "# Create Final Dataset of Features"
   ]
  },
  {
   "cell_type": "code",
   "execution_count": null,
   "id": "54665f7e-f605-4861-82b2-ecab8e4ca3b0",
   "metadata": {
    "tags": []
   },
   "outputs": [],
   "source": [
    "from collections import defaultdict\n",
    " \n",
    "# Create ID variable\n",
    "id_list = df_combined.index\n",
    "temp = defaultdict(lambda: len(temp))\n",
    "id_relabel = [temp[id] for id in id_list]\n",
    "df_combined['review_id'] = pd.to_numeric(id_relabel)+1\n",
    "\n",
    "# Create final dataset with outcome variable and comment body\n",
    "df_final = df_combined[['review_id', 'comment_body', 'user_location', 'source', 'SentimentOutcome']]"
   ]
  },
  {
   "cell_type": "code",
   "execution_count": null,
   "id": "8c9809a7-e730-4a1e-80d9-15f5fee6b522",
   "metadata": {
    "tags": []
   },
   "outputs": [],
   "source": [
    "df_final.head()"
   ]
  },
  {
   "cell_type": "markdown",
   "id": "7b874891-1628-4d9b-8e17-73dd49b7d809",
   "metadata": {},
   "source": [
    "# Store Final Data in S3 Bucket"
   ]
  },
  {
   "cell_type": "code",
   "execution_count": null,
   "id": "3baae6b5-2bf2-4107-9be8-2912bd63b3f9",
   "metadata": {
    "tags": []
   },
   "outputs": [],
   "source": [
    "#Create folder\n",
    "!mkdir -p ./data-clarify/"
   ]
  },
  {
   "cell_type": "code",
   "execution_count": null,
   "id": "a979e7da-a860-44c9-87d9-70df459c79df",
   "metadata": {
    "tags": []
   },
   "outputs": [],
   "source": [
    "# chatgpt\n",
    "# list folder\n",
    "import os\n",
    "\n",
    "# Get the current working directory\n",
    "current_directory = \"/home/sagemaker-user/ADS508_GroupProject\""
   ]
  },
  {
   "cell_type": "code",
   "execution_count": null,
   "id": "7010df4d-c35c-4375-a59e-ac5fe56189bf",
   "metadata": {
    "tags": []
   },
   "outputs": [],
   "source": [
    "# All Data\n",
    "path = \"./data-clarify/tweet_nyt_combined.csv\"\n",
    "df_final.to_csv(path, index=False, header=True)"
   ]
  },
  {
   "cell_type": "code",
   "execution_count": null,
   "id": "352d1b7d-e37e-444e-a2d7-5de991842d2c",
   "metadata": {
    "tags": []
   },
   "outputs": [],
   "source": [
    "# Create folder for specific timestamp\n",
    "import time\n",
    "\n",
    "timestamp = int(time.time())\n",
    "\n",
    "all_data_s3_uri = sess.upload_data(bucket=bucket, key_prefix=\"ADS508_project/bias-detection-{}\".format(timestamp), path=path)\n",
    "all_data_s3_uri\n"
   ]
  },
  {
   "cell_type": "code",
   "execution_count": null,
   "id": "0ed887b0-2c3e-4454-a55c-96f5789c892b",
   "metadata": {
    "tags": []
   },
   "outputs": [],
   "source": [
    "!aws s3 ls $all_data_s3_uri"
   ]
  },
  {
   "cell_type": "markdown",
   "id": "b2eff174-b653-49d9-9344-1463dd421d40",
   "metadata": {},
   "source": [
    "# Text Preprocessing with DistilBERT and Train/Test/Split"
   ]
  },
  {
   "cell_type": "code",
   "execution_count": null,
   "id": "e8edf8b5-edf0-4546-8518-528751c3e03d",
   "metadata": {},
   "outputs": [],
   "source": [
    "#!pip install transformers\n",
    "import transformers\n",
    "import tensorflow as tf\n",
    "import collections\n",
    "import json\n",
    "import os\n",
    "import pandas as pd\n",
    "import csv\n",
    "from transformers import DistilBertTokenizer\n",
    "tokenizer = DistilBertTokenizer.from_pretrained('distilbert-base-uncased')"
   ]
  },
  {
   "cell_type": "code",
   "execution_count": null,
   "id": "381d5c31-abc5-4765-8a1f-ee38483d67a0",
   "metadata": {
    "tags": []
   },
   "outputs": [],
   "source": [
    "REVIEW_BODY_COLUMN = \"comment_body\"\n",
    "\n",
    "# Update IDs to start from 1\n",
    "from collections import defaultdict\n",
    " \n",
    "REVIEW_ID_COLUMN = \"review_id\"\n",
    "\n",
    "LABEL_COLUMN = \"SentimentOutcome\"\n",
    "LABEL_VALUES = ['Bidennegative', 'Bidenneutral', 'Bidenpositive', 'Trumpnegative', 'Trumpneutral', 'Trumppositive']\n"
   ]
  },
  {
   "cell_type": "code",
   "execution_count": null,
   "id": "736c80d4-7149-4503-b0fe-3d29c4cb638c",
   "metadata": {
    "tags": []
   },
   "outputs": [],
   "source": [
    "#!pygmentize preprocess-scikit-text-to-bert-feature-store.py"
   ]
  },
  {
   "cell_type": "code",
   "execution_count": null,
   "id": "3945fbb2-b1b0-4773-9bfc-48ae5634abc7",
   "metadata": {
    "tags": []
   },
   "outputs": [],
   "source": [
    "import time\n",
    "from smexperiments.experiment import Experiment\n",
    "\n",
    "timestamp = int(time.time())\n",
    "\n",
    "experiment = Experiment.create(\n",
    "    experiment_name=\"PoliticPulse-BERT-Experiment-{}\".format(timestamp),\n",
    "    description=\"Politic Pulse BERT Experiment\",\n",
    "    sagemaker_boto_client=sm,\n",
    ")\n",
    "\n",
    "experiment_name = experiment.experiment_name\n",
    "print(\"Experiment name: {}\".format(experiment_name))"
   ]
  },
  {
   "cell_type": "code",
   "execution_count": null,
   "id": "2f6cec8e-6509-4b64-8bf8-b582a76ab154",
   "metadata": {
    "tags": []
   },
   "outputs": [],
   "source": [
    "from smexperiments.trial import Trial\n",
    "\n",
    "trial = Trial.create(\n",
    "    trial_name=\"trial-{}\".format(timestamp), experiment_name=experiment_name, sagemaker_boto_client=sm\n",
    ")\n",
    "\n",
    "trial_name = trial.trial_name\n",
    "print(\"Trial name: {}\".format(trial_name))"
   ]
  },
  {
   "cell_type": "code",
   "execution_count": null,
   "id": "1fc1b599-0811-4887-b565-52c32bfd50d6",
   "metadata": {
    "tags": []
   },
   "outputs": [],
   "source": [
    "experiment_config = {\n",
    "    \"ExperimentName\": experiment_name,\n",
    "    \"TrialName\": trial_name,\n",
    "    \"TrialComponentDisplayName\": \"prepare\",\n",
    "}"
   ]
  },
  {
   "cell_type": "code",
   "execution_count": null,
   "id": "36309f02-f7ec-4848-9198-a95d5398a403",
   "metadata": {
    "tags": []
   },
   "outputs": [],
   "source": [
    "print(experiment_name)\n",
    "%store experiment_name"
   ]
  },
  {
   "cell_type": "code",
   "execution_count": null,
   "id": "54df1a80-1c23-4886-8d1e-38ae6d7b951e",
   "metadata": {
    "tags": []
   },
   "outputs": [],
   "source": [
    "print(trial_name)\n",
    "%store trial_name"
   ]
  },
  {
   "cell_type": "code",
   "execution_count": null,
   "id": "13a40bce-bc83-4332-b3ae-ac869e7cb256",
   "metadata": {
    "tags": []
   },
   "outputs": [],
   "source": [
    "featurestore_runtime = boto3.Session().client(service_name=\"sagemaker-featurestore-runtime\", region_name=region)"
   ]
  },
  {
   "cell_type": "code",
   "execution_count": null,
   "id": "31f79fb8-a43f-4837-9ec1-aa2ca3cedf97",
   "metadata": {
    "tags": []
   },
   "outputs": [],
   "source": [
    "feature_store_offline_prefix = \"reviews-feature-store-\" + str(timestamp)\n",
    "\n",
    "print(feature_store_offline_prefix)"
   ]
  },
  {
   "cell_type": "code",
   "execution_count": null,
   "id": "4eb24059-d373-4c55-8c91-f515d9566eac",
   "metadata": {
    "tags": []
   },
   "outputs": [],
   "source": [
    "feature_group_name = \"reviews-feature-group-\" + str(timestamp)\n",
    "\n",
    "print(feature_group_name)"
   ]
  },
  {
   "cell_type": "code",
   "execution_count": null,
   "id": "b49828b6-3b1a-4c1a-b34d-adab6ebf95f0",
   "metadata": {
    "tags": []
   },
   "outputs": [],
   "source": [
    "from sagemaker.feature_store.feature_definition import (\n",
    "    FeatureDefinition,\n",
    "    FeatureTypeEnum,\n",
    ")\n",
    "\n",
    "feature_definitions = [\n",
    "    FeatureDefinition(feature_name=\"input_ids\", feature_type=FeatureTypeEnum.STRING),\n",
    "    FeatureDefinition(feature_name=\"input_mask\", feature_type=FeatureTypeEnum.STRING),\n",
    "    FeatureDefinition(feature_name=\"segment_ids\", feature_type=FeatureTypeEnum.STRING),\n",
    "    FeatureDefinition(feature_name=\"label_id\", feature_type=FeatureTypeEnum.INTEGRAL),\n",
    "    FeatureDefinition(feature_name=\"review_id\", feature_type=FeatureTypeEnum.STRING),\n",
    "    FeatureDefinition(feature_name=\"date\", feature_type=FeatureTypeEnum.STRING),\n",
    "    FeatureDefinition(feature_name=\"label\", feature_type=FeatureTypeEnum.INTEGRAL),\n",
    "    #    FeatureDefinition(feature_name='review_body', feature_type=FeatureTypeEnum.STRING)\n",
    "]"
   ]
  },
  {
   "cell_type": "code",
   "execution_count": null,
   "id": "00815937-f41d-4029-80fc-2633d7faf421",
   "metadata": {
    "tags": []
   },
   "outputs": [],
   "source": [
    "from sagemaker.feature_store.feature_group import FeatureGroup\n",
    "\n",
    "feature_group = FeatureGroup(name=feature_group_name, feature_definitions=feature_definitions, sagemaker_session=sess)\n",
    "\n",
    "print(feature_group)"
   ]
  },
  {
   "cell_type": "code",
   "execution_count": null,
   "id": "63684d77-d87b-4f50-8a77-bd5baa355fa5",
   "metadata": {
    "tags": []
   },
   "outputs": [],
   "source": [
    "processing_instance_type = \"ml.c5.xlarge\"\n",
    "processing_instance_count = 2\n",
    "train_split_percentage = 0.90\n",
    "validation_split_percentage = 0.05\n",
    "test_split_percentage = 0.05\n",
    "balance_dataset = True\n",
    "max_seq_length = 64"
   ]
  },
  {
   "cell_type": "code",
   "execution_count": null,
   "id": "4640ed54-5f50-4717-a215-d082604a7a61",
   "metadata": {
    "tags": []
   },
   "outputs": [],
   "source": [
    "from sagemaker.sklearn.processing import SKLearnProcessor\n",
    "\n",
    "processor = SKLearnProcessor(\n",
    "    framework_version=\"0.23-1\",\n",
    "    role=role,\n",
    "    instance_type=processing_instance_type,\n",
    "    instance_count=processing_instance_count,\n",
    "    env={\"AWS_DEFAULT_REGION\": region},\n",
    "    max_runtime_in_seconds=7200,\n",
    ")"
   ]
  },
  {
   "cell_type": "markdown",
   "id": "a0841423-eb10-4d01-aa12-7a1cde03e94e",
   "metadata": {},
   "source": [
    "# Need to find preprocess file and update to our destination location"
   ]
  },
  {
   "cell_type": "code",
   "execution_count": null,
   "id": "41504cb5-b609-473e-9d7e-594632682752",
   "metadata": {
    "tags": []
   },
   "outputs": [],
   "source": [
    "from sagemaker.processing import ProcessingInput, ProcessingOutput\n",
    "\n",
    "processor.run(\n",
    "    code=\"preprocess-scikit-text-to-bert-feature-store.py\",\n",
    "    inputs=[\n",
    "        ProcessingInput(\n",
    "            input_name=\"raw-input-data\",\n",
    "            source=all_data_s3_uri,\n",
    "            destination=\"/opt/ml/processing/input/data/\",\n",
    "            s3_data_distribution_type=\"ShardedByS3Key\",\n",
    "        )\n",
    "    ],\n",
    "    outputs=[\n",
    "        ProcessingOutput(\n",
    "            output_name=\"bert-train\", s3_upload_mode=\"EndOfJob\", source=\"/opt/ml/processing/output/bert/train\"\n",
    "        ),\n",
    "        ProcessingOutput(\n",
    "            output_name=\"bert-validation\",\n",
    "            s3_upload_mode=\"EndOfJob\",\n",
    "            source=\"/opt/ml/processing/output/bert/validation\",\n",
    "        ),\n",
    "        ProcessingOutput(\n",
    "            output_name=\"bert-test\", s3_upload_mode=\"EndOfJob\", source=\"/opt/ml/processing/output/bert/test\"\n",
    "        ),\n",
    "    ],\n",
    "    arguments=[\n",
    "        \"--train-split-percentage\",\n",
    "        str(train_split_percentage),\n",
    "        \"--validation-split-percentage\",\n",
    "        str(validation_split_percentage),\n",
    "        \"--test-split-percentage\",\n",
    "        str(test_split_percentage),\n",
    "        \"--max-seq-length\",\n",
    "        str(max_seq_length),\n",
    "        \"--balance-dataset\",\n",
    "        str(balance_dataset),\n",
    "        \"--feature-store-offline-prefix\",\n",
    "        str(feature_store_offline_prefix),\n",
    "        \"--feature-group-name\",\n",
    "        str(feature_group_name),\n",
    "    ],\n",
    "    experiment_config=experiment_config,\n",
    "    logs=True,\n",
    "    wait=False,\n",
    ")"
   ]
  },
  {
   "cell_type": "markdown",
   "id": "b403f295-bcd7-4efd-aa21-fafe515c182c",
   "metadata": {},
   "source": [
    "# Tranformation Pipeline"
   ]
  },
  {
   "cell_type": "code",
   "execution_count": null,
   "id": "6ca7ce46-1ded-4abd-9ff6-a91f6d4f5b22",
   "metadata": {},
   "outputs": [],
   "source": [
    "cats_list = ['user_location', 'source']\n",
    "\n",
    "# Create a categorical processing pipeline that uses one-hot encoding, dropping binary columns.\n",
    "cat_pipe = Pipeline([('encoder', OneHotEncoder(drop='if_binary'))])\n",
    "\n",
    "# Combine pipeline steps\n",
    "all_pipe = make_pipeline(ColumnTransformer([('cat', cat_pipe, cats_list)],\n",
    "                                          verbose_feature_names_out=False))\n",
    "# Verify steps\n",
    "all_pipe.named_steps"
   ]
  },
  {
   "cell_type": "markdown",
   "id": "9d957703-298d-4f8a-927b-31215c4e90d5",
   "metadata": {},
   "source": [
    "# Combine Transformed Features with BERT Transformed Text Data"
   ]
  },
  {
   "cell_type": "code",
   "execution_count": null,
   "id": "e098995d-47c2-4f9b-813e-31dda3852fcd",
   "metadata": {},
   "outputs": [],
   "source": []
  },
  {
   "cell_type": "markdown",
   "id": "2a9f15a3-42b3-4f10-aac0-0514ef958492",
   "metadata": {},
   "source": [
    "# Make New Folders with Clean Datasets"
   ]
  },
  {
   "cell_type": "code",
   "execution_count": null,
   "id": "85799855",
   "metadata": {},
   "outputs": [],
   "source": [
    "#Create folder\n",
    "#!mkdir -p ./data-clarify/"
   ]
  },
  {
   "cell_type": "code",
   "execution_count": null,
   "id": "435556bf",
   "metadata": {},
   "outputs": [],
   "source": [
    "# chatgpt\n",
    "# list folder\n",
    "#import os\n",
    "\n",
    "# Get the current working directory\n",
    "#current_directory = \"/home/sagemaker-user/ADS508_GroupProject\"\n",
    "#spec_dir = \"/home/sagemaker-user/ADS508_GroupProject/data-clarify\"\n",
    "\n",
    "# List the contents of the directory\n",
    "#for item in os.listdir(spec_dir):\n",
    "    #full_path = os.path.join(spec_dir, item)\n",
    "    #if os.path.isdir(full_path):\n",
    "        #print(f\"Directory: {item}\")\n",
    "    #else:\n",
    "        #print(f\"File: {item}\")"
   ]
  },
  {
   "cell_type": "code",
   "execution_count": null,
   "id": "12bd42a8",
   "metadata": {},
   "outputs": [],
   "source": [
    "# All Data\n",
    "#path = \"./data-clarify/tweet_nyt_combined.csv\"\n",
    "#df_combined.to_csv(path, index=False, header=True)"
   ]
  },
  {
   "cell_type": "code",
   "execution_count": null,
   "id": "2433678f",
   "metadata": {},
   "outputs": [],
   "source": [
    "# Balance the Dataset by candidate and Sentiment score\n",
    "#import matplotlib.pyplot as plt\n",
    "#import seaborn as sns\n",
    "\n",
    "#df_grouped_by = df_combined.groupby([\"candidatepoll\", \"sentiment_category\"])[[\"candidatepoll\", \"sentiment_category\"]]\n",
    "#df_balanced = df_grouped_by.apply(lambda x: x.sample(df_grouped_by.size().min()).reset_index(drop=True))\n",
    "#df_balanced.shape\n",
    "\n",
    "#sns.countplot(data=df_balanced, x=\"sentiment_category\", hue=\"candidatepoll\")"
   ]
  },
  {
   "cell_type": "code",
   "execution_count": null,
   "id": "be9d7834",
   "metadata": {},
   "outputs": [],
   "source": [
    "#path_balance = \"./data-clarify/combine_balance.csv\"\n",
    "#df_balanced.to_csv(path_balance, index=False, header=True)\n",
    "\n",
    "#path_jsonlines = \"./data-clarify/combine_balance.jsonl\"\n",
    "#df_balanced.to_json(path_or_buf=path_jsonlines, orient=\"records\", lines=True)"
   ]
  },
  {
   "cell_type": "markdown",
   "id": "7312dd63",
   "metadata": {},
   "source": [
    "### Upload Combined and Balance Data to S3"
   ]
  },
  {
   "cell_type": "code",
   "execution_count": null,
   "id": "67d4c37d",
   "metadata": {},
   "outputs": [],
   "source": [
    "# Create folder for specific timestamp\n",
    "import time\n",
    "\n",
    "timestamp = int(time.time())\n",
    "\n",
    "bias_data_s3_uri = sess.upload_data(bucket=bucket, key_prefix=\"ADS508_project/bias-detection-{}\".format(timestamp), path=path)\n",
    "bias_data_s3_uri"
   ]
  },
  {
   "cell_type": "code",
   "execution_count": null,
   "id": "9b272d33",
   "metadata": {},
   "outputs": [],
   "source": [
    "!aws s3 ls $bias_data_s3_uri"
   ]
  },
  {
   "cell_type": "code",
   "execution_count": null,
   "id": "8d52eb49",
   "metadata": {},
   "outputs": [],
   "source": [
    "balanced_bias_data_s3_uri = sess.upload_data(\n",
    "    bucket=bucket, key_prefix=\"ADS508_project/bias-detection-{}\".format(timestamp), path=path_balance\n",
    ")\n",
    "balanced_bias_data_s3_uri"
   ]
  },
  {
   "cell_type": "code",
   "execution_count": null,
   "id": "1b3b3383",
   "metadata": {},
   "outputs": [],
   "source": [
    "!aws s3 ls $balanced_bias_data_s3_uri"
   ]
  },
  {
   "cell_type": "code",
   "execution_count": null,
   "id": "94a6bb3d",
   "metadata": {},
   "outputs": [],
   "source": [
    "balanced_bias_data_jsonlines_s3_uri = sess.upload_data(\n",
    "    bucket=bucket, key_prefix=\"ADS508_project/bias-detection-{}\".format(timestamp), path=path_jsonlines\n",
    ")\n",
    "balanced_bias_data_jsonlines_s3_uri"
   ]
  },
  {
   "cell_type": "code",
   "execution_count": null,
   "id": "316ed7f1",
   "metadata": {},
   "outputs": [],
   "source": [
    "!aws s3 ls $balanced_bias_data_jsonlines_s3_uri"
   ]
  },
  {
   "cell_type": "markdown",
   "id": "b601c5e3",
   "metadata": {},
   "source": [
    "## Run Data Bias Analysis"
   ]
  },
  {
   "cell_type": "code",
   "execution_count": null,
   "id": "e829b584",
   "metadata": {},
   "outputs": [],
   "source": [
    "#!pip install --force-reinstall -q smclarify\n",
    "\n",
    "from smclarify.bias import report\n",
    "from typing import Dict\n",
    "from collections import defaultdict\n",
    "import pandas as pd\n",
    "import seaborn as sns\n",
    "import matplotlib.pyplot as plt"
   ]
  },
  {
   "cell_type": "code",
   "execution_count": null,
   "id": "11c9cf76",
   "metadata": {},
   "outputs": [],
   "source": [
    "!aws s3 cp $bias_data_s3_uri ./data-clarify/"
   ]
  },
  {
   "cell_type": "code",
   "execution_count": null,
   "id": "eee23cae",
   "metadata": {},
   "outputs": [],
   "source": [
    "!aws s3 cp $balanced_bias_data_s3_uri ./data-clarify/"
   ]
  },
  {
   "cell_type": "markdown",
   "id": "94295cea",
   "metadata": {},
   "source": [
    "### Calculate Bias Metrics for all Data\n",
    "#### might not needed from ===>"
   ]
  },
  {
   "cell_type": "markdown",
   "id": "533ede4d",
   "metadata": {},
   "source": [
    "facet_column = report.FacetColumn(name=\"candidatepoll\")\n",
    "\n",
    "label_column = report.LabelColumn(\n",
    "    name=\"sentiment_category\", \n",
    "    series=df_combined[\"sentiment_category\"],\n",
    "    positive_label_values=[5]\n",
    ")"
   ]
  },
  {
   "cell_type": "code",
   "execution_count": null,
   "id": "36107b89",
   "metadata": {},
   "outputs": [],
   "source": [
    "report.bias_report(\n",
    "    df=df_combined, \n",
    "    facet_column=facet_column, \n",
    "    label_column=label_column, \n",
    "    stage_type=report.StageType.PRE_TRAINING, \n",
    "    metrics=[\"CI\", \"DPL\", \"KL\", \"JS\", \"LP\", \"TVD\", \"KS\"]\n",
    ")"
   ]
  },
  {
   "cell_type": "markdown",
   "id": "4ff466df",
   "metadata": {},
   "source": [
    "### Calculate Bias Metrics for Balanced Data"
   ]
  },
  {
   "cell_type": "code",
   "execution_count": null,
   "id": "d0f57ae7",
   "metadata": {},
   "outputs": [],
   "source": [
    "from smclarify.bias import report\n",
    "\n",
    "facet_column = report.FacetColumn(name=\"candidatepoll\")\n",
    "\n",
    "label_column = report.LabelColumn(\n",
    "    name=\"sentiment_category\", \n",
    "    series=df_balanced[\"sentiment_category\"], \n",
    "    positive_label_values=[5]\n",
    ")"
   ]
  },
  {
   "cell_type": "code",
   "execution_count": null,
   "id": "56e8de4e",
   "metadata": {},
   "outputs": [],
   "source": [
    "report.bias_report(\n",
    "    df=df_balanced, \n",
    "    facet_column=facet_column, \n",
    "    label_column=label_column, \n",
    "    stage_type=report.StageType.PRE_TRAINING, \n",
    "    metrics=[\"CI\", \"DPL\", \"KL\", \"JS\", \"LP\", \"TVD\", \"KS\"]\n",
    ")"
   ]
  },
  {
   "cell_type": "markdown",
   "id": "12bfdb39",
   "metadata": {},
   "source": [
    "#### <=== TO MIGHT NOT NEEDED"
   ]
  },
  {
   "cell_type": "markdown",
   "id": "8dd5b807",
   "metadata": {},
   "source": [
    "### Run Data Bias Analysis (Pre-training)"
   ]
  },
  {
   "cell_type": "code",
   "execution_count": null,
   "id": "577750e2",
   "metadata": {},
   "outputs": [],
   "source": [
    "from sagemaker import clarify\n",
    "\n",
    "clarify_processor = clarify.SageMakerClarifyProcessor(\n",
    "    role=role, \n",
    "    instance_count=1, \n",
    "    instance_type=\"ml.c5.xlarge\", \n",
    "    sagemaker_session=sess\n",
    ")"
   ]
  },
  {
   "cell_type": "markdown",
   "id": "5a3eabcf",
   "metadata": {},
   "source": [
    "#### Pre-Training Bias"
   ]
  },
  {
   "cell_type": "code",
   "execution_count": null,
   "id": "b5defe81",
   "metadata": {},
   "outputs": [],
   "source": [
    "bias_report_output_path = \"s3://{}/ADS508_project/clarify\".format(bucket)\n",
    "\n",
    "bias_data_config = clarify.DataConfig(\n",
    "    s3_data_input_path=bias_data_s3_uri,\n",
    "    s3_output_path=bias_report_output_path,\n",
    "    label=\"sentiment_category\",\n",
    "    headers=df_combined.columns.to_list(),\n",
    "    dataset_type=\"text/csv\",\n",
    ")\n"
   ]
  },
  {
   "cell_type": "code",
   "execution_count": null,
   "id": "b0feb8da",
   "metadata": {},
   "outputs": [],
   "source": [
    "# Trump\n",
    "bias_config = clarify.BiasConfig(\n",
    "    label_values_or_threshold=[5],\n",
    "    facet_name=\"candidatepoll\",\n",
    "    facet_values_or_threshold=[\"Trump\"],\n",
    ")\n",
    "\n",
    "clarify_processor.run_pre_training_bias(\n",
    "    data_config=bias_data_config, \n",
    "    data_bias_config=bias_config, \n",
    "    methods=[\"CI\", \"DPL\", \"KL\", \"JS\", \"LP\", \"TVD\", \"KS\"],\n",
    "    wait=False, \n",
    "    logs=False\n",
    ")\n",
    "\n",
    "run_pre_training_bias_processing_job_name = clarify_processor.latest_job.job_name\n",
    "run_pre_training_bias_processing_job_name\n",
    "\n"
   ]
  },
  {
   "cell_type": "code",
   "execution_count": null,
   "id": "ccc967f6",
   "metadata": {},
   "outputs": [],
   "source": [
    "# Biden\n",
    "bias_config = clarify.BiasConfig(\n",
    "    label_values_or_threshold=[5],\n",
    "    facet_name=\"candidatepoll\",\n",
    "    facet_values_or_threshold=[\"Biden\"],\n",
    ")\n",
    "\n",
    "clarify_processor.run_pre_training_bias(\n",
    "    data_config=bias_data_config, \n",
    "    data_bias_config=bias_config, \n",
    "    methods=[\"CI\", \"DPL\", \"KL\", \"JS\", \"LP\", \"TVD\", \"KS\"],\n",
    "    wait=False, \n",
    "    logs=False\n",
    ")\n",
    "\n",
    "run_pre_training_bias_processing_job_name = clarify_processor.latest_job.job_name\n",
    "run_pre_training_bias_processing_job_name\n"
   ]
  },
  {
   "cell_type": "markdown",
   "id": "4f9f6ec4",
   "metadata": {},
   "source": [
    "#### Download report"
   ]
  },
  {
   "cell_type": "code",
   "execution_count": null,
   "id": "a09c6782",
   "metadata": {},
   "outputs": [],
   "source": [
    "from IPython.core.display import display, HTML\n",
    "\n",
    "display(\n",
    "    HTML(\n",
    "        '<b>Review <a target=\"blank\" href=\"https://console.aws.amazon.com/sagemaker/home?region={}#/processing-jobs/{}\">Processing Job</a></b>'.format(\n",
    "            region, run_pre_training_bias_processing_job_name\n",
    "        )\n",
    "    )\n",
    ")\n",
    "from IPython.core.display import display, HTML\n",
    "\n",
    "display(\n",
    "    HTML(\n",
    "        '<b>Review <a target=\"blank\" href=\"https://console.aws.amazon.com/cloudwatch/home?region={}#logStream:group=/aws/sagemaker/ProcessingJobs;prefix={};streamFilter=typeLogStreamPrefix\">CloudWatch Logs</a> After About 5 Minutes</b>'.format(\n",
    "            region, run_pre_training_bias_processing_job_name\n",
    "        )\n",
    "    )\n",
    ")\n",
    "\n",
    "from IPython.core.display import display, HTML\n",
    "\n",
    "display(\n",
    "    HTML(\n",
    "        '<b>Review <a target=\"blank\" href=\"https://s3.console.aws.amazon.com/s3/buckets/{}/{}/?region={}&tab=overview\">S3 Output Data</a> After The Processing Job Has Completed</b>'.format(\n",
    "            bucket, run_pre_training_bias_processing_job_name, region\n",
    "        )\n",
    "    )\n",
    ")"
   ]
  },
  {
   "cell_type": "code",
   "execution_count": null,
   "id": "1c74ae09",
   "metadata": {},
   "outputs": [],
   "source": [
    "running_processor = sagemaker.processing.ProcessingJob.from_processing_name(\n",
    "    processing_job_name=run_pre_training_bias_processing_job_name, sagemaker_session=sess\n",
    ")\n",
    "\n",
    "processing_job_description = running_processor.describe()\n",
    "\n",
    "print(processing_job_description)"
   ]
  },
  {
   "cell_type": "code",
   "execution_count": null,
   "id": "7aee8468",
   "metadata": {},
   "outputs": [],
   "source": [
    "!aws s3 ls $bias_report_output_path/"
   ]
  },
  {
   "cell_type": "code",
   "execution_count": null,
   "id": "83a98ee3",
   "metadata": {},
   "outputs": [],
   "source": [
    "!aws s3 cp --recursive $bias_report_output_path ./generated_bias_report/"
   ]
  },
  {
   "cell_type": "code",
   "execution_count": null,
   "id": "9329ab05",
   "metadata": {},
   "outputs": [],
   "source": [
    "from IPython.core.display import display, HTML\n",
    "\n",
    "display(HTML('<b>Review <a target=\"blank\" href=\"./generated_bias_report/report.html\">Bias Report</a></b>'))"
   ]
  },
  {
   "cell_type": "code",
   "execution_count": null,
   "id": "f00daf0a",
   "metadata": {},
   "outputs": [],
   "source": []
  },
  {
   "cell_type": "code",
   "execution_count": null,
   "id": "d2f7808b",
   "metadata": {
    "tags": []
   },
   "outputs": [],
   "source": [
    "path = \"./data-clarify/amazon_reviews_us_giftcards_software_videogames.csv\"\n",
    "df.to_csv(path, index=False, header=True)"
   ]
  },
  {
   "cell_type": "code",
   "execution_count": null,
   "id": "b9ba05b3-7582-40a0-8ab1-75739442b010",
   "metadata": {
    "tags": []
   },
   "outputs": [],
   "source": [
    "_testing"
   ]
  }
 ],
 "metadata": {
  "availableInstances": [
   {
    "_defaultOrder": 0,
    "_isFastLaunch": true,
    "category": "General purpose",
    "gpuNum": 0,
    "hideHardwareSpecs": false,
    "memoryGiB": 4,
    "name": "ml.t3.medium",
    "vcpuNum": 2
   },
   {
    "_defaultOrder": 1,
    "_isFastLaunch": false,
    "category": "General purpose",
    "gpuNum": 0,
    "hideHardwareSpecs": false,
    "memoryGiB": 8,
    "name": "ml.t3.large",
    "vcpuNum": 2
   },
   {
    "_defaultOrder": 2,
    "_isFastLaunch": false,
    "category": "General purpose",
    "gpuNum": 0,
    "hideHardwareSpecs": false,
    "memoryGiB": 16,
    "name": "ml.t3.xlarge",
    "vcpuNum": 4
   },
   {
    "_defaultOrder": 3,
    "_isFastLaunch": false,
    "category": "General purpose",
    "gpuNum": 0,
    "hideHardwareSpecs": false,
    "memoryGiB": 32,
    "name": "ml.t3.2xlarge",
    "vcpuNum": 8
   },
   {
    "_defaultOrder": 4,
    "_isFastLaunch": true,
    "category": "General purpose",
    "gpuNum": 0,
    "hideHardwareSpecs": false,
    "memoryGiB": 8,
    "name": "ml.m5.large",
    "vcpuNum": 2
   },
   {
    "_defaultOrder": 5,
    "_isFastLaunch": false,
    "category": "General purpose",
    "gpuNum": 0,
    "hideHardwareSpecs": false,
    "memoryGiB": 16,
    "name": "ml.m5.xlarge",
    "vcpuNum": 4
   },
   {
    "_defaultOrder": 6,
    "_isFastLaunch": false,
    "category": "General purpose",
    "gpuNum": 0,
    "hideHardwareSpecs": false,
    "memoryGiB": 32,
    "name": "ml.m5.2xlarge",
    "vcpuNum": 8
   },
   {
    "_defaultOrder": 7,
    "_isFastLaunch": false,
    "category": "General purpose",
    "gpuNum": 0,
    "hideHardwareSpecs": false,
    "memoryGiB": 64,
    "name": "ml.m5.4xlarge",
    "vcpuNum": 16
   },
   {
    "_defaultOrder": 8,
    "_isFastLaunch": false,
    "category": "General purpose",
    "gpuNum": 0,
    "hideHardwareSpecs": false,
    "memoryGiB": 128,
    "name": "ml.m5.8xlarge",
    "vcpuNum": 32
   },
   {
    "_defaultOrder": 9,
    "_isFastLaunch": false,
    "category": "General purpose",
    "gpuNum": 0,
    "hideHardwareSpecs": false,
    "memoryGiB": 192,
    "name": "ml.m5.12xlarge",
    "vcpuNum": 48
   },
   {
    "_defaultOrder": 10,
    "_isFastLaunch": false,
    "category": "General purpose",
    "gpuNum": 0,
    "hideHardwareSpecs": false,
    "memoryGiB": 256,
    "name": "ml.m5.16xlarge",
    "vcpuNum": 64
   },
   {
    "_defaultOrder": 11,
    "_isFastLaunch": false,
    "category": "General purpose",
    "gpuNum": 0,
    "hideHardwareSpecs": false,
    "memoryGiB": 384,
    "name": "ml.m5.24xlarge",
    "vcpuNum": 96
   },
   {
    "_defaultOrder": 12,
    "_isFastLaunch": false,
    "category": "General purpose",
    "gpuNum": 0,
    "hideHardwareSpecs": false,
    "memoryGiB": 8,
    "name": "ml.m5d.large",
    "vcpuNum": 2
   },
   {
    "_defaultOrder": 13,
    "_isFastLaunch": false,
    "category": "General purpose",
    "gpuNum": 0,
    "hideHardwareSpecs": false,
    "memoryGiB": 16,
    "name": "ml.m5d.xlarge",
    "vcpuNum": 4
   },
   {
    "_defaultOrder": 14,
    "_isFastLaunch": false,
    "category": "General purpose",
    "gpuNum": 0,
    "hideHardwareSpecs": false,
    "memoryGiB": 32,
    "name": "ml.m5d.2xlarge",
    "vcpuNum": 8
   },
   {
    "_defaultOrder": 15,
    "_isFastLaunch": false,
    "category": "General purpose",
    "gpuNum": 0,
    "hideHardwareSpecs": false,
    "memoryGiB": 64,
    "name": "ml.m5d.4xlarge",
    "vcpuNum": 16
   },
   {
    "_defaultOrder": 16,
    "_isFastLaunch": false,
    "category": "General purpose",
    "gpuNum": 0,
    "hideHardwareSpecs": false,
    "memoryGiB": 128,
    "name": "ml.m5d.8xlarge",
    "vcpuNum": 32
   },
   {
    "_defaultOrder": 17,
    "_isFastLaunch": false,
    "category": "General purpose",
    "gpuNum": 0,
    "hideHardwareSpecs": false,
    "memoryGiB": 192,
    "name": "ml.m5d.12xlarge",
    "vcpuNum": 48
   },
   {
    "_defaultOrder": 18,
    "_isFastLaunch": false,
    "category": "General purpose",
    "gpuNum": 0,
    "hideHardwareSpecs": false,
    "memoryGiB": 256,
    "name": "ml.m5d.16xlarge",
    "vcpuNum": 64
   },
   {
    "_defaultOrder": 19,
    "_isFastLaunch": false,
    "category": "General purpose",
    "gpuNum": 0,
    "hideHardwareSpecs": false,
    "memoryGiB": 384,
    "name": "ml.m5d.24xlarge",
    "vcpuNum": 96
   },
   {
    "_defaultOrder": 20,
    "_isFastLaunch": false,
    "category": "General purpose",
    "gpuNum": 0,
    "hideHardwareSpecs": true,
    "memoryGiB": 0,
    "name": "ml.geospatial.interactive",
    "supportedImageNames": [
     "sagemaker-geospatial-v1-0"
    ],
    "vcpuNum": 0
   },
   {
    "_defaultOrder": 21,
    "_isFastLaunch": true,
    "category": "Compute optimized",
    "gpuNum": 0,
    "hideHardwareSpecs": false,
    "memoryGiB": 4,
    "name": "ml.c5.large",
    "vcpuNum": 2
   },
   {
    "_defaultOrder": 22,
    "_isFastLaunch": false,
    "category": "Compute optimized",
    "gpuNum": 0,
    "hideHardwareSpecs": false,
    "memoryGiB": 8,
    "name": "ml.c5.xlarge",
    "vcpuNum": 4
   },
   {
    "_defaultOrder": 23,
    "_isFastLaunch": false,
    "category": "Compute optimized",
    "gpuNum": 0,
    "hideHardwareSpecs": false,
    "memoryGiB": 16,
    "name": "ml.c5.2xlarge",
    "vcpuNum": 8
   },
   {
    "_defaultOrder": 24,
    "_isFastLaunch": false,
    "category": "Compute optimized",
    "gpuNum": 0,
    "hideHardwareSpecs": false,
    "memoryGiB": 32,
    "name": "ml.c5.4xlarge",
    "vcpuNum": 16
   },
   {
    "_defaultOrder": 25,
    "_isFastLaunch": false,
    "category": "Compute optimized",
    "gpuNum": 0,
    "hideHardwareSpecs": false,
    "memoryGiB": 72,
    "name": "ml.c5.9xlarge",
    "vcpuNum": 36
   },
   {
    "_defaultOrder": 26,
    "_isFastLaunch": false,
    "category": "Compute optimized",
    "gpuNum": 0,
    "hideHardwareSpecs": false,
    "memoryGiB": 96,
    "name": "ml.c5.12xlarge",
    "vcpuNum": 48
   },
   {
    "_defaultOrder": 27,
    "_isFastLaunch": false,
    "category": "Compute optimized",
    "gpuNum": 0,
    "hideHardwareSpecs": false,
    "memoryGiB": 144,
    "name": "ml.c5.18xlarge",
    "vcpuNum": 72
   },
   {
    "_defaultOrder": 28,
    "_isFastLaunch": false,
    "category": "Compute optimized",
    "gpuNum": 0,
    "hideHardwareSpecs": false,
    "memoryGiB": 192,
    "name": "ml.c5.24xlarge",
    "vcpuNum": 96
   },
   {
    "_defaultOrder": 29,
    "_isFastLaunch": true,
    "category": "Accelerated computing",
    "gpuNum": 1,
    "hideHardwareSpecs": false,
    "memoryGiB": 16,
    "name": "ml.g4dn.xlarge",
    "vcpuNum": 4
   },
   {
    "_defaultOrder": 30,
    "_isFastLaunch": false,
    "category": "Accelerated computing",
    "gpuNum": 1,
    "hideHardwareSpecs": false,
    "memoryGiB": 32,
    "name": "ml.g4dn.2xlarge",
    "vcpuNum": 8
   },
   {
    "_defaultOrder": 31,
    "_isFastLaunch": false,
    "category": "Accelerated computing",
    "gpuNum": 1,
    "hideHardwareSpecs": false,
    "memoryGiB": 64,
    "name": "ml.g4dn.4xlarge",
    "vcpuNum": 16
   },
   {
    "_defaultOrder": 32,
    "_isFastLaunch": false,
    "category": "Accelerated computing",
    "gpuNum": 1,
    "hideHardwareSpecs": false,
    "memoryGiB": 128,
    "name": "ml.g4dn.8xlarge",
    "vcpuNum": 32
   },
   {
    "_defaultOrder": 33,
    "_isFastLaunch": false,
    "category": "Accelerated computing",
    "gpuNum": 4,
    "hideHardwareSpecs": false,
    "memoryGiB": 192,
    "name": "ml.g4dn.12xlarge",
    "vcpuNum": 48
   },
   {
    "_defaultOrder": 34,
    "_isFastLaunch": false,
    "category": "Accelerated computing",
    "gpuNum": 1,
    "hideHardwareSpecs": false,
    "memoryGiB": 256,
    "name": "ml.g4dn.16xlarge",
    "vcpuNum": 64
   },
   {
    "_defaultOrder": 35,
    "_isFastLaunch": false,
    "category": "Accelerated computing",
    "gpuNum": 1,
    "hideHardwareSpecs": false,
    "memoryGiB": 61,
    "name": "ml.p3.2xlarge",
    "vcpuNum": 8
   },
   {
    "_defaultOrder": 36,
    "_isFastLaunch": false,
    "category": "Accelerated computing",
    "gpuNum": 4,
    "hideHardwareSpecs": false,
    "memoryGiB": 244,
    "name": "ml.p3.8xlarge",
    "vcpuNum": 32
   },
   {
    "_defaultOrder": 37,
    "_isFastLaunch": false,
    "category": "Accelerated computing",
    "gpuNum": 8,
    "hideHardwareSpecs": false,
    "memoryGiB": 488,
    "name": "ml.p3.16xlarge",
    "vcpuNum": 64
   },
   {
    "_defaultOrder": 38,
    "_isFastLaunch": false,
    "category": "Accelerated computing",
    "gpuNum": 8,
    "hideHardwareSpecs": false,
    "memoryGiB": 768,
    "name": "ml.p3dn.24xlarge",
    "vcpuNum": 96
   },
   {
    "_defaultOrder": 39,
    "_isFastLaunch": false,
    "category": "Memory Optimized",
    "gpuNum": 0,
    "hideHardwareSpecs": false,
    "memoryGiB": 16,
    "name": "ml.r5.large",
    "vcpuNum": 2
   },
   {
    "_defaultOrder": 40,
    "_isFastLaunch": false,
    "category": "Memory Optimized",
    "gpuNum": 0,
    "hideHardwareSpecs": false,
    "memoryGiB": 32,
    "name": "ml.r5.xlarge",
    "vcpuNum": 4
   },
   {
    "_defaultOrder": 41,
    "_isFastLaunch": false,
    "category": "Memory Optimized",
    "gpuNum": 0,
    "hideHardwareSpecs": false,
    "memoryGiB": 64,
    "name": "ml.r5.2xlarge",
    "vcpuNum": 8
   },
   {
    "_defaultOrder": 42,
    "_isFastLaunch": false,
    "category": "Memory Optimized",
    "gpuNum": 0,
    "hideHardwareSpecs": false,
    "memoryGiB": 128,
    "name": "ml.r5.4xlarge",
    "vcpuNum": 16
   },
   {
    "_defaultOrder": 43,
    "_isFastLaunch": false,
    "category": "Memory Optimized",
    "gpuNum": 0,
    "hideHardwareSpecs": false,
    "memoryGiB": 256,
    "name": "ml.r5.8xlarge",
    "vcpuNum": 32
   },
   {
    "_defaultOrder": 44,
    "_isFastLaunch": false,
    "category": "Memory Optimized",
    "gpuNum": 0,
    "hideHardwareSpecs": false,
    "memoryGiB": 384,
    "name": "ml.r5.12xlarge",
    "vcpuNum": 48
   },
   {
    "_defaultOrder": 45,
    "_isFastLaunch": false,
    "category": "Memory Optimized",
    "gpuNum": 0,
    "hideHardwareSpecs": false,
    "memoryGiB": 512,
    "name": "ml.r5.16xlarge",
    "vcpuNum": 64
   },
   {
    "_defaultOrder": 46,
    "_isFastLaunch": false,
    "category": "Memory Optimized",
    "gpuNum": 0,
    "hideHardwareSpecs": false,
    "memoryGiB": 768,
    "name": "ml.r5.24xlarge",
    "vcpuNum": 96
   },
   {
    "_defaultOrder": 47,
    "_isFastLaunch": false,
    "category": "Accelerated computing",
    "gpuNum": 1,
    "hideHardwareSpecs": false,
    "memoryGiB": 16,
    "name": "ml.g5.xlarge",
    "vcpuNum": 4
   },
   {
    "_defaultOrder": 48,
    "_isFastLaunch": false,
    "category": "Accelerated computing",
    "gpuNum": 1,
    "hideHardwareSpecs": false,
    "memoryGiB": 32,
    "name": "ml.g5.2xlarge",
    "vcpuNum": 8
   },
   {
    "_defaultOrder": 49,
    "_isFastLaunch": false,
    "category": "Accelerated computing",
    "gpuNum": 1,
    "hideHardwareSpecs": false,
    "memoryGiB": 64,
    "name": "ml.g5.4xlarge",
    "vcpuNum": 16
   },
   {
    "_defaultOrder": 50,
    "_isFastLaunch": false,
    "category": "Accelerated computing",
    "gpuNum": 1,
    "hideHardwareSpecs": false,
    "memoryGiB": 128,
    "name": "ml.g5.8xlarge",
    "vcpuNum": 32
   },
   {
    "_defaultOrder": 51,
    "_isFastLaunch": false,
    "category": "Accelerated computing",
    "gpuNum": 1,
    "hideHardwareSpecs": false,
    "memoryGiB": 256,
    "name": "ml.g5.16xlarge",
    "vcpuNum": 64
   },
   {
    "_defaultOrder": 52,
    "_isFastLaunch": false,
    "category": "Accelerated computing",
    "gpuNum": 4,
    "hideHardwareSpecs": false,
    "memoryGiB": 192,
    "name": "ml.g5.12xlarge",
    "vcpuNum": 48
   },
   {
    "_defaultOrder": 53,
    "_isFastLaunch": false,
    "category": "Accelerated computing",
    "gpuNum": 4,
    "hideHardwareSpecs": false,
    "memoryGiB": 384,
    "name": "ml.g5.24xlarge",
    "vcpuNum": 96
   },
   {
    "_defaultOrder": 54,
    "_isFastLaunch": false,
    "category": "Accelerated computing",
    "gpuNum": 8,
    "hideHardwareSpecs": false,
    "memoryGiB": 768,
    "name": "ml.g5.48xlarge",
    "vcpuNum": 192
   },
   {
    "_defaultOrder": 55,
    "_isFastLaunch": false,
    "category": "Accelerated computing",
    "gpuNum": 8,
    "hideHardwareSpecs": false,
    "memoryGiB": 1152,
    "name": "ml.p4d.24xlarge",
    "vcpuNum": 96
   },
   {
    "_defaultOrder": 56,
    "_isFastLaunch": false,
    "category": "Accelerated computing",
    "gpuNum": 8,
    "hideHardwareSpecs": false,
    "memoryGiB": 1152,
    "name": "ml.p4de.24xlarge",
    "vcpuNum": 96
   },
   {
    "_defaultOrder": 57,
    "_isFastLaunch": false,
    "category": "Accelerated computing",
    "gpuNum": 0,
    "hideHardwareSpecs": false,
    "memoryGiB": 32,
    "name": "ml.trn1.2xlarge",
    "vcpuNum": 8
   },
   {
    "_defaultOrder": 58,
    "_isFastLaunch": false,
    "category": "Accelerated computing",
    "gpuNum": 0,
    "hideHardwareSpecs": false,
    "memoryGiB": 512,
    "name": "ml.trn1.32xlarge",
    "vcpuNum": 128
   },
   {
    "_defaultOrder": 59,
    "_isFastLaunch": false,
    "category": "Accelerated computing",
    "gpuNum": 0,
    "hideHardwareSpecs": false,
    "memoryGiB": 512,
    "name": "ml.trn1n.32xlarge",
    "vcpuNum": 128
   }
  ],
  "instance_type": "ml.t3.medium",
  "kernelspec": {
   "display_name": "Python 3 (ipykernel)",
   "language": "python",
   "name": "python3"
  },
  "language_info": {
   "codemirror_mode": {
    "name": "ipython",
    "version": 3
   },
   "file_extension": ".py",
   "mimetype": "text/x-python",
   "name": "python",
   "nbconvert_exporter": "python",
   "pygments_lexer": "ipython3",
   "version": "3.10.13"
  },
  "nbdime-conflicts": {
   "local_diff": [
    {
     "diff": [
      {
       "diff": [
        {
         "key": 0,
         "op": "addrange",
         "valuelist": [
          "3.8.13"
         ]
        },
        {
         "key": 0,
         "length": 1,
         "op": "removerange"
        }
       ],
       "key": "version",
       "op": "patch"
      }
     ],
     "key": "language_info",
     "op": "patch"
    }
   ],
   "remote_diff": [
    {
     "diff": [
      {
       "diff": [
        {
         "key": 0,
         "op": "addrange",
         "valuelist": [
          "3.10.13"
         ]
        },
        {
         "key": 0,
         "length": 1,
         "op": "removerange"
        }
       ],
       "key": "version",
       "op": "patch"
      }
     ],
     "key": "language_info",
     "op": "patch"
    }
   ]
  }
 },
 "nbformat": 4,
 "nbformat_minor": 5
}
