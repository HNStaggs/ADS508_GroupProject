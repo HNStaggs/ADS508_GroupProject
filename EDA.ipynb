{
 "cells": [
  {
   "cell_type": "markdown",
   "id": "a9278162",
   "metadata": {},
   "source": [
    "# Data Ingestion"
   ]
  },
  {
   "cell_type": "markdown",
   "id": "aa81a2a1",
   "metadata": {},
   "source": [
    "## Copy CSV files to S3"
   ]
  },
  {
   "cell_type": "code",
   "execution_count": null,
   "id": "454d7cd3",
   "metadata": {},
   "outputs": [],
   "source": [
    "# Assume all the pre-requisites were set up \n",
    "%store -r setup_instance_check_passed\n",
    "%store -r setup_dependencies_passed\n",
    "%store -r setup_s3_bucket_passed\n",
    "%store -r setup_iam_roles_passed"
   ]
  },
  {
   "cell_type": "code",
   "execution_count": 1,
   "id": "669290a3",
   "metadata": {},
   "outputs": [],
   "source": [
    "# Load Libraries\n",
    "import boto3\n",
    "import sagemaker\n",
    "import pandas as pd\n",
    "\n",
    "sess = sagemaker.Session()\n",
    "bucket = sess.default_bucket()\n",
    "role = sagemaker.get_execution_role()\n",
    "region = boto3.Session().region_name\n",
    "account_id = boto3.client(\"sts\").get_caller_identity().get(\"Account\")\n",
    "\n",
    "sm = boto3.Session().client(service_name=\"sagemaker\", region_name=region)"
   ]
  },
  {
   "cell_type": "code",
   "execution_count": null,
   "id": "4952e6ac",
   "metadata": {},
   "outputs": [],
   "source": [
    "# Copy Datasets"
   ]
  },
  {
   "cell_type": "code",
   "execution_count": null,
   "id": "8485bcc3",
   "metadata": {},
   "outputs": [],
   "source": [
    "# End of Copy CSV files to S3\n",
    "%store"
   ]
  },
  {
   "cell_type": "markdown",
   "id": "79bea107",
   "metadata": {},
   "source": [
    "## Create Database and Tables\n",
    "### Database"
   ]
  },
  {
   "cell_type": "code",
   "execution_count": null,
   "id": "fe7060ed",
   "metadata": {},
   "outputs": [],
   "source": [
    "# Setup and check pre-requisites to create Database\n",
    "ingest_create_athena_db_passed = False\n",
    "%store -r s3_public_path_csv\n",
    "%store -r s3_private_path_csv\n",
    "\n",
    "!pip install --disable-pip-version-check -q PyAthena==2.1.0\n",
    "from pyathena import connect"
   ]
  },
  {
   "cell_type": "code",
   "execution_count": null,
   "id": "b285688d",
   "metadata": {},
   "outputs": [],
   "source": [
    "# Create Database"
   ]
  },
  {
   "cell_type": "code",
   "execution_count": null,
   "id": "9c40720c",
   "metadata": {},
   "outputs": [],
   "source": [
    "# End of Create Database\n",
    "%store ingest_create_athena_db_passed\n",
    "%store"
   ]
  },
  {
   "cell_type": "markdown",
   "id": "4cd8ff23",
   "metadata": {},
   "source": [
    "### Tables"
   ]
  },
  {
   "cell_type": "code",
   "execution_count": null,
   "id": "f35e8345",
   "metadata": {},
   "outputs": [],
   "source": [
    "# Setup and check pre-requisites to create Tables\n",
    "ingest_create_athena_table_passed = False\n",
    "%store -r ingest_create_athena_db_passed"
   ]
  },
  {
   "cell_type": "code",
   "execution_count": null,
   "id": "c490b22a",
   "metadata": {},
   "outputs": [],
   "source": [
    "# Create Tables"
   ]
  },
  {
   "cell_type": "code",
   "execution_count": null,
   "id": "cc1a576e",
   "metadata": {},
   "outputs": [],
   "source": [
    "# End of Create Database and Tables\n",
    "%store ingest_create_athena_table_passed\n",
    "%store"
   ]
  },
  {
   "cell_type": "markdown",
   "id": "9a0cbe06",
   "metadata": {},
   "source": [
    "## Query Data"
   ]
  },
  {
   "cell_type": "code",
   "execution_count": null,
   "id": "84f9c3e8",
   "metadata": {},
   "outputs": [],
   "source": [
    "# Setup and check pre-requisites to create Database\n",
    "%store -r ingest_create_athena_table_passed\n",
    "!pip install --disable-pip-version-check -q awswrangler==2.3.0\n",
    "import awswrangler as wr"
   ]
  },
  {
   "cell_type": "code",
   "execution_count": 2,
   "id": "44117417",
   "metadata": {},
   "outputs": [],
   "source": [
    "# Read in Datasets"
   ]
  },
  {
   "cell_type": "code",
   "execution_count": 3,
   "id": "3fa64459",
   "metadata": {},
   "outputs": [],
   "source": [
    "# Dataset Info"
   ]
  },
  {
   "cell_type": "markdown",
   "id": "74a8a0c0",
   "metadata": {},
   "source": [
    "# Data Exploration"
   ]
  },
  {
   "cell_type": "code",
   "execution_count": 4,
   "id": "bed170c7",
   "metadata": {},
   "outputs": [],
   "source": [
    "# Dataset Descriptives"
   ]
  },
  {
   "cell_type": "code",
   "execution_count": 5,
   "id": "72d554c3",
   "metadata": {},
   "outputs": [],
   "source": [
    "# Data Distributions"
   ]
  },
  {
   "cell_type": "code",
   "execution_count": null,
   "id": "b2e21d86",
   "metadata": {},
   "outputs": [],
   "source": [
    "# Filtering Text by Location"
   ]
  }
 ],
 "metadata": {
  "kernelspec": {
   "display_name": "Python 3 (ipykernel)",
   "language": "python",
   "name": "python3"
  },
  "language_info": {
   "codemirror_mode": {
    "name": "ipython",
    "version": 3
   },
   "file_extension": ".py",
   "mimetype": "text/x-python",
   "name": "python",
   "nbconvert_exporter": "python",
   "pygments_lexer": "ipython3",
   "version": "3.9.13"
  }
 },
 "nbformat": 4,
 "nbformat_minor": 5
}
