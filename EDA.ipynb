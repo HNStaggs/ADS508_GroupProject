{
 "cells": [
  {
   "cell_type": "markdown",
   "id": "5c793d1c",
   "metadata": {},
   "source": [
    "# Data Ingestion"
   ]
  },
  {
   "cell_type": "markdown",
   "id": "2323e27d",
   "metadata": {},
   "source": [
    "## Copy CSV files to S3"
   ]
  },
  {
   "cell_type": "code",
   "execution_count": 68,
   "id": "fe95d59a",
   "metadata": {
    "tags": []
   },
   "outputs": [
    {
     "name": "stdout",
     "output_type": "stream",
     "text": [
      "no stored variable or alias setup_instance_check_passed\n",
      "no stored variable or alias setup_dependencies_passed\n",
      "no stored variable or alias setup_s3_bucket_passed\n",
      "no stored variable or alias setup_iam_roles_passed\n"
     ]
    }
   ],
   "source": [
    "# Assume all the pre-requisites were set up \n",
    "%store -r setup_instance_check_passed\n",
    "%store -r setup_dependencies_passed\n",
    "%store -r setup_s3_bucket_passed\n",
    "%store -r setup_iam_roles_passed\n"
   ]
  },
  {
   "cell_type": "code",
   "execution_count": 69,
   "id": "27abfe19",
   "metadata": {
    "tags": []
   },
   "outputs": [
    {
     "name": "stdout",
     "output_type": "stream",
     "text": [
      "sagemaker.config INFO - Not applying SDK defaults from location: /etc/xdg/sagemaker/config.yaml\n",
      "sagemaker.config INFO - Not applying SDK defaults from location: /home/sagemaker-user/.config/sagemaker/config.yaml\n",
      "sagemaker.config INFO - Not applying SDK defaults from location: /etc/xdg/sagemaker/config.yaml\n",
      "sagemaker.config INFO - Not applying SDK defaults from location: /home/sagemaker-user/.config/sagemaker/config.yaml\n"
     ]
    }
   ],
   "source": [
    "# Load Libraries\n",
    "import boto3\n",
    "import sagemaker\n",
    "import pandas as pd\n",
    "\n",
    "sess = sagemaker.Session()\n",
    "bucket = sess.default_bucket()\n",
    "role = sagemaker.get_execution_role()\n",
    "region = boto3.Session().region_name\n",
    "account_id = boto3.client(\"sts\").get_caller_identity().get(\"Account\")\n",
    "\n",
    "sm = boto3.Session().client(service_name=\"sagemaker\", region_name=region)"
   ]
  },
  {
   "cell_type": "code",
   "execution_count": 4,
   "id": "1a390ac1",
   "metadata": {
    "tags": []
   },
   "outputs": [
    {
     "name": "stdout",
     "output_type": "stream",
     "text": [
      "                           PRE nyt/\n",
      "                           PRE tweeter/\n",
      "copy: s3://ads508team5/tweeter/hashtag_donaldtrump.csv to s3://sagemaker-us-east-1-851725336500/ADS508_project/tweeter/hashtag_donaldtrump.csv\n",
      "copy: s3://ads508team5/tweeter/hashtag_joebiden.csv to s3://sagemaker-us-east-1-851725336500/ADS508_project/tweeter/hashtag_joebiden.csv\n",
      "copy: s3://ads508team5/nyt/nyt-comments-2020.csv to s3://sagemaker-us-east-1-851725336500/ADS508_project/nyt/nyt-comments-2020.csv\n"
     ]
    }
   ],
   "source": [
    "# Public Data\n",
    "!aws s3 ls s3://ads508team5/\n",
    "\n",
    "# Copy Datasets from :\n",
    "# Source of data\n",
    "s3_public_path_tweeter = \"s3://ads508team5/tweeter\"\n",
    "s3_public_path_nyt = \"s3://ads508team5/nyt\"\n",
    "\n",
    "# Destination Data:\n",
    "\n",
    "s3_private_path_tweeter = \"s3://{}/ADS508_project/tweeter\".format(bucket)\n",
    "s3_private_path_nyt = \"s3://{}/ADS508_project/nyt\".format(bucket)\n",
    "\n",
    "# Copy datasets\n",
    "!aws s3 cp --recursive $s3_public_path_tweeter/ $s3_private_path_tweeter/ --exclude \"*\" --include \"hashtag_donaldtrump.csv\"\n",
    "!aws s3 cp --recursive $s3_public_path_tweeter/ $s3_private_path_tweeter/ --exclude \"*\" --include \"hashtag_joebiden.csv\"\n",
    "!aws s3 cp --recursive $s3_public_path_nyt/ $s3_private_path_nyt/ --exclude \"*\" --include \"nyt-comments-2020.csv\"\n"
   ]
  },
  {
   "cell_type": "markdown",
   "id": "fbfd7b2f",
   "metadata": {},
   "source": [
    "## Create Database, Tables and Parquets\n",
    "### Database"
   ]
  },
  {
   "cell_type": "code",
   "execution_count": 70,
   "id": "8ed3ea97",
   "metadata": {
    "tags": []
   },
   "outputs": [],
   "source": [
    "# Setup and check pre-requisites to create Database\n",
    "ingest_create_athena_db_passed = False\n",
    "\n",
    "#!pip install --disable-pip-version-check -q PyAthena==2.1.0\n",
    "from pyathena import connect"
   ]
  },
  {
   "cell_type": "code",
   "execution_count": 71,
   "id": "a6268521",
   "metadata": {
    "tags": []
   },
   "outputs": [
    {
     "name": "stderr",
     "output_type": "stream",
     "text": [
      "/tmp/ipykernel_103/419283915.py:11: UserWarning: pandas only supports SQLAlchemy connectable (engine/connection) or database string URI or sqlite3 DBAPI2 connection. Other DBAPI2 objects are not tested. Please consider using SQLAlchemy.\n",
      "  pd.read_sql(statement, conn)\n",
      "/tmp/ipykernel_103/419283915.py:16: UserWarning: pandas only supports SQLAlchemy connectable (engine/connection) or database string URI or sqlite3 DBAPI2 connection. Other DBAPI2 objects are not tested. Please consider using SQLAlchemy.\n",
      "  df_show = pd.read_sql(statement, conn)\n"
     ]
    },
    {
     "data": {
      "text/html": [
       "<div>\n",
       "<style scoped>\n",
       "    .dataframe tbody tr th:only-of-type {\n",
       "        vertical-align: middle;\n",
       "    }\n",
       "\n",
       "    .dataframe tbody tr th {\n",
       "        vertical-align: top;\n",
       "    }\n",
       "\n",
       "    .dataframe thead th {\n",
       "        text-align: right;\n",
       "    }\n",
       "</style>\n",
       "<table border=\"1\" class=\"dataframe\">\n",
       "  <thead>\n",
       "    <tr style=\"text-align: right;\">\n",
       "      <th></th>\n",
       "      <th>database_name</th>\n",
       "    </tr>\n",
       "  </thead>\n",
       "  <tbody>\n",
       "    <tr>\n",
       "      <th>0</th>\n",
       "      <td>dbpoliticpulsecomment</td>\n",
       "    </tr>\n",
       "    <tr>\n",
       "      <th>1</th>\n",
       "      <td>default</td>\n",
       "    </tr>\n",
       "    <tr>\n",
       "      <th>2</th>\n",
       "      <td>dsoaws</td>\n",
       "    </tr>\n",
       "    <tr>\n",
       "      <th>3</th>\n",
       "      <td>sagemaker_featurestore</td>\n",
       "    </tr>\n",
       "  </tbody>\n",
       "</table>\n",
       "</div>"
      ],
      "text/plain": [
       "            database_name\n",
       "0   dbpoliticpulsecomment\n",
       "1                 default\n",
       "2                  dsoaws\n",
       "3  sagemaker_featurestore"
      ]
     },
     "execution_count": 71,
     "metadata": {},
     "output_type": "execute_result"
    }
   ],
   "source": [
    "# Create Database\n",
    "database_name = \"dbpoliticpulsecomment\"\n",
    "\n",
    "# Set S3 staging directory -- this is a temporary directory used for Athena queries\n",
    "s3_staging_dir = \"s3://{0}/athena/staging\".format(bucket)\n",
    "\n",
    "conn = connect(region_name=region, s3_staging_dir=s3_staging_dir)\n",
    "\n",
    "statement = \"CREATE DATABASE IF NOT EXISTS {}\".format(database_name)\n",
    "\n",
    "pd.read_sql(statement, conn)\n",
    "\n",
    "# Verify DB successfully created\n",
    "statement = \"SHOW DATABASES\"\n",
    "\n",
    "df_show = pd.read_sql(statement, conn)\n",
    "df_show.head(5)\n"
   ]
  },
  {
   "cell_type": "code",
   "execution_count": 72,
   "id": "a58edb18",
   "metadata": {
    "tags": []
   },
   "outputs": [],
   "source": [
    "# End of Create Database\n",
    "if database_name in df_show.values:\n",
    "    ingest_create_athena_db_passed = True"
   ]
  },
  {
   "cell_type": "markdown",
   "id": "50b6701e",
   "metadata": {},
   "source": [
    "### Tables"
   ]
  },
  {
   "cell_type": "code",
   "execution_count": 73,
   "id": "b366b2af",
   "metadata": {
    "tags": []
   },
   "outputs": [
    {
     "name": "stderr",
     "output_type": "stream",
     "text": [
      "/tmp/ipykernel_103/1858324476.py:35: UserWarning: pandas only supports SQLAlchemy connectable (engine/connection) or database string URI or sqlite3 DBAPI2 connection. Other DBAPI2 objects are not tested. Please consider using SQLAlchemy.\n",
      "  pd.read_sql(statement, conn)\n"
     ]
    },
    {
     "data": {
      "text/html": [
       "<div>\n",
       "<style scoped>\n",
       "    .dataframe tbody tr th:only-of-type {\n",
       "        vertical-align: middle;\n",
       "    }\n",
       "\n",
       "    .dataframe tbody tr th {\n",
       "        vertical-align: top;\n",
       "    }\n",
       "\n",
       "    .dataframe thead th {\n",
       "        text-align: right;\n",
       "    }\n",
       "</style>\n",
       "<table border=\"1\" class=\"dataframe\">\n",
       "  <thead>\n",
       "    <tr style=\"text-align: right;\">\n",
       "      <th></th>\n",
       "    </tr>\n",
       "  </thead>\n",
       "  <tbody>\n",
       "  </tbody>\n",
       "</table>\n",
       "</div>"
      ],
      "text/plain": [
       "Empty DataFrame\n",
       "Columns: []\n",
       "Index: []"
      ]
     },
     "execution_count": 73,
     "metadata": {},
     "output_type": "execute_result"
    }
   ],
   "source": [
    "# Create Tweeter Tables\n",
    "table_name_csv = \"tweeter\"\n",
    "s3_private_path_tweeter = \"s3://{}/ADS508_project/tweeter\".format(bucket)\n",
    "\n",
    "statement = \"\"\"CREATE EXTERNAL TABLE IF NOT EXISTS {}.{}(\n",
    "  created_at TIMESTAMP,\n",
    "  tweet_id FLOAT,\n",
    "  tweet VARCHAR(250),\n",
    "  likes INT,\n",
    "  retweet_count INT,\n",
    "  source VARCHAR(45),\n",
    "  user_id INT,\n",
    "  user_name VARCHAR(250),\n",
    "  user_screen_name VARCHAR(45),\n",
    "  user_description VARCHAR(250),\n",
    "  user_join_date TIMESTAMP,\n",
    "  user_followers_count INT,\n",
    "  user_location VARCHAR(45),\n",
    "  lat FLOAT,\n",
    "  long FLOAT,\n",
    "  city VARCHAR(45),\n",
    "  country VARCHAR(45),\n",
    "  continent VARCHAR(45),\n",
    "  state VARCHAR(45),\n",
    "  state_code VARCHAR(45),\n",
    "  collected_at VARCHAR(45)\n",
    ")\n",
    "ROW FORMAT DELIMITED\n",
    "FIELDS TERMINATED BY ','\n",
    "LOCATION '{}'\n",
    "TBLPROPERTIES ('skip.header.line.count'='1')\"\"\".format(\n",
    "    database_name, table_name_csv, s3_private_path_tweeter\n",
    ")\n",
    "\n",
    "pd.read_sql(statement, conn)\n"
   ]
  },
  {
   "cell_type": "code",
   "execution_count": 74,
   "id": "cb2f3816",
   "metadata": {
    "tags": []
   },
   "outputs": [
    {
     "name": "stderr",
     "output_type": "stream",
     "text": [
      "/tmp/ipykernel_103/1253481606.py:12: UserWarning: pandas only supports SQLAlchemy connectable (engine/connection) or database string URI or sqlite3 DBAPI2 connection. Other DBAPI2 objects are not tested. Please consider using SQLAlchemy.\n",
      "  df = pd.read_sql(statement, conn)\n"
     ]
    },
    {
     "data": {
      "text/html": [
       "<div>\n",
       "<style scoped>\n",
       "    .dataframe tbody tr th:only-of-type {\n",
       "        vertical-align: middle;\n",
       "    }\n",
       "\n",
       "    .dataframe tbody tr th {\n",
       "        vertical-align: top;\n",
       "    }\n",
       "\n",
       "    .dataframe thead th {\n",
       "        text-align: right;\n",
       "    }\n",
       "</style>\n",
       "<table border=\"1\" class=\"dataframe\">\n",
       "  <thead>\n",
       "    <tr style=\"text-align: right;\">\n",
       "      <th></th>\n",
       "      <th>created_at</th>\n",
       "      <th>tweet_id</th>\n",
       "      <th>tweet</th>\n",
       "      <th>likes</th>\n",
       "      <th>retweet_count</th>\n",
       "      <th>source</th>\n",
       "      <th>user_id</th>\n",
       "      <th>user_name</th>\n",
       "      <th>user_screen_name</th>\n",
       "      <th>user_description</th>\n",
       "      <th>...</th>\n",
       "      <th>user_followers_count</th>\n",
       "      <th>user_location</th>\n",
       "      <th>lat</th>\n",
       "      <th>long</th>\n",
       "      <th>city</th>\n",
       "      <th>country</th>\n",
       "      <th>continent</th>\n",
       "      <th>state</th>\n",
       "      <th>state_code</th>\n",
       "      <th>collected_at</th>\n",
       "    </tr>\n",
       "  </thead>\n",
       "  <tbody>\n",
       "    <tr>\n",
       "      <th>0</th>\n",
       "      <td>2020-10-15 00:00:21</td>\n",
       "      <td>1.316529e+18</td>\n",
       "      <td>@chrislongview Watching and setting dvr. Let’s...</td>\n",
       "      <td>0</td>\n",
       "      <td>0</td>\n",
       "      <td>Twitter for iPhone</td>\n",
       "      <td>None</td>\n",
       "      <td>Michelle Ferg</td>\n",
       "      <td>MichelleFerg4</td>\n",
       "      <td></td>\n",
       "      <td>...</td>\n",
       "      <td>27</td>\n",
       "      <td></td>\n",
       "      <td>None</td>\n",
       "      <td>None</td>\n",
       "      <td></td>\n",
       "      <td></td>\n",
       "      <td></td>\n",
       "      <td></td>\n",
       "      <td></td>\n",
       "      <td>2020-10-21 00:00:01.553481849</td>\n",
       "    </tr>\n",
       "  </tbody>\n",
       "</table>\n",
       "<p>1 rows × 21 columns</p>\n",
       "</div>"
      ],
      "text/plain": [
       "           created_at      tweet_id  \\\n",
       "0 2020-10-15 00:00:21  1.316529e+18   \n",
       "\n",
       "                                               tweet  likes  retweet_count  \\\n",
       "0  @chrislongview Watching and setting dvr. Let’s...      0              0   \n",
       "\n",
       "               source user_id      user_name user_screen_name  \\\n",
       "0  Twitter for iPhone    None  Michelle Ferg    MichelleFerg4   \n",
       "\n",
       "  user_description  ... user_followers_count  user_location   lat  long city  \\\n",
       "0                   ...                   27                 None  None        \n",
       "\n",
       "  country continent state state_code                   collected_at  \n",
       "0                                     2020-10-21 00:00:01.553481849  \n",
       "\n",
       "[1 rows x 21 columns]"
      ]
     },
     "execution_count": 74,
     "metadata": {},
     "output_type": "execute_result"
    }
   ],
   "source": [
    "# testing hashtag_donaldtrump.csv tweet\n",
    "tweet = \"You get a tie! And you get a tie! #Trump ‘s rally #Iowa https://t.co/jJalUUmh5D\"\n",
    "# testing hashtag_joebiden.csv tweet\n",
    "tweet = \"@chrislongview Watching and setting dvr. Let’s give him bonus ratings!! #JoeBiden\"\n",
    "\n",
    "\n",
    "statement = \"\"\"SELECT * FROM {}.{}\n",
    "    WHERE tweet = '{}' LIMIT 100\"\"\".format(\n",
    "    database_name, table_name_csv, tweet\n",
    ")\n",
    "\n",
    "df = pd.read_sql(statement, conn)\n",
    "df.head(5)\n"
   ]
  },
  {
   "cell_type": "code",
   "execution_count": 75,
   "id": "ed105b9b",
   "metadata": {
    "tags": []
   },
   "outputs": [
    {
     "name": "stderr",
     "output_type": "stream",
     "text": [
      "/tmp/ipykernel_103/1775205595.py:38: UserWarning: pandas only supports SQLAlchemy connectable (engine/connection) or database string URI or sqlite3 DBAPI2 connection. Other DBAPI2 objects are not tested. Please consider using SQLAlchemy.\n",
      "  pd.read_sql(statement, conn)\n"
     ]
    },
    {
     "data": {
      "text/html": [
       "<div>\n",
       "<style scoped>\n",
       "    .dataframe tbody tr th:only-of-type {\n",
       "        vertical-align: middle;\n",
       "    }\n",
       "\n",
       "    .dataframe tbody tr th {\n",
       "        vertical-align: top;\n",
       "    }\n",
       "\n",
       "    .dataframe thead th {\n",
       "        text-align: right;\n",
       "    }\n",
       "</style>\n",
       "<table border=\"1\" class=\"dataframe\">\n",
       "  <thead>\n",
       "    <tr style=\"text-align: right;\">\n",
       "      <th></th>\n",
       "    </tr>\n",
       "  </thead>\n",
       "  <tbody>\n",
       "  </tbody>\n",
       "</table>\n",
       "</div>"
      ],
      "text/plain": [
       "Empty DataFrame\n",
       "Columns: []\n",
       "Index: []"
      ]
     },
     "execution_count": 75,
     "metadata": {},
     "output_type": "execute_result"
    }
   ],
   "source": [
    "# Create NYT comment Table\n",
    "table_name_csv = \"nyt_comment\"\n",
    "s3_private_path_nyt = \"s3://{}/ADS508_project/nyt\".format(bucket)\n",
    "\n",
    "\n",
    "statement = \"\"\"CREATE EXTERNAL TABLE IF NOT EXISTS {}.{} (\n",
    "  commentID INT,\n",
    "  status VARCHAR(20),\n",
    "  commentSequence INT,\n",
    "  userID INT,\n",
    "  userDisplayName VARCHAR(45),\n",
    "  userLocation VARCHAR(45),\n",
    "  userTitle VARCHAR(10),\n",
    "  commentBody VARCHAR(500),\n",
    "  createDate TIMESTAMP,\n",
    "  updateDate TIMESTAMP,\n",
    "  approveDate TIMESTAMP,\n",
    "  recommendation INT,\n",
    "  replyCount INT,\n",
    "  editorsSelection VARCHAR(20),\n",
    "  parentID INT,\n",
    "  parentUserDisplayName VARCHAR(45),\n",
    "  depth INT,\n",
    "  commentType VARCHAR(20),\n",
    "  trusted VARCHAR(20),\n",
    "  recommendedFlag VARCHAR(20),\n",
    "  permID INT,\n",
    "  isAnonymous VARCHAR(20),\n",
    "  articleID VARCHAR(150)\n",
    ")\n",
    "ROW FORMAT DELIMITED\n",
    "FIELDS TERMINATED BY ','\n",
    "LOCATION '{}'\n",
    "TBLPROPERTIES ('skip.header.line.count'='1')\"\"\".format(\n",
    "    database_name, table_name_csv, s3_private_path_nyt\n",
    ")\n",
    "\n",
    "pd.read_sql(statement, conn)\n"
   ]
  },
  {
   "cell_type": "code",
   "execution_count": 76,
   "id": "1f08d61f",
   "metadata": {
    "tags": []
   },
   "outputs": [
    {
     "name": "stderr",
     "output_type": "stream",
     "text": [
      "/tmp/ipykernel_103/2201015668.py:3: UserWarning: pandas only supports SQLAlchemy connectable (engine/connection) or database string URI or sqlite3 DBAPI2 connection. Other DBAPI2 objects are not tested. Please consider using SQLAlchemy.\n",
      "  df_show = pd.read_sql(statement, conn)\n"
     ]
    },
    {
     "data": {
      "text/html": [
       "<div>\n",
       "<style scoped>\n",
       "    .dataframe tbody tr th:only-of-type {\n",
       "        vertical-align: middle;\n",
       "    }\n",
       "\n",
       "    .dataframe tbody tr th {\n",
       "        vertical-align: top;\n",
       "    }\n",
       "\n",
       "    .dataframe thead th {\n",
       "        text-align: right;\n",
       "    }\n",
       "</style>\n",
       "<table border=\"1\" class=\"dataframe\">\n",
       "  <thead>\n",
       "    <tr style=\"text-align: right;\">\n",
       "      <th></th>\n",
       "      <th>tab_name</th>\n",
       "    </tr>\n",
       "  </thead>\n",
       "  <tbody>\n",
       "    <tr>\n",
       "      <th>0</th>\n",
       "      <td>city</td>\n",
       "    </tr>\n",
       "    <tr>\n",
       "      <th>1</th>\n",
       "      <td>comment</td>\n",
       "    </tr>\n",
       "    <tr>\n",
       "      <th>2</th>\n",
       "      <td>comment_parquet</td>\n",
       "    </tr>\n",
       "    <tr>\n",
       "      <th>3</th>\n",
       "      <td>nyt_comment</td>\n",
       "    </tr>\n",
       "    <tr>\n",
       "      <th>4</th>\n",
       "      <td>tweeter</td>\n",
       "    </tr>\n",
       "  </tbody>\n",
       "</table>\n",
       "</div>"
      ],
      "text/plain": [
       "          tab_name\n",
       "0             city\n",
       "1          comment\n",
       "2  comment_parquet\n",
       "3      nyt_comment\n",
       "4          tweeter"
      ]
     },
     "execution_count": 76,
     "metadata": {},
     "output_type": "execute_result"
    }
   ],
   "source": [
    "statement = \"SHOW TABLES in {}\".format(database_name)\n",
    "\n",
    "df_show = pd.read_sql(statement, conn)\n",
    "df_show.head(5)"
   ]
  },
  {
   "cell_type": "code",
   "execution_count": 77,
   "id": "5f118e12",
   "metadata": {
    "tags": []
   },
   "outputs": [
    {
     "name": "stderr",
     "output_type": "stream",
     "text": [
      "/tmp/ipykernel_103/1150646089.py:8: UserWarning: pandas only supports SQLAlchemy connectable (engine/connection) or database string URI or sqlite3 DBAPI2 connection. Other DBAPI2 objects are not tested. Please consider using SQLAlchemy.\n",
      "  df = pd.read_sql(statement, conn)\n"
     ]
    },
    {
     "data": {
      "text/html": [
       "<div>\n",
       "<style scoped>\n",
       "    .dataframe tbody tr th:only-of-type {\n",
       "        vertical-align: middle;\n",
       "    }\n",
       "\n",
       "    .dataframe tbody tr th {\n",
       "        vertical-align: top;\n",
       "    }\n",
       "\n",
       "    .dataframe thead th {\n",
       "        text-align: right;\n",
       "    }\n",
       "</style>\n",
       "<table border=\"1\" class=\"dataframe\">\n",
       "  <thead>\n",
       "    <tr style=\"text-align: right;\">\n",
       "      <th></th>\n",
       "      <th>commentid</th>\n",
       "      <th>status</th>\n",
       "      <th>commentsequence</th>\n",
       "      <th>userid</th>\n",
       "      <th>userdisplayname</th>\n",
       "      <th>userlocation</th>\n",
       "      <th>usertitle</th>\n",
       "      <th>commentbody</th>\n",
       "      <th>createdate</th>\n",
       "      <th>updatedate</th>\n",
       "      <th>...</th>\n",
       "      <th>editorsselection</th>\n",
       "      <th>parentid</th>\n",
       "      <th>parentuserdisplayname</th>\n",
       "      <th>depth</th>\n",
       "      <th>commenttype</th>\n",
       "      <th>trusted</th>\n",
       "      <th>recommendedflag</th>\n",
       "      <th>permid</th>\n",
       "      <th>isanonymous</th>\n",
       "      <th>articleid</th>\n",
       "    </tr>\n",
       "  </thead>\n",
       "  <tbody>\n",
       "    <tr>\n",
       "      <th>0</th>\n",
       "      <td>104389709</td>\n",
       "      <td>approved</td>\n",
       "      <td>104389709</td>\n",
       "      <td>72038931</td>\n",
       "      <td>Anthony Monaghan</td>\n",
       "      <td>Narrabeen</td>\n",
       "      <td></td>\n",
       "      <td>@Philip Brown Agree 110%.</td>\n",
       "      <td>2020-01-01 10:36:20</td>\n",
       "      <td>2020-01-01 21:18:55</td>\n",
       "      <td>...</td>\n",
       "      <td>False</td>\n",
       "      <td>104389536</td>\n",
       "      <td>Philip Brown</td>\n",
       "      <td>2</td>\n",
       "      <td>userReply</td>\n",
       "      <td>0</td>\n",
       "      <td>0</td>\n",
       "      <td>104389709</td>\n",
       "      <td>False</td>\n",
       "      <td>nyt://article/69a7090b-9f36-569e-b5ab-b0ba5bb3...</td>\n",
       "    </tr>\n",
       "  </tbody>\n",
       "</table>\n",
       "<p>1 rows × 23 columns</p>\n",
       "</div>"
      ],
      "text/plain": [
       "   commentid    status  commentsequence    userid   userdisplayname  \\\n",
       "0  104389709  approved        104389709  72038931  Anthony Monaghan   \n",
       "\n",
       "  userlocation usertitle                commentbody          createdate  \\\n",
       "0    Narrabeen            @Philip Brown Agree 110%. 2020-01-01 10:36:20   \n",
       "\n",
       "           updatedate  ... editorsselection   parentid  parentuserdisplayname  \\\n",
       "0 2020-01-01 21:18:55  ...            False  104389536           Philip Brown   \n",
       "\n",
       "  depth  commenttype trusted  recommendedflag     permid isanonymous  \\\n",
       "0     2    userReply       0                0  104389709       False   \n",
       "\n",
       "                                           articleid  \n",
       "0  nyt://article/69a7090b-9f36-569e-b5ab-b0ba5bb3...  \n",
       "\n",
       "[1 rows x 23 columns]"
      ]
     },
     "execution_count": 77,
     "metadata": {},
     "output_type": "execute_result"
    }
   ],
   "source": [
    "commentBody = \"@Philip Brown Agree 110%.\"\n",
    "\n",
    "statement = \"\"\"SELECT * FROM {}.{}\n",
    "    WHERE commentBody = '{}' LIMIT 100\"\"\".format(\n",
    "    database_name, table_name_csv, commentBody\n",
    ")\n",
    "\n",
    "df = pd.read_sql(statement, conn)\n",
    "df.head(5)\n"
   ]
  },
  {
   "cell_type": "markdown",
   "id": "d3ccd002",
   "metadata": {},
   "source": [
    "### Parquets\n",
    "#### Feature Selection and Creation\n",
    "Prior creating a parquet table, tweeter and NYT comment tables are going to be combined under Comment Table in Athena where a feature creation is going to be performed. When the table is combined, we selected some features that would be benefit to our goal."
   ]
  },
  {
   "cell_type": "markdown",
   "id": "878fc4ed-1442-4639-b29b-a1ec495856cd",
   "metadata": {},
   "source": [
    "Selected features which could help on train the model are comment_id, comment_body, user_id, user_location, candidatepoll"
   ]
  },
  {
   "cell_type": "code",
   "execution_count": 78,
   "id": "abcc6e5d",
   "metadata": {
    "tags": []
   },
   "outputs": [
    {
     "name": "stderr",
     "output_type": "stream",
     "text": [
      "/tmp/ipykernel_103/2540414611.py:64: UserWarning: pandas only supports SQLAlchemy connectable (engine/connection) or database string URI or sqlite3 DBAPI2 connection. Other DBAPI2 objects are not tested. Please consider using SQLAlchemy.\n",
      "  pd.read_sql(statement, conn)\n"
     ]
    },
    {
     "data": {
      "text/html": [
       "<div>\n",
       "<style scoped>\n",
       "    .dataframe tbody tr th:only-of-type {\n",
       "        vertical-align: middle;\n",
       "    }\n",
       "\n",
       "    .dataframe tbody tr th {\n",
       "        vertical-align: top;\n",
       "    }\n",
       "\n",
       "    .dataframe thead th {\n",
       "        text-align: right;\n",
       "    }\n",
       "</style>\n",
       "<table border=\"1\" class=\"dataframe\">\n",
       "  <thead>\n",
       "    <tr style=\"text-align: right;\">\n",
       "      <th></th>\n",
       "      <th>rows</th>\n",
       "    </tr>\n",
       "  </thead>\n",
       "  <tbody>\n",
       "  </tbody>\n",
       "</table>\n",
       "</div>"
      ],
      "text/plain": [
       "Empty DataFrame\n",
       "Columns: [rows]\n",
       "Index: []"
      ]
     },
     "execution_count": 78,
     "metadata": {},
     "output_type": "execute_result"
    }
   ],
   "source": [
    "table_comment = \"comment\"\n",
    "table_tweeter = \"tweeter\"\n",
    "table_nyt_comment = \"nyt_comment\"\n",
    "\n",
    "# SQL Statement combine tweeter and NYT comment in the preparation to create parquet\n",
    "statement = \"\"\"\n",
    "CREATE TABLE IF NOT EXISTS {}.{} AS (\n",
    "SELECT \n",
    "    tweet_id AS comment_id,\n",
    "    tweet AS comment_body,\n",
    "    user_id AS user_id,\n",
    "    user_name AS user_name,\n",
    "    user_location AS user_location,\n",
    "    created_at AS create_date,\n",
    "    retweet_count AS reply_retweet,\n",
    "    likes AS recommendation_like,\n",
    "    'tweet' as source,\n",
    "    (LENGTH(tweet) - LENGTH(REPLACE(LOWER(tweet), 'trump', ''))) / LENGTH('trump') AS trump_count,\n",
    "    (LENGTH(tweet) - LENGTH(REPLACE(LOWER(tweet), 'biden', ''))) / LENGTH('biden') AS biden_count,\n",
    "    CASE \n",
    "        WHEN \n",
    "            (LENGTH(tweet) - LENGTH(REPLACE(LOWER(tweet), 'biden', ''))) / LENGTH('biden') > \n",
    "            (LENGTH(tweet) - LENGTH(REPLACE(LOWER(tweet), 'trump', ''))) / LENGTH('trump') \n",
    "        THEN 'Biden'\n",
    "        WHEN              \n",
    "            (LENGTH(tweet) - LENGTH(REPLACE(LOWER(tweet), 'biden', ''))) / LENGTH('biden') < \n",
    "            (LENGTH(tweet) - LENGTH(REPLACE(LOWER(tweet), 'trump', ''))) / LENGTH('trump') \n",
    "        THEN 'Trump'\n",
    "        ELSE NULL\n",
    "    END AS candidatepoll\n",
    "FROM\n",
    "    {}.{}\n",
    "WHERE\n",
    "    LENGTH(tweet) > 3\n",
    "UNION\n",
    "SELECT \n",
    "    commentid AS comment_id,\n",
    "    commentbody AS comment_body,\n",
    "    userID AS user_id,\n",
    "    userDisplayName AS user_name,\n",
    "    userLocation AS user_location,\n",
    "    createDate AS create_date,\n",
    "    replyCount AS reply_retweet,\n",
    "    recommendation AS recommendation_like,\n",
    "    'nyt_comment' as source,\n",
    "    (LENGTH(commentbody) - LENGTH(REPLACE(LOWER(commentbody), 'trump', ''))) / LENGTH('trump') AS trump_count,\n",
    "    (LENGTH(commentbody) - LENGTH(REPLACE(LOWER(commentbody), 'biden', ''))) / LENGTH('biden') AS biden_count,\n",
    "    CASE\n",
    "        WHEN\n",
    "            (LENGTH(commentbody) - LENGTH(REPLACE(LOWER(commentbody), 'biden', ''))) / LENGTH('biden') > \n",
    "            (LENGTH(commentbody) - LENGTH(REPLACE(LOWER(commentbody), 'trump', ''))) / LENGTH('trump') \n",
    "        THEN 'Biden'\n",
    "        WHEN\n",
    "            (LENGTH(commentbody) - LENGTH(REPLACE(LOWER(commentbody), 'biden', ''))) / LENGTH('biden') < \n",
    "            (LENGTH(commentbody) - LENGTH(REPLACE(LOWER(commentbody), 'trump', ''))) / LENGTH('trump') \n",
    "        THEN 'Trump'\n",
    "        ELSE NULL\n",
    "    END AS candidatepoll\n",
    "FROM \n",
    "    {}.{}\n",
    "WHERE LENGTH(commentbody) > 3\n",
    ")\"\"\".format(database_name, table_comment,database_name, table_tweeter,database_name, table_nyt_comment)\n",
    "\n",
    "pd.read_sql(statement, conn)"
   ]
  },
  {
   "cell_type": "code",
   "execution_count": 79,
   "id": "b0cf2ca7",
   "metadata": {
    "tags": []
   },
   "outputs": [
    {
     "name": "stderr",
     "output_type": "stream",
     "text": [
      "/tmp/ipykernel_103/253224117.py:9: UserWarning: pandas only supports SQLAlchemy connectable (engine/connection) or database string URI or sqlite3 DBAPI2 connection. Other DBAPI2 objects are not tested. Please consider using SQLAlchemy.\n",
      "  df = pd.read_sql(statement, conn)\n"
     ]
    },
    {
     "data": {
      "text/html": [
       "<div>\n",
       "<style scoped>\n",
       "    .dataframe tbody tr th:only-of-type {\n",
       "        vertical-align: middle;\n",
       "    }\n",
       "\n",
       "    .dataframe tbody tr th {\n",
       "        vertical-align: top;\n",
       "    }\n",
       "\n",
       "    .dataframe thead th {\n",
       "        text-align: right;\n",
       "    }\n",
       "</style>\n",
       "<table border=\"1\" class=\"dataframe\">\n",
       "  <thead>\n",
       "    <tr style=\"text-align: right;\">\n",
       "      <th></th>\n",
       "      <th>comment_id</th>\n",
       "      <th>comment_body</th>\n",
       "      <th>user_id</th>\n",
       "      <th>user_name</th>\n",
       "      <th>user_location</th>\n",
       "      <th>create_date</th>\n",
       "      <th>reply_retweet</th>\n",
       "      <th>recommendation_like</th>\n",
       "      <th>source</th>\n",
       "      <th>trump_count</th>\n",
       "      <th>biden_count</th>\n",
       "      <th>candidatepoll</th>\n",
       "    </tr>\n",
       "  </thead>\n",
       "  <tbody>\n",
       "    <tr>\n",
       "      <th>0</th>\n",
       "      <td>110811792.0</td>\n",
       "      <td>Joe Biden’s Climate Team Actually Cares About ...</td>\n",
       "      <td>70773801</td>\n",
       "      <td>Nreb</td>\n",
       "      <td>La La Land</td>\n",
       "      <td>2020-12-29 22:18:22</td>\n",
       "      <td>0</td>\n",
       "      <td>0</td>\n",
       "      <td>nyt_comment</td>\n",
       "      <td>0</td>\n",
       "      <td>1</td>\n",
       "      <td>Biden</td>\n",
       "    </tr>\n",
       "    <tr>\n",
       "      <th>1</th>\n",
       "      <td>109320808.0</td>\n",
       "      <td>Joe Biden just needs to be himself (comfortabl...</td>\n",
       "      <td>63221581</td>\n",
       "      <td>tippicanoe</td>\n",
       "      <td>Los Angeles</td>\n",
       "      <td>2020-09-27 03:07:51</td>\n",
       "      <td>2</td>\n",
       "      <td>45</td>\n",
       "      <td>nyt_comment</td>\n",
       "      <td>0</td>\n",
       "      <td>2</td>\n",
       "      <td>Biden</td>\n",
       "    </tr>\n",
       "    <tr>\n",
       "      <th>2</th>\n",
       "      <td>104423304.0</td>\n",
       "      <td>Joe Biden - Pete Buttigieg is the ticket.</td>\n",
       "      <td>67999402</td>\n",
       "      <td>Bruce Savin</td>\n",
       "      <td>Montecito</td>\n",
       "      <td>2020-01-03 17:25:06</td>\n",
       "      <td>1</td>\n",
       "      <td>2</td>\n",
       "      <td>nyt_comment</td>\n",
       "      <td>0</td>\n",
       "      <td>1</td>\n",
       "      <td>Biden</td>\n",
       "    </tr>\n",
       "    <tr>\n",
       "      <th>3</th>\n",
       "      <td>107414712.0</td>\n",
       "      <td>Joe Biden's just in time pandering disgusts me...</td>\n",
       "      <td>68748236</td>\n",
       "      <td>Civil</td>\n",
       "      <td>NC</td>\n",
       "      <td>2020-06-03 20:46:48</td>\n",
       "      <td>0</td>\n",
       "      <td>8</td>\n",
       "      <td>nyt_comment</td>\n",
       "      <td>1</td>\n",
       "      <td>1</td>\n",
       "      <td>None</td>\n",
       "    </tr>\n",
       "    <tr>\n",
       "      <th>4</th>\n",
       "      <td>106774664.0</td>\n",
       "      <td>Joe Biden is 'lurking' has to be the last thin...</td>\n",
       "      <td>65784050</td>\n",
       "      <td>kt</td>\n",
       "      <td>new jersey</td>\n",
       "      <td>2020-04-29 17:32:51</td>\n",
       "      <td>0</td>\n",
       "      <td>15</td>\n",
       "      <td>nyt_comment</td>\n",
       "      <td>0</td>\n",
       "      <td>1</td>\n",
       "      <td>Biden</td>\n",
       "    </tr>\n",
       "  </tbody>\n",
       "</table>\n",
       "</div>"
      ],
      "text/plain": [
       "    comment_id                                       comment_body   user_id  \\\n",
       "0  110811792.0  Joe Biden’s Climate Team Actually Cares About ...  70773801   \n",
       "1  109320808.0  Joe Biden just needs to be himself (comfortabl...  63221581   \n",
       "2  104423304.0          Joe Biden - Pete Buttigieg is the ticket.  67999402   \n",
       "3  107414712.0  Joe Biden's just in time pandering disgusts me...  68748236   \n",
       "4  106774664.0  Joe Biden is 'lurking' has to be the last thin...  65784050   \n",
       "\n",
       "     user_name user_location         create_date  reply_retweet  \\\n",
       "0         Nreb    La La Land 2020-12-29 22:18:22              0   \n",
       "1   tippicanoe   Los Angeles 2020-09-27 03:07:51              2   \n",
       "2  Bruce Savin     Montecito 2020-01-03 17:25:06              1   \n",
       "3        Civil            NC 2020-06-03 20:46:48              0   \n",
       "4           kt    new jersey 2020-04-29 17:32:51              0   \n",
       "\n",
       "   recommendation_like       source  trump_count  biden_count candidatepoll  \n",
       "0                    0  nyt_comment            0            1         Biden  \n",
       "1                   45  nyt_comment            0            2         Biden  \n",
       "2                    2  nyt_comment            0            1         Biden  \n",
       "3                    8  nyt_comment            1            1          None  \n",
       "4                   15  nyt_comment            0            1         Biden  "
      ]
     },
     "execution_count": 79,
     "metadata": {},
     "output_type": "execute_result"
    }
   ],
   "source": [
    "commentbody = \"Joe Biden\"\n",
    "source = \"nyt_comment\"\n",
    "\n",
    "statement = \"\"\"SELECT * FROM {}.{}\n",
    "    WHERE comment_body like '{}%' and source = '{}' LIMIT 100\"\"\".format(\n",
    "    database_name, table_comment, commentbody, source\n",
    ")\n",
    "\n",
    "df = pd.read_sql(statement, conn)\n",
    "df.head(5)\n"
   ]
  },
  {
   "cell_type": "code",
   "execution_count": 80,
   "id": "24e266db",
   "metadata": {
    "tags": []
   },
   "outputs": [],
   "source": [
    "# Setup to create Parquet\n",
    "ingest_create_athena_table_parquet_passed = False\n",
    "\n",
    "# Set S3 path to Parquet data\n",
    "s3_path_parquet = \"s3://{}/ADS508_project/parquet\".format(bucket)\n",
    "\n",
    "table_parquet = \"comment_parquet\""
   ]
  },
  {
   "cell_type": "code",
   "execution_count": 81,
   "id": "ae06efcb",
   "metadata": {
    "tags": []
   },
   "outputs": [
    {
     "name": "stderr",
     "output_type": "stream",
     "text": [
      "/tmp/ipykernel_103/3973533100.py:14: UserWarning: pandas only supports SQLAlchemy connectable (engine/connection) or database string URI or sqlite3 DBAPI2 connection. Other DBAPI2 objects are not tested. Please consider using SQLAlchemy.\n",
      "  pd.read_sql(statement, conn)\n"
     ]
    },
    {
     "data": {
      "text/html": [
       "<div>\n",
       "<style scoped>\n",
       "    .dataframe tbody tr th:only-of-type {\n",
       "        vertical-align: middle;\n",
       "    }\n",
       "\n",
       "    .dataframe tbody tr th {\n",
       "        vertical-align: top;\n",
       "    }\n",
       "\n",
       "    .dataframe thead th {\n",
       "        text-align: right;\n",
       "    }\n",
       "</style>\n",
       "<table border=\"1\" class=\"dataframe\">\n",
       "  <thead>\n",
       "    <tr style=\"text-align: right;\">\n",
       "      <th></th>\n",
       "      <th>rows</th>\n",
       "    </tr>\n",
       "  </thead>\n",
       "  <tbody>\n",
       "  </tbody>\n",
       "</table>\n",
       "</div>"
      ],
      "text/plain": [
       "Empty DataFrame\n",
       "Columns: [rows]\n",
       "Index: []"
      ]
     },
     "execution_count": 81,
     "metadata": {},
     "output_type": "execute_result"
    }
   ],
   "source": [
    "# SQL statement to execute\n",
    "statement = \"\"\"CREATE TABLE IF NOT EXISTS {}.{}\n",
    "WITH (format = 'PARQUET', external_location = '{}', partitioned_by = ARRAY['candidatepoll']) AS\n",
    "SELECT DISTINCT comment_id,\n",
    "         user_name,\n",
    "         user_location,\n",
    "         comment_body,\n",
    "         source,\n",
    "         candidatepoll\n",
    "FROM {}.{}\n",
    "where candidatepoll is not null AND Length(comment_body)>1 AND length(user_location)>1\"\"\".format(\n",
    "    database_name, table_parquet, s3_path_parquet, database_name, table_comment\n",
    ")\n",
    "pd.read_sql(statement, conn)\n"
   ]
  },
  {
   "cell_type": "code",
   "execution_count": 82,
   "id": "435eaa44",
   "metadata": {
    "tags": []
   },
   "outputs": [
    {
     "name": "stderr",
     "output_type": "stream",
     "text": [
      "/tmp/ipykernel_103/2260227216.py:4: UserWarning: pandas only supports SQLAlchemy connectable (engine/connection) or database string URI or sqlite3 DBAPI2 connection. Other DBAPI2 objects are not tested. Please consider using SQLAlchemy.\n",
      "  df = pd.read_sql(statement, conn)\n"
     ]
    },
    {
     "data": {
      "text/html": [
       "<div>\n",
       "<style scoped>\n",
       "    .dataframe tbody tr th:only-of-type {\n",
       "        vertical-align: middle;\n",
       "    }\n",
       "\n",
       "    .dataframe tbody tr th {\n",
       "        vertical-align: top;\n",
       "    }\n",
       "\n",
       "    .dataframe thead th {\n",
       "        text-align: right;\n",
       "    }\n",
       "</style>\n",
       "<table border=\"1\" class=\"dataframe\">\n",
       "  <thead>\n",
       "    <tr style=\"text-align: right;\">\n",
       "      <th></th>\n",
       "    </tr>\n",
       "  </thead>\n",
       "  <tbody>\n",
       "  </tbody>\n",
       "</table>\n",
       "</div>"
      ],
      "text/plain": [
       "Empty DataFrame\n",
       "Columns: []\n",
       "Index: []"
      ]
     },
     "execution_count": 82,
     "metadata": {},
     "output_type": "execute_result"
    }
   ],
   "source": [
    "#load the Parquet partitions\n",
    "statement = \"MSCK REPAIR TABLE {}.{}\".format(database_name, table_parquet)\n",
    "\n",
    "df = pd.read_sql(statement, conn)\n",
    "df.head(5)"
   ]
  },
  {
   "cell_type": "code",
   "execution_count": 83,
   "id": "96e21991",
   "metadata": {
    "tags": []
   },
   "outputs": [
    {
     "name": "stderr",
     "output_type": "stream",
     "text": [
      "/tmp/ipykernel_103/680368856.py:2: UserWarning: pandas only supports SQLAlchemy connectable (engine/connection) or database string URI or sqlite3 DBAPI2 connection. Other DBAPI2 objects are not tested. Please consider using SQLAlchemy.\n",
      "  df_partitions = pd.read_sql(statement, conn)\n"
     ]
    },
    {
     "data": {
      "text/html": [
       "<div>\n",
       "<style scoped>\n",
       "    .dataframe tbody tr th:only-of-type {\n",
       "        vertical-align: middle;\n",
       "    }\n",
       "\n",
       "    .dataframe tbody tr th {\n",
       "        vertical-align: top;\n",
       "    }\n",
       "\n",
       "    .dataframe thead th {\n",
       "        text-align: right;\n",
       "    }\n",
       "</style>\n",
       "<table border=\"1\" class=\"dataframe\">\n",
       "  <thead>\n",
       "    <tr style=\"text-align: right;\">\n",
       "      <th></th>\n",
       "      <th>partition</th>\n",
       "    </tr>\n",
       "  </thead>\n",
       "  <tbody>\n",
       "    <tr>\n",
       "      <th>0</th>\n",
       "      <td>candidatepoll=Biden</td>\n",
       "    </tr>\n",
       "    <tr>\n",
       "      <th>1</th>\n",
       "      <td>candidatepoll=Trump</td>\n",
       "    </tr>\n",
       "  </tbody>\n",
       "</table>\n",
       "</div>"
      ],
      "text/plain": [
       "             partition\n",
       "0  candidatepoll=Biden\n",
       "1  candidatepoll=Trump"
      ]
     },
     "execution_count": 83,
     "metadata": {},
     "output_type": "execute_result"
    }
   ],
   "source": [
    "statement = \"SHOW PARTITIONS {}.{}\".format(database_name, table_parquet)\n",
    "df_partitions = pd.read_sql(statement, conn)\n",
    "df_partitions.head(5)"
   ]
  },
  {
   "cell_type": "code",
   "execution_count": 84,
   "id": "f282d08a",
   "metadata": {
    "tags": []
   },
   "outputs": [
    {
     "name": "stderr",
     "output_type": "stream",
     "text": [
      "/tmp/ipykernel_103/2954009692.py:2: UserWarning: pandas only supports SQLAlchemy connectable (engine/connection) or database string URI or sqlite3 DBAPI2 connection. Other DBAPI2 objects are not tested. Please consider using SQLAlchemy.\n",
      "  df_partitions = pd.read_sql(statement, conn)\n"
     ]
    },
    {
     "data": {
      "text/html": [
       "<div>\n",
       "<style scoped>\n",
       "    .dataframe tbody tr th:only-of-type {\n",
       "        vertical-align: middle;\n",
       "    }\n",
       "\n",
       "    .dataframe tbody tr th {\n",
       "        vertical-align: top;\n",
       "    }\n",
       "\n",
       "    .dataframe thead th {\n",
       "        text-align: right;\n",
       "    }\n",
       "</style>\n",
       "<table border=\"1\" class=\"dataframe\">\n",
       "  <thead>\n",
       "    <tr style=\"text-align: right;\">\n",
       "      <th></th>\n",
       "      <th>tab_name</th>\n",
       "    </tr>\n",
       "  </thead>\n",
       "  <tbody>\n",
       "    <tr>\n",
       "      <th>0</th>\n",
       "      <td>city</td>\n",
       "    </tr>\n",
       "    <tr>\n",
       "      <th>1</th>\n",
       "      <td>comment</td>\n",
       "    </tr>\n",
       "    <tr>\n",
       "      <th>2</th>\n",
       "      <td>comment_parquet</td>\n",
       "    </tr>\n",
       "    <tr>\n",
       "      <th>3</th>\n",
       "      <td>nyt_comment</td>\n",
       "    </tr>\n",
       "    <tr>\n",
       "      <th>4</th>\n",
       "      <td>tweeter</td>\n",
       "    </tr>\n",
       "  </tbody>\n",
       "</table>\n",
       "</div>"
      ],
      "text/plain": [
       "          tab_name\n",
       "0             city\n",
       "1          comment\n",
       "2  comment_parquet\n",
       "3      nyt_comment\n",
       "4          tweeter"
      ]
     },
     "execution_count": 84,
     "metadata": {},
     "output_type": "execute_result"
    }
   ],
   "source": [
    "statement = \"SHOW TABLES in {}\".format(database_name)\n",
    "df_partitions = pd.read_sql(statement, conn)\n",
    "df_partitions.head(5)"
   ]
  },
  {
   "cell_type": "code",
   "execution_count": 85,
   "id": "3dc60922",
   "metadata": {
    "tags": []
   },
   "outputs": [
    {
     "name": "stderr",
     "output_type": "stream",
     "text": [
      "/tmp/ipykernel_103/1824229899.py:7: UserWarning: pandas only supports SQLAlchemy connectable (engine/connection) or database string URI or sqlite3 DBAPI2 connection. Other DBAPI2 objects are not tested. Please consider using SQLAlchemy.\n",
      "  df_parquet = pd.read_sql(statement, conn)\n"
     ]
    },
    {
     "data": {
      "text/html": [
       "<div>\n",
       "<style scoped>\n",
       "    .dataframe tbody tr th:only-of-type {\n",
       "        vertical-align: middle;\n",
       "    }\n",
       "\n",
       "    .dataframe tbody tr th {\n",
       "        vertical-align: top;\n",
       "    }\n",
       "\n",
       "    .dataframe thead th {\n",
       "        text-align: right;\n",
       "    }\n",
       "</style>\n",
       "<table border=\"1\" class=\"dataframe\">\n",
       "  <thead>\n",
       "    <tr style=\"text-align: right;\">\n",
       "      <th></th>\n",
       "      <th>comment_id</th>\n",
       "      <th>user_location</th>\n",
       "      <th>comment_body</th>\n",
       "      <th>source</th>\n",
       "      <th>candidatepoll</th>\n",
       "    </tr>\n",
       "  </thead>\n",
       "  <tbody>\n",
       "    <tr>\n",
       "      <th>0</th>\n",
       "      <td>106321952.0</td>\n",
       "      <td>Los Angeles</td>\n",
       "      <td>Why does trump lie?</td>\n",
       "      <td>nyt_comment</td>\n",
       "      <td>Trump</td>\n",
       "    </tr>\n",
       "    <tr>\n",
       "      <th>1</th>\n",
       "      <td>106329240.0</td>\n",
       "      <td>Camas WA</td>\n",
       "      <td>American colonists fought a bloody revolution ...</td>\n",
       "      <td>nyt_comment</td>\n",
       "      <td>Trump</td>\n",
       "    </tr>\n",
       "    <tr>\n",
       "      <th>2</th>\n",
       "      <td>110825048.0</td>\n",
       "      <td>LINY</td>\n",
       "      <td>\"Oh Bret. You just cant let go can you? Always...</td>\n",
       "      <td>nyt_comment</td>\n",
       "      <td>Trump</td>\n",
       "    </tr>\n",
       "    <tr>\n",
       "      <th>3</th>\n",
       "      <td>110839632.0</td>\n",
       "      <td>usa</td>\n",
       "      <td>\"Trumpism has demonstrated that a large part o...</td>\n",
       "      <td>nyt_comment</td>\n",
       "      <td>Trump</td>\n",
       "    </tr>\n",
       "    <tr>\n",
       "      <th>4</th>\n",
       "      <td>110840736.0</td>\n",
       "      <td>California</td>\n",
       "      <td>\"The Trump administration has been a disaster ...</td>\n",
       "      <td>nyt_comment</td>\n",
       "      <td>Trump</td>\n",
       "    </tr>\n",
       "  </tbody>\n",
       "</table>\n",
       "</div>"
      ],
      "text/plain": [
       "    comment_id user_location  \\\n",
       "0  106321952.0   Los Angeles   \n",
       "1  106329240.0      Camas WA   \n",
       "2  110825048.0          LINY   \n",
       "3  110839632.0           usa   \n",
       "4  110840736.0    California   \n",
       "\n",
       "                                        comment_body       source  \\\n",
       "0                                Why does trump lie?  nyt_comment   \n",
       "1  American colonists fought a bloody revolution ...  nyt_comment   \n",
       "2  \"Oh Bret. You just cant let go can you? Always...  nyt_comment   \n",
       "3  \"Trumpism has demonstrated that a large part o...  nyt_comment   \n",
       "4  \"The Trump administration has been a disaster ...  nyt_comment   \n",
       "\n",
       "  candidatepoll  \n",
       "0         Trump  \n",
       "1         Trump  \n",
       "2         Trump  \n",
       "3         Trump  \n",
       "4         Trump  "
      ]
     },
     "execution_count": 85,
     "metadata": {},
     "output_type": "execute_result"
    }
   ],
   "source": [
    "candidatepoll = \"Trump\"\n",
    "\n",
    "statement = \"\"\"SELECT * FROM {}.{}\n",
    "    Where candidatepoll = '{}' LIMIT 10\"\"\".format(\n",
    "    database_name, table_parquet, candidatepoll\n",
    ")\n",
    "df_parquet = pd.read_sql(statement, conn)\n",
    "df_parquet.head(5)"
   ]
  },
  {
   "cell_type": "markdown",
   "id": "3b8461c5",
   "metadata": {},
   "source": [
    "## Query Data"
   ]
  },
  {
   "cell_type": "code",
   "execution_count": 86,
   "id": "6e00bda0",
   "metadata": {
    "scrolled": true,
    "tags": []
   },
   "outputs": [],
   "source": [
    "# Setup and check pre-requisites to create Database\n",
    "\n",
    "#!pip install --disable-pip-version-check -q awswrangler\n",
    "import awswrangler as wr"
   ]
  },
  {
   "cell_type": "code",
   "execution_count": 87,
   "id": "3b28f75b",
   "metadata": {
    "tags": []
   },
   "outputs": [],
   "source": [
    "t_filter = lambda x: x[\"candidatepoll\"] == \"Trump\"\n",
    "b_filter = lambda x: x[\"candidatepoll\"] == \"Biden\""
   ]
  },
  {
   "cell_type": "code",
   "execution_count": 88,
   "id": "d208219a",
   "metadata": {
    "tags": []
   },
   "outputs": [],
   "source": [
    "path =  \"s3://{}/ADS508_project/parquet\".format(bucket)\n",
    "\n",
    "df_parquet_results = wr.s3.read_parquet(\n",
    "    path, columns=[\"comment_body\", \"source\", \"user_location\", \"candidatepoll\"], partition_filter=t_filter, dataset=True\n",
    ")\n",
    "\n",
    "df_parquet_results_trump = df_parquet_results.drop_duplicates(subset = ['comment_body'])"
   ]
  },
  {
   "cell_type": "code",
   "execution_count": 89,
   "id": "40daa73f",
   "metadata": {
    "tags": []
   },
   "outputs": [
    {
     "data": {
      "text/plain": [
       "(670045, 4)"
      ]
     },
     "execution_count": 89,
     "metadata": {},
     "output_type": "execute_result"
    }
   ],
   "source": [
    "df_parquet_results_trump.shape"
   ]
  },
  {
   "cell_type": "code",
   "execution_count": 90,
   "id": "3915167a",
   "metadata": {
    "tags": []
   },
   "outputs": [
    {
     "data": {
      "text/html": [
       "<div>\n",
       "<style scoped>\n",
       "    .dataframe tbody tr th:only-of-type {\n",
       "        vertical-align: middle;\n",
       "    }\n",
       "\n",
       "    .dataframe tbody tr th {\n",
       "        vertical-align: top;\n",
       "    }\n",
       "\n",
       "    .dataframe thead th {\n",
       "        text-align: right;\n",
       "    }\n",
       "</style>\n",
       "<table border=\"1\" class=\"dataframe\">\n",
       "  <thead>\n",
       "    <tr style=\"text-align: right;\">\n",
       "      <th></th>\n",
       "      <th>comment_body</th>\n",
       "      <th>source</th>\n",
       "      <th>user_location</th>\n",
       "      <th>candidatepoll</th>\n",
       "    </tr>\n",
       "  </thead>\n",
       "  <tbody>\n",
       "    <tr>\n",
       "      <th>0</th>\n",
       "      <td>Why does trump lie?</td>\n",
       "      <td>nyt_comment</td>\n",
       "      <td>Los Angeles</td>\n",
       "      <td>Trump</td>\n",
       "    </tr>\n",
       "    <tr>\n",
       "      <th>1</th>\n",
       "      <td>American colonists fought a bloody revolution ...</td>\n",
       "      <td>nyt_comment</td>\n",
       "      <td>Camas WA</td>\n",
       "      <td>Trump</td>\n",
       "    </tr>\n",
       "    <tr>\n",
       "      <th>2</th>\n",
       "      <td>\"Oh Bret. You just cant let go can you? Always...</td>\n",
       "      <td>nyt_comment</td>\n",
       "      <td>LINY</td>\n",
       "      <td>Trump</td>\n",
       "    </tr>\n",
       "    <tr>\n",
       "      <th>3</th>\n",
       "      <td>\"Trumpism has demonstrated that a large part o...</td>\n",
       "      <td>nyt_comment</td>\n",
       "      <td>usa</td>\n",
       "      <td>Trump</td>\n",
       "    </tr>\n",
       "    <tr>\n",
       "      <th>4</th>\n",
       "      <td>\"The Trump administration has been a disaster ...</td>\n",
       "      <td>nyt_comment</td>\n",
       "      <td>California</td>\n",
       "      <td>Trump</td>\n",
       "    </tr>\n",
       "  </tbody>\n",
       "</table>\n",
       "</div>"
      ],
      "text/plain": [
       "                                        comment_body       source  \\\n",
       "0                                Why does trump lie?  nyt_comment   \n",
       "1  American colonists fought a bloody revolution ...  nyt_comment   \n",
       "2  \"Oh Bret. You just cant let go can you? Always...  nyt_comment   \n",
       "3  \"Trumpism has demonstrated that a large part o...  nyt_comment   \n",
       "4  \"The Trump administration has been a disaster ...  nyt_comment   \n",
       "\n",
       "  user_location candidatepoll  \n",
       "0   Los Angeles         Trump  \n",
       "1      Camas WA         Trump  \n",
       "2          LINY         Trump  \n",
       "3           usa         Trump  \n",
       "4    California         Trump  "
      ]
     },
     "execution_count": 90,
     "metadata": {},
     "output_type": "execute_result"
    }
   ],
   "source": [
    "df_parquet_results_trump.head(5)"
   ]
  },
  {
   "cell_type": "code",
   "execution_count": 91,
   "id": "076d4959",
   "metadata": {},
   "outputs": [
    {
     "data": {
      "text/plain": [
       "(260435, 4)"
      ]
     },
     "execution_count": 91,
     "metadata": {},
     "output_type": "execute_result"
    }
   ],
   "source": [
    "path =  \"s3://{}/ADS508_project/parquet\".format(bucket)\n",
    "\n",
    "# Call all public discourse data from \n",
    "df_parquet_results = wr.s3.read_parquet(\n",
    "    path, columns=[\"comment_body\", \"source\", \"user_location\", \"candidatepoll\"], partition_filter=b_filter, dataset=True\n",
    ")\n",
    "\n",
    "\n",
    "df_parquet_results_biden = df_parquet_results.drop_duplicates(subset = ['comment_body'])\n",
    "df_parquet_results_biden.shape\n"
   ]
  },
  {
   "cell_type": "code",
   "execution_count": 27,
   "id": "f07d2551",
   "metadata": {},
   "outputs": [
    {
     "data": {
      "text/html": [
       "<div>\n",
       "<style scoped>\n",
       "    .dataframe tbody tr th:only-of-type {\n",
       "        vertical-align: middle;\n",
       "    }\n",
       "\n",
       "    .dataframe tbody tr th {\n",
       "        vertical-align: top;\n",
       "    }\n",
       "\n",
       "    .dataframe thead th {\n",
       "        text-align: right;\n",
       "    }\n",
       "</style>\n",
       "<table border=\"1\" class=\"dataframe\">\n",
       "  <thead>\n",
       "    <tr style=\"text-align: right;\">\n",
       "      <th></th>\n",
       "      <th>comment_body</th>\n",
       "      <th>source</th>\n",
       "      <th>user_location</th>\n",
       "      <th>candidatepoll</th>\n",
       "    </tr>\n",
       "  </thead>\n",
       "  <tbody>\n",
       "    <tr>\n",
       "      <th>0</th>\n",
       "      <td>#Cubanos por #Biden sacan las uñas para defend...</td>\n",
       "      <td>tweet</td>\n",
       "      <td>\"Miami</td>\n",
       "      <td>Biden</td>\n",
       "    </tr>\n",
       "    <tr>\n",
       "      <th>1</th>\n",
       "      <td>\"#Biden promete firmar una orden ejecutiva par...</td>\n",
       "      <td>tweet</td>\n",
       "      <td>&lt;NA&gt;</td>\n",
       "      <td>Biden</td>\n",
       "    </tr>\n",
       "    <tr>\n",
       "      <th>2</th>\n",
       "      <td>\"@Fxhedgers 3 Trillion Stimulus will be passed...</td>\n",
       "      <td>tweet</td>\n",
       "      <td>&lt;NA&gt;</td>\n",
       "      <td>Biden</td>\n",
       "    </tr>\n",
       "    <tr>\n",
       "      <th>3</th>\n",
       "      <td>America’s next president = Democratic af. #Kam...</td>\n",
       "      <td>tweet</td>\n",
       "      <td>2020-07-30 14:42:29</td>\n",
       "      <td>Biden</td>\n",
       "    </tr>\n",
       "    <tr>\n",
       "      <th>4</th>\n",
       "      <td>\"Here's the next thing Joe Biden says he will ...</td>\n",
       "      <td>tweet</td>\n",
       "      <td>&lt;NA&gt;</td>\n",
       "      <td>Biden</td>\n",
       "    </tr>\n",
       "  </tbody>\n",
       "</table>\n",
       "</div>"
      ],
      "text/plain": [
       "                                        comment_body source  \\\n",
       "0  #Cubanos por #Biden sacan las uñas para defend...  tweet   \n",
       "1  \"#Biden promete firmar una orden ejecutiva par...  tweet   \n",
       "2  \"@Fxhedgers 3 Trillion Stimulus will be passed...  tweet   \n",
       "3  America’s next president = Democratic af. #Kam...  tweet   \n",
       "4  \"Here's the next thing Joe Biden says he will ...  tweet   \n",
       "\n",
       "         user_location candidatepoll  \n",
       "0               \"Miami         Biden  \n",
       "1                 <NA>         Biden  \n",
       "2                 <NA>         Biden  \n",
       "3  2020-07-30 14:42:29         Biden  \n",
       "4                 <NA>         Biden  "
      ]
     },
     "execution_count": 27,
     "metadata": {},
     "output_type": "execute_result"
    }
   ],
   "source": [
    "df_parquet_results_biden.head(5)"
   ]
  },
  {
   "cell_type": "markdown",
   "id": "612a2655",
   "metadata": {},
   "source": [
    "# Data Exploration"
   ]
  },
  {
   "cell_type": "code",
   "execution_count": 28,
   "id": "5accb614",
   "metadata": {
    "tags": []
   },
   "outputs": [
    {
     "name": "stdout",
     "output_type": "stream",
     "text": [
      "<class 'pandas.core.frame.DataFrame'>\n",
      "Int64Index: 926684 entries, 0 to 333283\n",
      "Data columns (total 4 columns):\n",
      " #   Column         Non-Null Count   Dtype   \n",
      "---  ------         --------------   -----   \n",
      " 0   comment_body   926684 non-null  string  \n",
      " 1   source         926684 non-null  string  \n",
      " 2   user_location  734725 non-null  string  \n",
      " 3   candidatepoll  926684 non-null  category\n",
      "dtypes: category(1), string(3)\n",
      "memory usage: 29.2 MB\n"
     ]
    }
   ],
   "source": [
    "# Checking for missing values from trump data\n",
    "df_parquet_results_trump.info()"
   ]
  },
  {
   "cell_type": "code",
   "execution_count": 29,
   "id": "af933a9a",
   "metadata": {
    "tags": []
   },
   "outputs": [
    {
     "name": "stdout",
     "output_type": "stream",
     "text": [
      "<class 'pandas.core.frame.DataFrame'>\n",
      "Int64Index: 434926 entries, 0 to 163918\n",
      "Data columns (total 4 columns):\n",
      " #   Column         Non-Null Count   Dtype   \n",
      "---  ------         --------------   -----   \n",
      " 0   comment_body   434926 non-null  string  \n",
      " 1   source         434926 non-null  string  \n",
      " 2   user_location  309555 non-null  string  \n",
      " 3   candidatepoll  434926 non-null  category\n",
      "dtypes: category(1), string(3)\n",
      "memory usage: 13.7 MB\n"
     ]
    }
   ],
   "source": [
    "# Check for missing values from  biden data\n",
    "df_parquet_results_biden.info()"
   ]
  },
  {
   "cell_type": "code",
   "execution_count": 30,
   "id": "23647e4c",
   "metadata": {},
   "outputs": [
    {
     "data": {
      "text/plain": [
       "tweet          534174\n",
       "nyt_comment    392510\n",
       "Name: source, dtype: Int64"
      ]
     },
     "execution_count": 30,
     "metadata": {},
     "output_type": "execute_result"
    }
   ],
   "source": [
    "# Data Distributions for Trump and Biden \n",
    "df_parquet_results_trump['source'].value_counts()\n"
   ]
  },
  {
   "cell_type": "code",
   "execution_count": 31,
   "id": "7c82b8ed",
   "metadata": {
    "tags": []
   },
   "outputs": [
    {
     "data": {
      "text/plain": [
       "tweet          373106\n",
       "nyt_comment     61820\n",
       "Name: source, dtype: Int64"
      ]
     },
     "execution_count": 31,
     "metadata": {},
     "output_type": "execute_result"
    }
   ],
   "source": [
    "# Data Distributions for Trump and Biden \n",
    "df_parquet_results_biden['source'].value_counts()"
   ]
  },
  {
   "cell_type": "code",
   "execution_count": 32,
   "id": "685d75cf",
   "metadata": {},
   "outputs": [
    {
     "data": {
      "text/plain": [
       "                        64393\n",
       "NYC                     13502\n",
       "California              11827\n",
       "New York                11436\n",
       "USA                      8575\n",
       "                        ...  \n",
       "2009-05-23 18:26:05         1\n",
       " Bojack                     1\n",
       "\"norton shores              1\n",
       "Berlin & Brandenburg        1\n",
       " keto athlete               1\n",
       "Name: user_location, Length: 94255, dtype: Int64"
      ]
     },
     "execution_count": 32,
     "metadata": {},
     "output_type": "execute_result"
    }
   ],
   "source": [
    "# Filtering Data by Location \n",
    "df_parquet_results_trump['user_location'].value_counts()"
   ]
  },
  {
   "cell_type": "code",
   "execution_count": 33,
   "id": "36f505d2",
   "metadata": {
    "tags": []
   },
   "outputs": [
    {
     "data": {
      "text/plain": [
       "                 64393\n",
       "NYC              13502\n",
       "California       11827\n",
       "New York         11436\n",
       "USA               8575\n",
       "Chicago           6948\n",
       "Los Angeles       6684\n",
       "NY                6620\n",
       "San Francisco     6229\n",
       "Seattle           6036\n",
       "Florida           5700\n",
       "NJ                5522\n",
       "Boston            5312\n",
       "United States     4949\n",
       "New York City     4227\n",
       "Canada            4204\n",
       "New Jersey        3986\n",
       "Colorado          3781\n",
       "Brooklyn          3735\n",
       "Texas             3713\n",
       "CA                3478\n",
       "Philadelphia      3155\n",
       "Massachusetts     2763\n",
       "Oregon            2756\n",
       "Virginia          2723\n",
       "Atlanta           2689\n",
       "San Diego         2525\n",
       "NC                2393\n",
       "Maryland          2391\n",
       "Midwest           2297\n",
       "Name: user_location, dtype: Int64"
      ]
     },
     "execution_count": 33,
     "metadata": {},
     "output_type": "execute_result"
    }
   ],
   "source": [
    "# Top 30 locations of social media activity\n",
    "df_parquet_results_trump['user_location'].value_counts().head(30)"
   ]
  },
  {
   "cell_type": "code",
   "execution_count": 34,
   "id": "c3724bb2",
   "metadata": {
    "tags": []
   },
   "outputs": [
    {
     "data": {
      "text/plain": [
       "                                                 49138\n",
       "United States                                     3483\n",
       "New York                                          2485\n",
       "NYC                                               2395\n",
       "USA                                               2281\n",
       "                                                 ...  \n",
       "Merseyside (he/him)                                  1\n",
       " and miraculous so add to the joy                    1\n",
       " nature-loving rescue puppers with tweetable         1\n",
       "Jandiland                                            1\n",
       " 50+ male from Malta. Interested in current a        1\n",
       "Name: user_location, Length: 73592, dtype: Int64"
      ]
     },
     "execution_count": 34,
     "metadata": {},
     "output_type": "execute_result"
    }
   ],
   "source": [
    "df_parquet_results_biden['user_location'].value_counts()"
   ]
  },
  {
   "cell_type": "code",
   "execution_count": 35,
   "id": "4138776c",
   "metadata": {
    "tags": []
   },
   "outputs": [
    {
     "data": {
      "text/plain": [
       "                 49138\n",
       "United States     3483\n",
       "New York          2485\n",
       "NYC               2395\n",
       "USA               2281\n",
       "California        1806\n",
       "NY                1298\n",
       "\"Los Angeles      1229\n",
       "\"New York         1223\n",
       "Chicago           1140\n",
       "Los Angeles       1088\n",
       "San Francisco     1085\n",
       "Seattle            982\n",
       "Florida            982\n",
       "\"California        969\n",
       "Boston             847\n",
       "\"Washington        793\n",
       "NJ                 790\n",
       "Texas              760\n",
       "Virginia           759\n",
       "Canada             718\n",
       "\"Florida           716\n",
       "New York City      711\n",
       "New Jersey         672\n",
       "Brooklyn           630\n",
       "\"London            611\n",
       "CA                 575\n",
       "Colorado           560\n",
       "Earth              558\n",
       "\"Texas             556\n",
       "Name: user_location, dtype: Int64"
      ]
     },
     "execution_count": 35,
     "metadata": {},
     "output_type": "execute_result"
    }
   ],
   "source": [
    "# Top 30 locations of social media activity\n",
    "df_parquet_results_biden['user_location'].value_counts().head(30)"
   ]
  },
  {
   "cell_type": "markdown",
   "id": "14395879",
   "metadata": {},
   "source": [
    "# Create EDA Overview Data Visualization"
   ]
  },
  {
   "cell_type": "code",
   "execution_count": 36,
   "id": "f766c5a8",
   "metadata": {
    "tags": []
   },
   "outputs": [
    {
     "data": {
      "image/png": "[encoded data removed]",
      "text/plain": [
       "<Figure size 432x288 with 1 Axes>"
      ]
     },
     "metadata": {
      "needs_background": "light"
     },
     "output_type": "display_data"
    }
   ],
   "source": [
    "# Data Sources for Each Candidate\n",
    "# Code from ChatGPT\n",
    "\n",
    "import matplotlib.pyplot as plt\n",
    "\n",
    "candidate = ['Trump','Biden']\n",
    "twitter_n = [df_parquet_results_trump['source'].value_counts()[0],df_parquet_results_biden['source'].value_counts()[0]]\n",
    "nyt_n = [df_parquet_results_trump['source'].value_counts()[1],df_parquet_results_biden['source'].value_counts()[1]]\n",
    "\n",
    "x = range(len(candidate))\n",
    "\n",
    "# Plotting the bars\n",
    "plt.bar(x, twitter_n, width=0.4, label='Twitter Mentions', align='center')\n",
    "plt.bar(x, nyt_n, width=0.4, label='NYT Mentions', align='edge')\n",
    "\n",
    "# Adding labels\n",
    "plt.xlabel('Candidates')\n",
    "plt.ylabel('Number of Mentions')\n",
    "plt.title('Twitter and NYT Mentions by Candidate')\n",
    "plt.xticks(x, candidate)\n",
    "plt.legend()\n",
    "\n",
    "# Show plot\n",
    "plt.savefig('DataDist.png')"
   ]
  },
  {
   "cell_type": "code",
   "execution_count": 37,
   "id": "6167ad62",
   "metadata": {},
   "outputs": [
    {
     "data": {
      "image/png": "[encoded data removed]",
      "text/plain": [
       "<Figure size 720x432 with 1 Axes>"
      ]
     },
     "metadata": {
      "needs_background": "light"
     },
     "output_type": "display_data"
    }
   ],
   "source": [
    "from wordcloud import WordCloud\n",
    "import matplotlib.pyplot as plt\n",
    "import re\n",
    "\n",
    "# Sample a subset of comments for generating the word cloud\n",
    "sampled_trump_comments = df_parquet_results_trump['comment_body'].dropna().sample(n=10000, random_state=42)\n",
    "\n",
    "# Concatenate sampled comments for Trump\n",
    "trump_comments_text = ' '.join(sampled_trump_comments)\n",
    "\n",
    "# Define words and patterns to exclude\n",
    "words_to_exclude = ['trump', 'donald', 'donaldtrump', 'https', 'co', 'st'] \n",
    "patterns_to_exclude = [r'\\btrump\\b', r'\\bdonald\\b', r'\\bdonaldtrump\\b', r'https?://\\S+']\n",
    "\n",
    "# Combine words and patterns to exclude\n",
    "exclude_patterns = '|'.join(words_to_exclude + patterns_to_exclude)\n",
    "\n",
    "# Preprocess text to remove specific words and patterns\n",
    "trump_comments_text_cleaned = re.sub(exclude_patterns, '', trump_comments_text, flags=re.IGNORECASE)\n",
    "\n",
    "# Generate word cloud for Trump comments with a limit on the number of words\n",
    "wordcloud_trump = WordCloud(width=800, height=400, background_color='white', max_words=100).generate(trump_comments_text_cleaned)\n",
    "\n",
    "# Plot the word cloud for Trump\n",
    "plt.figure(figsize=(10, 6))\n",
    "plt.imshow(wordcloud_trump, interpolation='bilinear')\n",
    "plt.title('Word Cloud for Trump Comments (Excluding \"Trump\" and \"Donald\")')\n",
    "plt.axis('off')\n",
    "plt.show()"
   ]
  },
  {
   "cell_type": "code",
   "execution_count": 38,
   "id": "f7ae0744",
   "metadata": {},
   "outputs": [
    {
     "data": {
      "image/png": "[encoded data removed]",
      "text/plain": [
       "<Figure size 720x432 with 1 Axes>"
      ]
     },
     "metadata": {
      "needs_background": "light"
     },
     "output_type": "display_data"
    }
   ],
   "source": [
    "# Sample a subset of comments for Biden\n",
    "sampled_biden_comments = df_parquet_results_biden['comment_body'].dropna().sample(n=40000, random_state=42)\n",
    "\n",
    "# Concatenate sampled comments for Biden\n",
    "biden_comments_text = ' '.join(sampled_biden_comments)\n",
    "\n",
    "# Define words and patterns to exclude\n",
    "words_to_exclude = ['biden', 'joe', 'joebiden', 'president', 'election', 'https', 'co','amp']  # Exclude common words and URLs\n",
    "patterns_to_exclude = [r'\\bbiden\\b', r'\\bjoe\\b', r'\\bjoebiden\\b', r'https?://\\S+']\n",
    "\n",
    "# Combine words and patterns to exclude\n",
    "exclude_patterns = '|'.join(words_to_exclude + patterns_to_exclude)\n",
    "\n",
    "# Preprocess text to remove specific words and patterns\n",
    "biden_comments_text_cleaned = re.sub(exclude_patterns, '', biden_comments_text, flags=re.IGNORECASE)\n",
    "\n",
    "# Generate word cloud for Biden comments with a limit on the number of words\n",
    "wordcloud_biden = WordCloud(width=800, height=400, background_color='white', max_words=100).generate(biden_comments_text_cleaned)\n",
    "\n",
    "# Plot the word cloud for Biden\n",
    "plt.figure(figsize=(10, 6))\n",
    "plt.imshow(wordcloud_biden, interpolation='bilinear')\n",
    "plt.title('Word Cloud for Biden Comments (Excluding \"Biden\" and \"Joe\")')\n",
    "plt.axis('off')\n",
    "plt.show()"
   ]
  },
  {
   "cell_type": "markdown",
   "id": "1c8c2e43",
   "metadata": {},
   "source": [
    "# Sentiment Labels Using Textblob"
   ]
  },
  {
   "cell_type": "code",
   "execution_count": 39,
   "id": "2c755327",
   "metadata": {
    "tags": []
   },
   "outputs": [],
   "source": [
    "# Code from ChatGPT\n",
    "#!pip install textblob\n",
    "from textblob import TextBlob\n",
    "\n",
    "def analyze_tweet_sentiment(tweet_text):\n",
    "    analysis = TextBlob(tweet_text)\n",
    "    # Return sentiment polarity (ranging from -1 to 1)\n",
    "    return analysis.sentiment.polarity\n"
   ]
  },
  {
   "cell_type": "code",
   "execution_count": 40,
   "id": "7c5faf7e",
   "metadata": {},
   "outputs": [
    {
     "name": "stderr",
     "output_type": "stream",
     "text": [
      "/tmp/ipykernel_10829/3047377100.py:6: SettingWithCopyWarning: \n",
      "A value is trying to be set on a copy of a slice from a DataFrame.\n",
      "Try using .loc[row_indexer,col_indexer] = value instead\n",
      "\n",
      "See the caveats in the documentation: https://pandas.pydata.org/pandas-docs/stable/user_guide/indexing.html#returning-a-view-versus-a-copy\n",
      "  df_tweets_trump['sentiment_score'] = df_tweets_trump['comment_body'].apply(analyze_tweet_sentiment)\n"
     ]
    }
   ],
   "source": [
    "# Apply sentiment labels to Trump Data\n",
    "if __name__ == \"__main__\":\n",
    "    # Assuming you have a DataFrame named df_tweets with a column 'text' containing tweet text\n",
    "    df_tweets_trump = df_parquet_results_trump[['comment_body']]\n",
    "    # Analyze sentiment for each tweet in the DataFrame\n",
    "    df_tweets_trump['sentiment_score'] = df_tweets_trump['comment_body'].apply(analyze_tweet_sentiment)\n",
    "\n",
    "# Add sentiment output to parent dataframe\n",
    "df_parquet_results_trump['sentiment'] = df_tweets_trump['sentiment_score']\n"
   ]
  },
  {
   "cell_type": "code",
   "execution_count": 41,
   "id": "3e6ce372",
   "metadata": {},
   "outputs": [
    {
     "name": "stderr",
     "output_type": "stream",
     "text": [
      "/tmp/ipykernel_10829/1914027081.py:6: SettingWithCopyWarning: \n",
      "A value is trying to be set on a copy of a slice from a DataFrame.\n",
      "Try using .loc[row_indexer,col_indexer] = value instead\n",
      "\n",
      "See the caveats in the documentation: https://pandas.pydata.org/pandas-docs/stable/user_guide/indexing.html#returning-a-view-versus-a-copy\n",
      "  df_tweets_biden['sentiment_score'] = df_tweets_biden['comment_body'].apply(analyze_tweet_sentiment)\n",
      "/tmp/ipykernel_10829/1914027081.py:9: SettingWithCopyWarning: \n",
      "A value is trying to be set on a copy of a slice from a DataFrame.\n",
      "Try using .loc[row_indexer,col_indexer] = value instead\n",
      "\n",
      "See the caveats in the documentation: https://pandas.pydata.org/pandas-docs/stable/user_guide/indexing.html#returning-a-view-versus-a-copy\n",
      "  df_parquet_results_biden['sentiment'] = df_tweets_biden['sentiment_score']\n"
     ]
    }
   ],
   "source": [
    " # Apply Sentiment labels to Biden Data       \n",
    "if __name__ == \"__main__\":\n",
    "    # Assuming you have a DataFrame named df_tweets with a column 'text' containing tweet text\n",
    "    df_tweets_biden = df_parquet_results_biden[['comment_body']]\n",
    "    # Analyze sentiment for each tweet in the DataFrame\n",
    "    df_tweets_biden['sentiment_score'] = df_tweets_biden['comment_body'].apply(analyze_tweet_sentiment)\n",
    "\n",
    "# Add sentiment output to parent dataframe\n",
    "df_parquet_results_biden['sentiment'] = df_tweets_biden['sentiment_score']\n"
   ]
  },
  {
   "cell_type": "markdown",
   "id": "1d8de509",
   "metadata": {},
   "source": [
    "## Trump"
   ]
  },
  {
   "cell_type": "code",
   "execution_count": 42,
   "id": "7e6888f0",
   "metadata": {
    "tags": []
   },
   "outputs": [
    {
     "data": {
      "text/plain": [
       " 0.000000    451971\n",
       " 0.500000     26665\n",
       " 0.200000     16753\n",
       " 0.250000     15819\n",
       "-0.500000     11778\n",
       "              ...  \n",
       "-0.010000         1\n",
       "-0.004329         1\n",
       " 0.075824         1\n",
       " 0.028571         1\n",
       "-0.200397         1\n",
       "Name: sentiment, Length: 28260, dtype: int64"
      ]
     },
     "execution_count": 42,
     "metadata": {},
     "output_type": "execute_result"
    }
   ],
   "source": [
    "# Examine Trump Sentiment distribution\n",
    "df_parquet_results_trump['sentiment'].value_counts()"
   ]
  },
  {
   "cell_type": "code",
   "execution_count": 43,
   "id": "f86bcf2a",
   "metadata": {
    "tags": []
   },
   "outputs": [
    {
     "data": {
      "text/html": [
       "<div>\n",
       "<style scoped>\n",
       "    .dataframe tbody tr th:only-of-type {\n",
       "        vertical-align: middle;\n",
       "    }\n",
       "\n",
       "    .dataframe tbody tr th {\n",
       "        vertical-align: top;\n",
       "    }\n",
       "\n",
       "    .dataframe thead th {\n",
       "        text-align: right;\n",
       "    }\n",
       "</style>\n",
       "<table border=\"1\" class=\"dataframe\">\n",
       "  <thead>\n",
       "    <tr style=\"text-align: right;\">\n",
       "      <th></th>\n",
       "      <th>comment_body</th>\n",
       "      <th>source</th>\n",
       "      <th>user_location</th>\n",
       "      <th>candidatepoll</th>\n",
       "      <th>sentiment</th>\n",
       "    </tr>\n",
       "  </thead>\n",
       "  <tbody>\n",
       "    <tr>\n",
       "      <th>13</th>\n",
       "      <td>I’m really not understanding the people that c...</td>\n",
       "      <td>tweet</td>\n",
       "      <td>2012-10-20 15:04:32</td>\n",
       "      <td>Trump</td>\n",
       "      <td>-0.090000</td>\n",
       "    </tr>\n",
       "    <tr>\n",
       "      <th>22</th>\n",
       "      <td>\"@washingtonpost 🔴Trump has failed with #COVID19</td>\n",
       "      <td>tweet</td>\n",
       "      <td>2013-08-11 15:50:13</td>\n",
       "      <td>Trump</td>\n",
       "      <td>-0.500000</td>\n",
       "    </tr>\n",
       "    <tr>\n",
       "      <th>27</th>\n",
       "      <td>#Biden yelling from the podiums about #TRUMP m...</td>\n",
       "      <td>tweet</td>\n",
       "      <td>2009-05-04 19:48:56</td>\n",
       "      <td>Trump</td>\n",
       "      <td>-0.800000</td>\n",
       "    </tr>\n",
       "    <tr>\n",
       "      <th>39</th>\n",
       "      <td>@realDonaldTrump The only one #Biden will be l...</td>\n",
       "      <td>tweet</td>\n",
       "      <td>\"Wilkes-Barre</td>\n",
       "      <td>Trump</td>\n",
       "      <td>-0.077778</td>\n",
       "    </tr>\n",
       "    <tr>\n",
       "      <th>50</th>\n",
       "      <td>8 years of #Obiden was way too long! #JoeBiden...</td>\n",
       "      <td>tweet</td>\n",
       "      <td>\"Tennessee</td>\n",
       "      <td>Trump</td>\n",
       "      <td>-0.062500</td>\n",
       "    </tr>\n",
       "  </tbody>\n",
       "</table>\n",
       "</div>"
      ],
      "text/plain": [
       "                                         comment_body source  \\\n",
       "13  I’m really not understanding the people that c...  tweet   \n",
       "22   \"@washingtonpost 🔴Trump has failed with #COVID19  tweet   \n",
       "27  #Biden yelling from the podiums about #TRUMP m...  tweet   \n",
       "39  @realDonaldTrump The only one #Biden will be l...  tweet   \n",
       "50  8 years of #Obiden was way too long! #JoeBiden...  tweet   \n",
       "\n",
       "          user_location candidatepoll  sentiment  \n",
       "13  2012-10-20 15:04:32         Trump  -0.090000  \n",
       "22  2013-08-11 15:50:13         Trump  -0.500000  \n",
       "27  2009-05-04 19:48:56         Trump  -0.800000  \n",
       "39        \"Wilkes-Barre         Trump  -0.077778  \n",
       "50           \"Tennessee         Trump  -0.062500  "
      ]
     },
     "execution_count": 43,
     "metadata": {},
     "output_type": "execute_result"
    }
   ],
   "source": [
    "# look at sample of tweets for negative sentiment\n",
    "df_parquet_results_trump[df_parquet_results_trump['sentiment'] < 0].head(5)"
   ]
  },
  {
   "cell_type": "code",
   "execution_count": 44,
   "id": "bd39d549",
   "metadata": {
    "tags": []
   },
   "outputs": [
    {
     "data": {
      "text/html": [
       "<div>\n",
       "<style scoped>\n",
       "    .dataframe tbody tr th:only-of-type {\n",
       "        vertical-align: middle;\n",
       "    }\n",
       "\n",
       "    .dataframe tbody tr th {\n",
       "        vertical-align: top;\n",
       "    }\n",
       "\n",
       "    .dataframe thead th {\n",
       "        text-align: right;\n",
       "    }\n",
       "</style>\n",
       "<table border=\"1\" class=\"dataframe\">\n",
       "  <thead>\n",
       "    <tr style=\"text-align: right;\">\n",
       "      <th></th>\n",
       "      <th>comment_body</th>\n",
       "      <th>source</th>\n",
       "      <th>user_location</th>\n",
       "      <th>candidatepoll</th>\n",
       "      <th>sentiment</th>\n",
       "    </tr>\n",
       "  </thead>\n",
       "  <tbody>\n",
       "    <tr>\n",
       "      <th>2</th>\n",
       "      <td>\"@BrettFavre @realDonaldTrump Principle’s are ...</td>\n",
       "      <td>tweet</td>\n",
       "      <td>&lt;NA&gt;</td>\n",
       "      <td>Trump</td>\n",
       "      <td>0.0</td>\n",
       "    </tr>\n",
       "    <tr>\n",
       "      <th>3</th>\n",
       "      <td>\"Anything Trump can do</td>\n",
       "      <td>tweet</td>\n",
       "      <td>2626.0</td>\n",
       "      <td>Trump</td>\n",
       "      <td>0.0</td>\n",
       "    </tr>\n",
       "    <tr>\n",
       "      <th>5</th>\n",
       "      <td>\"@BrettFavre @Qanon76 @realDonaldTrump Please ...</td>\n",
       "      <td>tweet</td>\n",
       "      <td>91.0</td>\n",
       "      <td>Trump</td>\n",
       "      <td>0.0</td>\n",
       "    </tr>\n",
       "    <tr>\n",
       "      <th>6</th>\n",
       "      <td>\"@realDonaldTrump I’m going to guess</td>\n",
       "      <td>tweet</td>\n",
       "      <td>2019-08-08 17:25:45</td>\n",
       "      <td>Trump</td>\n",
       "      <td>0.0</td>\n",
       "    </tr>\n",
       "    <tr>\n",
       "      <th>8</th>\n",
       "      <td>\"@DiamondandSilk @realDonaldTrump @RSBNetwork ...</td>\n",
       "      <td>tweet</td>\n",
       "      <td>91.0</td>\n",
       "      <td>Trump</td>\n",
       "      <td>0.0</td>\n",
       "    </tr>\n",
       "  </tbody>\n",
       "</table>\n",
       "</div>"
      ],
      "text/plain": [
       "                                        comment_body source  \\\n",
       "2  \"@BrettFavre @realDonaldTrump Principle’s are ...  tweet   \n",
       "3                             \"Anything Trump can do  tweet   \n",
       "5  \"@BrettFavre @Qanon76 @realDonaldTrump Please ...  tweet   \n",
       "6               \"@realDonaldTrump I’m going to guess  tweet   \n",
       "8  \"@DiamondandSilk @realDonaldTrump @RSBNetwork ...  tweet   \n",
       "\n",
       "         user_location candidatepoll  sentiment  \n",
       "2                 <NA>         Trump        0.0  \n",
       "3               2626.0         Trump        0.0  \n",
       "5                 91.0         Trump        0.0  \n",
       "6  2019-08-08 17:25:45         Trump        0.0  \n",
       "8                 91.0         Trump        0.0  "
      ]
     },
     "execution_count": 44,
     "metadata": {},
     "output_type": "execute_result"
    }
   ],
   "source": [
    "# look at sample of tweets for neutral sentiment\n",
    "df_parquet_results_trump[df_parquet_results_trump['sentiment'] == 0].head(5)"
   ]
  },
  {
   "cell_type": "code",
   "execution_count": 45,
   "id": "d20e08ee",
   "metadata": {
    "tags": []
   },
   "outputs": [
    {
     "data": {
      "text/html": [
       "<div>\n",
       "<style scoped>\n",
       "    .dataframe tbody tr th:only-of-type {\n",
       "        vertical-align: middle;\n",
       "    }\n",
       "\n",
       "    .dataframe tbody tr th {\n",
       "        vertical-align: top;\n",
       "    }\n",
       "\n",
       "    .dataframe thead th {\n",
       "        text-align: right;\n",
       "    }\n",
       "</style>\n",
       "<table border=\"1\" class=\"dataframe\">\n",
       "  <thead>\n",
       "    <tr style=\"text-align: right;\">\n",
       "      <th></th>\n",
       "      <th>comment_body</th>\n",
       "      <th>source</th>\n",
       "      <th>user_location</th>\n",
       "      <th>candidatepoll</th>\n",
       "      <th>sentiment</th>\n",
       "    </tr>\n",
       "  </thead>\n",
       "  <tbody>\n",
       "    <tr>\n",
       "      <th>0</th>\n",
       "      <td>\"WIN = trump https://t.co/v4yRMK4rrX</td>\n",
       "      <td>tweet</td>\n",
       "      <td>&lt;NA&gt;</td>\n",
       "      <td>Trump</td>\n",
       "      <td>0.800000</td>\n",
       "    </tr>\n",
       "    <tr>\n",
       "      <th>1</th>\n",
       "      <td>\"@realDonaldTrump EVRRYONE KNOWS. WELL ANYONE ...</td>\n",
       "      <td>tweet</td>\n",
       "      <td>&lt;NA&gt;</td>\n",
       "      <td>Trump</td>\n",
       "      <td>0.600000</td>\n",
       "    </tr>\n",
       "    <tr>\n",
       "      <th>4</th>\n",
       "      <td>\"Trump is winning.</td>\n",
       "      <td>tweet</td>\n",
       "      <td>&lt;NA&gt;</td>\n",
       "      <td>Trump</td>\n",
       "      <td>0.500000</td>\n",
       "    </tr>\n",
       "    <tr>\n",
       "      <th>7</th>\n",
       "      <td>\"\"\"Real Americans\"\" for Trump ad ;)</td>\n",
       "      <td>tweet</td>\n",
       "      <td>&lt;NA&gt;</td>\n",
       "      <td>Trump</td>\n",
       "      <td>0.225000</td>\n",
       "    </tr>\n",
       "    <tr>\n",
       "      <th>15</th>\n",
       "      <td>\"@realDonaldTrump There is literally nothing m...</td>\n",
       "      <td>tweet</td>\n",
       "      <td>&lt;NA&gt;</td>\n",
       "      <td>Trump</td>\n",
       "      <td>0.152381</td>\n",
       "    </tr>\n",
       "  </tbody>\n",
       "</table>\n",
       "</div>"
      ],
      "text/plain": [
       "                                         comment_body source user_location  \\\n",
       "0                \"WIN = trump https://t.co/v4yRMK4rrX  tweet          <NA>   \n",
       "1   \"@realDonaldTrump EVRRYONE KNOWS. WELL ANYONE ...  tweet          <NA>   \n",
       "4                                 \"Trump is winning.   tweet          <NA>   \n",
       "7                 \"\"\"Real Americans\"\" for Trump ad ;)  tweet          <NA>   \n",
       "15  \"@realDonaldTrump There is literally nothing m...  tweet          <NA>   \n",
       "\n",
       "   candidatepoll  sentiment  \n",
       "0          Trump   0.800000  \n",
       "1          Trump   0.600000  \n",
       "4          Trump   0.500000  \n",
       "7          Trump   0.225000  \n",
       "15         Trump   0.152381  "
      ]
     },
     "execution_count": 45,
     "metadata": {},
     "output_type": "execute_result"
    }
   ],
   "source": [
    "# look at sample of tweets for positive sentiment\n",
    "df_parquet_results_trump[df_parquet_results_trump['sentiment'] > 0].head(5)"
   ]
  },
  {
   "cell_type": "code",
   "execution_count": 46,
   "id": "292cc4ee",
   "metadata": {
    "tags": []
   },
   "outputs": [
    {
     "data": {
      "image/png": "[encoded data removed]",
      "text/plain": [
       "<Figure size 432x288 with 1 Axes>"
      ]
     },
     "metadata": {
      "needs_background": "light"
     },
     "output_type": "display_data"
    }
   ],
   "source": [
    "plt.hist(df_parquet_results_trump['sentiment'], bins=30, edgecolor='black')\n",
    "\n",
    "# Adding labels\n",
    "plt.xlabel('Sentiment Score')\n",
    "plt.ylabel('Frequency')\n",
    "plt.title('Distribution of Sentiment Scores for Trump')\n",
    "\n",
    "# Show plot\n",
    "plt.savefig('TrumpSentDist.png')"
   ]
  },
  {
   "cell_type": "markdown",
   "id": "12cac621",
   "metadata": {},
   "source": [
    "## Biden"
   ]
  },
  {
   "cell_type": "code",
   "execution_count": 47,
   "id": "d6597b60",
   "metadata": {
    "tags": []
   },
   "outputs": [
    {
     "data": {
      "text/plain": [
       " 0.000000    258794\n",
       " 0.500000     12207\n",
       " 0.800000      8162\n",
       " 0.250000      6510\n",
       " 0.200000      5782\n",
       "              ...  \n",
       " 0.051190         1\n",
       " 0.292361         1\n",
       "-0.042593         1\n",
       " 0.173295         1\n",
       " 0.201852         1\n",
       "Name: sentiment, Length: 12118, dtype: int64"
      ]
     },
     "execution_count": 47,
     "metadata": {},
     "output_type": "execute_result"
    }
   ],
   "source": [
    "# Examine Biden Sentiment distribution\n",
    "df_parquet_results_biden['sentiment'].value_counts()"
   ]
  },
  {
   "cell_type": "code",
   "execution_count": 48,
   "id": "509c77de",
   "metadata": {
    "tags": []
   },
   "outputs": [
    {
     "data": {
      "text/html": [
       "<div>\n",
       "<style scoped>\n",
       "    .dataframe tbody tr th:only-of-type {\n",
       "        vertical-align: middle;\n",
       "    }\n",
       "\n",
       "    .dataframe tbody tr th {\n",
       "        vertical-align: top;\n",
       "    }\n",
       "\n",
       "    .dataframe thead th {\n",
       "        text-align: right;\n",
       "    }\n",
       "</style>\n",
       "<table border=\"1\" class=\"dataframe\">\n",
       "  <thead>\n",
       "    <tr style=\"text-align: right;\">\n",
       "      <th></th>\n",
       "      <th>comment_body</th>\n",
       "      <th>source</th>\n",
       "      <th>user_location</th>\n",
       "      <th>candidatepoll</th>\n",
       "      <th>sentiment</th>\n",
       "    </tr>\n",
       "  </thead>\n",
       "  <tbody>\n",
       "    <tr>\n",
       "      <th>9</th>\n",
       "      <td>\"@ossoff @common 3 Trillion Stimulus will be p...</td>\n",
       "      <td>tweet</td>\n",
       "      <td>&lt;NA&gt;</td>\n",
       "      <td>Biden</td>\n",
       "      <td>-0.300000</td>\n",
       "    </tr>\n",
       "    <tr>\n",
       "      <th>20</th>\n",
       "      <td>@SteveGuest So is #TonyBobulinski lying when h...</td>\n",
       "      <td>tweet</td>\n",
       "      <td>2020-10-09 19:24:36</td>\n",
       "      <td>Biden</td>\n",
       "      <td>-0.400000</td>\n",
       "    </tr>\n",
       "    <tr>\n",
       "      <th>31</th>\n",
       "      <td>\"The war in #Yemen may not last long into a #B...</td>\n",
       "      <td>tweet</td>\n",
       "      <td>&lt;NA&gt;</td>\n",
       "      <td>Biden</td>\n",
       "      <td>-0.025000</td>\n",
       "    </tr>\n",
       "    <tr>\n",
       "      <th>39</th>\n",
       "      <td>\"@MSNBC Total crap and #fakenews.  The laptop ...</td>\n",
       "      <td>tweet</td>\n",
       "      <td>2020-10-20 19:52:13</td>\n",
       "      <td>Biden</td>\n",
       "      <td>-0.100000</td>\n",
       "    </tr>\n",
       "    <tr>\n",
       "      <th>50</th>\n",
       "      <td>Over #250k dead Americans endorse #joebiden fr...</td>\n",
       "      <td>tweet</td>\n",
       "      <td>\"Dallas</td>\n",
       "      <td>Biden</td>\n",
       "      <td>-0.031818</td>\n",
       "    </tr>\n",
       "  </tbody>\n",
       "</table>\n",
       "</div>"
      ],
      "text/plain": [
       "                                         comment_body source  \\\n",
       "9   \"@ossoff @common 3 Trillion Stimulus will be p...  tweet   \n",
       "20  @SteveGuest So is #TonyBobulinski lying when h...  tweet   \n",
       "31  \"The war in #Yemen may not last long into a #B...  tweet   \n",
       "39  \"@MSNBC Total crap and #fakenews.  The laptop ...  tweet   \n",
       "50  Over #250k dead Americans endorse #joebiden fr...  tweet   \n",
       "\n",
       "          user_location candidatepoll  sentiment  \n",
       "9                  <NA>         Biden  -0.300000  \n",
       "20  2020-10-09 19:24:36         Biden  -0.400000  \n",
       "31                 <NA>         Biden  -0.025000  \n",
       "39  2020-10-20 19:52:13         Biden  -0.100000  \n",
       "50              \"Dallas         Biden  -0.031818  "
      ]
     },
     "execution_count": 48,
     "metadata": {},
     "output_type": "execute_result"
    }
   ],
   "source": [
    "# look at sample of tweets for negative sentiment\n",
    "df_parquet_results_biden[df_parquet_results_biden['sentiment'] < 0].head(5)"
   ]
  },
  {
   "cell_type": "code",
   "execution_count": 49,
   "id": "20dce457",
   "metadata": {
    "tags": []
   },
   "outputs": [
    {
     "data": {
      "text/html": [
       "<div>\n",
       "<style scoped>\n",
       "    .dataframe tbody tr th:only-of-type {\n",
       "        vertical-align: middle;\n",
       "    }\n",
       "\n",
       "    .dataframe tbody tr th {\n",
       "        vertical-align: top;\n",
       "    }\n",
       "\n",
       "    .dataframe thead th {\n",
       "        text-align: right;\n",
       "    }\n",
       "</style>\n",
       "<table border=\"1\" class=\"dataframe\">\n",
       "  <thead>\n",
       "    <tr style=\"text-align: right;\">\n",
       "      <th></th>\n",
       "      <th>comment_body</th>\n",
       "      <th>source</th>\n",
       "      <th>user_location</th>\n",
       "      <th>candidatepoll</th>\n",
       "      <th>sentiment</th>\n",
       "    </tr>\n",
       "  </thead>\n",
       "  <tbody>\n",
       "    <tr>\n",
       "      <th>0</th>\n",
       "      <td>#Cubanos por #Biden sacan las uñas para defend...</td>\n",
       "      <td>tweet</td>\n",
       "      <td>\"Miami</td>\n",
       "      <td>Biden</td>\n",
       "      <td>0.0</td>\n",
       "    </tr>\n",
       "    <tr>\n",
       "      <th>1</th>\n",
       "      <td>\"#Biden promete firmar una orden ejecutiva par...</td>\n",
       "      <td>tweet</td>\n",
       "      <td>&lt;NA&gt;</td>\n",
       "      <td>Biden</td>\n",
       "      <td>0.0</td>\n",
       "    </tr>\n",
       "    <tr>\n",
       "      <th>2</th>\n",
       "      <td>\"@Fxhedgers 3 Trillion Stimulus will be passed...</td>\n",
       "      <td>tweet</td>\n",
       "      <td>&lt;NA&gt;</td>\n",
       "      <td>Biden</td>\n",
       "      <td>0.0</td>\n",
       "    </tr>\n",
       "    <tr>\n",
       "      <th>3</th>\n",
       "      <td>America’s next president = Democratic af. #Kam...</td>\n",
       "      <td>tweet</td>\n",
       "      <td>2020-07-30 14:42:29</td>\n",
       "      <td>Biden</td>\n",
       "      <td>0.0</td>\n",
       "    </tr>\n",
       "    <tr>\n",
       "      <th>4</th>\n",
       "      <td>\"Here's the next thing Joe Biden says he will ...</td>\n",
       "      <td>tweet</td>\n",
       "      <td>&lt;NA&gt;</td>\n",
       "      <td>Biden</td>\n",
       "      <td>0.0</td>\n",
       "    </tr>\n",
       "  </tbody>\n",
       "</table>\n",
       "</div>"
      ],
      "text/plain": [
       "                                        comment_body source  \\\n",
       "0  #Cubanos por #Biden sacan las uñas para defend...  tweet   \n",
       "1  \"#Biden promete firmar una orden ejecutiva par...  tweet   \n",
       "2  \"@Fxhedgers 3 Trillion Stimulus will be passed...  tweet   \n",
       "3  America’s next president = Democratic af. #Kam...  tweet   \n",
       "4  \"Here's the next thing Joe Biden says he will ...  tweet   \n",
       "\n",
       "         user_location candidatepoll  sentiment  \n",
       "0               \"Miami         Biden        0.0  \n",
       "1                 <NA>         Biden        0.0  \n",
       "2                 <NA>         Biden        0.0  \n",
       "3  2020-07-30 14:42:29         Biden        0.0  \n",
       "4                 <NA>         Biden        0.0  "
      ]
     },
     "execution_count": 49,
     "metadata": {},
     "output_type": "execute_result"
    }
   ],
   "source": [
    "# look at sample of tweets for neutral sentiment\n",
    "df_parquet_results_biden[df_parquet_results_biden['sentiment'] == 0].head(5)"
   ]
  },
  {
   "cell_type": "code",
   "execution_count": 50,
   "id": "d184797d",
   "metadata": {
    "tags": []
   },
   "outputs": [
    {
     "data": {
      "text/html": [
       "<div>\n",
       "<style scoped>\n",
       "    .dataframe tbody tr th:only-of-type {\n",
       "        vertical-align: middle;\n",
       "    }\n",
       "\n",
       "    .dataframe tbody tr th {\n",
       "        vertical-align: top;\n",
       "    }\n",
       "\n",
       "    .dataframe thead th {\n",
       "        text-align: right;\n",
       "    }\n",
       "</style>\n",
       "<table border=\"1\" class=\"dataframe\">\n",
       "  <thead>\n",
       "    <tr style=\"text-align: right;\">\n",
       "      <th></th>\n",
       "      <th>comment_body</th>\n",
       "      <th>source</th>\n",
       "      <th>user_location</th>\n",
       "      <th>candidatepoll</th>\n",
       "      <th>sentiment</th>\n",
       "    </tr>\n",
       "  </thead>\n",
       "  <tbody>\n",
       "    <tr>\n",
       "      <th>8</th>\n",
       "      <td>Is it true? #Biden https://t.co/ly76Q5NVgm</td>\n",
       "      <td>tweet</td>\n",
       "      <td>&lt;NA&gt;</td>\n",
       "      <td>Biden</td>\n",
       "      <td>0.350000</td>\n",
       "    </tr>\n",
       "    <tr>\n",
       "      <th>15</th>\n",
       "      <td>You’re not black if you don’t vote Democrat -B...</td>\n",
       "      <td>tweet</td>\n",
       "      <td></td>\n",
       "      <td>Biden</td>\n",
       "      <td>0.083333</td>\n",
       "    </tr>\n",
       "    <tr>\n",
       "      <th>21</th>\n",
       "      <td>Michigan Democratic Rep. Dingell: 'So many' au...</td>\n",
       "      <td>tweet</td>\n",
       "      <td></td>\n",
       "      <td>Biden</td>\n",
       "      <td>0.500000</td>\n",
       "    </tr>\n",
       "    <tr>\n",
       "      <th>38</th>\n",
       "      <td>\"Vote #Biden if you like to pay more taxes. If...</td>\n",
       "      <td>tweet</td>\n",
       "      <td>&lt;NA&gt;</td>\n",
       "      <td>Biden</td>\n",
       "      <td>0.500000</td>\n",
       "    </tr>\n",
       "    <tr>\n",
       "      <th>48</th>\n",
       "      <td>Rounding the curve so much we’re going in circ...</td>\n",
       "      <td>tweet</td>\n",
       "      <td>31.0</td>\n",
       "      <td>Biden</td>\n",
       "      <td>0.200000</td>\n",
       "    </tr>\n",
       "  </tbody>\n",
       "</table>\n",
       "</div>"
      ],
      "text/plain": [
       "                                         comment_body source user_location  \\\n",
       "8          Is it true? #Biden https://t.co/ly76Q5NVgm  tweet          <NA>   \n",
       "15  You’re not black if you don’t vote Democrat -B...  tweet                 \n",
       "21  Michigan Democratic Rep. Dingell: 'So many' au...  tweet                 \n",
       "38  \"Vote #Biden if you like to pay more taxes. If...  tweet          <NA>   \n",
       "48  Rounding the curve so much we’re going in circ...  tweet          31.0   \n",
       "\n",
       "   candidatepoll  sentiment  \n",
       "8          Biden   0.350000  \n",
       "15         Biden   0.083333  \n",
       "21         Biden   0.500000  \n",
       "38         Biden   0.500000  \n",
       "48         Biden   0.200000  "
      ]
     },
     "execution_count": 50,
     "metadata": {},
     "output_type": "execute_result"
    }
   ],
   "source": [
    "# look at sample of tweets for positive sentiment\n",
    "df_parquet_results_biden[df_parquet_results_biden['sentiment'] > 0].head(5)"
   ]
  },
  {
   "cell_type": "code",
   "execution_count": 51,
   "id": "30f58aa4",
   "metadata": {
    "tags": []
   },
   "outputs": [
    {
     "data": {
      "image/png": "[encoded data removed]",
      "text/plain": [
       "<Figure size 432x288 with 1 Axes>"
      ]
     },
     "metadata": {
      "needs_background": "light"
     },
     "output_type": "display_data"
    }
   ],
   "source": [
    "plt.hist(df_parquet_results_biden['sentiment'], bins=30, edgecolor='black')\n",
    "\n",
    "# Adding labels\n",
    "plt.xlabel('Sentiment Score')\n",
    "plt.ylabel('Frequency')\n",
    "plt.title('Distribution of Sentiment Scores for Biden')\n",
    "\n",
    "# Show plot\n",
    "plt.savefig('BidenSentDist.png')"
   ]
  },
  {
   "cell_type": "markdown",
   "id": "54e0384b",
   "metadata": {},
   "source": [
    "## Preliminary Location Maps of Social Media Activity"
   ]
  },
  {
   "cell_type": "code",
   "execution_count": 52,
   "id": "43d17055",
   "metadata": {},
   "outputs": [],
   "source": [
    "# Color Sentiment on Scale from Blue to Red going dark to light as it approaches neutral\n",
    "\n",
    "# Overlappint popular cities\n",
    "trump_cities = []\n",
    "biden_cities = []\n",
    "\n",
    "# Plot sentiment for cities\n",
    "\n"
   ]
  },
  {
   "cell_type": "markdown",
   "id": "77687906",
   "metadata": {},
   "source": [
    "# Data Bias"
   ]
  },
  {
   "cell_type": "markdown",
   "id": "ec17b181",
   "metadata": {},
   "source": [
    "## Prepare Dataset for Bias Analysis"
   ]
  },
  {
   "cell_type": "code",
   "execution_count": 53,
   "id": "67164568",
   "metadata": {},
   "outputs": [],
   "source": [
    "#import boto3\n",
    "#import sagemaker\n",
    "#import pandas as pd\n",
    "\n",
    "#sess = sagemaker.Session()\n",
    "#bucket = sess.default_bucket()\n",
    "#role = sagemaker.get_execution_role()\n",
    "#region = boto3.Session().region_name\n",
    "#account_id = boto3.client(\"sts\").get_caller_identity().get(\"Account\")\n",
    "\n",
    "#sm = boto3.Session().client(service_name=\"sagemaker\", region_name=region)\n",
    "\n",
    "#from pyathena import connect\n",
    "\n",
    "#s3_staging_dir = \"s3://{0}/athena/staging\".format(bucket)\n",
    "#database_name = \"dbpoliticpulsecomment\"\n",
    "#conn = connect(region_name=region, s3_staging_dir=s3_staging_dir)\n",
    "\n",
    "#from textblob import TextBlob\n",
    "\n",
    "#def analyze_tweet_sentiment(tweet_text):\n",
    "    #analysis = TextBlob(tweet_text)\n",
    "    # Return sentiment polarity (ranging from -1 to 1)\n",
    "    #return analysis.sentiment.polarity\n",
    "\n",
    "\n",
    "# **********************DELETE PORTION ON THE TOP WHEN IT'S FINAL*************************\n",
    "\n"
   ]
  },
  {
   "cell_type": "markdown",
   "id": "282331c6-f82c-471c-b7b1-812aa165c08b",
   "metadata": {},
   "source": [
    "# We can just combine the df_parquet_results_biden and df_parquet_results_trump versus calling another query and running sentiment analysis again. Saves computational time."
   ]
  },
  {
   "cell_type": "code",
   "execution_count": 54,
   "id": "1d1b4af7",
   "metadata": {},
   "outputs": [],
   "source": [
    "#table_comment = \"comment\"\n",
    "\n",
    "#statement = \"\"\"SELECT comment_body, source, candidatepoll FROM {}.{}\n",
    "#WHERE candidatepoll is not Null\n",
    "    #\"\"\".format(\n",
    "    #database_name, table_comment\n",
    "#)\n",
    "#df_combined = pd.read_sql(statement, conn)\n",
    "#df_combined = df_combined.drop_duplicates()\n",
    "#df_combined.info()"
   ]
  },
  {
   "cell_type": "code",
   "execution_count": 55,
   "id": "cf784dcc",
   "metadata": {},
   "outputs": [],
   "source": [
    "# Run sentiment analysis textblob for all candidate\n",
    "#if __name__ == \"__main__\":\n",
    "    # Assuming you have a DataFrame named df_comment with a column 'text' containing tweet text\n",
    "    #df_comment_all = df_combined[['comment_body']]\n",
    "    # Analyze sentiment for each tweet in the DataFrame\n",
    "    #df_comment_all['sentiment_score'] = df_combined['comment_body'].apply(analyze_tweet_sentiment)\n",
    "\n",
    "# Add sentiment output to parent dataframe\n",
    "#df_combined['sentiment'] = df_comment_all['sentiment_score']\n"
   ]
  },
  {
   "cell_type": "code",
   "execution_count": 98,
   "id": "58f92e7c-103e-46b9-8747-66463be6c76b",
   "metadata": {},
   "outputs": [],
   "source": [
    "df_combined = pd.concat([df_parquet_results_biden, df_parquet_results_trump], ignore_index=True)"
   ]
  },
  {
   "cell_type": "code",
   "execution_count": 58,
   "id": "13e970ff",
   "metadata": {},
   "outputs": [
    {
     "name": "stdout",
     "output_type": "stream",
     "text": [
      "<class 'pandas.core.frame.DataFrame'>\n",
      "RangeIndex: 1361610 entries, 0 to 1361609\n",
      "Data columns (total 6 columns):\n",
      " #   Column              Non-Null Count    Dtype  \n",
      "---  ------              --------------    -----  \n",
      " 0   comment_body        1361610 non-null  string \n",
      " 1   source              1361610 non-null  string \n",
      " 2   user_location       1044280 non-null  string \n",
      " 3   candidatepoll       1361610 non-null  object \n",
      " 4   sentiment           1361610 non-null  float64\n",
      " 5   sentiment_category  1361610 non-null  object \n",
      "dtypes: float64(1), object(2), string(3)\n",
      "memory usage: 62.3+ MB\n"
     ]
    },
    {
     "data": {
      "text/plain": [
       "<AxesSubplot:xlabel='sentiment_category', ylabel='count'>"
      ]
     },
     "execution_count": 58,
     "metadata": {},
     "output_type": "execute_result"
    },
    {
     "data": {
      "image/png": "[encoded data removed]",
      "text/plain": [
       "<Figure size 432x288 with 1 Axes>"
      ]
     },
     "metadata": {
      "needs_background": "light"
     },
     "output_type": "display_data"
    }
   ],
   "source": [
    "import seaborn as sns\n",
    "df_combined['sentiment_category'] = df_combined['sentiment'].apply(lambda x: 'negative' if x < 0 else ('neutral' if x == 0 else 'positive'))\n",
    "df_combined.info()\n",
    "sns.countplot(data=df_combined, x=\"sentiment_category\", hue=\"candidatepoll\")\\plt.title('Count Plot for Outcome Variable')\n",
    "plt.xlabel('Sentiment Categories for Candidates')\n",
    "plt.ylabel('Count')"
   ]
  },
  {
   "cell_type": "markdown",
   "id": "55a32ba0-ee44-4b3c-b7a4-5e2741bb31a4",
   "metadata": {},
   "source": [
    "# Feature Engineering and Data Preprocessing"
   ]
  },
  {
   "cell_type": "markdown",
   "id": "aaa4692b-4aad-466b-91fe-8e65c47f3a9e",
   "metadata": {},
   "source": [
    "## Create Outcome Labels: 6 Outcomes"
   ]
  },
  {
   "cell_type": "code",
   "execution_count": 76,
   "id": "b673538e-f691-4b56-95e9-937829e8ffa3",
   "metadata": {
    "tags": []
   },
   "outputs": [],
   "source": [
    "df_combined['SentimentOutcome'] = df_combined['candidatepoll']+\"_\"+df_combined['sentiment_category']"
   ]
  },
  {
   "cell_type": "code",
   "execution_count": 77,
   "id": "ee9ffae7-888b-4d64-aa97-131bf1eb21a9",
   "metadata": {},
   "outputs": [
    {
     "data": {
      "text/plain": [
       "(array([0, 1, 2, 3, 4, 5]),\n",
       " [Text(0, 0, 'Biden_neutral'),\n",
       "  Text(1, 0, 'Biden_positive'),\n",
       "  Text(2, 0, 'Biden_negative'),\n",
       "  Text(3, 0, 'Trump_positive'),\n",
       "  Text(4, 0, 'Trump_neutral'),\n",
       "  Text(5, 0, 'Trump_negative')])"
      ]
     },
     "execution_count": 77,
     "metadata": {},
     "output_type": "execute_result"
    },
    {
     "data": {
      "image/png": "[encoded data removed]",
      "text/plain": [
       "<Figure size 432x288 with 1 Axes>"
      ]
     },
     "metadata": {
      "needs_background": "light"
     },
     "output_type": "display_data"
    }
   ],
   "source": [
    "# Create count plot\n",
    "sns.countplot(x=df_combined['SentimentOutcome'])\n",
    "\n",
    "# Add title and labels\n",
    "plt.title('Count Plot for Outcome Variable')\n",
    "plt.xlabel('Sentiment Categories for Candidates')\n",
    "plt.ylabel('Count')\n",
    "plt.xticks(rotation=45)"
   ]
  },
  {
   "cell_type": "markdown",
   "id": "84421c4f-25fe-4589-8f80-0cd668dd8849",
   "metadata": {},
   "source": [
    "# Location Data: Top 5 States"
   ]
  },
  {
   "cell_type": "code",
   "execution_count": 101,
   "id": "cc93ba03-f54f-433e-9ce4-296604c546b3",
   "metadata": {},
   "outputs": [
    {
     "data": {
      "text/plain": [
       "0         Maryland\n",
       "1          Indiana\n",
       "2    Whitestown IN\n",
       "3        Eureka CA\n",
       "4         Kentucky\n",
       "Name: user_location, dtype: string"
      ]
     },
     "execution_count": 101,
     "metadata": {},
     "output_type": "execute_result"
    }
   ],
   "source": [
    "# Read csv US City from S3 ---> PLANNING TO MOVE IT IN .py AND USE PREPROCESSING JOB FROM SAGEMAKER\n",
    "git_city_loc = \"https://raw.githubusercontent.com/HNStaggs/ADS508_GroupProject/main/uscities.csv\"\n",
    "df_city = pd.read_csv(git_city_loc)\n",
    "\n",
    "df_combined['user_location'].head(5)"
   ]
  },
  {
   "cell_type": "code",
   "execution_count": 106,
   "id": "eff4924d-fc18-430c-aa0b-b9b631d68ac4",
   "metadata": {},
   "outputs": [
    {
     "name": "stdout",
     "output_type": "stream",
     "text": [
      "                                        comment_body       source  \\\n",
      "0  \"@Dr. Girl We only just barely got BIDEN elect...  nyt_comment   \n",
      "1  I've always thought Joe Biden was underrated. ...  nyt_comment   \n",
      "2  \"I’ve seen a lot of Biden in the last few week...  nyt_comment   \n",
      "3  \"In the midst of today's press conference at t...  nyt_comment   \n",
      "4        \"When is Biden going to start campaigning?   nyt_comment   \n",
      "\n",
      "   user_location candidatepoll State ID  \n",
      "0       Maryland         Biden       MD  \n",
      "1        Indiana         Biden       IN  \n",
      "2  Whitestown IN         Biden     None  \n",
      "3      Eureka CA         Biden     None  \n",
      "4       Kentucky         Biden       KY  \n"
     ]
    },
    {
     "name": "stderr",
     "output_type": "stream",
     "text": [
      "/tmp/ipykernel_103/2010171188.py:14: SettingWithCopyWarning: \n",
      "A value is trying to be set on a copy of a slice from a DataFrame.\n",
      "Try using .loc[row_indexer,col_indexer] = value instead\n",
      "\n",
      "See the caveats in the documentation: https://pandas.pydata.org/pandas-docs/stable/user_guide/indexing.html#returning-a-view-versus-a-copy\n",
      "  df_combined['State ID'] = df_combined['user_location'].apply(map_state_id)\n"
     ]
    }
   ],
   "source": [
    "# PREFER TO RUN IT IN .py with SageMaker processing job\n",
    "# TRY IT WITH 100 RECORD ONLY\n",
    "\n",
    "\n",
    "# Create master location table\n",
    "master_location = df_city\n",
    "df_combined = df_combined.head(100)\n",
    "\n",
    "# Function to map city and state name to state ID\n",
    "def map_state_id(city):\n",
    "    for index, loc in master_location.iterrows():\n",
    "        if city.lower() == loc['city'].lower() or city.lower() == loc['state_name'].lower():\n",
    "            return loc['state_id']\n",
    "    return None\n",
    "\n",
    "# Apply mapping function to user location table\n",
    "df_combined['State ID'] = df_combined['user_location'].apply(map_state_id)\n",
    "\n",
    "# Display the user location table with State ID column added\n"
   ]
  },
  {
   "cell_type": "code",
   "execution_count": 108,
   "id": "92c3262a-ff9a-4b0e-aefd-c4c306f6e02e",
   "metadata": {},
   "outputs": [
    {
     "name": "stdout",
     "output_type": "stream",
     "text": [
      "                                         comment_body       source  \\\n",
      "0   \"@Dr. Girl We only just barely got BIDEN elect...  nyt_comment   \n",
      "1   I've always thought Joe Biden was underrated. ...  nyt_comment   \n",
      "2   \"I’ve seen a lot of Biden in the last few week...  nyt_comment   \n",
      "3   \"In the midst of today's press conference at t...  nyt_comment   \n",
      "4         \"When is Biden going to start campaigning?   nyt_comment   \n",
      "..                                                ...          ...   \n",
      "95  Why Are Republicans So Afraid of Voters?: I do...        tweet   \n",
      "96  hey @ladygaga just voted blue!! #Biden #BidenH...        tweet   \n",
      "97  #IVOTED !!!!!!!!!!!!!!! Went for #Blue and vot...        tweet   \n",
      "98  Hi @ladygaga! #IVoted ￼ for #Biden today! Insp...        tweet   \n",
      "99  #JoeBiden @JoeBiden #BidenHarris2020 https://t...        tweet   \n",
      "\n",
      "    user_location candidatepoll State ID  \n",
      "0        Maryland         Biden       MD  \n",
      "1         Indiana         Biden       IN  \n",
      "2   Whitestown IN         Biden     None  \n",
      "3       Eureka CA         Biden     None  \n",
      "4        Kentucky         Biden       KY  \n",
      "..            ...           ...      ...  \n",
      "95     Everywhere         Biden     None  \n",
      "96           itzy         Biden     None  \n",
      "97     mariah x3          Biden     None  \n",
      "98            111         Biden     None  \n",
      "99   \"Albuquerque         Biden     None  \n",
      "\n",
      "[100 rows x 5 columns]\n"
     ]
    }
   ],
   "source": [
    "print(df_combined.head(100))\n"
   ]
  },
  {
   "cell_type": "code",
   "execution_count": null,
   "id": "20e0ebba-8d83-44e3-bc84-1dfe33c7964d",
   "metadata": {},
   "outputs": [],
   "source": []
  },
  {
   "cell_type": "markdown",
   "id": "06411d81-5909-4dc8-8702-325a9b772d90",
   "metadata": {},
   "source": [
    "# Create Final Dataset of Features"
   ]
  },
  {
   "cell_type": "code",
   "execution_count": 78,
   "id": "54665f7e-f605-4861-82b2-ecab8e4ca3b0",
   "metadata": {
    "tags": []
   },
   "outputs": [],
   "source": [
    "from collections import defaultdict\n",
    " \n",
    "# Create ID variable\n",
    "id_list = df_combined.index\n",
    "temp = defaultdict(lambda: len(temp))\n",
    "id_relabel = [temp[id] for id in id_list]\n",
    "df_combined['review_id'] = pd.to_numeric(id_relabel)+1\n",
    "\n",
    "# Create final dataset with outcome variable and comment body\n",
    "df_final = df_combined[['review_id', 'comment_body', 'user_location', 'source', 'SentimentOutcome']]"
   ]
  },
  {
   "cell_type": "code",
   "execution_count": 79,
   "id": "8c9809a7-e730-4a1e-80d9-15f5fee6b522",
   "metadata": {
    "tags": []
   },
   "outputs": [
    {
     "data": {
      "text/html": [
       "<div>\n",
       "<style scoped>\n",
       "    .dataframe tbody tr th:only-of-type {\n",
       "        vertical-align: middle;\n",
       "    }\n",
       "\n",
       "    .dataframe tbody tr th {\n",
       "        vertical-align: top;\n",
       "    }\n",
       "\n",
       "    .dataframe thead th {\n",
       "        text-align: right;\n",
       "    }\n",
       "</style>\n",
       "<table border=\"1\" class=\"dataframe\">\n",
       "  <thead>\n",
       "    <tr style=\"text-align: right;\">\n",
       "      <th></th>\n",
       "      <th>review_id</th>\n",
       "      <th>comment_body</th>\n",
       "      <th>user_location</th>\n",
       "      <th>source</th>\n",
       "      <th>SentimentOutcome</th>\n",
       "    </tr>\n",
       "  </thead>\n",
       "  <tbody>\n",
       "    <tr>\n",
       "      <th>0</th>\n",
       "      <td>1</td>\n",
       "      <td>#Cubanos por #Biden sacan las uñas para defend...</td>\n",
       "      <td>\"Miami</td>\n",
       "      <td>tweet</td>\n",
       "      <td>Biden_neutral</td>\n",
       "    </tr>\n",
       "    <tr>\n",
       "      <th>1</th>\n",
       "      <td>2</td>\n",
       "      <td>\"#Biden promete firmar una orden ejecutiva par...</td>\n",
       "      <td>&lt;NA&gt;</td>\n",
       "      <td>tweet</td>\n",
       "      <td>Biden_neutral</td>\n",
       "    </tr>\n",
       "    <tr>\n",
       "      <th>2</th>\n",
       "      <td>3</td>\n",
       "      <td>\"@Fxhedgers 3 Trillion Stimulus will be passed...</td>\n",
       "      <td>&lt;NA&gt;</td>\n",
       "      <td>tweet</td>\n",
       "      <td>Biden_neutral</td>\n",
       "    </tr>\n",
       "    <tr>\n",
       "      <th>3</th>\n",
       "      <td>4</td>\n",
       "      <td>America’s next president = Democratic af. #Kam...</td>\n",
       "      <td>2020-07-30 14:42:29</td>\n",
       "      <td>tweet</td>\n",
       "      <td>Biden_neutral</td>\n",
       "    </tr>\n",
       "    <tr>\n",
       "      <th>4</th>\n",
       "      <td>5</td>\n",
       "      <td>\"Here's the next thing Joe Biden says he will ...</td>\n",
       "      <td>&lt;NA&gt;</td>\n",
       "      <td>tweet</td>\n",
       "      <td>Biden_neutral</td>\n",
       "    </tr>\n",
       "  </tbody>\n",
       "</table>\n",
       "</div>"
      ],
      "text/plain": [
       "   review_id                                       comment_body  \\\n",
       "0          1  #Cubanos por #Biden sacan las uñas para defend...   \n",
       "1          2  \"#Biden promete firmar una orden ejecutiva par...   \n",
       "2          3  \"@Fxhedgers 3 Trillion Stimulus will be passed...   \n",
       "3          4  America’s next president = Democratic af. #Kam...   \n",
       "4          5  \"Here's the next thing Joe Biden says he will ...   \n",
       "\n",
       "         user_location source SentimentOutcome  \n",
       "0               \"Miami  tweet    Biden_neutral  \n",
       "1                 <NA>  tweet    Biden_neutral  \n",
       "2                 <NA>  tweet    Biden_neutral  \n",
       "3  2020-07-30 14:42:29  tweet    Biden_neutral  \n",
       "4                 <NA>  tweet    Biden_neutral  "
      ]
     },
     "execution_count": 79,
     "metadata": {},
     "output_type": "execute_result"
    }
   ],
   "source": [
    "df_final.head()"
   ]
  },
  {
   "cell_type": "markdown",
   "id": "7b874891-1628-4d9b-8e17-73dd49b7d809",
   "metadata": {},
   "source": [
    "# Store Final Data in S3 Bucket"
   ]
  },
  {
   "cell_type": "code",
   "execution_count": 68,
   "id": "3baae6b5-2bf2-4107-9be8-2912bd63b3f9",
   "metadata": {
    "tags": []
   },
   "outputs": [],
   "source": [
    "#Create folder\n",
    "!mkdir -p ./data-clarify/"
   ]
  },
  {
   "cell_type": "code",
   "execution_count": 70,
   "id": "a979e7da-a860-44c9-87d9-70df459c79df",
   "metadata": {
    "tags": []
   },
   "outputs": [],
   "source": [
    "# chatgpt\n",
    "# list folder\n",
    "import os\n",
    "\n",
    "# Get the current working directory\n",
    "current_directory = \"/home/sagemaker-user/ADS508_GroupProject\""
   ]
  },
  {
   "cell_type": "code",
   "execution_count": 81,
   "id": "7010df4d-c35c-4375-a59e-ac5fe56189bf",
   "metadata": {
    "tags": []
   },
   "outputs": [],
   "source": [
    "# All Data\n",
    "path = \"./data-clarify/tweet_nyt_combined.csv\"\n",
    "df_final.to_csv(path, index=False, header=True)"
   ]
  },
  {
   "cell_type": "code",
   "execution_count": 102,
   "id": "352d1b7d-e37e-444e-a2d7-5de991842d2c",
   "metadata": {
    "tags": []
   },
   "outputs": [
    {
     "data": {
      "text/plain": [
       "'s3://sagemaker-us-east-1-851725336500/ADS508_project/bias-detection-1711077522/tweet_nyt_combined.csv'"
      ]
     },
     "execution_count": 102,
     "metadata": {},
     "output_type": "execute_result"
    }
   ],
   "source": [
    "# Create folder for specific timestamp\n",
    "import time\n",
    "\n",
    "timestamp = int(time.time())\n",
    "\n",
    "all_data_s3_uri = sess.upload_data(bucket=bucket, key_prefix=\"ADS508_project/bias-detection-{}\".format(timestamp), path=path)\n",
    "all_data_s3_uri\n"
   ]
  },
  {
   "cell_type": "code",
   "execution_count": 103,
   "id": "0ed887b0-2c3e-4454-a55c-96f5789c892b",
   "metadata": {
    "tags": []
   },
   "outputs": [
    {
     "name": "stdout",
     "output_type": "stream",
     "text": [
      "2024-03-22 03:18:43  225099075 tweet_nyt_combined.csv\n"
     ]
    }
   ],
   "source": [
    "!aws s3 ls $all_data_s3_uri"
   ]
  },
  {
   "cell_type": "markdown",
   "id": "b2eff174-b653-49d9-9344-1463dd421d40",
   "metadata": {},
   "source": [
    "# Text Preprocessing with DistilBERT and Train/Test/Split"
   ]
  },
  {
   "cell_type": "code",
   "execution_count": 104,
   "id": "e8edf8b5-edf0-4546-8518-528751c3e03d",
   "metadata": {},
   "outputs": [
    {
     "name": "stdout",
     "output_type": "stream",
     "text": [
      "Requirement already satisfied: transformers in /opt/conda/lib/python3.8/site-packages (3.5.1)\n",
      "Requirement already satisfied: numpy in /opt/conda/lib/python3.8/site-packages (from transformers) (1.19.5)\n",
      "Requirement already satisfied: tokenizers==0.9.3 in /opt/conda/lib/python3.8/site-packages (from transformers) (0.9.3)\n",
      "Requirement already satisfied: packaging in /opt/conda/lib/python3.8/site-packages (from transformers) (21.0)\n",
      "Requirement already satisfied: filelock in /opt/conda/lib/python3.8/site-packages (from transformers) (3.3.1)\n",
      "Requirement already satisfied: requests in /opt/conda/lib/python3.8/site-packages (from transformers) (2.31.0)\n",
      "Requirement already satisfied: tqdm>=4.27 in /opt/conda/lib/python3.8/site-packages (from transformers) (4.62.3)\n",
      "Requirement already satisfied: regex!=2019.12.17 in /opt/conda/lib/python3.8/site-packages (from transformers) (2021.8.3)\n",
      "Requirement already satisfied: sentencepiece==0.1.91 in /opt/conda/lib/python3.8/site-packages (from transformers) (0.1.91)\n",
      "Requirement already satisfied: protobuf in /opt/conda/lib/python3.8/site-packages (from transformers) (3.20.3)\n",
      "Requirement already satisfied: sacremoses in /opt/conda/lib/python3.8/site-packages (from transformers) (0.1.1)\n",
      "Requirement already satisfied: pyparsing>=2.0.2 in /opt/conda/lib/python3.8/site-packages (from packaging->transformers) (3.0.4)\n",
      "Requirement already satisfied: charset-normalizer<4,>=2 in /opt/conda/lib/python3.8/site-packages (from requests->transformers) (2.0.4)\n",
      "Requirement already satisfied: idna<4,>=2.5 in /opt/conda/lib/python3.8/site-packages (from requests->transformers) (3.2)\n",
      "Requirement already satisfied: urllib3<3,>=1.21.1 in /opt/conda/lib/python3.8/site-packages (from requests->transformers) (1.26.18)\n",
      "Requirement already satisfied: certifi>=2017.4.17 in /opt/conda/lib/python3.8/site-packages (from requests->transformers) (2024.2.2)\n",
      "Requirement already satisfied: click in /opt/conda/lib/python3.8/site-packages (from sacremoses->transformers) (8.1.7)\n",
      "Requirement already satisfied: joblib in /opt/conda/lib/python3.8/site-packages (from sacremoses->transformers) (1.3.2)\n",
      "\u001b[33mDEPRECATION: pyodbc 4.0.0-unsupported has a non-standard version number. pip 24.1 will enforce this behaviour change. A possible replacement is to upgrade to a newer version of pyodbc or contact the author to suggest that they release a version with a conforming version number. Discussion can be found at https://github.com/pypa/pip/issues/12063\u001b[0m\u001b[33m\n",
      "\u001b[0m\u001b[33mWARNING: Running pip as the 'root' user can result in broken permissions and conflicting behaviour with the system package manager. It is recommended to use a virtual environment instead: https://pip.pypa.io/warnings/venv\u001b[0m\u001b[33m\n",
      "\u001b[0m"
     ]
    },
    {
     "name": "stderr",
     "output_type": "stream",
     "text": [
      "2024-03-22 03:20:10.261247: W tensorflow/stream_executor/platform/default/dso_loader.cc:59] Could not load dynamic library 'libcudart.so.10.1'; dlerror: libcudart.so.10.1: cannot open shared object file: No such file or directory\n",
      "2024-03-22 03:20:10.261300: I tensorflow/stream_executor/cuda/cudart_stub.cc:29] Ignore above cudart dlerror if you do not have a GPU set up on your machine.\n"
     ]
    },
    {
     "data": {
      "application/vnd.jupyter.widget-view+json": {
       "model_id": "b19933b131834792b926a785104c8c2d",
       "version_major": 2,
       "version_minor": 0
      },
      "text/plain": [
       "Downloading:   0%|          | 0.00/232k [00:00<?, ?B/s]"
      ]
     },
     "metadata": {},
     "output_type": "display_data"
    }
   ],
   "source": [
    "#!pip install transformers\n",
    "import transformers\n",
    "import tensorflow as tf\n",
    "import collections\n",
    "import json\n",
    "import os\n",
    "import pandas as pd\n",
    "import csv\n",
    "from transformers import DistilBertTokenizer\n",
    "tokenizer = DistilBertTokenizer.from_pretrained('distilbert-base-uncased')"
   ]
  },
  {
   "cell_type": "code",
   "execution_count": 105,
   "id": "381d5c31-abc5-4765-8a1f-ee38483d67a0",
   "metadata": {
    "tags": []
   },
   "outputs": [],
   "source": [
    "REVIEW_BODY_COLUMN = \"comment_body\"\n",
    "\n",
    "# Update IDs to start from 1\n",
    "from collections import defaultdict\n",
    " \n",
    "REVIEW_ID_COLUMN = \"review_id\"\n",
    "\n",
    "LABEL_COLUMN = \"SentimentOutcome\"\n",
    "LABEL_VALUES = ['Bidennegative', 'Bidenneutral', 'Bidenpositive', 'Trumpnegative', 'Trumpneutral', 'Trumppositive']\n"
   ]
  },
  {
   "cell_type": "code",
   "execution_count": 106,
   "id": "736c80d4-7149-4503-b0fe-3d29c4cb638c",
   "metadata": {
    "tags": []
   },
   "outputs": [
    {
     "name": "stdout",
     "output_type": "stream",
     "text": [
      "Error: cannot read infile: [Errno 2] No such file or directory: 'preprocess-scikit-text-to-bert-feature-store.py'\n"
     ]
    }
   ],
   "source": [
    "#!pygmentize preprocess-scikit-text-to-bert-feature-store.py"
   ]
  },
  {
   "cell_type": "code",
   "execution_count": 107,
   "id": "3945fbb2-b1b0-4773-9bfc-48ae5634abc7",
   "metadata": {
    "tags": []
   },
   "outputs": [
    {
     "name": "stdout",
     "output_type": "stream",
     "text": [
      "Experiment name: PoliticPulse-BERT-Experiment-1711077711\n"
     ]
    }
   ],
   "source": [
    "import time\n",
    "from smexperiments.experiment import Experiment\n",
    "\n",
    "timestamp = int(time.time())\n",
    "\n",
    "experiment = Experiment.create(\n",
    "    experiment_name=\"PoliticPulse-BERT-Experiment-{}\".format(timestamp),\n",
    "    description=\"Politic Pulse BERT Experiment\",\n",
    "    sagemaker_boto_client=sm,\n",
    ")\n",
    "\n",
    "experiment_name = experiment.experiment_name\n",
    "print(\"Experiment name: {}\".format(experiment_name))"
   ]
  },
  {
   "cell_type": "code",
   "execution_count": 108,
   "id": "2f6cec8e-6509-4b64-8bf8-b582a76ab154",
   "metadata": {
    "tags": []
   },
   "outputs": [
    {
     "name": "stdout",
     "output_type": "stream",
     "text": [
      "Trial name: trial-1711077711\n"
     ]
    }
   ],
   "source": [
    "from smexperiments.trial import Trial\n",
    "\n",
    "trial = Trial.create(\n",
    "    trial_name=\"trial-{}\".format(timestamp), experiment_name=experiment_name, sagemaker_boto_client=sm\n",
    ")\n",
    "\n",
    "trial_name = trial.trial_name\n",
    "print(\"Trial name: {}\".format(trial_name))"
   ]
  },
  {
   "cell_type": "code",
   "execution_count": 109,
   "id": "1fc1b599-0811-4887-b565-52c32bfd50d6",
   "metadata": {
    "tags": []
   },
   "outputs": [],
   "source": [
    "experiment_config = {\n",
    "    \"ExperimentName\": experiment_name,\n",
    "    \"TrialName\": trial_name,\n",
    "    \"TrialComponentDisplayName\": \"prepare\",\n",
    "}"
   ]
  },
  {
   "cell_type": "code",
   "execution_count": 110,
   "id": "36309f02-f7ec-4848-9198-a95d5398a403",
   "metadata": {
    "tags": []
   },
   "outputs": [
    {
     "name": "stdout",
     "output_type": "stream",
     "text": [
      "PoliticPulse-BERT-Experiment-1711077711\n",
      "Stored 'experiment_name' (str)\n"
     ]
    }
   ],
   "source": [
    "print(experiment_name)\n",
    "%store experiment_name"
   ]
  },
  {
   "cell_type": "code",
   "execution_count": 111,
   "id": "54df1a80-1c23-4886-8d1e-38ae6d7b951e",
   "metadata": {
    "tags": []
   },
   "outputs": [
    {
     "name": "stdout",
     "output_type": "stream",
     "text": [
      "trial-1711077711\n",
      "Stored 'trial_name' (str)\n"
     ]
    }
   ],
   "source": [
    "print(trial_name)\n",
    "%store trial_name"
   ]
  },
  {
   "cell_type": "code",
   "execution_count": 112,
   "id": "13a40bce-bc83-4332-b3ae-ac869e7cb256",
   "metadata": {
    "tags": []
   },
   "outputs": [],
   "source": [
    "featurestore_runtime = boto3.Session().client(service_name=\"sagemaker-featurestore-runtime\", region_name=region)"
   ]
  },
  {
   "cell_type": "code",
   "execution_count": 113,
   "id": "31f79fb8-a43f-4837-9ec1-aa2ca3cedf97",
   "metadata": {
    "tags": []
   },
   "outputs": [
    {
     "name": "stdout",
     "output_type": "stream",
     "text": [
      "reviews-feature-store-1711077711\n"
     ]
    }
   ],
   "source": [
    "feature_store_offline_prefix = \"reviews-feature-store-\" + str(timestamp)\n",
    "\n",
    "print(feature_store_offline_prefix)"
   ]
  },
  {
   "cell_type": "code",
   "execution_count": 114,
   "id": "4eb24059-d373-4c55-8c91-f515d9566eac",
   "metadata": {
    "tags": []
   },
   "outputs": [
    {
     "name": "stdout",
     "output_type": "stream",
     "text": [
      "reviews-feature-group-1711077711\n"
     ]
    }
   ],
   "source": [
    "feature_group_name = \"reviews-feature-group-\" + str(timestamp)\n",
    "\n",
    "print(feature_group_name)"
   ]
  },
  {
   "cell_type": "code",
   "execution_count": 115,
   "id": "b49828b6-3b1a-4c1a-b34d-adab6ebf95f0",
   "metadata": {
    "tags": []
   },
   "outputs": [],
   "source": [
    "from sagemaker.feature_store.feature_definition import (\n",
    "    FeatureDefinition,\n",
    "    FeatureTypeEnum,\n",
    ")\n",
    "\n",
    "feature_definitions = [\n",
    "    FeatureDefinition(feature_name=\"input_ids\", feature_type=FeatureTypeEnum.STRING),\n",
    "    FeatureDefinition(feature_name=\"input_mask\", feature_type=FeatureTypeEnum.STRING),\n",
    "    FeatureDefinition(feature_name=\"segment_ids\", feature_type=FeatureTypeEnum.STRING),\n",
    "    FeatureDefinition(feature_name=\"label_id\", feature_type=FeatureTypeEnum.INTEGRAL),\n",
    "    FeatureDefinition(feature_name=\"review_id\", feature_type=FeatureTypeEnum.STRING),\n",
    "    FeatureDefinition(feature_name=\"date\", feature_type=FeatureTypeEnum.STRING),\n",
    "    FeatureDefinition(feature_name=\"label\", feature_type=FeatureTypeEnum.INTEGRAL),\n",
    "    #    FeatureDefinition(feature_name='review_body', feature_type=FeatureTypeEnum.STRING)\n",
    "]"
   ]
  },
  {
   "cell_type": "code",
   "execution_count": 116,
   "id": "00815937-f41d-4029-80fc-2633d7faf421",
   "metadata": {
    "tags": []
   },
   "outputs": [
    {
     "name": "stdout",
     "output_type": "stream",
     "text": [
      "FeatureGroup(name='reviews-feature-group-1711077711', sagemaker_session=<sagemaker.session.Session object at 0x7f6e3889de80>, feature_definitions=[FeatureDefinition(feature_name='input_ids', feature_type=<FeatureTypeEnum.STRING: 'String'>), FeatureDefinition(feature_name='input_mask', feature_type=<FeatureTypeEnum.STRING: 'String'>), FeatureDefinition(feature_name='segment_ids', feature_type=<FeatureTypeEnum.STRING: 'String'>), FeatureDefinition(feature_name='label_id', feature_type=<FeatureTypeEnum.INTEGRAL: 'Integral'>), FeatureDefinition(feature_name='review_id', feature_type=<FeatureTypeEnum.STRING: 'String'>), FeatureDefinition(feature_name='date', feature_type=<FeatureTypeEnum.STRING: 'String'>), FeatureDefinition(feature_name='label', feature_type=<FeatureTypeEnum.INTEGRAL: 'Integral'>)])\n"
     ]
    }
   ],
   "source": [
    "from sagemaker.feature_store.feature_group import FeatureGroup\n",
    "\n",
    "feature_group = FeatureGroup(name=feature_group_name, feature_definitions=feature_definitions, sagemaker_session=sess)\n",
    "\n",
    "print(feature_group)"
   ]
  },
  {
   "cell_type": "code",
   "execution_count": 117,
   "id": "63684d77-d87b-4f50-8a77-bd5baa355fa5",
   "metadata": {
    "tags": []
   },
   "outputs": [],
   "source": [
    "processing_instance_type = \"ml.c5.xlarge\"\n",
    "processing_instance_count = 2\n",
    "train_split_percentage = 0.90\n",
    "validation_split_percentage = 0.05\n",
    "test_split_percentage = 0.05\n",
    "balance_dataset = True\n",
    "max_seq_length = 64"
   ]
  },
  {
   "cell_type": "code",
   "execution_count": 118,
   "id": "4640ed54-5f50-4717-a215-d082604a7a61",
   "metadata": {
    "tags": []
   },
   "outputs": [
    {
     "name": "stderr",
     "output_type": "stream",
     "text": [
      "INFO:sagemaker.image_uris:Same images used for training and inference. Defaulting to image scope: inference.\n",
      "INFO:sagemaker.image_uris:Defaulting to only available Python version: py3\n"
     ]
    }
   ],
   "source": [
    "from sagemaker.sklearn.processing import SKLearnProcessor\n",
    "\n",
    "processor = SKLearnProcessor(\n",
    "    framework_version=\"0.23-1\",\n",
    "    role=role,\n",
    "    instance_type=processing_instance_type,\n",
    "    instance_count=processing_instance_count,\n",
    "    env={\"AWS_DEFAULT_REGION\": region},\n",
    "    max_runtime_in_seconds=7200,\n",
    ")"
   ]
  },
  {
   "cell_type": "markdown",
   "id": "a0841423-eb10-4d01-aa12-7a1cde03e94e",
   "metadata": {},
   "source": [
    "# Need to find preprocess file and update to our destination location"
   ]
  },
  {
   "cell_type": "code",
   "execution_count": 119,
   "id": "41504cb5-b609-473e-9d7e-594632682752",
   "metadata": {
    "tags": []
   },
   "outputs": [
    {
     "ename": "ValueError",
     "evalue": "code preprocess-scikit-text-to-bert-feature-store.py wasn't found. Please make sure that the file exists.\n                    ",
     "output_type": "error",
     "traceback": [
      "\u001b[0;31m---------------------------------------------------------------------------\u001b[0m",
      "\u001b[0;31mValueError\u001b[0m                                Traceback (most recent call last)",
      "Cell \u001b[0;32mIn[119], line 3\u001b[0m\n\u001b[1;32m      1\u001b[0m \u001b[38;5;28;01mfrom\u001b[39;00m \u001b[38;5;21;01msagemaker\u001b[39;00m\u001b[38;5;21;01m.\u001b[39;00m\u001b[38;5;21;01mprocessing\u001b[39;00m \u001b[38;5;28;01mimport\u001b[39;00m ProcessingInput, ProcessingOutput\n\u001b[0;32m----> 3\u001b[0m \u001b[43mprocessor\u001b[49m\u001b[38;5;241;43m.\u001b[39;49m\u001b[43mrun\u001b[49m\u001b[43m(\u001b[49m\n\u001b[1;32m      4\u001b[0m \u001b[43m    \u001b[49m\u001b[43mcode\u001b[49m\u001b[38;5;241;43m=\u001b[39;49m\u001b[38;5;124;43m\"\u001b[39;49m\u001b[38;5;124;43mpreprocess-scikit-text-to-bert-feature-store.py\u001b[39;49m\u001b[38;5;124;43m\"\u001b[39;49m\u001b[43m,\u001b[49m\n\u001b[1;32m      5\u001b[0m \u001b[43m    \u001b[49m\u001b[43minputs\u001b[49m\u001b[38;5;241;43m=\u001b[39;49m\u001b[43m[\u001b[49m\n\u001b[1;32m      6\u001b[0m \u001b[43m        \u001b[49m\u001b[43mProcessingInput\u001b[49m\u001b[43m(\u001b[49m\n\u001b[1;32m      7\u001b[0m \u001b[43m            \u001b[49m\u001b[43minput_name\u001b[49m\u001b[38;5;241;43m=\u001b[39;49m\u001b[38;5;124;43m\"\u001b[39;49m\u001b[38;5;124;43mraw-input-data\u001b[39;49m\u001b[38;5;124;43m\"\u001b[39;49m\u001b[43m,\u001b[49m\n\u001b[1;32m      8\u001b[0m \u001b[43m            \u001b[49m\u001b[43msource\u001b[49m\u001b[38;5;241;43m=\u001b[39;49m\u001b[43mall_data_s3_uri\u001b[49m\u001b[43m,\u001b[49m\n\u001b[1;32m      9\u001b[0m \u001b[43m            \u001b[49m\u001b[43mdestination\u001b[49m\u001b[38;5;241;43m=\u001b[39;49m\u001b[38;5;124;43m\"\u001b[39;49m\u001b[38;5;124;43m/opt/ml/processing/input/data/\u001b[39;49m\u001b[38;5;124;43m\"\u001b[39;49m\u001b[43m,\u001b[49m\n\u001b[1;32m     10\u001b[0m \u001b[43m            \u001b[49m\u001b[43ms3_data_distribution_type\u001b[49m\u001b[38;5;241;43m=\u001b[39;49m\u001b[38;5;124;43m\"\u001b[39;49m\u001b[38;5;124;43mShardedByS3Key\u001b[39;49m\u001b[38;5;124;43m\"\u001b[39;49m\u001b[43m,\u001b[49m\n\u001b[1;32m     11\u001b[0m \u001b[43m        \u001b[49m\u001b[43m)\u001b[49m\n\u001b[1;32m     12\u001b[0m \u001b[43m    \u001b[49m\u001b[43m]\u001b[49m\u001b[43m,\u001b[49m\n\u001b[1;32m     13\u001b[0m \u001b[43m    \u001b[49m\u001b[43moutputs\u001b[49m\u001b[38;5;241;43m=\u001b[39;49m\u001b[43m[\u001b[49m\n\u001b[1;32m     14\u001b[0m \u001b[43m        \u001b[49m\u001b[43mProcessingOutput\u001b[49m\u001b[43m(\u001b[49m\n\u001b[1;32m     15\u001b[0m \u001b[43m            \u001b[49m\u001b[43moutput_name\u001b[49m\u001b[38;5;241;43m=\u001b[39;49m\u001b[38;5;124;43m\"\u001b[39;49m\u001b[38;5;124;43mbert-train\u001b[39;49m\u001b[38;5;124;43m\"\u001b[39;49m\u001b[43m,\u001b[49m\u001b[43m \u001b[49m\u001b[43ms3_upload_mode\u001b[49m\u001b[38;5;241;43m=\u001b[39;49m\u001b[38;5;124;43m\"\u001b[39;49m\u001b[38;5;124;43mEndOfJob\u001b[39;49m\u001b[38;5;124;43m\"\u001b[39;49m\u001b[43m,\u001b[49m\u001b[43m \u001b[49m\u001b[43msource\u001b[49m\u001b[38;5;241;43m=\u001b[39;49m\u001b[38;5;124;43m\"\u001b[39;49m\u001b[38;5;124;43m/opt/ml/processing/output/bert/train\u001b[39;49m\u001b[38;5;124;43m\"\u001b[39;49m\n\u001b[1;32m     16\u001b[0m \u001b[43m        \u001b[49m\u001b[43m)\u001b[49m\u001b[43m,\u001b[49m\n\u001b[1;32m     17\u001b[0m \u001b[43m        \u001b[49m\u001b[43mProcessingOutput\u001b[49m\u001b[43m(\u001b[49m\n\u001b[1;32m     18\u001b[0m \u001b[43m            \u001b[49m\u001b[43moutput_name\u001b[49m\u001b[38;5;241;43m=\u001b[39;49m\u001b[38;5;124;43m\"\u001b[39;49m\u001b[38;5;124;43mbert-validation\u001b[39;49m\u001b[38;5;124;43m\"\u001b[39;49m\u001b[43m,\u001b[49m\n\u001b[1;32m     19\u001b[0m \u001b[43m            \u001b[49m\u001b[43ms3_upload_mode\u001b[49m\u001b[38;5;241;43m=\u001b[39;49m\u001b[38;5;124;43m\"\u001b[39;49m\u001b[38;5;124;43mEndOfJob\u001b[39;49m\u001b[38;5;124;43m\"\u001b[39;49m\u001b[43m,\u001b[49m\n\u001b[1;32m     20\u001b[0m \u001b[43m            \u001b[49m\u001b[43msource\u001b[49m\u001b[38;5;241;43m=\u001b[39;49m\u001b[38;5;124;43m\"\u001b[39;49m\u001b[38;5;124;43m/opt/ml/processing/output/bert/validation\u001b[39;49m\u001b[38;5;124;43m\"\u001b[39;49m\u001b[43m,\u001b[49m\n\u001b[1;32m     21\u001b[0m \u001b[43m        \u001b[49m\u001b[43m)\u001b[49m\u001b[43m,\u001b[49m\n\u001b[1;32m     22\u001b[0m \u001b[43m        \u001b[49m\u001b[43mProcessingOutput\u001b[49m\u001b[43m(\u001b[49m\n\u001b[1;32m     23\u001b[0m \u001b[43m            \u001b[49m\u001b[43moutput_name\u001b[49m\u001b[38;5;241;43m=\u001b[39;49m\u001b[38;5;124;43m\"\u001b[39;49m\u001b[38;5;124;43mbert-test\u001b[39;49m\u001b[38;5;124;43m\"\u001b[39;49m\u001b[43m,\u001b[49m\u001b[43m \u001b[49m\u001b[43ms3_upload_mode\u001b[49m\u001b[38;5;241;43m=\u001b[39;49m\u001b[38;5;124;43m\"\u001b[39;49m\u001b[38;5;124;43mEndOfJob\u001b[39;49m\u001b[38;5;124;43m\"\u001b[39;49m\u001b[43m,\u001b[49m\u001b[43m \u001b[49m\u001b[43msource\u001b[49m\u001b[38;5;241;43m=\u001b[39;49m\u001b[38;5;124;43m\"\u001b[39;49m\u001b[38;5;124;43m/opt/ml/processing/output/bert/test\u001b[39;49m\u001b[38;5;124;43m\"\u001b[39;49m\n\u001b[1;32m     24\u001b[0m \u001b[43m        \u001b[49m\u001b[43m)\u001b[49m\u001b[43m,\u001b[49m\n\u001b[1;32m     25\u001b[0m \u001b[43m    \u001b[49m\u001b[43m]\u001b[49m\u001b[43m,\u001b[49m\n\u001b[1;32m     26\u001b[0m \u001b[43m    \u001b[49m\u001b[43marguments\u001b[49m\u001b[38;5;241;43m=\u001b[39;49m\u001b[43m[\u001b[49m\n\u001b[1;32m     27\u001b[0m \u001b[43m        \u001b[49m\u001b[38;5;124;43m\"\u001b[39;49m\u001b[38;5;124;43m--train-split-percentage\u001b[39;49m\u001b[38;5;124;43m\"\u001b[39;49m\u001b[43m,\u001b[49m\n\u001b[1;32m     28\u001b[0m \u001b[43m        \u001b[49m\u001b[38;5;28;43mstr\u001b[39;49m\u001b[43m(\u001b[49m\u001b[43mtrain_split_percentage\u001b[49m\u001b[43m)\u001b[49m\u001b[43m,\u001b[49m\n\u001b[1;32m     29\u001b[0m \u001b[43m        \u001b[49m\u001b[38;5;124;43m\"\u001b[39;49m\u001b[38;5;124;43m--validation-split-percentage\u001b[39;49m\u001b[38;5;124;43m\"\u001b[39;49m\u001b[43m,\u001b[49m\n\u001b[1;32m     30\u001b[0m \u001b[43m        \u001b[49m\u001b[38;5;28;43mstr\u001b[39;49m\u001b[43m(\u001b[49m\u001b[43mvalidation_split_percentage\u001b[49m\u001b[43m)\u001b[49m\u001b[43m,\u001b[49m\n\u001b[1;32m     31\u001b[0m \u001b[43m        \u001b[49m\u001b[38;5;124;43m\"\u001b[39;49m\u001b[38;5;124;43m--test-split-percentage\u001b[39;49m\u001b[38;5;124;43m\"\u001b[39;49m\u001b[43m,\u001b[49m\n\u001b[1;32m     32\u001b[0m \u001b[43m        \u001b[49m\u001b[38;5;28;43mstr\u001b[39;49m\u001b[43m(\u001b[49m\u001b[43mtest_split_percentage\u001b[49m\u001b[43m)\u001b[49m\u001b[43m,\u001b[49m\n\u001b[1;32m     33\u001b[0m \u001b[43m        \u001b[49m\u001b[38;5;124;43m\"\u001b[39;49m\u001b[38;5;124;43m--max-seq-length\u001b[39;49m\u001b[38;5;124;43m\"\u001b[39;49m\u001b[43m,\u001b[49m\n\u001b[1;32m     34\u001b[0m \u001b[43m        \u001b[49m\u001b[38;5;28;43mstr\u001b[39;49m\u001b[43m(\u001b[49m\u001b[43mmax_seq_length\u001b[49m\u001b[43m)\u001b[49m\u001b[43m,\u001b[49m\n\u001b[1;32m     35\u001b[0m \u001b[43m        \u001b[49m\u001b[38;5;124;43m\"\u001b[39;49m\u001b[38;5;124;43m--balance-dataset\u001b[39;49m\u001b[38;5;124;43m\"\u001b[39;49m\u001b[43m,\u001b[49m\n\u001b[1;32m     36\u001b[0m \u001b[43m        \u001b[49m\u001b[38;5;28;43mstr\u001b[39;49m\u001b[43m(\u001b[49m\u001b[43mbalance_dataset\u001b[49m\u001b[43m)\u001b[49m\u001b[43m,\u001b[49m\n\u001b[1;32m     37\u001b[0m \u001b[43m        \u001b[49m\u001b[38;5;124;43m\"\u001b[39;49m\u001b[38;5;124;43m--feature-store-offline-prefix\u001b[39;49m\u001b[38;5;124;43m\"\u001b[39;49m\u001b[43m,\u001b[49m\n\u001b[1;32m     38\u001b[0m \u001b[43m        \u001b[49m\u001b[38;5;28;43mstr\u001b[39;49m\u001b[43m(\u001b[49m\u001b[43mfeature_store_offline_prefix\u001b[49m\u001b[43m)\u001b[49m\u001b[43m,\u001b[49m\n\u001b[1;32m     39\u001b[0m \u001b[43m        \u001b[49m\u001b[38;5;124;43m\"\u001b[39;49m\u001b[38;5;124;43m--feature-group-name\u001b[39;49m\u001b[38;5;124;43m\"\u001b[39;49m\u001b[43m,\u001b[49m\n\u001b[1;32m     40\u001b[0m \u001b[43m        \u001b[49m\u001b[38;5;28;43mstr\u001b[39;49m\u001b[43m(\u001b[49m\u001b[43mfeature_group_name\u001b[49m\u001b[43m)\u001b[49m\u001b[43m,\u001b[49m\n\u001b[1;32m     41\u001b[0m \u001b[43m    \u001b[49m\u001b[43m]\u001b[49m\u001b[43m,\u001b[49m\n\u001b[1;32m     42\u001b[0m \u001b[43m    \u001b[49m\u001b[43mexperiment_config\u001b[49m\u001b[38;5;241;43m=\u001b[39;49m\u001b[43mexperiment_config\u001b[49m\u001b[43m,\u001b[49m\n\u001b[1;32m     43\u001b[0m \u001b[43m    \u001b[49m\u001b[43mlogs\u001b[49m\u001b[38;5;241;43m=\u001b[39;49m\u001b[38;5;28;43;01mTrue\u001b[39;49;00m\u001b[43m,\u001b[49m\n\u001b[1;32m     44\u001b[0m \u001b[43m    \u001b[49m\u001b[43mwait\u001b[49m\u001b[38;5;241;43m=\u001b[39;49m\u001b[38;5;28;43;01mFalse\u001b[39;49;00m\u001b[43m,\u001b[49m\n\u001b[1;32m     45\u001b[0m \u001b[43m)\u001b[49m\n",
      "File \u001b[0;32m/opt/conda/lib/python3.8/site-packages/sagemaker/processing.py:481\u001b[0m, in \u001b[0;36mScriptProcessor.run\u001b[0;34m(self, code, inputs, outputs, arguments, wait, logs, job_name, experiment_config, kms_key)\u001b[0m\n\u001b[1;32m    445\u001b[0m \u001b[38;5;28;01mdef\u001b[39;00m \u001b[38;5;21mrun\u001b[39m(\n\u001b[1;32m    446\u001b[0m     \u001b[38;5;28mself\u001b[39m,\n\u001b[1;32m    447\u001b[0m     code,\n\u001b[0;32m   (...)\u001b[0m\n\u001b[1;32m    455\u001b[0m     kms_key\u001b[38;5;241m=\u001b[39m\u001b[38;5;28;01mNone\u001b[39;00m,\n\u001b[1;32m    456\u001b[0m ):\n\u001b[1;32m    457\u001b[0m \u001b[38;5;250m    \u001b[39m\u001b[38;5;124;03m\"\"\"Runs a processing job.\u001b[39;00m\n\u001b[1;32m    458\u001b[0m \n\u001b[1;32m    459\u001b[0m \u001b[38;5;124;03m    Args:\u001b[39;00m\n\u001b[0;32m   (...)\u001b[0m\n\u001b[1;32m    479\u001b[0m \u001b[38;5;124;03m            user code file (default: None).\u001b[39;00m\n\u001b[1;32m    480\u001b[0m \u001b[38;5;124;03m    \"\"\"\u001b[39;00m\n\u001b[0;32m--> 481\u001b[0m     normalized_inputs, normalized_outputs \u001b[38;5;241m=\u001b[39m \u001b[38;5;28;43mself\u001b[39;49m\u001b[38;5;241;43m.\u001b[39;49m\u001b[43m_normalize_args\u001b[49m\u001b[43m(\u001b[49m\n\u001b[1;32m    482\u001b[0m \u001b[43m        \u001b[49m\u001b[43mjob_name\u001b[49m\u001b[38;5;241;43m=\u001b[39;49m\u001b[43mjob_name\u001b[49m\u001b[43m,\u001b[49m\n\u001b[1;32m    483\u001b[0m \u001b[43m        \u001b[49m\u001b[43marguments\u001b[49m\u001b[38;5;241;43m=\u001b[39;49m\u001b[43marguments\u001b[49m\u001b[43m,\u001b[49m\n\u001b[1;32m    484\u001b[0m \u001b[43m        \u001b[49m\u001b[43minputs\u001b[49m\u001b[38;5;241;43m=\u001b[39;49m\u001b[43minputs\u001b[49m\u001b[43m,\u001b[49m\n\u001b[1;32m    485\u001b[0m \u001b[43m        \u001b[49m\u001b[43moutputs\u001b[49m\u001b[38;5;241;43m=\u001b[39;49m\u001b[43moutputs\u001b[49m\u001b[43m,\u001b[49m\n\u001b[1;32m    486\u001b[0m \u001b[43m        \u001b[49m\u001b[43mcode\u001b[49m\u001b[38;5;241;43m=\u001b[39;49m\u001b[43mcode\u001b[49m\u001b[43m,\u001b[49m\n\u001b[1;32m    487\u001b[0m \u001b[43m        \u001b[49m\u001b[43mkms_key\u001b[49m\u001b[38;5;241;43m=\u001b[39;49m\u001b[43mkms_key\u001b[49m\u001b[43m,\u001b[49m\n\u001b[1;32m    488\u001b[0m \u001b[43m    \u001b[49m\u001b[43m)\u001b[49m\n\u001b[1;32m    490\u001b[0m     \u001b[38;5;28mself\u001b[39m\u001b[38;5;241m.\u001b[39mlatest_job \u001b[38;5;241m=\u001b[39m ProcessingJob\u001b[38;5;241m.\u001b[39mstart_new(\n\u001b[1;32m    491\u001b[0m         processor\u001b[38;5;241m=\u001b[39m\u001b[38;5;28mself\u001b[39m,\n\u001b[1;32m    492\u001b[0m         inputs\u001b[38;5;241m=\u001b[39mnormalized_inputs,\n\u001b[1;32m    493\u001b[0m         outputs\u001b[38;5;241m=\u001b[39mnormalized_outputs,\n\u001b[1;32m    494\u001b[0m         experiment_config\u001b[38;5;241m=\u001b[39mexperiment_config,\n\u001b[1;32m    495\u001b[0m     )\n\u001b[1;32m    496\u001b[0m     \u001b[38;5;28mself\u001b[39m\u001b[38;5;241m.\u001b[39mjobs\u001b[38;5;241m.\u001b[39mappend(\u001b[38;5;28mself\u001b[39m\u001b[38;5;241m.\u001b[39mlatest_job)\n",
      "File \u001b[0;32m/opt/conda/lib/python3.8/site-packages/sagemaker/processing.py:220\u001b[0m, in \u001b[0;36mProcessor._normalize_args\u001b[0;34m(self, job_name, arguments, inputs, outputs, code, kms_key)\u001b[0m\n\u001b[1;32m    199\u001b[0m \u001b[38;5;250m\u001b[39m\u001b[38;5;124;03m\"\"\"Normalizes the arguments so that they can be passed to the job run\u001b[39;00m\n\u001b[1;32m    200\u001b[0m \n\u001b[1;32m    201\u001b[0m \u001b[38;5;124;03mArgs:\u001b[39;00m\n\u001b[0;32m   (...)\u001b[0m\n\u001b[1;32m    216\u001b[0m \u001b[38;5;124;03m        script to run (default: None). A no op in the base class.\u001b[39;00m\n\u001b[1;32m    217\u001b[0m \u001b[38;5;124;03m\"\"\"\u001b[39;00m\n\u001b[1;32m    218\u001b[0m \u001b[38;5;28mself\u001b[39m\u001b[38;5;241m.\u001b[39m_current_job_name \u001b[38;5;241m=\u001b[39m \u001b[38;5;28mself\u001b[39m\u001b[38;5;241m.\u001b[39m_generate_current_job_name(job_name\u001b[38;5;241m=\u001b[39mjob_name)\n\u001b[0;32m--> 220\u001b[0m inputs_with_code \u001b[38;5;241m=\u001b[39m \u001b[38;5;28;43mself\u001b[39;49m\u001b[38;5;241;43m.\u001b[39;49m\u001b[43m_include_code_in_inputs\u001b[49m\u001b[43m(\u001b[49m\u001b[43minputs\u001b[49m\u001b[43m,\u001b[49m\u001b[43m \u001b[49m\u001b[43mcode\u001b[49m\u001b[43m)\u001b[49m\n\u001b[1;32m    221\u001b[0m normalized_inputs \u001b[38;5;241m=\u001b[39m \u001b[38;5;28mself\u001b[39m\u001b[38;5;241m.\u001b[39m_normalize_inputs(inputs_with_code, kms_key)\n\u001b[1;32m    222\u001b[0m normalized_outputs \u001b[38;5;241m=\u001b[39m \u001b[38;5;28mself\u001b[39m\u001b[38;5;241m.\u001b[39m_normalize_outputs(outputs)\n",
      "File \u001b[0;32m/opt/conda/lib/python3.8/site-packages/sagemaker/processing.py:518\u001b[0m, in \u001b[0;36mScriptProcessor._include_code_in_inputs\u001b[0;34m(self, inputs, code)\u001b[0m\n\u001b[1;32m    500\u001b[0m \u001b[38;5;28;01mdef\u001b[39;00m \u001b[38;5;21m_include_code_in_inputs\u001b[39m(\u001b[38;5;28mself\u001b[39m, inputs, code):\n\u001b[1;32m    501\u001b[0m \u001b[38;5;250m    \u001b[39m\u001b[38;5;124;03m\"\"\"Converts code to appropriate input and includes in input list.\u001b[39;00m\n\u001b[1;32m    502\u001b[0m \n\u001b[1;32m    503\u001b[0m \u001b[38;5;124;03m    Side effects include:\u001b[39;00m\n\u001b[0;32m   (...)\u001b[0m\n\u001b[1;32m    516\u001b[0m \u001b[38;5;124;03m            code as `ProcessingInput`.\u001b[39;00m\n\u001b[1;32m    517\u001b[0m \u001b[38;5;124;03m    \"\"\"\u001b[39;00m\n\u001b[0;32m--> 518\u001b[0m     user_code_s3_uri \u001b[38;5;241m=\u001b[39m \u001b[38;5;28;43mself\u001b[39;49m\u001b[38;5;241;43m.\u001b[39;49m\u001b[43m_handle_user_code_url\u001b[49m\u001b[43m(\u001b[49m\u001b[43mcode\u001b[49m\u001b[43m)\u001b[49m\n\u001b[1;32m    519\u001b[0m     user_script_name \u001b[38;5;241m=\u001b[39m \u001b[38;5;28mself\u001b[39m\u001b[38;5;241m.\u001b[39m_get_user_code_name(code)\n\u001b[1;32m    521\u001b[0m     inputs_with_code \u001b[38;5;241m=\u001b[39m \u001b[38;5;28mself\u001b[39m\u001b[38;5;241m.\u001b[39m_convert_code_and_add_to_inputs(inputs, user_code_s3_uri)\n",
      "File \u001b[0;32m/opt/conda/lib/python3.8/site-packages/sagemaker/processing.py:562\u001b[0m, in \u001b[0;36mScriptProcessor._handle_user_code_url\u001b[0;34m(self, code)\u001b[0m\n\u001b[1;32m    560\u001b[0m code_path \u001b[38;5;241m=\u001b[39m url2pathname(code_url\u001b[38;5;241m.\u001b[39mpath)\n\u001b[1;32m    561\u001b[0m \u001b[38;5;28;01mif\u001b[39;00m \u001b[38;5;129;01mnot\u001b[39;00m os\u001b[38;5;241m.\u001b[39mpath\u001b[38;5;241m.\u001b[39mexists(code_path):\n\u001b[0;32m--> 562\u001b[0m     \u001b[38;5;28;01mraise\u001b[39;00m \u001b[38;5;167;01mValueError\u001b[39;00m(\n\u001b[1;32m    563\u001b[0m \u001b[38;5;250m        \u001b[39m\u001b[38;5;124;03m\"\"\"code {} wasn't found. Please make sure that the file exists.\u001b[39;00m\n\u001b[1;32m    564\u001b[0m \u001b[38;5;124;03m        \"\"\"\u001b[39;00m\u001b[38;5;241m.\u001b[39mformat(\n\u001b[1;32m    565\u001b[0m             code\n\u001b[1;32m    566\u001b[0m         )\n\u001b[1;32m    567\u001b[0m     )\n\u001b[1;32m    568\u001b[0m \u001b[38;5;28;01mif\u001b[39;00m \u001b[38;5;129;01mnot\u001b[39;00m os\u001b[38;5;241m.\u001b[39mpath\u001b[38;5;241m.\u001b[39misfile(code_path):\n\u001b[1;32m    569\u001b[0m     \u001b[38;5;28;01mraise\u001b[39;00m \u001b[38;5;167;01mValueError\u001b[39;00m(\n\u001b[1;32m    570\u001b[0m \u001b[38;5;250m        \u001b[39m\u001b[38;5;124;03m\"\"\"code {} must be a file, not a directory. Please pass a path to a file.\u001b[39;00m\n\u001b[1;32m    571\u001b[0m \u001b[38;5;124;03m        \"\"\"\u001b[39;00m\u001b[38;5;241m.\u001b[39mformat(\n\u001b[1;32m    572\u001b[0m             code\n\u001b[1;32m    573\u001b[0m         )\n\u001b[1;32m    574\u001b[0m     )\n",
      "\u001b[0;31mValueError\u001b[0m: code preprocess-scikit-text-to-bert-feature-store.py wasn't found. Please make sure that the file exists.\n                    "
     ]
    }
   ],
   "source": [
    "from sagemaker.processing import ProcessingInput, ProcessingOutput\n",
    "\n",
    "processor.run(\n",
    "    code=\"preprocess-scikit-text-to-bert-feature-store.py\",\n",
    "    inputs=[\n",
    "        ProcessingInput(\n",
    "            input_name=\"raw-input-data\",\n",
    "            source=all_data_s3_uri,\n",
    "            destination=\"/opt/ml/processing/input/data/\",\n",
    "            s3_data_distribution_type=\"ShardedByS3Key\",\n",
    "        )\n",
    "    ],\n",
    "    outputs=[\n",
    "        ProcessingOutput(\n",
    "            output_name=\"bert-train\", s3_upload_mode=\"EndOfJob\", source=\"/opt/ml/processing/output/bert/train\"\n",
    "        ),\n",
    "        ProcessingOutput(\n",
    "            output_name=\"bert-validation\",\n",
    "            s3_upload_mode=\"EndOfJob\",\n",
    "            source=\"/opt/ml/processing/output/bert/validation\",\n",
    "        ),\n",
    "        ProcessingOutput(\n",
    "            output_name=\"bert-test\", s3_upload_mode=\"EndOfJob\", source=\"/opt/ml/processing/output/bert/test\"\n",
    "        ),\n",
    "    ],\n",
    "    arguments=[\n",
    "        \"--train-split-percentage\",\n",
    "        str(train_split_percentage),\n",
    "        \"--validation-split-percentage\",\n",
    "        str(validation_split_percentage),\n",
    "        \"--test-split-percentage\",\n",
    "        str(test_split_percentage),\n",
    "        \"--max-seq-length\",\n",
    "        str(max_seq_length),\n",
    "        \"--balance-dataset\",\n",
    "        str(balance_dataset),\n",
    "        \"--feature-store-offline-prefix\",\n",
    "        str(feature_store_offline_prefix),\n",
    "        \"--feature-group-name\",\n",
    "        str(feature_group_name),\n",
    "    ],\n",
    "    experiment_config=experiment_config,\n",
    "    logs=True,\n",
    "    wait=False,\n",
    ")"
   ]
  },
  {
   "cell_type": "markdown",
   "id": "b403f295-bcd7-4efd-aa21-fafe515c182c",
   "metadata": {},
   "source": [
    "# Tranformation Pipeline"
   ]
  },
  {
   "cell_type": "code",
   "execution_count": null,
   "id": "6ca7ce46-1ded-4abd-9ff6-a91f6d4f5b22",
   "metadata": {},
   "outputs": [],
   "source": [
    "cats_list = ['user_location', 'source']\n",
    "\n",
    "# Create a categorical processing pipeline that uses one-hot encoding, dropping binary columns.\n",
    "cat_pipe = Pipeline([('encoder', OneHotEncoder(drop='if_binary'))])\n",
    "\n",
    "# Combine pipeline steps\n",
    "all_pipe = make_pipeline(ColumnTransformer([('cat', cat_pipe, cats_list)],\n",
    "                                          verbose_feature_names_out=False))\n",
    "# Verify steps\n",
    "all_pipe.named_steps"
   ]
  },
  {
   "cell_type": "markdown",
   "id": "9d957703-298d-4f8a-927b-31215c4e90d5",
   "metadata": {},
   "source": [
    "# Combine Transformed Features with BERT Transformed Text Data"
   ]
  },
  {
   "cell_type": "code",
   "execution_count": null,
   "id": "e098995d-47c2-4f9b-813e-31dda3852fcd",
   "metadata": {},
   "outputs": [],
   "source": []
  },
  {
   "cell_type": "markdown",
   "id": "2a9f15a3-42b3-4f10-aac0-0514ef958492",
   "metadata": {},
   "source": [
    "# Make New Folders with Clean Datasets"
   ]
  },
  {
   "cell_type": "code",
   "execution_count": null,
   "id": "85799855",
   "metadata": {},
   "outputs": [],
   "source": [
    "#Create folder\n",
    "#!mkdir -p ./data-clarify/"
   ]
  },
  {
   "cell_type": "code",
   "execution_count": null,
   "id": "435556bf",
   "metadata": {},
   "outputs": [],
   "source": [
    "# chatgpt\n",
    "# list folder\n",
    "#import os\n",
    "\n",
    "# Get the current working directory\n",
    "#current_directory = \"/home/sagemaker-user/ADS508_GroupProject\"\n",
    "#spec_dir = \"/home/sagemaker-user/ADS508_GroupProject/data-clarify\"\n",
    "\n",
    "# List the contents of the directory\n",
    "#for item in os.listdir(spec_dir):\n",
    "    #full_path = os.path.join(spec_dir, item)\n",
    "    #if os.path.isdir(full_path):\n",
    "        #print(f\"Directory: {item}\")\n",
    "    #else:\n",
    "        #print(f\"File: {item}\")"
   ]
  },
  {
   "cell_type": "code",
   "execution_count": null,
   "id": "12bd42a8",
   "metadata": {},
   "outputs": [],
   "source": [
    "# All Data\n",
    "#path = \"./data-clarify/tweet_nyt_combined.csv\"\n",
    "#df_combined.to_csv(path, index=False, header=True)"
   ]
  },
  {
   "cell_type": "code",
   "execution_count": null,
   "id": "2433678f",
   "metadata": {},
   "outputs": [],
   "source": [
    "# Balance the Dataset by candidate and Sentiment score\n",
    "#import matplotlib.pyplot as plt\n",
    "#import seaborn as sns\n",
    "\n",
    "#df_grouped_by = df_combined.groupby([\"candidatepoll\", \"sentiment_category\"])[[\"candidatepoll\", \"sentiment_category\"]]\n",
    "#df_balanced = df_grouped_by.apply(lambda x: x.sample(df_grouped_by.size().min()).reset_index(drop=True))\n",
    "#df_balanced.shape\n",
    "\n",
    "#sns.countplot(data=df_balanced, x=\"sentiment_category\", hue=\"candidatepoll\")"
   ]
  },
  {
   "cell_type": "code",
   "execution_count": null,
   "id": "be9d7834",
   "metadata": {},
   "outputs": [],
   "source": [
    "#path_balance = \"./data-clarify/combine_balance.csv\"\n",
    "#df_balanced.to_csv(path_balance, index=False, header=True)\n",
    "\n",
    "#path_jsonlines = \"./data-clarify/combine_balance.jsonl\"\n",
    "#df_balanced.to_json(path_or_buf=path_jsonlines, orient=\"records\", lines=True)"
   ]
  },
  {
   "cell_type": "markdown",
   "id": "7312dd63",
   "metadata": {},
   "source": [
    "### Upload Combined and Balance Data to S3"
   ]
  },
  {
   "cell_type": "code",
   "execution_count": null,
   "id": "67d4c37d",
   "metadata": {},
   "outputs": [],
   "source": [
    "# Create folder for specific timestamp\n",
    "import time\n",
    "\n",
    "timestamp = int(time.time())\n",
    "\n",
    "bias_data_s3_uri = sess.upload_data(bucket=bucket, key_prefix=\"ADS508_project/bias-detection-{}\".format(timestamp), path=path)\n",
    "bias_data_s3_uri"
   ]
  },
  {
   "cell_type": "code",
   "execution_count": null,
   "id": "9b272d33",
   "metadata": {},
   "outputs": [],
   "source": [
    "!aws s3 ls $bias_data_s3_uri"
   ]
  },
  {
   "cell_type": "code",
   "execution_count": null,
   "id": "8d52eb49",
   "metadata": {},
   "outputs": [],
   "source": [
    "balanced_bias_data_s3_uri = sess.upload_data(\n",
    "    bucket=bucket, key_prefix=\"ADS508_project/bias-detection-{}\".format(timestamp), path=path_balance\n",
    ")\n",
    "balanced_bias_data_s3_uri"
   ]
  },
  {
   "cell_type": "code",
   "execution_count": null,
   "id": "1b3b3383",
   "metadata": {},
   "outputs": [],
   "source": [
    "!aws s3 ls $balanced_bias_data_s3_uri"
   ]
  },
  {
   "cell_type": "code",
   "execution_count": null,
   "id": "94a6bb3d",
   "metadata": {},
   "outputs": [],
   "source": [
    "balanced_bias_data_jsonlines_s3_uri = sess.upload_data(\n",
    "    bucket=bucket, key_prefix=\"ADS508_project/bias-detection-{}\".format(timestamp), path=path_jsonlines\n",
    ")\n",
    "balanced_bias_data_jsonlines_s3_uri"
   ]
  },
  {
   "cell_type": "code",
   "execution_count": null,
   "id": "316ed7f1",
   "metadata": {},
   "outputs": [],
   "source": [
    "!aws s3 ls $balanced_bias_data_jsonlines_s3_uri"
   ]
  },
  {
   "cell_type": "markdown",
   "id": "b601c5e3",
   "metadata": {},
   "source": [
    "## Run Data Bias Analysis"
   ]
  },
  {
   "cell_type": "code",
   "execution_count": null,
   "id": "e829b584",
   "metadata": {},
   "outputs": [],
   "source": [
    "#!pip install --force-reinstall -q smclarify\n",
    "\n",
    "from smclarify.bias import report\n",
    "from typing import Dict\n",
    "from collections import defaultdict\n",
    "import pandas as pd\n",
    "import seaborn as sns\n",
    "import matplotlib.pyplot as plt"
   ]
  },
  {
   "cell_type": "code",
   "execution_count": null,
   "id": "11c9cf76",
   "metadata": {},
   "outputs": [],
   "source": [
    "!aws s3 cp $bias_data_s3_uri ./data-clarify/"
   ]
  },
  {
   "cell_type": "code",
   "execution_count": null,
   "id": "eee23cae",
   "metadata": {},
   "outputs": [],
   "source": [
    "!aws s3 cp $balanced_bias_data_s3_uri ./data-clarify/"
   ]
  },
  {
   "cell_type": "markdown",
   "id": "94295cea",
   "metadata": {},
   "source": [
    "### Calculate Bias Metrics for all Data\n",
    "#### might not needed from ===>"
   ]
  },
  {
   "cell_type": "markdown",
   "id": "533ede4d",
   "metadata": {},
   "source": [
    "facet_column = report.FacetColumn(name=\"candidatepoll\")\n",
    "\n",
    "label_column = report.LabelColumn(\n",
    "    name=\"sentiment_category\", \n",
    "    series=df_combined[\"sentiment_category\"],\n",
    "    positive_label_values=[5]\n",
    ")"
   ]
  },
  {
   "cell_type": "code",
   "execution_count": null,
   "id": "36107b89",
   "metadata": {},
   "outputs": [],
   "source": [
    "report.bias_report(\n",
    "    df=df_combined, \n",
    "    facet_column=facet_column, \n",
    "    label_column=label_column, \n",
    "    stage_type=report.StageType.PRE_TRAINING, \n",
    "    metrics=[\"CI\", \"DPL\", \"KL\", \"JS\", \"LP\", \"TVD\", \"KS\"]\n",
    ")"
   ]
  },
  {
   "cell_type": "markdown",
   "id": "4ff466df",
   "metadata": {},
   "source": [
    "### Calculate Bias Metrics for Balanced Data"
   ]
  },
  {
   "cell_type": "code",
   "execution_count": null,
   "id": "d0f57ae7",
   "metadata": {},
   "outputs": [],
   "source": [
    "from smclarify.bias import report\n",
    "\n",
    "facet_column = report.FacetColumn(name=\"candidatepoll\")\n",
    "\n",
    "label_column = report.LabelColumn(\n",
    "    name=\"sentiment_category\", \n",
    "    series=df_balanced[\"sentiment_category\"], \n",
    "    positive_label_values=[5]\n",
    ")"
   ]
  },
  {
   "cell_type": "code",
   "execution_count": null,
   "id": "56e8de4e",
   "metadata": {},
   "outputs": [],
   "source": [
    "report.bias_report(\n",
    "    df=df_balanced, \n",
    "    facet_column=facet_column, \n",
    "    label_column=label_column, \n",
    "    stage_type=report.StageType.PRE_TRAINING, \n",
    "    metrics=[\"CI\", \"DPL\", \"KL\", \"JS\", \"LP\", \"TVD\", \"KS\"]\n",
    ")"
   ]
  },
  {
   "cell_type": "markdown",
   "id": "12bfdb39",
   "metadata": {},
   "source": [
    "#### <=== TO MIGHT NOT NEEDED"
   ]
  },
  {
   "cell_type": "markdown",
   "id": "8dd5b807",
   "metadata": {},
   "source": [
    "### Run Data Bias Analysis (Pre-training)"
   ]
  },
  {
   "cell_type": "code",
   "execution_count": null,
   "id": "577750e2",
   "metadata": {},
   "outputs": [],
   "source": [
    "from sagemaker import clarify\n",
    "\n",
    "clarify_processor = clarify.SageMakerClarifyProcessor(\n",
    "    role=role, \n",
    "    instance_count=1, \n",
    "    instance_type=\"ml.c5.xlarge\", \n",
    "    sagemaker_session=sess\n",
    ")"
   ]
  },
  {
   "cell_type": "markdown",
   "id": "5a3eabcf",
   "metadata": {},
   "source": [
    "#### Pre-Training Bias"
   ]
  },
  {
   "cell_type": "code",
   "execution_count": null,
   "id": "b5defe81",
   "metadata": {},
   "outputs": [],
   "source": [
    "bias_report_output_path = \"s3://{}/ADS508_project/clarify\".format(bucket)\n",
    "\n",
    "bias_data_config = clarify.DataConfig(\n",
    "    s3_data_input_path=bias_data_s3_uri,\n",
    "    s3_output_path=bias_report_output_path,\n",
    "    label=\"sentiment_category\",\n",
    "    headers=df_combined.columns.to_list(),\n",
    "    dataset_type=\"text/csv\",\n",
    ")\n"
   ]
  },
  {
   "cell_type": "code",
   "execution_count": null,
   "id": "b0feb8da",
   "metadata": {},
   "outputs": [],
   "source": [
    "# Trump\n",
    "bias_config = clarify.BiasConfig(\n",
    "    label_values_or_threshold=[5],\n",
    "    facet_name=\"candidatepoll\",\n",
    "    facet_values_or_threshold=[\"Trump\"],\n",
    ")\n",
    "\n",
    "clarify_processor.run_pre_training_bias(\n",
    "    data_config=bias_data_config, \n",
    "    data_bias_config=bias_config, \n",
    "    methods=[\"CI\", \"DPL\", \"KL\", \"JS\", \"LP\", \"TVD\", \"KS\"],\n",
    "    wait=False, \n",
    "    logs=False\n",
    ")\n",
    "\n",
    "run_pre_training_bias_processing_job_name = clarify_processor.latest_job.job_name\n",
    "run_pre_training_bias_processing_job_name\n",
    "\n"
   ]
  },
  {
   "cell_type": "code",
   "execution_count": null,
   "id": "ccc967f6",
   "metadata": {},
   "outputs": [],
   "source": [
    "# Biden\n",
    "bias_config = clarify.BiasConfig(\n",
    "    label_values_or_threshold=[5],\n",
    "    facet_name=\"candidatepoll\",\n",
    "    facet_values_or_threshold=[\"Biden\"],\n",
    ")\n",
    "\n",
    "clarify_processor.run_pre_training_bias(\n",
    "    data_config=bias_data_config, \n",
    "    data_bias_config=bias_config, \n",
    "    methods=[\"CI\", \"DPL\", \"KL\", \"JS\", \"LP\", \"TVD\", \"KS\"],\n",
    "    wait=False, \n",
    "    logs=False\n",
    ")\n",
    "\n",
    "run_pre_training_bias_processing_job_name = clarify_processor.latest_job.job_name\n",
    "run_pre_training_bias_processing_job_name\n"
   ]
  },
  {
   "cell_type": "markdown",
   "id": "4f9f6ec4",
   "metadata": {},
   "source": [
    "#### Download report"
   ]
  },
  {
   "cell_type": "code",
   "execution_count": null,
   "id": "a09c6782",
   "metadata": {},
   "outputs": [],
   "source": [
    "from IPython.core.display import display, HTML\n",
    "\n",
    "display(\n",
    "    HTML(\n",
    "        '<b>Review <a target=\"blank\" href=\"https://console.aws.amazon.com/sagemaker/home?region={}#/processing-jobs/{}\">Processing Job</a></b>'.format(\n",
    "            region, run_pre_training_bias_processing_job_name\n",
    "        )\n",
    "    )\n",
    ")\n",
    "from IPython.core.display import display, HTML\n",
    "\n",
    "display(\n",
    "    HTML(\n",
    "        '<b>Review <a target=\"blank\" href=\"https://console.aws.amazon.com/cloudwatch/home?region={}#logStream:group=/aws/sagemaker/ProcessingJobs;prefix={};streamFilter=typeLogStreamPrefix\">CloudWatch Logs</a> After About 5 Minutes</b>'.format(\n",
    "            region, run_pre_training_bias_processing_job_name\n",
    "        )\n",
    "    )\n",
    ")\n",
    "\n",
    "from IPython.core.display import display, HTML\n",
    "\n",
    "display(\n",
    "    HTML(\n",
    "        '<b>Review <a target=\"blank\" href=\"https://s3.console.aws.amazon.com/s3/buckets/{}/{}/?region={}&tab=overview\">S3 Output Data</a> After The Processing Job Has Completed</b>'.format(\n",
    "            bucket, run_pre_training_bias_processing_job_name, region\n",
    "        )\n",
    "    )\n",
    ")"
   ]
  },
  {
   "cell_type": "code",
   "execution_count": null,
   "id": "1c74ae09",
   "metadata": {},
   "outputs": [],
   "source": [
    "running_processor = sagemaker.processing.ProcessingJob.from_processing_name(\n",
    "    processing_job_name=run_pre_training_bias_processing_job_name, sagemaker_session=sess\n",
    ")\n",
    "\n",
    "processing_job_description = running_processor.describe()\n",
    "\n",
    "print(processing_job_description)"
   ]
  },
  {
   "cell_type": "code",
   "execution_count": null,
   "id": "7aee8468",
   "metadata": {},
   "outputs": [],
   "source": [
    "!aws s3 ls $bias_report_output_path/"
   ]
  },
  {
   "cell_type": "code",
   "execution_count": null,
   "id": "83a98ee3",
   "metadata": {},
   "outputs": [],
   "source": [
    "!aws s3 cp --recursive $bias_report_output_path ./generated_bias_report/"
   ]
  },
  {
   "cell_type": "code",
   "execution_count": null,
   "id": "9329ab05",
   "metadata": {},
   "outputs": [],
   "source": [
    "from IPython.core.display import display, HTML\n",
    "\n",
    "display(HTML('<b>Review <a target=\"blank\" href=\"./generated_bias_report/report.html\">Bias Report</a></b>'))"
   ]
  },
  {
   "cell_type": "code",
   "execution_count": null,
   "id": "f00daf0a",
   "metadata": {},
   "outputs": [],
   "source": []
  },
  {
   "cell_type": "code",
   "execution_count": null,
   "id": "d2f7808b",
   "metadata": {
    "tags": []
   },
   "outputs": [],
   "source": [
    "path = \"./data-clarify/amazon_reviews_us_giftcards_software_videogames.csv\"\n",
    "df.to_csv(path, index=False, header=True)"
   ]
  }
 ],
 "metadata": {
  "availableInstances": [
   {
    "_defaultOrder": 0,
    "_isFastLaunch": true,
    "category": "General purpose",
    "gpuNum": 0,
    "hideHardwareSpecs": false,
    "memoryGiB": 4,
    "name": "ml.t3.medium",
    "vcpuNum": 2
   },
   {
    "_defaultOrder": 1,
    "_isFastLaunch": false,
    "category": "General purpose",
    "gpuNum": 0,
    "hideHardwareSpecs": false,
    "memoryGiB": 8,
    "name": "ml.t3.large",
    "vcpuNum": 2
   },
   {
    "_defaultOrder": 2,
    "_isFastLaunch": false,
    "category": "General purpose",
    "gpuNum": 0,
    "hideHardwareSpecs": false,
    "memoryGiB": 16,
    "name": "ml.t3.xlarge",
    "vcpuNum": 4
   },
   {
    "_defaultOrder": 3,
    "_isFastLaunch": false,
    "category": "General purpose",
    "gpuNum": 0,
    "hideHardwareSpecs": false,
    "memoryGiB": 32,
    "name": "ml.t3.2xlarge",
    "vcpuNum": 8
   },
   {
    "_defaultOrder": 4,
    "_isFastLaunch": true,
    "category": "General purpose",
    "gpuNum": 0,
    "hideHardwareSpecs": false,
    "memoryGiB": 8,
    "name": "ml.m5.large",
    "vcpuNum": 2
   },
   {
    "_defaultOrder": 5,
    "_isFastLaunch": false,
    "category": "General purpose",
    "gpuNum": 0,
    "hideHardwareSpecs": false,
    "memoryGiB": 16,
    "name": "ml.m5.xlarge",
    "vcpuNum": 4
   },
   {
    "_defaultOrder": 6,
    "_isFastLaunch": false,
    "category": "General purpose",
    "gpuNum": 0,
    "hideHardwareSpecs": false,
    "memoryGiB": 32,
    "name": "ml.m5.2xlarge",
    "vcpuNum": 8
   },
   {
    "_defaultOrder": 7,
    "_isFastLaunch": false,
    "category": "General purpose",
    "gpuNum": 0,
    "hideHardwareSpecs": false,
    "memoryGiB": 64,
    "name": "ml.m5.4xlarge",
    "vcpuNum": 16
   },
   {
    "_defaultOrder": 8,
    "_isFastLaunch": false,
    "category": "General purpose",
    "gpuNum": 0,
    "hideHardwareSpecs": false,
    "memoryGiB": 128,
    "name": "ml.m5.8xlarge",
    "vcpuNum": 32
   },
   {
    "_defaultOrder": 9,
    "_isFastLaunch": false,
    "category": "General purpose",
    "gpuNum": 0,
    "hideHardwareSpecs": false,
    "memoryGiB": 192,
    "name": "ml.m5.12xlarge",
    "vcpuNum": 48
   },
   {
    "_defaultOrder": 10,
    "_isFastLaunch": false,
    "category": "General purpose",
    "gpuNum": 0,
    "hideHardwareSpecs": false,
    "memoryGiB": 256,
    "name": "ml.m5.16xlarge",
    "vcpuNum": 64
   },
   {
    "_defaultOrder": 11,
    "_isFastLaunch": false,
    "category": "General purpose",
    "gpuNum": 0,
    "hideHardwareSpecs": false,
    "memoryGiB": 384,
    "name": "ml.m5.24xlarge",
    "vcpuNum": 96
   },
   {
    "_defaultOrder": 12,
    "_isFastLaunch": false,
    "category": "General purpose",
    "gpuNum": 0,
    "hideHardwareSpecs": false,
    "memoryGiB": 8,
    "name": "ml.m5d.large",
    "vcpuNum": 2
   },
   {
    "_defaultOrder": 13,
    "_isFastLaunch": false,
    "category": "General purpose",
    "gpuNum": 0,
    "hideHardwareSpecs": false,
    "memoryGiB": 16,
    "name": "ml.m5d.xlarge",
    "vcpuNum": 4
   },
   {
    "_defaultOrder": 14,
    "_isFastLaunch": false,
    "category": "General purpose",
    "gpuNum": 0,
    "hideHardwareSpecs": false,
    "memoryGiB": 32,
    "name": "ml.m5d.2xlarge",
    "vcpuNum": 8
   },
   {
    "_defaultOrder": 15,
    "_isFastLaunch": false,
    "category": "General purpose",
    "gpuNum": 0,
    "hideHardwareSpecs": false,
    "memoryGiB": 64,
    "name": "ml.m5d.4xlarge",
    "vcpuNum": 16
   },
   {
    "_defaultOrder": 16,
    "_isFastLaunch": false,
    "category": "General purpose",
    "gpuNum": 0,
    "hideHardwareSpecs": false,
    "memoryGiB": 128,
    "name": "ml.m5d.8xlarge",
    "vcpuNum": 32
   },
   {
    "_defaultOrder": 17,
    "_isFastLaunch": false,
    "category": "General purpose",
    "gpuNum": 0,
    "hideHardwareSpecs": false,
    "memoryGiB": 192,
    "name": "ml.m5d.12xlarge",
    "vcpuNum": 48
   },
   {
    "_defaultOrder": 18,
    "_isFastLaunch": false,
    "category": "General purpose",
    "gpuNum": 0,
    "hideHardwareSpecs": false,
    "memoryGiB": 256,
    "name": "ml.m5d.16xlarge",
    "vcpuNum": 64
   },
   {
    "_defaultOrder": 19,
    "_isFastLaunch": false,
    "category": "General purpose",
    "gpuNum": 0,
    "hideHardwareSpecs": false,
    "memoryGiB": 384,
    "name": "ml.m5d.24xlarge",
    "vcpuNum": 96
   },
   {
    "_defaultOrder": 20,
    "_isFastLaunch": false,
    "category": "General purpose",
    "gpuNum": 0,
    "hideHardwareSpecs": true,
    "memoryGiB": 0,
    "name": "ml.geospatial.interactive",
    "supportedImageNames": [
     "sagemaker-geospatial-v1-0"
    ],
    "vcpuNum": 0
   },
   {
    "_defaultOrder": 21,
    "_isFastLaunch": true,
    "category": "Compute optimized",
    "gpuNum": 0,
    "hideHardwareSpecs": false,
    "memoryGiB": 4,
    "name": "ml.c5.large",
    "vcpuNum": 2
   },
   {
    "_defaultOrder": 22,
    "_isFastLaunch": false,
    "category": "Compute optimized",
    "gpuNum": 0,
    "hideHardwareSpecs": false,
    "memoryGiB": 8,
    "name": "ml.c5.xlarge",
    "vcpuNum": 4
   },
   {
    "_defaultOrder": 23,
    "_isFastLaunch": false,
    "category": "Compute optimized",
    "gpuNum": 0,
    "hideHardwareSpecs": false,
    "memoryGiB": 16,
    "name": "ml.c5.2xlarge",
    "vcpuNum": 8
   },
   {
    "_defaultOrder": 24,
    "_isFastLaunch": false,
    "category": "Compute optimized",
    "gpuNum": 0,
    "hideHardwareSpecs": false,
    "memoryGiB": 32,
    "name": "ml.c5.4xlarge",
    "vcpuNum": 16
   },
   {
    "_defaultOrder": 25,
    "_isFastLaunch": false,
    "category": "Compute optimized",
    "gpuNum": 0,
    "hideHardwareSpecs": false,
    "memoryGiB": 72,
    "name": "ml.c5.9xlarge",
    "vcpuNum": 36
   },
   {
    "_defaultOrder": 26,
    "_isFastLaunch": false,
    "category": "Compute optimized",
    "gpuNum": 0,
    "hideHardwareSpecs": false,
    "memoryGiB": 96,
    "name": "ml.c5.12xlarge",
    "vcpuNum": 48
   },
   {
    "_defaultOrder": 27,
    "_isFastLaunch": false,
    "category": "Compute optimized",
    "gpuNum": 0,
    "hideHardwareSpecs": false,
    "memoryGiB": 144,
    "name": "ml.c5.18xlarge",
    "vcpuNum": 72
   },
   {
    "_defaultOrder": 28,
    "_isFastLaunch": false,
    "category": "Compute optimized",
    "gpuNum": 0,
    "hideHardwareSpecs": false,
    "memoryGiB": 192,
    "name": "ml.c5.24xlarge",
    "vcpuNum": 96
   },
   {
    "_defaultOrder": 29,
    "_isFastLaunch": true,
    "category": "Accelerated computing",
    "gpuNum": 1,
    "hideHardwareSpecs": false,
    "memoryGiB": 16,
    "name": "ml.g4dn.xlarge",
    "vcpuNum": 4
   },
   {
    "_defaultOrder": 30,
    "_isFastLaunch": false,
    "category": "Accelerated computing",
    "gpuNum": 1,
    "hideHardwareSpecs": false,
    "memoryGiB": 32,
    "name": "ml.g4dn.2xlarge",
    "vcpuNum": 8
   },
   {
    "_defaultOrder": 31,
    "_isFastLaunch": false,
    "category": "Accelerated computing",
    "gpuNum": 1,
    "hideHardwareSpecs": false,
    "memoryGiB": 64,
    "name": "ml.g4dn.4xlarge",
    "vcpuNum": 16
   },
   {
    "_defaultOrder": 32,
    "_isFastLaunch": false,
    "category": "Accelerated computing",
    "gpuNum": 1,
    "hideHardwareSpecs": false,
    "memoryGiB": 128,
    "name": "ml.g4dn.8xlarge",
    "vcpuNum": 32
   },
   {
    "_defaultOrder": 33,
    "_isFastLaunch": false,
    "category": "Accelerated computing",
    "gpuNum": 4,
    "hideHardwareSpecs": false,
    "memoryGiB": 192,
    "name": "ml.g4dn.12xlarge",
    "vcpuNum": 48
   },
   {
    "_defaultOrder": 34,
    "_isFastLaunch": false,
    "category": "Accelerated computing",
    "gpuNum": 1,
    "hideHardwareSpecs": false,
    "memoryGiB": 256,
    "name": "ml.g4dn.16xlarge",
    "vcpuNum": 64
   },
   {
    "_defaultOrder": 35,
    "_isFastLaunch": false,
    "category": "Accelerated computing",
    "gpuNum": 1,
    "hideHardwareSpecs": false,
    "memoryGiB": 61,
    "name": "ml.p3.2xlarge",
    "vcpuNum": 8
   },
   {
    "_defaultOrder": 36,
    "_isFastLaunch": false,
    "category": "Accelerated computing",
    "gpuNum": 4,
    "hideHardwareSpecs": false,
    "memoryGiB": 244,
    "name": "ml.p3.8xlarge",
    "vcpuNum": 32
   },
   {
    "_defaultOrder": 37,
    "_isFastLaunch": false,
    "category": "Accelerated computing",
    "gpuNum": 8,
    "hideHardwareSpecs": false,
    "memoryGiB": 488,
    "name": "ml.p3.16xlarge",
    "vcpuNum": 64
   },
   {
    "_defaultOrder": 38,
    "_isFastLaunch": false,
    "category": "Accelerated computing",
    "gpuNum": 8,
    "hideHardwareSpecs": false,
    "memoryGiB": 768,
    "name": "ml.p3dn.24xlarge",
    "vcpuNum": 96
   },
   {
    "_defaultOrder": 39,
    "_isFastLaunch": false,
    "category": "Memory Optimized",
    "gpuNum": 0,
    "hideHardwareSpecs": false,
    "memoryGiB": 16,
    "name": "ml.r5.large",
    "vcpuNum": 2
   },
   {
    "_defaultOrder": 40,
    "_isFastLaunch": false,
    "category": "Memory Optimized",
    "gpuNum": 0,
    "hideHardwareSpecs": false,
    "memoryGiB": 32,
    "name": "ml.r5.xlarge",
    "vcpuNum": 4
   },
   {
    "_defaultOrder": 41,
    "_isFastLaunch": false,
    "category": "Memory Optimized",
    "gpuNum": 0,
    "hideHardwareSpecs": false,
    "memoryGiB": 64,
    "name": "ml.r5.2xlarge",
    "vcpuNum": 8
   },
   {
    "_defaultOrder": 42,
    "_isFastLaunch": false,
    "category": "Memory Optimized",
    "gpuNum": 0,
    "hideHardwareSpecs": false,
    "memoryGiB": 128,
    "name": "ml.r5.4xlarge",
    "vcpuNum": 16
   },
   {
    "_defaultOrder": 43,
    "_isFastLaunch": false,
    "category": "Memory Optimized",
    "gpuNum": 0,
    "hideHardwareSpecs": false,
    "memoryGiB": 256,
    "name": "ml.r5.8xlarge",
    "vcpuNum": 32
   },
   {
    "_defaultOrder": 44,
    "_isFastLaunch": false,
    "category": "Memory Optimized",
    "gpuNum": 0,
    "hideHardwareSpecs": false,
    "memoryGiB": 384,
    "name": "ml.r5.12xlarge",
    "vcpuNum": 48
   },
   {
    "_defaultOrder": 45,
    "_isFastLaunch": false,
    "category": "Memory Optimized",
    "gpuNum": 0,
    "hideHardwareSpecs": false,
    "memoryGiB": 512,
    "name": "ml.r5.16xlarge",
    "vcpuNum": 64
   },
   {
    "_defaultOrder": 46,
    "_isFastLaunch": false,
    "category": "Memory Optimized",
    "gpuNum": 0,
    "hideHardwareSpecs": false,
    "memoryGiB": 768,
    "name": "ml.r5.24xlarge",
    "vcpuNum": 96
   },
   {
    "_defaultOrder": 47,
    "_isFastLaunch": false,
    "category": "Accelerated computing",
    "gpuNum": 1,
    "hideHardwareSpecs": false,
    "memoryGiB": 16,
    "name": "ml.g5.xlarge",
    "vcpuNum": 4
   },
   {
    "_defaultOrder": 48,
    "_isFastLaunch": false,
    "category": "Accelerated computing",
    "gpuNum": 1,
    "hideHardwareSpecs": false,
    "memoryGiB": 32,
    "name": "ml.g5.2xlarge",
    "vcpuNum": 8
   },
   {
    "_defaultOrder": 49,
    "_isFastLaunch": false,
    "category": "Accelerated computing",
    "gpuNum": 1,
    "hideHardwareSpecs": false,
    "memoryGiB": 64,
    "name": "ml.g5.4xlarge",
    "vcpuNum": 16
   },
   {
    "_defaultOrder": 50,
    "_isFastLaunch": false,
    "category": "Accelerated computing",
    "gpuNum": 1,
    "hideHardwareSpecs": false,
    "memoryGiB": 128,
    "name": "ml.g5.8xlarge",
    "vcpuNum": 32
   },
   {
    "_defaultOrder": 51,
    "_isFastLaunch": false,
    "category": "Accelerated computing",
    "gpuNum": 1,
    "hideHardwareSpecs": false,
    "memoryGiB": 256,
    "name": "ml.g5.16xlarge",
    "vcpuNum": 64
   },
   {
    "_defaultOrder": 52,
    "_isFastLaunch": false,
    "category": "Accelerated computing",
    "gpuNum": 4,
    "hideHardwareSpecs": false,
    "memoryGiB": 192,
    "name": "ml.g5.12xlarge",
    "vcpuNum": 48
   },
   {
    "_defaultOrder": 53,
    "_isFastLaunch": false,
    "category": "Accelerated computing",
    "gpuNum": 4,
    "hideHardwareSpecs": false,
    "memoryGiB": 384,
    "name": "ml.g5.24xlarge",
    "vcpuNum": 96
   },
   {
    "_defaultOrder": 54,
    "_isFastLaunch": false,
    "category": "Accelerated computing",
    "gpuNum": 8,
    "hideHardwareSpecs": false,
    "memoryGiB": 768,
    "name": "ml.g5.48xlarge",
    "vcpuNum": 192
   },
   {
    "_defaultOrder": 55,
    "_isFastLaunch": false,
    "category": "Accelerated computing",
    "gpuNum": 8,
    "hideHardwareSpecs": false,
    "memoryGiB": 1152,
    "name": "ml.p4d.24xlarge",
    "vcpuNum": 96
   },
   {
    "_defaultOrder": 56,
    "_isFastLaunch": false,
    "category": "Accelerated computing",
    "gpuNum": 8,
    "hideHardwareSpecs": false,
    "memoryGiB": 1152,
    "name": "ml.p4de.24xlarge",
    "vcpuNum": 96
   },
   {
    "_defaultOrder": 57,
    "_isFastLaunch": false,
    "category": "Accelerated computing",
    "gpuNum": 0,
    "hideHardwareSpecs": false,
    "memoryGiB": 32,
    "name": "ml.trn1.2xlarge",
    "vcpuNum": 8
   },
   {
    "_defaultOrder": 58,
    "_isFastLaunch": false,
    "category": "Accelerated computing",
    "gpuNum": 0,
    "hideHardwareSpecs": false,
    "memoryGiB": 512,
    "name": "ml.trn1.32xlarge",
    "vcpuNum": 128
   },
   {
    "_defaultOrder": 59,
    "_isFastLaunch": false,
    "category": "Accelerated computing",
    "gpuNum": 0,
    "hideHardwareSpecs": false,
    "memoryGiB": 512,
    "name": "ml.trn1n.32xlarge",
    "vcpuNum": 128
   }
  ],
  "instance_type": "ml.t3.medium",
  "kernelspec": {
   "display_name": "Python 3 (ipykernel)",
   "language": "python",
   "name": "python3"
  },
  "language_info": {
   "codemirror_mode": {
    "name": "ipython",
    "version": 3
   },
   "file_extension": ".py",
   "mimetype": "text/x-python",
   "name": "python",
   "nbconvert_exporter": "python",
   "pygments_lexer": "ipython3",
   "version": "3.10.13"
  },
  "nbdime-conflicts": {
   "local_diff": [
    {
     "diff": [
      {
       "diff": [
        {
         "key": 0,
         "op": "addrange",
         "valuelist": [
          "3.8.13"
         ]
        },
        {
         "key": 0,
         "length": 1,
         "op": "removerange"
        }
       ],
       "key": "version",
       "op": "patch"
      }
     ],
     "key": "language_info",
     "op": "patch"
    }
   ],
   "remote_diff": [
    {
     "diff": [
      {
       "diff": [
        {
         "key": 0,
         "op": "addrange",
         "valuelist": [
          "3.10.13"
         ]
        },
        {
         "key": 0,
         "length": 1,
         "op": "removerange"
        }
       ],
       "key": "version",
       "op": "patch"
      }
     ],
     "key": "language_info",
     "op": "patch"
    }
   ]
  }
 },
 "nbformat": 4,
 "nbformat_minor": 5
}
