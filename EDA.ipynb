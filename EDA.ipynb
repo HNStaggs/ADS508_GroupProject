{
 "cells": [
  {
   "cell_type": "markdown",
   "id": "a9278162",
   "metadata": {},
   "source": [
    "# Data Ingestion"
   ]
  },
  {
   "cell_type": "markdown",
   "id": "aa81a2a1",
   "metadata": {},
   "source": [
    "## Copy CSV files to S3"
   ]
  },
  {
   "cell_type": "code",
   "execution_count": 2,
   "id": "454d7cd3",
   "metadata": {},
   "outputs": [
    {
     "name": "stdout",
     "output_type": "stream",
     "text": [
      "no stored variable or alias setup_instance_check_passed\n",
      "no stored variable or alias setup_dependencies_passed\n",
      "no stored variable or alias setup_s3_bucket_passed\n",
      "no stored variable or alias setup_iam_roles_passed\n"
     ]
    }
   ],
   "source": [
    "# Assume all the pre-requisites were set up \n",
    "%store -r setup_instance_check_passed\n",
    "%store -r setup_dependencies_passed\n",
    "%store -r setup_s3_bucket_passed\n",
    "%store -r setup_iam_roles_passed\n"
   ]
  },
  {
   "cell_type": "code",
   "execution_count": 3,
   "id": "669290a3",
   "metadata": {},
   "outputs": [
    {
     "name": "stdout",
     "output_type": "stream",
     "text": [
      "sagemaker.config INFO - Not applying SDK defaults from location: /etc/xdg/sagemaker/config.yaml\n",
      "sagemaker.config INFO - Not applying SDK defaults from location: /home/sagemaker-user/.config/sagemaker/config.yaml\n",
      "sagemaker.config INFO - Not applying SDK defaults from location: /etc/xdg/sagemaker/config.yaml\n",
      "sagemaker.config INFO - Not applying SDK defaults from location: /home/sagemaker-user/.config/sagemaker/config.yaml\n",
      "sagemaker.config INFO - Not applying SDK defaults from location: /etc/xdg/sagemaker/config.yaml\n",
      "sagemaker.config INFO - Not applying SDK defaults from location: /home/sagemaker-user/.config/sagemaker/config.yaml\n"
     ]
    }
   ],
   "source": [
    "# Load Libraries\n",
    "import boto3\n",
    "import sagemaker\n",
    "import pandas as pd\n",
    "\n",
    "sess = sagemaker.Session()\n",
    "bucket = sess.default_bucket()\n",
    "role = sagemaker.get_execution_role()\n",
    "region = boto3.Session().region_name\n",
    "account_id = boto3.client(\"sts\").get_caller_identity().get(\"Account\")\n",
    "\n",
    "sm = boto3.Session().client(service_name=\"sagemaker\", region_name=region)\n"
   ]
  },
  {
   "cell_type": "code",
   "execution_count": 23,
   "id": "4952e6ac",
   "metadata": {},
   "outputs": [
    {
     "name": "stdout",
     "output_type": "stream",
     "text": [
      "\n",
      "An error occurred (AccessDenied) when calling the ListObjectsV2 operation: Access Denied\n",
      "fatal error: An error occurred (AccessDenied) when calling the ListObjectsV2 operation: Access Denied\n",
      "fatal error: An error occurred (AccessDenied) when calling the ListObjectsV2 operation: Access Denied\n",
      "fatal error: An error occurred (AccessDenied) when calling the ListObjectsV2 operation: Access Denied\n"
     ]
    }
   ],
   "source": [
    "# Public Data\n",
    "#!aws s3 ls s3://ads508team5/\n",
    "\n",
    "# Copy Datasets from :\n",
    "# Source of data\n",
    "s3_public_path_csv = \"s3://ads508team5/\"\n",
    "\n",
    "s3_public_path_csv = \"s3://508group/\"\n",
    "\n",
    "# Destination Data:\n",
    "s3_private_path_csv = \"s3://{}/ADS508_project\".format(bucket)\n",
    "\n",
    "s3_private_path_tweeter = \"s3://{}/ADS508_project/tweeter\".format(bucket)\n",
    "s3_private_path_nyt = \"s3://{}/ADS508_project/nyt\".format(bucket)\n",
    "\n",
    "# Copy datasets\n",
    "!aws s3 cp --recursive $s3_public_path_csv/ $s3_private_path_csv/ --exclude \"*\" --include \"hashtag_donaldtrump.csv\"\n",
    "!aws s3 cp --recursive $s3_public_path_csv/ $s3_private_path_csv/ --exclude \"*\" --include \"hashtag_joebiden.csv\"\n",
    "!aws s3 cp --recursive $s3_public_path_csv/ $s3_private_path_csv/ --exclude \"*\" --include \"nyt-comments-2020.csv\"\n"
   ]
  },
  {
   "cell_type": "markdown",
   "id": "79bea107",
   "metadata": {},
   "source": [
    "## Create Database, Tables and Parquets\n",
    "### Database"
   ]
  },
  {
   "cell_type": "code",
   "execution_count": 5,
   "id": "fe7060ed",
   "metadata": {},
   "outputs": [],
   "source": [
    "# Setup and check pre-requisites to create Database\n",
    "ingest_create_athena_db_passed = False\n",
    "\n",
    "!pip install --disable-pip-version-check -q PyAthena==2.1.0\n",
    "from pyathena import connect"
   ]
  },
  {
   "cell_type": "code",
   "execution_count": 6,
   "id": "b285688d",
   "metadata": {},
   "outputs": [
    {
     "name": "stderr",
     "output_type": "stream",
     "text": [
      "/tmp/ipykernel_102/419283915.py:11: UserWarning: pandas only supports SQLAlchemy connectable (engine/connection) or database string URI or sqlite3 DBAPI2 connection. Other DBAPI2 objects are not tested. Please consider using SQLAlchemy.\n",
      "  pd.read_sql(statement, conn)\n",
      "/tmp/ipykernel_102/419283915.py:16: UserWarning: pandas only supports SQLAlchemy connectable (engine/connection) or database string URI or sqlite3 DBAPI2 connection. Other DBAPI2 objects are not tested. Please consider using SQLAlchemy.\n",
      "  df_show = pd.read_sql(statement, conn)\n"
     ]
    },
    {
     "data": {
      "text/html": [
       "<div>\n",
       "<style scoped>\n",
       "    .dataframe tbody tr th:only-of-type {\n",
       "        vertical-align: middle;\n",
       "    }\n",
       "\n",
       "    .dataframe tbody tr th {\n",
       "        vertical-align: top;\n",
       "    }\n",
       "\n",
       "    .dataframe thead th {\n",
       "        text-align: right;\n",
       "    }\n",
       "</style>\n",
       "<table border=\"1\" class=\"dataframe\">\n",
       "  <thead>\n",
       "    <tr style=\"text-align: right;\">\n",
       "      <th></th>\n",
       "      <th>database_name</th>\n",
       "    </tr>\n",
       "  </thead>\n",
       "  <tbody>\n",
       "    <tr>\n",
       "      <th>0</th>\n",
       "      <td>dbpoliticpulsecomment</td>\n",
       "    </tr>\n",
       "    <tr>\n",
       "      <th>1</th>\n",
       "      <td>default</td>\n",
       "    </tr>\n",
       "    <tr>\n",
       "      <th>2</th>\n",
       "      <td>dsoaws</td>\n",
       "    </tr>\n",
       "  </tbody>\n",
       "</table>\n",
       "</div>"
      ],
      "text/plain": [
       "           database_name\n",
       "0  dbpoliticpulsecomment\n",
       "1                default\n",
       "2                 dsoaws"
      ]
     },
     "execution_count": 6,
     "metadata": {},
     "output_type": "execute_result"
    }
   ],
   "source": [
    "# Create Database\n",
    "database_name = \"dbpoliticpulsecomment\"\n",
    "\n",
    "# Set S3 staging directory -- this is a temporary directory used for Athena queries\n",
    "s3_staging_dir = \"s3://{0}/athena/staging\".format(bucket)\n",
    "\n",
    "conn = connect(region_name=region, s3_staging_dir=s3_staging_dir)\n",
    "\n",
    "statement = \"CREATE DATABASE IF NOT EXISTS {}\".format(database_name)\n",
    "\n",
    "pd.read_sql(statement, conn)\n",
    "\n",
    "# Verify DB successfully created\n",
    "statement = \"SHOW DATABASES\"\n",
    "\n",
    "df_show = pd.read_sql(statement, conn)\n",
    "df_show.head(5)\n"
   ]
  },
  {
   "cell_type": "code",
   "execution_count": 7,
   "id": "9c40720c",
   "metadata": {},
   "outputs": [],
   "source": [
    "# End of Create Database\n",
    "if database_name in df_show.values:\n",
    "    ingest_create_athena_db_passed = True"
   ]
  },
  {
   "cell_type": "markdown",
   "id": "4cd8ff23",
   "metadata": {},
   "source": [
    "### Tables"
   ]
  },
  {
   "cell_type": "code",
   "execution_count": 8,
   "id": "c490b22a",
   "metadata": {},
   "outputs": [
    {
     "name": "stderr",
     "output_type": "stream",
     "text": [
      "/tmp/ipykernel_102/1858324476.py:35: UserWarning: pandas only supports SQLAlchemy connectable (engine/connection) or database string URI or sqlite3 DBAPI2 connection. Other DBAPI2 objects are not tested. Please consider using SQLAlchemy.\n",
      "  pd.read_sql(statement, conn)\n"
     ]
    },
    {
     "data": {
      "text/html": [
       "<div>\n",
       "<style scoped>\n",
       "    .dataframe tbody tr th:only-of-type {\n",
       "        vertical-align: middle;\n",
       "    }\n",
       "\n",
       "    .dataframe tbody tr th {\n",
       "        vertical-align: top;\n",
       "    }\n",
       "\n",
       "    .dataframe thead th {\n",
       "        text-align: right;\n",
       "    }\n",
       "</style>\n",
       "<table border=\"1\" class=\"dataframe\">\n",
       "  <thead>\n",
       "    <tr style=\"text-align: right;\">\n",
       "      <th></th>\n",
       "    </tr>\n",
       "  </thead>\n",
       "  <tbody>\n",
       "  </tbody>\n",
       "</table>\n",
       "</div>"
      ],
      "text/plain": [
       "Empty DataFrame\n",
       "Columns: []\n",
       "Index: []"
      ]
     },
     "execution_count": 8,
     "metadata": {},
     "output_type": "execute_result"
    }
   ],
   "source": [
    "# Create Tweeter Tables\n",
    "table_name_csv = \"tweeter\"\n",
    "s3_private_path_tweeter = \"s3://{}/ADS508_project/tweeter\".format(bucket)\n",
    "\n",
    "statement = \"\"\"CREATE EXTERNAL TABLE IF NOT EXISTS {}.{}(\n",
    "  created_at TIMESTAMP,\n",
    "  tweet_id FLOAT,\n",
    "  tweet VARCHAR(250),\n",
    "  likes INT,\n",
    "  retweet_count INT,\n",
    "  source VARCHAR(45),\n",
    "  user_id INT,\n",
    "  user_name VARCHAR(250),\n",
    "  user_screen_name VARCHAR(45),\n",
    "  user_description VARCHAR(250),\n",
    "  user_join_date TIMESTAMP,\n",
    "  user_followers_count INT,\n",
    "  user_location VARCHAR(45),\n",
    "  lat FLOAT,\n",
    "  long FLOAT,\n",
    "  city VARCHAR(45),\n",
    "  country VARCHAR(45),\n",
    "  continent VARCHAR(45),\n",
    "  state VARCHAR(45),\n",
    "  state_code VARCHAR(45),\n",
    "  collected_at VARCHAR(45)\n",
    ")\n",
    "ROW FORMAT DELIMITED\n",
    "FIELDS TERMINATED BY ','\n",
    "LOCATION '{}'\n",
    "TBLPROPERTIES ('skip.header.line.count'='1')\"\"\".format(\n",
    "    database_name, table_name_csv, s3_private_path_tweeter\n",
    ")\n",
    "\n",
    "pd.read_sql(statement, conn)\n"
   ]
  },
  {
   "cell_type": "code",
   "execution_count": 9,
   "id": "8bdf329d-8486-46eb-bc4b-a42ec8e6fa05",
   "metadata": {},
   "outputs": [
    {
     "name": "stderr",
     "output_type": "stream",
     "text": [
      "/tmp/ipykernel_102/1253481606.py:12: UserWarning: pandas only supports SQLAlchemy connectable (engine/connection) or database string URI or sqlite3 DBAPI2 connection. Other DBAPI2 objects are not tested. Please consider using SQLAlchemy.\n",
      "  df = pd.read_sql(statement, conn)\n"
     ]
    },
    {
     "data": {
      "text/html": [
       "<div>\n",
       "<style scoped>\n",
       "    .dataframe tbody tr th:only-of-type {\n",
       "        vertical-align: middle;\n",
       "    }\n",
       "\n",
       "    .dataframe tbody tr th {\n",
       "        vertical-align: top;\n",
       "    }\n",
       "\n",
       "    .dataframe thead th {\n",
       "        text-align: right;\n",
       "    }\n",
       "</style>\n",
       "<table border=\"1\" class=\"dataframe\">\n",
       "  <thead>\n",
       "    <tr style=\"text-align: right;\">\n",
       "      <th></th>\n",
       "      <th>created_at</th>\n",
       "      <th>tweet_id</th>\n",
       "      <th>tweet</th>\n",
       "      <th>likes</th>\n",
       "      <th>retweet_count</th>\n",
       "      <th>source</th>\n",
       "      <th>user_id</th>\n",
       "      <th>user_name</th>\n",
       "      <th>user_screen_name</th>\n",
       "      <th>user_description</th>\n",
       "      <th>...</th>\n",
       "      <th>user_followers_count</th>\n",
       "      <th>user_location</th>\n",
       "      <th>lat</th>\n",
       "      <th>long</th>\n",
       "      <th>city</th>\n",
       "      <th>country</th>\n",
       "      <th>continent</th>\n",
       "      <th>state</th>\n",
       "      <th>state_code</th>\n",
       "      <th>collected_at</th>\n",
       "    </tr>\n",
       "  </thead>\n",
       "  <tbody>\n",
       "    <tr>\n",
       "      <th>0</th>\n",
       "      <td>2020-10-15 00:00:21</td>\n",
       "      <td>1.316529e+18</td>\n",
       "      <td>@chrislongview Watching and setting dvr. Let’s...</td>\n",
       "      <td>0</td>\n",
       "      <td>0</td>\n",
       "      <td>Twitter for iPhone</td>\n",
       "      <td>None</td>\n",
       "      <td>Michelle Ferg</td>\n",
       "      <td>MichelleFerg4</td>\n",
       "      <td></td>\n",
       "      <td>...</td>\n",
       "      <td>27</td>\n",
       "      <td></td>\n",
       "      <td>None</td>\n",
       "      <td>None</td>\n",
       "      <td></td>\n",
       "      <td></td>\n",
       "      <td></td>\n",
       "      <td></td>\n",
       "      <td></td>\n",
       "      <td>2020-10-21 00:00:01.553481849</td>\n",
       "    </tr>\n",
       "  </tbody>\n",
       "</table>\n",
       "<p>1 rows × 21 columns</p>\n",
       "</div>"
      ],
      "text/plain": [
       "           created_at      tweet_id  \\\n",
       "0 2020-10-15 00:00:21  1.316529e+18   \n",
       "\n",
       "                                               tweet  likes  retweet_count  \\\n",
       "0  @chrislongview Watching and setting dvr. Let’s...      0              0   \n",
       "\n",
       "               source user_id      user_name user_screen_name  \\\n",
       "0  Twitter for iPhone    None  Michelle Ferg    MichelleFerg4   \n",
       "\n",
       "  user_description  ... user_followers_count  user_location   lat  long city  \\\n",
       "0                   ...                   27                 None  None        \n",
       "\n",
       "  country continent state state_code                   collected_at  \n",
       "0                                     2020-10-21 00:00:01.553481849  \n",
       "\n",
       "[1 rows x 21 columns]"
      ]
     },
     "execution_count": 9,
     "metadata": {},
     "output_type": "execute_result"
    }
   ],
   "source": [
    "# testing hashtag_donaldtrump.csv tweet\n",
    "tweet = \"You get a tie! And you get a tie! #Trump ‘s rally #Iowa https://t.co/jJalUUmh5D\"\n",
    "# testing hashtag_joebiden.csv tweet\n",
    "tweet = \"@chrislongview Watching and setting dvr. Let’s give him bonus ratings!! #JoeBiden\"\n",
    "\n",
    "\n",
    "statement = \"\"\"SELECT * FROM {}.{}\n",
    "    WHERE tweet = '{}' LIMIT 100\"\"\".format(\n",
    "    database_name, table_name_csv, tweet\n",
    ")\n",
    "\n",
    "df = pd.read_sql(statement, conn)\n",
    "df.head(5)\n"
   ]
  },
  {
   "cell_type": "code",
   "execution_count": 10,
   "id": "9a334c30",
   "metadata": {},
   "outputs": [
    {
     "name": "stderr",
     "output_type": "stream",
     "text": [
      "/tmp/ipykernel_102/3398307669.py:36: UserWarning: pandas only supports SQLAlchemy connectable (engine/connection) or database string URI or sqlite3 DBAPI2 connection. Other DBAPI2 objects are not tested. Please consider using SQLAlchemy.\n",
      "  pd.read_sql(statement, conn)\n"
     ]
    },
    {
     "data": {
      "text/html": [
       "<div>\n",
       "<style scoped>\n",
       "    .dataframe tbody tr th:only-of-type {\n",
       "        vertical-align: middle;\n",
       "    }\n",
       "\n",
       "    .dataframe tbody tr th {\n",
       "        vertical-align: top;\n",
       "    }\n",
       "\n",
       "    .dataframe thead th {\n",
       "        text-align: right;\n",
       "    }\n",
       "</style>\n",
       "<table border=\"1\" class=\"dataframe\">\n",
       "  <thead>\n",
       "    <tr style=\"text-align: right;\">\n",
       "      <th></th>\n",
       "    </tr>\n",
       "  </thead>\n",
       "  <tbody>\n",
       "  </tbody>\n",
       "</table>\n",
       "</div>"
      ],
      "text/plain": [
       "Empty DataFrame\n",
       "Columns: []\n",
       "Index: []"
      ]
     },
     "execution_count": 10,
     "metadata": {},
     "output_type": "execute_result"
    }
   ],
   "source": [
    "# Create NYT comment Table\n",
    "table_name_csv = \"nyt_comment\"\n",
    "s3_private_path_nyt = \"s3://{}/ADS508_project/nyt\".format(bucket)\n",
    "\n",
    "statement = \"\"\"CREATE EXTERNAL TABLE IF NOT EXISTS {}.{} (\n",
    "  commentID INT,\n",
    "  status VARCHAR(20),\n",
    "  commentSequence INT,\n",
    "  userID INT,\n",
    "  userDisplayName VARCHAR(45),\n",
    "  userLocation VARCHAR(45),\n",
    "  userTitle VARCHAR(10),\n",
    "  commentBody VARCHAR(500),\n",
    "  createDate TIMESTAMP,\n",
    "  updateDate TIMESTAMP,\n",
    "  approveDate TIMESTAMP,\n",
    "  recommendation INT,\n",
    "  replyCount INT,\n",
    "  editorsSelection VARCHAR(20),\n",
    "  parentID INT,\n",
    "  parentUserDisplayName VARCHAR(45),\n",
    "  depth INT,\n",
    "  commentType VARCHAR(20),\n",
    "  trusted VARCHAR(20),\n",
    "  recommendedFlag VARCHAR(20),\n",
    "  permID INT,\n",
    "  isAnonymous VARCHAR(20),\n",
    "  articleID VARCHAR(150)\n",
    ")\n",
    "ROW FORMAT DELIMITED\n",
    "FIELDS TERMINATED BY ','\n",
    "LOCATION '{}'\n",
    "TBLPROPERTIES ('skip.header.line.count'='1')\"\"\".format(\n",
    "    database_name, table_name_csv, s3_private_path_nyt)\n",
    "\n",
    "pd.read_sql(statement, conn)\n"
   ]
  },
  {
   "cell_type": "code",
   "execution_count": 11,
   "id": "bdcd9b57-be9b-4923-b235-eba6a5aaf1a9",
   "metadata": {},
   "outputs": [
    {
     "name": "stderr",
     "output_type": "stream",
     "text": [
      "/tmp/ipykernel_102/2201015668.py:3: UserWarning: pandas only supports SQLAlchemy connectable (engine/connection) or database string URI or sqlite3 DBAPI2 connection. Other DBAPI2 objects are not tested. Please consider using SQLAlchemy.\n",
      "  df_show = pd.read_sql(statement, conn)\n"
     ]
    },
    {
     "data": {
      "text/html": [
       "<div>\n",
       "<style scoped>\n",
       "    .dataframe tbody tr th:only-of-type {\n",
       "        vertical-align: middle;\n",
       "    }\n",
       "\n",
       "    .dataframe tbody tr th {\n",
       "        vertical-align: top;\n",
       "    }\n",
       "\n",
       "    .dataframe thead th {\n",
       "        text-align: right;\n",
       "    }\n",
       "</style>\n",
       "<table border=\"1\" class=\"dataframe\">\n",
       "  <thead>\n",
       "    <tr style=\"text-align: right;\">\n",
       "      <th></th>\n",
       "      <th>tab_name</th>\n",
       "    </tr>\n",
       "  </thead>\n",
       "  <tbody>\n",
       "    <tr>\n",
       "      <th>0</th>\n",
       "      <td>nyt_comment</td>\n",
       "    </tr>\n",
       "    <tr>\n",
       "      <th>1</th>\n",
       "      <td>tweeter</td>\n",
       "    </tr>\n",
       "  </tbody>\n",
       "</table>\n",
       "</div>"
      ],
      "text/plain": [
       "      tab_name\n",
       "0  nyt_comment\n",
       "1      tweeter"
      ]
     },
     "execution_count": 11,
     "metadata": {},
     "output_type": "execute_result"
    }
   ],
   "source": [
    "statement = \"SHOW TABLES in {}\".format(database_name)\n",
    "\n",
    "df_show = pd.read_sql(statement, conn)\n",
    "df_show.head(5)"
   ]
  },
  {
   "cell_type": "code",
   "execution_count": 12,
   "id": "ad246e21-b065-4646-baec-78cbe15d1abd",
   "metadata": {},
   "outputs": [
    {
     "name": "stderr",
     "output_type": "stream",
     "text": [
      "/tmp/ipykernel_102/1150646089.py:8: UserWarning: pandas only supports SQLAlchemy connectable (engine/connection) or database string URI or sqlite3 DBAPI2 connection. Other DBAPI2 objects are not tested. Please consider using SQLAlchemy.\n",
      "  df = pd.read_sql(statement, conn)\n"
     ]
    },
    {
     "data": {
      "text/html": [
       "<div>\n",
       "<style scoped>\n",
       "    .dataframe tbody tr th:only-of-type {\n",
       "        vertical-align: middle;\n",
       "    }\n",
       "\n",
       "    .dataframe tbody tr th {\n",
       "        vertical-align: top;\n",
       "    }\n",
       "\n",
       "    .dataframe thead th {\n",
       "        text-align: right;\n",
       "    }\n",
       "</style>\n",
       "<table border=\"1\" class=\"dataframe\">\n",
       "  <thead>\n",
       "    <tr style=\"text-align: right;\">\n",
       "      <th></th>\n",
       "      <th>commentid</th>\n",
       "      <th>status</th>\n",
       "      <th>commentsequence</th>\n",
       "      <th>userid</th>\n",
       "      <th>userdisplayname</th>\n",
       "      <th>userlocation</th>\n",
       "      <th>usertitle</th>\n",
       "      <th>commentbody</th>\n",
       "      <th>createdate</th>\n",
       "      <th>updatedate</th>\n",
       "      <th>...</th>\n",
       "      <th>editorsselection</th>\n",
       "      <th>parentid</th>\n",
       "      <th>parentuserdisplayname</th>\n",
       "      <th>depth</th>\n",
       "      <th>commenttype</th>\n",
       "      <th>trusted</th>\n",
       "      <th>recommendedflag</th>\n",
       "      <th>permid</th>\n",
       "      <th>isanonymous</th>\n",
       "      <th>articleid</th>\n",
       "    </tr>\n",
       "  </thead>\n",
       "  <tbody>\n",
       "    <tr>\n",
       "      <th>0</th>\n",
       "      <td>104389709</td>\n",
       "      <td>approved</td>\n",
       "      <td>104389709</td>\n",
       "      <td>72038931</td>\n",
       "      <td>Anthony Monaghan</td>\n",
       "      <td>Narrabeen</td>\n",
       "      <td></td>\n",
       "      <td>@Philip Brown Agree 110%.</td>\n",
       "      <td>2020-01-01 10:36:20</td>\n",
       "      <td>2020-01-01 21:18:55</td>\n",
       "      <td>...</td>\n",
       "      <td>False</td>\n",
       "      <td>104389536</td>\n",
       "      <td>Philip Brown</td>\n",
       "      <td>2</td>\n",
       "      <td>userReply</td>\n",
       "      <td>0</td>\n",
       "      <td>0</td>\n",
       "      <td>104389709</td>\n",
       "      <td>False</td>\n",
       "      <td>nyt://article/69a7090b-9f36-569e-b5ab-b0ba5bb3...</td>\n",
       "    </tr>\n",
       "  </tbody>\n",
       "</table>\n",
       "<p>1 rows × 23 columns</p>\n",
       "</div>"
      ],
      "text/plain": [
       "   commentid    status  commentsequence    userid   userdisplayname  \\\n",
       "0  104389709  approved        104389709  72038931  Anthony Monaghan   \n",
       "\n",
       "  userlocation usertitle                commentbody          createdate  \\\n",
       "0    Narrabeen            @Philip Brown Agree 110%. 2020-01-01 10:36:20   \n",
       "\n",
       "           updatedate  ... editorsselection   parentid  parentuserdisplayname  \\\n",
       "0 2020-01-01 21:18:55  ...            False  104389536           Philip Brown   \n",
       "\n",
       "  depth  commenttype trusted  recommendedflag     permid isanonymous  \\\n",
       "0     2    userReply       0                0  104389709       False   \n",
       "\n",
       "                                           articleid  \n",
       "0  nyt://article/69a7090b-9f36-569e-b5ab-b0ba5bb3...  \n",
       "\n",
       "[1 rows x 23 columns]"
      ]
     },
     "execution_count": 12,
     "metadata": {},
     "output_type": "execute_result"
    }
   ],
   "source": [
    "commentBody = \"@Philip Brown Agree 110%.\"\n",
    "\n",
    "statement = \"\"\"SELECT * FROM {}.{}\n",
    "    WHERE commentBody = '{}' LIMIT 100\"\"\".format(\n",
    "    database_name, table_name_csv, commentBody\n",
    ")\n",
    "\n",
    "df = pd.read_sql(statement, conn)\n",
    "df.head(5)\n"
   ]
  },
  {
   "cell_type": "markdown",
   "id": "9a0cbe06",
   "metadata": {},
   "source": [
    "### Parquets"
   ]
  },
  {
   "cell_type": "code",
   "execution_count": 14,
   "id": "b4f62b57-2e1d-4bd5-b07e-2627a5647014",
   "metadata": {},
   "outputs": [
    {
     "name": "stderr",
     "output_type": "stream",
     "text": [
      "/tmp/ipykernel_102/1047831578.py:60: UserWarning: pandas only supports SQLAlchemy connectable (engine/connection) or database string URI or sqlite3 DBAPI2 connection. Other DBAPI2 objects are not tested. Please consider using SQLAlchemy.\n",
      "  pd.read_sql(statement, conn)\n"
     ]
    },
    {
     "data": {
      "text/html": [
       "<div>\n",
       "<style scoped>\n",
       "    .dataframe tbody tr th:only-of-type {\n",
       "        vertical-align: middle;\n",
       "    }\n",
       "\n",
       "    .dataframe tbody tr th {\n",
       "        vertical-align: top;\n",
       "    }\n",
       "\n",
       "    .dataframe thead th {\n",
       "        text-align: right;\n",
       "    }\n",
       "</style>\n",
       "<table border=\"1\" class=\"dataframe\">\n",
       "  <thead>\n",
       "    <tr style=\"text-align: right;\">\n",
       "      <th></th>\n",
       "      <th>rows</th>\n",
       "    </tr>\n",
       "  </thead>\n",
       "  <tbody>\n",
       "  </tbody>\n",
       "</table>\n",
       "</div>"
      ],
      "text/plain": [
       "Empty DataFrame\n",
       "Columns: [rows]\n",
       "Index: []"
      ]
     },
     "execution_count": 14,
     "metadata": {},
     "output_type": "execute_result"
    }
   ],
   "source": [
    "table_comment = \"comment\"\n",
    "table_tweeter = \"tweeter\"\n",
    "table_nyt_comment = \"nyt_comment\"\n",
    "\n",
    "# SQL Statement combine tweeter and NYT comment in the preparation to create parquet\n",
    "statement = \"\"\"\n",
    "CREATE TABLE IF NOT EXISTS {}.{} AS (\n",
    "SELECT \n",
    "    tweet_id AS comment_id,\n",
    "    tweet AS comment_body,\n",
    "    user_id AS user_id,\n",
    "    user_name AS user_name,\n",
    "    user_location AS user_location,\n",
    "    created_at AS create_date,\n",
    "    retweet_count AS reply_retweet,\n",
    "    likes AS recommendation_like,\n",
    "    'tweet' as source,\n",
    "    (LENGTH(tweet) - LENGTH(REPLACE(LOWER(tweet), 'trump', ''))) / LENGTH('trump') AS trump_count,\n",
    "    (LENGTH(tweet) - LENGTH(REPLACE(LOWER(tweet), 'biden', ''))) / LENGTH('biden') AS biden_count,\n",
    "    CASE \n",
    "        WHEN \n",
    "            (LENGTH(tweet) - LENGTH(REPLACE(LOWER(tweet), 'biden', ''))) / LENGTH('biden') > \n",
    "            (LENGTH(tweet) - LENGTH(REPLACE(LOWER(tweet), 'trump', ''))) / LENGTH('trump') \n",
    "        THEN 'Biden'\n",
    "        WHEN              \n",
    "            (LENGTH(tweet) - LENGTH(REPLACE(LOWER(tweet), 'biden', ''))) / LENGTH('biden') < \n",
    "            (LENGTH(tweet) - LENGTH(REPLACE(LOWER(tweet), 'trump', ''))) / LENGTH('trump') \n",
    "        THEN 'Trump'\n",
    "        ELSE NULL\n",
    "    END AS candidatepoll\n",
    "FROM\n",
    "    {}.{}\n",
    "UNION ALL\n",
    "SELECT \n",
    "    commentid AS comment_id,\n",
    "    commentbody AS comment_body,\n",
    "    userID AS user_id,\n",
    "    userDisplayName AS user_name,\n",
    "    userLocation AS user_location,\n",
    "    createDate AS create_date,\n",
    "    replyCount AS reply_retweet,\n",
    "    recommendation AS recommendation_like,\n",
    "    'nyt_comment' as source,\n",
    "    (LENGTH(commentbody) - LENGTH(REPLACE(LOWER(commentbody), 'trump', ''))) / LENGTH('trump') AS trump_count,\n",
    "    (LENGTH(commentbody) - LENGTH(REPLACE(LOWER(commentbody), 'biden', ''))) / LENGTH('biden') AS biden_count,\n",
    "    CASE\n",
    "        WHEN\n",
    "            (LENGTH(commentbody) - LENGTH(REPLACE(LOWER(commentbody), 'biden', ''))) / LENGTH('biden') > \n",
    "            (LENGTH(commentbody) - LENGTH(REPLACE(LOWER(commentbody), 'trump', ''))) / LENGTH('trump') \n",
    "        THEN 'Biden'\n",
    "        WHEN\n",
    "            (LENGTH(commentbody) - LENGTH(REPLACE(LOWER(commentbody), 'biden', ''))) / LENGTH('biden') < \n",
    "            (LENGTH(commentbody) - LENGTH(REPLACE(LOWER(commentbody), 'trump', ''))) / LENGTH('trump') \n",
    "        THEN 'Trump'\n",
    "        ELSE NULL\n",
    "    END AS candidatepoll\n",
    "FROM \n",
    "    {}.{}\n",
    ")\"\"\".format(database_name, table_comment,database_name, table_tweeter,database_name, table_nyt_comment)\n",
    "\n",
    "pd.read_sql(statement, conn)"
   ]
  },
  {
   "cell_type": "code",
   "execution_count": 37,
   "id": "b6da4161-b7ce-4cbf-bce9-632e75a6f28b",
   "metadata": {},
   "outputs": [
    {
     "name": "stderr",
     "output_type": "stream",
     "text": [
      "/tmp/ipykernel_102/100041546.py:8: UserWarning: pandas only supports SQLAlchemy connectable (engine/connection) or database string URI or sqlite3 DBAPI2 connection. Other DBAPI2 objects are not tested. Please consider using SQLAlchemy.\n",
      "  df = pd.read_sql(statement, conn)\n"
     ]
    },
    {
     "data": {
      "text/html": [
       "<div>\n",
       "<style scoped>\n",
       "    .dataframe tbody tr th:only-of-type {\n",
       "        vertical-align: middle;\n",
       "    }\n",
       "\n",
       "    .dataframe tbody tr th {\n",
       "        vertical-align: top;\n",
       "    }\n",
       "\n",
       "    .dataframe thead th {\n",
       "        text-align: right;\n",
       "    }\n",
       "</style>\n",
       "<table border=\"1\" class=\"dataframe\">\n",
       "  <thead>\n",
       "    <tr style=\"text-align: right;\">\n",
       "      <th></th>\n",
       "      <th>comment_id</th>\n",
       "      <th>comment_body</th>\n",
       "      <th>user_id</th>\n",
       "      <th>user_name</th>\n",
       "      <th>user_location</th>\n",
       "      <th>create_date</th>\n",
       "      <th>reply_retweet</th>\n",
       "      <th>recommendation_like</th>\n",
       "      <th>source</th>\n",
       "      <th>trump_count</th>\n",
       "      <th>biden_count</th>\n",
       "      <th>candidatepoll</th>\n",
       "    </tr>\n",
       "  </thead>\n",
       "  <tbody>\n",
       "    <tr>\n",
       "      <th>0</th>\n",
       "      <td>1.325115e+18</td>\n",
       "      <td>Donald Trump is officially gone. #FireTrump #2...</td>\n",
       "      <td>NaN</td>\n",
       "      <td>Southern Progressive</td>\n",
       "      <td></td>\n",
       "      <td>2020-11-07 16:37:32</td>\n",
       "      <td>0</td>\n",
       "      <td>1</td>\n",
       "      <td>tweet</td>\n",
       "      <td>2</td>\n",
       "      <td>1</td>\n",
       "      <td>Trump</td>\n",
       "    </tr>\n",
       "    <tr>\n",
       "      <th>1</th>\n",
       "      <td>1.325117e+18</td>\n",
       "      <td>Donald Trump is a loser. American has voted ou...</td>\n",
       "      <td>1.601005e+09</td>\n",
       "      <td>Jake Judd</td>\n",
       "      <td>\"St Cloud</td>\n",
       "      <td>2020-11-07 16:45:30</td>\n",
       "      <td>0</td>\n",
       "      <td>1</td>\n",
       "      <td>tweet</td>\n",
       "      <td>2</td>\n",
       "      <td>2</td>\n",
       "      <td>None</td>\n",
       "    </tr>\n",
       "    <tr>\n",
       "      <th>2</th>\n",
       "      <td>1.324371e+18</td>\n",
       "      <td>Donald Trump is your President. #donaldtrumpis...</td>\n",
       "      <td>NaN</td>\n",
       "      <td>College Conservative</td>\n",
       "      <td>\"Westerville</td>\n",
       "      <td>2020-11-05 15:20:52</td>\n",
       "      <td>0</td>\n",
       "      <td>0</td>\n",
       "      <td>tweet</td>\n",
       "      <td>6</td>\n",
       "      <td>1</td>\n",
       "      <td>Trump</td>\n",
       "    </tr>\n",
       "    <tr>\n",
       "      <th>3</th>\n",
       "      <td>1.325157e+18</td>\n",
       "      <td>Donald Trump is trying to figure out if he con...</td>\n",
       "      <td>NaN</td>\n",
       "      <td>riverfnx</td>\n",
       "      <td></td>\n",
       "      <td>2020-11-07 19:22:42</td>\n",
       "      <td>0</td>\n",
       "      <td>0</td>\n",
       "      <td>tweet</td>\n",
       "      <td>2</td>\n",
       "      <td>1</td>\n",
       "      <td>Trump</td>\n",
       "    </tr>\n",
       "    <tr>\n",
       "      <th>4</th>\n",
       "      <td>1.325157e+18</td>\n",
       "      <td>Donald Trump is a victom of the system. I stan...</td>\n",
       "      <td>NaN</td>\n",
       "      <td>ASUKA4STRIVE</td>\n",
       "      <td>314.0</td>\n",
       "      <td>2020-11-07 19:25:31</td>\n",
       "      <td>3</td>\n",
       "      <td>14</td>\n",
       "      <td>tweet</td>\n",
       "      <td>3</td>\n",
       "      <td>1</td>\n",
       "      <td>Trump</td>\n",
       "    </tr>\n",
       "  </tbody>\n",
       "</table>\n",
       "</div>"
      ],
      "text/plain": [
       "     comment_id                                       comment_body  \\\n",
       "0  1.325115e+18  Donald Trump is officially gone. #FireTrump #2...   \n",
       "1  1.325117e+18  Donald Trump is a loser. American has voted ou...   \n",
       "2  1.324371e+18  Donald Trump is your President. #donaldtrumpis...   \n",
       "3  1.325157e+18  Donald Trump is trying to figure out if he con...   \n",
       "4  1.325157e+18  Donald Trump is a victom of the system. I stan...   \n",
       "\n",
       "        user_id             user_name user_location         create_date  \\\n",
       "0           NaN  Southern Progressive               2020-11-07 16:37:32   \n",
       "1  1.601005e+09             Jake Judd     \"St Cloud 2020-11-07 16:45:30   \n",
       "2           NaN  College Conservative  \"Westerville 2020-11-05 15:20:52   \n",
       "3           NaN              riverfnx               2020-11-07 19:22:42   \n",
       "4           NaN          ASUKA4STRIVE         314.0 2020-11-07 19:25:31   \n",
       "\n",
       "   reply_retweet  recommendation_like source  trump_count  biden_count  \\\n",
       "0              0                    1  tweet            2            1   \n",
       "1              0                    1  tweet            2            2   \n",
       "2              0                    0  tweet            6            1   \n",
       "3              0                    0  tweet            2            1   \n",
       "4              3                   14  tweet            3            1   \n",
       "\n",
       "  candidatepoll  \n",
       "0         Trump  \n",
       "1          None  \n",
       "2         Trump  \n",
       "3         Trump  \n",
       "4         Trump  "
      ]
     },
     "execution_count": 37,
     "metadata": {},
     "output_type": "execute_result"
    }
   ],
   "source": [
    "commentbody = \"Donald Trump is\"\n",
    "\n",
    "statement = \"\"\"SELECT * FROM {}.{}\n",
    "    WHERE comment_body like '{}%' LIMIT 100\"\"\".format(\n",
    "    database_name, table_comment, commentbody\n",
    ")\n",
    "\n",
    "df = pd.read_sql(statement, conn)\n",
    "df.head(5)\n"
   ]
  },
  {
   "cell_type": "code",
   "execution_count": 16,
   "id": "b8a4ac00-4bd9-410c-bab9-6fa090136954",
   "metadata": {},
   "outputs": [],
   "source": [
    "# Setup to create Parquet\n",
    "ingest_create_athena_table_parquet_passed = False\n",
    "\n",
    "# Set S3 path to Parquet data\n",
    "s3_path_parquet = \"s3://{}/ADS508_project/parquet\".format(bucket)\n",
    "\n",
    "table_parquet = \"comment_parquet\""
   ]
  },
  {
   "cell_type": "code",
   "execution_count": 20,
   "id": "f89fc3be-ff87-45ce-bcb4-31fd975eae62",
   "metadata": {},
   "outputs": [
    {
     "name": "stderr",
     "output_type": "stream",
     "text": [
      "/tmp/ipykernel_102/3028638003.py:17: UserWarning: pandas only supports SQLAlchemy connectable (engine/connection) or database string URI or sqlite3 DBAPI2 connection. Other DBAPI2 objects are not tested. Please consider using SQLAlchemy.\n",
      "  pd.read_sql(statement, conn)\n"
     ]
    },
    {
     "data": {
      "text/html": [
       "<div>\n",
       "<style scoped>\n",
       "    .dataframe tbody tr th:only-of-type {\n",
       "        vertical-align: middle;\n",
       "    }\n",
       "\n",
       "    .dataframe tbody tr th {\n",
       "        vertical-align: top;\n",
       "    }\n",
       "\n",
       "    .dataframe thead th {\n",
       "        text-align: right;\n",
       "    }\n",
       "</style>\n",
       "<table border=\"1\" class=\"dataframe\">\n",
       "  <thead>\n",
       "    <tr style=\"text-align: right;\">\n",
       "      <th></th>\n",
       "      <th>rows</th>\n",
       "    </tr>\n",
       "  </thead>\n",
       "  <tbody>\n",
       "  </tbody>\n",
       "</table>\n",
       "</div>"
      ],
      "text/plain": [
       "Empty DataFrame\n",
       "Columns: [rows]\n",
       "Index: []"
      ]
     },
     "execution_count": 20,
     "metadata": {},
     "output_type": "execute_result"
    }
   ],
   "source": [
    "# SQL statement to execute\n",
    "statement = \"\"\"CREATE TABLE IF NOT EXISTS {}.{}\n",
    "WITH (format = 'PARQUET', external_location = '{}', partitioned_by = ARRAY['candidatepoll']) AS\n",
    "SELECT comment_id,\n",
    "         user_name,\n",
    "         user_location,\n",
    "         comment_body,\n",
    "         reply_retweet,\n",
    "         recommendation_like,\n",
    "         source,\n",
    "         trump_count,\n",
    "         biden_count,\n",
    "         candidatepoll\n",
    "FROM {}.{}\"\"\".format(\n",
    "    database_name, table_parquet, s3_path_parquet, database_name, table_comment\n",
    ")\n",
    "pd.read_sql(statement, conn)\n"
   ]
  },
  {
   "cell_type": "code",
   "execution_count": 21,
   "id": "a6a15325-334a-45ca-98e2-8dd09de9b0da",
   "metadata": {},
   "outputs": [
    {
     "name": "stderr",
     "output_type": "stream",
     "text": [
      "/tmp/ipykernel_102/2260227216.py:4: UserWarning: pandas only supports SQLAlchemy connectable (engine/connection) or database string URI or sqlite3 DBAPI2 connection. Other DBAPI2 objects are not tested. Please consider using SQLAlchemy.\n",
      "  df = pd.read_sql(statement, conn)\n"
     ]
    },
    {
     "data": {
      "text/html": [
       "<div>\n",
       "<style scoped>\n",
       "    .dataframe tbody tr th:only-of-type {\n",
       "        vertical-align: middle;\n",
       "    }\n",
       "\n",
       "    .dataframe tbody tr th {\n",
       "        vertical-align: top;\n",
       "    }\n",
       "\n",
       "    .dataframe thead th {\n",
       "        text-align: right;\n",
       "    }\n",
       "</style>\n",
       "<table border=\"1\" class=\"dataframe\">\n",
       "  <thead>\n",
       "    <tr style=\"text-align: right;\">\n",
       "      <th></th>\n",
       "    </tr>\n",
       "  </thead>\n",
       "  <tbody>\n",
       "  </tbody>\n",
       "</table>\n",
       "</div>"
      ],
      "text/plain": [
       "Empty DataFrame\n",
       "Columns: []\n",
       "Index: []"
      ]
     },
     "execution_count": 21,
     "metadata": {},
     "output_type": "execute_result"
    }
   ],
   "source": [
    "#load the Parquet partitions\n",
    "statement = \"MSCK REPAIR TABLE {}.{}\".format(database_name, table_parquet)\n",
    "\n",
    "df = pd.read_sql(statement, conn)\n",
    "df.head(5)"
   ]
  },
  {
   "cell_type": "code",
   "execution_count": 22,
   "id": "1bd2bbe2-1ed0-4381-b3dc-cf56a7da2644",
   "metadata": {},
   "outputs": [
    {
     "name": "stderr",
     "output_type": "stream",
     "text": [
      "/tmp/ipykernel_102/680368856.py:2: UserWarning: pandas only supports SQLAlchemy connectable (engine/connection) or database string URI or sqlite3 DBAPI2 connection. Other DBAPI2 objects are not tested. Please consider using SQLAlchemy.\n",
      "  df_partitions = pd.read_sql(statement, conn)\n"
     ]
    },
    {
     "data": {
      "text/html": [
       "<div>\n",
       "<style scoped>\n",
       "    .dataframe tbody tr th:only-of-type {\n",
       "        vertical-align: middle;\n",
       "    }\n",
       "\n",
       "    .dataframe tbody tr th {\n",
       "        vertical-align: top;\n",
       "    }\n",
       "\n",
       "    .dataframe thead th {\n",
       "        text-align: right;\n",
       "    }\n",
       "</style>\n",
       "<table border=\"1\" class=\"dataframe\">\n",
       "  <thead>\n",
       "    <tr style=\"text-align: right;\">\n",
       "      <th></th>\n",
       "      <th>partition</th>\n",
       "    </tr>\n",
       "  </thead>\n",
       "  <tbody>\n",
       "    <tr>\n",
       "      <th>0</th>\n",
       "      <td>candidatepoll=__HIVE_DEFAULT_PARTITION__</td>\n",
       "    </tr>\n",
       "    <tr>\n",
       "      <th>1</th>\n",
       "      <td>candidatepoll=Trump</td>\n",
       "    </tr>\n",
       "    <tr>\n",
       "      <th>2</th>\n",
       "      <td>candidatepoll=Biden</td>\n",
       "    </tr>\n",
       "  </tbody>\n",
       "</table>\n",
       "</div>"
      ],
      "text/plain": [
       "                                  partition\n",
       "0  candidatepoll=__HIVE_DEFAULT_PARTITION__\n",
       "1                       candidatepoll=Trump\n",
       "2                       candidatepoll=Biden"
      ]
     },
     "execution_count": 22,
     "metadata": {},
     "output_type": "execute_result"
    }
   ],
   "source": [
    "statement = \"SHOW PARTITIONS {}.{}\".format(database_name, table_parquet)\n",
    "df_partitions = pd.read_sql(statement, conn)\n",
    "df_partitions.head(5)"
   ]
  },
  {
   "cell_type": "code",
   "execution_count": 26,
   "id": "32e40d92-c4b4-4c1f-8217-cea2c9fc2bea",
   "metadata": {},
   "outputs": [
    {
     "name": "stderr",
     "output_type": "stream",
     "text": [
      "/tmp/ipykernel_102/2954009692.py:2: UserWarning: pandas only supports SQLAlchemy connectable (engine/connection) or database string URI or sqlite3 DBAPI2 connection. Other DBAPI2 objects are not tested. Please consider using SQLAlchemy.\n",
      "  df_partitions = pd.read_sql(statement, conn)\n"
     ]
    },
    {
     "data": {
      "text/html": [
       "<div>\n",
       "<style scoped>\n",
       "    .dataframe tbody tr th:only-of-type {\n",
       "        vertical-align: middle;\n",
       "    }\n",
       "\n",
       "    .dataframe tbody tr th {\n",
       "        vertical-align: top;\n",
       "    }\n",
       "\n",
       "    .dataframe thead th {\n",
       "        text-align: right;\n",
       "    }\n",
       "</style>\n",
       "<table border=\"1\" class=\"dataframe\">\n",
       "  <thead>\n",
       "    <tr style=\"text-align: right;\">\n",
       "      <th></th>\n",
       "      <th>tab_name</th>\n",
       "    </tr>\n",
       "  </thead>\n",
       "  <tbody>\n",
       "    <tr>\n",
       "      <th>0</th>\n",
       "      <td>comment</td>\n",
       "    </tr>\n",
       "    <tr>\n",
       "      <th>1</th>\n",
       "      <td>comment_parquet</td>\n",
       "    </tr>\n",
       "    <tr>\n",
       "      <th>2</th>\n",
       "      <td>nyt_comment</td>\n",
       "    </tr>\n",
       "    <tr>\n",
       "      <th>3</th>\n",
       "      <td>tweeter</td>\n",
       "    </tr>\n",
       "  </tbody>\n",
       "</table>\n",
       "</div>"
      ],
      "text/plain": [
       "          tab_name\n",
       "0          comment\n",
       "1  comment_parquet\n",
       "2      nyt_comment\n",
       "3          tweeter"
      ]
     },
     "execution_count": 26,
     "metadata": {},
     "output_type": "execute_result"
    }
   ],
   "source": [
    "statement = \"SHOW TABLES in {}\".format(database_name)\n",
    "df_partitions = pd.read_sql(statement, conn)\n",
    "df_partitions.head(5)"
   ]
  },
  {
   "cell_type": "code",
   "execution_count": null,
   "id": "01b86ea2-4646-46f5-9aae-6467075f5063",
   "metadata": {},
   "outputs": [],
   "source": [
    "if table_parquet in df_tables.values:\n",
    "    ingest_create_athena_table_parquet_passed = True"
   ]
  },
  {
   "cell_type": "code",
   "execution_count": 40,
   "id": "1ce8d363-87fc-442b-bfa0-21268b94e382",
   "metadata": {},
   "outputs": [
    {
     "name": "stderr",
     "output_type": "stream",
     "text": [
      "/tmp/ipykernel_102/3427862730.py:7: UserWarning: pandas only supports SQLAlchemy connectable (engine/connection) or database string URI or sqlite3 DBAPI2 connection. Other DBAPI2 objects are not tested. Please consider using SQLAlchemy.\n",
      "  df = pd.read_sql(statement, conn)\n"
     ]
    },
    {
     "data": {
      "text/html": [
       "<div>\n",
       "<style scoped>\n",
       "    .dataframe tbody tr th:only-of-type {\n",
       "        vertical-align: middle;\n",
       "    }\n",
       "\n",
       "    .dataframe tbody tr th {\n",
       "        vertical-align: top;\n",
       "    }\n",
       "\n",
       "    .dataframe thead th {\n",
       "        text-align: right;\n",
       "    }\n",
       "</style>\n",
       "<table border=\"1\" class=\"dataframe\">\n",
       "  <thead>\n",
       "    <tr style=\"text-align: right;\">\n",
       "      <th></th>\n",
       "      <th>comment_id</th>\n",
       "      <th>user_name</th>\n",
       "      <th>user_location</th>\n",
       "      <th>comment_body</th>\n",
       "      <th>reply_retweet</th>\n",
       "      <th>recommendation_like</th>\n",
       "      <th>source</th>\n",
       "      <th>trump_count</th>\n",
       "      <th>biden_count</th>\n",
       "      <th>candidatepoll</th>\n",
       "    </tr>\n",
       "  </thead>\n",
       "  <tbody>\n",
       "    <tr>\n",
       "      <th>0</th>\n",
       "      <td>1.324384e+18</td>\n",
       "      <td>1.2345765630914437e+18</td>\n",
       "      <td>proud sister of an Airforce Veteran. Dog Mom</td>\n",
       "      <td>\"@realDonaldTrump If they do</td>\n",
       "      <td>1.0</td>\n",
       "      <td>NaN</td>\n",
       "      <td>tweet</td>\n",
       "      <td>1</td>\n",
       "      <td>0</td>\n",
       "      <td>Trump</td>\n",
       "    </tr>\n",
       "    <tr>\n",
       "      <th>1</th>\n",
       "      <td>1.324385e+18</td>\n",
       "      <td>None</td>\n",
       "      <td>None</td>\n",
       "      <td>\"@DiamondandSilk And a lot of Trump votes were...</td>\n",
       "      <td>NaN</td>\n",
       "      <td>NaN</td>\n",
       "      <td>tweet</td>\n",
       "      <td>1</td>\n",
       "      <td>0</td>\n",
       "      <td>Trump</td>\n",
       "    </tr>\n",
       "    <tr>\n",
       "      <th>2</th>\n",
       "      <td>1.324385e+18</td>\n",
       "      <td>Shima</td>\n",
       "      <td></td>\n",
       "      <td>I think #Biden shoud go to court and ask for r...</td>\n",
       "      <td>0.0</td>\n",
       "      <td>1.0</td>\n",
       "      <td>tweet</td>\n",
       "      <td>4</td>\n",
       "      <td>2</td>\n",
       "      <td>Trump</td>\n",
       "    </tr>\n",
       "    <tr>\n",
       "      <th>3</th>\n",
       "      <td>1.324385e+18</td>\n",
       "      <td>Tom Silva</td>\n",
       "      <td>2015-09-28 15:20:29</td>\n",
       "      <td>O #Trump parece que vai perder. O #Biden tá in...</td>\n",
       "      <td>0.0</td>\n",
       "      <td>1.0</td>\n",
       "      <td>tweet</td>\n",
       "      <td>2</td>\n",
       "      <td>1</td>\n",
       "      <td>Trump</td>\n",
       "    </tr>\n",
       "    <tr>\n",
       "      <th>4</th>\n",
       "      <td>1.324385e+18</td>\n",
       "      <td>College Conservative</td>\n",
       "      <td>\"Westerville</td>\n",
       "      <td>The sad truth. #donaldtrumpisyourpresident #Do...</td>\n",
       "      <td>0.0</td>\n",
       "      <td>0.0</td>\n",
       "      <td>tweet</td>\n",
       "      <td>5</td>\n",
       "      <td>1</td>\n",
       "      <td>Trump</td>\n",
       "    </tr>\n",
       "  </tbody>\n",
       "</table>\n",
       "</div>"
      ],
      "text/plain": [
       "     comment_id               user_name  \\\n",
       "0  1.324384e+18  1.2345765630914437e+18   \n",
       "1  1.324385e+18                    None   \n",
       "2  1.324385e+18                   Shima   \n",
       "3  1.324385e+18               Tom Silva   \n",
       "4  1.324385e+18    College Conservative   \n",
       "\n",
       "                                   user_location  \\\n",
       "0   proud sister of an Airforce Veteran. Dog Mom   \n",
       "1                                           None   \n",
       "2                                                  \n",
       "3                            2015-09-28 15:20:29   \n",
       "4                                   \"Westerville   \n",
       "\n",
       "                                        comment_body  reply_retweet  \\\n",
       "0                       \"@realDonaldTrump If they do            1.0   \n",
       "1  \"@DiamondandSilk And a lot of Trump votes were...            NaN   \n",
       "2  I think #Biden shoud go to court and ask for r...            0.0   \n",
       "3  O #Trump parece que vai perder. O #Biden tá in...            0.0   \n",
       "4  The sad truth. #donaldtrumpisyourpresident #Do...            0.0   \n",
       "\n",
       "   recommendation_like source  trump_count  biden_count candidatepoll  \n",
       "0                  NaN  tweet            1            0         Trump  \n",
       "1                  NaN  tweet            1            0         Trump  \n",
       "2                  1.0  tweet            4            2         Trump  \n",
       "3                  1.0  tweet            2            1         Trump  \n",
       "4                  0.0  tweet            5            1         Trump  "
      ]
     },
     "execution_count": 40,
     "metadata": {},
     "output_type": "execute_result"
    }
   ],
   "source": [
    "candidatepoll = \"Trump\"\n",
    "\n",
    "statement = \"\"\"SELECT * FROM {}.{}\n",
    "    WHERE candidatepoll = '{}' LIMIT 100\"\"\".format(\n",
    "    database_name, table_parquet, candidatepoll\n",
    ")\n",
    "df = pd.read_sql(statement, conn)\n",
    "df.head(5)"
   ]
  },
  {
   "cell_type": "markdown",
   "id": "c6e714e8-46dc-4f1a-97cc-021dd8095ea3",
   "metadata": {},
   "source": [
    "## Query Data"
   ]
  },
  {
   "cell_type": "code",
   "execution_count": null,
   "id": "84f9c3e8",
   "metadata": {},
   "outputs": [],
   "source": [
    "# Setup and check pre-requisites to create Database\n",
    "%store -r ingest_create_athena_table_passed\n",
    "!pip install --disable-pip-version-check -q awswrangler==2.3.0\n",
    "import awswrangler as wr\n"
   ]
  },
  {
   "cell_type": "code",
   "execution_count": null,
   "id": "44117417",
   "metadata": {},
   "outputs": [],
   "source": [
    "# Read in Datasets"
   ]
  },
  {
   "cell_type": "code",
   "execution_count": null,
   "id": "3fa64459",
   "metadata": {},
   "outputs": [],
   "source": [
    "# Dataset Info"
   ]
  },
  {
   "cell_type": "markdown",
   "id": "74a8a0c0",
   "metadata": {},
   "source": [
    "# Data Exploration"
   ]
  },
  {
   "cell_type": "code",
   "execution_count": null,
   "id": "bed170c7",
   "metadata": {},
   "outputs": [],
   "source": [
    "# Dataset Descriptives"
   ]
  },
  {
   "cell_type": "code",
   "execution_count": null,
   "id": "72d554c3",
   "metadata": {},
   "outputs": [],
   "source": [
    "# Data Distributions"
   ]
  },
  {
   "cell_type": "code",
   "execution_count": null,
   "id": "b2e21d86",
   "metadata": {},
   "outputs": [],
   "source": [
    "# Filtering Text by Location"
   ]
  }
 ],
 "metadata": {
  "kernelspec": {
   "display_name": "Python 3 (ipykernel)",
   "language": "python",
   "name": "python3"
  },
  "language_info": {
   "codemirror_mode": {
    "name": "ipython",
    "version": 3
   },
   "file_extension": ".py",
   "mimetype": "text/x-python",
   "name": "python",
   "nbconvert_exporter": "python",
   "pygments_lexer": "ipython3",
   "version": "3.10.13"
  }
 },
 "nbformat": 4,
 "nbformat_minor": 5
}
