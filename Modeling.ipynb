{
 "cells": [
  {
   "cell_type": "code",
   "execution_count": null,
   "id": "c3ba3af4-f104-451b-9276-e78846e10f07",
   "metadata": {},
   "outputs": [],
   "source": []
  },
  {
   "cell_type": "code",
   "execution_count": null,
   "id": "7d354932-2ba5-492e-81e4-5999a1455efb",
   "metadata": {},
   "outputs": [],
   "source": [
    "import boto3\n",
    "import sagemaker\n",
    "import pandas as pd\n",
    "\n",
    "sess = sagemaker.Session()\n",
    "bucket = sess.default_bucket()\n",
    "role = sagemaker.get_execution_role()\n",
    "region = boto3.Session().region_name\n",
    "\n",
    "sm = boto3.Session().client(service_name=\"sagemaker\", region_name=region)"
   ]
  },
  {
   "cell_type": "code",
   "execution_count": null,
   "id": "b4dd22f7-aee6-4e82-8953-e406ed0474b9",
   "metadata": {},
   "outputs": [],
   "source": []
  },
  {
   "cell_type": "code",
   "execution_count": null,
   "id": "79343432-267a-448f-9210-085d94ebae06",
   "metadata": {},
   "outputs": [],
   "source": [
    "# Specify the S3 bucket name and file path\n",
    "bucket_name = bucket\n",
    "file_path = 'ADS508_project/cleandata/X_train_pre.csv'\n",
    "\n",
    "# Read CSV file from S3 bucket into DataFrame\n",
    "X_train_prep = pd.read_csv(f's3://{bucket_name}/{file_path}')\n",
    "\n",
    "X_train_prep.head()"
   ]
  },
  {
   "cell_type": "code",
   "execution_count": null,
   "id": "0a7677c0-1430-4145-b255-288068c56dab",
   "metadata": {},
   "outputs": [],
   "source": []
  },
  {
   "cell_type": "code",
   "execution_count": null,
   "id": "ddb8dad3-a702-411f-a365-1b2a8b0d075c",
   "metadata": {},
   "outputs": [],
   "source": [
    "# Specify the S3 bucket name and file path\n",
    "bucket_name = bucket\n",
    "file_path = 'ADS508_project/cleandata/X_val_prep.csv'\n",
    "\n",
    "# Read CSV file from S3 bucket into DataFrame\n",
    "X_val_prep = pd.read_csv(f's3://{bucket_name}/{file_path}')\n",
    "\n",
    "X_val_prep.head()"
   ]
  },
  {
   "cell_type": "code",
   "execution_count": null,
   "id": "54b20e95-e340-4beb-a6d1-bc7cf142d4b0",
   "metadata": {},
   "outputs": [],
   "source": []
  },
  {
   "cell_type": "code",
   "execution_count": null,
   "id": "f4062e57-ba4e-4e82-b051-8c9c076011eb",
   "metadata": {},
   "outputs": [],
   "source": [
    "# Specify the S3 bucket name and file path\n",
    "bucket_name = bucket\n",
    "file_path = 'ADS508_project/cleandata/X_test_prep.csv'\n",
    "\n",
    "# Read CSV file from S3 bucket into DataFrame\n",
    "X_test_prep = pd.read_csv(f's3://{bucket_name}/{file_path}')\n",
    "\n",
    "X_test_prep.head()"
   ]
  },
  {
   "cell_type": "markdown",
   "id": "db32f5d4-fc16-4416-9582-59e65b8a4076",
   "metadata": {},
   "source": [
    "# Baseline Model"
   ]
  },
  {
   "cell_type": "code",
   "execution_count": null,
   "id": "831cdd05-ac97-4220-b761-bccbf9f73442",
   "metadata": {},
   "outputs": [],
   "source": [
    "from sklearn.linear_model import LogisticRegression\n",
    "from sklearn.metrics import classification_report, accuracy_score\n",
    "\n",
    "# Initialize the Logistic Regression model\n",
    "log_reg2 = LogisticRegression(max_iter=1000, solver='lbfgs')\n",
    "\n",
    "# Fit the model on the balanced text training data\n",
    "log_reg2.fit(X_train_prep.iloc[:, :-2], X_train_prep.iloc[:, -1])\n",
    "\n",
    "# Predict on the validation set\n",
    "y_val_pred = log_reg2.predict(X_val_prep.iloc[:, :-2])\n",
    "\n",
    "# Evaluate the model\n",
    "print(\"Baseline: Validation Set Accuracy:\", accuracy_score(X_val_prep.iloc[:, -1], y_val_pred))\n",
    "print(\"\\nBaselin: Validation Set Classification Report:\\n\", classification_report(X_val_prep.iloc[:, -1], y_val_pred))"
   ]
  },
  {
   "cell_type": "code",
   "execution_count": null,
   "id": "58b84fa0-4808-4b83-805f-da410debfb45",
   "metadata": {},
   "outputs": [],
   "source": [
    "y_test_pred = log_reg2.predict(X_test_prep.iloc[:, :-2])\n",
    "print(\"Baseline: Test Set Accuracy:\", accuracy_score(X_test_prep.iloc[:, -1], y_test_pred))\n",
    "print(\"\\nBaselin: Test Set Classification Report:\\n\", classification_report(X_test_prep.iloc[:, -1], y_test_pred))"
   ]
  },
  {
   "cell_type": "code",
   "execution_count": null,
   "id": "4478333b-baf4-4de0-8543-321b46527961",
   "metadata": {},
   "outputs": [],
   "source": []
  },
  {
   "cell_type": "markdown",
   "id": "71dbc629-70e8-4189-8b43-ab10a4be513f",
   "metadata": {},
   "source": [
    "# SageMaker AutoPilot"
   ]
  },
  {
   "cell_type": "code",
   "execution_count": null,
   "id": "c3e370ba-0add-47f9-bb6e-40fb87a5fb20",
   "metadata": {},
   "outputs": [],
   "source": [
    "import sagemaker\n",
    "from sagemaker import get_execution_role\n",
    "from sagemaker.automl.automl import AutoML\n",
    "\n",
    "role = get_execution_role()\n",
    "session = sagemaker.Session()\n",
    "\n",
    "# Replace 'your_dataset.csv' with the name of your CSV file\n",
    "input_data = 's3://508group/ADS508_project/cleandata/df_final.csv'\n",
    "\n",
    "autopilot_job = AutoML(\n",
    "    role=role,\n",
    "    target_attribute_name='sentimentoutcome',  # This is the column you're predicting\n",
    "    output_path='s3://508group/ADS508_project/output/autopilot/',\n",
    "    max_candidates=20,\n",
    "    sagemaker_session=session,\n",
    "    problem_type='MulticlassClassification',  # Assuming sentimentoutcome is multiclass\n",
    "    job_objective={'MetricName': 'Accuracy'}  # You can choose another metric if it fits better\n",
    ")\n",
    "\n",
    "autopilot_job.fit(inputs=input_data, wait=False, logs=True)"
   ]
  },
  {
   "cell_type": "code",
   "execution_count": null,
   "id": "f51b4311-3db8-409d-a7c4-f879f459ae34",
   "metadata": {},
   "outputs": [],
   "source": [
    "import boto3\n",
    "import tarfile\n",
    "import os\n",
    "\n",
    "# Initialize the S3 client\n",
    "s3 = boto3.client('s3')\n",
    "\n",
    "# S3 bucket and object key\n",
    "bucket_name = '508group'\n",
    "object_key = 'ADS508_project/output/autopilot/automl-2024-03-30-19-51-00-981/data-processor-models/automl-2024-03-30-19-51-00-981-dpp9-1-89acfb1b856c4754873c58ddd/output/model.tar.gz'\n",
    "\n",
    "# Local directory to extract the contents\n",
    "extract_dir = \"ADS508_project/output/autopilot/automl-2024-03-30-19-51-00-981/data-processor-models/automl-2024-03-30-19-51-00-981-dpp9-1-89acfb1b856c4754873c58ddd/output/model.tar.gz\"\n",
    "\n",
    "# Create the directory if it doesn't exist\n",
    "os.makedirs(extract_dir, exist_ok=True)\n",
    "\n",
    "# Download the file from S3\n",
    "local_file_path = os.path.join(extract_dir, 'model.tar.gz')\n",
    "s3.download_file(bucket_name, object_key, local_file_path)\n",
    "\n",
    "# Open the tar file and extract the contents\n",
    "with tarfile.open(local_file_path, \"r:gz\") as tar:\n",
    "    tar.extractall(path=extract_dir)\n",
    "\n",
    "# After extraction, you can further process or use the contents of the extracted files\n",
    "# For example, list the extracted files\n",
    "extracted_files = os.listdir(extract_dir)\n",
    "print(\"Extracted files:\", extracted_files)"
   ]
  },
  {
   "cell_type": "code",
   "execution_count": null,
   "id": "ca123fa1-d59f-4ca1-bcc7-ff178b116972",
   "metadata": {},
   "outputs": [],
   "source": [
    "# Download the file from S3\n",
    "local_file_path = os.path.join(extract_dir, 'model.tar.gz')\n",
    "s3.download_file(bucket_name, object_key, local_file_path)\n",
    "\n",
    "# Extract the contents of the tar.gz file\n",
    "with tarfile.open(local_file_path, \"r:gz\") as tar:\n",
    "    tar.extractall(path=extract_dir)\n"
   ]
  },
  {
   "cell_type": "code",
   "execution_count": null,
   "id": "6c965383-c03e-46d6-8a60-63397a50a6f2",
   "metadata": {},
   "outputs": [],
   "source": [
    "import sagemaker\n",
    "from sagemaker import get_execution_role\n",
    "from sagemaker.automl.automl import AutoML\n",
    "import time\n",
    "from datetime import datetime\n",
    "from time import strftime\n",
    "timestamp = datetime.now().strftime(\"%Y-%m-%dT%H:%M:%SZ\")\n",
    "print(f\"start: {timestamp}\\n\")\n",
    "role = get_execution_role()\n",
    "session = sagemaker.Session()\n",
    "# Replace 'your_dataset.csv' with the name of your CSV file\n",
    "#input_data = 's3://508group/ADS508_project/cleandata/df_final.csv'\n",
    "input_data = 's3://sagemaker-us-east-1-851725336500/ADS508_project/cleandata/final_data.csv'\n",
    "autopilot_job = AutoML(\n",
    "    role=role,\n",
    "    target_attribute_name='sentimentoutcome',  # This is the column you're predicting\n",
    "    #output_path='s3://508group/ADS508_project/output/autopilot/',\n",
    "    output_path= 's3://sagemaker-us-east-1-851725336500/ADS508_project/output/autopilot/',\n",
    "    max_candidates=20,\n",
    "    sagemaker_session=session,\n",
    "    problem_type='MulticlassClassification',  # Assuming sentimentoutcome is multiclass\n",
    "    job_objective={'MetricName': 'Accuracy'}  # You can choose another metric if it fits better\n",
    ")\n",
    "autopilot_job.fit(inputs=input_data, wait=True, logs=True)\n",
    "timestamp = datetime.now().strftime(\"%Y-%m-%dT%H:%M:%SZ\")\n",
    "print(f\"start: {timestamp}\\n\")\n"
   ]
  },
  {
   "cell_type": "code",
   "execution_count": null,
   "id": "3e40031e-ade5-4066-8962-df9812157ba4",
   "metadata": {},
   "outputs": [],
   "source": []
  },
  {
   "cell_type": "code",
   "execution_count": null,
   "id": "2f4acaf0-6566-4350-b2da-d9d6f91a16a4",
   "metadata": {},
   "outputs": [],
   "source": []
  },
  {
   "cell_type": "code",
   "execution_count": null,
   "id": "bb48885a-3370-46bb-be78-051001d90235",
   "metadata": {},
   "outputs": [],
   "source": []
  },
  {
   "cell_type": "markdown",
   "id": "49423cb1-d871-42f1-a741-fdaddfb435e4",
   "metadata": {},
   "source": [
    "# Using SageMaker for Ensemble Models"
   ]
  },
  {
   "cell_type": "code",
   "execution_count": null,
   "id": "a28e3f3e-6ab2-43f7-872e-9d7a9c575d53",
   "metadata": {},
   "outputs": [],
   "source": [
    "import sagemaker\n",
    "from sagemaker import get_execution_role\n",
    "from sagemaker.amazon.amazon_estimator import get_image_uri\n",
    "from sagemaker.inputs import TrainingInput\n",
    "from sagemaker.estimator import Estimator\n",
    "\n",
    "# Define IAM role\n",
    "role = get_execution_role()\n",
    "\n",
    "# Define SageMaker session\n",
    "sess = sagemaker.Session()\n",
    "\n",
    "# Define S3 bucket and prefix\n",
    "bucket = 'your-s3-bucket-name'\n",
    "prefix = 'your-prefix'\n",
    "\n",
    "# Specify the training data location in S3\n",
    "train_input = TrainingInput(f's3://{bucket}/{prefix}/train.csv', content_type='text/csv')\n",
    "\n",
    "# Get the XGBoost container image\n",
    "container = get_image_uri(sess.boto_region_name, 'xgboost', repo_version='1.2-1')\n",
    "\n",
    "# Define hyperparameters\n",
    "hyperparameters = {\n",
    "    \"max_depth\": \"5\",\n",
    "    \"eta\": \"0.2\",\n",
    "    \"gamma\": \"4\",\n",
    "    \"min_child_weight\": \"6\",\n",
    "    \"subsample\": \"0.7\",\n",
    "    \"objective\": \"reg:linear\",\n",
    "    \"num_round\": \"50\"\n",
    "}\n",
    "\n",
    "# Create an estimator object\n",
    "xgb_estimator = Estimator(\n",
    "    image_uri=container,\n",
    "    role=role,\n",
    "    instance_count=1,\n",
    "    instance_type='ml.m5.large',\n",
    "    hyperparameters=hyperparameters\n",
    ")\n",
    "\n",
    "# Set the output location for model artifacts\n",
    "output_path = f's3://{bucket}/{prefix}/output'\n",
    "xgb_estimator.output_path = output_path\n",
    "\n",
    "# Train the model\n",
    "xgb_estimator.fit({'train': train_input})"
   ]
  },
  {
   "cell_type": "code",
   "execution_count": null,
   "id": "2daf4cc6-3b97-44f0-87d1-e8ed7ac4d4dc",
   "metadata": {},
   "outputs": [],
   "source": [
    "import sagemaker\n",
    "from sagemaker.inputs import TrainingInput\n",
    "from sagemaker.estimator import Estimator\n",
    "\n",
    "# Define S3 bucket and prefix for training data and output\n",
    "prefix = 'ADS508_project/cleandata/'\n",
    "\n",
    "# Specify the path to the training data in S3\n",
    "train_data_uri = f's3://{bucket}/{prefix}/X_train_prep.csv'\n",
    "\n",
    "# Specify the hyperparameters for the XGBoost model\n",
    "hyperparameters = {\n",
    "    'objective': 'binary:logistic',\n",
    "    'max_depth': 5,\n",
    "    'eta': 0.1,\n",
    "    'gamma': 1\n",
    "}\n",
    "\n",
    "# Create an instance of the XGBoost estimator\n",
    "xgb_estimator = Estimator(\n",
    "    image_uri=sagemaker.image_uris.retrieve('xgboost', region),\n",
    "    role=sagemaker.get_execution_role(),\n",
    "    instance_count=1,\n",
    "    instance_type='ml.m4.xlarge'\n",
    ")\n",
    "\n",
    "# Set hyperparameters\n",
    "xgb_estimator.set_hyperparameters(**hyperparameters)\n",
    "\n",
    "# Start the training job\n",
    "xgb_estimator.fit({'train': train_data_uri})"
   ]
  },
  {
   "cell_type": "code",
   "execution_count": null,
   "id": "fbf94090-db61-436e-a6da-ba06ff511293",
   "metadata": {},
   "outputs": [],
   "source": []
  },
  {
   "cell_type": "markdown",
   "id": "2f06e883-0932-4ba0-a13c-9c14ee229bc3",
   "metadata": {},
   "source": [
    "# Multilayer Perceptrons"
   ]
  },
  {
   "cell_type": "code",
   "execution_count": null,
   "id": "5e29a808-c889-4908-a9d5-2246eb1db5f7",
   "metadata": {},
   "outputs": [],
   "source": [
    "from sklearn.neural_network import MLPClassifier\n",
    "from sklearn.metrics import accuracy_score, classification_report\n",
    "from sagemaker.sklearn import SKLearn\n",
    "import joblib\n",
    "import sagemaker\n",
    "\n",
    "# Define the training logic directly in your Python code\n",
    "def train_model():\n",
    "    # Load training data (replace this with your actual data loading code)\n",
    "    X_train, y_train = load_training_data()\n",
    "\n",
    "    # Define the MLPClassifier model\n",
    "    mlp_model = MLPClassifier(hidden_layer_sizes=(128, 64), max_iter=500, activation='relu', solver='adam', verbose=True, tol=0.001, alpha=0.0001)\n",
    "\n",
    "    # Train the model\n",
    "    mlp_model.fit(X_train, y_train)\n",
    "\n",
    "    # Save the model to disk\n",
    "    model_path = 'model.joblib'\n",
    "    joblib.dump(mlp_model, model_path)\n",
    "\n",
    "    return model_path\n",
    "\n",
    "# Train the model\n",
    "model_path = train_model()\n",
    "\n",
    "# Define S3 bucket and prefix for training data and output\n",
    "bucket = 'your-s3-bucket'\n",
    "prefix = 'your-s3-prefix'\n",
    "\n",
    "# Specify the path to the training data in S3\n",
    "train_data_uri = f's3://{bucket}/{prefix}/train.pkl'\n",
    "\n",
    "# Create an instance of the SKLearn estimator\n",
    "sklearn_estimator = SKLearn(\n",
    "    entry_point=train_model,  # Pass the train_model function directly\n",
    "    source_dir='.',  # Directory containing the Python code\n",
    "    instance_type='ml.m4.xlarge',\n",
    "    role=sagemaker.get_execution_role(),\n",
    "    framework_version='0.23-1',\n",
    "    py_version='py3',\n",
    "    output_path=f's3://{bucket}/{prefix}/output'\n",
    ")\n",
    "\n",
    "# Start the training job\n",
    "sklearn_estimator.fit({'train': train_data_uri})\n"
   ]
  }
 ],
 "metadata": {
  "availableInstances": [
   {
    "_defaultOrder": 0,
    "_isFastLaunch": true,
    "category": "General purpose",
    "gpuNum": 0,
    "hideHardwareSpecs": false,
    "memoryGiB": 4,
    "name": "ml.t3.medium",
    "vcpuNum": 2
   },
   {
    "_defaultOrder": 1,
    "_isFastLaunch": false,
    "category": "General purpose",
    "gpuNum": 0,
    "hideHardwareSpecs": false,
    "memoryGiB": 8,
    "name": "ml.t3.large",
    "vcpuNum": 2
   },
   {
    "_defaultOrder": 2,
    "_isFastLaunch": false,
    "category": "General purpose",
    "gpuNum": 0,
    "hideHardwareSpecs": false,
    "memoryGiB": 16,
    "name": "ml.t3.xlarge",
    "vcpuNum": 4
   },
   {
    "_defaultOrder": 3,
    "_isFastLaunch": false,
    "category": "General purpose",
    "gpuNum": 0,
    "hideHardwareSpecs": false,
    "memoryGiB": 32,
    "name": "ml.t3.2xlarge",
    "vcpuNum": 8
   },
   {
    "_defaultOrder": 4,
    "_isFastLaunch": true,
    "category": "General purpose",
    "gpuNum": 0,
    "hideHardwareSpecs": false,
    "memoryGiB": 8,
    "name": "ml.m5.large",
    "vcpuNum": 2
   },
   {
    "_defaultOrder": 5,
    "_isFastLaunch": false,
    "category": "General purpose",
    "gpuNum": 0,
    "hideHardwareSpecs": false,
    "memoryGiB": 16,
    "name": "ml.m5.xlarge",
    "vcpuNum": 4
   },
   {
    "_defaultOrder": 6,
    "_isFastLaunch": false,
    "category": "General purpose",
    "gpuNum": 0,
    "hideHardwareSpecs": false,
    "memoryGiB": 32,
    "name": "ml.m5.2xlarge",
    "vcpuNum": 8
   },
   {
    "_defaultOrder": 7,
    "_isFastLaunch": false,
    "category": "General purpose",
    "gpuNum": 0,
    "hideHardwareSpecs": false,
    "memoryGiB": 64,
    "name": "ml.m5.4xlarge",
    "vcpuNum": 16
   },
   {
    "_defaultOrder": 8,
    "_isFastLaunch": false,
    "category": "General purpose",
    "gpuNum": 0,
    "hideHardwareSpecs": false,
    "memoryGiB": 128,
    "name": "ml.m5.8xlarge",
    "vcpuNum": 32
   },
   {
    "_defaultOrder": 9,
    "_isFastLaunch": false,
    "category": "General purpose",
    "gpuNum": 0,
    "hideHardwareSpecs": false,
    "memoryGiB": 192,
    "name": "ml.m5.12xlarge",
    "vcpuNum": 48
   },
   {
    "_defaultOrder": 10,
    "_isFastLaunch": false,
    "category": "General purpose",
    "gpuNum": 0,
    "hideHardwareSpecs": false,
    "memoryGiB": 256,
    "name": "ml.m5.16xlarge",
    "vcpuNum": 64
   },
   {
    "_defaultOrder": 11,
    "_isFastLaunch": false,
    "category": "General purpose",
    "gpuNum": 0,
    "hideHardwareSpecs": false,
    "memoryGiB": 384,
    "name": "ml.m5.24xlarge",
    "vcpuNum": 96
   },
   {
    "_defaultOrder": 12,
    "_isFastLaunch": false,
    "category": "General purpose",
    "gpuNum": 0,
    "hideHardwareSpecs": false,
    "memoryGiB": 8,
    "name": "ml.m5d.large",
    "vcpuNum": 2
   },
   {
    "_defaultOrder": 13,
    "_isFastLaunch": false,
    "category": "General purpose",
    "gpuNum": 0,
    "hideHardwareSpecs": false,
    "memoryGiB": 16,
    "name": "ml.m5d.xlarge",
    "vcpuNum": 4
   },
   {
    "_defaultOrder": 14,
    "_isFastLaunch": false,
    "category": "General purpose",
    "gpuNum": 0,
    "hideHardwareSpecs": false,
    "memoryGiB": 32,
    "name": "ml.m5d.2xlarge",
    "vcpuNum": 8
   },
   {
    "_defaultOrder": 15,
    "_isFastLaunch": false,
    "category": "General purpose",
    "gpuNum": 0,
    "hideHardwareSpecs": false,
    "memoryGiB": 64,
    "name": "ml.m5d.4xlarge",
    "vcpuNum": 16
   },
   {
    "_defaultOrder": 16,
    "_isFastLaunch": false,
    "category": "General purpose",
    "gpuNum": 0,
    "hideHardwareSpecs": false,
    "memoryGiB": 128,
    "name": "ml.m5d.8xlarge",
    "vcpuNum": 32
   },
   {
    "_defaultOrder": 17,
    "_isFastLaunch": false,
    "category": "General purpose",
    "gpuNum": 0,
    "hideHardwareSpecs": false,
    "memoryGiB": 192,
    "name": "ml.m5d.12xlarge",
    "vcpuNum": 48
   },
   {
    "_defaultOrder": 18,
    "_isFastLaunch": false,
    "category": "General purpose",
    "gpuNum": 0,
    "hideHardwareSpecs": false,
    "memoryGiB": 256,
    "name": "ml.m5d.16xlarge",
    "vcpuNum": 64
   },
   {
    "_defaultOrder": 19,
    "_isFastLaunch": false,
    "category": "General purpose",
    "gpuNum": 0,
    "hideHardwareSpecs": false,
    "memoryGiB": 384,
    "name": "ml.m5d.24xlarge",
    "vcpuNum": 96
   },
   {
    "_defaultOrder": 20,
    "_isFastLaunch": false,
    "category": "General purpose",
    "gpuNum": 0,
    "hideHardwareSpecs": true,
    "memoryGiB": 0,
    "name": "ml.geospatial.interactive",
    "supportedImageNames": [
     "sagemaker-geospatial-v1-0"
    ],
    "vcpuNum": 0
   },
   {
    "_defaultOrder": 21,
    "_isFastLaunch": true,
    "category": "Compute optimized",
    "gpuNum": 0,
    "hideHardwareSpecs": false,
    "memoryGiB": 4,
    "name": "ml.c5.large",
    "vcpuNum": 2
   },
   {
    "_defaultOrder": 22,
    "_isFastLaunch": false,
    "category": "Compute optimized",
    "gpuNum": 0,
    "hideHardwareSpecs": false,
    "memoryGiB": 8,
    "name": "ml.c5.xlarge",
    "vcpuNum": 4
   },
   {
    "_defaultOrder": 23,
    "_isFastLaunch": false,
    "category": "Compute optimized",
    "gpuNum": 0,
    "hideHardwareSpecs": false,
    "memoryGiB": 16,
    "name": "ml.c5.2xlarge",
    "vcpuNum": 8
   },
   {
    "_defaultOrder": 24,
    "_isFastLaunch": false,
    "category": "Compute optimized",
    "gpuNum": 0,
    "hideHardwareSpecs": false,
    "memoryGiB": 32,
    "name": "ml.c5.4xlarge",
    "vcpuNum": 16
   },
   {
    "_defaultOrder": 25,
    "_isFastLaunch": false,
    "category": "Compute optimized",
    "gpuNum": 0,
    "hideHardwareSpecs": false,
    "memoryGiB": 72,
    "name": "ml.c5.9xlarge",
    "vcpuNum": 36
   },
   {
    "_defaultOrder": 26,
    "_isFastLaunch": false,
    "category": "Compute optimized",
    "gpuNum": 0,
    "hideHardwareSpecs": false,
    "memoryGiB": 96,
    "name": "ml.c5.12xlarge",
    "vcpuNum": 48
   },
   {
    "_defaultOrder": 27,
    "_isFastLaunch": false,
    "category": "Compute optimized",
    "gpuNum": 0,
    "hideHardwareSpecs": false,
    "memoryGiB": 144,
    "name": "ml.c5.18xlarge",
    "vcpuNum": 72
   },
   {
    "_defaultOrder": 28,
    "_isFastLaunch": false,
    "category": "Compute optimized",
    "gpuNum": 0,
    "hideHardwareSpecs": false,
    "memoryGiB": 192,
    "name": "ml.c5.24xlarge",
    "vcpuNum": 96
   },
   {
    "_defaultOrder": 29,
    "_isFastLaunch": true,
    "category": "Accelerated computing",
    "gpuNum": 1,
    "hideHardwareSpecs": false,
    "memoryGiB": 16,
    "name": "ml.g4dn.xlarge",
    "vcpuNum": 4
   },
   {
    "_defaultOrder": 30,
    "_isFastLaunch": false,
    "category": "Accelerated computing",
    "gpuNum": 1,
    "hideHardwareSpecs": false,
    "memoryGiB": 32,
    "name": "ml.g4dn.2xlarge",
    "vcpuNum": 8
   },
   {
    "_defaultOrder": 31,
    "_isFastLaunch": false,
    "category": "Accelerated computing",
    "gpuNum": 1,
    "hideHardwareSpecs": false,
    "memoryGiB": 64,
    "name": "ml.g4dn.4xlarge",
    "vcpuNum": 16
   },
   {
    "_defaultOrder": 32,
    "_isFastLaunch": false,
    "category": "Accelerated computing",
    "gpuNum": 1,
    "hideHardwareSpecs": false,
    "memoryGiB": 128,
    "name": "ml.g4dn.8xlarge",
    "vcpuNum": 32
   },
   {
    "_defaultOrder": 33,
    "_isFastLaunch": false,
    "category": "Accelerated computing",
    "gpuNum": 4,
    "hideHardwareSpecs": false,
    "memoryGiB": 192,
    "name": "ml.g4dn.12xlarge",
    "vcpuNum": 48
   },
   {
    "_defaultOrder": 34,
    "_isFastLaunch": false,
    "category": "Accelerated computing",
    "gpuNum": 1,
    "hideHardwareSpecs": false,
    "memoryGiB": 256,
    "name": "ml.g4dn.16xlarge",
    "vcpuNum": 64
   },
   {
    "_defaultOrder": 35,
    "_isFastLaunch": false,
    "category": "Accelerated computing",
    "gpuNum": 1,
    "hideHardwareSpecs": false,
    "memoryGiB": 61,
    "name": "ml.p3.2xlarge",
    "vcpuNum": 8
   },
   {
    "_defaultOrder": 36,
    "_isFastLaunch": false,
    "category": "Accelerated computing",
    "gpuNum": 4,
    "hideHardwareSpecs": false,
    "memoryGiB": 244,
    "name": "ml.p3.8xlarge",
    "vcpuNum": 32
   },
   {
    "_defaultOrder": 37,
    "_isFastLaunch": false,
    "category": "Accelerated computing",
    "gpuNum": 8,
    "hideHardwareSpecs": false,
    "memoryGiB": 488,
    "name": "ml.p3.16xlarge",
    "vcpuNum": 64
   },
   {
    "_defaultOrder": 38,
    "_isFastLaunch": false,
    "category": "Accelerated computing",
    "gpuNum": 8,
    "hideHardwareSpecs": false,
    "memoryGiB": 768,
    "name": "ml.p3dn.24xlarge",
    "vcpuNum": 96
   },
   {
    "_defaultOrder": 39,
    "_isFastLaunch": false,
    "category": "Memory Optimized",
    "gpuNum": 0,
    "hideHardwareSpecs": false,
    "memoryGiB": 16,
    "name": "ml.r5.large",
    "vcpuNum": 2
   },
   {
    "_defaultOrder": 40,
    "_isFastLaunch": false,
    "category": "Memory Optimized",
    "gpuNum": 0,
    "hideHardwareSpecs": false,
    "memoryGiB": 32,
    "name": "ml.r5.xlarge",
    "vcpuNum": 4
   },
   {
    "_defaultOrder": 41,
    "_isFastLaunch": false,
    "category": "Memory Optimized",
    "gpuNum": 0,
    "hideHardwareSpecs": false,
    "memoryGiB": 64,
    "name": "ml.r5.2xlarge",
    "vcpuNum": 8
   },
   {
    "_defaultOrder": 42,
    "_isFastLaunch": false,
    "category": "Memory Optimized",
    "gpuNum": 0,
    "hideHardwareSpecs": false,
    "memoryGiB": 128,
    "name": "ml.r5.4xlarge",
    "vcpuNum": 16
   },
   {
    "_defaultOrder": 43,
    "_isFastLaunch": false,
    "category": "Memory Optimized",
    "gpuNum": 0,
    "hideHardwareSpecs": false,
    "memoryGiB": 256,
    "name": "ml.r5.8xlarge",
    "vcpuNum": 32
   },
   {
    "_defaultOrder": 44,
    "_isFastLaunch": false,
    "category": "Memory Optimized",
    "gpuNum": 0,
    "hideHardwareSpecs": false,
    "memoryGiB": 384,
    "name": "ml.r5.12xlarge",
    "vcpuNum": 48
   },
   {
    "_defaultOrder": 45,
    "_isFastLaunch": false,
    "category": "Memory Optimized",
    "gpuNum": 0,
    "hideHardwareSpecs": false,
    "memoryGiB": 512,
    "name": "ml.r5.16xlarge",
    "vcpuNum": 64
   },
   {
    "_defaultOrder": 46,
    "_isFastLaunch": false,
    "category": "Memory Optimized",
    "gpuNum": 0,
    "hideHardwareSpecs": false,
    "memoryGiB": 768,
    "name": "ml.r5.24xlarge",
    "vcpuNum": 96
   },
   {
    "_defaultOrder": 47,
    "_isFastLaunch": false,
    "category": "Accelerated computing",
    "gpuNum": 1,
    "hideHardwareSpecs": false,
    "memoryGiB": 16,
    "name": "ml.g5.xlarge",
    "vcpuNum": 4
   },
   {
    "_defaultOrder": 48,
    "_isFastLaunch": false,
    "category": "Accelerated computing",
    "gpuNum": 1,
    "hideHardwareSpecs": false,
    "memoryGiB": 32,
    "name": "ml.g5.2xlarge",
    "vcpuNum": 8
   },
   {
    "_defaultOrder": 49,
    "_isFastLaunch": false,
    "category": "Accelerated computing",
    "gpuNum": 1,
    "hideHardwareSpecs": false,
    "memoryGiB": 64,
    "name": "ml.g5.4xlarge",
    "vcpuNum": 16
   },
   {
    "_defaultOrder": 50,
    "_isFastLaunch": false,
    "category": "Accelerated computing",
    "gpuNum": 1,
    "hideHardwareSpecs": false,
    "memoryGiB": 128,
    "name": "ml.g5.8xlarge",
    "vcpuNum": 32
   },
   {
    "_defaultOrder": 51,
    "_isFastLaunch": false,
    "category": "Accelerated computing",
    "gpuNum": 1,
    "hideHardwareSpecs": false,
    "memoryGiB": 256,
    "name": "ml.g5.16xlarge",
    "vcpuNum": 64
   },
   {
    "_defaultOrder": 52,
    "_isFastLaunch": false,
    "category": "Accelerated computing",
    "gpuNum": 4,
    "hideHardwareSpecs": false,
    "memoryGiB": 192,
    "name": "ml.g5.12xlarge",
    "vcpuNum": 48
   },
   {
    "_defaultOrder": 53,
    "_isFastLaunch": false,
    "category": "Accelerated computing",
    "gpuNum": 4,
    "hideHardwareSpecs": false,
    "memoryGiB": 384,
    "name": "ml.g5.24xlarge",
    "vcpuNum": 96
   },
   {
    "_defaultOrder": 54,
    "_isFastLaunch": false,
    "category": "Accelerated computing",
    "gpuNum": 8,
    "hideHardwareSpecs": false,
    "memoryGiB": 768,
    "name": "ml.g5.48xlarge",
    "vcpuNum": 192
   },
   {
    "_defaultOrder": 55,
    "_isFastLaunch": false,
    "category": "Accelerated computing",
    "gpuNum": 8,
    "hideHardwareSpecs": false,
    "memoryGiB": 1152,
    "name": "ml.p4d.24xlarge",
    "vcpuNum": 96
   },
   {
    "_defaultOrder": 56,
    "_isFastLaunch": false,
    "category": "Accelerated computing",
    "gpuNum": 8,
    "hideHardwareSpecs": false,
    "memoryGiB": 1152,
    "name": "ml.p4de.24xlarge",
    "vcpuNum": 96
   },
   {
    "_defaultOrder": 57,
    "_isFastLaunch": false,
    "category": "Accelerated computing",
    "gpuNum": 0,
    "hideHardwareSpecs": false,
    "memoryGiB": 32,
    "name": "ml.trn1.2xlarge",
    "vcpuNum": 8
   },
   {
    "_defaultOrder": 58,
    "_isFastLaunch": false,
    "category": "Accelerated computing",
    "gpuNum": 0,
    "hideHardwareSpecs": false,
    "memoryGiB": 512,
    "name": "ml.trn1.32xlarge",
    "vcpuNum": 128
   },
   {
    "_defaultOrder": 59,
    "_isFastLaunch": false,
    "category": "Accelerated computing",
    "gpuNum": 0,
    "hideHardwareSpecs": false,
    "memoryGiB": 512,
    "name": "ml.trn1n.32xlarge",
    "vcpuNum": 128
   }
  ],
  "instance_type": "ml.t3.medium",
  "kernelspec": {
   "display_name": "Python 3 (Data Science 2.0)",
   "language": "python",
   "name": "python3__SAGEMAKER_INTERNAL__arn:aws:sagemaker:us-east-1:081325390199:image/sagemaker-data-science-38"
  },
  "language_info": {
   "codemirror_mode": {
    "name": "ipython",
    "version": 3
   },
   "file_extension": ".py",
   "mimetype": "text/x-python",
   "name": "python",
   "nbconvert_exporter": "python",
   "pygments_lexer": "ipython3",
   "version": "3.8.13"
  }
 },
 "nbformat": 4,
 "nbformat_minor": 5
}
