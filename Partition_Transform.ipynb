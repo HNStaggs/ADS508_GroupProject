{
 "cells": [
  {
   "cell_type": "code",
   "execution_count": null,
   "id": "e156e610-c855-4700-8a80-c16944067133",
   "metadata": {},
   "outputs": [],
   "source": []
  },
  {
   "cell_type": "code",
   "execution_count": 2,
   "id": "2c022f04-fc3e-4d34-aa8b-c04496a6588f",
   "metadata": {
    "tags": []
   },
   "outputs": [],
   "source": [
    "import boto3\n",
    "import sagemaker\n",
    "import pandas as pd\n",
    "\n",
    "sess = sagemaker.Session()\n",
    "bucket = sess.default_bucket()\n",
    "role = sagemaker.get_execution_role()\n",
    "region = boto3.Session().region_name\n",
    "\n",
    "sm = boto3.Session().client(service_name=\"sagemaker\", region_name=region)"
   ]
  },
  {
   "cell_type": "code",
   "execution_count": 3,
   "id": "a68fcf7c-b24d-4f69-a0be-007c538644ff",
   "metadata": {
    "tags": []
   },
   "outputs": [
    {
     "data": {
      "text/html": [
       "<div>\n",
       "<style scoped>\n",
       "    .dataframe tbody tr th:only-of-type {\n",
       "        vertical-align: middle;\n",
       "    }\n",
       "\n",
       "    .dataframe tbody tr th {\n",
       "        vertical-align: top;\n",
       "    }\n",
       "\n",
       "    .dataframe thead th {\n",
       "        text-align: right;\n",
       "    }\n",
       "</style>\n",
       "<table border=\"1\" class=\"dataframe\">\n",
       "  <thead>\n",
       "    <tr style=\"text-align: right;\">\n",
       "      <th></th>\n",
       "      <th>clean_text</th>\n",
       "      <th>state_id</th>\n",
       "      <th>sentimentoutcome</th>\n",
       "    </tr>\n",
       "  </thead>\n",
       "  <tbody>\n",
       "    <tr>\n",
       "      <th>0</th>\n",
       "      <td>No one attacks David Attenborough yet for bein...</td>\n",
       "      <td>UK</td>\n",
       "      <td>Biden_nega</td>\n",
       "    </tr>\n",
       "    <tr>\n",
       "      <th>1</th>\n",
       "      <td>The Adnams and the White Wine is tasting that ...</td>\n",
       "      <td>UK</td>\n",
       "      <td>Biden_posi</td>\n",
       "    </tr>\n",
       "    <tr>\n",
       "      <th>2</th>\n",
       "      <td>philipaklein Biden VoteBidenHarris2020</td>\n",
       "      <td>NJ</td>\n",
       "      <td>Biden_neut</td>\n",
       "    </tr>\n",
       "    <tr>\n",
       "      <th>3</th>\n",
       "      <td>GOP realDonaldTrump without Biden we won t ha...</td>\n",
       "      <td>NY</td>\n",
       "      <td>Biden_neut</td>\n",
       "    </tr>\n",
       "    <tr>\n",
       "      <th>4</th>\n",
       "      <td>Washington Reader Many of us get your dissati...</td>\n",
       "      <td>CA</td>\n",
       "      <td>Biden_posi</td>\n",
       "    </tr>\n",
       "  </tbody>\n",
       "</table>\n",
       "</div>"
      ],
      "text/plain": [
       "                                          clean_text state_id sentimentoutcome\n",
       "0  No one attacks David Attenborough yet for bein...       UK       Biden_nega\n",
       "1  The Adnams and the White Wine is tasting that ...       UK       Biden_posi\n",
       "2             philipaklein Biden VoteBidenHarris2020       NJ       Biden_neut\n",
       "3   GOP realDonaldTrump without Biden we won t ha...       NY       Biden_neut\n",
       "4   Washington Reader Many of us get your dissati...       CA       Biden_posi"
      ]
     },
     "execution_count": 3,
     "metadata": {},
     "output_type": "execute_result"
    }
   ],
   "source": [
    "# Specify the S3 bucket name and file path\n",
    "bucket_name = bucket\n",
    "file_path = 'ADS508_project/cleandata/final_data.csv'\n",
    "\n",
    "# Read CSV file from S3 bucket into DataFrame\n",
    "df_final = pd.read_csv(f's3://{bucket_name}/{file_path}')\n",
    "\n",
    "df_final.head()"
   ]
  },
  {
   "cell_type": "code",
   "execution_count": 4,
   "id": "b2ea49f1-5e4c-442d-899c-5d17a8fbd51c",
   "metadata": {
    "tags": []
   },
   "outputs": [
    {
     "data": {
      "text/plain": [
       "(367831, 3)"
      ]
     },
     "execution_count": 4,
     "metadata": {},
     "output_type": "execute_result"
    }
   ],
   "source": [
    "df_final.shape"
   ]
  },
  {
   "cell_type": "code",
   "execution_count": null,
   "id": "47c5fda2-700a-4aba-a40a-df38a910b920",
   "metadata": {},
   "outputs": [],
   "source": []
  },
  {
   "cell_type": "code",
   "execution_count": null,
   "id": "ad4f344a-b6c7-4dcd-9dda-ac82689afc39",
   "metadata": {},
   "outputs": [],
   "source": []
  },
  {
   "cell_type": "code",
   "execution_count": 5,
   "id": "53453c9d-5031-4343-960f-df1e193ec0dc",
   "metadata": {
    "tags": []
   },
   "outputs": [],
   "source": [
    "X = df_final[['clean_text', 'state_id']]\n",
    "y = df_final['sentimentoutcome']"
   ]
  },
  {
   "cell_type": "code",
   "execution_count": 6,
   "id": "f47c4bcd-d041-4c0d-8bb1-20feece2d3c7",
   "metadata": {
    "tags": []
   },
   "outputs": [],
   "source": [
    "from sklearn.model_selection import train_test_split\n",
    "\n",
    "# Split data into 90% train and 10% test\n",
    "X_train, X_test, y_train, y_test = train_test_split(X, y, test_size=0.1, random_state=1)\n",
    "\n",
    "# Split remaining data (90% train) into 90% train and 10% validation\n",
    "X_train, X_val, y_train, y_val = train_test_split(X_train, y_train, test_size=1/9, random_state=1)"
   ]
  },
  {
   "cell_type": "code",
   "execution_count": null,
   "id": "22534c5e-c8b0-4cb7-a0f7-2512cae49fa5",
   "metadata": {},
   "outputs": [],
   "source": []
  },
  {
   "cell_type": "code",
   "execution_count": 7,
   "id": "f5bfce25-af2a-4c17-a8b1-ad498ad6d4ed",
   "metadata": {
    "tags": []
   },
   "outputs": [],
   "source": [
    "#!pip install imblearn\n",
    "from imblearn.under_sampling import RandomUnderSampler\n",
    "\n",
    "# Undersample the training set to balance the six categorical outcome levels\n",
    "undersampler = RandomUnderSampler(sampling_strategy='all', random_state=1)\n",
    "X_train_resampled, y_train_resampled = undersampler.fit_resample(X_train, y_train)"
   ]
  },
  {
   "cell_type": "code",
   "execution_count": null,
   "id": "831de12f-9cea-49b9-900c-86f37df6fb27",
   "metadata": {},
   "outputs": [],
   "source": []
  },
  {
   "cell_type": "code",
   "execution_count": null,
   "id": "710b4875-69a5-418f-9698-c57aa51cb403",
   "metadata": {},
   "outputs": [],
   "source": []
  },
  {
   "cell_type": "code",
   "execution_count": 8,
   "id": "7609f004-a24c-41b3-a602-b82bfe9414d7",
   "metadata": {
    "tags": []
   },
   "outputs": [
    {
     "name": "stdout",
     "output_type": "stream",
     "text": [
      "<class 'pandas.core.frame.DataFrame'>\n",
      "Int64Index: 53382 entries, 13593 to 359016\n",
      "Data columns (total 2 columns):\n",
      " #   Column      Non-Null Count  Dtype \n",
      "---  ------      --------------  ----- \n",
      " 0   clean_text  53382 non-null  object\n",
      " 1   state_id    53382 non-null  object\n",
      "dtypes: object(2)\n",
      "memory usage: 1.2+ MB\n"
     ]
    }
   ],
   "source": [
    "X_train_resampled.info()"
   ]
  },
  {
   "cell_type": "code",
   "execution_count": 9,
   "id": "ddcf65ff-f17d-4ac4-ae3e-f2965de96f60",
   "metadata": {
    "tags": []
   },
   "outputs": [],
   "source": [
    "# Update Datatypes\n",
    "X_train_resampled['clean_text'] = X_train_resampled['clean_text'].astype(str)\n",
    "X_train_resampled['state_id'] = X_train_resampled['state_id'].astype('category')"
   ]
  },
  {
   "cell_type": "code",
   "execution_count": 10,
   "id": "5a823a87-5baa-45b7-b99d-0760d39d783d",
   "metadata": {
    "tags": []
   },
   "outputs": [
    {
     "name": "stdout",
     "output_type": "stream",
     "text": [
      "<class 'pandas.core.frame.DataFrame'>\n",
      "Int64Index: 53382 entries, 13593 to 359016\n",
      "Data columns (total 2 columns):\n",
      " #   Column      Non-Null Count  Dtype   \n",
      "---  ------      --------------  -----   \n",
      " 0   clean_text  53382 non-null  object  \n",
      " 1   state_id    53382 non-null  category\n",
      "dtypes: category(1), object(1)\n",
      "memory usage: 888.7+ KB\n"
     ]
    }
   ],
   "source": [
    "X_train_resampled.info()"
   ]
  },
  {
   "cell_type": "code",
   "execution_count": 11,
   "id": "0c00431b-0ad4-49d8-80ff-656c2e3b1680",
   "metadata": {
    "tags": []
   },
   "outputs": [
    {
     "name": "stdout",
     "output_type": "stream",
     "text": [
      "<class 'pandas.core.frame.DataFrame'>\n",
      "Int64Index: 36784 entries, 252769 to 318746\n",
      "Data columns (total 2 columns):\n",
      " #   Column      Non-Null Count  Dtype \n",
      "---  ------      --------------  ----- \n",
      " 0   clean_text  36784 non-null  object\n",
      " 1   state_id    36784 non-null  object\n",
      "dtypes: object(2)\n",
      "memory usage: 862.1+ KB\n"
     ]
    }
   ],
   "source": [
    "X_test.info()"
   ]
  },
  {
   "cell_type": "code",
   "execution_count": 12,
   "id": "aa179b21-e5b9-4da2-af07-b2ecd5b281f9",
   "metadata": {
    "tags": []
   },
   "outputs": [],
   "source": [
    "# Update Datatypes\n",
    "X_test['clean_text'] = X_test['clean_text'].astype(str)\n",
    "X_test['state_id'] = X_test['state_id'].astype('category')"
   ]
  },
  {
   "cell_type": "code",
   "execution_count": 13,
   "id": "ee0eb54d-1aee-464d-9c8b-da21961b8be5",
   "metadata": {
    "tags": []
   },
   "outputs": [
    {
     "name": "stdout",
     "output_type": "stream",
     "text": [
      "<class 'pandas.core.frame.DataFrame'>\n",
      "Int64Index: 36783 entries, 139254 to 290197\n",
      "Data columns (total 2 columns):\n",
      " #   Column      Non-Null Count  Dtype \n",
      "---  ------      --------------  ----- \n",
      " 0   clean_text  36783 non-null  object\n",
      " 1   state_id    36783 non-null  object\n",
      "dtypes: object(2)\n",
      "memory usage: 862.1+ KB\n"
     ]
    }
   ],
   "source": [
    "X_val.info()"
   ]
  },
  {
   "cell_type": "code",
   "execution_count": 14,
   "id": "b3838e85-6349-4a6e-a840-6645b061bc9a",
   "metadata": {
    "tags": []
   },
   "outputs": [],
   "source": [
    "# Update Datatypes\n",
    "X_val['clean_text'] = X_val['clean_text'].astype(str)\n",
    "X_val['state_id'] = X_val['state_id'].astype('category')"
   ]
  },
  {
   "cell_type": "code",
   "execution_count": 15,
   "id": "1c14f6a9-747c-44e9-9855-e89f321ce6d5",
   "metadata": {
    "tags": []
   },
   "outputs": [
    {
     "data": {
      "text/plain": [
       "((53382, 2), (36784, 2), (36783, 2))"
      ]
     },
     "execution_count": 15,
     "metadata": {},
     "output_type": "execute_result"
    }
   ],
   "source": [
    "X_train_resampled.shape, X_test.shape, X_val.shape"
   ]
  },
  {
   "cell_type": "code",
   "execution_count": 16,
   "id": "9d6a9845-1610-41a1-9481-b12604c665ad",
   "metadata": {
    "tags": []
   },
   "outputs": [
    {
     "data": {
      "text/html": [
       "<div>\n",
       "<style scoped>\n",
       "    .dataframe tbody tr th:only-of-type {\n",
       "        vertical-align: middle;\n",
       "    }\n",
       "\n",
       "    .dataframe tbody tr th {\n",
       "        vertical-align: top;\n",
       "    }\n",
       "\n",
       "    .dataframe thead th {\n",
       "        text-align: right;\n",
       "    }\n",
       "</style>\n",
       "<table border=\"1\" class=\"dataframe\">\n",
       "  <thead>\n",
       "    <tr style=\"text-align: right;\">\n",
       "      <th></th>\n",
       "      <th>clean_text</th>\n",
       "      <th>state_id</th>\n",
       "    </tr>\n",
       "  </thead>\n",
       "  <tbody>\n",
       "    <tr>\n",
       "      <th>13593</th>\n",
       "      <td>Andy Excuse me It is was the Dem leadership t...</td>\n",
       "      <td>CA</td>\n",
       "    </tr>\n",
       "    <tr>\n",
       "      <th>120356</th>\n",
       "      <td>Biden was a few one liners away from a decisive</td>\n",
       "      <td>TX</td>\n",
       "    </tr>\n",
       "    <tr>\n",
       "      <th>11253</th>\n",
       "      <td>MeOregon How dare you tell him that he would ...</td>\n",
       "      <td>CA</td>\n",
       "    </tr>\n",
       "    <tr>\n",
       "      <th>222260</th>\n",
       "      <td>Biden must use selected surrogates like Pete ...</td>\n",
       "      <td>MA</td>\n",
       "    </tr>\n",
       "    <tr>\n",
       "      <th>110164</th>\n",
       "      <td>Joe Biden s insane war on oil t co zoYQtDM0IS ...</td>\n",
       "      <td>NY</td>\n",
       "    </tr>\n",
       "  </tbody>\n",
       "</table>\n",
       "</div>"
      ],
      "text/plain": [
       "                                               clean_text state_id\n",
       "13593    Andy Excuse me It is was the Dem leadership t...       CA\n",
       "120356    Biden was a few one liners away from a decisive       TX\n",
       "11253    MeOregon How dare you tell him that he would ...       CA\n",
       "222260   Biden must use selected surrogates like Pete ...       MA\n",
       "110164  Joe Biden s insane war on oil t co zoYQtDM0IS ...       NY"
      ]
     },
     "execution_count": 16,
     "metadata": {},
     "output_type": "execute_result"
    }
   ],
   "source": [
    "X_train_resampled.head()"
   ]
  },
  {
   "cell_type": "code",
   "execution_count": 17,
   "id": "4852dfc6-8a1e-4f66-92c2-bab8fb22747d",
   "metadata": {
    "tags": []
   },
   "outputs": [
    {
     "data": {
      "text/html": [
       "<div>\n",
       "<style scoped>\n",
       "    .dataframe tbody tr th:only-of-type {\n",
       "        vertical-align: middle;\n",
       "    }\n",
       "\n",
       "    .dataframe tbody tr th {\n",
       "        vertical-align: top;\n",
       "    }\n",
       "\n",
       "    .dataframe thead th {\n",
       "        text-align: right;\n",
       "    }\n",
       "</style>\n",
       "<table border=\"1\" class=\"dataframe\">\n",
       "  <thead>\n",
       "    <tr style=\"text-align: right;\">\n",
       "      <th></th>\n",
       "      <th>clean_text</th>\n",
       "      <th>state_id</th>\n",
       "    </tr>\n",
       "  </thead>\n",
       "  <tbody>\n",
       "    <tr>\n",
       "      <th>139254</th>\n",
       "      <td>It s one of the great ironies of the impeachm...</td>\n",
       "      <td>CA</td>\n",
       "    </tr>\n",
       "    <tr>\n",
       "      <th>25211</th>\n",
       "      <td>I think that some large number of people vote...</td>\n",
       "      <td>CA</td>\n",
       "    </tr>\n",
       "    <tr>\n",
       "      <th>16680</th>\n",
       "      <td>Hope Donald Trump reads this profile in wisdom...</td>\n",
       "      <td>MA</td>\n",
       "    </tr>\n",
       "    <tr>\n",
       "      <th>45661</th>\n",
       "      <td>Trump is good at Branding if nothing else He ...</td>\n",
       "      <td>NY</td>\n",
       "    </tr>\n",
       "    <tr>\n",
       "      <th>332714</th>\n",
       "      <td>Looking for some corroboration that Trump and...</td>\n",
       "      <td>WY</td>\n",
       "    </tr>\n",
       "  </tbody>\n",
       "</table>\n",
       "</div>"
      ],
      "text/plain": [
       "                                               clean_text state_id\n",
       "139254   It s one of the great ironies of the impeachm...       CA\n",
       "25211    I think that some large number of people vote...       CA\n",
       "16680   Hope Donald Trump reads this profile in wisdom...       MA\n",
       "45661    Trump is good at Branding if nothing else He ...       NY\n",
       "332714   Looking for some corroboration that Trump and...       WY"
      ]
     },
     "execution_count": 17,
     "metadata": {},
     "output_type": "execute_result"
    }
   ],
   "source": [
    "X_val.head()"
   ]
  },
  {
   "cell_type": "code",
   "execution_count": 18,
   "id": "7cd42398-fc31-4fc3-a34f-82507a032f2e",
   "metadata": {
    "tags": []
   },
   "outputs": [
    {
     "data": {
      "text/html": [
       "<div>\n",
       "<style scoped>\n",
       "    .dataframe tbody tr th:only-of-type {\n",
       "        vertical-align: middle;\n",
       "    }\n",
       "\n",
       "    .dataframe tbody tr th {\n",
       "        vertical-align: top;\n",
       "    }\n",
       "\n",
       "    .dataframe thead th {\n",
       "        text-align: right;\n",
       "    }\n",
       "</style>\n",
       "<table border=\"1\" class=\"dataframe\">\n",
       "  <thead>\n",
       "    <tr style=\"text-align: right;\">\n",
       "      <th></th>\n",
       "      <th>clean_text</th>\n",
       "      <th>state_id</th>\n",
       "    </tr>\n",
       "  </thead>\n",
       "  <tbody>\n",
       "    <tr>\n",
       "      <th>252769</th>\n",
       "      <td>redwave trump Iowa Poll Trump takes lead from...</td>\n",
       "      <td>CA</td>\n",
       "    </tr>\n",
       "    <tr>\n",
       "      <th>5129</th>\n",
       "      <td>I hope Mr Krugman is right but let us not forg...</td>\n",
       "      <td>VA</td>\n",
       "    </tr>\n",
       "    <tr>\n",
       "      <th>311264</th>\n",
       "      <td>The Republican party had planted the seeds fo...</td>\n",
       "      <td>IL</td>\n",
       "    </tr>\n",
       "    <tr>\n",
       "      <th>144058</th>\n",
       "      <td>Note to anyone moving into rural areas functio...</td>\n",
       "      <td>VA</td>\n",
       "    </tr>\n",
       "    <tr>\n",
       "      <th>325429</th>\n",
       "      <td>ReaganBabe RudyGiuliani realDonaldTrump God i...</td>\n",
       "      <td>OH</td>\n",
       "    </tr>\n",
       "  </tbody>\n",
       "</table>\n",
       "</div>"
      ],
      "text/plain": [
       "                                               clean_text state_id\n",
       "252769   redwave trump Iowa Poll Trump takes lead from...       CA\n",
       "5129    I hope Mr Krugman is right but let us not forg...       VA\n",
       "311264   The Republican party had planted the seeds fo...       IL\n",
       "144058  Note to anyone moving into rural areas functio...       VA\n",
       "325429   ReaganBabe RudyGiuliani realDonaldTrump God i...       OH"
      ]
     },
     "execution_count": 18,
     "metadata": {},
     "output_type": "execute_result"
    }
   ],
   "source": [
    "X_test.head()"
   ]
  },
  {
   "cell_type": "code",
   "execution_count": null,
   "id": "cce5ef6a-386c-42af-9908-d24e03bb3177",
   "metadata": {},
   "outputs": [],
   "source": []
  },
  {
   "cell_type": "code",
   "execution_count": 19,
   "id": "c5a68aa6-64ab-4627-bbed-e62311d97e12",
   "metadata": {
    "tags": []
   },
   "outputs": [
    {
     "data": {
      "text/plain": [
       "Trump_posi    8897\n",
       "Biden_neut    8897\n",
       "Biden_nega    8897\n",
       "Trump_nega    8897\n",
       "Trump_neut    8897\n",
       "Biden_posi    8897\n",
       "Name: sentimentoutcome, dtype: int64"
      ]
     },
     "execution_count": 19,
     "metadata": {},
     "output_type": "execute_result"
    }
   ],
   "source": [
    "y_train_resampled.value_counts()"
   ]
  },
  {
   "cell_type": "code",
   "execution_count": null,
   "id": "4dbe0ffb-dcd0-4d5a-bdf8-5b86c87a370b",
   "metadata": {},
   "outputs": [],
   "source": []
  },
  {
   "cell_type": "code",
   "execution_count": null,
   "id": "17e47b8d-34b2-40de-80fa-ddc33be5bf91",
   "metadata": {},
   "outputs": [],
   "source": [
    "from transformers import DistilBertTokenizer, DistilBertModel\n",
    "import torch\n",
    "from sklearn.base import BaseEstimator, TransformerMixin\n",
    "from tqdm import tqdm\n",
    "import numpy as np\n",
    "\n",
    "class DistilBERTTransformer(BaseEstimator, TransformerMixin):\n",
    "    def __init__(self):\n",
    "        # Initialize the DistilBERT tokenizer and model\n",
    "        self.tokenizer = DistilBertTokenizer.from_pretrained('distilbert-base-uncased')\n",
    "        self.model = DistilBertModel.from_pretrained('distilbert-base-uncased')\n",
    "        self.model.eval()  # Set model to evaluation mode\n",
    "    \n",
    "    def fit(self, X, y=None):\n",
    "        return self\n",
    "\n",
    "    def transform(self, X, batch_size=32):\n",
    "        device = torch.device(\"cuda\" if torch.cuda.is_available() else \"cpu\")\n",
    "        self.model.to(device)\n",
    "        embeddings = []\n",
    "        for i in tqdm(range(0, len(X), batch_size)):\n",
    "            batch = X[i:i+batch_size]\n",
    "            inputs = self.tokenizer(batch, return_tensors=\"pt\", padding=True, truncation=True, max_length=64).to(device)\n",
    "            with torch.no_grad():\n",
    "                outputs = self.model(**inputs)\n",
    "            # Adjust based on the actual structure of the outputs\n",
    "            embeddings.append(outputs[0].mean(dim=1).detach().cpu().numpy())  # Use mean pooling\n",
    "        return np.vstack(embeddings)"
   ]
  },
  {
   "cell_type": "code",
   "execution_count": null,
   "id": "b000ebc5-ff31-40e1-a079-1b9ee0db520b",
   "metadata": {},
   "outputs": [],
   "source": []
  },
  {
   "cell_type": "code",
   "execution_count": null,
   "id": "3d329628-89c4-4293-9d60-a8f305e3752b",
   "metadata": {},
   "outputs": [],
   "source": [
    "distilbert_transformer = DistilBERTTransformer()"
   ]
  },
  {
   "cell_type": "code",
   "execution_count": null,
   "id": "b4afd712-234a-44a6-af31-3727922a34c9",
   "metadata": {},
   "outputs": [],
   "source": [
    "# Transform 'clean_text' into DistilBERT embeddings for the training set\n",
    "texts_train = X_train_resampled['clean_text'].tolist()  # Extract texts as a list\n",
    "distilbert_embeddings_train = distilbert_transformer.transform(texts_train)"
   ]
  },
  {
   "cell_type": "code",
   "execution_count": null,
   "id": "238d9157-9534-47e0-a7fc-69cf47ace1be",
   "metadata": {},
   "outputs": [],
   "source": [
    "# Transform 'clean_text' into DistilBERT embeddings for the validation set\n",
    "texts_val = X_val['clean_text'].tolist()  # Extract texts as a list\n",
    "distilbert_embeddings_val = distilbert_transformer.transform(texts_val)"
   ]
  },
  {
   "cell_type": "code",
   "execution_count": null,
   "id": "50d9650c-1efe-45e1-8e96-09cba560076a",
   "metadata": {},
   "outputs": [],
   "source": [
    "# Transform 'clean_text' into DistilBERT embeddings for the test set\n",
    "texts_test = X_test['clean_text'].tolist()  # Extract texts as a list\n",
    "distilbert_embeddings_test = distilbert_transformer.transform(texts_test)"
   ]
  },
  {
   "cell_type": "code",
   "execution_count": null,
   "id": "60dbfac9-2195-4594-bc3b-32b5a36e76eb",
   "metadata": {},
   "outputs": [],
   "source": [
    "distilbert_embeddings_train = pd.DataFrame(distilbert_embeddings_train)"
   ]
  },
  {
   "cell_type": "code",
   "execution_count": null,
   "id": "3c79cab5-3cae-48ec-870e-ea7cd4a1ddd5",
   "metadata": {},
   "outputs": [],
   "source": [
    "distilbert_embeddings_val = pd.DataFrame(distilbert_embeddings_val)"
   ]
  },
  {
   "cell_type": "code",
   "execution_count": null,
   "id": "8993aaa1-51be-4ec7-8761-318d204e6d37",
   "metadata": {},
   "outputs": [],
   "source": [
    "distilbert_embeddings_test = pd.DataFrame(distilbert_embeddings_test)"
   ]
  },
  {
   "cell_type": "code",
   "execution_count": null,
   "id": "5de64e87-74c8-43b5-8a62-ec91c2237ab8",
   "metadata": {},
   "outputs": [],
   "source": []
  },
  {
   "cell_type": "code",
   "execution_count": null,
   "id": "9c7b7bc8-b83a-4285-8425-75790139c9f7",
   "metadata": {},
   "outputs": [],
   "source": [
    "# Specify the S3 bucket name\n",
    "prefix = \"ADS508_project/cleandata/\"\n",
    "\n",
    "# List of corresponding file names\n",
    "file_name = \"X_train_bert.csv\"\n",
    "\n",
    "# Create an S3 client\n",
    "s3 = boto3.client('s3')\n",
    "\n",
    "distilbert_embeddings_train.to_csv(file_name, index=False)\n",
    "s3.upload_file(file_name, bucket, prefix + file_name)"
   ]
  },
  {
   "cell_type": "code",
   "execution_count": null,
   "id": "7e3fa77e-ee0d-45e1-954b-e453a337cff1",
   "metadata": {},
   "outputs": [],
   "source": [
    "# Specify the S3 bucket name\n",
    "prefix = \"ADS508_project/cleandata/\"\n",
    "\n",
    "# List of corresponding file names\n",
    "file_name = \"X_val_bert.csv\"\n",
    "\n",
    "# Create an S3 client\n",
    "s3 = boto3.client('s3')\n",
    "\n",
    "distilbert_embeddings_val.to_csv(file_name, index=False)\n",
    "s3.upload_file(file_name, bucket, prefix + file_name)"
   ]
  },
  {
   "cell_type": "code",
   "execution_count": null,
   "id": "c036af38-2289-4c4c-9722-40f52bf98255",
   "metadata": {},
   "outputs": [],
   "source": [
    "# Specify the S3 bucket name\n",
    "prefix = \"ADS508_project/cleandata/\"\n",
    "\n",
    "# List of corresponding file names\n",
    "file_name = \"X_test_bert.csv\"\n",
    "\n",
    "# Create an S3 client\n",
    "s3 = boto3.client('s3')\n",
    "\n",
    "distilbert_embeddings_test.to_csv(file_name, index=False)\n",
    "s3.upload_file(file_name, bucket, prefix + file_name)"
   ]
  },
  {
   "cell_type": "code",
   "execution_count": null,
   "id": "9e3a5cac-83a9-4b22-b8ab-2fb30c086ef4",
   "metadata": {},
   "outputs": [],
   "source": []
  },
  {
   "cell_type": "code",
   "execution_count": 20,
   "id": "68afb5ea-071b-4fcc-845f-95f1ea66be99",
   "metadata": {
    "tags": []
   },
   "outputs": [
    {
     "data": {
      "text/html": [
       "<div>\n",
       "<style scoped>\n",
       "    .dataframe tbody tr th:only-of-type {\n",
       "        vertical-align: middle;\n",
       "    }\n",
       "\n",
       "    .dataframe tbody tr th {\n",
       "        vertical-align: top;\n",
       "    }\n",
       "\n",
       "    .dataframe thead th {\n",
       "        text-align: right;\n",
       "    }\n",
       "</style>\n",
       "<table border=\"1\" class=\"dataframe\">\n",
       "  <thead>\n",
       "    <tr style=\"text-align: right;\">\n",
       "      <th></th>\n",
       "      <th>0</th>\n",
       "      <th>1</th>\n",
       "      <th>2</th>\n",
       "      <th>3</th>\n",
       "      <th>4</th>\n",
       "      <th>5</th>\n",
       "      <th>6</th>\n",
       "      <th>7</th>\n",
       "      <th>8</th>\n",
       "      <th>9</th>\n",
       "      <th>...</th>\n",
       "      <th>758</th>\n",
       "      <th>759</th>\n",
       "      <th>760</th>\n",
       "      <th>761</th>\n",
       "      <th>762</th>\n",
       "      <th>763</th>\n",
       "      <th>764</th>\n",
       "      <th>765</th>\n",
       "      <th>766</th>\n",
       "      <th>767</th>\n",
       "    </tr>\n",
       "  </thead>\n",
       "  <tbody>\n",
       "    <tr>\n",
       "      <th>0</th>\n",
       "      <td>-0.085612</td>\n",
       "      <td>-0.192749</td>\n",
       "      <td>0.032051</td>\n",
       "      <td>0.016743</td>\n",
       "      <td>-0.010959</td>\n",
       "      <td>-0.208290</td>\n",
       "      <td>-0.152666</td>\n",
       "      <td>0.297640</td>\n",
       "      <td>-0.075811</td>\n",
       "      <td>-0.289037</td>\n",
       "      <td>...</td>\n",
       "      <td>-0.051246</td>\n",
       "      <td>-0.057320</td>\n",
       "      <td>0.021458</td>\n",
       "      <td>-0.139488</td>\n",
       "      <td>0.223830</td>\n",
       "      <td>-0.117648</td>\n",
       "      <td>0.026695</td>\n",
       "      <td>0.062894</td>\n",
       "      <td>0.122807</td>\n",
       "      <td>0.167780</td>\n",
       "    </tr>\n",
       "    <tr>\n",
       "      <th>1</th>\n",
       "      <td>-0.212201</td>\n",
       "      <td>-0.275853</td>\n",
       "      <td>0.037405</td>\n",
       "      <td>0.060544</td>\n",
       "      <td>-0.318471</td>\n",
       "      <td>-0.185872</td>\n",
       "      <td>-0.159038</td>\n",
       "      <td>0.012011</td>\n",
       "      <td>0.002532</td>\n",
       "      <td>-0.199857</td>\n",
       "      <td>...</td>\n",
       "      <td>0.087239</td>\n",
       "      <td>0.060687</td>\n",
       "      <td>0.062437</td>\n",
       "      <td>-0.106997</td>\n",
       "      <td>0.098862</td>\n",
       "      <td>0.013423</td>\n",
       "      <td>-0.174617</td>\n",
       "      <td>0.141263</td>\n",
       "      <td>0.141340</td>\n",
       "      <td>-0.053384</td>\n",
       "    </tr>\n",
       "    <tr>\n",
       "      <th>2</th>\n",
       "      <td>0.086982</td>\n",
       "      <td>0.119298</td>\n",
       "      <td>0.000721</td>\n",
       "      <td>0.070849</td>\n",
       "      <td>0.078040</td>\n",
       "      <td>-0.039077</td>\n",
       "      <td>-0.055840</td>\n",
       "      <td>0.138417</td>\n",
       "      <td>-0.041773</td>\n",
       "      <td>-0.203287</td>\n",
       "      <td>...</td>\n",
       "      <td>0.111256</td>\n",
       "      <td>0.139934</td>\n",
       "      <td>0.032308</td>\n",
       "      <td>-0.068434</td>\n",
       "      <td>0.078629</td>\n",
       "      <td>0.111907</td>\n",
       "      <td>0.060399</td>\n",
       "      <td>-0.001812</td>\n",
       "      <td>0.050431</td>\n",
       "      <td>0.131460</td>\n",
       "    </tr>\n",
       "    <tr>\n",
       "      <th>3</th>\n",
       "      <td>-0.049801</td>\n",
       "      <td>-0.023380</td>\n",
       "      <td>0.220462</td>\n",
       "      <td>0.187448</td>\n",
       "      <td>0.186836</td>\n",
       "      <td>-0.236208</td>\n",
       "      <td>-0.012966</td>\n",
       "      <td>0.230729</td>\n",
       "      <td>0.106897</td>\n",
       "      <td>-0.068943</td>\n",
       "      <td>...</td>\n",
       "      <td>-0.259642</td>\n",
       "      <td>-0.024830</td>\n",
       "      <td>-0.060597</td>\n",
       "      <td>-0.137388</td>\n",
       "      <td>-0.050150</td>\n",
       "      <td>0.119264</td>\n",
       "      <td>0.116246</td>\n",
       "      <td>-0.047168</td>\n",
       "      <td>0.374222</td>\n",
       "      <td>-0.127046</td>\n",
       "    </tr>\n",
       "    <tr>\n",
       "      <th>4</th>\n",
       "      <td>0.043111</td>\n",
       "      <td>-0.095598</td>\n",
       "      <td>0.186926</td>\n",
       "      <td>0.210929</td>\n",
       "      <td>0.124437</td>\n",
       "      <td>-0.180557</td>\n",
       "      <td>0.122059</td>\n",
       "      <td>0.101528</td>\n",
       "      <td>-0.059285</td>\n",
       "      <td>-0.112962</td>\n",
       "      <td>...</td>\n",
       "      <td>-0.077179</td>\n",
       "      <td>0.120320</td>\n",
       "      <td>0.029574</td>\n",
       "      <td>-0.136716</td>\n",
       "      <td>0.225667</td>\n",
       "      <td>-0.055894</td>\n",
       "      <td>0.025724</td>\n",
       "      <td>-0.038090</td>\n",
       "      <td>0.036344</td>\n",
       "      <td>0.152835</td>\n",
       "    </tr>\n",
       "  </tbody>\n",
       "</table>\n",
       "<p>5 rows × 768 columns</p>\n",
       "</div>"
      ],
      "text/plain": [
       "          0         1         2         3         4         5         6  \\\n",
       "0 -0.085612 -0.192749  0.032051  0.016743 -0.010959 -0.208290 -0.152666   \n",
       "1 -0.212201 -0.275853  0.037405  0.060544 -0.318471 -0.185872 -0.159038   \n",
       "2  0.086982  0.119298  0.000721  0.070849  0.078040 -0.039077 -0.055840   \n",
       "3 -0.049801 -0.023380  0.220462  0.187448  0.186836 -0.236208 -0.012966   \n",
       "4  0.043111 -0.095598  0.186926  0.210929  0.124437 -0.180557  0.122059   \n",
       "\n",
       "          7         8         9  ...       758       759       760       761  \\\n",
       "0  0.297640 -0.075811 -0.289037  ... -0.051246 -0.057320  0.021458 -0.139488   \n",
       "1  0.012011  0.002532 -0.199857  ...  0.087239  0.060687  0.062437 -0.106997   \n",
       "2  0.138417 -0.041773 -0.203287  ...  0.111256  0.139934  0.032308 -0.068434   \n",
       "3  0.230729  0.106897 -0.068943  ... -0.259642 -0.024830 -0.060597 -0.137388   \n",
       "4  0.101528 -0.059285 -0.112962  ... -0.077179  0.120320  0.029574 -0.136716   \n",
       "\n",
       "        762       763       764       765       766       767  \n",
       "0  0.223830 -0.117648  0.026695  0.062894  0.122807  0.167780  \n",
       "1  0.098862  0.013423 -0.174617  0.141263  0.141340 -0.053384  \n",
       "2  0.078629  0.111907  0.060399 -0.001812  0.050431  0.131460  \n",
       "3 -0.050150  0.119264  0.116246 -0.047168  0.374222 -0.127046  \n",
       "4  0.225667 -0.055894  0.025724 -0.038090  0.036344  0.152835  \n",
       "\n",
       "[5 rows x 768 columns]"
      ]
     },
     "execution_count": 20,
     "metadata": {},
     "output_type": "execute_result"
    }
   ],
   "source": [
    "# Specify the S3 bucket name and file path\n",
    "bucket_name = bucket\n",
    "file_path = 'ADS508_project/cleandata/X_train_bert.csv'\n",
    "\n",
    "# Read CSV file from S3 bucket into DataFrame\n",
    "X_train_bert = pd.read_csv(f's3://{bucket_name}/{file_path}')\n",
    "\n",
    "X_train_bert.head()"
   ]
  },
  {
   "cell_type": "code",
   "execution_count": 21,
   "id": "fc71d0d8-8124-431c-bddb-41c51851a69b",
   "metadata": {
    "tags": []
   },
   "outputs": [
    {
     "data": {
      "text/html": [
       "<div>\n",
       "<style scoped>\n",
       "    .dataframe tbody tr th:only-of-type {\n",
       "        vertical-align: middle;\n",
       "    }\n",
       "\n",
       "    .dataframe tbody tr th {\n",
       "        vertical-align: top;\n",
       "    }\n",
       "\n",
       "    .dataframe thead th {\n",
       "        text-align: right;\n",
       "    }\n",
       "</style>\n",
       "<table border=\"1\" class=\"dataframe\">\n",
       "  <thead>\n",
       "    <tr style=\"text-align: right;\">\n",
       "      <th></th>\n",
       "      <th>0</th>\n",
       "      <th>1</th>\n",
       "      <th>2</th>\n",
       "      <th>3</th>\n",
       "      <th>4</th>\n",
       "      <th>5</th>\n",
       "      <th>6</th>\n",
       "      <th>7</th>\n",
       "      <th>8</th>\n",
       "      <th>9</th>\n",
       "      <th>...</th>\n",
       "      <th>758</th>\n",
       "      <th>759</th>\n",
       "      <th>760</th>\n",
       "      <th>761</th>\n",
       "      <th>762</th>\n",
       "      <th>763</th>\n",
       "      <th>764</th>\n",
       "      <th>765</th>\n",
       "      <th>766</th>\n",
       "      <th>767</th>\n",
       "    </tr>\n",
       "  </thead>\n",
       "  <tbody>\n",
       "    <tr>\n",
       "      <th>0</th>\n",
       "      <td>-0.020926</td>\n",
       "      <td>0.038315</td>\n",
       "      <td>-0.015478</td>\n",
       "      <td>0.129784</td>\n",
       "      <td>-0.072584</td>\n",
       "      <td>-0.225882</td>\n",
       "      <td>0.116951</td>\n",
       "      <td>0.300709</td>\n",
       "      <td>-0.293697</td>\n",
       "      <td>-0.131742</td>\n",
       "      <td>...</td>\n",
       "      <td>-0.101473</td>\n",
       "      <td>0.071148</td>\n",
       "      <td>-0.027571</td>\n",
       "      <td>-0.178902</td>\n",
       "      <td>0.104730</td>\n",
       "      <td>-0.137270</td>\n",
       "      <td>0.190230</td>\n",
       "      <td>0.047491</td>\n",
       "      <td>-0.023825</td>\n",
       "      <td>-0.075363</td>\n",
       "    </tr>\n",
       "    <tr>\n",
       "      <th>1</th>\n",
       "      <td>-0.119196</td>\n",
       "      <td>-0.174804</td>\n",
       "      <td>-0.049492</td>\n",
       "      <td>0.200089</td>\n",
       "      <td>0.020939</td>\n",
       "      <td>-0.033172</td>\n",
       "      <td>-0.113429</td>\n",
       "      <td>0.294107</td>\n",
       "      <td>-0.243626</td>\n",
       "      <td>0.038364</td>\n",
       "      <td>...</td>\n",
       "      <td>-0.145654</td>\n",
       "      <td>0.171014</td>\n",
       "      <td>0.051357</td>\n",
       "      <td>0.006363</td>\n",
       "      <td>0.185543</td>\n",
       "      <td>-0.155665</td>\n",
       "      <td>0.167436</td>\n",
       "      <td>-0.028334</td>\n",
       "      <td>0.032127</td>\n",
       "      <td>0.038196</td>\n",
       "    </tr>\n",
       "    <tr>\n",
       "      <th>2</th>\n",
       "      <td>0.023994</td>\n",
       "      <td>0.048203</td>\n",
       "      <td>0.132835</td>\n",
       "      <td>0.116420</td>\n",
       "      <td>0.221791</td>\n",
       "      <td>-0.144960</td>\n",
       "      <td>-0.026205</td>\n",
       "      <td>0.083955</td>\n",
       "      <td>0.105637</td>\n",
       "      <td>-0.224725</td>\n",
       "      <td>...</td>\n",
       "      <td>0.116835</td>\n",
       "      <td>0.203131</td>\n",
       "      <td>0.046252</td>\n",
       "      <td>-0.027101</td>\n",
       "      <td>0.172244</td>\n",
       "      <td>0.098827</td>\n",
       "      <td>0.036564</td>\n",
       "      <td>0.036217</td>\n",
       "      <td>0.111981</td>\n",
       "      <td>0.082348</td>\n",
       "    </tr>\n",
       "    <tr>\n",
       "      <th>3</th>\n",
       "      <td>0.075427</td>\n",
       "      <td>0.040858</td>\n",
       "      <td>0.099023</td>\n",
       "      <td>-0.004378</td>\n",
       "      <td>0.034570</td>\n",
       "      <td>-0.170367</td>\n",
       "      <td>0.052725</td>\n",
       "      <td>0.375484</td>\n",
       "      <td>0.045429</td>\n",
       "      <td>-0.236863</td>\n",
       "      <td>...</td>\n",
       "      <td>-0.018941</td>\n",
       "      <td>-0.022619</td>\n",
       "      <td>0.025490</td>\n",
       "      <td>-0.111980</td>\n",
       "      <td>0.260225</td>\n",
       "      <td>0.115471</td>\n",
       "      <td>0.041441</td>\n",
       "      <td>-0.069634</td>\n",
       "      <td>0.114876</td>\n",
       "      <td>-0.070295</td>\n",
       "    </tr>\n",
       "    <tr>\n",
       "      <th>4</th>\n",
       "      <td>0.127470</td>\n",
       "      <td>-0.034008</td>\n",
       "      <td>0.087723</td>\n",
       "      <td>0.135007</td>\n",
       "      <td>0.221004</td>\n",
       "      <td>-0.149747</td>\n",
       "      <td>0.064742</td>\n",
       "      <td>0.260640</td>\n",
       "      <td>0.016842</td>\n",
       "      <td>0.024366</td>\n",
       "      <td>...</td>\n",
       "      <td>-0.134856</td>\n",
       "      <td>0.003863</td>\n",
       "      <td>-0.123585</td>\n",
       "      <td>-0.110707</td>\n",
       "      <td>0.044464</td>\n",
       "      <td>0.125721</td>\n",
       "      <td>-0.036738</td>\n",
       "      <td>-0.023276</td>\n",
       "      <td>0.158410</td>\n",
       "      <td>0.098184</td>\n",
       "    </tr>\n",
       "  </tbody>\n",
       "</table>\n",
       "<p>5 rows × 768 columns</p>\n",
       "</div>"
      ],
      "text/plain": [
       "          0         1         2         3         4         5         6  \\\n",
       "0 -0.020926  0.038315 -0.015478  0.129784 -0.072584 -0.225882  0.116951   \n",
       "1 -0.119196 -0.174804 -0.049492  0.200089  0.020939 -0.033172 -0.113429   \n",
       "2  0.023994  0.048203  0.132835  0.116420  0.221791 -0.144960 -0.026205   \n",
       "3  0.075427  0.040858  0.099023 -0.004378  0.034570 -0.170367  0.052725   \n",
       "4  0.127470 -0.034008  0.087723  0.135007  0.221004 -0.149747  0.064742   \n",
       "\n",
       "          7         8         9  ...       758       759       760       761  \\\n",
       "0  0.300709 -0.293697 -0.131742  ... -0.101473  0.071148 -0.027571 -0.178902   \n",
       "1  0.294107 -0.243626  0.038364  ... -0.145654  0.171014  0.051357  0.006363   \n",
       "2  0.083955  0.105637 -0.224725  ...  0.116835  0.203131  0.046252 -0.027101   \n",
       "3  0.375484  0.045429 -0.236863  ... -0.018941 -0.022619  0.025490 -0.111980   \n",
       "4  0.260640  0.016842  0.024366  ... -0.134856  0.003863 -0.123585 -0.110707   \n",
       "\n",
       "        762       763       764       765       766       767  \n",
       "0  0.104730 -0.137270  0.190230  0.047491 -0.023825 -0.075363  \n",
       "1  0.185543 -0.155665  0.167436 -0.028334  0.032127  0.038196  \n",
       "2  0.172244  0.098827  0.036564  0.036217  0.111981  0.082348  \n",
       "3  0.260225  0.115471  0.041441 -0.069634  0.114876 -0.070295  \n",
       "4  0.044464  0.125721 -0.036738 -0.023276  0.158410  0.098184  \n",
       "\n",
       "[5 rows x 768 columns]"
      ]
     },
     "execution_count": 21,
     "metadata": {},
     "output_type": "execute_result"
    }
   ],
   "source": [
    "# Specify the S3 bucket name and file path\n",
    "bucket_name = bucket\n",
    "file_path = 'ADS508_project/cleandata/X_val_bert.csv'\n",
    "\n",
    "# Read CSV file from S3 bucket into DataFrame\n",
    "X_val_bert = pd.read_csv(f's3://{bucket_name}/{file_path}')\n",
    "\n",
    "X_val_bert.head()"
   ]
  },
  {
   "cell_type": "code",
   "execution_count": 22,
   "id": "277f4141-411a-4449-8fd9-60e8df9b56a8",
   "metadata": {
    "tags": []
   },
   "outputs": [
    {
     "data": {
      "text/html": [
       "<div>\n",
       "<style scoped>\n",
       "    .dataframe tbody tr th:only-of-type {\n",
       "        vertical-align: middle;\n",
       "    }\n",
       "\n",
       "    .dataframe tbody tr th {\n",
       "        vertical-align: top;\n",
       "    }\n",
       "\n",
       "    .dataframe thead th {\n",
       "        text-align: right;\n",
       "    }\n",
       "</style>\n",
       "<table border=\"1\" class=\"dataframe\">\n",
       "  <thead>\n",
       "    <tr style=\"text-align: right;\">\n",
       "      <th></th>\n",
       "      <th>0</th>\n",
       "      <th>1</th>\n",
       "      <th>2</th>\n",
       "      <th>3</th>\n",
       "      <th>4</th>\n",
       "      <th>5</th>\n",
       "      <th>6</th>\n",
       "      <th>7</th>\n",
       "      <th>8</th>\n",
       "      <th>9</th>\n",
       "      <th>...</th>\n",
       "      <th>758</th>\n",
       "      <th>759</th>\n",
       "      <th>760</th>\n",
       "      <th>761</th>\n",
       "      <th>762</th>\n",
       "      <th>763</th>\n",
       "      <th>764</th>\n",
       "      <th>765</th>\n",
       "      <th>766</th>\n",
       "      <th>767</th>\n",
       "    </tr>\n",
       "  </thead>\n",
       "  <tbody>\n",
       "    <tr>\n",
       "      <th>0</th>\n",
       "      <td>-0.148748</td>\n",
       "      <td>-0.152604</td>\n",
       "      <td>0.410740</td>\n",
       "      <td>0.202116</td>\n",
       "      <td>0.018050</td>\n",
       "      <td>-0.217776</td>\n",
       "      <td>-0.022319</td>\n",
       "      <td>0.141656</td>\n",
       "      <td>0.011170</td>\n",
       "      <td>-0.119315</td>\n",
       "      <td>...</td>\n",
       "      <td>-0.049480</td>\n",
       "      <td>0.372685</td>\n",
       "      <td>-0.040204</td>\n",
       "      <td>-0.064451</td>\n",
       "      <td>0.203771</td>\n",
       "      <td>-0.123107</td>\n",
       "      <td>0.046268</td>\n",
       "      <td>0.038076</td>\n",
       "      <td>0.113842</td>\n",
       "      <td>0.215680</td>\n",
       "    </tr>\n",
       "    <tr>\n",
       "      <th>1</th>\n",
       "      <td>-0.028749</td>\n",
       "      <td>-0.105872</td>\n",
       "      <td>0.180524</td>\n",
       "      <td>0.218901</td>\n",
       "      <td>0.207626</td>\n",
       "      <td>-0.304348</td>\n",
       "      <td>-0.144124</td>\n",
       "      <td>0.339819</td>\n",
       "      <td>0.003144</td>\n",
       "      <td>-0.105429</td>\n",
       "      <td>...</td>\n",
       "      <td>0.006992</td>\n",
       "      <td>0.158822</td>\n",
       "      <td>-0.007336</td>\n",
       "      <td>-0.092584</td>\n",
       "      <td>0.222685</td>\n",
       "      <td>-0.048937</td>\n",
       "      <td>0.046246</td>\n",
       "      <td>-0.087520</td>\n",
       "      <td>0.137091</td>\n",
       "      <td>0.061183</td>\n",
       "    </tr>\n",
       "    <tr>\n",
       "      <th>2</th>\n",
       "      <td>-0.045923</td>\n",
       "      <td>-0.106403</td>\n",
       "      <td>-0.000612</td>\n",
       "      <td>0.198213</td>\n",
       "      <td>0.093984</td>\n",
       "      <td>-0.156729</td>\n",
       "      <td>-0.039995</td>\n",
       "      <td>0.291425</td>\n",
       "      <td>-0.124625</td>\n",
       "      <td>-0.062035</td>\n",
       "      <td>...</td>\n",
       "      <td>0.057361</td>\n",
       "      <td>0.214756</td>\n",
       "      <td>0.046441</td>\n",
       "      <td>-0.093943</td>\n",
       "      <td>0.152749</td>\n",
       "      <td>-0.130637</td>\n",
       "      <td>0.149418</td>\n",
       "      <td>-0.123415</td>\n",
       "      <td>0.063259</td>\n",
       "      <td>-0.038831</td>\n",
       "    </tr>\n",
       "    <tr>\n",
       "      <th>3</th>\n",
       "      <td>0.203205</td>\n",
       "      <td>-0.088243</td>\n",
       "      <td>0.242572</td>\n",
       "      <td>-0.091901</td>\n",
       "      <td>0.203277</td>\n",
       "      <td>-0.030754</td>\n",
       "      <td>0.085939</td>\n",
       "      <td>0.190463</td>\n",
       "      <td>-0.022583</td>\n",
       "      <td>-0.079250</td>\n",
       "      <td>...</td>\n",
       "      <td>-0.014764</td>\n",
       "      <td>0.016855</td>\n",
       "      <td>-0.007330</td>\n",
       "      <td>-0.096256</td>\n",
       "      <td>0.076464</td>\n",
       "      <td>-0.211883</td>\n",
       "      <td>0.041285</td>\n",
       "      <td>-0.305218</td>\n",
       "      <td>-0.115182</td>\n",
       "      <td>0.086422</td>\n",
       "    </tr>\n",
       "    <tr>\n",
       "      <th>4</th>\n",
       "      <td>-0.053510</td>\n",
       "      <td>0.018920</td>\n",
       "      <td>0.234078</td>\n",
       "      <td>0.105144</td>\n",
       "      <td>0.229481</td>\n",
       "      <td>-0.106339</td>\n",
       "      <td>-0.051445</td>\n",
       "      <td>0.502994</td>\n",
       "      <td>-0.241178</td>\n",
       "      <td>-0.332092</td>\n",
       "      <td>...</td>\n",
       "      <td>-0.159063</td>\n",
       "      <td>-0.021540</td>\n",
       "      <td>0.136380</td>\n",
       "      <td>-0.066743</td>\n",
       "      <td>0.057919</td>\n",
       "      <td>-0.100449</td>\n",
       "      <td>-0.008937</td>\n",
       "      <td>-0.049250</td>\n",
       "      <td>0.198628</td>\n",
       "      <td>0.050045</td>\n",
       "    </tr>\n",
       "  </tbody>\n",
       "</table>\n",
       "<p>5 rows × 768 columns</p>\n",
       "</div>"
      ],
      "text/plain": [
       "          0         1         2         3         4         5         6  \\\n",
       "0 -0.148748 -0.152604  0.410740  0.202116  0.018050 -0.217776 -0.022319   \n",
       "1 -0.028749 -0.105872  0.180524  0.218901  0.207626 -0.304348 -0.144124   \n",
       "2 -0.045923 -0.106403 -0.000612  0.198213  0.093984 -0.156729 -0.039995   \n",
       "3  0.203205 -0.088243  0.242572 -0.091901  0.203277 -0.030754  0.085939   \n",
       "4 -0.053510  0.018920  0.234078  0.105144  0.229481 -0.106339 -0.051445   \n",
       "\n",
       "          7         8         9  ...       758       759       760       761  \\\n",
       "0  0.141656  0.011170 -0.119315  ... -0.049480  0.372685 -0.040204 -0.064451   \n",
       "1  0.339819  0.003144 -0.105429  ...  0.006992  0.158822 -0.007336 -0.092584   \n",
       "2  0.291425 -0.124625 -0.062035  ...  0.057361  0.214756  0.046441 -0.093943   \n",
       "3  0.190463 -0.022583 -0.079250  ... -0.014764  0.016855 -0.007330 -0.096256   \n",
       "4  0.502994 -0.241178 -0.332092  ... -0.159063 -0.021540  0.136380 -0.066743   \n",
       "\n",
       "        762       763       764       765       766       767  \n",
       "0  0.203771 -0.123107  0.046268  0.038076  0.113842  0.215680  \n",
       "1  0.222685 -0.048937  0.046246 -0.087520  0.137091  0.061183  \n",
       "2  0.152749 -0.130637  0.149418 -0.123415  0.063259 -0.038831  \n",
       "3  0.076464 -0.211883  0.041285 -0.305218 -0.115182  0.086422  \n",
       "4  0.057919 -0.100449 -0.008937 -0.049250  0.198628  0.050045  \n",
       "\n",
       "[5 rows x 768 columns]"
      ]
     },
     "execution_count": 22,
     "metadata": {},
     "output_type": "execute_result"
    }
   ],
   "source": [
    "# Specify the S3 bucket name and file path\n",
    "bucket_name = bucket\n",
    "file_path = 'ADS508_project/cleandata/X_test_bert.csv'\n",
    "\n",
    "# Read CSV file from S3 bucket into DataFrame\n",
    "X_test_bert = pd.read_csv(f's3://{bucket_name}/{file_path}')\n",
    "\n",
    "X_test_bert.head()"
   ]
  },
  {
   "cell_type": "code",
   "execution_count": null,
   "id": "ac731a49-fb5d-4a52-8429-ec8372be14fc",
   "metadata": {},
   "outputs": [],
   "source": []
  },
  {
   "cell_type": "code",
   "execution_count": 23,
   "id": "d66005ef-558d-46ac-b542-dc27013f0cfd",
   "metadata": {
    "tags": []
   },
   "outputs": [
    {
     "name": "stderr",
     "output_type": "stream",
     "text": [
      "/opt/conda/lib/python3.8/site-packages/sklearn/preprocessing/_encoders.py:975: FutureWarning: `sparse` was renamed to `sparse_output` in version 1.2 and will be removed in 1.4. `sparse_output` is ignored unless you leave `sparse` to its default value.\n",
      "  warnings.warn(\n"
     ]
    }
   ],
   "source": [
    "from sklearn.preprocessing import OneHotEncoder\n",
    "\n",
    "# Initialize the OneHotEncoder\n",
    "onehot_encoder = OneHotEncoder(sparse = False) \n",
    "\n",
    "# Assuming X_train, X_val, X_test are your datasets\n",
    "state_ids_train = X_train_resampled[['state_id']] # Reshape for the encoder\n",
    "state_id_encoded_train = onehot_encoder.fit_transform(state_ids_train)\n",
    "\n",
    "# Get the feature names (levels of the categorical variable)\n",
    "feature_names = onehot_encoder.get_feature_names_out(['state_id'])\n",
    "\n",
    "# Convert the encoded matrix into a DataFrame\n",
    "state_id_encoded_train_df = pd.DataFrame(state_id_encoded_train, columns=feature_names)"
   ]
  },
  {
   "cell_type": "code",
   "execution_count": 24,
   "id": "56243a8b-752c-4c35-adb2-12fc7eba8342",
   "metadata": {
    "tags": []
   },
   "outputs": [
    {
     "name": "stderr",
     "output_type": "stream",
     "text": [
      "/opt/conda/lib/python3.8/site-packages/sklearn/preprocessing/_encoders.py:975: FutureWarning: `sparse` was renamed to `sparse_output` in version 1.2 and will be removed in 1.4. `sparse_output` is ignored unless you leave `sparse` to its default value.\n",
      "  warnings.warn(\n"
     ]
    }
   ],
   "source": [
    "# Assuming X_train, X_val, X_test are your datasets\n",
    "state_ids_val = X_val[['state_id']] # Reshape for the encoder\n",
    "state_id_encoded_val = onehot_encoder.fit_transform(state_ids_val)\n",
    "\n",
    "# Get the feature names (levels of the categorical variable)\n",
    "feature_names = onehot_encoder.get_feature_names_out(['state_id'])\n",
    "\n",
    "# Convert the encoded matrix into a DataFrame\n",
    "state_id_encoded_val_df = pd.DataFrame(state_id_encoded_val, columns=feature_names)"
   ]
  },
  {
   "cell_type": "code",
   "execution_count": 25,
   "id": "667772f5-c82b-4232-954b-8304d632d351",
   "metadata": {
    "tags": []
   },
   "outputs": [
    {
     "name": "stderr",
     "output_type": "stream",
     "text": [
      "/opt/conda/lib/python3.8/site-packages/sklearn/preprocessing/_encoders.py:975: FutureWarning: `sparse` was renamed to `sparse_output` in version 1.2 and will be removed in 1.4. `sparse_output` is ignored unless you leave `sparse` to its default value.\n",
      "  warnings.warn(\n"
     ]
    }
   ],
   "source": [
    "# Assuming X_train, X_val, X_test are your datasets\n",
    "state_ids_test = X_test[['state_id']] # Reshape for the encoder\n",
    "state_id_encoded_test = onehot_encoder.fit_transform(state_ids_test)\n",
    "\n",
    "# Get the feature names (levels of the categorical variable)\n",
    "feature_names = onehot_encoder.get_feature_names_out(['state_id'])\n",
    "\n",
    "# Convert the encoded matrix into a DataFrame\n",
    "state_id_encoded_test_df = pd.DataFrame(state_id_encoded_test, columns=feature_names)"
   ]
  },
  {
   "cell_type": "code",
   "execution_count": null,
   "id": "5e2b9dd3-e11b-40b8-9f9b-d817644b1327",
   "metadata": {},
   "outputs": [],
   "source": []
  },
  {
   "cell_type": "code",
   "execution_count": 26,
   "id": "b8a79d9b-4160-4f7f-a626-2a8d7b1a0e79",
   "metadata": {
    "tags": []
   },
   "outputs": [],
   "source": [
    "import numpy as np\n",
    "#Combine with sate ID that is one hot encoded\n",
    "X_train_prep = pd.concat([X_train_bert, state_id_encoded_train_df], axis=1)"
   ]
  },
  {
   "cell_type": "code",
   "execution_count": 27,
   "id": "0b4bde47-723b-4deb-900a-c7a4c393b76f",
   "metadata": {
    "tags": []
   },
   "outputs": [],
   "source": [
    "X_val_prep = pd.concat([X_val_bert, state_id_encoded_val_df], axis=1)"
   ]
  },
  {
   "cell_type": "code",
   "execution_count": 28,
   "id": "84bb3f26-da1a-4d4e-a828-9e343491c0b1",
   "metadata": {
    "tags": []
   },
   "outputs": [],
   "source": [
    "X_test_prep = pd.concat([X_test_bert, state_id_encoded_test_df], axis=1)"
   ]
  },
  {
   "cell_type": "code",
   "execution_count": null,
   "id": "4ce66e5b-481f-45c5-a65f-20c1382bc504",
   "metadata": {},
   "outputs": [],
   "source": []
  },
  {
   "cell_type": "code",
   "execution_count": 29,
   "id": "e5622c88-fa95-4ea7-931d-610164a02cc4",
   "metadata": {
    "tags": []
   },
   "outputs": [],
   "source": [
    "# Specify the S3 bucket name\n",
    "prefix = \"ADS508_project/cleandata/\"\n",
    "\n",
    "# List of corresponding file names\n",
    "file_name = \"X_train_prep.csv\"\n",
    "\n",
    "# Create an S3 client\n",
    "s3 = boto3.client('s3')\n",
    "\n",
    "X_train_prep.to_csv(file_name, index=False)\n",
    "s3.upload_file(file_name, bucket, prefix + file_name)"
   ]
  },
  {
   "cell_type": "code",
   "execution_count": null,
   "id": "40857b72-5464-41a7-b426-3b800d6b86f6",
   "metadata": {},
   "outputs": [],
   "source": [
    "# Add outcome column to training set\n",
    "import pandas as pd\n",
    "import boto3\n",
    "from io import StringIO\n",
    "\n",
    "# Specify the S3 bucket name and file path\n",
    "bucket_name = bucket\n",
    "file_path = 'ADS508_project/cleandata/X_train_prep.csv'\n",
    "\n",
    "# Read CSV file from S3 bucket into DataFrame\n",
    "s3 = boto3.client('s3')\n",
    "response = s3.get_object(Bucket=bucket_name, Key=file_path)\n",
    "X_train_prep = pd.read_csv(response['Body'])\n",
    "\n",
    "# Add a new column to the DataFrame\n",
    "X_train_prep['outcome'] = pd.Categorical(y_train_resampled)\n",
    "\n",
    "# Write the modified DataFrame to a CSV file\n",
    "csv_buffer = StringIO()\n",
    "X_train_prep.to_csv(csv_buffer, index=False)\n",
    "\n",
    "# Upload the updated CSV file to the S3 bucket, replacing the original file\n",
    "s3.put_object(Bucket=bucket_name, Key=file_path, Body=csv_buffer.getvalue())"
   ]
  },
  {
   "cell_type": "code",
   "execution_count": null,
   "id": "e1c97f8e-0e0f-4922-9609-32a21e8285fd",
   "metadata": {},
   "outputs": [],
   "source": []
  },
  {
   "cell_type": "code",
   "execution_count": null,
   "id": "825beec9-b323-4a0a-b226-dbbeac6dd7d4",
   "metadata": {},
   "outputs": [],
   "source": []
  },
  {
   "cell_type": "code",
   "execution_count": 30,
   "id": "c95243f5-512b-427b-ad82-faf7a28cd224",
   "metadata": {
    "tags": []
   },
   "outputs": [],
   "source": [
    "# Specify the S3 bucket name\n",
    "prefix = \"ADS508_project/cleandata/\"\n",
    "\n",
    "# List of corresponding file names\n",
    "file_name = \"X_val_prep.csv\"\n",
    "\n",
    "# Create an S3 client\n",
    "s3 = boto3.client('s3')\n",
    "\n",
    "X_val_prep.to_csv(file_name, index=False)\n",
    "s3.upload_file(file_name, bucket, prefix + file_name)"
   ]
  },
  {
   "cell_type": "code",
   "execution_count": null,
   "id": "4c33427c-9208-495c-842e-0dd21ac06fb9",
   "metadata": {},
   "outputs": [],
   "source": [
    "# Specify the S3 bucket name and file path\n",
    "bucket_name = bucket\n",
    "file_path = 'ADS508_project/cleandata/X_val_prep.csv'\n",
    "\n",
    "# Read CSV file from S3 bucket into DataFrame\n",
    "s3 = boto3.client('s3')\n",
    "response = s3.get_object(Bucket=bucket_name, Key=file_path)\n",
    "X_val_prep = pd.read_csv(response['Body'])\n",
    "\n",
    "# Add a new column to the DataFrame\n",
    "X_val_prep['outcome'] = pd.Categorical(y_val)\n",
    "\n",
    "# Write the modified DataFrame to a CSV file\n",
    "csv_buffer = StringIO()\n",
    "X_val_prep.to_csv(csv_buffer, index=False)\n",
    "\n",
    "# Upload the updated CSV file to the S3 bucket, replacing the original file\n",
    "s3.put_object(Bucket=bucket_name, Key=file_path, Body=csv_buffer.getvalue())"
   ]
  },
  {
   "cell_type": "code",
   "execution_count": null,
   "id": "851fd4a4-beb6-4dfa-8176-a391d3f47ae7",
   "metadata": {},
   "outputs": [],
   "source": []
  },
  {
   "cell_type": "code",
   "execution_count": null,
   "id": "4e8b80ac-b975-48f2-8006-aea52624b0cb",
   "metadata": {},
   "outputs": [],
   "source": []
  },
  {
   "cell_type": "code",
   "execution_count": 31,
   "id": "e2de2247-b34d-4b61-bbe2-2ce77ce20982",
   "metadata": {
    "tags": []
   },
   "outputs": [],
   "source": [
    "# Specify the S3 bucket name\n",
    "prefix = \"ADS508_project/cleandata/\"\n",
    "\n",
    "# List of corresponding file names\n",
    "file_name = \"X_test_prep.csv\"\n",
    "\n",
    "# Create an S3 client\n",
    "s3 = boto3.client('s3')\n",
    "\n",
    "X_test_prep.to_csv(file_name, index=False)\n",
    "s3.upload_file(file_name, bucket, prefix + file_name)"
   ]
  },
  {
   "cell_type": "code",
   "execution_count": null,
   "id": "2cf25300-cf3c-4499-890a-573546421e6d",
   "metadata": {},
   "outputs": [],
   "source": [
    "# Specify the S3 bucket name and file path\n",
    "bucket_name = bucket\n",
    "file_path = 'ADS508_project/cleandata/X_test_prep.csv'\n",
    "\n",
    "# Read CSV file from S3 bucket into DataFrame\n",
    "s3 = boto3.client('s3')\n",
    "response = s3.get_object(Bucket=bucket_name, Key=file_path)\n",
    "X_test_prep = pd.read_csv(response['Body'])\n",
    "\n",
    "# Add a new column to the DataFrame\n",
    "X_test_prep['outcome'] = pd.Categorical(y_test)\n",
    "\n",
    "# Write the modified DataFrame to a CSV file\n",
    "csv_buffer = StringIO()\n",
    "X_test_prep.to_csv(csv_buffer, index=False)\n",
    "\n",
    "# Upload the updated CSV file to the S3 bucket, replacing the original file\n",
    "s3.put_object(Bucket=bucket_name, Key=file_path, Body=csv_buffer.getvalue())"
   ]
  },
  {
   "cell_type": "code",
   "execution_count": null,
   "id": "bae6b25f-75fc-4405-b571-b5974d766352",
   "metadata": {},
   "outputs": [],
   "source": []
  },
  {
   "cell_type": "code",
   "execution_count": null,
   "id": "3c7173f0-90e2-4cb3-bf24-2b214cd28ad9",
   "metadata": {},
   "outputs": [],
   "source": []
  }
 ],
 "metadata": {
  "availableInstances": [
   {
    "_defaultOrder": 0,
    "_isFastLaunch": true,
    "category": "General purpose",
    "gpuNum": 0,
    "hideHardwareSpecs": false,
    "memoryGiB": 4,
    "name": "ml.t3.medium",
    "vcpuNum": 2
   },
   {
    "_defaultOrder": 1,
    "_isFastLaunch": false,
    "category": "General purpose",
    "gpuNum": 0,
    "hideHardwareSpecs": false,
    "memoryGiB": 8,
    "name": "ml.t3.large",
    "vcpuNum": 2
   },
   {
    "_defaultOrder": 2,
    "_isFastLaunch": false,
    "category": "General purpose",
    "gpuNum": 0,
    "hideHardwareSpecs": false,
    "memoryGiB": 16,
    "name": "ml.t3.xlarge",
    "vcpuNum": 4
   },
   {
    "_defaultOrder": 3,
    "_isFastLaunch": false,
    "category": "General purpose",
    "gpuNum": 0,
    "hideHardwareSpecs": false,
    "memoryGiB": 32,
    "name": "ml.t3.2xlarge",
    "vcpuNum": 8
   },
   {
    "_defaultOrder": 4,
    "_isFastLaunch": true,
    "category": "General purpose",
    "gpuNum": 0,
    "hideHardwareSpecs": false,
    "memoryGiB": 8,
    "name": "ml.m5.large",
    "vcpuNum": 2
   },
   {
    "_defaultOrder": 5,
    "_isFastLaunch": false,
    "category": "General purpose",
    "gpuNum": 0,
    "hideHardwareSpecs": false,
    "memoryGiB": 16,
    "name": "ml.m5.xlarge",
    "vcpuNum": 4
   },
   {
    "_defaultOrder": 6,
    "_isFastLaunch": false,
    "category": "General purpose",
    "gpuNum": 0,
    "hideHardwareSpecs": false,
    "memoryGiB": 32,
    "name": "ml.m5.2xlarge",
    "vcpuNum": 8
   },
   {
    "_defaultOrder": 7,
    "_isFastLaunch": false,
    "category": "General purpose",
    "gpuNum": 0,
    "hideHardwareSpecs": false,
    "memoryGiB": 64,
    "name": "ml.m5.4xlarge",
    "vcpuNum": 16
   },
   {
    "_defaultOrder": 8,
    "_isFastLaunch": false,
    "category": "General purpose",
    "gpuNum": 0,
    "hideHardwareSpecs": false,
    "memoryGiB": 128,
    "name": "ml.m5.8xlarge",
    "vcpuNum": 32
   },
   {
    "_defaultOrder": 9,
    "_isFastLaunch": false,
    "category": "General purpose",
    "gpuNum": 0,
    "hideHardwareSpecs": false,
    "memoryGiB": 192,
    "name": "ml.m5.12xlarge",
    "vcpuNum": 48
   },
   {
    "_defaultOrder": 10,
    "_isFastLaunch": false,
    "category": "General purpose",
    "gpuNum": 0,
    "hideHardwareSpecs": false,
    "memoryGiB": 256,
    "name": "ml.m5.16xlarge",
    "vcpuNum": 64
   },
   {
    "_defaultOrder": 11,
    "_isFastLaunch": false,
    "category": "General purpose",
    "gpuNum": 0,
    "hideHardwareSpecs": false,
    "memoryGiB": 384,
    "name": "ml.m5.24xlarge",
    "vcpuNum": 96
   },
   {
    "_defaultOrder": 12,
    "_isFastLaunch": false,
    "category": "General purpose",
    "gpuNum": 0,
    "hideHardwareSpecs": false,
    "memoryGiB": 8,
    "name": "ml.m5d.large",
    "vcpuNum": 2
   },
   {
    "_defaultOrder": 13,
    "_isFastLaunch": false,
    "category": "General purpose",
    "gpuNum": 0,
    "hideHardwareSpecs": false,
    "memoryGiB": 16,
    "name": "ml.m5d.xlarge",
    "vcpuNum": 4
   },
   {
    "_defaultOrder": 14,
    "_isFastLaunch": false,
    "category": "General purpose",
    "gpuNum": 0,
    "hideHardwareSpecs": false,
    "memoryGiB": 32,
    "name": "ml.m5d.2xlarge",
    "vcpuNum": 8
   },
   {
    "_defaultOrder": 15,
    "_isFastLaunch": false,
    "category": "General purpose",
    "gpuNum": 0,
    "hideHardwareSpecs": false,
    "memoryGiB": 64,
    "name": "ml.m5d.4xlarge",
    "vcpuNum": 16
   },
   {
    "_defaultOrder": 16,
    "_isFastLaunch": false,
    "category": "General purpose",
    "gpuNum": 0,
    "hideHardwareSpecs": false,
    "memoryGiB": 128,
    "name": "ml.m5d.8xlarge",
    "vcpuNum": 32
   },
   {
    "_defaultOrder": 17,
    "_isFastLaunch": false,
    "category": "General purpose",
    "gpuNum": 0,
    "hideHardwareSpecs": false,
    "memoryGiB": 192,
    "name": "ml.m5d.12xlarge",
    "vcpuNum": 48
   },
   {
    "_defaultOrder": 18,
    "_isFastLaunch": false,
    "category": "General purpose",
    "gpuNum": 0,
    "hideHardwareSpecs": false,
    "memoryGiB": 256,
    "name": "ml.m5d.16xlarge",
    "vcpuNum": 64
   },
   {
    "_defaultOrder": 19,
    "_isFastLaunch": false,
    "category": "General purpose",
    "gpuNum": 0,
    "hideHardwareSpecs": false,
    "memoryGiB": 384,
    "name": "ml.m5d.24xlarge",
    "vcpuNum": 96
   },
   {
    "_defaultOrder": 20,
    "_isFastLaunch": false,
    "category": "General purpose",
    "gpuNum": 0,
    "hideHardwareSpecs": true,
    "memoryGiB": 0,
    "name": "ml.geospatial.interactive",
    "supportedImageNames": [
     "sagemaker-geospatial-v1-0"
    ],
    "vcpuNum": 0
   },
   {
    "_defaultOrder": 21,
    "_isFastLaunch": true,
    "category": "Compute optimized",
    "gpuNum": 0,
    "hideHardwareSpecs": false,
    "memoryGiB": 4,
    "name": "ml.c5.large",
    "vcpuNum": 2
   },
   {
    "_defaultOrder": 22,
    "_isFastLaunch": false,
    "category": "Compute optimized",
    "gpuNum": 0,
    "hideHardwareSpecs": false,
    "memoryGiB": 8,
    "name": "ml.c5.xlarge",
    "vcpuNum": 4
   },
   {
    "_defaultOrder": 23,
    "_isFastLaunch": false,
    "category": "Compute optimized",
    "gpuNum": 0,
    "hideHardwareSpecs": false,
    "memoryGiB": 16,
    "name": "ml.c5.2xlarge",
    "vcpuNum": 8
   },
   {
    "_defaultOrder": 24,
    "_isFastLaunch": false,
    "category": "Compute optimized",
    "gpuNum": 0,
    "hideHardwareSpecs": false,
    "memoryGiB": 32,
    "name": "ml.c5.4xlarge",
    "vcpuNum": 16
   },
   {
    "_defaultOrder": 25,
    "_isFastLaunch": false,
    "category": "Compute optimized",
    "gpuNum": 0,
    "hideHardwareSpecs": false,
    "memoryGiB": 72,
    "name": "ml.c5.9xlarge",
    "vcpuNum": 36
   },
   {
    "_defaultOrder": 26,
    "_isFastLaunch": false,
    "category": "Compute optimized",
    "gpuNum": 0,
    "hideHardwareSpecs": false,
    "memoryGiB": 96,
    "name": "ml.c5.12xlarge",
    "vcpuNum": 48
   },
   {
    "_defaultOrder": 27,
    "_isFastLaunch": false,
    "category": "Compute optimized",
    "gpuNum": 0,
    "hideHardwareSpecs": false,
    "memoryGiB": 144,
    "name": "ml.c5.18xlarge",
    "vcpuNum": 72
   },
   {
    "_defaultOrder": 28,
    "_isFastLaunch": false,
    "category": "Compute optimized",
    "gpuNum": 0,
    "hideHardwareSpecs": false,
    "memoryGiB": 192,
    "name": "ml.c5.24xlarge",
    "vcpuNum": 96
   },
   {
    "_defaultOrder": 29,
    "_isFastLaunch": true,
    "category": "Accelerated computing",
    "gpuNum": 1,
    "hideHardwareSpecs": false,
    "memoryGiB": 16,
    "name": "ml.g4dn.xlarge",
    "vcpuNum": 4
   },
   {
    "_defaultOrder": 30,
    "_isFastLaunch": false,
    "category": "Accelerated computing",
    "gpuNum": 1,
    "hideHardwareSpecs": false,
    "memoryGiB": 32,
    "name": "ml.g4dn.2xlarge",
    "vcpuNum": 8
   },
   {
    "_defaultOrder": 31,
    "_isFastLaunch": false,
    "category": "Accelerated computing",
    "gpuNum": 1,
    "hideHardwareSpecs": false,
    "memoryGiB": 64,
    "name": "ml.g4dn.4xlarge",
    "vcpuNum": 16
   },
   {
    "_defaultOrder": 32,
    "_isFastLaunch": false,
    "category": "Accelerated computing",
    "gpuNum": 1,
    "hideHardwareSpecs": false,
    "memoryGiB": 128,
    "name": "ml.g4dn.8xlarge",
    "vcpuNum": 32
   },
   {
    "_defaultOrder": 33,
    "_isFastLaunch": false,
    "category": "Accelerated computing",
    "gpuNum": 4,
    "hideHardwareSpecs": false,
    "memoryGiB": 192,
    "name": "ml.g4dn.12xlarge",
    "vcpuNum": 48
   },
   {
    "_defaultOrder": 34,
    "_isFastLaunch": false,
    "category": "Accelerated computing",
    "gpuNum": 1,
    "hideHardwareSpecs": false,
    "memoryGiB": 256,
    "name": "ml.g4dn.16xlarge",
    "vcpuNum": 64
   },
   {
    "_defaultOrder": 35,
    "_isFastLaunch": false,
    "category": "Accelerated computing",
    "gpuNum": 1,
    "hideHardwareSpecs": false,
    "memoryGiB": 61,
    "name": "ml.p3.2xlarge",
    "vcpuNum": 8
   },
   {
    "_defaultOrder": 36,
    "_isFastLaunch": false,
    "category": "Accelerated computing",
    "gpuNum": 4,
    "hideHardwareSpecs": false,
    "memoryGiB": 244,
    "name": "ml.p3.8xlarge",
    "vcpuNum": 32
   },
   {
    "_defaultOrder": 37,
    "_isFastLaunch": false,
    "category": "Accelerated computing",
    "gpuNum": 8,
    "hideHardwareSpecs": false,
    "memoryGiB": 488,
    "name": "ml.p3.16xlarge",
    "vcpuNum": 64
   },
   {
    "_defaultOrder": 38,
    "_isFastLaunch": false,
    "category": "Accelerated computing",
    "gpuNum": 8,
    "hideHardwareSpecs": false,
    "memoryGiB": 768,
    "name": "ml.p3dn.24xlarge",
    "vcpuNum": 96
   },
   {
    "_defaultOrder": 39,
    "_isFastLaunch": false,
    "category": "Memory Optimized",
    "gpuNum": 0,
    "hideHardwareSpecs": false,
    "memoryGiB": 16,
    "name": "ml.r5.large",
    "vcpuNum": 2
   },
   {
    "_defaultOrder": 40,
    "_isFastLaunch": false,
    "category": "Memory Optimized",
    "gpuNum": 0,
    "hideHardwareSpecs": false,
    "memoryGiB": 32,
    "name": "ml.r5.xlarge",
    "vcpuNum": 4
   },
   {
    "_defaultOrder": 41,
    "_isFastLaunch": false,
    "category": "Memory Optimized",
    "gpuNum": 0,
    "hideHardwareSpecs": false,
    "memoryGiB": 64,
    "name": "ml.r5.2xlarge",
    "vcpuNum": 8
   },
   {
    "_defaultOrder": 42,
    "_isFastLaunch": false,
    "category": "Memory Optimized",
    "gpuNum": 0,
    "hideHardwareSpecs": false,
    "memoryGiB": 128,
    "name": "ml.r5.4xlarge",
    "vcpuNum": 16
   },
   {
    "_defaultOrder": 43,
    "_isFastLaunch": false,
    "category": "Memory Optimized",
    "gpuNum": 0,
    "hideHardwareSpecs": false,
    "memoryGiB": 256,
    "name": "ml.r5.8xlarge",
    "vcpuNum": 32
   },
   {
    "_defaultOrder": 44,
    "_isFastLaunch": false,
    "category": "Memory Optimized",
    "gpuNum": 0,
    "hideHardwareSpecs": false,
    "memoryGiB": 384,
    "name": "ml.r5.12xlarge",
    "vcpuNum": 48
   },
   {
    "_defaultOrder": 45,
    "_isFastLaunch": false,
    "category": "Memory Optimized",
    "gpuNum": 0,
    "hideHardwareSpecs": false,
    "memoryGiB": 512,
    "name": "ml.r5.16xlarge",
    "vcpuNum": 64
   },
   {
    "_defaultOrder": 46,
    "_isFastLaunch": false,
    "category": "Memory Optimized",
    "gpuNum": 0,
    "hideHardwareSpecs": false,
    "memoryGiB": 768,
    "name": "ml.r5.24xlarge",
    "vcpuNum": 96
   },
   {
    "_defaultOrder": 47,
    "_isFastLaunch": false,
    "category": "Accelerated computing",
    "gpuNum": 1,
    "hideHardwareSpecs": false,
    "memoryGiB": 16,
    "name": "ml.g5.xlarge",
    "vcpuNum": 4
   },
   {
    "_defaultOrder": 48,
    "_isFastLaunch": false,
    "category": "Accelerated computing",
    "gpuNum": 1,
    "hideHardwareSpecs": false,
    "memoryGiB": 32,
    "name": "ml.g5.2xlarge",
    "vcpuNum": 8
   },
   {
    "_defaultOrder": 49,
    "_isFastLaunch": false,
    "category": "Accelerated computing",
    "gpuNum": 1,
    "hideHardwareSpecs": false,
    "memoryGiB": 64,
    "name": "ml.g5.4xlarge",
    "vcpuNum": 16
   },
   {
    "_defaultOrder": 50,
    "_isFastLaunch": false,
    "category": "Accelerated computing",
    "gpuNum": 1,
    "hideHardwareSpecs": false,
    "memoryGiB": 128,
    "name": "ml.g5.8xlarge",
    "vcpuNum": 32
   },
   {
    "_defaultOrder": 51,
    "_isFastLaunch": false,
    "category": "Accelerated computing",
    "gpuNum": 1,
    "hideHardwareSpecs": false,
    "memoryGiB": 256,
    "name": "ml.g5.16xlarge",
    "vcpuNum": 64
   },
   {
    "_defaultOrder": 52,
    "_isFastLaunch": false,
    "category": "Accelerated computing",
    "gpuNum": 4,
    "hideHardwareSpecs": false,
    "memoryGiB": 192,
    "name": "ml.g5.12xlarge",
    "vcpuNum": 48
   },
   {
    "_defaultOrder": 53,
    "_isFastLaunch": false,
    "category": "Accelerated computing",
    "gpuNum": 4,
    "hideHardwareSpecs": false,
    "memoryGiB": 384,
    "name": "ml.g5.24xlarge",
    "vcpuNum": 96
   },
   {
    "_defaultOrder": 54,
    "_isFastLaunch": false,
    "category": "Accelerated computing",
    "gpuNum": 8,
    "hideHardwareSpecs": false,
    "memoryGiB": 768,
    "name": "ml.g5.48xlarge",
    "vcpuNum": 192
   },
   {
    "_defaultOrder": 55,
    "_isFastLaunch": false,
    "category": "Accelerated computing",
    "gpuNum": 8,
    "hideHardwareSpecs": false,
    "memoryGiB": 1152,
    "name": "ml.p4d.24xlarge",
    "vcpuNum": 96
   },
   {
    "_defaultOrder": 56,
    "_isFastLaunch": false,
    "category": "Accelerated computing",
    "gpuNum": 8,
    "hideHardwareSpecs": false,
    "memoryGiB": 1152,
    "name": "ml.p4de.24xlarge",
    "vcpuNum": 96
   },
   {
    "_defaultOrder": 57,
    "_isFastLaunch": false,
    "category": "Accelerated computing",
    "gpuNum": 0,
    "hideHardwareSpecs": false,
    "memoryGiB": 32,
    "name": "ml.trn1.2xlarge",
    "vcpuNum": 8
   },
   {
    "_defaultOrder": 58,
    "_isFastLaunch": false,
    "category": "Accelerated computing",
    "gpuNum": 0,
    "hideHardwareSpecs": false,
    "memoryGiB": 512,
    "name": "ml.trn1.32xlarge",
    "vcpuNum": 128
   },
   {
    "_defaultOrder": 59,
    "_isFastLaunch": false,
    "category": "Accelerated computing",
    "gpuNum": 0,
    "hideHardwareSpecs": false,
    "memoryGiB": 512,
    "name": "ml.trn1n.32xlarge",
    "vcpuNum": 128
   }
  ],
  "instance_type": "ml.t3.medium",
  "kernelspec": {
   "display_name": "Python 3 (Data Science 2.0)",
   "language": "python",
   "name": "python3__SAGEMAKER_INTERNAL__arn:aws:sagemaker:us-east-1:081325390199:image/sagemaker-data-science-38"
  },
  "language_info": {
   "codemirror_mode": {
    "name": "ipython",
    "version": 3
   },
   "file_extension": ".py",
   "mimetype": "text/x-python",
   "name": "python",
   "nbconvert_exporter": "python",
   "pygments_lexer": "ipython3",
   "version": "3.8.13"
  }
 },
 "nbformat": 4,
 "nbformat_minor": 5
}
